{
 "cells": [
  {
   "cell_type": "markdown",
   "metadata": {},
   "source": [
    "# Import"
   ]
  },
  {
   "cell_type": "code",
   "execution_count": 1,
   "metadata": {},
   "outputs": [],
   "source": [
    "import torch\n",
    "from torch import nn\n",
    "from torch.optim.lr_scheduler import ReduceLROnPlateau, MultiStepLR\n",
    "from torch.utils.data import DataLoader\n",
    "from fvcore.nn import FlopCountAnalysis, flop_count_table\n",
    "import numpy as np\n",
    "import matplotlib.pyplot as plt\n",
    "import os\n",
    "\n",
    "####################################################\n",
    "from src.Mydataloader import LoadDataset\n",
    "from src.Mymodel import MyResNet34\n",
    "from src.Mymodel import MyResNet_CIFAR\n",
    "from src.Mytraining import DoTraining\n",
    "from src.Earlystopper import EarlyStopper\n",
    "from src.LogViewer import LogViewer"
   ]
  },
  {
   "cell_type": "markdown",
   "metadata": {},
   "source": [
    "# Setup"
   ]
  },
  {
   "cell_type": "code",
   "execution_count": 2,
   "metadata": {},
   "outputs": [],
   "source": [
    "\"\"\"Dataset selection\"\"\"\n",
    "DATASET = \"CIFAR10\"\n",
    "# DATASET = \"CIFAR100\"\n",
    "# DATASET = \"ImageNet2012\"\n",
    "\n",
    "\"\"\"Model selection for CIFAR\"\"\"\n",
    "NUM_LAYERS_LEVEL = 5\n",
    "\n",
    "\"\"\"Dataset parameters\"\"\"\n",
    "BATCH = 128\n",
    "SHUFFLE = True\n",
    "NUMOFWORKERS = 8\n",
    "PIN_MEMORY = True\n",
    "SPLIT_RATIO = 0.9\n",
    "\n",
    "\"\"\"optimizer parameters\"\"\"\n",
    "OPTIMIZER = \"SGD\"\n",
    "# OPTIMIZER = \"Adam\"\n",
    "# OPTIMIZER = \"Adam_decay\"\n",
    "\n",
    "\"\"\"Learning rate scheduler parameters\"\"\"\n",
    "# LOAD_BEFORE_TRAINING = False\n",
    "LOAD_BEFORE_TRAINING = True\n",
    "NUM_EPOCHS = 500\n",
    "# scheduler_patience_mapping = {\"CIFAR10\": 200, \"CIFAR100\": 200, \"ImageNet2012\": 30}\n",
    "\n",
    "\"\"\"Early stopping parameters\"\"\"\n",
    "EARLYSTOPPINGPATIENCE = 90\n",
    "file_path = \"\"\n",
    "if DATASET == \"ImageNet2012\":\n",
    "    file_path = f\"{DATASET}/MyResNet34_{BATCH}_{OPTIMIZER}\"\n",
    "else:\n",
    "    file_path = f\"{DATASET}/MyResNet{NUM_LAYERS_LEVEL*6+2}_{BATCH}_{OPTIMIZER}\"\n",
    "\n",
    "if SPLIT_RATIO != 0:\n",
    "    file_path += f\"_{int(SPLIT_RATIO*100)}\""
   ]
  },
  {
   "cell_type": "code",
   "execution_count": 3,
   "metadata": {},
   "outputs": [
    {
     "data": {
      "text/plain": [
       "'CIFAR10/MyResNet32_128_SGD_90'"
      ]
     },
     "execution_count": 3,
     "metadata": {},
     "output_type": "execute_result"
    }
   ],
   "source": [
    "file_path"
   ]
  },
  {
   "cell_type": "markdown",
   "metadata": {},
   "source": [
    "# Loading the dataset"
   ]
  },
  {
   "cell_type": "markdown",
   "metadata": {},
   "source": [
    "## Define Dateloader"
   ]
  },
  {
   "cell_type": "code",
   "execution_count": 4,
   "metadata": {},
   "outputs": [
    {
     "name": "stderr",
     "output_type": "stream",
     "text": [
      "/home/lee/anaconda3/lib/python3.11/site-packages/torchvision/transforms/v2/_deprecated.py:43: UserWarning: The transform `ToTensor()` is deprecated and will be removed in a future release. Instead, please use `v2.Compose([v2.ToImage(), v2.ToDtype(torch.float32, scale=True)])`.\n",
      "  warnings.warn(\n"
     ]
    },
    {
     "name": "stdout",
     "output_type": "stream",
     "text": [
      "-----------------------------------------------------------------------\n",
      "Dataset :  CIFAR10\n",
      "- Length of Train Set :  45000\n",
      "- Length of Valid Set :  5000\n",
      "- Length of Test Set :  10000\n",
      "- Count of Classes :  10\n",
      "-----------------------------------------------------------------------\n"
     ]
    }
   ],
   "source": [
    "tmp = LoadDataset(root=\"data\", seceted_dataset=DATASET, split_ratio=SPLIT_RATIO)\n",
    "train_data, valid_data, test_data, COUNT_OF_CLASSES = tmp.Unpack()"
   ]
  },
  {
   "cell_type": "code",
   "execution_count": 5,
   "metadata": {},
   "outputs": [
    {
     "name": "stdout",
     "output_type": "stream",
     "text": [
      "train.transforms = Compose(\n",
      "      ToTensor()\n",
      "      Normalize(mean=[0.49139968, 0.48215827, 0.44653124], std=[1, 1, 1], inplace=True)\n",
      "      AutoAugment(interpolation=InterpolationMode.NEAREST, policy=AutoAugmentPolicy.CIFAR10)\n",
      "      RandomCrop(size=(32, 32), padding=[4, 4, 4, 4], pad_if_needed=False, fill=0, padding_mode=constant)\n",
      "      RandomHorizontalFlip(p=0.5)\n",
      ") 128\n",
      "valid.transforms = ToTensor() 128\n",
      "test.transforms = ToTensor() 128\n"
     ]
    }
   ],
   "source": [
    "\n",
    "train_dataloader = DataLoader(\n",
    "    train_data,\n",
    "    batch_size=BATCH,\n",
    "    shuffle=SHUFFLE,\n",
    "    num_workers=NUMOFWORKERS,\n",
    "    pin_memory=PIN_MEMORY,\n",
    "    # pin_memory_device=\"cuda\",\n",
    "    persistent_workers=True,\n",
    ")\n",
    "print(\"train.transforms =\", train_data.transform, train_dataloader.batch_size)\n",
    "\n",
    "if valid_data is not None:\n",
    "    valid_dataloader = DataLoader(\n",
    "        valid_data,\n",
    "        batch_size=BATCH,\n",
    "        shuffle=SHUFFLE,\n",
    "        num_workers=NUMOFWORKERS,\n",
    "        pin_memory=PIN_MEMORY,\n",
    "        # pin_memory_device=\"cuda\",\n",
    "        persistent_workers=True,\n",
    "    )\n",
    "    print(\"valid.transforms =\", valid_data.transform, valid_dataloader.batch_size)\n",
    "else:\n",
    "    valid_dataloader = None\n",
    "\n",
    "if test_data is not None:\n",
    "    test_dataloader = DataLoader(\n",
    "        test_data,\n",
    "        batch_size=BATCH,\n",
    "        shuffle=SHUFFLE,\n",
    "        num_workers=NUMOFWORKERS,\n",
    "        pin_memory=PIN_MEMORY,\n",
    "        # pin_memory_device=\"cuda\",\n",
    "        persistent_workers=True,\n",
    "    )\n",
    "    print(\"test.transforms =\", test_data.transform, test_dataloader.batch_size)\n",
    "else:\n",
    "    test_dataloader = None"
   ]
  },
  {
   "cell_type": "markdown",
   "metadata": {},
   "source": [
    "## Confirm that the dataset is loaded properly"
   ]
  },
  {
   "cell_type": "code",
   "execution_count": 6,
   "metadata": {},
   "outputs": [
    {
     "name": "stdout",
     "output_type": "stream",
     "text": [
      "Shape of X [N, C, H, W]: torch.Size([128, 3, 32, 32])\n",
      "mean of X tensor([0.4892, 0.4803, 0.4392])\n",
      "Shape of y: torch.Size([128]) torch.int64\n"
     ]
    },
    {
     "data": {
      "image/png": "[encoded data removed]",
      "text/plain": [
       "<Figure size 800x400 with 10 Axes>"
      ]
     },
     "metadata": {},
     "output_type": "display_data"
    }
   ],
   "source": [
    "if test_data is not None:\n",
    "    for X, y in test_dataloader:\n",
    "        print(f\"Shape of X [N, C, H, W]: {X.shape}\")\n",
    "        print(\"mean of X\", X.mean(dim=(0, 2, 3)))\n",
    "        print(f\"Shape of y: {y.shape} {y.dtype}\")\n",
    "        break\n",
    "    \n",
    "    class_names = test_dataloader.dataset.classes\n",
    "    count = 0\n",
    "    fig, axs = plt.subplots(2, 5, figsize=(8, 4))\n",
    "\n",
    "    for images, labels in test_dataloader:\n",
    "        images = images.numpy()\n",
    "\n",
    "        for i in range(len(images)):\n",
    "            image = images[i]\n",
    "            label = labels[i]\n",
    "            image = np.transpose(image, (1, 2, 0))\n",
    "            image = np.clip(image, 0, 1)\n",
    "            ax = axs[count // 5, count % 5]\n",
    "            ax.imshow(image)\n",
    "            ax.set_title(f\"{class_names[label], label}\")\n",
    "            ax.axis(\"off\")\n",
    "            count += 1\n",
    "\n",
    "            if count == 10:\n",
    "                break\n",
    "        if count == 10:\n",
    "            break\n",
    "    plt.tight_layout()\n",
    "    plt.show()"
   ]
  },
  {
   "cell_type": "markdown",
   "metadata": {},
   "source": [
    "# Define ResNet"
   ]
  },
  {
   "cell_type": "markdown",
   "metadata": {},
   "source": [
    "## Model Confirm"
   ]
  },
  {
   "cell_type": "code",
   "execution_count": 7,
   "metadata": {},
   "outputs": [
    {
     "data": {
      "text/plain": [
       "device(type='cuda')"
      ]
     },
     "execution_count": 7,
     "metadata": {},
     "output_type": "execute_result"
    }
   ],
   "source": [
    "device = torch.device(\"cuda\" if torch.cuda.is_available() else \"cpu\")\n",
    "device"
   ]
  },
  {
   "cell_type": "code",
   "execution_count": 8,
   "metadata": {},
   "outputs": [
    {
     "name": "stdout",
     "output_type": "stream",
     "text": [
      "ResNet-32 for CIFAR10 is loaded.\n"
     ]
    }
   ],
   "source": [
    "if DATASET == \"CIFAR10\" or DATASET == \"CIFAR100\":\n",
    "    \"\"\"ResNet{20, 32, 44, 56, 110, 1202} for CIFAR\"\"\"\n",
    "    model = MyResNet_CIFAR(\n",
    "        num_classes=COUNT_OF_CLASSES,\n",
    "        num_layer_factor=NUM_LAYERS_LEVEL,\n",
    "        Downsample_option=\"A\",\n",
    "    ).to(device)\n",
    "    print(f\"ResNet-{5*6+2} for {DATASET} is loaded.\")\n",
    "\n",
    "elif DATASET == \"ImageNet2012\":\n",
    "    \"\"\"ResNet34 for ImageNet 2012\"\"\"\n",
    "    model = MyResNet34(\n",
    "        num_classes=COUNT_OF_CLASSES, \n",
    "        Downsample_option=\"A\"\n",
    "    ).to(device)\n",
    "    # model = models.resnet34(pretrained=True).to(device)\n",
    "    # model = models.resnet34(pretrained=False).to(device)\n",
    "    print(f\"ResNet-34 for {DATASET} is loaded.\")\n"
   ]
  },
  {
   "cell_type": "code",
   "execution_count": 9,
   "metadata": {},
   "outputs": [],
   "source": [
    "# model.named_modules"
   ]
  },
  {
   "cell_type": "code",
   "execution_count": 10,
   "metadata": {},
   "outputs": [],
   "source": [
    "# tmp_input = torch.rand(BATCH, 3, 32, 32).to(device)\n",
    "# flops = FlopCountAnalysis(model, tmp_input)\n",
    "# print(flop_count_table(flops))"
   ]
  },
  {
   "cell_type": "markdown",
   "metadata": {},
   "source": [
    "# Define Training"
   ]
  },
  {
   "cell_type": "markdown",
   "metadata": {},
   "source": [
    "## (1) Define Criterion"
   ]
  },
  {
   "cell_type": "code",
   "execution_count": 11,
   "metadata": {},
   "outputs": [],
   "source": [
    "criterion = nn.CrossEntropyLoss()"
   ]
  },
  {
   "cell_type": "markdown",
   "metadata": {},
   "source": [
    "## (2) Define Optimazer"
   ]
  },
  {
   "cell_type": "code",
   "execution_count": 12,
   "metadata": {},
   "outputs": [],
   "source": [
    "if OPTIMIZER == \"Adam\":\n",
    "    optimizer = torch.optim.Adam(model.parameters())\n",
    "elif OPTIMIZER == \"Adam_decay\":\n",
    "    optimizer = torch.optim.Adam(model.parameters(), weight_decay=1e-4)\n",
    "elif OPTIMIZER == \"SGD\":\n",
    "    optimizer = torch.optim.SGD(\n",
    "        model.parameters(), lr=0.1, momentum=0.9, weight_decay=0.0001\n",
    "    )"
   ]
  },
  {
   "cell_type": "markdown",
   "metadata": {},
   "source": [
    "## (3) Define Early Stopping"
   ]
  },
  {
   "cell_type": "code",
   "execution_count": 13,
   "metadata": {},
   "outputs": [],
   "source": [
    "earlystopper = EarlyStopper(patience=EARLYSTOPPINGPATIENCE, model=model, file_path=file_path)"
   ]
  },
  {
   "cell_type": "markdown",
   "metadata": {},
   "source": [
    "## (4) Define Learning Rate schedualer"
   ]
  },
  {
   "cell_type": "code",
   "execution_count": 14,
   "metadata": {},
   "outputs": [
    {
     "data": {
      "text/plain": [
       "'\\n=======================================================\\nif batch = 256\\n=======================================================\\nnon-split [single epoch = 196 iter] : milestones = [164, 246]\\n- 1 ~ 164 epochs == 1 ~ 32k iter >> lr = 0.1\\n- 165~246 epochs == 32k ~ 48k iter >> lr = 0.01\\n- 247~328(?) epochs == 48k ~ 64k iter >> lr = 0.001\\n=======================================================\\nsplit to 45k/5k [single epoch = 176 iter]: milestones = [182, 273]\\n- 1~182 epochs == 1 ~ 32k iter >> lr = 0.1\\n- 182~273 epochs == 32k ~ 48k iter >> lr = 0.01\\n- 273~364(?) epochs == 48k ~ 64k iter >> lr = 0.001\\n=======================================================\\nif batch = 128\\n=======================================================\\nnon-split [signle epoch = 391 iter]: milestones = [82, 123]\\n- 1 ~ 82 epochs == 1 ~ 32k iter >> lr = 0.1\\n- 83~123 epochs == 32k ~ 48k iter >> lr = 0.01\\n- 124~(164) epochs == 48k ~ 64k iter >> lr = 0.001\\n=======================================================\\nsplit to 45k/5k [signle epoch = 352 iter]: milestones = [91, 137]\\n- 1~91 epochs == 1 ~ 32k iter >> lr = 0.1\\n- 92~137 epochs == 32k ~ 48k iter >> lr = 0.01\\n- 138~(183) epochs == 48k ~ 64k iter >> lr = 0.001\\n=======================================================\\n'"
      ]
     },
     "execution_count": 14,
     "metadata": {},
     "output_type": "execute_result"
    }
   ],
   "source": [
    "# scheduler = ReduceLROnPlateau(\n",
    "#     optimizer,\n",
    "#     mode=\"min\",\n",
    "#     patience=scheduler_patience_mapping[DATASET],\n",
    "#     factor=0.1,\n",
    "#     verbose=True,\n",
    "#     threshold=1e-4,\n",
    "#     cooldown=100,\n",
    "# )\n",
    "\n",
    "scheduler = MultiStepLR(optimizer, milestones=[91, 137], gamma=0.1)\n",
    "#\n",
    "\"\"\"\n",
    "=======================================================\n",
    "if batch = 256\n",
    "=======================================================\n",
    "non-split [single epoch = 196 iter] : milestones = [164, 246]\n",
    "- 1 ~ 164 epochs == 1 ~ 32k iter >> lr = 0.1\n",
    "- 165~246 epochs == 32k ~ 48k iter >> lr = 0.01\n",
    "- 247~328(?) epochs == 48k ~ 64k iter >> lr = 0.001\n",
    "=======================================================\n",
    "split to 45k/5k [single epoch = 176 iter]: milestones = [182, 273]\n",
    "- 1~182 epochs == 1 ~ 32k iter >> lr = 0.1\n",
    "- 182~273 epochs == 32k ~ 48k iter >> lr = 0.01\n",
    "- 273~364(?) epochs == 48k ~ 64k iter >> lr = 0.001\n",
    "=======================================================\n",
    "if batch = 128\n",
    "=======================================================\n",
    "non-split [signle epoch = 391 iter]: milestones = [82, 123]\n",
    "- 1 ~ 82 epochs == 1 ~ 32k iter >> lr = 0.1\n",
    "- 83~123 epochs == 32k ~ 48k iter >> lr = 0.01\n",
    "- 124~(164) epochs == 48k ~ 64k iter >> lr = 0.001\n",
    "=======================================================\n",
    "split to 45k/5k [signle epoch = 352 iter]: milestones = [91, 137]\n",
    "- 1~91 epochs == 1 ~ 32k iter >> lr = 0.1\n",
    "- 92~137 epochs == 32k ~ 48k iter >> lr = 0.01\n",
    "- 138~(183) epochs == 48k ~ 64k iter >> lr = 0.001\n",
    "=======================================================\n",
    "\"\"\""
   ]
  },
  {
   "cell_type": "markdown",
   "metadata": {},
   "source": [
    "## (5) Define AMP scaler"
   ]
  },
  {
   "cell_type": "code",
   "execution_count": 15,
   "metadata": {},
   "outputs": [],
   "source": [
    "scaler = torch.cuda.amp.GradScaler(enabled=True)"
   ]
  },
  {
   "cell_type": "markdown",
   "metadata": {},
   "source": [
    "## Load before process"
   ]
  },
  {
   "cell_type": "code",
   "execution_count": 16,
   "metadata": {},
   "outputs": [
    {
     "name": "stdout",
     "output_type": "stream",
     "text": [
      "File does not exist. Created a new log.\n"
     ]
    }
   ],
   "source": [
    "scaler = torch.cuda.amp.GradScaler(enabled=True)\n",
    "\n",
    "if LOAD_BEFORE_TRAINING == True and os.path.exists(\"logs/\" + file_path + \".pth.tar\"):\n",
    "    # Read checkpoint as desired, e.g.,\n",
    "    checkpoint = torch.load(\n",
    "        \"logs/\" + file_path + \".pth.tar\",\n",
    "        map_location=lambda storage, loc: storage.cuda(device),\n",
    "    )\n",
    "    model.load_state_dict(checkpoint[\"model\"])\n",
    "    optimizer.load_state_dict(checkpoint[\"optimizer\"])\n",
    "    scaler.load_state_dict(checkpoint[\"scaler\"])\n",
    "    scheduler.load_state_dict(checkpoint[\"scheduler\"])\n",
    "    earlystopper.load_state_dict(checkpoint[\"earlystopper\"])\n",
    "    logs = checkpoint[\"logs\"]\n",
    "\n",
    "    print(\"Suceessfully loaded the All setting and Log file.\")\n",
    "    print(file_path)\n",
    "    print(f\"Current epoch is {len(logs['train_loss'])}\")\n",
    "    print(f\"Current learning rate: {optimizer.param_groups[0]['lr']}\")\n",
    "else:\n",
    "    # Create a dictionary to store the variables\n",
    "    train_loss = []\n",
    "    train_acc = []\n",
    "    eval_loss = []\n",
    "    valid_acc = []\n",
    "    test_loss = []\n",
    "    test_acc = []\n",
    "    lr_log = []\n",
    "    logs = {\n",
    "        \"train_loss\": train_loss,\n",
    "        \"train_acc\": train_acc,\n",
    "        \"valid_loss\": eval_loss,\n",
    "        \"valid_acc\": valid_acc,\n",
    "        \"test_loss\": test_loss,\n",
    "        \"test_acc\": test_acc,\n",
    "        \"lr_log\": lr_log,\n",
    "    }\n",
    "    print(\"File does not exist. Created a new log.\")"
   ]
  },
  {
   "cell_type": "code",
   "execution_count": 17,
   "metadata": {},
   "outputs": [
    {
     "data": {
      "text/plain": [
       "0.1"
      ]
     },
     "execution_count": 17,
     "metadata": {},
     "output_type": "execute_result"
    }
   ],
   "source": [
    "optimizer.param_groups[0][\"lr\"]"
   ]
  },
  {
   "cell_type": "markdown",
   "metadata": {},
   "source": [
    "# [Training Loop]"
   ]
  },
  {
   "cell_type": "code",
   "execution_count": 18,
   "metadata": {},
   "outputs": [],
   "source": [
    "if valid_data is None:\n",
    "    valid_dataloader = None\n",
    "if test_data is None:\n",
    "    test_dataloader = None"
   ]
  },
  {
   "cell_type": "code",
   "execution_count": 19,
   "metadata": {},
   "outputs": [
    {
     "name": "stdout",
     "output_type": "stream",
     "text": [
      "[Epoch 1/500] :\n"
     ]
    },
    {
     "name": "stderr",
     "output_type": "stream",
     "text": [
      "100%|██████████| 352/352 [00:24<00:00, 14.58it/s]"
     ]
    },
    {
     "name": "stdout",
     "output_type": "stream",
     "text": [
      "Train Loss: 0.0065 | Train Acc: 12.50%\n"
     ]
    },
    {
     "name": "stderr",
     "output_type": "stream",
     "text": [
      "\n"
     ]
    },
    {
     "name": "stdout",
     "output_type": "stream",
     "text": [
      "Valid Loss: 2.3080 | Valid Acc: 9.64%\n",
      "Test  Loss: 2.3040 | Test Acc: 10.23%\n",
      "updated best eval loss : 2.308036357164383\n",
      "--------------------------------------------------\n",
      "[Epoch 2/500] :\n"
     ]
    },
    {
     "name": "stderr",
     "output_type": "stream",
     "text": [
      "100%|██████████| 352/352 [00:22<00:00, 15.96it/s]\n"
     ]
    },
    {
     "name": "stdout",
     "output_type": "stream",
     "text": [
      "Train Loss: 0.0064 | Train Acc: 18.06%\n",
      "Valid Loss: 2.2993 | Valid Acc: 10.86%\n",
      "Test  Loss: 2.2848 | Test Acc: 12.16%\n",
      "updated best eval loss : 2.2993336617946625\n",
      "--------------------------------------------------\n",
      "[Epoch 3/500] :\n"
     ]
    },
    {
     "name": "stderr",
     "output_type": "stream",
     "text": [
      "100%|██████████| 352/352 [00:21<00:00, 16.64it/s]\n"
     ]
    },
    {
     "name": "stdout",
     "output_type": "stream",
     "text": [
      "Train Loss: 0.0063 | Train Acc: 20.83%\n",
      "Valid Loss: 2.2177 | Valid Acc: 14.88%\n",
      "Test  Loss: 2.2252 | Test Acc: 14.17%\n",
      "updated best eval loss : 2.217658442258835\n",
      "--------------------------------------------------\n",
      "[Epoch 4/500] :\n"
     ]
    },
    {
     "name": "stderr",
     "output_type": "stream",
     "text": [
      "100%|██████████| 352/352 [00:21<00:00, 16.14it/s]\n"
     ]
    },
    {
     "name": "stdout",
     "output_type": "stream",
     "text": [
      "Train Loss: 0.0058 | Train Acc: 31.94%\n",
      "Valid Loss: 1.9710 | Valid Acc: 26.22%\n",
      "Test  Loss: 1.8125 | Test Acc: 31.50%\n",
      "updated best eval loss : 1.9709621042013168\n",
      "--------------------------------------------------\n",
      "[Epoch 5/500] :\n"
     ]
    },
    {
     "name": "stderr",
     "output_type": "stream",
     "text": [
      "100%|██████████| 352/352 [00:21<00:00, 16.62it/s]\n"
     ]
    },
    {
     "name": "stdout",
     "output_type": "stream",
     "text": [
      "Train Loss: 0.0051 | Train Acc: 34.72%\n",
      "Valid Loss: 1.8106 | Valid Acc: 33.32%\n",
      "Test  Loss: 1.5028 | Test Acc: 43.66%\n",
      "updated best eval loss : 1.8105671286582947\n",
      "--------------------------------------------------\n",
      "[Epoch 6/500] :\n"
     ]
    },
    {
     "name": "stderr",
     "output_type": "stream",
     "text": [
      "100%|██████████| 352/352 [00:21<00:00, 16.09it/s]\n"
     ]
    },
    {
     "name": "stdout",
     "output_type": "stream",
     "text": [
      "Train Loss: 0.0043 | Train Acc: 48.61%\n",
      "Valid Loss: 1.6970 | Valid Acc: 39.30%\n",
      "Test  Loss: 1.4453 | Test Acc: 48.37%\n",
      "updated best eval loss : 1.6969672471284867\n",
      "--------------------------------------------------\n",
      "[Epoch 7/500] :\n"
     ]
    },
    {
     "name": "stderr",
     "output_type": "stream",
     "text": [
      "100%|██████████| 352/352 [00:22<00:00, 15.71it/s]\n"
     ]
    },
    {
     "name": "stdout",
     "output_type": "stream",
     "text": [
      "Train Loss: 0.0047 | Train Acc: 41.67%\n",
      "Valid Loss: 1.4518 | Valid Acc: 48.78%\n",
      "Test  Loss: 1.1659 | Test Acc: 58.63%\n",
      "updated best eval loss : 1.451777419447899\n",
      "--------------------------------------------------\n",
      "[Epoch 8/500] :\n"
     ]
    },
    {
     "name": "stderr",
     "output_type": "stream",
     "text": [
      "100%|██████████| 352/352 [00:21<00:00, 16.49it/s]\n"
     ]
    },
    {
     "name": "stdout",
     "output_type": "stream",
     "text": [
      "Train Loss: 0.0038 | Train Acc: 50.00%\n",
      "Valid Loss: 1.3869 | Valid Acc: 51.08%\n",
      "Test  Loss: 1.1229 | Test Acc: 60.24%\n",
      "updated best eval loss : 1.3869036078453063\n",
      "--------------------------------------------------\n",
      "[Epoch 9/500] :\n"
     ]
    },
    {
     "name": "stderr",
     "output_type": "stream",
     "text": [
      "100%|██████████| 352/352 [00:21<00:00, 16.22it/s]\n"
     ]
    },
    {
     "name": "stdout",
     "output_type": "stream",
     "text": [
      "Train Loss: 0.0035 | Train Acc: 56.94%\n",
      "Valid Loss: 1.2909 | Valid Acc: 54.70%\n",
      "Test  Loss: 1.0647 | Test Acc: 63.48%\n",
      "updated best eval loss : 1.2908652007579804\n",
      "--------------------------------------------------\n",
      "[Epoch 10/500] :\n"
     ]
    },
    {
     "name": "stderr",
     "output_type": "stream",
     "text": [
      "100%|██████████| 352/352 [00:21<00:00, 16.65it/s]\n"
     ]
    },
    {
     "name": "stdout",
     "output_type": "stream",
     "text": [
      "Train Loss: 0.0032 | Train Acc: 58.33%\n",
      "Valid Loss: 1.2169 | Valid Acc: 56.94%\n",
      "Test  Loss: 0.9104 | Test Acc: 68.54%\n",
      "updated best eval loss : 1.2169173568487168\n",
      "--------------------------------------------------\n",
      "[Epoch 11/500] :\n"
     ]
    },
    {
     "name": "stderr",
     "output_type": "stream",
     "text": [
      "100%|██████████| 352/352 [00:21<00:00, 16.24it/s]\n"
     ]
    },
    {
     "name": "stdout",
     "output_type": "stream",
     "text": [
      "Train Loss: 0.0032 | Train Acc: 62.50%\n",
      "Valid Loss: 1.1477 | Valid Acc: 59.58%\n",
      "Test  Loss: 0.8850 | Test Acc: 69.78%\n",
      "updated best eval loss : 1.1476729944348336\n",
      "--------------------------------------------------\n",
      "[Epoch 12/500] :\n"
     ]
    },
    {
     "name": "stderr",
     "output_type": "stream",
     "text": [
      "100%|██████████| 352/352 [00:21<00:00, 16.30it/s]\n"
     ]
    },
    {
     "name": "stdout",
     "output_type": "stream",
     "text": [
      "Train Loss: 0.0028 | Train Acc: 61.11%\n",
      "Valid Loss: 1.2333 | Valid Acc: 58.42%\n",
      "Test  Loss: 1.1268 | Test Acc: 63.36%\n",
      "--------------------------------------------------\n",
      "[Epoch 13/500] :\n"
     ]
    },
    {
     "name": "stderr",
     "output_type": "stream",
     "text": [
      "100%|██████████| 352/352 [00:21<00:00, 16.55it/s]\n"
     ]
    },
    {
     "name": "stdout",
     "output_type": "stream",
     "text": [
      "Train Loss: 0.0027 | Train Acc: 68.06%\n",
      "Valid Loss: 1.0856 | Valid Acc: 61.84%\n",
      "Test  Loss: 0.8050 | Test Acc: 72.86%\n",
      "updated best eval loss : 1.085603043437004\n",
      "--------------------------------------------------\n",
      "[Epoch 14/500] :\n"
     ]
    },
    {
     "name": "stderr",
     "output_type": "stream",
     "text": [
      "100%|██████████| 352/352 [00:21<00:00, 16.24it/s]\n"
     ]
    },
    {
     "name": "stdout",
     "output_type": "stream",
     "text": [
      "Train Loss: 0.0027 | Train Acc: 70.83%\n",
      "Valid Loss: 1.0403 | Valid Acc: 63.08%\n",
      "Test  Loss: 0.8973 | Test Acc: 69.91%\n",
      "updated best eval loss : 1.0402764081954956\n",
      "--------------------------------------------------\n",
      "[Epoch 15/500] :\n"
     ]
    },
    {
     "name": "stderr",
     "output_type": "stream",
     "text": [
      "100%|██████████| 352/352 [00:21<00:00, 16.22it/s]\n"
     ]
    },
    {
     "name": "stdout",
     "output_type": "stream",
     "text": [
      "Train Loss: 0.0031 | Train Acc: 72.22%\n",
      "Valid Loss: 0.9330 | Valid Acc: 67.80%\n",
      "Test  Loss: 0.6869 | Test Acc: 75.82%\n",
      "updated best eval loss : 0.9330019935965538\n",
      "--------------------------------------------------\n",
      "[Epoch 16/500] :\n"
     ]
    },
    {
     "name": "stderr",
     "output_type": "stream",
     "text": [
      "100%|██████████| 352/352 [00:21<00:00, 16.17it/s]\n"
     ]
    },
    {
     "name": "stdout",
     "output_type": "stream",
     "text": [
      "Train Loss: 0.0027 | Train Acc: 69.44%\n",
      "Valid Loss: 0.9770 | Valid Acc: 66.32%\n",
      "Test  Loss: 0.7711 | Test Acc: 73.39%\n",
      "--------------------------------------------------\n",
      "[Epoch 17/500] :\n"
     ]
    },
    {
     "name": "stderr",
     "output_type": "stream",
     "text": [
      "100%|██████████| 352/352 [00:21<00:00, 16.13it/s]\n"
     ]
    },
    {
     "name": "stdout",
     "output_type": "stream",
     "text": [
      "Train Loss: 0.0028 | Train Acc: 61.11%\n",
      "Valid Loss: 0.9504 | Valid Acc: 66.32%\n",
      "Test  Loss: 0.7076 | Test Acc: 75.11%\n",
      "--------------------------------------------------\n",
      "[Epoch 18/500] :\n"
     ]
    },
    {
     "name": "stderr",
     "output_type": "stream",
     "text": [
      "100%|██████████| 352/352 [00:22<00:00, 15.96it/s]\n"
     ]
    },
    {
     "name": "stdout",
     "output_type": "stream",
     "text": [
      "Train Loss: 0.0023 | Train Acc: 72.22%\n",
      "Valid Loss: 0.9515 | Valid Acc: 66.54%\n",
      "Test  Loss: 0.6755 | Test Acc: 76.73%\n",
      "--------------------------------------------------\n",
      "[Epoch 19/500] :\n"
     ]
    },
    {
     "name": "stderr",
     "output_type": "stream",
     "text": [
      "100%|██████████| 352/352 [00:22<00:00, 15.56it/s]\n"
     ]
    },
    {
     "name": "stdout",
     "output_type": "stream",
     "text": [
      "Train Loss: 0.0022 | Train Acc: 73.61%\n",
      "Valid Loss: 1.0058 | Valid Acc: 65.10%\n",
      "Test  Loss: 0.7741 | Test Acc: 73.98%\n",
      "--------------------------------------------------\n",
      "[Epoch 20/500] :\n"
     ]
    },
    {
     "name": "stderr",
     "output_type": "stream",
     "text": [
      "100%|██████████| 352/352 [00:21<00:00, 16.28it/s]\n"
     ]
    },
    {
     "name": "stdout",
     "output_type": "stream",
     "text": [
      "Train Loss: 0.0024 | Train Acc: 68.06%\n",
      "Valid Loss: 0.8995 | Valid Acc: 68.30%\n",
      "Test  Loss: 0.6929 | Test Acc: 76.30%\n",
      "updated best eval loss : 0.8994986787438393\n",
      "--------------------------------------------------\n",
      "[Epoch 21/500] :\n"
     ]
    },
    {
     "name": "stderr",
     "output_type": "stream",
     "text": [
      "100%|██████████| 352/352 [00:22<00:00, 15.99it/s]\n"
     ]
    },
    {
     "name": "stdout",
     "output_type": "stream",
     "text": [
      "Train Loss: 0.0026 | Train Acc: 77.78%\n",
      "Valid Loss: 0.9406 | Valid Acc: 66.98%\n",
      "Test  Loss: 0.6768 | Test Acc: 76.74%\n",
      "--------------------------------------------------\n",
      "[Epoch 22/500] :\n"
     ]
    },
    {
     "name": "stderr",
     "output_type": "stream",
     "text": [
      "100%|██████████| 352/352 [00:21<00:00, 16.14it/s]\n"
     ]
    },
    {
     "name": "stdout",
     "output_type": "stream",
     "text": [
      "Train Loss: 0.0027 | Train Acc: 70.83%\n",
      "Valid Loss: 0.9960 | Valid Acc: 65.04%\n",
      "Test  Loss: 0.7072 | Test Acc: 75.52%\n",
      "--------------------------------------------------\n",
      "[Epoch 23/500] :\n"
     ]
    },
    {
     "name": "stderr",
     "output_type": "stream",
     "text": [
      "100%|██████████| 352/352 [00:22<00:00, 15.63it/s]\n"
     ]
    },
    {
     "name": "stdout",
     "output_type": "stream",
     "text": [
      "Train Loss: 0.0032 | Train Acc: 59.72%\n",
      "Valid Loss: 0.9412 | Valid Acc: 66.62%\n",
      "Test  Loss: 0.7018 | Test Acc: 75.87%\n",
      "--------------------------------------------------\n",
      "[Epoch 24/500] :\n"
     ]
    },
    {
     "name": "stderr",
     "output_type": "stream",
     "text": [
      "100%|██████████| 352/352 [00:21<00:00, 16.38it/s]\n"
     ]
    },
    {
     "name": "stdout",
     "output_type": "stream",
     "text": [
      "Train Loss: 0.0019 | Train Acc: 79.17%\n",
      "Valid Loss: 0.8629 | Valid Acc: 70.08%\n",
      "Test  Loss: 0.6001 | Test Acc: 79.40%\n",
      "updated best eval loss : 0.8629406541585922\n",
      "--------------------------------------------------\n",
      "[Epoch 25/500] :\n"
     ]
    },
    {
     "name": "stderr",
     "output_type": "stream",
     "text": [
      "100%|██████████| 352/352 [00:21<00:00, 16.46it/s]\n"
     ]
    },
    {
     "name": "stdout",
     "output_type": "stream",
     "text": [
      "Train Loss: 0.0023 | Train Acc: 76.39%\n",
      "Valid Loss: 0.8633 | Valid Acc: 69.42%\n",
      "Test  Loss: 0.6088 | Test Acc: 79.13%\n",
      "--------------------------------------------------\n",
      "[Epoch 26/500] :\n"
     ]
    },
    {
     "name": "stderr",
     "output_type": "stream",
     "text": [
      "100%|██████████| 352/352 [00:22<00:00, 15.78it/s]\n"
     ]
    },
    {
     "name": "stdout",
     "output_type": "stream",
     "text": [
      "Train Loss: 0.0027 | Train Acc: 73.61%\n",
      "Valid Loss: 0.8693 | Valid Acc: 70.40%\n",
      "Test  Loss: 0.5919 | Test Acc: 79.35%\n",
      "--------------------------------------------------\n",
      "[Epoch 27/500] :\n"
     ]
    },
    {
     "name": "stderr",
     "output_type": "stream",
     "text": [
      "100%|██████████| 352/352 [00:22<00:00, 15.47it/s]\n"
     ]
    },
    {
     "name": "stdout",
     "output_type": "stream",
     "text": [
      "Train Loss: 0.0024 | Train Acc: 70.83%\n",
      "Valid Loss: 0.8291 | Valid Acc: 71.42%\n",
      "Test  Loss: 0.5463 | Test Acc: 81.35%\n",
      "updated best eval loss : 0.8291158497333526\n",
      "--------------------------------------------------\n",
      "[Epoch 28/500] :\n"
     ]
    },
    {
     "name": "stderr",
     "output_type": "stream",
     "text": [
      "100%|██████████| 352/352 [00:22<00:00, 15.82it/s]\n"
     ]
    },
    {
     "name": "stdout",
     "output_type": "stream",
     "text": [
      "Train Loss: 0.0023 | Train Acc: 69.44%\n",
      "Valid Loss: 0.9920 | Valid Acc: 66.36%\n",
      "Test  Loss: 0.6836 | Test Acc: 77.85%\n",
      "--------------------------------------------------\n",
      "[Epoch 29/500] :\n"
     ]
    },
    {
     "name": "stderr",
     "output_type": "stream",
     "text": [
      "100%|██████████| 352/352 [00:21<00:00, 16.15it/s]\n"
     ]
    },
    {
     "name": "stdout",
     "output_type": "stream",
     "text": [
      "Train Loss: 0.0018 | Train Acc: 81.94%\n",
      "Valid Loss: 0.8095 | Valid Acc: 71.50%\n",
      "Test  Loss: 0.5680 | Test Acc: 80.65%\n",
      "updated best eval loss : 0.809475676715374\n",
      "--------------------------------------------------\n",
      "[Epoch 30/500] :\n"
     ]
    },
    {
     "name": "stderr",
     "output_type": "stream",
     "text": [
      "100%|██████████| 352/352 [00:22<00:00, 15.73it/s]\n"
     ]
    },
    {
     "name": "stdout",
     "output_type": "stream",
     "text": [
      "Train Loss: 0.0017 | Train Acc: 79.17%\n",
      "Valid Loss: 0.9776 | Valid Acc: 66.36%\n",
      "Test  Loss: 0.6977 | Test Acc: 77.16%\n",
      "--------------------------------------------------\n",
      "[Epoch 31/500] :\n"
     ]
    },
    {
     "name": "stderr",
     "output_type": "stream",
     "text": [
      "100%|██████████| 352/352 [00:21<00:00, 16.66it/s]\n"
     ]
    },
    {
     "name": "stdout",
     "output_type": "stream",
     "text": [
      "Train Loss: 0.0031 | Train Acc: 58.33%\n",
      "Valid Loss: 0.7971 | Valid Acc: 71.34%\n",
      "Test  Loss: 0.5316 | Test Acc: 81.32%\n",
      "updated best eval loss : 0.7971141695976257\n",
      "--------------------------------------------------\n",
      "[Epoch 32/500] :\n"
     ]
    },
    {
     "name": "stderr",
     "output_type": "stream",
     "text": [
      "100%|██████████| 352/352 [00:21<00:00, 16.08it/s]\n"
     ]
    },
    {
     "name": "stdout",
     "output_type": "stream",
     "text": [
      "Train Loss: 0.0019 | Train Acc: 77.78%\n",
      "Valid Loss: 0.8360 | Valid Acc: 72.46%\n",
      "Test  Loss: 0.5134 | Test Acc: 82.31%\n",
      "--------------------------------------------------\n",
      "[Epoch 33/500] :\n"
     ]
    },
    {
     "name": "stderr",
     "output_type": "stream",
     "text": [
      "100%|██████████| 352/352 [00:21<00:00, 16.57it/s]\n"
     ]
    },
    {
     "name": "stdout",
     "output_type": "stream",
     "text": [
      "Train Loss: 0.0022 | Train Acc: 69.44%\n",
      "Valid Loss: 0.8260 | Valid Acc: 71.40%\n",
      "Test  Loss: 0.5178 | Test Acc: 81.96%\n",
      "--------------------------------------------------\n",
      "[Epoch 34/500] :\n"
     ]
    },
    {
     "name": "stderr",
     "output_type": "stream",
     "text": [
      "100%|██████████| 352/352 [00:21<00:00, 16.31it/s]\n"
     ]
    },
    {
     "name": "stdout",
     "output_type": "stream",
     "text": [
      "Train Loss: 0.0019 | Train Acc: 77.78%\n",
      "Valid Loss: 0.8173 | Valid Acc: 71.86%\n",
      "Test  Loss: 0.5412 | Test Acc: 81.86%\n",
      "--------------------------------------------------\n",
      "[Epoch 35/500] :\n"
     ]
    },
    {
     "name": "stderr",
     "output_type": "stream",
     "text": [
      "100%|██████████| 352/352 [00:21<00:00, 16.19it/s]\n"
     ]
    },
    {
     "name": "stdout",
     "output_type": "stream",
     "text": [
      "Train Loss: 0.0020 | Train Acc: 75.00%\n",
      "Valid Loss: 0.7871 | Valid Acc: 72.22%\n",
      "Test  Loss: 0.4963 | Test Acc: 83.15%\n",
      "updated best eval loss : 0.7871091939508915\n",
      "--------------------------------------------------\n",
      "[Epoch 36/500] :\n"
     ]
    },
    {
     "name": "stderr",
     "output_type": "stream",
     "text": [
      "100%|██████████| 352/352 [00:22<00:00, 15.42it/s]\n"
     ]
    },
    {
     "name": "stdout",
     "output_type": "stream",
     "text": [
      "Train Loss: 0.0024 | Train Acc: 72.22%\n",
      "Valid Loss: 0.9093 | Valid Acc: 69.98%\n",
      "Test  Loss: 0.5785 | Test Acc: 81.04%\n",
      "--------------------------------------------------\n",
      "[Epoch 37/500] :\n"
     ]
    },
    {
     "name": "stderr",
     "output_type": "stream",
     "text": [
      "100%|██████████| 352/352 [00:22<00:00, 15.38it/s]\n"
     ]
    },
    {
     "name": "stdout",
     "output_type": "stream",
     "text": [
      "Train Loss: 0.0022 | Train Acc: 70.83%\n",
      "Valid Loss: 0.7985 | Valid Acc: 72.88%\n",
      "Test  Loss: 0.5366 | Test Acc: 81.91%\n",
      "--------------------------------------------------\n",
      "[Epoch 38/500] :\n"
     ]
    },
    {
     "name": "stderr",
     "output_type": "stream",
     "text": [
      "100%|██████████| 352/352 [00:22<00:00, 15.85it/s]\n"
     ]
    },
    {
     "name": "stdout",
     "output_type": "stream",
     "text": [
      "Train Loss: 0.0015 | Train Acc: 80.56%\n",
      "Valid Loss: 0.8401 | Valid Acc: 71.60%\n",
      "Test  Loss: 0.5404 | Test Acc: 81.88%\n",
      "--------------------------------------------------\n",
      "[Epoch 39/500] :\n"
     ]
    },
    {
     "name": "stderr",
     "output_type": "stream",
     "text": [
      "100%|██████████| 352/352 [00:21<00:00, 16.17it/s]\n"
     ]
    },
    {
     "name": "stdout",
     "output_type": "stream",
     "text": [
      "Train Loss: 0.0022 | Train Acc: 76.39%\n",
      "Valid Loss: 0.9004 | Valid Acc: 70.46%\n",
      "Test  Loss: 0.4882 | Test Acc: 83.28%\n",
      "--------------------------------------------------\n",
      "[Epoch 40/500] :\n"
     ]
    },
    {
     "name": "stderr",
     "output_type": "stream",
     "text": [
      "100%|██████████| 352/352 [00:21<00:00, 16.26it/s]\n"
     ]
    },
    {
     "name": "stdout",
     "output_type": "stream",
     "text": [
      "Train Loss: 0.0019 | Train Acc: 77.78%\n",
      "Valid Loss: 0.8901 | Valid Acc: 70.14%\n",
      "Test  Loss: 0.6692 | Test Acc: 78.03%\n",
      "--------------------------------------------------\n",
      "[Epoch 41/500] :\n"
     ]
    },
    {
     "name": "stderr",
     "output_type": "stream",
     "text": [
      "100%|██████████| 352/352 [00:21<00:00, 16.24it/s]\n"
     ]
    },
    {
     "name": "stdout",
     "output_type": "stream",
     "text": [
      "Train Loss: 0.0022 | Train Acc: 72.22%\n",
      "Valid Loss: 0.7544 | Valid Acc: 73.08%\n",
      "Test  Loss: 0.4901 | Test Acc: 83.45%\n",
      "updated best eval loss : 0.7543832443654537\n",
      "--------------------------------------------------\n",
      "[Epoch 42/500] :\n"
     ]
    },
    {
     "name": "stderr",
     "output_type": "stream",
     "text": [
      "100%|██████████| 352/352 [00:21<00:00, 16.23it/s]\n"
     ]
    },
    {
     "name": "stdout",
     "output_type": "stream",
     "text": [
      "Train Loss: 0.0014 | Train Acc: 80.56%\n",
      "Valid Loss: 0.8165 | Valid Acc: 71.86%\n",
      "Test  Loss: 0.5436 | Test Acc: 82.21%\n",
      "--------------------------------------------------\n",
      "[Epoch 43/500] :\n"
     ]
    },
    {
     "name": "stderr",
     "output_type": "stream",
     "text": [
      "100%|██████████| 352/352 [00:21<00:00, 16.06it/s]\n"
     ]
    },
    {
     "name": "stdout",
     "output_type": "stream",
     "text": [
      "Train Loss: 0.0017 | Train Acc: 81.94%\n",
      "Valid Loss: 0.8739 | Valid Acc: 69.84%\n",
      "Test  Loss: 0.5593 | Test Acc: 81.54%\n",
      "--------------------------------------------------\n",
      "[Epoch 44/500] :\n"
     ]
    },
    {
     "name": "stderr",
     "output_type": "stream",
     "text": [
      "100%|██████████| 352/352 [00:22<00:00, 15.95it/s]\n"
     ]
    },
    {
     "name": "stdout",
     "output_type": "stream",
     "text": [
      "Train Loss: 0.0021 | Train Acc: 72.22%\n",
      "Valid Loss: 0.7494 | Valid Acc: 73.66%\n",
      "Test  Loss: 0.5431 | Test Acc: 81.55%\n",
      "updated best eval loss : 0.7493753477931022\n",
      "--------------------------------------------------\n",
      "[Epoch 45/500] :\n"
     ]
    },
    {
     "name": "stderr",
     "output_type": "stream",
     "text": [
      "100%|██████████| 352/352 [00:21<00:00, 16.11it/s]\n"
     ]
    },
    {
     "name": "stdout",
     "output_type": "stream",
     "text": [
      "Train Loss: 0.0023 | Train Acc: 75.00%\n",
      "Valid Loss: 0.7419 | Valid Acc: 75.08%\n",
      "Test  Loss: 0.4898 | Test Acc: 83.28%\n",
      "updated best eval loss : 0.7418966963887215\n",
      "--------------------------------------------------\n",
      "[Epoch 46/500] :\n"
     ]
    },
    {
     "name": "stderr",
     "output_type": "stream",
     "text": [
      "100%|██████████| 352/352 [00:22<00:00, 15.86it/s]\n"
     ]
    },
    {
     "name": "stdout",
     "output_type": "stream",
     "text": [
      "Train Loss: 0.0024 | Train Acc: 69.44%\n",
      "Valid Loss: 0.8387 | Valid Acc: 72.12%\n",
      "Test  Loss: 0.6327 | Test Acc: 80.42%\n",
      "--------------------------------------------------\n",
      "[Epoch 47/500] :\n"
     ]
    },
    {
     "name": "stderr",
     "output_type": "stream",
     "text": [
      "100%|██████████| 352/352 [00:21<00:00, 16.08it/s]\n"
     ]
    },
    {
     "name": "stdout",
     "output_type": "stream",
     "text": [
      "Train Loss: 0.0019 | Train Acc: 75.00%\n",
      "Valid Loss: 0.9610 | Valid Acc: 67.88%\n",
      "Test  Loss: 0.6127 | Test Acc: 80.09%\n",
      "--------------------------------------------------\n",
      "[Epoch 48/500] :\n"
     ]
    },
    {
     "name": "stderr",
     "output_type": "stream",
     "text": [
      "100%|██████████| 352/352 [00:21<00:00, 16.51it/s]\n"
     ]
    },
    {
     "name": "stdout",
     "output_type": "stream",
     "text": [
      "Train Loss: 0.0017 | Train Acc: 83.33%\n",
      "Valid Loss: 0.8281 | Valid Acc: 72.24%\n",
      "Test  Loss: 0.4814 | Test Acc: 83.66%\n",
      "--------------------------------------------------\n",
      "[Epoch 49/500] :\n"
     ]
    },
    {
     "name": "stderr",
     "output_type": "stream",
     "text": [
      "100%|██████████| 352/352 [00:22<00:00, 15.94it/s]\n"
     ]
    },
    {
     "name": "stdout",
     "output_type": "stream",
     "text": [
      "Train Loss: 0.0018 | Train Acc: 73.61%\n",
      "Valid Loss: 0.8236 | Valid Acc: 72.08%\n",
      "Test  Loss: 0.5166 | Test Acc: 82.48%\n",
      "--------------------------------------------------\n",
      "[Epoch 50/500] :\n"
     ]
    },
    {
     "name": "stderr",
     "output_type": "stream",
     "text": [
      "100%|██████████| 352/352 [00:21<00:00, 16.16it/s]\n"
     ]
    },
    {
     "name": "stdout",
     "output_type": "stream",
     "text": [
      "Train Loss: 0.0018 | Train Acc: 76.39%\n",
      "Valid Loss: 0.7509 | Valid Acc: 74.20%\n",
      "Test  Loss: 0.5122 | Test Acc: 82.47%\n",
      "--------------------------------------------------\n",
      "[Epoch 51/500] :\n"
     ]
    },
    {
     "name": "stderr",
     "output_type": "stream",
     "text": [
      "100%|██████████| 352/352 [00:22<00:00, 15.77it/s]\n"
     ]
    },
    {
     "name": "stdout",
     "output_type": "stream",
     "text": [
      "Train Loss: 0.0019 | Train Acc: 76.39%\n",
      "Valid Loss: 0.7888 | Valid Acc: 72.56%\n",
      "Test  Loss: 0.5122 | Test Acc: 82.55%\n",
      "--------------------------------------------------\n",
      "[Epoch 52/500] :\n"
     ]
    },
    {
     "name": "stderr",
     "output_type": "stream",
     "text": [
      "100%|██████████| 352/352 [00:21<00:00, 16.54it/s]\n"
     ]
    },
    {
     "name": "stdout",
     "output_type": "stream",
     "text": [
      "Train Loss: 0.0010 | Train Acc: 91.67%\n",
      "Valid Loss: 0.7325 | Valid Acc: 74.92%\n",
      "Test  Loss: 0.4755 | Test Acc: 84.49%\n",
      "updated best eval loss : 0.7324774697422981\n",
      "--------------------------------------------------\n",
      "[Epoch 53/500] :\n"
     ]
    },
    {
     "name": "stderr",
     "output_type": "stream",
     "text": [
      "100%|██████████| 352/352 [00:22<00:00, 15.84it/s]\n"
     ]
    },
    {
     "name": "stdout",
     "output_type": "stream",
     "text": [
      "Train Loss: 0.0021 | Train Acc: 70.83%\n",
      "Valid Loss: 0.7319 | Valid Acc: 74.94%\n",
      "Test  Loss: 0.4533 | Test Acc: 84.62%\n",
      "updated best eval loss : 0.7319214075803757\n",
      "--------------------------------------------------\n",
      "[Epoch 54/500] :\n"
     ]
    },
    {
     "name": "stderr",
     "output_type": "stream",
     "text": [
      "100%|██████████| 352/352 [00:21<00:00, 16.21it/s]\n"
     ]
    },
    {
     "name": "stdout",
     "output_type": "stream",
     "text": [
      "Train Loss: 0.0024 | Train Acc: 69.44%\n",
      "Valid Loss: 0.7352 | Valid Acc: 74.38%\n",
      "Test  Loss: 0.4914 | Test Acc: 83.29%\n",
      "--------------------------------------------------\n",
      "[Epoch 55/500] :\n"
     ]
    },
    {
     "name": "stderr",
     "output_type": "stream",
     "text": [
      "100%|██████████| 352/352 [00:22<00:00, 15.98it/s]\n"
     ]
    },
    {
     "name": "stdout",
     "output_type": "stream",
     "text": [
      "Train Loss: 0.0019 | Train Acc: 77.78%\n",
      "Valid Loss: 0.7020 | Valid Acc: 76.38%\n",
      "Test  Loss: 0.4840 | Test Acc: 83.66%\n",
      "updated best eval loss : 0.701950703561306\n",
      "--------------------------------------------------\n",
      "[Epoch 56/500] :\n"
     ]
    },
    {
     "name": "stderr",
     "output_type": "stream",
     "text": [
      "100%|██████████| 352/352 [00:21<00:00, 16.04it/s]\n"
     ]
    },
    {
     "name": "stdout",
     "output_type": "stream",
     "text": [
      "Train Loss: 0.0022 | Train Acc: 75.00%\n",
      "Valid Loss: 0.8091 | Valid Acc: 72.48%\n",
      "Test  Loss: 0.5701 | Test Acc: 82.02%\n",
      "--------------------------------------------------\n",
      "[Epoch 57/500] :\n"
     ]
    },
    {
     "name": "stderr",
     "output_type": "stream",
     "text": [
      "100%|██████████| 352/352 [00:21<00:00, 16.38it/s]\n"
     ]
    },
    {
     "name": "stdout",
     "output_type": "stream",
     "text": [
      "Train Loss: 0.0018 | Train Acc: 79.17%\n",
      "Valid Loss: 0.8038 | Valid Acc: 74.58%\n",
      "Test  Loss: 0.4611 | Test Acc: 84.67%\n",
      "--------------------------------------------------\n",
      "[Epoch 58/500] :\n"
     ]
    },
    {
     "name": "stderr",
     "output_type": "stream",
     "text": [
      "100%|██████████| 352/352 [00:21<00:00, 16.08it/s]\n"
     ]
    },
    {
     "name": "stdout",
     "output_type": "stream",
     "text": [
      "Train Loss: 0.0018 | Train Acc: 77.78%\n",
      "Valid Loss: 0.9372 | Valid Acc: 69.32%\n",
      "Test  Loss: 0.6852 | Test Acc: 79.01%\n",
      "--------------------------------------------------\n",
      "[Epoch 59/500] :\n"
     ]
    },
    {
     "name": "stderr",
     "output_type": "stream",
     "text": [
      "100%|██████████| 352/352 [00:21<00:00, 16.02it/s]\n"
     ]
    },
    {
     "name": "stdout",
     "output_type": "stream",
     "text": [
      "Train Loss: 0.0017 | Train Acc: 76.39%\n",
      "Valid Loss: 0.8392 | Valid Acc: 72.02%\n",
      "Test  Loss: 0.5156 | Test Acc: 83.01%\n",
      "--------------------------------------------------\n",
      "[Epoch 60/500] :\n"
     ]
    },
    {
     "name": "stderr",
     "output_type": "stream",
     "text": [
      "100%|██████████| 352/352 [00:22<00:00, 15.47it/s]\n"
     ]
    },
    {
     "name": "stdout",
     "output_type": "stream",
     "text": [
      "Train Loss: 0.0021 | Train Acc: 72.22%\n",
      "Valid Loss: 0.8251 | Valid Acc: 72.14%\n",
      "Test  Loss: 0.4930 | Test Acc: 83.55%\n",
      "--------------------------------------------------\n",
      "[Epoch 61/500] :\n"
     ]
    },
    {
     "name": "stderr",
     "output_type": "stream",
     "text": [
      "100%|██████████| 352/352 [00:22<00:00, 15.57it/s]\n"
     ]
    },
    {
     "name": "stdout",
     "output_type": "stream",
     "text": [
      "Train Loss: 0.0012 | Train Acc: 83.33%\n",
      "Valid Loss: 0.7697 | Valid Acc: 73.82%\n",
      "Test  Loss: 0.5057 | Test Acc: 83.29%\n",
      "--------------------------------------------------\n",
      "[Epoch 62/500] :\n"
     ]
    },
    {
     "name": "stderr",
     "output_type": "stream",
     "text": [
      "100%|██████████| 352/352 [00:22<00:00, 15.86it/s]\n"
     ]
    },
    {
     "name": "stdout",
     "output_type": "stream",
     "text": [
      "Train Loss: 0.0018 | Train Acc: 79.17%\n",
      "Valid Loss: 0.8274 | Valid Acc: 73.12%\n",
      "Test  Loss: 0.4484 | Test Acc: 85.41%\n",
      "--------------------------------------------------\n",
      "[Epoch 63/500] :\n"
     ]
    },
    {
     "name": "stderr",
     "output_type": "stream",
     "text": [
      "100%|██████████| 352/352 [00:21<00:00, 16.15it/s]\n"
     ]
    },
    {
     "name": "stdout",
     "output_type": "stream",
     "text": [
      "Train Loss: 0.0011 | Train Acc: 80.56%\n",
      "Valid Loss: 0.7228 | Valid Acc: 74.66%\n",
      "Test  Loss: 0.4648 | Test Acc: 84.13%\n",
      "--------------------------------------------------\n",
      "[Epoch 64/500] :\n"
     ]
    },
    {
     "name": "stderr",
     "output_type": "stream",
     "text": [
      "100%|██████████| 352/352 [00:21<00:00, 16.29it/s]\n"
     ]
    },
    {
     "name": "stdout",
     "output_type": "stream",
     "text": [
      "Train Loss: 0.0018 | Train Acc: 76.39%\n",
      "Valid Loss: 0.7484 | Valid Acc: 74.18%\n",
      "Test  Loss: 0.5194 | Test Acc: 83.21%\n",
      "--------------------------------------------------\n",
      "[Epoch 65/500] :\n"
     ]
    },
    {
     "name": "stderr",
     "output_type": "stream",
     "text": [
      "100%|██████████| 352/352 [00:21<00:00, 16.69it/s]\n"
     ]
    },
    {
     "name": "stdout",
     "output_type": "stream",
     "text": [
      "Train Loss: 0.0015 | Train Acc: 81.94%\n",
      "Valid Loss: 0.7327 | Valid Acc: 74.92%\n",
      "Test  Loss: 0.4068 | Test Acc: 85.81%\n",
      "--------------------------------------------------\n",
      "[Epoch 66/500] :\n"
     ]
    },
    {
     "name": "stderr",
     "output_type": "stream",
     "text": [
      "100%|██████████| 352/352 [00:21<00:00, 16.12it/s]\n"
     ]
    },
    {
     "name": "stdout",
     "output_type": "stream",
     "text": [
      "Train Loss: 0.0016 | Train Acc: 80.56%\n",
      "Valid Loss: 0.6818 | Valid Acc: 76.32%\n",
      "Test  Loss: 0.4350 | Test Acc: 85.01%\n",
      "updated best eval loss : 0.6818450868129731\n",
      "--------------------------------------------------\n",
      "[Epoch 67/500] :\n"
     ]
    },
    {
     "name": "stderr",
     "output_type": "stream",
     "text": [
      "100%|██████████| 352/352 [00:22<00:00, 15.49it/s]\n"
     ]
    },
    {
     "name": "stdout",
     "output_type": "stream",
     "text": [
      "Train Loss: 0.0017 | Train Acc: 87.50%\n",
      "Valid Loss: 0.7032 | Valid Acc: 75.44%\n",
      "Test  Loss: 0.4708 | Test Acc: 84.18%\n",
      "--------------------------------------------------\n",
      "[Epoch 68/500] :\n"
     ]
    },
    {
     "name": "stderr",
     "output_type": "stream",
     "text": [
      "100%|██████████| 352/352 [00:22<00:00, 15.41it/s]\n"
     ]
    },
    {
     "name": "stdout",
     "output_type": "stream",
     "text": [
      "Train Loss: 0.0022 | Train Acc: 73.61%\n",
      "Valid Loss: 0.7522 | Valid Acc: 74.16%\n",
      "Test  Loss: 0.4824 | Test Acc: 84.53%\n",
      "--------------------------------------------------\n",
      "[Epoch 69/500] :\n"
     ]
    },
    {
     "name": "stderr",
     "output_type": "stream",
     "text": [
      "100%|██████████| 352/352 [00:21<00:00, 16.06it/s]\n"
     ]
    },
    {
     "name": "stdout",
     "output_type": "stream",
     "text": [
      "Train Loss: 0.0017 | Train Acc: 76.39%\n",
      "Valid Loss: 0.7423 | Valid Acc: 74.98%\n",
      "Test  Loss: 0.4412 | Test Acc: 84.88%\n",
      "--------------------------------------------------\n",
      "[Epoch 70/500] :\n"
     ]
    },
    {
     "name": "stderr",
     "output_type": "stream",
     "text": [
      "100%|██████████| 352/352 [00:22<00:00, 15.54it/s]\n"
     ]
    },
    {
     "name": "stdout",
     "output_type": "stream",
     "text": [
      "Train Loss: 0.0027 | Train Acc: 63.89%\n",
      "Valid Loss: 0.7485 | Valid Acc: 75.30%\n",
      "Test  Loss: 0.4440 | Test Acc: 84.97%\n",
      "--------------------------------------------------\n",
      "[Epoch 71/500] :\n"
     ]
    },
    {
     "name": "stderr",
     "output_type": "stream",
     "text": [
      "100%|██████████| 352/352 [00:21<00:00, 16.11it/s]\n"
     ]
    },
    {
     "name": "stdout",
     "output_type": "stream",
     "text": [
      "Train Loss: 0.0017 | Train Acc: 79.17%\n",
      "Valid Loss: 0.8007 | Valid Acc: 72.84%\n",
      "Test  Loss: 0.5386 | Test Acc: 82.27%\n",
      "--------------------------------------------------\n",
      "[Epoch 72/500] :\n"
     ]
    },
    {
     "name": "stderr",
     "output_type": "stream",
     "text": [
      "100%|██████████| 352/352 [00:21<00:00, 16.16it/s]\n"
     ]
    },
    {
     "name": "stdout",
     "output_type": "stream",
     "text": [
      "Train Loss: 0.0014 | Train Acc: 83.33%\n",
      "Valid Loss: 0.6735 | Valid Acc: 76.72%\n",
      "Test  Loss: 0.4024 | Test Acc: 85.98%\n",
      "updated best eval loss : 0.673490509390831\n",
      "--------------------------------------------------\n",
      "[Epoch 73/500] :\n"
     ]
    },
    {
     "name": "stderr",
     "output_type": "stream",
     "text": [
      "100%|██████████| 352/352 [00:23<00:00, 15.07it/s]\n"
     ]
    },
    {
     "name": "stdout",
     "output_type": "stream",
     "text": [
      "Train Loss: 0.0016 | Train Acc: 79.17%\n",
      "Valid Loss: 0.7532 | Valid Acc: 74.76%\n",
      "Test  Loss: 0.4550 | Test Acc: 84.94%\n",
      "--------------------------------------------------\n",
      "[Epoch 74/500] :\n"
     ]
    },
    {
     "name": "stderr",
     "output_type": "stream",
     "text": [
      "100%|██████████| 352/352 [00:22<00:00, 15.89it/s]\n"
     ]
    },
    {
     "name": "stdout",
     "output_type": "stream",
     "text": [
      "Train Loss: 0.0019 | Train Acc: 73.61%\n",
      "Valid Loss: 0.7453 | Valid Acc: 74.66%\n",
      "Test  Loss: 0.4564 | Test Acc: 84.51%\n",
      "--------------------------------------------------\n",
      "[Epoch 75/500] :\n"
     ]
    },
    {
     "name": "stderr",
     "output_type": "stream",
     "text": [
      "100%|██████████| 352/352 [00:21<00:00, 16.01it/s]\n"
     ]
    },
    {
     "name": "stdout",
     "output_type": "stream",
     "text": [
      "Train Loss: 0.0013 | Train Acc: 87.50%\n",
      "Valid Loss: 0.6792 | Valid Acc: 76.26%\n",
      "Test  Loss: 0.4324 | Test Acc: 85.07%\n",
      "--------------------------------------------------\n",
      "[Epoch 76/500] :\n"
     ]
    },
    {
     "name": "stderr",
     "output_type": "stream",
     "text": [
      "100%|██████████| 352/352 [00:21<00:00, 16.52it/s]\n"
     ]
    },
    {
     "name": "stdout",
     "output_type": "stream",
     "text": [
      "Train Loss: 0.0023 | Train Acc: 73.61%\n",
      "Valid Loss: 0.6975 | Valid Acc: 76.50%\n",
      "Test  Loss: 0.4403 | Test Acc: 85.26%\n",
      "--------------------------------------------------\n",
      "[Epoch 77/500] :\n"
     ]
    },
    {
     "name": "stderr",
     "output_type": "stream",
     "text": [
      "100%|██████████| 352/352 [00:21<00:00, 16.23it/s]\n"
     ]
    },
    {
     "name": "stdout",
     "output_type": "stream",
     "text": [
      "Train Loss: 0.0016 | Train Acc: 86.11%\n",
      "Valid Loss: 0.7218 | Valid Acc: 74.94%\n",
      "Test  Loss: 0.4822 | Test Acc: 83.52%\n",
      "--------------------------------------------------\n",
      "[Epoch 78/500] :\n"
     ]
    },
    {
     "name": "stderr",
     "output_type": "stream",
     "text": [
      "100%|██████████| 352/352 [00:21<00:00, 16.24it/s]\n"
     ]
    },
    {
     "name": "stdout",
     "output_type": "stream",
     "text": [
      "Train Loss: 0.0020 | Train Acc: 75.00%\n",
      "Valid Loss: 0.6781 | Valid Acc: 76.24%\n",
      "Test  Loss: 0.4022 | Test Acc: 86.24%\n",
      "--------------------------------------------------\n",
      "[Epoch 79/500] :\n"
     ]
    },
    {
     "name": "stderr",
     "output_type": "stream",
     "text": [
      "100%|██████████| 352/352 [00:22<00:00, 15.65it/s]\n"
     ]
    },
    {
     "name": "stdout",
     "output_type": "stream",
     "text": [
      "Train Loss: 0.0020 | Train Acc: 77.78%\n",
      "Valid Loss: 0.8849 | Valid Acc: 70.26%\n",
      "Test  Loss: 0.5154 | Test Acc: 83.71%\n",
      "--------------------------------------------------\n",
      "[Epoch 80/500] :\n"
     ]
    },
    {
     "name": "stderr",
     "output_type": "stream",
     "text": [
      "100%|██████████| 352/352 [00:21<00:00, 16.03it/s]\n"
     ]
    },
    {
     "name": "stdout",
     "output_type": "stream",
     "text": [
      "Train Loss: 0.0014 | Train Acc: 83.33%\n",
      "Valid Loss: 0.7069 | Valid Acc: 75.86%\n",
      "Test  Loss: 0.4614 | Test Acc: 84.34%\n",
      "--------------------------------------------------\n",
      "[Epoch 81/500] :\n"
     ]
    },
    {
     "name": "stderr",
     "output_type": "stream",
     "text": [
      "100%|██████████| 352/352 [00:21<00:00, 16.34it/s]\n"
     ]
    },
    {
     "name": "stdout",
     "output_type": "stream",
     "text": [
      "Train Loss: 0.0022 | Train Acc: 70.83%\n",
      "Valid Loss: 0.7361 | Valid Acc: 74.68%\n",
      "Test  Loss: 0.5244 | Test Acc: 82.39%\n",
      "--------------------------------------------------\n",
      "[Epoch 82/500] :\n"
     ]
    },
    {
     "name": "stderr",
     "output_type": "stream",
     "text": [
      "100%|██████████| 352/352 [00:21<00:00, 16.39it/s]\n"
     ]
    },
    {
     "name": "stdout",
     "output_type": "stream",
     "text": [
      "Train Loss: 0.0018 | Train Acc: 75.00%\n",
      "Valid Loss: 0.7712 | Valid Acc: 74.66%\n",
      "Test  Loss: 0.4897 | Test Acc: 82.93%\n",
      "--------------------------------------------------\n",
      "[Epoch 83/500] :\n"
     ]
    },
    {
     "name": "stderr",
     "output_type": "stream",
     "text": [
      "100%|██████████| 352/352 [00:22<00:00, 15.99it/s]\n"
     ]
    },
    {
     "name": "stdout",
     "output_type": "stream",
     "text": [
      "Train Loss: 0.0023 | Train Acc: 73.61%\n",
      "Valid Loss: 0.8808 | Valid Acc: 72.06%\n",
      "Test  Loss: 0.5096 | Test Acc: 83.76%\n",
      "--------------------------------------------------\n",
      "[Epoch 84/500] :\n"
     ]
    },
    {
     "name": "stderr",
     "output_type": "stream",
     "text": [
      "100%|██████████| 352/352 [00:15<00:00, 23.16it/s]\n"
     ]
    },
    {
     "name": "stdout",
     "output_type": "stream",
     "text": [
      "Train Loss: 0.0018 | Train Acc: 77.78%\n",
      "Valid Loss: 0.6530 | Valid Acc: 77.52%\n",
      "Test  Loss: 0.3985 | Test Acc: 86.14%\n",
      "updated best eval loss : 0.6529642328619957\n",
      "--------------------------------------------------\n",
      "[Epoch 85/500] :\n"
     ]
    },
    {
     "name": "stderr",
     "output_type": "stream",
     "text": [
      "100%|██████████| 352/352 [00:15<00:00, 22.87it/s]\n"
     ]
    },
    {
     "name": "stdout",
     "output_type": "stream",
     "text": [
      "Train Loss: 0.0014 | Train Acc: 80.56%\n",
      "Valid Loss: 0.7030 | Valid Acc: 76.50%\n",
      "Test  Loss: 0.4218 | Test Acc: 86.12%\n",
      "--------------------------------------------------\n",
      "[Epoch 86/500] :\n"
     ]
    },
    {
     "name": "stderr",
     "output_type": "stream",
     "text": [
      "100%|██████████| 352/352 [00:14<00:00, 23.56it/s]\n"
     ]
    },
    {
     "name": "stdout",
     "output_type": "stream",
     "text": [
      "Train Loss: 0.0017 | Train Acc: 77.78%\n",
      "Valid Loss: 0.7028 | Valid Acc: 76.02%\n",
      "Test  Loss: 0.4325 | Test Acc: 85.75%\n",
      "--------------------------------------------------\n",
      "[Epoch 87/500] :\n"
     ]
    },
    {
     "name": "stderr",
     "output_type": "stream",
     "text": [
      "100%|██████████| 352/352 [00:14<00:00, 23.63it/s]\n"
     ]
    },
    {
     "name": "stdout",
     "output_type": "stream",
     "text": [
      "Train Loss: 0.0015 | Train Acc: 80.56%\n",
      "Valid Loss: 0.6681 | Valid Acc: 76.64%\n",
      "Test  Loss: 0.4548 | Test Acc: 85.18%\n",
      "--------------------------------------------------\n",
      "[Epoch 88/500] :\n"
     ]
    },
    {
     "name": "stderr",
     "output_type": "stream",
     "text": [
      "100%|██████████| 352/352 [00:15<00:00, 22.93it/s]\n"
     ]
    },
    {
     "name": "stdout",
     "output_type": "stream",
     "text": [
      "Train Loss: 0.0016 | Train Acc: 79.17%\n",
      "Valid Loss: 0.6932 | Valid Acc: 76.28%\n",
      "Test  Loss: 0.4280 | Test Acc: 85.42%\n",
      "--------------------------------------------------\n",
      "[Epoch 89/500] :\n"
     ]
    },
    {
     "name": "stderr",
     "output_type": "stream",
     "text": [
      "100%|██████████| 352/352 [00:15<00:00, 23.31it/s]\n"
     ]
    },
    {
     "name": "stdout",
     "output_type": "stream",
     "text": [
      "Train Loss: 0.0018 | Train Acc: 76.39%\n",
      "Valid Loss: 0.8418 | Valid Acc: 72.68%\n",
      "Test  Loss: 0.4669 | Test Acc: 84.68%\n",
      "--------------------------------------------------\n",
      "[Epoch 90/500] :\n"
     ]
    },
    {
     "name": "stderr",
     "output_type": "stream",
     "text": [
      "100%|██████████| 352/352 [00:15<00:00, 23.31it/s]\n"
     ]
    },
    {
     "name": "stdout",
     "output_type": "stream",
     "text": [
      "Train Loss: 0.0015 | Train Acc: 81.94%\n",
      "Valid Loss: 0.7372 | Valid Acc: 74.86%\n",
      "Test  Loss: 0.4109 | Test Acc: 85.52%\n",
      "--------------------------------------------------\n",
      "[Epoch 91/500] :\n"
     ]
    },
    {
     "name": "stderr",
     "output_type": "stream",
     "text": [
      "100%|██████████| 352/352 [00:14<00:00, 23.47it/s]\n"
     ]
    },
    {
     "name": "stdout",
     "output_type": "stream",
     "text": [
      "Train Loss: 0.0023 | Train Acc: 72.22%\n",
      "Valid Loss: 0.7045 | Valid Acc: 76.28%\n",
      "Test  Loss: 0.4239 | Test Acc: 85.78%\n",
      "Learning Rate has changed : Now is 0.010000000000000002\n",
      "--------------------------------------------------\n",
      "[Epoch 92/500] :\n"
     ]
    },
    {
     "name": "stderr",
     "output_type": "stream",
     "text": [
      "100%|██████████| 352/352 [00:15<00:00, 22.95it/s]\n"
     ]
    },
    {
     "name": "stdout",
     "output_type": "stream",
     "text": [
      "Train Loss: 0.0017 | Train Acc: 77.78%\n",
      "Valid Loss: 0.5067 | Valid Acc: 82.20%\n",
      "Test  Loss: 0.2982 | Test Acc: 89.81%\n",
      "updated best eval loss : 0.5066553600132465\n",
      "--------------------------------------------------\n",
      "[Epoch 93/500] :\n"
     ]
    },
    {
     "name": "stderr",
     "output_type": "stream",
     "text": [
      "100%|██████████| 352/352 [00:15<00:00, 23.27it/s]\n"
     ]
    },
    {
     "name": "stdout",
     "output_type": "stream",
     "text": [
      "Train Loss: 0.0015 | Train Acc: 80.56%\n",
      "Valid Loss: 0.5029 | Valid Acc: 82.26%\n",
      "Test  Loss: 0.2823 | Test Acc: 90.55%\n",
      "updated best eval loss : 0.5028943382203579\n",
      "--------------------------------------------------\n",
      "[Epoch 94/500] :\n"
     ]
    },
    {
     "name": "stderr",
     "output_type": "stream",
     "text": [
      "100%|██████████| 352/352 [00:15<00:00, 22.94it/s]\n"
     ]
    },
    {
     "name": "stdout",
     "output_type": "stream",
     "text": [
      "Train Loss: 0.0015 | Train Acc: 81.94%\n",
      "Valid Loss: 0.4918 | Valid Acc: 82.76%\n",
      "Test  Loss: 0.2756 | Test Acc: 90.47%\n",
      "updated best eval loss : 0.4918163694441319\n",
      "--------------------------------------------------\n",
      "[Epoch 95/500] :\n"
     ]
    },
    {
     "name": "stderr",
     "output_type": "stream",
     "text": [
      "100%|██████████| 352/352 [00:15<00:00, 22.99it/s]\n"
     ]
    },
    {
     "name": "stdout",
     "output_type": "stream",
     "text": [
      "Train Loss: 0.0009 | Train Acc: 90.28%\n",
      "Valid Loss: 0.5041 | Valid Acc: 83.06%\n",
      "Test  Loss: 0.2778 | Test Acc: 90.55%\n",
      "--------------------------------------------------\n",
      "[Epoch 96/500] :\n"
     ]
    },
    {
     "name": "stderr",
     "output_type": "stream",
     "text": [
      "100%|██████████| 352/352 [00:15<00:00, 23.31it/s]\n"
     ]
    },
    {
     "name": "stdout",
     "output_type": "stream",
     "text": [
      "Train Loss: 0.0012 | Train Acc: 86.11%\n",
      "Valid Loss: 0.4756 | Valid Acc: 83.34%\n",
      "Test  Loss: 0.2683 | Test Acc: 90.91%\n",
      "updated best eval loss : 0.47558770328760147\n",
      "--------------------------------------------------\n",
      "[Epoch 97/500] :\n"
     ]
    },
    {
     "name": "stderr",
     "output_type": "stream",
     "text": [
      "100%|██████████| 352/352 [00:15<00:00, 23.11it/s]\n"
     ]
    },
    {
     "name": "stdout",
     "output_type": "stream",
     "text": [
      "Train Loss: 0.0011 | Train Acc: 83.33%\n",
      "Valid Loss: 0.4892 | Valid Acc: 82.78%\n",
      "Test  Loss: 0.2717 | Test Acc: 90.96%\n",
      "--------------------------------------------------\n",
      "[Epoch 98/500] :\n"
     ]
    },
    {
     "name": "stderr",
     "output_type": "stream",
     "text": [
      "100%|██████████| 352/352 [00:15<00:00, 23.17it/s]\n"
     ]
    },
    {
     "name": "stdout",
     "output_type": "stream",
     "text": [
      "Train Loss: 0.0016 | Train Acc: 80.56%\n",
      "Valid Loss: 0.5047 | Valid Acc: 83.38%\n",
      "Test  Loss: 0.2707 | Test Acc: 90.92%\n",
      "--------------------------------------------------\n",
      "[Epoch 99/500] :\n"
     ]
    },
    {
     "name": "stderr",
     "output_type": "stream",
     "text": [
      "100%|██████████| 352/352 [00:15<00:00, 23.03it/s]\n"
     ]
    },
    {
     "name": "stdout",
     "output_type": "stream",
     "text": [
      "Train Loss: 0.0009 | Train Acc: 86.11%\n",
      "Valid Loss: 0.5008 | Valid Acc: 82.30%\n",
      "Test  Loss: 0.2687 | Test Acc: 90.81%\n",
      "--------------------------------------------------\n",
      "[Epoch 100/500] :\n"
     ]
    },
    {
     "name": "stderr",
     "output_type": "stream",
     "text": [
      "100%|██████████| 352/352 [00:15<00:00, 22.81it/s]\n"
     ]
    },
    {
     "name": "stdout",
     "output_type": "stream",
     "text": [
      "Train Loss: 0.0009 | Train Acc: 93.06%\n",
      "Valid Loss: 0.4823 | Valid Acc: 82.94%\n",
      "Test  Loss: 0.2633 | Test Acc: 90.99%\n",
      "--------------------------------------------------\n",
      "[Epoch 101/500] :\n"
     ]
    },
    {
     "name": "stderr",
     "output_type": "stream",
     "text": [
      "100%|██████████| 352/352 [00:15<00:00, 23.30it/s]\n"
     ]
    },
    {
     "name": "stdout",
     "output_type": "stream",
     "text": [
      "Train Loss: 0.0009 | Train Acc: 87.50%\n",
      "Valid Loss: 0.4961 | Valid Acc: 82.10%\n",
      "Test  Loss: 0.2589 | Test Acc: 91.28%\n",
      "--------------------------------------------------\n",
      "[Epoch 102/500] :\n"
     ]
    },
    {
     "name": "stderr",
     "output_type": "stream",
     "text": [
      "100%|██████████| 352/352 [00:15<00:00, 22.97it/s]\n"
     ]
    },
    {
     "name": "stdout",
     "output_type": "stream",
     "text": [
      "Train Loss: 0.0009 | Train Acc: 91.67%\n",
      "Valid Loss: 0.4604 | Valid Acc: 83.76%\n",
      "Test  Loss: 0.2675 | Test Acc: 90.94%\n",
      "updated best eval loss : 0.46038581766188147\n",
      "--------------------------------------------------\n",
      "[Epoch 103/500] :\n"
     ]
    },
    {
     "name": "stderr",
     "output_type": "stream",
     "text": [
      "100%|██████████| 352/352 [00:15<00:00, 23.14it/s]\n"
     ]
    },
    {
     "name": "stdout",
     "output_type": "stream",
     "text": [
      "Train Loss: 0.0012 | Train Acc: 86.11%\n",
      "Valid Loss: 0.4715 | Valid Acc: 83.96%\n",
      "Test  Loss: 0.2581 | Test Acc: 91.32%\n",
      "--------------------------------------------------\n",
      "[Epoch 104/500] :\n"
     ]
    },
    {
     "name": "stderr",
     "output_type": "stream",
     "text": [
      "100%|██████████| 352/352 [00:15<00:00, 23.33it/s]\n"
     ]
    },
    {
     "name": "stdout",
     "output_type": "stream",
     "text": [
      "Train Loss: 0.0008 | Train Acc: 88.89%\n",
      "Valid Loss: 0.4728 | Valid Acc: 83.38%\n",
      "Test  Loss: 0.2617 | Test Acc: 91.17%\n",
      "--------------------------------------------------\n",
      "[Epoch 105/500] :\n"
     ]
    },
    {
     "name": "stderr",
     "output_type": "stream",
     "text": [
      "100%|██████████| 352/352 [00:15<00:00, 22.97it/s]\n"
     ]
    },
    {
     "name": "stdout",
     "output_type": "stream",
     "text": [
      "Train Loss: 0.0020 | Train Acc: 70.83%\n",
      "Valid Loss: 0.4564 | Valid Acc: 84.20%\n",
      "Test  Loss: 0.2603 | Test Acc: 91.26%\n",
      "updated best eval loss : 0.45639280155301093\n",
      "--------------------------------------------------\n",
      "[Epoch 106/500] :\n"
     ]
    },
    {
     "name": "stderr",
     "output_type": "stream",
     "text": [
      "100%|██████████| 352/352 [00:15<00:00, 22.56it/s]\n"
     ]
    },
    {
     "name": "stdout",
     "output_type": "stream",
     "text": [
      "Train Loss: 0.0012 | Train Acc: 84.72%\n",
      "Valid Loss: 0.4708 | Valid Acc: 83.08%\n",
      "Test  Loss: 0.2602 | Test Acc: 91.30%\n",
      "--------------------------------------------------\n",
      "[Epoch 107/500] :\n"
     ]
    },
    {
     "name": "stderr",
     "output_type": "stream",
     "text": [
      "100%|██████████| 352/352 [00:15<00:00, 23.25it/s]\n"
     ]
    },
    {
     "name": "stdout",
     "output_type": "stream",
     "text": [
      "Train Loss: 0.0008 | Train Acc: 91.67%\n",
      "Valid Loss: 0.4759 | Valid Acc: 83.42%\n",
      "Test  Loss: 0.2634 | Test Acc: 91.18%\n",
      "--------------------------------------------------\n",
      "[Epoch 108/500] :\n"
     ]
    },
    {
     "name": "stderr",
     "output_type": "stream",
     "text": [
      " 85%|████████▌ | 300/352 [00:13<00:02, 21.77it/s]"
     ]
    }
   ],
   "source": [
    "Training = DoTraining(\n",
    "    model=model,\n",
    "    criterion=criterion,\n",
    "    optimizer=optimizer,\n",
    "    scaler=scaler,\n",
    "    scheduler=scheduler,\n",
    "    earlystopper=earlystopper,\n",
    "    device=device,\n",
    "    logs=logs,\n",
    "    file_path=file_path,\n",
    ")\n",
    "pre_epochs = len(Training.logs[\"train_loss\"])\n",
    "\n",
    "for epoch in range(NUM_EPOCHS):\n",
    "    now = epoch + 1 + pre_epochs\n",
    "    print(f\"[Epoch {epoch+1+pre_epochs}/{NUM_EPOCHS}] :\")\n",
    "\n",
    "    if DATASET == \"ImageNet2012\":\n",
    "        eval_loss = Training.SingleEpoch(train_dataloader, valid_dataloader)\n",
    "    else:\n",
    "        eval_loss = Training.SingleEpoch(\n",
    "            train_dataloader, valid_dataloader, test_dataloader\n",
    "        )\n",
    "\n",
    "    Training.Save()\n",
    "\n",
    "    if earlystopper.check(eval_loss) == True:\n",
    "        break\n",
    "\n",
    "    print(\"-\" * 50)"
   ]
  },
  {
   "cell_type": "code",
   "execution_count": null,
   "metadata": {},
   "outputs": [],
   "source": [
    "view = LogViewer(logs)\n",
    "view.draw()"
   ]
  },
  {
   "cell_type": "code",
   "execution_count": null,
   "metadata": {},
   "outputs": [],
   "source": [
    "view.print_all()"
   ]
  },
  {
   "cell_type": "code",
   "execution_count": null,
   "metadata": {},
   "outputs": [],
   "source": [
    "# CHECK = 5410\n",
    "# logs[\"train_loss\"] = logs[\"train_loss\"][:CHECK]\n",
    "# logs[\"train_acc\"] = logs[\"train_acc\"][:CHECK]\n",
    "# logs[\"valid_loss\"] = logs[\"valid_loss\"][:CHECK]\n",
    "# logs[\"valid_acc\"] = logs[\"valid_acc\"][:CHECK]\n",
    "# logs[\"test_loss\"] = logs[\"test_loss\"][:CHECK]\n",
    "# logs[\"test_acc\"] = logs[\"test_acc\"][:CHECK]\n",
    "# model.load_state_dict(torch.load(f\"models/{file_path}.pth\"))"
   ]
  }
 ],
 "metadata": {
  "kernelspec": {
   "display_name": "base",
   "language": "python",
   "name": "python3"
  },
  "language_info": {
   "codemirror_mode": {
    "name": "ipython",
    "version": 3
   },
   "file_extension": ".py",
   "mimetype": "text/x-python",
   "name": "python",
   "nbconvert_exporter": "python",
   "pygments_lexer": "ipython3",
   "version": "3.11.5"
  }
 },
 "nbformat": 4,
 "nbformat_minor": 2
}
