{
 "cells": [
  {
   "cell_type": "markdown",
   "metadata": {},
   "source": [
    "# Import"
   ]
  },
  {
   "cell_type": "code",
   "execution_count": 1,
   "metadata": {},
   "outputs": [],
   "source": [
    "import torch\n",
    "from torch import nn\n",
    "from torch.optim.lr_scheduler import ReduceLROnPlateau, MultiStepLR\n",
    "from torch.utils.data import DataLoader\n",
    "from fvcore.nn import FlopCountAnalysis, flop_count_table\n",
    "import numpy as np\n",
    "import matplotlib.pyplot as plt\n",
    "import os\n",
    "\n",
    "####################################################\n",
    "from src.Mydataloader import LoadDataset\n",
    "from src.Mymodel import MyResNet34\n",
    "from src.Mymodel import MyResNet_CIFAR\n",
    "from src.Mytraining import DoTraining\n",
    "from src.Earlystopper import EarlyStopper\n",
    "from src.LogViewer import LogViewer"
   ]
  },
  {
   "cell_type": "markdown",
   "metadata": {},
   "source": [
    "# Setup"
   ]
  },
  {
   "cell_type": "code",
   "execution_count": 2,
   "metadata": {},
   "outputs": [],
   "source": [
    "\"\"\"Dataset selection\"\"\"\n",
    "DATASET = \"CIFAR10\"\n",
    "# DATASET = \"CIFAR100\"\n",
    "# DATASET = \"ImageNet2012\"\n",
    "\n",
    "\"\"\"Model selection for CIFAR\"\"\"\n",
    "NUM_LAYERS_LEVEL = 5\n",
    "\n",
    "\"\"\"Dataset parameters\"\"\"\n",
    "BATCH = 128\n",
    "SHUFFLE = True\n",
    "NUMOFWORKERS = 8\n",
    "PIN_MEMORY = True\n",
    "SPLIT_RATIO = 0.9\n",
    "\n",
    "\"\"\"optimizer parameters\"\"\"\n",
    "OPTIMIZER = \"SGD\"\n",
    "# OPTIMIZER = \"Adam\"\n",
    "# OPTIMIZER = \"Adam_decay\"\n",
    "\n",
    "\"\"\"Learning rate scheduler parameters\"\"\"\n",
    "# LOAD_BEFORE_TRAINING = False\n",
    "LOAD_BEFORE_TRAINING = True\n",
    "NUM_EPOCHS = 1000\n",
    "# scheduler_patience_mapping = {\"CIFAR10\": 200, \"CIFAR100\": 200, \"ImageNet2012\": 30}\n",
    "\n",
    "\"\"\"Early stopping parameters\"\"\"\n",
    "EARLYSTOPPINGPATIENCE = 500\n",
    "file_path = \"\"\n",
    "if DATASET == \"ImageNet2012\":\n",
    "    file_path = f\"{DATASET}/MyResNet34_{BATCH}_{OPTIMIZER}\"\n",
    "else:\n",
    "    file_path = f\"{DATASET}/MyResNet{NUM_LAYERS_LEVEL*6+2}_{BATCH}_{OPTIMIZER}\"\n",
    "\n",
    "if SPLIT_RATIO != 0:\n",
    "    file_path += f\"_{int(SPLIT_RATIO*100)}\""
   ]
  },
  {
   "cell_type": "code",
   "execution_count": 3,
   "metadata": {},
   "outputs": [
    {
     "data": {
      "text/plain": [
       "'CIFAR10/MyResNet32_128_SGD_90'"
      ]
     },
     "execution_count": 3,
     "metadata": {},
     "output_type": "execute_result"
    }
   ],
   "source": [
    "file_path"
   ]
  },
  {
   "cell_type": "markdown",
   "metadata": {},
   "source": [
    "# Loading the dataset"
   ]
  },
  {
   "cell_type": "markdown",
   "metadata": {},
   "source": [
    "## Define Dateloader"
   ]
  },
  {
   "cell_type": "code",
   "execution_count": 4,
   "metadata": {},
   "outputs": [
    {
     "name": "stderr",
     "output_type": "stream",
     "text": [
      "/home/lee/anaconda3/lib/python3.11/site-packages/torchvision/transforms/v2/_deprecated.py:43: UserWarning: The transform `ToTensor()` is deprecated and will be removed in a future release. Instead, please use `v2.Compose([v2.ToImage(), v2.ToDtype(torch.float32, scale=True)])`.\n",
      "  warnings.warn(\n"
     ]
    },
    {
     "name": "stdout",
     "output_type": "stream",
     "text": [
      "-----------------------------------------------------------------------\n",
      "Dataset :  CIFAR10\n",
      "- Length of Train Set :  45000\n",
      "- Length of Valid Set :  5000\n",
      "- Length of Test Set :  10000\n",
      "- Count of Classes :  10\n",
      "-----------------------------------------------------------------------\n"
     ]
    }
   ],
   "source": [
    "tmp = LoadDataset(root=\"data\", seceted_dataset=DATASET, split_ratio=SPLIT_RATIO)\n",
    "train_data, valid_data, test_data, COUNT_OF_CLASSES = tmp.Unpack()"
   ]
  },
  {
   "cell_type": "code",
   "execution_count": 5,
   "metadata": {},
   "outputs": [
    {
     "name": "stdout",
     "output_type": "stream",
     "text": [
      "train.transforms = Compose(\n",
      "      ToTensor()\n",
      "      Normalize(mean=[0.49139968, 0.48215827, 0.44653124], std=[1, 1, 1], inplace=True)\n",
      "      AutoAugment(interpolation=InterpolationMode.NEAREST, policy=AutoAugmentPolicy.CIFAR10)\n",
      "      RandomCrop(size=(32, 32), padding=[4, 4, 4, 4], pad_if_needed=False, fill=0, padding_mode=constant)\n",
      "      RandomHorizontalFlip(p=0.5)\n",
      ") 128\n",
      "valid.transforms = ToTensor() 128\n",
      "test.transforms = ToTensor() 128\n"
     ]
    }
   ],
   "source": [
    "\n",
    "train_dataloader = DataLoader(\n",
    "    train_data,\n",
    "    batch_size=BATCH,\n",
    "    shuffle=SHUFFLE,\n",
    "    num_workers=NUMOFWORKERS,\n",
    "    pin_memory=PIN_MEMORY,\n",
    "    # pin_memory_device=\"cuda\",\n",
    "    persistent_workers=True,\n",
    ")\n",
    "print(\"train.transforms =\", train_data.transform, train_dataloader.batch_size)\n",
    "\n",
    "if valid_data is not None:\n",
    "    valid_dataloader = DataLoader(\n",
    "        valid_data,\n",
    "        batch_size=BATCH,\n",
    "        shuffle=SHUFFLE,\n",
    "        num_workers=NUMOFWORKERS,\n",
    "        pin_memory=PIN_MEMORY,\n",
    "        # pin_memory_device=\"cuda\",\n",
    "        persistent_workers=True,\n",
    "    )\n",
    "    print(\"valid.transforms =\", valid_data.transform, valid_dataloader.batch_size)\n",
    "else:\n",
    "    valid_dataloader = None\n",
    "\n",
    "if test_data is not None:\n",
    "    test_dataloader = DataLoader(\n",
    "        test_data,\n",
    "        batch_size=BATCH,\n",
    "        shuffle=SHUFFLE,\n",
    "        num_workers=NUMOFWORKERS,\n",
    "        pin_memory=PIN_MEMORY,\n",
    "        # pin_memory_device=\"cuda\",\n",
    "        persistent_workers=True,\n",
    "    )\n",
    "    print(\"test.transforms =\", test_data.transform, test_dataloader.batch_size)\n",
    "else:\n",
    "    test_dataloader = None"
   ]
  },
  {
   "cell_type": "markdown",
   "metadata": {},
   "source": [
    "## Confirm that the dataset is loaded properly"
   ]
  },
  {
   "cell_type": "code",
   "execution_count": 6,
   "metadata": {},
   "outputs": [
    {
     "name": "stdout",
     "output_type": "stream",
     "text": [
      "Shape of X [N, C, H, W]: torch.Size([128, 3, 32, 32])\n",
      "mean of X tensor([0.5061, 0.4886, 0.4418])\n",
      "Shape of y: torch.Size([128]) torch.int64\n"
     ]
    },
    {
     "data": {
      "image/png": "[encoded data removed]",
      "text/plain": [
       "<Figure size 800x400 with 10 Axes>"
      ]
     },
     "metadata": {},
     "output_type": "display_data"
    }
   ],
   "source": [
    "if test_data is not None:\n",
    "    for X, y in test_dataloader:\n",
    "        print(f\"Shape of X [N, C, H, W]: {X.shape}\")\n",
    "        print(\"mean of X\", X.mean(dim=(0, 2, 3)))\n",
    "        print(f\"Shape of y: {y.shape} {y.dtype}\")\n",
    "        break\n",
    "    \n",
    "    class_names = test_dataloader.dataset.classes\n",
    "    count = 0\n",
    "    fig, axs = plt.subplots(2, 5, figsize=(8, 4))\n",
    "\n",
    "    for images, labels in test_dataloader:\n",
    "        images = images.numpy()\n",
    "\n",
    "        for i in range(len(images)):\n",
    "            image = images[i]\n",
    "            label = labels[i]\n",
    "            image = np.transpose(image, (1, 2, 0))\n",
    "            image = np.clip(image, 0, 1)\n",
    "            ax = axs[count // 5, count % 5]\n",
    "            ax.imshow(image)\n",
    "            ax.set_title(f\"{class_names[label], label}\")\n",
    "            ax.axis(\"off\")\n",
    "            count += 1\n",
    "\n",
    "            if count == 10:\n",
    "                break\n",
    "        if count == 10:\n",
    "            break\n",
    "    plt.tight_layout()\n",
    "    plt.show()"
   ]
  },
  {
   "cell_type": "markdown",
   "metadata": {},
   "source": [
    "# Define ResNet"
   ]
  },
  {
   "cell_type": "markdown",
   "metadata": {},
   "source": [
    "## Model Confirm"
   ]
  },
  {
   "cell_type": "code",
   "execution_count": 7,
   "metadata": {},
   "outputs": [
    {
     "data": {
      "text/plain": [
       "device(type='cuda')"
      ]
     },
     "execution_count": 7,
     "metadata": {},
     "output_type": "execute_result"
    }
   ],
   "source": [
    "device = torch.device(\"cuda\" if torch.cuda.is_available() else \"cpu\")\n",
    "device"
   ]
  },
  {
   "cell_type": "code",
   "execution_count": 8,
   "metadata": {},
   "outputs": [
    {
     "name": "stdout",
     "output_type": "stream",
     "text": [
      "ResNet-32 for CIFAR10 is loaded.\n"
     ]
    }
   ],
   "source": [
    "if DATASET == \"CIFAR10\" or DATASET == \"CIFAR100\":\n",
    "    \"\"\"ResNet{20, 32, 44, 56, 110, 1202} for CIFAR\"\"\"\n",
    "    model = MyResNet_CIFAR(\n",
    "        num_classes=COUNT_OF_CLASSES,\n",
    "        num_layer_factor=NUM_LAYERS_LEVEL,\n",
    "        Downsample_option=\"A\",\n",
    "    ).to(device)\n",
    "    print(f\"ResNet-{5*6+2} for {DATASET} is loaded.\")\n",
    "\n",
    "elif DATASET == \"ImageNet2012\":\n",
    "    \"\"\"ResNet34 for ImageNet 2012\"\"\"\n",
    "    model = MyResNet34(\n",
    "        num_classes=COUNT_OF_CLASSES, \n",
    "        Downsample_option=\"A\"\n",
    "    ).to(device)\n",
    "    # model = models.resnet34(pretrained=True).to(device)\n",
    "    # model = models.resnet34(pretrained=False).to(device)\n",
    "    print(f\"ResNet-34 for {DATASET} is loaded.\")\n"
   ]
  },
  {
   "cell_type": "code",
   "execution_count": 9,
   "metadata": {},
   "outputs": [],
   "source": [
    "# model.named_modules"
   ]
  },
  {
   "cell_type": "code",
   "execution_count": 10,
   "metadata": {},
   "outputs": [],
   "source": [
    "# tmp_input = torch.rand(BATCH, 3, 32, 32).to(device)\n",
    "# flops = FlopCountAnalysis(model, tmp_input)\n",
    "# print(flop_count_table(flops))"
   ]
  },
  {
   "cell_type": "markdown",
   "metadata": {},
   "source": [
    "# Define Training"
   ]
  },
  {
   "cell_type": "markdown",
   "metadata": {},
   "source": [
    "## (1) Define Criterion"
   ]
  },
  {
   "cell_type": "code",
   "execution_count": 11,
   "metadata": {},
   "outputs": [],
   "source": [
    "criterion = nn.CrossEntropyLoss()"
   ]
  },
  {
   "cell_type": "markdown",
   "metadata": {},
   "source": [
    "## (2) Define Optimazer"
   ]
  },
  {
   "cell_type": "code",
   "execution_count": 12,
   "metadata": {},
   "outputs": [],
   "source": [
    "if OPTIMIZER == \"Adam\":\n",
    "    optimizer = torch.optim.Adam(model.parameters())\n",
    "elif OPTIMIZER == \"Adam_decay\":\n",
    "    optimizer = torch.optim.Adam(model.parameters(), weight_decay=1e-4)\n",
    "elif OPTIMIZER == \"SGD\":\n",
    "    optimizer = torch.optim.SGD(\n",
    "        model.parameters(), lr=0.1, momentum=0.9, weight_decay=0.0001\n",
    "    )"
   ]
  },
  {
   "cell_type": "markdown",
   "metadata": {},
   "source": [
    "## (3) Define Early Stopping"
   ]
  },
  {
   "cell_type": "code",
   "execution_count": 13,
   "metadata": {},
   "outputs": [],
   "source": [
    "earlystopper = EarlyStopper(patience=EARLYSTOPPINGPATIENCE, model=model, file_path=file_path)"
   ]
  },
  {
   "cell_type": "markdown",
   "metadata": {},
   "source": [
    "## (4) Define Learning Rate schedualer"
   ]
  },
  {
   "cell_type": "code",
   "execution_count": 14,
   "metadata": {},
   "outputs": [
    {
     "data": {
      "text/plain": [
       "'\\n=======================================================\\nnon-split : milestones = [164, 81]\\n- 1 ~ 164 epochs == 1 ~ 32k iter >> lr = 0.1\\n- 165~246 epochs == 32k ~ 48k iter >> lr = 0.01\\n- 247~328(?) epochs == 48k ~ 64k iter >> lr = 0.001\\n=======================================================\\nsplit to 45k/5k : milestones = [182, 91]\\n- 1~182 epochs == 1 ~ 32k iter >> lr = 0.1\\n- 182~273 epochs == 32k ~ 48k iter >> lr = 0.01\\n- 273~364(?) epochs == 48k ~ 64k iter >> lr = 0.001\\n=======================================================\\n'"
      ]
     },
     "execution_count": 14,
     "metadata": {},
     "output_type": "execute_result"
    }
   ],
   "source": [
    "# scheduler = ReduceLROnPlateau(\n",
    "#     optimizer,\n",
    "#     mode=\"min\",\n",
    "#     patience=scheduler_patience_mapping[DATASET],\n",
    "#     factor=0.1,\n",
    "#     verbose=True,\n",
    "#     threshold=1e-4,\n",
    "#     cooldown=100,\n",
    "# )\n",
    "\n",
    "scheduler = MultiStepLR(optimizer, milestones=[182, 91], gamma=0.1)\n",
    "#\n",
    "\"\"\"\n",
    "=======================================================\n",
    "non-split : milestones = [164, 81]\n",
    "- 1 ~ 164 epochs == 1 ~ 32k iter >> lr = 0.1\n",
    "- 165~246 epochs == 32k ~ 48k iter >> lr = 0.01\n",
    "- 247~328(?) epochs == 48k ~ 64k iter >> lr = 0.001\n",
    "=======================================================\n",
    "split to 45k/5k : milestones = [182, 91]\n",
    "- 1~182 epochs == 1 ~ 32k iter >> lr = 0.1\n",
    "- 182~273 epochs == 32k ~ 48k iter >> lr = 0.01\n",
    "- 273~364(?) epochs == 48k ~ 64k iter >> lr = 0.001\n",
    "=======================================================\n",
    "\"\"\""
   ]
  },
  {
   "cell_type": "markdown",
   "metadata": {},
   "source": [
    "## (5) Define AMP scaler"
   ]
  },
  {
   "cell_type": "code",
   "execution_count": 15,
   "metadata": {},
   "outputs": [],
   "source": [
    "scaler = torch.cuda.amp.GradScaler(enabled=True)"
   ]
  },
  {
   "cell_type": "markdown",
   "metadata": {},
   "source": [
    "## Load before process"
   ]
  },
  {
   "cell_type": "code",
   "execution_count": 16,
   "metadata": {},
   "outputs": [
    {
     "name": "stdout",
     "output_type": "stream",
     "text": [
      "File does not exist. Created a new log.\n"
     ]
    }
   ],
   "source": [
    "scaler = torch.cuda.amp.GradScaler(enabled=True)\n",
    "\n",
    "if LOAD_BEFORE_TRAINING == True and os.path.exists(\"logs/\" + file_path + \".pth.tar\"):\n",
    "    # Read checkpoint as desired, e.g.,\n",
    "    checkpoint = torch.load(\n",
    "        \"logs/\" + file_path + \".pth.tar\",\n",
    "        map_location=lambda storage, loc: storage.cuda(device),\n",
    "    )\n",
    "    model.load_state_dict(checkpoint[\"model\"])\n",
    "    optimizer.load_state_dict(checkpoint[\"optimizer\"])\n",
    "    scaler.load_state_dict(checkpoint[\"scaler\"])\n",
    "    scheduler.load_state_dict(checkpoint[\"scheduler\"])\n",
    "    earlystopper.load_state_dict(checkpoint[\"earlystopper\"])\n",
    "    logs = checkpoint[\"logs\"]\n",
    "\n",
    "    print(\"Suceessfully loaded the All setting and Log file.\")\n",
    "    print(file_path)\n",
    "    print(f\"Current epoch is {len(logs['train_loss'])}\")\n",
    "    print(f\"Current learning rate: {optimizer.param_groups[0]['lr']}\")\n",
    "else:\n",
    "    # Create a dictionary to store the variables\n",
    "    train_loss = []\n",
    "    train_acc = []\n",
    "    eval_loss = []\n",
    "    valid_acc = []\n",
    "    test_loss = []\n",
    "    test_acc = []\n",
    "    lr_log = []\n",
    "    logs = {\n",
    "        \"train_loss\": train_loss,\n",
    "        \"train_acc\": train_acc,\n",
    "        \"valid_loss\": eval_loss,\n",
    "        \"valid_acc\": valid_acc,\n",
    "        \"test_loss\": test_loss,\n",
    "        \"test_acc\": test_acc,\n",
    "        \"lr_log\": lr_log,\n",
    "    }\n",
    "    print(\"File does not exist. Created a new log.\")"
   ]
  },
  {
   "cell_type": "code",
   "execution_count": 17,
   "metadata": {},
   "outputs": [
    {
     "data": {
      "text/plain": [
       "0.1"
      ]
     },
     "execution_count": 17,
     "metadata": {},
     "output_type": "execute_result"
    }
   ],
   "source": [
    "optimizer.param_groups[0][\"lr\"]"
   ]
  },
  {
   "cell_type": "markdown",
   "metadata": {},
   "source": [
    "# [Training Loop]"
   ]
  },
  {
   "cell_type": "code",
   "execution_count": 18,
   "metadata": {},
   "outputs": [],
   "source": [
    "if valid_data is None:\n",
    "    valid_dataloader = None\n",
    "if test_data is None:\n",
    "    test_dataloader = None"
   ]
  },
  {
   "cell_type": "code",
   "execution_count": 25,
   "metadata": {},
   "outputs": [
    {
     "name": "stdout",
     "output_type": "stream",
     "text": [
      "[Epoch 248/1000] :\n"
     ]
    },
    {
     "name": "stderr",
     "output_type": "stream",
     "text": [
      "100%|██████████| 352/352 [00:19<00:00, 17.73it/s]\n"
     ]
    },
    {
     "name": "stdout",
     "output_type": "stream",
     "text": [
      "Train Loss: 0.0014 | Train Acc: 80.56%\n",
      "Valid Loss: 0.6585 | Valid Acc: 77.90%\n",
      "Test  Loss: 0.3936 | Test Acc: 86.93%\n",
      "--------------------------------------------------\n",
      "[Epoch 249/1000] :\n"
     ]
    },
    {
     "name": "stderr",
     "output_type": "stream",
     "text": [
      "100%|██████████| 352/352 [00:22<00:00, 15.84it/s]\n"
     ]
    },
    {
     "name": "stdout",
     "output_type": "stream",
     "text": [
      "Train Loss: 0.0014 | Train Acc: 84.72%\n",
      "Valid Loss: 0.6653 | Valid Acc: 76.82%\n",
      "Test  Loss: 0.3973 | Test Acc: 86.96%\n",
      "--------------------------------------------------\n",
      "[Epoch 250/1000] :\n"
     ]
    },
    {
     "name": "stderr",
     "output_type": "stream",
     "text": [
      "100%|██████████| 352/352 [00:23<00:00, 15.14it/s]\n"
     ]
    },
    {
     "name": "stdout",
     "output_type": "stream",
     "text": [
      "Train Loss: 0.0020 | Train Acc: 72.22%\n",
      "Valid Loss: 0.6745 | Valid Acc: 78.04%\n",
      "Test  Loss: 0.4085 | Test Acc: 86.93%\n",
      "--------------------------------------------------\n",
      "[Epoch 251/1000] :\n"
     ]
    },
    {
     "name": "stderr",
     "output_type": "stream",
     "text": [
      "100%|██████████| 352/352 [00:21<00:00, 16.10it/s]\n"
     ]
    },
    {
     "name": "stdout",
     "output_type": "stream",
     "text": [
      "Train Loss: 0.0010 | Train Acc: 88.89%\n",
      "Valid Loss: 0.5824 | Valid Acc: 79.92%\n",
      "Test  Loss: 0.3709 | Test Acc: 87.67%\n",
      "--------------------------------------------------\n",
      "[Epoch 252/1000] :\n"
     ]
    },
    {
     "name": "stderr",
     "output_type": "stream",
     "text": [
      "100%|██████████| 352/352 [00:23<00:00, 15.18it/s]\n"
     ]
    },
    {
     "name": "stdout",
     "output_type": "stream",
     "text": [
      "Train Loss: 0.0014 | Train Acc: 84.72%\n",
      "Valid Loss: 0.6129 | Valid Acc: 79.46%\n",
      "Test  Loss: 0.3415 | Test Acc: 88.61%\n",
      "--------------------------------------------------\n",
      "[Epoch 253/1000] :\n"
     ]
    },
    {
     "name": "stderr",
     "output_type": "stream",
     "text": [
      "100%|██████████| 352/352 [00:21<00:00, 16.04it/s]\n"
     ]
    },
    {
     "name": "stdout",
     "output_type": "stream",
     "text": [
      "Train Loss: 0.0018 | Train Acc: 69.44%\n",
      "Valid Loss: 0.6761 | Valid Acc: 77.20%\n",
      "Test  Loss: 0.3761 | Test Acc: 87.90%\n",
      "--------------------------------------------------\n",
      "[Epoch 254/1000] :\n"
     ]
    },
    {
     "name": "stderr",
     "output_type": "stream",
     "text": [
      "100%|██████████| 352/352 [00:25<00:00, 14.05it/s]\n"
     ]
    },
    {
     "name": "stdout",
     "output_type": "stream",
     "text": [
      "Train Loss: 0.0016 | Train Acc: 79.17%\n",
      "Valid Loss: 0.6761 | Valid Acc: 76.80%\n",
      "Test  Loss: 0.3911 | Test Acc: 86.93%\n",
      "--------------------------------------------------\n",
      "[Epoch 255/1000] :\n"
     ]
    },
    {
     "name": "stderr",
     "output_type": "stream",
     "text": [
      "100%|██████████| 352/352 [00:36<00:00,  9.70it/s]\n"
     ]
    },
    {
     "name": "stdout",
     "output_type": "stream",
     "text": [
      "Train Loss: 0.0014 | Train Acc: 84.72%\n",
      "Valid Loss: 0.6382 | Valid Acc: 77.64%\n",
      "Test  Loss: 0.3732 | Test Acc: 87.55%\n",
      "--------------------------------------------------\n",
      "[Epoch 256/1000] :\n"
     ]
    },
    {
     "name": "stderr",
     "output_type": "stream",
     "text": [
      "100%|██████████| 352/352 [00:35<00:00,  9.90it/s]\n"
     ]
    },
    {
     "name": "stdout",
     "output_type": "stream",
     "text": [
      "Train Loss: 0.0012 | Train Acc: 87.50%\n",
      "Valid Loss: 0.6118 | Valid Acc: 79.32%\n",
      "Test  Loss: 0.3670 | Test Acc: 87.87%\n",
      "--------------------------------------------------\n",
      "[Epoch 257/1000] :\n"
     ]
    },
    {
     "name": "stderr",
     "output_type": "stream",
     "text": [
      "100%|██████████| 352/352 [00:35<00:00, 10.05it/s]\n"
     ]
    },
    {
     "name": "stdout",
     "output_type": "stream",
     "text": [
      "Train Loss: 0.0017 | Train Acc: 75.00%\n",
      "Valid Loss: 0.7244 | Valid Acc: 75.96%\n",
      "Test  Loss: 0.4321 | Test Acc: 85.77%\n",
      "--------------------------------------------------\n",
      "[Epoch 258/1000] :\n"
     ]
    },
    {
     "name": "stderr",
     "output_type": "stream",
     "text": [
      "100%|██████████| 352/352 [00:34<00:00, 10.18it/s]\n"
     ]
    },
    {
     "name": "stdout",
     "output_type": "stream",
     "text": [
      "Train Loss: 0.0008 | Train Acc: 86.11%\n",
      "Valid Loss: 0.6709 | Valid Acc: 77.46%\n",
      "Test  Loss: 0.4355 | Test Acc: 86.03%\n",
      "--------------------------------------------------\n",
      "[Epoch 259/1000] :\n"
     ]
    },
    {
     "name": "stderr",
     "output_type": "stream",
     "text": [
      "100%|██████████| 352/352 [00:35<00:00,  9.88it/s]\n"
     ]
    },
    {
     "name": "stdout",
     "output_type": "stream",
     "text": [
      "Train Loss: 0.0018 | Train Acc: 76.39%\n",
      "Valid Loss: 0.6528 | Valid Acc: 78.06%\n",
      "Test  Loss: 0.4026 | Test Acc: 86.74%\n",
      "--------------------------------------------------\n",
      "[Epoch 260/1000] :\n"
     ]
    },
    {
     "name": "stderr",
     "output_type": "stream",
     "text": [
      "100%|██████████| 352/352 [00:35<00:00, 10.01it/s]\n"
     ]
    },
    {
     "name": "stdout",
     "output_type": "stream",
     "text": [
      "Train Loss: 0.0012 | Train Acc: 87.50%\n",
      "Valid Loss: 0.6392 | Valid Acc: 77.92%\n",
      "Test  Loss: 0.4156 | Test Acc: 86.15%\n",
      "--------------------------------------------------\n",
      "[Epoch 261/1000] :\n"
     ]
    },
    {
     "name": "stderr",
     "output_type": "stream",
     "text": [
      "100%|██████████| 352/352 [00:35<00:00,  9.84it/s]\n"
     ]
    },
    {
     "name": "stdout",
     "output_type": "stream",
     "text": [
      "Train Loss: 0.0018 | Train Acc: 77.78%\n",
      "Valid Loss: 0.6609 | Valid Acc: 77.72%\n",
      "Test  Loss: 0.4265 | Test Acc: 86.16%\n",
      "--------------------------------------------------\n",
      "[Epoch 262/1000] :\n"
     ]
    },
    {
     "name": "stderr",
     "output_type": "stream",
     "text": [
      "100%|██████████| 352/352 [00:35<00:00,  9.92it/s]\n"
     ]
    },
    {
     "name": "stdout",
     "output_type": "stream",
     "text": [
      "Train Loss: 0.0018 | Train Acc: 77.78%\n",
      "Valid Loss: 0.6169 | Valid Acc: 78.96%\n",
      "Test  Loss: 0.3246 | Test Acc: 89.18%\n",
      "--------------------------------------------------\n",
      "[Epoch 263/1000] :\n"
     ]
    },
    {
     "name": "stderr",
     "output_type": "stream",
     "text": [
      "100%|██████████| 352/352 [00:34<00:00, 10.15it/s]\n"
     ]
    },
    {
     "name": "stdout",
     "output_type": "stream",
     "text": [
      "Train Loss: 0.0012 | Train Acc: 84.72%\n",
      "Valid Loss: 0.7081 | Valid Acc: 75.88%\n",
      "Test  Loss: 0.4407 | Test Acc: 85.26%\n",
      "--------------------------------------------------\n",
      "[Epoch 264/1000] :\n"
     ]
    },
    {
     "name": "stderr",
     "output_type": "stream",
     "text": [
      "100%|██████████| 352/352 [00:34<00:00, 10.18it/s]\n"
     ]
    },
    {
     "name": "stdout",
     "output_type": "stream",
     "text": [
      "Train Loss: 0.0007 | Train Acc: 91.67%\n",
      "Valid Loss: 0.6079 | Valid Acc: 78.66%\n",
      "Test  Loss: 0.3672 | Test Acc: 87.35%\n",
      "--------------------------------------------------\n",
      "[Epoch 265/1000] :\n"
     ]
    },
    {
     "name": "stderr",
     "output_type": "stream",
     "text": [
      "100%|██████████| 352/352 [00:34<00:00, 10.18it/s]\n"
     ]
    },
    {
     "name": "stdout",
     "output_type": "stream",
     "text": [
      "Train Loss: 0.0017 | Train Acc: 81.94%\n",
      "Valid Loss: 0.6697 | Valid Acc: 78.10%\n",
      "Test  Loss: 0.3982 | Test Acc: 86.97%\n",
      "--------------------------------------------------\n",
      "[Epoch 266/1000] :\n"
     ]
    },
    {
     "name": "stderr",
     "output_type": "stream",
     "text": [
      "100%|██████████| 352/352 [00:34<00:00, 10.11it/s]\n"
     ]
    },
    {
     "name": "stdout",
     "output_type": "stream",
     "text": [
      "Train Loss: 0.0018 | Train Acc: 73.61%\n",
      "Valid Loss: 0.5971 | Valid Acc: 79.08%\n",
      "Test  Loss: 0.3332 | Test Acc: 89.13%\n",
      "--------------------------------------------------\n",
      "[Epoch 267/1000] :\n"
     ]
    },
    {
     "name": "stderr",
     "output_type": "stream",
     "text": [
      "100%|██████████| 352/352 [00:34<00:00, 10.13it/s]\n"
     ]
    },
    {
     "name": "stdout",
     "output_type": "stream",
     "text": [
      "Train Loss: 0.0019 | Train Acc: 75.00%\n",
      "Valid Loss: 0.6049 | Valid Acc: 79.20%\n",
      "Test  Loss: 0.3414 | Test Acc: 88.29%\n",
      "--------------------------------------------------\n",
      "[Epoch 268/1000] :\n"
     ]
    },
    {
     "name": "stderr",
     "output_type": "stream",
     "text": [
      "100%|██████████| 352/352 [00:35<00:00,  9.94it/s]\n"
     ]
    },
    {
     "name": "stdout",
     "output_type": "stream",
     "text": [
      "Train Loss: 0.0014 | Train Acc: 80.56%\n",
      "Valid Loss: 0.6323 | Valid Acc: 77.96%\n",
      "Test  Loss: 0.3928 | Test Acc: 87.21%\n",
      "--------------------------------------------------\n",
      "[Epoch 269/1000] :\n"
     ]
    },
    {
     "name": "stderr",
     "output_type": "stream",
     "text": [
      "100%|██████████| 352/352 [00:35<00:00,  9.98it/s]\n"
     ]
    },
    {
     "name": "stdout",
     "output_type": "stream",
     "text": [
      "Train Loss: 0.0016 | Train Acc: 79.17%\n",
      "Valid Loss: 0.6385 | Valid Acc: 79.36%\n",
      "Test  Loss: 0.3309 | Test Acc: 89.13%\n",
      "--------------------------------------------------\n",
      "[Epoch 270/1000] :\n"
     ]
    },
    {
     "name": "stderr",
     "output_type": "stream",
     "text": [
      "100%|██████████| 352/352 [00:34<00:00, 10.14it/s]\n"
     ]
    },
    {
     "name": "stdout",
     "output_type": "stream",
     "text": [
      "Train Loss: 0.0014 | Train Acc: 84.72%\n",
      "Valid Loss: 0.6229 | Valid Acc: 79.02%\n",
      "Test  Loss: 0.3468 | Test Acc: 88.45%\n",
      "--------------------------------------------------\n",
      "[Epoch 271/1000] :\n"
     ]
    },
    {
     "name": "stderr",
     "output_type": "stream",
     "text": [
      "100%|██████████| 352/352 [00:35<00:00,  9.98it/s]\n"
     ]
    },
    {
     "name": "stdout",
     "output_type": "stream",
     "text": [
      "Train Loss: 0.0019 | Train Acc: 76.39%\n",
      "Valid Loss: 0.6506 | Valid Acc: 77.94%\n",
      "Test  Loss: 0.3527 | Test Acc: 88.14%\n",
      "--------------------------------------------------\n",
      "[Epoch 272/1000] :\n"
     ]
    },
    {
     "name": "stderr",
     "output_type": "stream",
     "text": [
      "100%|██████████| 352/352 [00:34<00:00, 10.08it/s]\n"
     ]
    },
    {
     "name": "stdout",
     "output_type": "stream",
     "text": [
      "Train Loss: 0.0015 | Train Acc: 80.56%\n",
      "Valid Loss: 0.6313 | Valid Acc: 79.02%\n",
      "Test  Loss: 0.3807 | Test Acc: 87.44%\n",
      "--------------------------------------------------\n",
      "[Epoch 273/1000] :\n"
     ]
    },
    {
     "name": "stderr",
     "output_type": "stream",
     "text": [
      "100%|██████████| 352/352 [00:35<00:00,  9.93it/s]\n"
     ]
    },
    {
     "name": "stdout",
     "output_type": "stream",
     "text": [
      "Train Loss: 0.0011 | Train Acc: 88.89%\n",
      "Valid Loss: 0.6900 | Valid Acc: 76.88%\n",
      "Test  Loss: 0.4369 | Test Acc: 86.37%\n",
      "--------------------------------------------------\n",
      "[Epoch 274/1000] :\n"
     ]
    },
    {
     "name": "stderr",
     "output_type": "stream",
     "text": [
      "100%|██████████| 352/352 [00:34<00:00, 10.07it/s]\n"
     ]
    },
    {
     "name": "stdout",
     "output_type": "stream",
     "text": [
      "Train Loss: 0.0012 | Train Acc: 84.72%\n",
      "Valid Loss: 0.7663 | Valid Acc: 75.10%\n",
      "Test  Loss: 0.4718 | Test Acc: 84.92%\n",
      "--------------------------------------------------\n",
      "[Epoch 275/1000] :\n"
     ]
    },
    {
     "name": "stderr",
     "output_type": "stream",
     "text": [
      "100%|██████████| 352/352 [00:34<00:00, 10.09it/s]\n"
     ]
    },
    {
     "name": "stdout",
     "output_type": "stream",
     "text": [
      "Train Loss: 0.0015 | Train Acc: 86.11%\n",
      "Valid Loss: 0.6362 | Valid Acc: 78.60%\n",
      "Test  Loss: 0.3369 | Test Acc: 88.51%\n",
      "--------------------------------------------------\n",
      "[Epoch 276/1000] :\n"
     ]
    },
    {
     "name": "stderr",
     "output_type": "stream",
     "text": [
      "100%|██████████| 352/352 [00:34<00:00, 10.27it/s]\n"
     ]
    },
    {
     "name": "stdout",
     "output_type": "stream",
     "text": [
      "Train Loss: 0.0019 | Train Acc: 77.78%\n",
      "Valid Loss: 0.5942 | Valid Acc: 79.58%\n",
      "Test  Loss: 0.3465 | Test Acc: 88.30%\n",
      "--------------------------------------------------\n",
      "[Epoch 277/1000] :\n"
     ]
    },
    {
     "name": "stderr",
     "output_type": "stream",
     "text": [
      "100%|██████████| 352/352 [00:35<00:00, 10.02it/s]\n"
     ]
    },
    {
     "name": "stdout",
     "output_type": "stream",
     "text": [
      "Train Loss: 0.0023 | Train Acc: 68.06%\n",
      "Valid Loss: 0.6867 | Valid Acc: 77.02%\n",
      "Test  Loss: 0.4671 | Test Acc: 85.31%\n",
      "--------------------------------------------------\n",
      "[Epoch 278/1000] :\n"
     ]
    },
    {
     "name": "stderr",
     "output_type": "stream",
     "text": [
      "100%|██████████| 352/352 [00:34<00:00, 10.09it/s]\n"
     ]
    },
    {
     "name": "stdout",
     "output_type": "stream",
     "text": [
      "Train Loss: 0.0011 | Train Acc: 87.50%\n",
      "Valid Loss: 0.6821 | Valid Acc: 76.70%\n",
      "Test  Loss: 0.5131 | Test Acc: 83.73%\n",
      "--------------------------------------------------\n",
      "[Epoch 279/1000] :\n"
     ]
    },
    {
     "name": "stderr",
     "output_type": "stream",
     "text": [
      "100%|██████████| 352/352 [00:35<00:00, 10.03it/s]\n"
     ]
    },
    {
     "name": "stdout",
     "output_type": "stream",
     "text": [
      "Train Loss: 0.0013 | Train Acc: 86.11%\n",
      "Valid Loss: 0.5982 | Valid Acc: 79.26%\n",
      "Test  Loss: 0.3272 | Test Acc: 88.99%\n",
      "--------------------------------------------------\n",
      "[Epoch 280/1000] :\n"
     ]
    },
    {
     "name": "stderr",
     "output_type": "stream",
     "text": [
      "100%|██████████| 352/352 [00:35<00:00,  9.91it/s]\n"
     ]
    },
    {
     "name": "stdout",
     "output_type": "stream",
     "text": [
      "Train Loss: 0.0018 | Train Acc: 76.39%\n",
      "Valid Loss: 0.6590 | Valid Acc: 76.96%\n",
      "Test  Loss: 0.4239 | Test Acc: 85.74%\n",
      "--------------------------------------------------\n",
      "[Epoch 281/1000] :\n"
     ]
    },
    {
     "name": "stderr",
     "output_type": "stream",
     "text": [
      "100%|██████████| 352/352 [00:35<00:00,  9.89it/s]\n"
     ]
    },
    {
     "name": "stdout",
     "output_type": "stream",
     "text": [
      "Train Loss: 0.0018 | Train Acc: 81.94%\n",
      "Valid Loss: 0.6143 | Valid Acc: 78.20%\n",
      "Test  Loss: 0.3378 | Test Acc: 88.63%\n",
      "--------------------------------------------------\n",
      "[Epoch 282/1000] :\n"
     ]
    },
    {
     "name": "stderr",
     "output_type": "stream",
     "text": [
      "100%|██████████| 352/352 [00:34<00:00, 10.07it/s]\n"
     ]
    },
    {
     "name": "stdout",
     "output_type": "stream",
     "text": [
      "Train Loss: 0.0015 | Train Acc: 79.17%\n",
      "Valid Loss: 0.6707 | Valid Acc: 77.28%\n",
      "Test  Loss: 0.3725 | Test Acc: 87.12%\n",
      "--------------------------------------------------\n",
      "[Epoch 283/1000] :\n"
     ]
    },
    {
     "name": "stderr",
     "output_type": "stream",
     "text": [
      "100%|██████████| 352/352 [00:35<00:00, 10.02it/s]\n"
     ]
    },
    {
     "name": "stdout",
     "output_type": "stream",
     "text": [
      "Train Loss: 0.0013 | Train Acc: 84.72%\n",
      "Valid Loss: 0.6455 | Valid Acc: 78.42%\n",
      "Test  Loss: 0.3878 | Test Acc: 87.23%\n",
      "--------------------------------------------------\n",
      "[Epoch 284/1000] :\n"
     ]
    },
    {
     "name": "stderr",
     "output_type": "stream",
     "text": [
      "100%|██████████| 352/352 [00:34<00:00, 10.10it/s]\n"
     ]
    },
    {
     "name": "stdout",
     "output_type": "stream",
     "text": [
      "Train Loss: 0.0014 | Train Acc: 83.33%\n",
      "Valid Loss: 0.6198 | Valid Acc: 79.12%\n",
      "Test  Loss: 0.3861 | Test Acc: 87.74%\n",
      "--------------------------------------------------\n",
      "[Epoch 285/1000] :\n"
     ]
    },
    {
     "name": "stderr",
     "output_type": "stream",
     "text": [
      "100%|██████████| 352/352 [00:35<00:00,  9.98it/s]\n"
     ]
    },
    {
     "name": "stdout",
     "output_type": "stream",
     "text": [
      "Train Loss: 0.0011 | Train Acc: 84.72%\n",
      "Valid Loss: 0.6380 | Valid Acc: 78.84%\n",
      "Test  Loss: 0.3572 | Test Acc: 88.22%\n",
      "--------------------------------------------------\n",
      "[Epoch 286/1000] :\n"
     ]
    },
    {
     "name": "stderr",
     "output_type": "stream",
     "text": [
      "100%|██████████| 352/352 [00:35<00:00,  9.98it/s]\n"
     ]
    },
    {
     "name": "stdout",
     "output_type": "stream",
     "text": [
      "Train Loss: 0.0013 | Train Acc: 80.56%\n",
      "Valid Loss: 0.6183 | Valid Acc: 79.58%\n",
      "Test  Loss: 0.3530 | Test Acc: 88.01%\n",
      "--------------------------------------------------\n",
      "[Epoch 287/1000] :\n"
     ]
    },
    {
     "name": "stderr",
     "output_type": "stream",
     "text": [
      "100%|██████████| 352/352 [00:35<00:00,  9.95it/s]\n"
     ]
    },
    {
     "name": "stdout",
     "output_type": "stream",
     "text": [
      "Train Loss: 0.0022 | Train Acc: 70.83%\n",
      "Valid Loss: 0.6170 | Valid Acc: 79.08%\n",
      "Test  Loss: 0.3687 | Test Acc: 87.87%\n",
      "--------------------------------------------------\n",
      "[Epoch 288/1000] :\n"
     ]
    },
    {
     "name": "stderr",
     "output_type": "stream",
     "text": [
      "100%|██████████| 352/352 [00:35<00:00, 10.03it/s]\n"
     ]
    },
    {
     "name": "stdout",
     "output_type": "stream",
     "text": [
      "Train Loss: 0.0014 | Train Acc: 81.94%\n",
      "Valid Loss: 0.6676 | Valid Acc: 77.64%\n",
      "Test  Loss: 0.3508 | Test Acc: 88.25%\n",
      "--------------------------------------------------\n",
      "[Epoch 289/1000] :\n"
     ]
    },
    {
     "name": "stderr",
     "output_type": "stream",
     "text": [
      "100%|██████████| 352/352 [00:34<00:00, 10.17it/s]\n"
     ]
    },
    {
     "name": "stdout",
     "output_type": "stream",
     "text": [
      "Train Loss: 0.0013 | Train Acc: 86.11%\n",
      "Valid Loss: 0.6185 | Valid Acc: 79.16%\n",
      "Test  Loss: 0.4273 | Test Acc: 86.34%\n",
      "--------------------------------------------------\n",
      "[Epoch 290/1000] :\n"
     ]
    },
    {
     "name": "stderr",
     "output_type": "stream",
     "text": [
      "100%|██████████| 352/352 [00:34<00:00, 10.10it/s]\n"
     ]
    },
    {
     "name": "stdout",
     "output_type": "stream",
     "text": [
      "Train Loss: 0.0017 | Train Acc: 76.39%\n",
      "Valid Loss: 0.6722 | Valid Acc: 77.08%\n",
      "Test  Loss: 0.4235 | Test Acc: 86.42%\n",
      "--------------------------------------------------\n",
      "[Epoch 291/1000] :\n"
     ]
    },
    {
     "name": "stderr",
     "output_type": "stream",
     "text": [
      "100%|██████████| 352/352 [00:34<00:00, 10.12it/s]\n"
     ]
    },
    {
     "name": "stdout",
     "output_type": "stream",
     "text": [
      "Train Loss: 0.0011 | Train Acc: 84.72%\n",
      "Valid Loss: 0.6267 | Valid Acc: 78.32%\n",
      "Test  Loss: 0.3803 | Test Acc: 87.80%\n",
      "--------------------------------------------------\n",
      "[Epoch 292/1000] :\n"
     ]
    },
    {
     "name": "stderr",
     "output_type": "stream",
     "text": [
      "100%|██████████| 352/352 [00:34<00:00, 10.25it/s]\n"
     ]
    },
    {
     "name": "stdout",
     "output_type": "stream",
     "text": [
      "Train Loss: 0.0020 | Train Acc: 75.00%\n",
      "Valid Loss: 0.7305 | Valid Acc: 76.16%\n",
      "Test  Loss: 0.4474 | Test Acc: 85.72%\n",
      "--------------------------------------------------\n",
      "[Epoch 293/1000] :\n"
     ]
    },
    {
     "name": "stderr",
     "output_type": "stream",
     "text": [
      "100%|██████████| 352/352 [00:35<00:00, 10.02it/s]\n"
     ]
    },
    {
     "name": "stdout",
     "output_type": "stream",
     "text": [
      "Train Loss: 0.0013 | Train Acc: 81.94%\n",
      "Valid Loss: 0.6337 | Valid Acc: 78.46%\n",
      "Test  Loss: 0.3607 | Test Acc: 87.90%\n",
      "--------------------------------------------------\n",
      "[Epoch 294/1000] :\n"
     ]
    },
    {
     "name": "stderr",
     "output_type": "stream",
     "text": [
      "100%|██████████| 352/352 [00:34<00:00, 10.26it/s]\n"
     ]
    },
    {
     "name": "stdout",
     "output_type": "stream",
     "text": [
      "Train Loss: 0.0011 | Train Acc: 81.94%\n",
      "Valid Loss: 0.5895 | Valid Acc: 79.04%\n",
      "Test  Loss: 0.3482 | Test Acc: 88.18%\n",
      "--------------------------------------------------\n",
      "[Epoch 295/1000] :\n"
     ]
    },
    {
     "name": "stderr",
     "output_type": "stream",
     "text": [
      "100%|██████████| 352/352 [00:35<00:00,  9.85it/s]\n"
     ]
    },
    {
     "name": "stdout",
     "output_type": "stream",
     "text": [
      "Train Loss: 0.0018 | Train Acc: 77.78%\n",
      "Valid Loss: 0.6796 | Valid Acc: 77.32%\n",
      "Test  Loss: 0.3593 | Test Acc: 88.20%\n",
      "--------------------------------------------------\n",
      "[Epoch 296/1000] :\n"
     ]
    },
    {
     "name": "stderr",
     "output_type": "stream",
     "text": [
      "100%|██████████| 352/352 [00:35<00:00,  9.78it/s]\n"
     ]
    },
    {
     "name": "stdout",
     "output_type": "stream",
     "text": [
      "Train Loss: 0.0014 | Train Acc: 80.56%\n",
      "Valid Loss: 0.7212 | Valid Acc: 75.24%\n",
      "Test  Loss: 0.4776 | Test Acc: 84.50%\n",
      "--------------------------------------------------\n",
      "[Epoch 297/1000] :\n"
     ]
    },
    {
     "name": "stderr",
     "output_type": "stream",
     "text": [
      "100%|██████████| 352/352 [00:35<00:00,  9.89it/s]\n"
     ]
    },
    {
     "name": "stdout",
     "output_type": "stream",
     "text": [
      "Train Loss: 0.0019 | Train Acc: 73.61%\n",
      "Valid Loss: 0.6400 | Valid Acc: 78.04%\n",
      "Test  Loss: 0.3848 | Test Acc: 87.29%\n",
      "--------------------------------------------------\n",
      "[Epoch 298/1000] :\n"
     ]
    },
    {
     "name": "stderr",
     "output_type": "stream",
     "text": [
      "100%|██████████| 352/352 [00:35<00:00, 10.01it/s]\n"
     ]
    },
    {
     "name": "stdout",
     "output_type": "stream",
     "text": [
      "Train Loss: 0.0012 | Train Acc: 87.50%\n",
      "Valid Loss: 0.6709 | Valid Acc: 77.16%\n",
      "Test  Loss: 0.4493 | Test Acc: 85.91%\n",
      "--------------------------------------------------\n",
      "[Epoch 299/1000] :\n"
     ]
    },
    {
     "name": "stderr",
     "output_type": "stream",
     "text": [
      "100%|██████████| 352/352 [00:35<00:00,  9.96it/s]\n"
     ]
    },
    {
     "name": "stdout",
     "output_type": "stream",
     "text": [
      "Train Loss: 0.0010 | Train Acc: 90.28%\n",
      "Valid Loss: 0.6232 | Valid Acc: 78.64%\n",
      "Test  Loss: 0.3640 | Test Acc: 88.03%\n",
      "--------------------------------------------------\n",
      "[Epoch 300/1000] :\n"
     ]
    },
    {
     "name": "stderr",
     "output_type": "stream",
     "text": [
      " 38%|███▊      | 132/352 [00:13<00:22,  9.83it/s]"
     ]
    }
   ],
   "source": [
    "Training = DoTraining(\n",
    "    model=model,\n",
    "    criterion=criterion,\n",
    "    optimizer=optimizer,\n",
    "    scaler=scaler,\n",
    "    scheduler=scheduler,\n",
    "    earlystopper=earlystopper,\n",
    "    device=device,\n",
    "    logs=logs,\n",
    "    file_path=file_path,\n",
    ")\n",
    "pre_epochs = len(Training.logs[\"train_loss\"])\n",
    "\n",
    "for epoch in range(NUM_EPOCHS):\n",
    "    now = epoch + 1 + pre_epochs\n",
    "    print(f\"[Epoch {epoch+1+pre_epochs}/{NUM_EPOCHS}] :\")\n",
    "\n",
    "    if DATASET == \"ImageNet2012\":\n",
    "        eval_loss = Training.SingleEpoch(train_dataloader, valid_dataloader)\n",
    "    else:\n",
    "        eval_loss = Training.SingleEpoch(\n",
    "            train_dataloader, valid_dataloader, test_dataloader\n",
    "        )\n",
    "\n",
    "    Training.Save()\n",
    "\n",
    "    if earlystopper.check(eval_loss) == True:\n",
    "        break\n",
    "\n",
    "    print(\"-\" * 50)"
   ]
  },
  {
   "cell_type": "code",
   "execution_count": 23,
   "metadata": {},
   "outputs": [
    {
     "data": {
      "image/png": "[encoded data removed]",
      "text/plain": [
       "<Figure size 1000x500 with 2 Axes>"
      ]
     },
     "metadata": {},
     "output_type": "display_data"
    }
   ],
   "source": [
    "view = LogViewer(logs)\n",
    "view.draw()"
   ]
  },
  {
   "cell_type": "code",
   "execution_count": 21,
   "metadata": {},
   "outputs": [
    {
     "name": "stdout",
     "output_type": "stream",
     "text": [
      "1 epoch: train_loss=0.0065, train_acc=0.1250, test_loss=2.3008, test_acc=0.1020, valid_loss=2.2896, valid_acc=0.1044, lr=0.1000\n",
      "2 epoch: train_loss=0.0059, train_acc=0.1806, test_loss=2.0855, test_acc=0.1916, valid_loss=2.1549, valid_acc=0.1806, lr=0.1000\n",
      "3 epoch: train_loss=0.0060, train_acc=0.2083, test_loss=1.8122, test_acc=0.3017, valid_loss=1.9986, valid_acc=0.2488, lr=0.1000\n",
      "4 epoch: train_loss=0.0045, train_acc=0.4167, test_loss=1.6018, test_acc=0.3969, valid_loss=1.8384, valid_acc=0.3298, lr=0.1000\n",
      "5 epoch: train_loss=0.0043, train_acc=0.4306, test_loss=1.4358, test_acc=0.4802, valid_loss=1.7197, valid_acc=0.4128, lr=0.1000\n",
      "6 epoch: train_loss=0.0045, train_acc=0.4861, test_loss=1.2111, test_acc=0.5632, valid_loss=1.5252, valid_acc=0.4486, lr=0.1000\n",
      "7 epoch: train_loss=0.0037, train_acc=0.4583, test_loss=1.5710, test_acc=0.4800, valid_loss=1.6367, valid_acc=0.4486, lr=0.1000\n",
      "8 epoch: train_loss=0.0027, train_acc=0.6111, test_loss=1.0035, test_acc=0.6577, valid_loss=1.3128, valid_acc=0.5538, lr=0.1000\n",
      "9 epoch: train_loss=0.0025, train_acc=0.7083, test_loss=1.0515, test_acc=0.6363, valid_loss=1.2400, valid_acc=0.5608, lr=0.1000\n",
      "10 epoch: train_loss=0.0030, train_acc=0.5972, test_loss=0.8735, test_acc=0.7003, valid_loss=1.1066, valid_acc=0.6216, lr=0.1000\n",
      "11 epoch: train_loss=0.0027, train_acc=0.6528, test_loss=0.9151, test_acc=0.6931, valid_loss=1.2551, valid_acc=0.5770, lr=0.1000\n",
      "12 epoch: train_loss=0.0034, train_acc=0.5556, test_loss=0.6950, test_acc=0.7614, valid_loss=1.0146, valid_acc=0.6408, lr=0.1000\n",
      "13 epoch: train_loss=0.0021, train_acc=0.7500, test_loss=0.7548, test_acc=0.7387, valid_loss=0.9804, valid_acc=0.6506, lr=0.1000\n",
      "14 epoch: train_loss=0.0023, train_acc=0.7500, test_loss=0.7307, test_acc=0.7473, valid_loss=0.9893, valid_acc=0.6516, lr=0.1000\n",
      "15 epoch: train_loss=0.0022, train_acc=0.7222, test_loss=0.6972, test_acc=0.7597, valid_loss=1.0016, valid_acc=0.6612, lr=0.1000\n",
      "16 epoch: train_loss=0.0030, train_acc=0.6250, test_loss=0.6365, test_acc=0.7808, valid_loss=0.9130, valid_acc=0.6920, lr=0.1000\n",
      "17 epoch: train_loss=0.0027, train_acc=0.6528, test_loss=0.6741, test_acc=0.7760, valid_loss=0.9509, valid_acc=0.6776, lr=0.1000\n",
      "18 epoch: train_loss=0.0022, train_acc=0.7083, test_loss=0.6528, test_acc=0.7776, valid_loss=0.9422, valid_acc=0.6700, lr=0.1000\n",
      "19 epoch: train_loss=0.0022, train_acc=0.6944, test_loss=0.6165, test_acc=0.7900, valid_loss=0.9160, valid_acc=0.6794, lr=0.1000\n",
      "20 epoch: train_loss=0.0027, train_acc=0.6111, test_loss=0.7098, test_acc=0.7698, valid_loss=0.9235, valid_acc=0.6854, lr=0.1000\n",
      "21 epoch: train_loss=0.0025, train_acc=0.7083, test_loss=0.6020, test_acc=0.7971, valid_loss=0.8619, valid_acc=0.6956, lr=0.1000\n",
      "22 epoch: train_loss=0.0021, train_acc=0.7361, test_loss=0.5720, test_acc=0.8022, valid_loss=0.8699, valid_acc=0.7110, lr=0.1000\n",
      "23 epoch: train_loss=0.0024, train_acc=0.6667, test_loss=0.5683, test_acc=0.8042, valid_loss=0.8666, valid_acc=0.6998, lr=0.1000\n",
      "24 epoch: train_loss=0.0014, train_acc=0.7917, test_loss=0.5624, test_acc=0.8049, valid_loss=0.8432, valid_acc=0.7076, lr=0.1000\n",
      "25 epoch: train_loss=0.0021, train_acc=0.7639, test_loss=0.6299, test_acc=0.7880, valid_loss=0.9265, valid_acc=0.6878, lr=0.1000\n",
      "26 epoch: train_loss=0.0020, train_acc=0.7778, test_loss=0.6035, test_acc=0.7901, valid_loss=0.8844, valid_acc=0.6872, lr=0.1000\n",
      "27 epoch: train_loss=0.0028, train_acc=0.6111, test_loss=0.5639, test_acc=0.8142, valid_loss=0.9443, valid_acc=0.6774, lr=0.1000\n",
      "28 epoch: train_loss=0.0013, train_acc=0.8889, test_loss=0.5243, test_acc=0.8200, valid_loss=0.8265, valid_acc=0.7156, lr=0.1000\n",
      "29 epoch: train_loss=0.0025, train_acc=0.6806, test_loss=0.5223, test_acc=0.8214, valid_loss=0.8698, valid_acc=0.7094, lr=0.1000\n",
      "30 epoch: train_loss=0.0019, train_acc=0.7917, test_loss=0.5103, test_acc=0.8255, valid_loss=0.7951, valid_acc=0.7176, lr=0.1000\n",
      "31 epoch: train_loss=0.0017, train_acc=0.7917, test_loss=0.5549, test_acc=0.8123, valid_loss=0.8501, valid_acc=0.7056, lr=0.1000\n",
      "32 epoch: train_loss=0.0021, train_acc=0.7639, test_loss=0.4955, test_acc=0.8316, valid_loss=0.7510, valid_acc=0.7402, lr=0.1000\n",
      "33 epoch: train_loss=0.0021, train_acc=0.7778, test_loss=0.5264, test_acc=0.8171, valid_loss=0.8385, valid_acc=0.7052, lr=0.1000\n",
      "34 epoch: train_loss=0.0022, train_acc=0.7639, test_loss=0.4780, test_acc=0.8351, valid_loss=0.8015, valid_acc=0.7212, lr=0.1000\n",
      "35 epoch: train_loss=0.0016, train_acc=0.8056, test_loss=0.4867, test_acc=0.8325, valid_loss=0.7853, valid_acc=0.7368, lr=0.1000\n",
      "36 epoch: train_loss=0.0020, train_acc=0.7500, test_loss=0.6310, test_acc=0.7862, valid_loss=0.8161, valid_acc=0.7130, lr=0.1000\n",
      "37 epoch: train_loss=0.0019, train_acc=0.7778, test_loss=0.5274, test_acc=0.8248, valid_loss=0.8352, valid_acc=0.7092, lr=0.1000\n",
      "38 epoch: train_loss=0.0016, train_acc=0.8194, test_loss=0.6143, test_acc=0.8066, valid_loss=0.9289, valid_acc=0.6936, lr=0.1000\n",
      "39 epoch: train_loss=0.0018, train_acc=0.7917, test_loss=0.5016, test_acc=0.8294, valid_loss=0.7858, valid_acc=0.7236, lr=0.1000\n",
      "40 epoch: train_loss=0.0023, train_acc=0.6806, test_loss=0.5046, test_acc=0.8320, valid_loss=0.8200, valid_acc=0.7204, lr=0.1000\n",
      "41 epoch: train_loss=0.0020, train_acc=0.7778, test_loss=0.4381, test_acc=0.8504, valid_loss=0.7702, valid_acc=0.7344, lr=0.1000\n",
      "42 epoch: train_loss=0.0017, train_acc=0.7083, test_loss=0.4335, test_acc=0.8503, valid_loss=0.7605, valid_acc=0.7444, lr=0.1000\n",
      "43 epoch: train_loss=0.0021, train_acc=0.7222, test_loss=0.5124, test_acc=0.8286, valid_loss=0.7870, valid_acc=0.7308, lr=0.1000\n",
      "44 epoch: train_loss=0.0016, train_acc=0.8056, test_loss=0.4679, test_acc=0.8408, valid_loss=0.7512, valid_acc=0.7382, lr=0.1000\n",
      "45 epoch: train_loss=0.0020, train_acc=0.7778, test_loss=0.4335, test_acc=0.8519, valid_loss=0.7290, valid_acc=0.7402, lr=0.1000\n",
      "46 epoch: train_loss=0.0016, train_acc=0.7500, test_loss=0.5743, test_acc=0.8182, valid_loss=0.8046, valid_acc=0.7240, lr=0.1000\n",
      "47 epoch: train_loss=0.0019, train_acc=0.7639, test_loss=0.5160, test_acc=0.8325, valid_loss=0.7381, valid_acc=0.7428, lr=0.1000\n",
      "48 epoch: train_loss=0.0018, train_acc=0.7778, test_loss=0.4614, test_acc=0.8421, valid_loss=0.7267, valid_acc=0.7470, lr=0.1000\n",
      "49 epoch: train_loss=0.0016, train_acc=0.7778, test_loss=0.4689, test_acc=0.8396, valid_loss=0.7360, valid_acc=0.7448, lr=0.1000\n",
      "50 epoch: train_loss=0.0021, train_acc=0.7639, test_loss=0.4977, test_acc=0.8313, valid_loss=0.7538, valid_acc=0.7310, lr=0.1000\n",
      "51 epoch: train_loss=0.0021, train_acc=0.7500, test_loss=0.4736, test_acc=0.8388, valid_loss=0.7760, valid_acc=0.7384, lr=0.1000\n",
      "52 epoch: train_loss=0.0014, train_acc=0.8611, test_loss=0.6095, test_acc=0.8021, valid_loss=0.8471, valid_acc=0.7200, lr=0.1000\n",
      "53 epoch: train_loss=0.0018, train_acc=0.7083, test_loss=0.5002, test_acc=0.8301, valid_loss=0.7656, valid_acc=0.7340, lr=0.1000\n",
      "54 epoch: train_loss=0.0013, train_acc=0.8194, test_loss=0.5049, test_acc=0.8307, valid_loss=0.7193, valid_acc=0.7518, lr=0.1000\n",
      "55 epoch: train_loss=0.0017, train_acc=0.8194, test_loss=0.4299, test_acc=0.8527, valid_loss=0.7260, valid_acc=0.7454, lr=0.1000\n",
      "56 epoch: train_loss=0.0028, train_acc=0.6528, test_loss=0.4582, test_acc=0.8484, valid_loss=0.6766, valid_acc=0.7664, lr=0.1000\n",
      "57 epoch: train_loss=0.0021, train_acc=0.7222, test_loss=0.4666, test_acc=0.8390, valid_loss=0.7454, valid_acc=0.7426, lr=0.1000\n",
      "58 epoch: train_loss=0.0015, train_acc=0.8472, test_loss=0.4594, test_acc=0.8438, valid_loss=0.7145, valid_acc=0.7526, lr=0.1000\n",
      "59 epoch: train_loss=0.0018, train_acc=0.7778, test_loss=0.4134, test_acc=0.8548, valid_loss=0.7041, valid_acc=0.7642, lr=0.1000\n",
      "60 epoch: train_loss=0.0024, train_acc=0.7361, test_loss=0.4076, test_acc=0.8572, valid_loss=0.7192, valid_acc=0.7490, lr=0.1000\n",
      "61 epoch: train_loss=0.0017, train_acc=0.7222, test_loss=0.4689, test_acc=0.8477, valid_loss=0.7090, valid_acc=0.7546, lr=0.1000\n",
      "62 epoch: train_loss=0.0017, train_acc=0.8750, test_loss=0.4736, test_acc=0.8462, valid_loss=0.7947, valid_acc=0.7342, lr=0.1000\n",
      "63 epoch: train_loss=0.0015, train_acc=0.7917, test_loss=0.4527, test_acc=0.8488, valid_loss=0.7414, valid_acc=0.7560, lr=0.1000\n",
      "64 epoch: train_loss=0.0016, train_acc=0.7917, test_loss=0.4106, test_acc=0.8569, valid_loss=0.7293, valid_acc=0.7416, lr=0.1000\n",
      "65 epoch: train_loss=0.0020, train_acc=0.7361, test_loss=0.4455, test_acc=0.8485, valid_loss=0.7109, valid_acc=0.7554, lr=0.1000\n",
      "66 epoch: train_loss=0.0012, train_acc=0.8889, test_loss=0.5496, test_acc=0.8220, valid_loss=0.8064, valid_acc=0.7210, lr=0.1000\n",
      "67 epoch: train_loss=0.0020, train_acc=0.8194, test_loss=0.4085, test_acc=0.8591, valid_loss=0.6978, valid_acc=0.7610, lr=0.1000\n",
      "68 epoch: train_loss=0.0023, train_acc=0.7500, test_loss=0.5086, test_acc=0.8268, valid_loss=0.7446, valid_acc=0.7486, lr=0.1000\n",
      "69 epoch: train_loss=0.0020, train_acc=0.7222, test_loss=0.3985, test_acc=0.8635, valid_loss=0.6609, valid_acc=0.7700, lr=0.1000\n",
      "70 epoch: train_loss=0.0016, train_acc=0.8333, test_loss=0.4293, test_acc=0.8553, valid_loss=0.7156, valid_acc=0.7552, lr=0.1000\n",
      "71 epoch: train_loss=0.0019, train_acc=0.7778, test_loss=0.4621, test_acc=0.8435, valid_loss=0.6990, valid_acc=0.7624, lr=0.1000\n",
      "72 epoch: train_loss=0.0015, train_acc=0.8611, test_loss=0.4148, test_acc=0.8596, valid_loss=0.6843, valid_acc=0.7630, lr=0.1000\n",
      "73 epoch: train_loss=0.0014, train_acc=0.8472, test_loss=0.4720, test_acc=0.8369, valid_loss=0.7480, valid_acc=0.7460, lr=0.1000\n",
      "74 epoch: train_loss=0.0017, train_acc=0.7917, test_loss=0.4971, test_acc=0.8362, valid_loss=0.7835, valid_acc=0.7354, lr=0.1000\n",
      "75 epoch: train_loss=0.0014, train_acc=0.8056, test_loss=0.4618, test_acc=0.8447, valid_loss=0.7162, valid_acc=0.7474, lr=0.1000\n",
      "76 epoch: train_loss=0.0020, train_acc=0.7917, test_loss=0.3584, test_acc=0.8820, valid_loss=0.6256, valid_acc=0.7768, lr=0.1000\n",
      "77 epoch: train_loss=0.0018, train_acc=0.8056, test_loss=0.4346, test_acc=0.8532, valid_loss=0.6899, valid_acc=0.7568, lr=0.1000\n",
      "78 epoch: train_loss=0.0018, train_acc=0.7639, test_loss=0.4870, test_acc=0.8395, valid_loss=0.7176, valid_acc=0.7508, lr=0.1000\n",
      "79 epoch: train_loss=0.0015, train_acc=0.8333, test_loss=0.4370, test_acc=0.8585, valid_loss=0.6935, valid_acc=0.7642, lr=0.1000\n",
      "80 epoch: train_loss=0.0014, train_acc=0.8611, test_loss=0.4353, test_acc=0.8505, valid_loss=0.7178, valid_acc=0.7474, lr=0.1000\n",
      "81 epoch: train_loss=0.0019, train_acc=0.7917, test_loss=0.4199, test_acc=0.8584, valid_loss=0.6996, valid_acc=0.7578, lr=0.1000\n",
      "82 epoch: train_loss=0.0013, train_acc=0.8333, test_loss=0.3632, test_acc=0.8763, valid_loss=0.6698, valid_acc=0.7676, lr=0.1000\n",
      "83 epoch: train_loss=0.0013, train_acc=0.8611, test_loss=0.4130, test_acc=0.8576, valid_loss=0.7336, valid_acc=0.7548, lr=0.1000\n",
      "84 epoch: train_loss=0.0019, train_acc=0.7639, test_loss=0.4229, test_acc=0.8556, valid_loss=0.6748, valid_acc=0.7586, lr=0.1000\n",
      "85 epoch: train_loss=0.0013, train_acc=0.8472, test_loss=0.3911, test_acc=0.8690, valid_loss=0.6700, valid_acc=0.7670, lr=0.1000\n",
      "86 epoch: train_loss=0.0014, train_acc=0.8194, test_loss=0.4141, test_acc=0.8609, valid_loss=0.6704, valid_acc=0.7720, lr=0.1000\n",
      "87 epoch: train_loss=0.0015, train_acc=0.8056, test_loss=0.5626, test_acc=0.8127, valid_loss=0.8345, valid_acc=0.7136, lr=0.1000\n",
      "88 epoch: train_loss=0.0014, train_acc=0.8194, test_loss=0.4447, test_acc=0.8559, valid_loss=0.7044, valid_acc=0.7602, lr=0.1000\n",
      "89 epoch: train_loss=0.0012, train_acc=0.8889, test_loss=0.4196, test_acc=0.8640, valid_loss=0.6669, valid_acc=0.7740, lr=0.1000\n",
      "90 epoch: train_loss=0.0017, train_acc=0.7778, test_loss=0.4381, test_acc=0.8593, valid_loss=0.7289, valid_acc=0.7502, lr=0.1000\n",
      "91 epoch: train_loss=0.0018, train_acc=0.8056, test_loss=0.4664, test_acc=0.8451, valid_loss=0.8288, valid_acc=0.7202, lr=0.1000\n",
      "92 epoch: train_loss=0.0016, train_acc=0.7639, test_loss=0.6197, test_acc=0.8063, valid_loss=0.7999, valid_acc=0.7310, lr=0.1000\n",
      "93 epoch: train_loss=0.0019, train_acc=0.8056, test_loss=0.4094, test_acc=0.8615, valid_loss=0.7056, valid_acc=0.7590, lr=0.1000\n",
      "94 epoch: train_loss=0.0015, train_acc=0.8333, test_loss=0.4762, test_acc=0.8403, valid_loss=0.6909, valid_acc=0.7592, lr=0.1000\n",
      "95 epoch: train_loss=0.0016, train_acc=0.8194, test_loss=0.5154, test_acc=0.8340, valid_loss=0.7837, valid_acc=0.7382, lr=0.1000\n",
      "96 epoch: train_loss=0.0016, train_acc=0.7361, test_loss=0.3910, test_acc=0.8652, valid_loss=0.6594, valid_acc=0.7778, lr=0.1000\n",
      "97 epoch: train_loss=0.0014, train_acc=0.8194, test_loss=0.3805, test_acc=0.8698, valid_loss=0.6487, valid_acc=0.7734, lr=0.1000\n",
      "98 epoch: train_loss=0.0019, train_acc=0.7500, test_loss=0.4914, test_acc=0.8445, valid_loss=0.8462, valid_acc=0.7190, lr=0.1000\n",
      "99 epoch: train_loss=0.0011, train_acc=0.8472, test_loss=0.5237, test_acc=0.8321, valid_loss=0.7947, valid_acc=0.7396, lr=0.1000\n",
      "100 epoch: train_loss=0.0012, train_acc=0.8194, test_loss=0.5093, test_acc=0.8342, valid_loss=0.6745, valid_acc=0.7654, lr=0.1000\n",
      "101 epoch: train_loss=0.0014, train_acc=0.8333, test_loss=0.4308, test_acc=0.8587, valid_loss=0.6869, valid_acc=0.7692, lr=0.1000\n",
      "102 epoch: train_loss=0.0012, train_acc=0.8611, test_loss=0.4249, test_acc=0.8551, valid_loss=0.6634, valid_acc=0.7672, lr=0.1000\n",
      "103 epoch: train_loss=0.0020, train_acc=0.7083, test_loss=0.3905, test_acc=0.8646, valid_loss=0.6563, valid_acc=0.7704, lr=0.1000\n",
      "104 epoch: train_loss=0.0025, train_acc=0.7083, test_loss=0.4628, test_acc=0.8481, valid_loss=0.7252, valid_acc=0.7542, lr=0.1000\n",
      "105 epoch: train_loss=0.0017, train_acc=0.7778, test_loss=0.4119, test_acc=0.8642, valid_loss=0.6442, valid_acc=0.7680, lr=0.1000\n",
      "106 epoch: train_loss=0.0019, train_acc=0.7639, test_loss=0.4420, test_acc=0.8536, valid_loss=0.6870, valid_acc=0.7602, lr=0.1000\n",
      "107 epoch: train_loss=0.0015, train_acc=0.8333, test_loss=0.4498, test_acc=0.8561, valid_loss=0.7346, valid_acc=0.7510, lr=0.1000\n",
      "108 epoch: train_loss=0.0016, train_acc=0.8194, test_loss=0.3816, test_acc=0.8681, valid_loss=0.6761, valid_acc=0.7672, lr=0.1000\n",
      "109 epoch: train_loss=0.0015, train_acc=0.8056, test_loss=0.4955, test_acc=0.8361, valid_loss=0.8213, valid_acc=0.7258, lr=0.1000\n",
      "110 epoch: train_loss=0.0014, train_acc=0.8333, test_loss=0.3511, test_acc=0.8833, valid_loss=0.6440, valid_acc=0.7758, lr=0.1000\n",
      "111 epoch: train_loss=0.0022, train_acc=0.8056, test_loss=0.4397, test_acc=0.8507, valid_loss=0.6793, valid_acc=0.7616, lr=0.1000\n",
      "112 epoch: train_loss=0.0017, train_acc=0.7639, test_loss=0.3934, test_acc=0.8631, valid_loss=0.6863, valid_acc=0.7700, lr=0.1000\n",
      "113 epoch: train_loss=0.0018, train_acc=0.7639, test_loss=0.4771, test_acc=0.8418, valid_loss=0.7691, valid_acc=0.7410, lr=0.1000\n",
      "114 epoch: train_loss=0.0019, train_acc=0.7639, test_loss=0.3728, test_acc=0.8767, valid_loss=0.6943, valid_acc=0.7662, lr=0.1000\n",
      "115 epoch: train_loss=0.0017, train_acc=0.7639, test_loss=0.3938, test_acc=0.8726, valid_loss=0.7057, valid_acc=0.7654, lr=0.1000\n",
      "116 epoch: train_loss=0.0014, train_acc=0.8333, test_loss=0.3947, test_acc=0.8679, valid_loss=0.6668, valid_acc=0.7714, lr=0.1000\n",
      "117 epoch: train_loss=0.0016, train_acc=0.8056, test_loss=0.3622, test_acc=0.8761, valid_loss=0.6248, valid_acc=0.7786, lr=0.1000\n",
      "118 epoch: train_loss=0.0016, train_acc=0.8056, test_loss=0.3889, test_acc=0.8648, valid_loss=0.6551, valid_acc=0.7780, lr=0.1000\n",
      "119 epoch: train_loss=0.0018, train_acc=0.7639, test_loss=0.4433, test_acc=0.8523, valid_loss=0.6961, valid_acc=0.7612, lr=0.1000\n",
      "120 epoch: train_loss=0.0011, train_acc=0.8472, test_loss=0.4294, test_acc=0.8556, valid_loss=0.6879, valid_acc=0.7588, lr=0.1000\n",
      "121 epoch: train_loss=0.0019, train_acc=0.7639, test_loss=0.3733, test_acc=0.8724, valid_loss=0.6403, valid_acc=0.7792, lr=0.1000\n",
      "122 epoch: train_loss=0.0011, train_acc=0.8889, test_loss=0.3912, test_acc=0.8655, valid_loss=0.6564, valid_acc=0.7792, lr=0.1000\n",
      "123 epoch: train_loss=0.0018, train_acc=0.8194, test_loss=0.4175, test_acc=0.8586, valid_loss=0.6949, valid_acc=0.7582, lr=0.1000\n",
      "124 epoch: train_loss=0.0012, train_acc=0.8333, test_loss=0.4406, test_acc=0.8553, valid_loss=0.7137, valid_acc=0.7538, lr=0.1000\n",
      "125 epoch: train_loss=0.0020, train_acc=0.6944, test_loss=0.4055, test_acc=0.8647, valid_loss=0.7081, valid_acc=0.7598, lr=0.1000\n",
      "126 epoch: train_loss=0.0013, train_acc=0.8194, test_loss=0.4359, test_acc=0.8598, valid_loss=0.6456, valid_acc=0.7740, lr=0.1000\n",
      "127 epoch: train_loss=0.0019, train_acc=0.7639, test_loss=0.3966, test_acc=0.8679, valid_loss=0.6982, valid_acc=0.7612, lr=0.1000\n",
      "128 epoch: train_loss=0.0022, train_acc=0.7361, test_loss=0.3480, test_acc=0.8768, valid_loss=0.6586, valid_acc=0.7702, lr=0.1000\n",
      "129 epoch: train_loss=0.0016, train_acc=0.8472, test_loss=0.3727, test_acc=0.8729, valid_loss=0.6412, valid_acc=0.7844, lr=0.1000\n",
      "130 epoch: train_loss=0.0015, train_acc=0.8056, test_loss=0.3685, test_acc=0.8742, valid_loss=0.7257, valid_acc=0.7488, lr=0.1000\n",
      "131 epoch: train_loss=0.0015, train_acc=0.7917, test_loss=0.3551, test_acc=0.8792, valid_loss=0.6285, valid_acc=0.7796, lr=0.1000\n",
      "132 epoch: train_loss=0.0014, train_acc=0.8194, test_loss=0.4220, test_acc=0.8678, valid_loss=0.6939, valid_acc=0.7696, lr=0.1000\n",
      "133 epoch: train_loss=0.0018, train_acc=0.8056, test_loss=0.4107, test_acc=0.8621, valid_loss=0.6434, valid_acc=0.7718, lr=0.1000\n",
      "134 epoch: train_loss=0.0014, train_acc=0.8333, test_loss=0.4335, test_acc=0.8582, valid_loss=0.6833, valid_acc=0.7640, lr=0.1000\n",
      "135 epoch: train_loss=0.0017, train_acc=0.8472, test_loss=0.3692, test_acc=0.8710, valid_loss=0.6549, valid_acc=0.7760, lr=0.1000\n",
      "136 epoch: train_loss=0.0021, train_acc=0.7222, test_loss=0.4653, test_acc=0.8487, valid_loss=0.7267, valid_acc=0.7596, lr=0.1000\n",
      "137 epoch: train_loss=0.0017, train_acc=0.8056, test_loss=0.3824, test_acc=0.8684, valid_loss=0.6888, valid_acc=0.7642, lr=0.1000\n",
      "138 epoch: train_loss=0.0014, train_acc=0.8056, test_loss=0.4498, test_acc=0.8575, valid_loss=0.6749, valid_acc=0.7692, lr=0.1000\n",
      "139 epoch: train_loss=0.0010, train_acc=0.9167, test_loss=0.3543, test_acc=0.8783, valid_loss=0.6225, valid_acc=0.7776, lr=0.1000\n",
      "140 epoch: train_loss=0.0018, train_acc=0.7917, test_loss=0.3921, test_acc=0.8742, valid_loss=0.6443, valid_acc=0.7832, lr=0.1000\n",
      "141 epoch: train_loss=0.0017, train_acc=0.7917, test_loss=0.4500, test_acc=0.8531, valid_loss=0.6891, valid_acc=0.7576, lr=0.1000\n",
      "142 epoch: train_loss=0.0018, train_acc=0.8056, test_loss=0.4326, test_acc=0.8593, valid_loss=0.7048, valid_acc=0.7696, lr=0.1000\n",
      "143 epoch: train_loss=0.0017, train_acc=0.7778, test_loss=0.4528, test_acc=0.8497, valid_loss=0.7106, valid_acc=0.7624, lr=0.1000\n",
      "144 epoch: train_loss=0.0020, train_acc=0.7778, test_loss=0.3604, test_acc=0.8794, valid_loss=0.6367, valid_acc=0.7730, lr=0.1000\n",
      "145 epoch: train_loss=0.0022, train_acc=0.7500, test_loss=0.3905, test_acc=0.8715, valid_loss=0.6224, valid_acc=0.7832, lr=0.1000\n",
      "146 epoch: train_loss=0.0015, train_acc=0.8333, test_loss=0.3428, test_acc=0.8848, valid_loss=0.6351, valid_acc=0.7812, lr=0.1000\n",
      "147 epoch: train_loss=0.0016, train_acc=0.7639, test_loss=0.5036, test_acc=0.8416, valid_loss=0.7350, valid_acc=0.7596, lr=0.1000\n",
      "148 epoch: train_loss=0.0014, train_acc=0.8194, test_loss=0.3575, test_acc=0.8782, valid_loss=0.6259, valid_acc=0.7876, lr=0.1000\n",
      "149 epoch: train_loss=0.0017, train_acc=0.8056, test_loss=0.4325, test_acc=0.8538, valid_loss=0.6711, valid_acc=0.7622, lr=0.1000\n",
      "150 epoch: train_loss=0.0013, train_acc=0.8750, test_loss=0.3528, test_acc=0.8794, valid_loss=0.6653, valid_acc=0.7672, lr=0.1000\n",
      "151 epoch: train_loss=0.0016, train_acc=0.7639, test_loss=0.4493, test_acc=0.8566, valid_loss=0.7135, valid_acc=0.7610, lr=0.1000\n",
      "152 epoch: train_loss=0.0016, train_acc=0.7917, test_loss=0.3734, test_acc=0.8753, valid_loss=0.6834, valid_acc=0.7728, lr=0.1000\n",
      "153 epoch: train_loss=0.0014, train_acc=0.8333, test_loss=0.4449, test_acc=0.8565, valid_loss=0.6724, valid_acc=0.7738, lr=0.1000\n",
      "154 epoch: train_loss=0.0012, train_acc=0.8750, test_loss=0.3835, test_acc=0.8744, valid_loss=0.6528, valid_acc=0.7702, lr=0.1000\n",
      "155 epoch: train_loss=0.0016, train_acc=0.7917, test_loss=0.3919, test_acc=0.8690, valid_loss=0.7070, valid_acc=0.7644, lr=0.1000\n",
      "156 epoch: train_loss=0.0018, train_acc=0.8056, test_loss=0.4296, test_acc=0.8599, valid_loss=0.6740, valid_acc=0.7636, lr=0.1000\n",
      "157 epoch: train_loss=0.0020, train_acc=0.7500, test_loss=0.3251, test_acc=0.8904, valid_loss=0.5788, valid_acc=0.8016, lr=0.1000\n",
      "158 epoch: train_loss=0.0016, train_acc=0.8472, test_loss=0.4145, test_acc=0.8627, valid_loss=0.6524, valid_acc=0.7798, lr=0.1000\n",
      "159 epoch: train_loss=0.0020, train_acc=0.7361, test_loss=0.3817, test_acc=0.8746, valid_loss=0.6405, valid_acc=0.7880, lr=0.1000\n",
      "160 epoch: train_loss=0.0014, train_acc=0.8194, test_loss=0.4152, test_acc=0.8607, valid_loss=0.6712, valid_acc=0.7712, lr=0.1000\n",
      "161 epoch: train_loss=0.0012, train_acc=0.8333, test_loss=0.3734, test_acc=0.8727, valid_loss=0.6184, valid_acc=0.7904, lr=0.1000\n",
      "162 epoch: train_loss=0.0016, train_acc=0.7639, test_loss=0.4517, test_acc=0.8542, valid_loss=0.7026, valid_acc=0.7592, lr=0.1000\n",
      "163 epoch: train_loss=0.0015, train_acc=0.7917, test_loss=0.3600, test_acc=0.8780, valid_loss=0.6239, valid_acc=0.7796, lr=0.1000\n",
      "164 epoch: train_loss=0.0020, train_acc=0.7778, test_loss=0.3714, test_acc=0.8760, valid_loss=0.6503, valid_acc=0.7868, lr=0.1000\n",
      "165 epoch: train_loss=0.0014, train_acc=0.8889, test_loss=0.4256, test_acc=0.8568, valid_loss=0.7053, valid_acc=0.7522, lr=0.1000\n",
      "166 epoch: train_loss=0.0020, train_acc=0.7361, test_loss=0.3730, test_acc=0.8780, valid_loss=0.6220, valid_acc=0.7858, lr=0.1000\n",
      "167 epoch: train_loss=0.0016, train_acc=0.8472, test_loss=0.4588, test_acc=0.8507, valid_loss=0.6416, valid_acc=0.7816, lr=0.1000\n",
      "168 epoch: train_loss=0.0019, train_acc=0.7500, test_loss=0.3693, test_acc=0.8751, valid_loss=0.6877, valid_acc=0.7818, lr=0.1000\n",
      "169 epoch: train_loss=0.0020, train_acc=0.7500, test_loss=0.4032, test_acc=0.8648, valid_loss=0.6642, valid_acc=0.7702, lr=0.1000\n",
      "170 epoch: train_loss=0.0015, train_acc=0.8611, test_loss=0.3607, test_acc=0.8816, valid_loss=0.6403, valid_acc=0.7834, lr=0.1000\n",
      "171 epoch: train_loss=0.0016, train_acc=0.7778, test_loss=0.4053, test_acc=0.8646, valid_loss=0.6922, valid_acc=0.7728, lr=0.1000\n",
      "172 epoch: train_loss=0.0017, train_acc=0.7500, test_loss=0.3911, test_acc=0.8728, valid_loss=0.6451, valid_acc=0.7768, lr=0.1000\n",
      "173 epoch: train_loss=0.0016, train_acc=0.8194, test_loss=0.3753, test_acc=0.8743, valid_loss=0.6531, valid_acc=0.7758, lr=0.1000\n",
      "174 epoch: train_loss=0.0017, train_acc=0.8472, test_loss=0.4165, test_acc=0.8614, valid_loss=0.6749, valid_acc=0.7712, lr=0.1000\n",
      "175 epoch: train_loss=0.0018, train_acc=0.8194, test_loss=0.4341, test_acc=0.8525, valid_loss=0.7115, valid_acc=0.7588, lr=0.1000\n",
      "176 epoch: train_loss=0.0018, train_acc=0.7361, test_loss=0.4159, test_acc=0.8614, valid_loss=0.7147, valid_acc=0.7584, lr=0.1000\n",
      "177 epoch: train_loss=0.0013, train_acc=0.8750, test_loss=0.3752, test_acc=0.8770, valid_loss=0.6640, valid_acc=0.7772, lr=0.1000\n",
      "178 epoch: train_loss=0.0016, train_acc=0.7778, test_loss=0.3521, test_acc=0.8824, valid_loss=0.6274, valid_acc=0.7840, lr=0.1000\n",
      "179 epoch: train_loss=0.0012, train_acc=0.8472, test_loss=0.4415, test_acc=0.8556, valid_loss=0.6885, valid_acc=0.7670, lr=0.1000\n",
      "180 epoch: train_loss=0.0016, train_acc=0.7778, test_loss=0.4935, test_acc=0.8472, valid_loss=0.6855, valid_acc=0.7620, lr=0.1000\n",
      "181 epoch: train_loss=0.0015, train_acc=0.7917, test_loss=0.3519, test_acc=0.8817, valid_loss=0.6493, valid_acc=0.7806, lr=0.1000\n",
      "182 epoch: train_loss=0.0015, train_acc=0.8056, test_loss=0.4352, test_acc=0.8588, valid_loss=0.6766, valid_acc=0.7710, lr=0.1000\n",
      "183 epoch: train_loss=0.0018, train_acc=0.8056, test_loss=0.3385, test_acc=0.8845, valid_loss=0.6369, valid_acc=0.7794, lr=0.1000\n",
      "184 epoch: train_loss=0.0012, train_acc=0.8333, test_loss=0.3576, test_acc=0.8784, valid_loss=0.5988, valid_acc=0.7988, lr=0.1000\n",
      "185 epoch: train_loss=0.0016, train_acc=0.7778, test_loss=0.4484, test_acc=0.8581, valid_loss=0.6732, valid_acc=0.7792, lr=0.1000\n",
      "186 epoch: train_loss=0.0022, train_acc=0.7222, test_loss=0.4107, test_acc=0.8638, valid_loss=0.6450, valid_acc=0.7822, lr=0.1000\n",
      "187 epoch: train_loss=0.0013, train_acc=0.8750, test_loss=0.3659, test_acc=0.8801, valid_loss=0.6328, valid_acc=0.7784, lr=0.1000\n",
      "188 epoch: train_loss=0.0017, train_acc=0.8333, test_loss=0.3818, test_acc=0.8677, valid_loss=0.6358, valid_acc=0.7788, lr=0.1000\n",
      "189 epoch: train_loss=0.0013, train_acc=0.8472, test_loss=0.3563, test_acc=0.8777, valid_loss=0.6310, valid_acc=0.7844, lr=0.1000\n",
      "190 epoch: train_loss=0.0014, train_acc=0.8611, test_loss=0.3631, test_acc=0.8771, valid_loss=0.6323, valid_acc=0.7774, lr=0.1000\n",
      "191 epoch: train_loss=0.0015, train_acc=0.8056, test_loss=0.3827, test_acc=0.8741, valid_loss=0.6608, valid_acc=0.7712, lr=0.1000\n",
      "192 epoch: train_loss=0.0014, train_acc=0.8194, test_loss=0.3981, test_acc=0.8708, valid_loss=0.6687, valid_acc=0.7790, lr=0.1000\n",
      "193 epoch: train_loss=0.0013, train_acc=0.7917, test_loss=0.3690, test_acc=0.8744, valid_loss=0.6794, valid_acc=0.7726, lr=0.1000\n",
      "194 epoch: train_loss=0.0011, train_acc=0.8611, test_loss=0.3767, test_acc=0.8733, valid_loss=0.7116, valid_acc=0.7622, lr=0.1000\n",
      "195 epoch: train_loss=0.0011, train_acc=0.8889, test_loss=0.3467, test_acc=0.8839, valid_loss=0.6253, valid_acc=0.7842, lr=0.1000\n",
      "196 epoch: train_loss=0.0011, train_acc=0.9028, test_loss=0.4212, test_acc=0.8639, valid_loss=0.6823, valid_acc=0.7686, lr=0.1000\n",
      "197 epoch: train_loss=0.0012, train_acc=0.8611, test_loss=0.3504, test_acc=0.8841, valid_loss=0.5771, valid_acc=0.7982, lr=0.1000\n",
      "198 epoch: train_loss=0.0021, train_acc=0.7361, test_loss=0.3393, test_acc=0.8800, valid_loss=0.6339, valid_acc=0.7842, lr=0.1000\n",
      "199 epoch: train_loss=0.0021, train_acc=0.7639, test_loss=0.3781, test_acc=0.8691, valid_loss=0.6518, valid_acc=0.7730, lr=0.1000\n",
      "200 epoch: train_loss=0.0020, train_acc=0.7083, test_loss=0.3595, test_acc=0.8786, valid_loss=0.6041, valid_acc=0.7892, lr=0.1000\n",
      "201 epoch: train_loss=0.0025, train_acc=0.7083, test_loss=0.4041, test_acc=0.8676, valid_loss=0.7291, valid_acc=0.7530, lr=0.1000\n",
      "202 epoch: train_loss=0.0014, train_acc=0.8333, test_loss=0.4421, test_acc=0.8615, valid_loss=0.6743, valid_acc=0.7720, lr=0.1000\n",
      "203 epoch: train_loss=0.0010, train_acc=0.8472, test_loss=0.3479, test_acc=0.8837, valid_loss=0.6142, valid_acc=0.7880, lr=0.1000\n",
      "204 epoch: train_loss=0.0017, train_acc=0.7917, test_loss=0.4609, test_acc=0.8569, valid_loss=0.7643, valid_acc=0.7462, lr=0.1000\n",
      "205 epoch: train_loss=0.0010, train_acc=0.8472, test_loss=0.3736, test_acc=0.8753, valid_loss=0.6623, valid_acc=0.7758, lr=0.1000\n",
      "206 epoch: train_loss=0.0021, train_acc=0.7500, test_loss=0.3759, test_acc=0.8750, valid_loss=0.6709, valid_acc=0.7778, lr=0.1000\n",
      "207 epoch: train_loss=0.0014, train_acc=0.8194, test_loss=0.3817, test_acc=0.8751, valid_loss=0.6358, valid_acc=0.7848, lr=0.1000\n",
      "208 epoch: train_loss=0.0014, train_acc=0.8056, test_loss=0.4548, test_acc=0.8553, valid_loss=0.6981, valid_acc=0.7672, lr=0.1000\n",
      "209 epoch: train_loss=0.0014, train_acc=0.8194, test_loss=0.3811, test_acc=0.8749, valid_loss=0.6553, valid_acc=0.7780, lr=0.1000\n",
      "210 epoch: train_loss=0.0015, train_acc=0.8194, test_loss=0.3591, test_acc=0.8810, valid_loss=0.6390, valid_acc=0.7856, lr=0.1000\n",
      "211 epoch: train_loss=0.0011, train_acc=0.8472, test_loss=0.3873, test_acc=0.8739, valid_loss=0.6552, valid_acc=0.7804, lr=0.1000\n",
      "212 epoch: train_loss=0.0016, train_acc=0.7917, test_loss=0.4395, test_acc=0.8593, valid_loss=0.6763, valid_acc=0.7672, lr=0.1000\n",
      "213 epoch: train_loss=0.0014, train_acc=0.8194, test_loss=0.3766, test_acc=0.8733, valid_loss=0.6355, valid_acc=0.7862, lr=0.1000\n",
      "214 epoch: train_loss=0.0016, train_acc=0.8333, test_loss=0.4142, test_acc=0.8645, valid_loss=0.6903, valid_acc=0.7700, lr=0.1000\n",
      "215 epoch: train_loss=0.0014, train_acc=0.8611, test_loss=0.3835, test_acc=0.8703, valid_loss=0.6696, valid_acc=0.7740, lr=0.1000\n",
      "216 epoch: train_loss=0.0024, train_acc=0.7361, test_loss=0.3662, test_acc=0.8789, valid_loss=0.6311, valid_acc=0.7806, lr=0.1000\n",
      "217 epoch: train_loss=0.0013, train_acc=0.8194, test_loss=0.3362, test_acc=0.8851, valid_loss=0.6171, valid_acc=0.7878, lr=0.1000\n",
      "218 epoch: train_loss=0.0018, train_acc=0.8056, test_loss=0.3992, test_acc=0.8717, valid_loss=0.6547, valid_acc=0.7798, lr=0.1000\n",
      "219 epoch: train_loss=0.0017, train_acc=0.8056, test_loss=0.3686, test_acc=0.8787, valid_loss=0.6109, valid_acc=0.7838, lr=0.1000\n",
      "220 epoch: train_loss=0.0014, train_acc=0.8056, test_loss=0.4225, test_acc=0.8633, valid_loss=0.6400, valid_acc=0.7800, lr=0.1000\n",
      "221 epoch: train_loss=0.0013, train_acc=0.8472, test_loss=0.3696, test_acc=0.8735, valid_loss=0.6820, valid_acc=0.7672, lr=0.1000\n",
      "222 epoch: train_loss=0.0019, train_acc=0.7361, test_loss=0.3765, test_acc=0.8702, valid_loss=0.6424, valid_acc=0.7710, lr=0.1000\n",
      "223 epoch: train_loss=0.0013, train_acc=0.8333, test_loss=0.4006, test_acc=0.8642, valid_loss=0.6600, valid_acc=0.7692, lr=0.1000\n",
      "224 epoch: train_loss=0.0013, train_acc=0.8194, test_loss=0.4265, test_acc=0.8553, valid_loss=0.6586, valid_acc=0.7700, lr=0.1000\n",
      "225 epoch: train_loss=0.0018, train_acc=0.7639, test_loss=0.5243, test_acc=0.8325, valid_loss=0.8007, valid_acc=0.7290, lr=0.1000\n",
      "226 epoch: train_loss=0.0014, train_acc=0.8056, test_loss=0.3710, test_acc=0.8787, valid_loss=0.6629, valid_acc=0.7744, lr=0.1000\n",
      "227 epoch: train_loss=0.0017, train_acc=0.7917, test_loss=0.4003, test_acc=0.8691, valid_loss=0.6753, valid_acc=0.7768, lr=0.1000\n",
      "228 epoch: train_loss=0.0015, train_acc=0.8194, test_loss=0.4451, test_acc=0.8594, valid_loss=0.7455, valid_acc=0.7560, lr=0.1000\n",
      "229 epoch: train_loss=0.0016, train_acc=0.7778, test_loss=0.3683, test_acc=0.8779, valid_loss=0.6423, valid_acc=0.7758, lr=0.1000\n",
      "230 epoch: train_loss=0.0017, train_acc=0.8056, test_loss=0.4176, test_acc=0.8614, valid_loss=0.6900, valid_acc=0.7720, lr=0.1000\n",
      "231 epoch: train_loss=0.0015, train_acc=0.7917, test_loss=0.4761, test_acc=0.8481, valid_loss=0.7391, valid_acc=0.7484, lr=0.1000\n",
      "232 epoch: train_loss=0.0016, train_acc=0.7500, test_loss=0.3600, test_acc=0.8828, valid_loss=0.6295, valid_acc=0.7858, lr=0.1000\n",
      "233 epoch: train_loss=0.0014, train_acc=0.7778, test_loss=0.3729, test_acc=0.8748, valid_loss=0.6517, valid_acc=0.7812, lr=0.1000\n",
      "234 epoch: train_loss=0.0021, train_acc=0.7222, test_loss=0.3649, test_acc=0.8796, valid_loss=0.6382, valid_acc=0.7854, lr=0.1000\n",
      "235 epoch: train_loss=0.0014, train_acc=0.8194, test_loss=0.3605, test_acc=0.8797, valid_loss=0.6249, valid_acc=0.7794, lr=0.1000\n",
      "236 epoch: train_loss=0.0012, train_acc=0.8333, test_loss=0.4107, test_acc=0.8635, valid_loss=0.7027, valid_acc=0.7562, lr=0.1000\n",
      "237 epoch: train_loss=0.0013, train_acc=0.8333, test_loss=0.3496, test_acc=0.8834, valid_loss=0.6033, valid_acc=0.7882, lr=0.1000\n",
      "238 epoch: train_loss=0.0018, train_acc=0.7917, test_loss=0.4016, test_acc=0.8732, valid_loss=0.6529, valid_acc=0.7860, lr=0.1000\n",
      "239 epoch: train_loss=0.0018, train_acc=0.7917, test_loss=0.4829, test_acc=0.8432, valid_loss=0.7444, valid_acc=0.7528, lr=0.1000\n",
      "240 epoch: train_loss=0.0013, train_acc=0.8611, test_loss=0.3643, test_acc=0.8758, valid_loss=0.6739, valid_acc=0.7784, lr=0.1000\n",
      "241 epoch: train_loss=0.0012, train_acc=0.8611, test_loss=0.4106, test_acc=0.8615, valid_loss=0.7086, valid_acc=0.7532, lr=0.1000\n",
      "242 epoch: train_loss=0.0012, train_acc=0.8750, test_loss=0.3596, test_acc=0.8774, valid_loss=0.6273, valid_acc=0.7796, lr=0.1000\n",
      "243 epoch: train_loss=0.0012, train_acc=0.8750, test_loss=0.3896, test_acc=0.8712, valid_loss=0.6583, valid_acc=0.7722, lr=0.1000\n",
      "244 epoch: train_loss=0.0010, train_acc=0.8889, test_loss=0.3549, test_acc=0.8820, valid_loss=0.6375, valid_acc=0.7866, lr=0.1000\n",
      "245 epoch: train_loss=0.0013, train_acc=0.8472, test_loss=0.3538, test_acc=0.8808, valid_loss=0.6380, valid_acc=0.7872, lr=0.1000\n",
      "246 epoch: train_loss=0.0013, train_acc=0.8472, test_loss=0.3666, test_acc=0.8762, valid_loss=0.6291, valid_acc=0.7842, lr=0.1000\n",
      "247 epoch: train_loss=0.0013, train_acc=0.8750, test_loss=0.4212, test_acc=0.8649, valid_loss=0.7160, valid_acc=0.7754, lr=0.1000\n"
     ]
    }
   ],
   "source": [
    "view.print_all()"
   ]
  },
  {
   "cell_type": "code",
   "execution_count": 22,
   "metadata": {},
   "outputs": [],
   "source": [
    "# CHECK = 5410\n",
    "# logs[\"train_loss\"] = logs[\"train_loss\"][:CHECK]\n",
    "# logs[\"train_acc\"] = logs[\"train_acc\"][:CHECK]\n",
    "# logs[\"valid_loss\"] = logs[\"valid_loss\"][:CHECK]\n",
    "# logs[\"valid_acc\"] = logs[\"valid_acc\"][:CHECK]\n",
    "# logs[\"test_loss\"] = logs[\"test_loss\"][:CHECK]\n",
    "# logs[\"test_acc\"] = logs[\"test_acc\"][:CHECK]\n",
    "# model.load_state_dict(torch.load(f\"models/{file_path}.pth\"))"
   ]
  }
 ],
 "metadata": {
  "kernelspec": {
   "display_name": "base",
   "language": "python",
   "name": "python3"
  },
  "language_info": {
   "codemirror_mode": {
    "name": "ipython",
    "version": 3
   },
   "file_extension": ".py",
   "mimetype": "text/x-python",
   "name": "python",
   "nbconvert_exporter": "python",
   "pygments_lexer": "ipython3",
   "version": "3.11.5"
  }
 },
 "nbformat": 4,
 "nbformat_minor": 2
}
