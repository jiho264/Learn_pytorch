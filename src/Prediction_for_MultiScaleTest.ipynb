{
 "cells": [
  {
   "cell_type": "markdown",
   "metadata": {},
   "source": [
    "# Loading Trained Model"
   ]
  },
  {
   "cell_type": "code",
   "execution_count": 1,
   "metadata": {},
   "outputs": [],
   "source": [
    "import torch\n",
    "from torch import nn\n",
    "from torch.utils.data import DataLoader\n",
    "\n",
    "from Mymodel import MyResNet34\n",
    "from Mymodel import MyResNet_CIFAR\n",
    "import tqdm\n",
    "import copy\n",
    "import torch\n",
    "from torch import nn\n",
    "import torch.nn.functional as F\n",
    "from torch.utils.data import DataLoader, random_split\n",
    "from torchvision import datasets\n",
    "from torchvision.transforms.v2 import (\n",
    "    ToTensor,\n",
    "    RandomHorizontalFlip,\n",
    "    Compose,\n",
    "    RandomCrop,\n",
    "    RandomShortestSize,\n",
    "    AutoAugment,\n",
    "    Normalize,\n",
    "    TenCrop,\n",
    "    CenterCrop,\n",
    "    Pad,\n",
    "    Resize,\n",
    ")\n",
    "from torchvision.transforms.autoaugment import AutoAugmentPolicy"
   ]
  },
  {
   "cell_type": "code",
   "execution_count": 2,
   "metadata": {},
   "outputs": [],
   "source": [
    "\"\"\"Dataset selection\"\"\"\n",
    "# DATASET = \"CIFAR10\"\n",
    "# DATASET = \"CIFAR100\"\n",
    "DATASET = \"ImageNet2012\"\n",
    "\n",
    "\"\"\"Model selection for CIFAR\"\"\"\n",
    "NUM_LAYERS_LEVEL = 5\n",
    "\n",
    "\"\"\"Dataset parameters\"\"\"\n",
    "BATCH = 256\n",
    "SHUFFLE = True\n",
    "NUMOFWORKERS = 8\n",
    "PIN_MEMORY = True\n",
    "SPLIT_RATIO = 0\n",
    "\n",
    "\"\"\"optimizer parameters\"\"\"\n",
    "OPTIMIZER = \"SGD\"\n",
    "# OPTIMIZER = \"Adam\"\n",
    "# OPTIMIZER = \"Adam_decay\"\n",
    "\n",
    "\"\"\"Learning rate scheduler parameters\"\"\"\n",
    "# LOAD_BEFORE_TRAINING = False\n",
    "LOAD_BEFORE_TRAINING = True\n",
    "NUM_EPOCHS = 1000\n",
    "scheduler_patience_mapping = {\"CIFAR10\": 100, \"CIFAR100\": 100, \"ImageNet2012\": 5}\n",
    "\n",
    "\"\"\"Early stopping parameters\"\"\"\n",
    "EARLYSTOPPINGPATIENCE = 25\n",
    "file_path = \"\"\n",
    "if DATASET == \"ImageNet2012\":\n",
    "    file_path = f\"{DATASET}/MyResNet34_{BATCH}_{OPTIMIZER}\"\n",
    "else:\n",
    "    file_path = f\"{DATASET}/MyResNet{NUM_LAYERS_LEVEL*6+2}_{BATCH}_{OPTIMIZER}\"\n",
    "\n",
    "if SPLIT_RATIO != 0:\n",
    "    file_path += f\"_{int(SPLIT_RATIO*100)}\""
   ]
  },
  {
   "cell_type": "code",
   "execution_count": 3,
   "metadata": {},
   "outputs": [],
   "source": [
    "class LoadDataset:\n",
    "    def __init__(self, root, seceted_dataset, split_ratio=0):\n",
    "        self.Randp = 0.5\n",
    "        self.dataset_name = seceted_dataset\n",
    "        self.split_ratio = split_ratio\n",
    "\n",
    "        if self.dataset_name[:5] == \"CIFAR\":\n",
    "            pass\n",
    "        elif self.dataset_name == \"ImageNet2012\":\n",
    "            self.ImageNetRoot = root + \"/\"+self.dataset_name + \"/\"\n",
    "\n",
    "            \"\"\"\n",
    "            각 지정된 스케일에 따라 10 crop해야하는데, 5개 scale들의 평균을 내야하니까 좀 번거로움.\n",
    "            그치만, 학습 중엔 center crop으로 eval하니, 지금 당장 필요하지는 않음.\n",
    "            \"\"\"\n",
    "            \n",
    "            ref_test_data = datasets.ImageFolder(\n",
    "                root=self.ImageNetRoot + \"val\", transform=ToTensor()\n",
    "            )\n",
    "            test_data_list = []\n",
    "            scales = [224, 256, 384, 480, 640]\n",
    "            for i in range(len(scales)):\n",
    "                tmp = copy.deepcopy(ref_test_data)\n",
    "\n",
    "                tmp.transform = Compose(\n",
    "                    [\n",
    "                        RandomShortestSize(min_size=scales[i]+1, antialias=True),\n",
    "                        TenCrop(size=scales[i]),\n",
    "                        ToTensor(),\n",
    "                        Normalize(\n",
    "                            mean=[0.485, 0.456, 0.406], std=[1, 1, 1], inplace=True\n",
    "                        ),\n",
    "                    ]\n",
    "                )\n",
    "                tmp.classes = ref_test_data.classes\n",
    "                tmp.class_to_idx = ref_test_data.class_to_idx\n",
    "                test_data_list.append(tmp)\n",
    "\n",
    "            self.test_data_list = test_data_list\n",
    "\n",
    "        else:\n",
    "            raise ValueError(f\"Unsupported dataset: {self.dataset_name}\")\n",
    "\n",
    "        return\n"
   ]
  },
  {
   "cell_type": "code",
   "execution_count": 4,
   "metadata": {},
   "outputs": [
    {
     "name": "stderr",
     "output_type": "stream",
     "text": [
      "/home/lee/anaconda3/lib/python3.11/site-packages/torchvision/transforms/v2/_deprecated.py:43: UserWarning: The transform `ToTensor()` is deprecated and will be removed in a future release. Instead, please use `v2.Compose([v2.ToImage(), v2.ToDtype(torch.float32, scale=True)])`.\n",
      "  warnings.warn(\n"
     ]
    }
   ],
   "source": [
    "tmp = LoadDataset(root=\"../data\", seceted_dataset=DATASET)\n",
    "COUNT_OF_CLASSES = 1000\n",
    "test_data = tmp.test_data_list\n",
    "\n",
    "test_dataloader_list = []\n",
    "\n",
    "for i in range(5):\n",
    "    test_dataloader_list.append(\n",
    "        DataLoader(\n",
    "            test_data[i],\n",
    "            batch_size=BATCH,\n",
    "            shuffle=SHUFFLE,\n",
    "            # num_workers=NUMOFWORKERS,\n",
    "            # pin_memory=PIN_MEMORY,\n",
    "            # pin_memory_device=\"cuda\",\n",
    "            # persistent_workers=True,\n",
    "        )\n",
    "    )\n"
   ]
  },
  {
   "cell_type": "code",
   "execution_count": 5,
   "metadata": {},
   "outputs": [
    {
     "name": "stdout",
     "output_type": "stream",
     "text": [
      "196\n",
      "196\n",
      "196\n",
      "196\n",
      "196\n"
     ]
    }
   ],
   "source": [
    "for i in range(len(test_dataloader_list)):\n",
    "    print(len(test_dataloader_list[i]))"
   ]
  },
  {
   "cell_type": "code",
   "execution_count": 6,
   "metadata": {},
   "outputs": [
    {
     "name": "stdout",
     "output_type": "stream",
     "text": [
      "Compose(\n",
      "      RandomShortestSize(min_size=[225], interpolation=InterpolationMode.BILINEAR, antialias=True)\n",
      "      TenCrop(size=(224, 224), vertical_flip=False)\n",
      "      ToTensor()\n",
      "      Normalize(mean=[0.485, 0.456, 0.406], std=[1, 1, 1], inplace=True)\n",
      ") 50000\n",
      "Compose(\n",
      "      RandomShortestSize(min_size=[257], interpolation=InterpolationMode.BILINEAR, antialias=True)\n",
      "      TenCrop(size=(256, 256), vertical_flip=False)\n",
      "      ToTensor()\n",
      "      Normalize(mean=[0.485, 0.456, 0.406], std=[1, 1, 1], inplace=True)\n",
      ") 50000\n",
      "Compose(\n",
      "      RandomShortestSize(min_size=[385], interpolation=InterpolationMode.BILINEAR, antialias=True)\n",
      "      TenCrop(size=(384, 384), vertical_flip=False)\n",
      "      ToTensor()\n",
      "      Normalize(mean=[0.485, 0.456, 0.406], std=[1, 1, 1], inplace=True)\n",
      ") 50000\n",
      "Compose(\n",
      "      RandomShortestSize(min_size=[481], interpolation=InterpolationMode.BILINEAR, antialias=True)\n",
      "      TenCrop(size=(480, 480), vertical_flip=False)\n",
      "      ToTensor()\n",
      "      Normalize(mean=[0.485, 0.456, 0.406], std=[1, 1, 1], inplace=True)\n",
      ") 50000\n",
      "Compose(\n",
      "      RandomShortestSize(min_size=[641], interpolation=InterpolationMode.BILINEAR, antialias=True)\n",
      "      TenCrop(size=(640, 640), vertical_flip=False)\n",
      "      ToTensor()\n",
      "      Normalize(mean=[0.485, 0.456, 0.406], std=[1, 1, 1], inplace=True)\n",
      ") 50000\n"
     ]
    }
   ],
   "source": [
    "for i in range(5):\n",
    "    print(test_data[i].transform, test_data[i].__len__())"
   ]
  },
  {
   "cell_type": "code",
   "execution_count": 7,
   "metadata": {},
   "outputs": [
    {
     "name": "stdout",
     "output_type": "stream",
     "text": [
      "ResNet-34 for ImageNet2012 is loaded.\n"
     ]
    },
    {
     "data": {
      "text/plain": [
       "<All keys matched successfully>"
      ]
     },
     "execution_count": 7,
     "metadata": {},
     "output_type": "execute_result"
    }
   ],
   "source": [
    "device = torch.device(\"cuda\" if torch.cuda.is_available() else \"cpu\")\n",
    "\n",
    "if DATASET == \"ImageNet2012\":\n",
    "    model = MyResNet34(\n",
    "    num_classes=COUNT_OF_CLASSES, \n",
    "    Downsample_option=\"B\"\n",
    "    ).to(device)\n",
    "    # model = models.resnet34(pretrained=True).to(device)\n",
    "    # model = models.resnet34(pretrained=False).to(device)\n",
    "    print(f\"ResNet-34 for {DATASET} is loaded.\")\n",
    "else:\n",
    "    model = MyResNet_CIFAR(\n",
    "        num_classes=COUNT_OF_CLASSES, num_layer_factor=NUM_LAYERS_LEVEL\n",
    "    ).to(device)\n",
    "\n",
    "\n",
    "model.load_state_dict(torch.load(f\"../models/{file_path}.pth\"))"
   ]
  },
  {
   "cell_type": "code",
   "execution_count": 8,
   "metadata": {},
   "outputs": [
    {
     "name": "stderr",
     "output_type": "stream",
     "text": [
      "  0%|          | 0/196 [00:00<?, ?it/s]"
     ]
    }
   ],
   "source": [
    "criterion = nn.CrossEntropyLoss()\n",
    "model.eval()\n",
    "test_loss = 0.0\n",
    "correct = 0\n",
    "total = 0\n",
    "for i in test_dataloader_list:\n",
    "    with torch.no_grad():\n",
    "        for images, labels in tqdm.tqdm(i):\n",
    "            images, labels = images.to(device), labels.to(device)\n",
    "\n",
    "            outputs = model(images)\n",
    "            loss = criterion(outputs, labels)\n",
    "\n",
    "            test_loss += loss.item()\n",
    "            _, predicted = outputs.max(1)\n",
    "            total += labels.size(0)\n",
    "            correct += predicted.eq(labels).sum().item()\n",
    "\n",
    "    test_loss /= len(i)\n",
    "    test_acc = correct / total"
   ]
  },
  {
   "cell_type": "code",
   "execution_count": null,
   "metadata": {},
   "outputs": [
    {
     "name": "stdout",
     "output_type": "stream",
     "text": [
      "test_loss: 0.0\n"
     ]
    }
   ],
   "source": [
    "print(\"test_loss:\", test_loss)"
   ]
  },
  {
   "cell_type": "code",
   "execution_count": null,
   "metadata": {},
   "outputs": [
    {
     "ename": "NameError",
     "evalue": "name 'test_acc' is not defined",
     "output_type": "error",
     "traceback": [
      "\u001b[0;31m---------------------------------------------------------------------------\u001b[0m",
      "\u001b[0;31mNameError\u001b[0m                                 Traceback (most recent call last)",
      "Cell \u001b[0;32mIn[36], line 1\u001b[0m\n\u001b[0;32m----> 1\u001b[0m \u001b[38;5;28mprint\u001b[39m(\u001b[38;5;124mf\u001b[39m\u001b[38;5;124m\"\u001b[39m\u001b[38;5;124mtest_acc: \u001b[39m\u001b[38;5;132;01m{\u001b[39;00mtest_acc\u001b[38;5;241m*\u001b[39m\u001b[38;5;241m100\u001b[39m\u001b[38;5;132;01m:\u001b[39;00m\u001b[38;5;124m.2f\u001b[39m\u001b[38;5;132;01m}\u001b[39;00m\u001b[38;5;124m%\u001b[39m\u001b[38;5;124m\"\u001b[39m)\n",
      "\u001b[0;31mNameError\u001b[0m: name 'test_acc' is not defined"
     ]
    }
   ],
   "source": [
    "print(f\"test_acc: {test_acc*100:.2f}%\")\n"
   ]
  },
  {
   "cell_type": "code",
   "execution_count": null,
   "metadata": {},
   "outputs": [
    {
     "name": "stdout",
     "output_type": "stream",
     "text": [
      "test_error: 10.30%\n"
     ]
    }
   ],
   "source": [
    "print(f\"test_error: {100 - test_acc*100:.2f}%\")"
   ]
  },
  {
   "cell_type": "code",
   "execution_count": null,
   "metadata": {},
   "outputs": [
    {
     "data": {
      "text/plain": [
       "'CIFAR10/MyResNet32_128_SGD_90'"
      ]
     },
     "execution_count": 9,
     "metadata": {},
     "output_type": "execute_result"
    }
   ],
   "source": [
    "file_path"
   ]
  }
 ],
 "metadata": {
  "kernelspec": {
   "display_name": "base",
   "language": "python",
   "name": "python3"
  },
  "language_info": {
   "codemirror_mode": {
    "name": "ipython",
    "version": 3
   },
   "file_extension": ".py",
   "mimetype": "text/x-python",
   "name": "python",
   "nbconvert_exporter": "python",
   "pygments_lexer": "ipython3",
   "version": "3.11.5"
  }
 },
 "nbformat": 4,
 "nbformat_minor": 2
}
