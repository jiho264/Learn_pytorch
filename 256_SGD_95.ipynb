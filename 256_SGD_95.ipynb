{
 "cells": [
  {
   "cell_type": "markdown",
   "metadata": {},
   "source": [
    "# Import"
   ]
  },
  {
   "cell_type": "code",
   "execution_count": 24,
   "metadata": {},
   "outputs": [],
   "source": [
    "import torch\n",
    "from torch import nn\n",
    "from torch.optim.lr_scheduler import ReduceLROnPlateau\n",
    "from torch.utils.data import DataLoader\n",
    "from fvcore.nn import FlopCountAnalysis, flop_count_table\n",
    "import numpy as np\n",
    "import matplotlib.pyplot as plt\n",
    "import os\n",
    "####################################################\n",
    "from src.Mydataloader import LoadDataset\n",
    "from src.Mymodel import Block\n",
    "from src.Mymodel import MyResNet34\n",
    "from src.Mymodel import MyResNet_CIFAR\n",
    "from src.Mytraining import DoTraining"
   ]
  },
  {
   "cell_type": "markdown",
   "metadata": {},
   "source": [
    "# Setup"
   ]
  },
  {
   "cell_type": "code",
   "execution_count": 25,
   "metadata": {},
   "outputs": [],
   "source": [
    "\"\"\"Dataset selection\"\"\"\n",
    "DATASET = \"CIFAR10\"\n",
    "# DATASET = \"CIFAR100\"\n",
    "# DATASET = \"ImageNet2012\"\n",
    "\n",
    "\"\"\"Model selection for CIFAR\"\"\"\n",
    "NUM_LAYERS_LEVEL = 5\n",
    "\n",
    "\"\"\"Dataset parameters\"\"\"\n",
    "BATCH = 256\n",
    "SHUFFLE = True\n",
    "NUMOFWORKERS = 8\n",
    "PIN_MEMORY = True\n",
    "SPLIT_RATIO = 0.95\n",
    "\"\"\"optimizer parameters\"\"\"\n",
    "OPTIMIZER = \"SGD\"\n",
    "# OPTIMIZER = \"Adam\"\n",
    "# OPTIMIZER = \"Adam_decay\"\n",
    "\n",
    "\"\"\"Learning rate scheduler parameters\"\"\"\n",
    "LOAD_BEFORE_TRAINING = False\n",
    "LOAD_BEFORE_TRAINING = True\n",
    "NUM_EPOCHS = 5000\n",
    "\n",
    "\"\"\"Early stopping parameters\"\"\"\n",
    "EARLYSTOPPINGPATIENCE = 1200\n",
    "file_path = \"\"\n",
    "if DATASET == \"ImageNet2012\":\n",
    "    file_path = f\"{DATASET}/MyResNet34_{BATCH}_{OPTIMIZER}\"\n",
    "else:\n",
    "    file_path = f\"{DATASET}/MyResNet{NUM_LAYERS_LEVEL*6+2}_{BATCH}_{OPTIMIZER}\"\n",
    "    \n",
    "if SPLIT_RATIO != 0:\n",
    "    file_path += f\"_{int(SPLIT_RATIO*100)}\""
   ]
  },
  {
   "cell_type": "code",
   "execution_count": 26,
   "metadata": {},
   "outputs": [
    {
     "data": {
      "text/plain": [
       "'CIFAR10/MyResNet32_256_SGD_95'"
      ]
     },
     "execution_count": 26,
     "metadata": {},
     "output_type": "execute_result"
    }
   ],
   "source": [
    "file_path"
   ]
  },
  {
   "cell_type": "markdown",
   "metadata": {},
   "source": [
    "# Loading the dataset"
   ]
  },
  {
   "cell_type": "markdown",
   "metadata": {},
   "source": [
    "## Define Dateloader"
   ]
  },
  {
   "cell_type": "code",
   "execution_count": 27,
   "metadata": {},
   "outputs": [],
   "source": [
    "from src.Mydataloader import LoadDataset"
   ]
  },
  {
   "cell_type": "code",
   "execution_count": 28,
   "metadata": {},
   "outputs": [
    {
     "name": "stderr",
     "output_type": "stream",
     "text": [
      "/home/lee/anaconda3/lib/python3.11/site-packages/torchvision/transforms/v2/_deprecated.py:43: UserWarning: The transform `ToTensor()` is deprecated and will be removed in a future release. Instead, please use `v2.Compose([v2.ToImage(), v2.ToDtype(torch.float32, scale=True)])`.\n",
      "  warnings.warn(\n"
     ]
    },
    {
     "name": "stdout",
     "output_type": "stream",
     "text": [
      "-----------------------------------------------------------------------\n",
      "Dataset :  CIFAR10\n",
      "- Length of Train Set :  47500\n",
      "- Length of Valid Set :  2500\n",
      "- Length of Test Set :  10000\n",
      "- Count of Classes :  10\n",
      "-----------------------------------------------------------------------\n"
     ]
    }
   ],
   "source": [
    "tmp = LoadDataset(root=\"data\", seceted_dataset=DATASET, split_ratio=SPLIT_RATIO)\n",
    "train_data, valid_data, test_data, COUNT_OF_CLASSES = tmp.Unpack()"
   ]
  },
  {
   "cell_type": "code",
   "execution_count": 29,
   "metadata": {},
   "outputs": [
    {
     "name": "stdout",
     "output_type": "stream",
     "text": [
      "train.transforms = Compose(\n",
      "      ToTensor()\n",
      "      Submean()\n",
      "      AutoAugment(interpolation=InterpolationMode.NEAREST, policy=AutoAugmentPolicy.CIFAR10)\n",
      "      RandomHorizontalFlip(p=0.5)\n",
      ") 256\n",
      "valid.transforms = Compose(\n",
      "      ToTensor()\n",
      "      Submean()\n",
      ") 256\n",
      "test.transforms = Compose(\n",
      "      ToTensor()\n",
      "      Submean()\n",
      ") 256\n"
     ]
    }
   ],
   "source": [
    "train_dataloader = DataLoader(\n",
    "    train_data,\n",
    "    batch_size=BATCH,\n",
    "    shuffle=SHUFFLE,\n",
    "    num_workers=NUMOFWORKERS,\n",
    "    pin_memory=PIN_MEMORY,\n",
    "    # pin_memory_device=\"cuda\",\n",
    "    persistent_workers=True,\n",
    ")\n",
    "print(\"train.transforms =\", train_data.transform, train_dataloader.batch_size)\n",
    "\n",
    "if SPLIT_RATIO != 0:\n",
    "    valid_dataloader = DataLoader(\n",
    "        valid_data,\n",
    "        batch_size=BATCH,\n",
    "        shuffle=SHUFFLE,\n",
    "        num_workers=NUMOFWORKERS,\n",
    "        pin_memory=PIN_MEMORY,\n",
    "        # pin_memory_device=\"cuda\",\n",
    "        persistent_workers=True,\n",
    "    )\n",
    "    print(\"valid.transforms =\", valid_data.transform, valid_dataloader.batch_size)\n",
    "elif SPLIT_RATIO == 0:\n",
    "    valid_dataloader = None\n",
    "    \n",
    "test_dataloader = DataLoader(\n",
    "    test_data,\n",
    "    batch_size=BATCH,\n",
    "    shuffle=SHUFFLE,\n",
    "    num_workers=NUMOFWORKERS,\n",
    "    pin_memory=PIN_MEMORY,\n",
    "    # pin_memory_device=\"cuda\",\n",
    "    persistent_workers=True,\n",
    ")\n",
    "print(\"test.transforms =\", test_data.transform, test_dataloader.batch_size)"
   ]
  },
  {
   "cell_type": "markdown",
   "metadata": {},
   "source": [
    "## Confirm that the dataset is loaded properly"
   ]
  },
  {
   "cell_type": "code",
   "execution_count": 30,
   "metadata": {},
   "outputs": [
    {
     "name": "stdout",
     "output_type": "stream",
     "text": [
      "Shape of X [N, C, H, W]: torch.Size([256, 3, 32, 32])\n",
      "mean of X tensor([-1.1593e-09, -2.1114e-09, -2.3502e-09])\n",
      "Shape of y: torch.Size([256]) torch.int64\n"
     ]
    }
   ],
   "source": [
    "if DATASET != \"ImageNet2012\":\n",
    "    for X, y in test_dataloader:\n",
    "        print(f\"Shape of X [N, C, H, W]: {X.shape}\")\n",
    "        print(\"mean of X\", X.mean(dim=(0, 2, 3)))\n",
    "        print(f\"Shape of y: {y.shape} {y.dtype}\")\n",
    "        break"
   ]
  },
  {
   "cell_type": "code",
   "execution_count": 31,
   "metadata": {},
   "outputs": [
    {
     "data": {
      "image/png": "[encoded data removed]",
      "text/plain": [
       "<Figure size 800x400 with 10 Axes>"
      ]
     },
     "metadata": {},
     "output_type": "display_data"
    }
   ],
   "source": [
    "if DATASET != \"ImageNet2012\":\n",
    "    class_names = test_dataloader.dataset.classes\n",
    "    count = 0\n",
    "    fig, axs = plt.subplots(2, 5, figsize=(8, 4))\n",
    "\n",
    "    for images, labels in test_dataloader:\n",
    "        images = images.numpy()\n",
    "\n",
    "        for i in range(len(images)):\n",
    "            image = images[i]\n",
    "            label = labels[i]\n",
    "            image = np.transpose(image, (1, 2, 0))\n",
    "            image = np.clip(image, 0, 1)\n",
    "            ax = axs[count // 5, count % 5]\n",
    "            ax.imshow(image)\n",
    "            ax.set_title(f\"{class_names[label], label}\")\n",
    "            ax.axis('off')\n",
    "            count += 1\n",
    "            \n",
    "            if count == 10:\n",
    "                break\n",
    "        if count == 10:\n",
    "            break\n",
    "    plt.tight_layout()\n",
    "    plt.show()"
   ]
  },
  {
   "cell_type": "markdown",
   "metadata": {},
   "source": [
    "# Define ResNet"
   ]
  },
  {
   "cell_type": "code",
   "execution_count": 32,
   "metadata": {},
   "outputs": [],
   "source": [
    "from src.Mymodel import MyResNet34\n",
    "from src.Mymodel import MyResNet_CIFAR"
   ]
  },
  {
   "cell_type": "markdown",
   "metadata": {},
   "source": [
    "## Model Confirm"
   ]
  },
  {
   "cell_type": "code",
   "execution_count": 33,
   "metadata": {},
   "outputs": [
    {
     "data": {
      "text/plain": [
       "device(type='cuda')"
      ]
     },
     "execution_count": 33,
     "metadata": {},
     "output_type": "execute_result"
    }
   ],
   "source": [
    "device = torch.device(\"cuda\" if torch.cuda.is_available() else \"cpu\")\n",
    "device"
   ]
  },
  {
   "cell_type": "code",
   "execution_count": 34,
   "metadata": {},
   "outputs": [
    {
     "name": "stdout",
     "output_type": "stream",
     "text": [
      "ResNet-32 for CIFAR10 is loaded.\n"
     ]
    }
   ],
   "source": [
    "if DATASET == \"CIFAR10\" or DATASET == \"CIFAR100\":\n",
    "    \"\"\"ResNet{20, 32, 44, 56, 110, 1202} for CIFAR\"\"\"\n",
    "    model = MyResNet_CIFAR(\n",
    "        num_classes=COUNT_OF_CLASSES, num_layer_factor=NUM_LAYERS_LEVEL\n",
    "    ).to(device)\n",
    "    print(f\"ResNet-{5*6+2} for {DATASET} is loaded.\")\n",
    "\n",
    "elif DATASET == \"ImageNet2012\":\n",
    "    \"\"\"ResNet34 for ImageNet 2012\"\"\"\n",
    "    model = MyResNet34(num_classes=COUNT_OF_CLASSES).to(device)\n",
    "    # model = models.resnet34(pretrained=True).to(device)\n",
    "    # model = models.resnet34(pretrained=False).to(device)\n",
    "    print(f\"ResNet-34 for {DATASET} is loaded.\")\n",
    "\n",
    "# model.named_modules"
   ]
  },
  {
   "cell_type": "code",
   "execution_count": 35,
   "metadata": {},
   "outputs": [
    {
     "name": "stdout",
     "output_type": "stream",
     "text": [
      "| module                   | #parameters or shape   | #flops     |\n",
      "|:-------------------------|:-----------------------|:-----------|\n",
      "| model                    | 0.464M                 | 17.997G    |\n",
      "|  conv32blocks            |  23.792K               |  6.363G    |\n",
      "|   conv32blocks.0         |   0.432K               |   0.113G   |\n",
      "|    conv32blocks.0.weight |    (16, 3, 3, 3)       |            |\n",
      "|   conv32blocks.1         |   4.672K               |   1.25G    |\n",
      "|    conv32blocks.1.conv1  |    2.304K              |    0.604G  |\n",
      "|    conv32blocks.1.bn1    |    32                  |    20.972M |\n",
      "|    conv32blocks.1.conv2  |    2.304K              |    0.604G  |\n",
      "|    conv32blocks.1.bn2    |    32                  |    20.972M |\n",
      "|   conv32blocks.2         |   4.672K               |   1.25G    |\n",
      "|    conv32blocks.2.conv1  |    2.304K              |    0.604G  |\n",
      "|    conv32blocks.2.bn1    |    32                  |    20.972M |\n",
      "|    conv32blocks.2.conv2  |    2.304K              |    0.604G  |\n",
      "|    conv32blocks.2.bn2    |    32                  |    20.972M |\n",
      "|   conv32blocks.3         |   4.672K               |   1.25G    |\n",
      "|    conv32blocks.3.conv1  |    2.304K              |    0.604G  |\n",
      "|    conv32blocks.3.bn1    |    32                  |    20.972M |\n",
      "|    conv32blocks.3.conv2  |    2.304K              |    0.604G  |\n",
      "|    conv32blocks.3.bn2    |    32                  |    20.972M |\n",
      "|   conv32blocks.4         |   4.672K               |   1.25G    |\n",
      "|    conv32blocks.4.conv1  |    2.304K              |    0.604G  |\n",
      "|    conv32blocks.4.bn1    |    32                  |    20.972M |\n",
      "|    conv32blocks.4.conv2  |    2.304K              |    0.604G  |\n",
      "|    conv32blocks.4.bn2    |    32                  |    20.972M |\n",
      "|   conv32blocks.5         |   4.672K               |   1.25G    |\n",
      "|    conv32blocks.5.conv1  |    2.304K              |    0.604G  |\n",
      "|    conv32blocks.5.bn1    |    32                  |    20.972M |\n",
      "|    conv32blocks.5.conv2  |    2.304K              |    0.604G  |\n",
      "|    conv32blocks.5.bn2    |    32                  |    20.972M |\n",
      "|  conv16blocks            |  88.192K               |  5.843G    |\n",
      "|   conv16blocks.0         |   13.952K              |   0.927G   |\n",
      "|    conv16blocks.0.conv1  |    4.608K              |    0.302G  |\n",
      "|    conv16blocks.0.bn1    |    64                  |    10.486M |\n",
      "|    conv16blocks.0.conv2  |    9.216K              |    0.604G  |\n",
      "|    conv16blocks.0.bn2    |    64                  |    10.486M |\n",
      "|   conv16blocks.1         |   18.56K               |   1.229G   |\n",
      "|    conv16blocks.1.conv1  |    9.216K              |    0.604G  |\n",
      "|    conv16blocks.1.bn1    |    64                  |    10.486M |\n",
      "|    conv16blocks.1.conv2  |    9.216K              |    0.604G  |\n",
      "|    conv16blocks.1.bn2    |    64                  |    10.486M |\n",
      "|   conv16blocks.2         |   18.56K               |   1.229G   |\n",
      "|    conv16blocks.2.conv1  |    9.216K              |    0.604G  |\n",
      "|    conv16blocks.2.bn1    |    64                  |    10.486M |\n",
      "|    conv16blocks.2.conv2  |    9.216K              |    0.604G  |\n",
      "|    conv16blocks.2.bn2    |    64                  |    10.486M |\n",
      "|   conv16blocks.3         |   18.56K               |   1.229G   |\n",
      "|    conv16blocks.3.conv1  |    9.216K              |    0.604G  |\n",
      "|    conv16blocks.3.bn1    |    64                  |    10.486M |\n",
      "|    conv16blocks.3.conv2  |    9.216K              |    0.604G  |\n",
      "|    conv16blocks.3.bn2    |    64                  |    10.486M |\n",
      "|   conv16blocks.4         |   18.56K               |   1.229G   |\n",
      "|    conv16blocks.4.conv1  |    9.216K              |    0.604G  |\n",
      "|    conv16blocks.4.bn1    |    64                  |    10.486M |\n",
      "|    conv16blocks.4.conv2  |    9.216K              |    0.604G  |\n",
      "|    conv16blocks.4.bn2    |    64                  |    10.486M |\n",
      "|  conv8blocks             |  0.351M                |  5.79G     |\n",
      "|   conv8blocks.0          |   55.552K              |   0.916G   |\n",
      "|    conv8blocks.0.conv1   |    18.432K             |    0.302G  |\n",
      "|    conv8blocks.0.bn1     |    0.128K              |    5.243M  |\n",
      "|    conv8blocks.0.conv2   |    36.864K             |    0.604G  |\n",
      "|    conv8blocks.0.bn2     |    0.128K              |    5.243M  |\n",
      "|   conv8blocks.1          |   73.984K              |   1.218G   |\n",
      "|    conv8blocks.1.conv1   |    36.864K             |    0.604G  |\n",
      "|    conv8blocks.1.bn1     |    0.128K              |    5.243M  |\n",
      "|    conv8blocks.1.conv2   |    36.864K             |    0.604G  |\n",
      "|    conv8blocks.1.bn2     |    0.128K              |    5.243M  |\n",
      "|   conv8blocks.2          |   73.984K              |   1.218G   |\n",
      "|    conv8blocks.2.conv1   |    36.864K             |    0.604G  |\n",
      "|    conv8blocks.2.bn1     |    0.128K              |    5.243M  |\n",
      "|    conv8blocks.2.conv2   |    36.864K             |    0.604G  |\n",
      "|    conv8blocks.2.bn2     |    0.128K              |    5.243M  |\n",
      "|   conv8blocks.3          |   73.984K              |   1.218G   |\n",
      "|    conv8blocks.3.conv1   |    36.864K             |    0.604G  |\n",
      "|    conv8blocks.3.bn1     |    0.128K              |    5.243M  |\n",
      "|    conv8blocks.3.conv2   |    36.864K             |    0.604G  |\n",
      "|    conv8blocks.3.bn2     |    0.128K              |    5.243M  |\n",
      "|   conv8blocks.4          |   73.984K              |   1.218G   |\n",
      "|    conv8blocks.4.conv1   |    36.864K             |    0.604G  |\n",
      "|    conv8blocks.4.bn1     |    0.128K              |    5.243M  |\n",
      "|    conv8blocks.4.conv2   |    36.864K             |    0.604G  |\n",
      "|    conv8blocks.4.bn2     |    0.128K              |    5.243M  |\n",
      "|  fc1                     |  0.65K                 |  0.164M    |\n",
      "|   fc1.weight             |   (10, 64)             |            |\n",
      "|   fc1.bias               |   (10,)                |            |\n",
      "|  avgpool                 |                        |  1.049M    |\n"
     ]
    }
   ],
   "source": [
    "tmp_input = torch.rand(BATCH, 3, 32, 32).to(device)\n",
    "flops = FlopCountAnalysis(model, tmp_input)\n",
    "print(flop_count_table(flops))"
   ]
  },
  {
   "cell_type": "markdown",
   "metadata": {},
   "source": [
    "# Define Training"
   ]
  },
  {
   "cell_type": "markdown",
   "metadata": {},
   "source": [
    "## Define Optimazer\n",
    "#### ResNet32 for CIFAR10\n",
    "- SGD\n",
    "- Batch size = 128 * 2 GPU\n",
    "- lr : 0.1 -> 0.01 -> 0.001 (at 32k, 48k and terminate on 64k iter)\n",
    "  - divided by 10 when the error plateaus\n",
    "- Weight Decay = 0.0001\n",
    "- Momentum = 0.9\n",
    "#### ResNet34 for ImageNet2012\n",
    "- SGD\n",
    "- Batch size = 256\n",
    "- lr = 0.1\n",
    "  - divided by 10 when the error plateaus\n",
    "  - amount 60k iter\n",
    "- Weight Decay = 0.0001\n",
    "- Momentum = 0.9"
   ]
  },
  {
   "cell_type": "code",
   "execution_count": 36,
   "metadata": {},
   "outputs": [],
   "source": [
    "criterion = nn.CrossEntropyLoss()\n",
    "\n",
    "if OPTIMIZER == \"Adam\":\n",
    "    optimizer = torch.optim.Adam(model.parameters())\n",
    "    # optimizer = torch.optim.Adam(model.parameters(), lr=0.1, weight_decay=1e-4)\n",
    "elif OPTIMIZER == \"Adam_decay\":\n",
    "    optimizer = torch.optim.Adam(model.parameters(), weight_decay=1e-4)\n",
    "elif OPTIMIZER == \"SGD\":\n",
    "    optimizer = torch.optim.SGD(\n",
    "        model.parameters(), lr=0.1, momentum=0.9, weight_decay=0.0001\n",
    "    )"
   ]
  },
  {
   "cell_type": "markdown",
   "metadata": {},
   "source": [
    "## Define Early Stopping"
   ]
  },
  {
   "cell_type": "code",
   "execution_count": 37,
   "metadata": {},
   "outputs": [],
   "source": [
    "# Early stopping 관련 변수 초기화\n",
    "best_val_loss = float(\"inf\")\n",
    "early_stop_counter = 0"
   ]
  },
  {
   "cell_type": "markdown",
   "metadata": {},
   "source": [
    "## Define Learning Rate schedualer"
   ]
  },
  {
   "cell_type": "code",
   "execution_count": 38,
   "metadata": {},
   "outputs": [],
   "source": [
    "scheduler_mapping = {\"CIFAR100\": 100, \"CIFAR10\": 1000, \"ImageNet2012\": 30}\n",
    "MIN_LR = 0.0001\n",
    "scheduler = ReduceLROnPlateau(\n",
    "    optimizer,\n",
    "    mode=\"min\",\n",
    "    patience=scheduler_mapping[DATASET],\n",
    "    factor=0.1,\n",
    "    verbose=True,\n",
    "    threshold=1e-4,\n",
    "    min_lr=MIN_LR,\n",
    ")"
   ]
  },
  {
   "cell_type": "code",
   "execution_count": 39,
   "metadata": {},
   "outputs": [],
   "source": [
    "scaler = torch.cuda.amp.GradScaler(enabled=True)"
   ]
  },
  {
   "cell_type": "markdown",
   "metadata": {},
   "source": [
    "## Load before process"
   ]
  },
  {
   "cell_type": "code",
   "execution_count": 40,
   "metadata": {},
   "outputs": [
    {
     "name": "stdout",
     "output_type": "stream",
     "text": [
      "Suceessfully loaded the All setting and Log file.\n",
      "CIFAR10/MyResNet32_256_SGD_95\n",
      "Current epoch is 2067\n",
      "Current learning rate: 0.1\n"
     ]
    }
   ],
   "source": [
    "scaler = torch.cuda.amp.GradScaler(enabled=True)\n",
    "\n",
    "if LOAD_BEFORE_TRAINING == True and os.path.exists(\"logs/\" + file_path + \".pth.tar\"):\n",
    "    # Read checkpoint as desired, e.g.,\n",
    "    checkpoint = torch.load(\n",
    "        \"logs/\" + file_path + \".pth.tar\",\n",
    "        map_location=lambda storage, loc: storage.cuda(device),\n",
    "    )\n",
    "    model.load_state_dict(checkpoint[\"model\"])\n",
    "    optimizer.load_state_dict(checkpoint[\"optimizer\"])\n",
    "    scaler.load_state_dict(checkpoint[\"scaler\"])\n",
    "    logs = checkpoint[\"logs\"]\n",
    "\n",
    "    print(\"Suceessfully loaded the All setting and Log file.\")\n",
    "    print(file_path)\n",
    "    print(f\"Current epoch is {len(logs['train_loss'])}\")\n",
    "    print(f\"Current learning rate: {optimizer.param_groups[0]['lr']}\")\n",
    "else:\n",
    "    # Create a dictionary to store the variables\n",
    "    train_loss = []\n",
    "    train_acc = []\n",
    "    eval_loss = []\n",
    "    valid_acc = []\n",
    "    test_loss = []\n",
    "    test_acc = []\n",
    "\n",
    "    logs = {\n",
    "        \"train_loss\": train_loss,\n",
    "        \"train_acc\": train_acc,\n",
    "        \"valid_loss\": eval_loss,\n",
    "        \"valid_acc\": valid_acc,\n",
    "        \"test_loss\": test_loss,\n",
    "        \"test_acc\": test_acc,\n",
    "    }\n",
    "    print(\"File does not exist. Created a new log.\")"
   ]
  },
  {
   "cell_type": "code",
   "execution_count": 41,
   "metadata": {},
   "outputs": [],
   "source": [
    "# CHECK = 1999\n",
    "# logs[\"train_loss\"] = logs[\"train_loss\"][:CHECK]\n",
    "# logs[\"train_acc\"] = logs[\"train_acc\"][:CHECK]\n",
    "# logs[\"valid_loss\"] = logs[\"valid_loss\"][:CHECK]\n",
    "# logs[\"valid_acc\"] = logs[\"valid_acc\"][:CHECK]\n",
    "# logs[\"test_loss\"] = logs[\"test_loss\"][:CHECK]\n",
    "# logs[\"test_acc\"] = logs[\"test_acc\"][:CHECK]\n",
    "# model.load_state_dict(torch.load(f\"models/{file_path}.pth\"))"
   ]
  },
  {
   "cell_type": "markdown",
   "metadata": {},
   "source": [
    "# [Training Loop]"
   ]
  },
  {
   "cell_type": "code",
   "execution_count": 42,
   "metadata": {},
   "outputs": [],
   "source": [
    "from src.Mytraining import DoTraining"
   ]
  },
  {
   "cell_type": "code",
   "execution_count": 43,
   "metadata": {},
   "outputs": [
    {
     "name": "stdout",
     "output_type": "stream",
     "text": [
      "[Epoch 2068/5000] :\n"
     ]
    },
    {
     "name": "stderr",
     "output_type": "stream",
     "text": [
      "100%|██████████| 186/186 [00:12<00:00, 14.76it/s]"
     ]
    },
    {
     "name": "stdout",
     "output_type": "stream",
     "text": [
      "Train Loss: 0.0019 | Train Acc: 85.71%\n"
     ]
    },
    {
     "name": "stderr",
     "output_type": "stream",
     "text": [
      "\n"
     ]
    },
    {
     "name": "stdout",
     "output_type": "stream",
     "text": [
      "Valid Loss: 0.7791 | Valid Acc: 76.36%\n",
      "Test  Loss: 1.0528 | Test Acc: 71.15%\n",
      "Saved PyTorch Model State to [logs/CIFAR10/MyResNet32_256_SGD_95.pth.tar]\n",
      "--------------------------------------------------\n",
      "[Epoch 2069/5000] :\n"
     ]
    },
    {
     "name": "stderr",
     "output_type": "stream",
     "text": [
      "100%|██████████| 186/186 [00:12<00:00, 15.12it/s]\n"
     ]
    },
    {
     "name": "stdout",
     "output_type": "stream",
     "text": [
      "Train Loss: 0.0017 | Train Acc: 89.29%\n",
      "Valid Loss: 0.4424 | Valid Acc: 84.88%\n",
      "Test  Loss: 0.6923 | Test Acc: 78.17%\n",
      "Saved PyTorch Model State to [logs/CIFAR10/MyResNet32_256_SGD_95.pth.tar]\n",
      "--------------------------------------------------\n",
      "[Epoch 2070/5000] :\n"
     ]
    },
    {
     "name": "stderr",
     "output_type": "stream",
     "text": [
      "100%|██████████| 186/186 [00:12<00:00, 15.01it/s]\n"
     ]
    },
    {
     "name": "stdout",
     "output_type": "stream",
     "text": [
      "Train Loss: 0.0010 | Train Acc: 92.14%\n",
      "Valid Loss: 0.4780 | Valid Acc: 85.24%\n",
      "Test  Loss: 0.8323 | Test Acc: 77.98%\n",
      "Saved PyTorch Model State to [logs/CIFAR10/MyResNet32_256_SGD_95.pth.tar]\n",
      "--------------------------------------------------\n",
      "[Epoch 2071/5000] :\n"
     ]
    },
    {
     "name": "stderr",
     "output_type": "stream",
     "text": [
      "100%|██████████| 186/186 [00:12<00:00, 15.37it/s]\n"
     ]
    },
    {
     "name": "stdout",
     "output_type": "stream",
     "text": [
      "Train Loss: 0.0017 | Train Acc: 90.71%\n",
      "Valid Loss: 0.3481 | Valid Acc: 88.40%\n",
      "Test  Loss: 0.7472 | Test Acc: 80.54%\n",
      "Saved PyTorch Model State to [logs/CIFAR10/MyResNet32_256_SGD_95.pth.tar]\n",
      "--------------------------------------------------\n",
      "[Epoch 2072/5000] :\n"
     ]
    },
    {
     "name": "stderr",
     "output_type": "stream",
     "text": [
      "100%|██████████| 186/186 [00:12<00:00, 15.23it/s]\n"
     ]
    },
    {
     "name": "stdout",
     "output_type": "stream",
     "text": [
      "Train Loss: 0.0003 | Train Acc: 98.57%\n",
      "Valid Loss: 0.4077 | Valid Acc: 86.76%\n",
      "Test  Loss: 0.8126 | Test Acc: 79.46%\n",
      "Saved PyTorch Model State to [logs/CIFAR10/MyResNet32_256_SGD_95.pth.tar]\n",
      "--------------------------------------------------\n",
      "[Epoch 2073/5000] :\n"
     ]
    },
    {
     "name": "stderr",
     "output_type": "stream",
     "text": [
      "100%|██████████| 186/186 [00:12<00:00, 15.38it/s]\n"
     ]
    },
    {
     "name": "stdout",
     "output_type": "stream",
     "text": [
      "Train Loss: 0.0003 | Train Acc: 98.57%\n",
      "Valid Loss: 0.4176 | Valid Acc: 87.12%\n",
      "Test  Loss: 0.8064 | Test Acc: 80.06%\n",
      "Saved PyTorch Model State to [logs/CIFAR10/MyResNet32_256_SGD_95.pth.tar]\n",
      "--------------------------------------------------\n",
      "[Epoch 2074/5000] :\n"
     ]
    },
    {
     "name": "stderr",
     "output_type": "stream",
     "text": [
      "100%|██████████| 186/186 [00:12<00:00, 15.27it/s]\n"
     ]
    },
    {
     "name": "stdout",
     "output_type": "stream",
     "text": [
      "Train Loss: 0.0002 | Train Acc: 98.57%\n",
      "Valid Loss: 0.4081 | Valid Acc: 87.04%\n",
      "Test  Loss: 0.8914 | Test Acc: 80.30%\n",
      "Saved PyTorch Model State to [logs/CIFAR10/MyResNet32_256_SGD_95.pth.tar]\n",
      "--------------------------------------------------\n",
      "[Epoch 2075/5000] :\n"
     ]
    },
    {
     "name": "stderr",
     "output_type": "stream",
     "text": [
      "100%|██████████| 186/186 [00:12<00:00, 14.50it/s]\n"
     ]
    },
    {
     "name": "stdout",
     "output_type": "stream",
     "text": [
      "Train Loss: 0.0005 | Train Acc: 97.14%\n",
      "Valid Loss: 0.5129 | Valid Acc: 85.60%\n",
      "Test  Loss: 0.9871 | Test Acc: 79.30%\n",
      "Saved PyTorch Model State to [logs/CIFAR10/MyResNet32_256_SGD_95.pth.tar]\n",
      "--------------------------------------------------\n",
      "[Epoch 2076/5000] :\n"
     ]
    },
    {
     "name": "stderr",
     "output_type": "stream",
     "text": [
      "100%|██████████| 186/186 [00:13<00:00, 14.30it/s]\n"
     ]
    },
    {
     "name": "stdout",
     "output_type": "stream",
     "text": [
      "Train Loss: 0.0006 | Train Acc: 95.00%\n",
      "Valid Loss: 0.3354 | Valid Acc: 90.16%\n",
      "Test  Loss: 0.8343 | Test Acc: 81.27%\n",
      "Saved PyTorch Model State to [logs/CIFAR10/MyResNet32_256_SGD_95.pth.tar]\n",
      "--------------------------------------------------\n",
      "[Epoch 2077/5000] :\n"
     ]
    },
    {
     "name": "stderr",
     "output_type": "stream",
     "text": [
      "100%|██████████| 186/186 [00:12<00:00, 14.99it/s]\n"
     ]
    },
    {
     "name": "stdout",
     "output_type": "stream",
     "text": [
      "Train Loss: 0.0001 | Train Acc: 100.00%\n",
      "Valid Loss: 0.6451 | Valid Acc: 84.20%\n",
      "Test  Loss: 1.0528 | Test Acc: 77.41%\n",
      "Saved PyTorch Model State to [logs/CIFAR10/MyResNet32_256_SGD_95.pth.tar]\n",
      "--------------------------------------------------\n",
      "[Epoch 2078/5000] :\n"
     ]
    },
    {
     "name": "stderr",
     "output_type": "stream",
     "text": [
      "100%|██████████| 186/186 [00:12<00:00, 14.99it/s]\n"
     ]
    },
    {
     "name": "stdout",
     "output_type": "stream",
     "text": [
      "Train Loss: 0.0004 | Train Acc: 97.86%\n",
      "Valid Loss: 0.3872 | Valid Acc: 88.96%\n",
      "Test  Loss: 0.8065 | Test Acc: 81.87%\n",
      "Saved PyTorch Model State to [logs/CIFAR10/MyResNet32_256_SGD_95.pth.tar]\n",
      "--------------------------------------------------\n",
      "[Epoch 2079/5000] :\n"
     ]
    },
    {
     "name": "stderr",
     "output_type": "stream",
     "text": [
      "100%|██████████| 186/186 [00:12<00:00, 14.83it/s]\n"
     ]
    },
    {
     "name": "stdout",
     "output_type": "stream",
     "text": [
      "Train Loss: 0.0002 | Train Acc: 99.29%\n",
      "Valid Loss: 0.3942 | Valid Acc: 89.28%\n",
      "Test  Loss: 0.8792 | Test Acc: 81.47%\n",
      "Saved PyTorch Model State to [logs/CIFAR10/MyResNet32_256_SGD_95.pth.tar]\n",
      "--------------------------------------------------\n",
      "[Epoch 2080/5000] :\n"
     ]
    },
    {
     "name": "stderr",
     "output_type": "stream",
     "text": [
      "100%|██████████| 186/186 [00:12<00:00, 15.42it/s]\n"
     ]
    },
    {
     "name": "stdout",
     "output_type": "stream",
     "text": [
      "Train Loss: 0.0001 | Train Acc: 98.57%\n",
      "Valid Loss: 0.3150 | Valid Acc: 91.20%\n",
      "Test  Loss: 0.7898 | Test Acc: 82.82%\n",
      "Saved PyTorch Model State to [logs/CIFAR10/MyResNet32_256_SGD_95.pth.tar]\n",
      "--------------------------------------------------\n",
      "[Epoch 2081/5000] :\n"
     ]
    },
    {
     "name": "stderr",
     "output_type": "stream",
     "text": [
      "100%|██████████| 186/186 [00:12<00:00, 14.95it/s]\n"
     ]
    },
    {
     "name": "stdout",
     "output_type": "stream",
     "text": [
      "Train Loss: 0.0001 | Train Acc: 98.57%\n",
      "Valid Loss: 0.3521 | Valid Acc: 90.12%\n",
      "Test  Loss: 0.8022 | Test Acc: 82.52%\n",
      "Saved PyTorch Model State to [logs/CIFAR10/MyResNet32_256_SGD_95.pth.tar]\n",
      "--------------------------------------------------\n",
      "[Epoch 2082/5000] :\n"
     ]
    },
    {
     "name": "stderr",
     "output_type": "stream",
     "text": [
      "100%|██████████| 186/186 [00:12<00:00, 15.36it/s]\n"
     ]
    },
    {
     "name": "stdout",
     "output_type": "stream",
     "text": [
      "Train Loss: 0.0006 | Train Acc: 96.43%\n",
      "Valid Loss: 0.4358 | Valid Acc: 88.08%\n",
      "Test  Loss: 0.8934 | Test Acc: 81.41%\n",
      "Saved PyTorch Model State to [logs/CIFAR10/MyResNet32_256_SGD_95.pth.tar]\n",
      "--------------------------------------------------\n",
      "[Epoch 2083/5000] :\n"
     ]
    },
    {
     "name": "stderr",
     "output_type": "stream",
     "text": [
      "100%|██████████| 186/186 [00:12<00:00, 15.15it/s]\n"
     ]
    },
    {
     "name": "stdout",
     "output_type": "stream",
     "text": [
      "Train Loss: 0.0005 | Train Acc: 96.43%\n",
      "Valid Loss: 0.4809 | Valid Acc: 86.80%\n",
      "Test  Loss: 0.9926 | Test Acc: 79.96%\n",
      "Saved PyTorch Model State to [logs/CIFAR10/MyResNet32_256_SGD_95.pth.tar]\n",
      "--------------------------------------------------\n",
      "[Epoch 2084/5000] :\n"
     ]
    },
    {
     "name": "stderr",
     "output_type": "stream",
     "text": [
      "100%|██████████| 186/186 [00:12<00:00, 15.07it/s]\n"
     ]
    },
    {
     "name": "stdout",
     "output_type": "stream",
     "text": [
      "Train Loss: 0.0010 | Train Acc: 95.00%\n",
      "Valid Loss: 0.4701 | Valid Acc: 87.48%\n",
      "Test  Loss: 0.8766 | Test Acc: 79.82%\n",
      "Saved PyTorch Model State to [logs/CIFAR10/MyResNet32_256_SGD_95.pth.tar]\n",
      "--------------------------------------------------\n",
      "[Epoch 2085/5000] :\n"
     ]
    },
    {
     "name": "stderr",
     "output_type": "stream",
     "text": [
      "100%|██████████| 186/186 [00:12<00:00, 14.97it/s]\n"
     ]
    },
    {
     "name": "stdout",
     "output_type": "stream",
     "text": [
      "Train Loss: 0.0001 | Train Acc: 98.57%\n",
      "Valid Loss: 0.4042 | Valid Acc: 88.40%\n",
      "Test  Loss: 0.8273 | Test Acc: 82.26%\n",
      "Saved PyTorch Model State to [logs/CIFAR10/MyResNet32_256_SGD_95.pth.tar]\n",
      "--------------------------------------------------\n",
      "[Epoch 2086/5000] :\n"
     ]
    },
    {
     "name": "stderr",
     "output_type": "stream",
     "text": [
      "100%|██████████| 186/186 [00:12<00:00, 15.03it/s]\n"
     ]
    },
    {
     "name": "stdout",
     "output_type": "stream",
     "text": [
      "Train Loss: 0.0001 | Train Acc: 100.00%\n",
      "Valid Loss: 0.3187 | Valid Acc: 91.24%\n",
      "Test  Loss: 0.7907 | Test Acc: 83.36%\n",
      "Saved PyTorch Model State to [logs/CIFAR10/MyResNet32_256_SGD_95.pth.tar]\n",
      "--------------------------------------------------\n",
      "[Epoch 2087/5000] :\n"
     ]
    },
    {
     "name": "stderr",
     "output_type": "stream",
     "text": [
      "100%|██████████| 186/186 [00:12<00:00, 15.07it/s]\n"
     ]
    },
    {
     "name": "stdout",
     "output_type": "stream",
     "text": [
      "Train Loss: 0.0002 | Train Acc: 98.57%\n",
      "Valid Loss: 0.4072 | Valid Acc: 89.00%\n",
      "Test  Loss: 0.8954 | Test Acc: 82.44%\n",
      "Saved PyTorch Model State to [logs/CIFAR10/MyResNet32_256_SGD_95.pth.tar]\n",
      "--------------------------------------------------\n",
      "[Epoch 2088/5000] :\n"
     ]
    },
    {
     "name": "stderr",
     "output_type": "stream",
     "text": [
      "100%|██████████| 186/186 [00:12<00:00, 15.12it/s]\n"
     ]
    },
    {
     "name": "stdout",
     "output_type": "stream",
     "text": [
      "Train Loss: 0.0002 | Train Acc: 97.86%\n",
      "Valid Loss: 0.3250 | Valid Acc: 90.60%\n",
      "Test  Loss: 0.7604 | Test Acc: 83.16%\n",
      "Saved PyTorch Model State to [logs/CIFAR10/MyResNet32_256_SGD_95.pth.tar]\n",
      "--------------------------------------------------\n",
      "[Epoch 2089/5000] :\n"
     ]
    },
    {
     "name": "stderr",
     "output_type": "stream",
     "text": [
      "100%|██████████| 186/186 [00:12<00:00, 15.30it/s]\n"
     ]
    },
    {
     "name": "stdout",
     "output_type": "stream",
     "text": [
      "Train Loss: 0.0001 | Train Acc: 99.29%\n",
      "Valid Loss: 0.2875 | Valid Acc: 92.08%\n",
      "Test  Loss: 0.7796 | Test Acc: 84.27%\n",
      "Saved PyTorch Model State to [logs/CIFAR10/MyResNet32_256_SGD_95.pth.tar]\n",
      "--------------------------------------------------\n",
      "[Epoch 2090/5000] :\n"
     ]
    },
    {
     "name": "stderr",
     "output_type": "stream",
     "text": [
      "100%|██████████| 186/186 [00:12<00:00, 14.79it/s]\n"
     ]
    },
    {
     "name": "stdout",
     "output_type": "stream",
     "text": [
      "Train Loss: 0.0000 | Train Acc: 99.29%\n",
      "Valid Loss: 0.3275 | Valid Acc: 91.20%\n",
      "Test  Loss: 0.8834 | Test Acc: 83.03%\n",
      "Saved PyTorch Model State to [logs/CIFAR10/MyResNet32_256_SGD_95.pth.tar]\n",
      "--------------------------------------------------\n",
      "[Epoch 2091/5000] :\n"
     ]
    },
    {
     "name": "stderr",
     "output_type": "stream",
     "text": [
      "100%|██████████| 186/186 [00:12<00:00, 14.93it/s]\n"
     ]
    },
    {
     "name": "stdout",
     "output_type": "stream",
     "text": [
      "Train Loss: 0.0000 | Train Acc: 100.00%\n",
      "Valid Loss: 0.2159 | Valid Acc: 93.44%\n",
      "Test  Loss: 0.7171 | Test Acc: 85.22%\n",
      "Saved PyTorch Model State to [logs/CIFAR10/MyResNet32_256_SGD_95.pth.tar]\n",
      "--------------------------------------------------\n",
      "[Epoch 2092/5000] :\n"
     ]
    },
    {
     "name": "stderr",
     "output_type": "stream",
     "text": [
      "100%|██████████| 186/186 [00:12<00:00, 15.05it/s]\n"
     ]
    },
    {
     "name": "stdout",
     "output_type": "stream",
     "text": [
      "Train Loss: 0.0000 | Train Acc: 100.00%\n",
      "Valid Loss: 0.2145 | Valid Acc: 93.96%\n",
      "Test  Loss: 0.7031 | Test Acc: 85.38%\n",
      "Saved PyTorch Model State to [logs/CIFAR10/MyResNet32_256_SGD_95.pth.tar]\n",
      "--------------------------------------------------\n",
      "[Epoch 2093/5000] :\n"
     ]
    },
    {
     "name": "stderr",
     "output_type": "stream",
     "text": [
      "100%|██████████| 186/186 [00:12<00:00, 15.28it/s]\n"
     ]
    },
    {
     "name": "stdout",
     "output_type": "stream",
     "text": [
      "Train Loss: 0.0000 | Train Acc: 100.00%\n",
      "Valid Loss: 0.2252 | Valid Acc: 93.24%\n",
      "Test  Loss: 0.7427 | Test Acc: 84.53%\n",
      "Saved PyTorch Model State to [logs/CIFAR10/MyResNet32_256_SGD_95.pth.tar]\n",
      "--------------------------------------------------\n",
      "[Epoch 2094/5000] :\n"
     ]
    },
    {
     "name": "stderr",
     "output_type": "stream",
     "text": [
      "100%|██████████| 186/186 [00:12<00:00, 15.00it/s]\n"
     ]
    },
    {
     "name": "stdout",
     "output_type": "stream",
     "text": [
      "Train Loss: 0.0000 | Train Acc: 100.00%\n",
      "Valid Loss: 0.1881 | Valid Acc: 94.24%\n",
      "Test  Loss: 0.6591 | Test Acc: 85.45%\n",
      "Saved PyTorch Model State to [logs/CIFAR10/MyResNet32_256_SGD_95.pth.tar]\n",
      "--------------------------------------------------\n",
      "[Epoch 2095/5000] :\n"
     ]
    },
    {
     "name": "stderr",
     "output_type": "stream",
     "text": [
      "100%|██████████| 186/186 [00:12<00:00, 15.25it/s]\n"
     ]
    },
    {
     "name": "stdout",
     "output_type": "stream",
     "text": [
      "Train Loss: 0.0000 | Train Acc: 100.00%\n",
      "Valid Loss: 0.1823 | Valid Acc: 94.32%\n",
      "Test  Loss: 0.7142 | Test Acc: 85.84%\n",
      "Saved PyTorch Model State to [logs/CIFAR10/MyResNet32_256_SGD_95.pth.tar]\n",
      "--------------------------------------------------\n",
      "[Epoch 2096/5000] :\n"
     ]
    },
    {
     "name": "stderr",
     "output_type": "stream",
     "text": [
      "100%|██████████| 186/186 [00:12<00:00, 15.28it/s]\n"
     ]
    },
    {
     "name": "stdout",
     "output_type": "stream",
     "text": [
      "Train Loss: 0.0000 | Train Acc: 100.00%\n",
      "Valid Loss: 0.1799 | Valid Acc: 94.44%\n",
      "Test  Loss: 0.6388 | Test Acc: 85.88%\n",
      "Saved PyTorch Model State to [logs/CIFAR10/MyResNet32_256_SGD_95.pth.tar]\n",
      "--------------------------------------------------\n",
      "[Epoch 2097/5000] :\n"
     ]
    },
    {
     "name": "stderr",
     "output_type": "stream",
     "text": [
      "100%|██████████| 186/186 [00:12<00:00, 15.03it/s]\n"
     ]
    },
    {
     "name": "stdout",
     "output_type": "stream",
     "text": [
      "Train Loss: 0.0000 | Train Acc: 100.00%\n",
      "Valid Loss: 0.1693 | Valid Acc: 94.52%\n",
      "Test  Loss: 0.6254 | Test Acc: 85.81%\n",
      "Saved PyTorch Model State to [logs/CIFAR10/MyResNet32_256_SGD_95.pth.tar]\n",
      "--------------------------------------------------\n",
      "[Epoch 2098/5000] :\n"
     ]
    },
    {
     "name": "stderr",
     "output_type": "stream",
     "text": [
      "100%|██████████| 186/186 [00:12<00:00, 15.34it/s]\n"
     ]
    },
    {
     "name": "stdout",
     "output_type": "stream",
     "text": [
      "Train Loss: 0.0000 | Train Acc: 100.00%\n",
      "Valid Loss: 0.1695 | Valid Acc: 94.72%\n",
      "Test  Loss: 0.6078 | Test Acc: 85.95%\n",
      "Saved PyTorch Model State to [logs/CIFAR10/MyResNet32_256_SGD_95.pth.tar]\n",
      "--------------------------------------------------\n",
      "[Epoch 2099/5000] :\n"
     ]
    },
    {
     "name": "stderr",
     "output_type": "stream",
     "text": [
      "100%|██████████| 186/186 [00:12<00:00, 15.17it/s]\n"
     ]
    },
    {
     "name": "stdout",
     "output_type": "stream",
     "text": [
      "Train Loss: 0.0000 | Train Acc: 100.00%\n",
      "Valid Loss: 0.1647 | Valid Acc: 94.60%\n",
      "Test  Loss: 0.6058 | Test Acc: 85.92%\n",
      "Saved PyTorch Model State to [logs/CIFAR10/MyResNet32_256_SGD_95.pth.tar]\n",
      "--------------------------------------------------\n",
      "[Epoch 2100/5000] :\n"
     ]
    },
    {
     "name": "stderr",
     "output_type": "stream",
     "text": [
      "100%|██████████| 186/186 [00:12<00:00, 15.06it/s]\n"
     ]
    },
    {
     "name": "stdout",
     "output_type": "stream",
     "text": [
      "Train Loss: 0.0000 | Train Acc: 100.00%\n",
      "Valid Loss: 0.1664 | Valid Acc: 94.72%\n",
      "Test  Loss: 0.5999 | Test Acc: 86.06%\n",
      "Saved PyTorch Model State to [logs/CIFAR10/MyResNet32_256_SGD_95.pth.tar]\n",
      "--------------------------------------------------\n",
      "[Epoch 2101/5000] :\n"
     ]
    },
    {
     "name": "stderr",
     "output_type": "stream",
     "text": [
      "100%|██████████| 186/186 [00:12<00:00, 14.95it/s]\n"
     ]
    },
    {
     "name": "stdout",
     "output_type": "stream",
     "text": [
      "Train Loss: 0.0000 | Train Acc: 100.00%\n",
      "Valid Loss: 0.1643 | Valid Acc: 94.56%\n",
      "Test  Loss: 0.6018 | Test Acc: 86.03%\n",
      "Saved PyTorch Model State to [logs/CIFAR10/MyResNet32_256_SGD_95.pth.tar]\n",
      "--------------------------------------------------\n",
      "[Epoch 2102/5000] :\n"
     ]
    },
    {
     "name": "stderr",
     "output_type": "stream",
     "text": [
      "100%|██████████| 186/186 [00:12<00:00, 14.98it/s]\n"
     ]
    },
    {
     "name": "stdout",
     "output_type": "stream",
     "text": [
      "Train Loss: 0.0000 | Train Acc: 100.00%\n",
      "Valid Loss: 0.1635 | Valid Acc: 94.72%\n",
      "Test  Loss: 0.5754 | Test Acc: 86.12%\n",
      "Saved PyTorch Model State to [logs/CIFAR10/MyResNet32_256_SGD_95.pth.tar]\n",
      "--------------------------------------------------\n",
      "[Epoch 2103/5000] :\n"
     ]
    },
    {
     "name": "stderr",
     "output_type": "stream",
     "text": [
      "100%|██████████| 186/186 [00:12<00:00, 15.02it/s]\n"
     ]
    },
    {
     "name": "stdout",
     "output_type": "stream",
     "text": [
      "Train Loss: 0.0000 | Train Acc: 100.00%\n",
      "Valid Loss: 0.1623 | Valid Acc: 94.76%\n",
      "Test  Loss: 0.5696 | Test Acc: 86.23%\n",
      "Saved PyTorch Model State to [logs/CIFAR10/MyResNet32_256_SGD_95.pth.tar]\n",
      "--------------------------------------------------\n",
      "[Epoch 2104/5000] :\n"
     ]
    },
    {
     "name": "stderr",
     "output_type": "stream",
     "text": [
      "100%|██████████| 186/186 [00:12<00:00, 15.02it/s]\n"
     ]
    },
    {
     "name": "stdout",
     "output_type": "stream",
     "text": [
      "Train Loss: 0.0000 | Train Acc: 100.00%\n",
      "Valid Loss: 0.1616 | Valid Acc: 94.64%\n",
      "Test  Loss: 0.5737 | Test Acc: 86.14%\n",
      "Saved PyTorch Model State to [logs/CIFAR10/MyResNet32_256_SGD_95.pth.tar]\n",
      "--------------------------------------------------\n",
      "[Epoch 2105/5000] :\n"
     ]
    },
    {
     "name": "stderr",
     "output_type": "stream",
     "text": [
      "100%|██████████| 186/186 [00:12<00:00, 15.08it/s]\n"
     ]
    },
    {
     "name": "stdout",
     "output_type": "stream",
     "text": [
      "Train Loss: 0.0000 | Train Acc: 100.00%\n",
      "Valid Loss: 0.1649 | Valid Acc: 94.48%\n",
      "Test  Loss: 0.6025 | Test Acc: 86.31%\n",
      "Saved PyTorch Model State to [logs/CIFAR10/MyResNet32_256_SGD_95.pth.tar]\n",
      "--------------------------------------------------\n",
      "[Epoch 2106/5000] :\n"
     ]
    },
    {
     "name": "stderr",
     "output_type": "stream",
     "text": [
      "100%|██████████| 186/186 [00:11<00:00, 15.61it/s]\n"
     ]
    },
    {
     "name": "stdout",
     "output_type": "stream",
     "text": [
      "Train Loss: 0.0000 | Train Acc: 100.00%\n",
      "Valid Loss: 0.1627 | Valid Acc: 94.72%\n",
      "Test  Loss: 0.5597 | Test Acc: 86.23%\n",
      "Saved PyTorch Model State to [logs/CIFAR10/MyResNet32_256_SGD_95.pth.tar]\n",
      "--------------------------------------------------\n",
      "[Epoch 2107/5000] :\n"
     ]
    },
    {
     "name": "stderr",
     "output_type": "stream",
     "text": [
      "100%|██████████| 186/186 [00:12<00:00, 15.07it/s]\n"
     ]
    },
    {
     "name": "stdout",
     "output_type": "stream",
     "text": [
      "Train Loss: 0.0000 | Train Acc: 100.00%\n",
      "Valid Loss: 0.1609 | Valid Acc: 94.92%\n",
      "Test  Loss: 0.5558 | Test Acc: 86.21%\n",
      "Saved PyTorch Model State to [logs/CIFAR10/MyResNet32_256_SGD_95.pth.tar]\n",
      "--------------------------------------------------\n",
      "[Epoch 2108/5000] :\n"
     ]
    },
    {
     "name": "stderr",
     "output_type": "stream",
     "text": [
      "100%|██████████| 186/186 [00:12<00:00, 15.37it/s]\n"
     ]
    },
    {
     "name": "stdout",
     "output_type": "stream",
     "text": [
      "Train Loss: 0.0000 | Train Acc: 100.00%\n",
      "Valid Loss: 0.1609 | Valid Acc: 94.96%\n",
      "Test  Loss: 0.5575 | Test Acc: 86.13%\n",
      "Saved PyTorch Model State to [logs/CIFAR10/MyResNet32_256_SGD_95.pth.tar]\n",
      "--------------------------------------------------\n",
      "[Epoch 2109/5000] :\n"
     ]
    },
    {
     "name": "stderr",
     "output_type": "stream",
     "text": [
      "100%|██████████| 186/186 [00:12<00:00, 15.09it/s]\n"
     ]
    },
    {
     "name": "stdout",
     "output_type": "stream",
     "text": [
      "Train Loss: 0.0000 | Train Acc: 100.00%\n",
      "Valid Loss: 0.1601 | Valid Acc: 94.96%\n",
      "Test  Loss: 0.5595 | Test Acc: 86.16%\n",
      "Saved PyTorch Model State to [logs/CIFAR10/MyResNet32_256_SGD_95.pth.tar]\n",
      "--------------------------------------------------\n",
      "[Epoch 2110/5000] :\n"
     ]
    },
    {
     "name": "stderr",
     "output_type": "stream",
     "text": [
      "100%|██████████| 186/186 [00:12<00:00, 14.85it/s]\n"
     ]
    },
    {
     "name": "stdout",
     "output_type": "stream",
     "text": [
      "Train Loss: 0.0000 | Train Acc: 100.00%\n",
      "Valid Loss: 0.1607 | Valid Acc: 94.96%\n",
      "Test  Loss: 0.5589 | Test Acc: 86.15%\n",
      "Saved PyTorch Model State to [logs/CIFAR10/MyResNet32_256_SGD_95.pth.tar]\n",
      "--------------------------------------------------\n",
      "[Epoch 2111/5000] :\n"
     ]
    },
    {
     "name": "stderr",
     "output_type": "stream",
     "text": [
      "100%|██████████| 186/186 [00:12<00:00, 14.93it/s]\n"
     ]
    },
    {
     "name": "stdout",
     "output_type": "stream",
     "text": [
      "Train Loss: 0.0000 | Train Acc: 100.00%\n",
      "Valid Loss: 0.1608 | Valid Acc: 94.84%\n",
      "Test  Loss: 0.5549 | Test Acc: 86.01%\n",
      "Saved PyTorch Model State to [logs/CIFAR10/MyResNet32_256_SGD_95.pth.tar]\n",
      "--------------------------------------------------\n",
      "[Epoch 2112/5000] :\n"
     ]
    },
    {
     "name": "stderr",
     "output_type": "stream",
     "text": [
      "100%|██████████| 186/186 [00:12<00:00, 15.11it/s]\n"
     ]
    },
    {
     "name": "stdout",
     "output_type": "stream",
     "text": [
      "Train Loss: 0.0000 | Train Acc: 100.00%\n",
      "Valid Loss: 0.1612 | Valid Acc: 94.92%\n",
      "Test  Loss: 0.5481 | Test Acc: 86.22%\n",
      "Saved PyTorch Model State to [logs/CIFAR10/MyResNet32_256_SGD_95.pth.tar]\n",
      "--------------------------------------------------\n",
      "[Epoch 2113/5000] :\n"
     ]
    },
    {
     "name": "stderr",
     "output_type": "stream",
     "text": [
      "100%|██████████| 186/186 [00:12<00:00, 15.12it/s]\n"
     ]
    },
    {
     "name": "stdout",
     "output_type": "stream",
     "text": [
      "Train Loss: 0.0000 | Train Acc: 100.00%\n",
      "Valid Loss: 0.1609 | Valid Acc: 94.88%\n",
      "Test  Loss: 0.5478 | Test Acc: 86.22%\n",
      "Saved PyTorch Model State to [logs/CIFAR10/MyResNet32_256_SGD_95.pth.tar]\n",
      "--------------------------------------------------\n",
      "[Epoch 2114/5000] :\n"
     ]
    },
    {
     "name": "stderr",
     "output_type": "stream",
     "text": [
      "100%|██████████| 186/186 [00:12<00:00, 15.09it/s]\n"
     ]
    },
    {
     "name": "stdout",
     "output_type": "stream",
     "text": [
      "Train Loss: 0.0000 | Train Acc: 100.00%\n",
      "Valid Loss: 0.1576 | Valid Acc: 94.96%\n",
      "Test  Loss: 0.5418 | Test Acc: 86.20%\n",
      "Saved PyTorch Model State to [logs/CIFAR10/MyResNet32_256_SGD_95.pth.tar]\n",
      "--------------------------------------------------\n",
      "[Epoch 2115/5000] :\n"
     ]
    },
    {
     "name": "stderr",
     "output_type": "stream",
     "text": [
      "100%|██████████| 186/186 [00:12<00:00, 15.08it/s]\n"
     ]
    },
    {
     "name": "stdout",
     "output_type": "stream",
     "text": [
      "Train Loss: 0.0000 | Train Acc: 100.00%\n",
      "Valid Loss: 0.1600 | Valid Acc: 94.76%\n",
      "Test  Loss: 0.5495 | Test Acc: 86.23%\n",
      "Saved PyTorch Model State to [logs/CIFAR10/MyResNet32_256_SGD_95.pth.tar]\n",
      "--------------------------------------------------\n",
      "[Epoch 2116/5000] :\n"
     ]
    },
    {
     "name": "stderr",
     "output_type": "stream",
     "text": [
      "100%|██████████| 186/186 [00:12<00:00, 14.66it/s]\n"
     ]
    },
    {
     "name": "stdout",
     "output_type": "stream",
     "text": [
      "Train Loss: 0.0000 | Train Acc: 100.00%\n",
      "Valid Loss: 0.1614 | Valid Acc: 94.84%\n",
      "Test  Loss: 0.5598 | Test Acc: 86.22%\n",
      "Saved PyTorch Model State to [logs/CIFAR10/MyResNet32_256_SGD_95.pth.tar]\n",
      "--------------------------------------------------\n",
      "[Epoch 2117/5000] :\n"
     ]
    },
    {
     "name": "stderr",
     "output_type": "stream",
     "text": [
      "100%|██████████| 186/186 [00:12<00:00, 15.06it/s]\n"
     ]
    },
    {
     "name": "stdout",
     "output_type": "stream",
     "text": [
      "Train Loss: 0.0000 | Train Acc: 100.00%\n",
      "Valid Loss: 0.1637 | Valid Acc: 94.72%\n",
      "Test  Loss: 0.5606 | Test Acc: 86.16%\n",
      "Saved PyTorch Model State to [logs/CIFAR10/MyResNet32_256_SGD_95.pth.tar]\n",
      "--------------------------------------------------\n",
      "[Epoch 2118/5000] :\n"
     ]
    },
    {
     "name": "stderr",
     "output_type": "stream",
     "text": [
      "100%|██████████| 186/186 [00:12<00:00, 14.94it/s]\n"
     ]
    },
    {
     "name": "stdout",
     "output_type": "stream",
     "text": [
      "Train Loss: 0.0000 | Train Acc: 100.00%\n",
      "Valid Loss: 0.1606 | Valid Acc: 94.92%\n",
      "Test  Loss: 0.5465 | Test Acc: 86.05%\n",
      "Saved PyTorch Model State to [logs/CIFAR10/MyResNet32_256_SGD_95.pth.tar]\n",
      "--------------------------------------------------\n",
      "[Epoch 2119/5000] :\n"
     ]
    },
    {
     "name": "stderr",
     "output_type": "stream",
     "text": [
      "100%|██████████| 186/186 [00:12<00:00, 15.40it/s]\n"
     ]
    },
    {
     "name": "stdout",
     "output_type": "stream",
     "text": [
      "Train Loss: 0.0000 | Train Acc: 100.00%\n",
      "Valid Loss: 0.1637 | Valid Acc: 94.52%\n",
      "Test  Loss: 0.5525 | Test Acc: 85.99%\n",
      "Saved PyTorch Model State to [logs/CIFAR10/MyResNet32_256_SGD_95.pth.tar]\n",
      "--------------------------------------------------\n",
      "[Epoch 2120/5000] :\n"
     ]
    },
    {
     "name": "stderr",
     "output_type": "stream",
     "text": [
      "100%|██████████| 186/186 [00:12<00:00, 15.19it/s]\n"
     ]
    },
    {
     "name": "stdout",
     "output_type": "stream",
     "text": [
      "Train Loss: 0.0000 | Train Acc: 100.00%\n",
      "Valid Loss: 0.1628 | Valid Acc: 94.60%\n",
      "Test  Loss: 0.5489 | Test Acc: 85.98%\n",
      "Saved PyTorch Model State to [logs/CIFAR10/MyResNet32_256_SGD_95.pth.tar]\n",
      "--------------------------------------------------\n",
      "[Epoch 2121/5000] :\n"
     ]
    },
    {
     "name": "stderr",
     "output_type": "stream",
     "text": [
      "100%|██████████| 186/186 [00:12<00:00, 14.99it/s]\n"
     ]
    },
    {
     "name": "stdout",
     "output_type": "stream",
     "text": [
      "Train Loss: 0.0000 | Train Acc: 100.00%\n",
      "Valid Loss: 0.1647 | Valid Acc: 94.72%\n",
      "Test  Loss: 0.5438 | Test Acc: 86.08%\n",
      "Saved PyTorch Model State to [logs/CIFAR10/MyResNet32_256_SGD_95.pth.tar]\n",
      "--------------------------------------------------\n",
      "[Epoch 2122/5000] :\n"
     ]
    },
    {
     "name": "stderr",
     "output_type": "stream",
     "text": [
      "100%|██████████| 186/186 [00:12<00:00, 14.88it/s]\n"
     ]
    },
    {
     "name": "stdout",
     "output_type": "stream",
     "text": [
      "Train Loss: 0.0000 | Train Acc: 100.00%\n",
      "Valid Loss: 0.1669 | Valid Acc: 94.88%\n",
      "Test  Loss: 0.5651 | Test Acc: 86.15%\n",
      "Saved PyTorch Model State to [logs/CIFAR10/MyResNet32_256_SGD_95.pth.tar]\n",
      "--------------------------------------------------\n",
      "[Epoch 2123/5000] :\n"
     ]
    },
    {
     "name": "stderr",
     "output_type": "stream",
     "text": [
      "100%|██████████| 186/186 [00:12<00:00, 15.06it/s]\n"
     ]
    },
    {
     "name": "stdout",
     "output_type": "stream",
     "text": [
      "Train Loss: 0.0000 | Train Acc: 100.00%\n",
      "Valid Loss: 0.1681 | Valid Acc: 94.60%\n",
      "Test  Loss: 0.5658 | Test Acc: 86.06%\n",
      "Saved PyTorch Model State to [logs/CIFAR10/MyResNet32_256_SGD_95.pth.tar]\n",
      "--------------------------------------------------\n",
      "[Epoch 2124/5000] :\n"
     ]
    },
    {
     "name": "stderr",
     "output_type": "stream",
     "text": [
      "100%|██████████| 186/186 [00:12<00:00, 15.21it/s]\n"
     ]
    },
    {
     "name": "stdout",
     "output_type": "stream",
     "text": [
      "Train Loss: 0.0000 | Train Acc: 100.00%\n",
      "Valid Loss: 0.1706 | Valid Acc: 94.64%\n",
      "Test  Loss: 0.5632 | Test Acc: 85.95%\n",
      "Saved PyTorch Model State to [logs/CIFAR10/MyResNet32_256_SGD_95.pth.tar]\n",
      "--------------------------------------------------\n",
      "[Epoch 2125/5000] :\n"
     ]
    },
    {
     "name": "stderr",
     "output_type": "stream",
     "text": [
      "100%|██████████| 186/186 [00:12<00:00, 14.73it/s]\n"
     ]
    },
    {
     "name": "stdout",
     "output_type": "stream",
     "text": [
      "Train Loss: 0.0000 | Train Acc: 100.00%\n",
      "Valid Loss: 0.1655 | Valid Acc: 94.68%\n",
      "Test  Loss: 0.5511 | Test Acc: 86.13%\n",
      "Saved PyTorch Model State to [logs/CIFAR10/MyResNet32_256_SGD_95.pth.tar]\n",
      "--------------------------------------------------\n",
      "[Epoch 2126/5000] :\n"
     ]
    },
    {
     "name": "stderr",
     "output_type": "stream",
     "text": [
      "100%|██████████| 186/186 [00:12<00:00, 15.09it/s]\n"
     ]
    },
    {
     "name": "stdout",
     "output_type": "stream",
     "text": [
      "Train Loss: 0.0000 | Train Acc: 100.00%\n",
      "Valid Loss: 0.1680 | Valid Acc: 94.60%\n",
      "Test  Loss: 0.5573 | Test Acc: 86.14%\n",
      "Saved PyTorch Model State to [logs/CIFAR10/MyResNet32_256_SGD_95.pth.tar]\n",
      "--------------------------------------------------\n",
      "[Epoch 2127/5000] :\n"
     ]
    },
    {
     "name": "stderr",
     "output_type": "stream",
     "text": [
      "100%|██████████| 186/186 [00:12<00:00, 15.29it/s]\n"
     ]
    },
    {
     "name": "stdout",
     "output_type": "stream",
     "text": [
      "Train Loss: 0.0000 | Train Acc: 100.00%\n",
      "Valid Loss: 0.1726 | Valid Acc: 94.36%\n",
      "Test  Loss: 0.5626 | Test Acc: 85.94%\n",
      "Saved PyTorch Model State to [logs/CIFAR10/MyResNet32_256_SGD_95.pth.tar]\n",
      "--------------------------------------------------\n",
      "[Epoch 2128/5000] :\n"
     ]
    },
    {
     "name": "stderr",
     "output_type": "stream",
     "text": [
      "100%|██████████| 186/186 [00:12<00:00, 15.32it/s]\n"
     ]
    },
    {
     "name": "stdout",
     "output_type": "stream",
     "text": [
      "Train Loss: 0.0000 | Train Acc: 100.00%\n",
      "Valid Loss: 0.1713 | Valid Acc: 94.64%\n",
      "Test  Loss: 0.5659 | Test Acc: 85.97%\n",
      "Saved PyTorch Model State to [logs/CIFAR10/MyResNet32_256_SGD_95.pth.tar]\n",
      "--------------------------------------------------\n",
      "[Epoch 2129/5000] :\n"
     ]
    },
    {
     "name": "stderr",
     "output_type": "stream",
     "text": [
      "100%|██████████| 186/186 [00:12<00:00, 14.91it/s]\n"
     ]
    },
    {
     "name": "stdout",
     "output_type": "stream",
     "text": [
      "Train Loss: 0.0000 | Train Acc: 100.00%\n",
      "Valid Loss: 0.1750 | Valid Acc: 94.52%\n",
      "Test  Loss: 0.5705 | Test Acc: 86.03%\n",
      "Saved PyTorch Model State to [logs/CIFAR10/MyResNet32_256_SGD_95.pth.tar]\n",
      "--------------------------------------------------\n",
      "[Epoch 2130/5000] :\n"
     ]
    },
    {
     "name": "stderr",
     "output_type": "stream",
     "text": [
      "100%|██████████| 186/186 [00:12<00:00, 15.31it/s]\n"
     ]
    },
    {
     "name": "stdout",
     "output_type": "stream",
     "text": [
      "Train Loss: 0.0000 | Train Acc: 100.00%\n",
      "Valid Loss: 0.1782 | Valid Acc: 94.44%\n",
      "Test  Loss: 0.5753 | Test Acc: 85.81%\n",
      "Saved PyTorch Model State to [logs/CIFAR10/MyResNet32_256_SGD_95.pth.tar]\n",
      "--------------------------------------------------\n",
      "[Epoch 2131/5000] :\n"
     ]
    },
    {
     "name": "stderr",
     "output_type": "stream",
     "text": [
      "100%|██████████| 186/186 [00:12<00:00, 15.24it/s]\n"
     ]
    },
    {
     "name": "stdout",
     "output_type": "stream",
     "text": [
      "Train Loss: 0.0000 | Train Acc: 100.00%\n",
      "Valid Loss: 0.1824 | Valid Acc: 94.12%\n",
      "Test  Loss: 0.5628 | Test Acc: 85.93%\n",
      "Saved PyTorch Model State to [logs/CIFAR10/MyResNet32_256_SGD_95.pth.tar]\n",
      "--------------------------------------------------\n",
      "[Epoch 2132/5000] :\n"
     ]
    },
    {
     "name": "stderr",
     "output_type": "stream",
     "text": [
      "100%|██████████| 186/186 [00:12<00:00, 15.37it/s]\n"
     ]
    },
    {
     "name": "stdout",
     "output_type": "stream",
     "text": [
      "Train Loss: 0.0000 | Train Acc: 100.00%\n",
      "Valid Loss: 0.1824 | Valid Acc: 94.28%\n",
      "Test  Loss: 0.5606 | Test Acc: 85.88%\n",
      "Saved PyTorch Model State to [logs/CIFAR10/MyResNet32_256_SGD_95.pth.tar]\n",
      "--------------------------------------------------\n",
      "[Epoch 2133/5000] :\n"
     ]
    },
    {
     "name": "stderr",
     "output_type": "stream",
     "text": [
      "100%|██████████| 186/186 [00:12<00:00, 15.01it/s]\n"
     ]
    },
    {
     "name": "stdout",
     "output_type": "stream",
     "text": [
      "Train Loss: 0.0000 | Train Acc: 100.00%\n",
      "Valid Loss: 0.1833 | Valid Acc: 94.60%\n",
      "Test  Loss: 0.5703 | Test Acc: 85.75%\n",
      "Saved PyTorch Model State to [logs/CIFAR10/MyResNet32_256_SGD_95.pth.tar]\n",
      "--------------------------------------------------\n",
      "[Epoch 2134/5000] :\n"
     ]
    },
    {
     "name": "stderr",
     "output_type": "stream",
     "text": [
      "100%|██████████| 186/186 [00:12<00:00, 14.97it/s]\n"
     ]
    },
    {
     "name": "stdout",
     "output_type": "stream",
     "text": [
      "Train Loss: 0.0000 | Train Acc: 100.00%\n",
      "Valid Loss: 0.1864 | Valid Acc: 94.00%\n",
      "Test  Loss: 0.5699 | Test Acc: 85.58%\n",
      "Saved PyTorch Model State to [logs/CIFAR10/MyResNet32_256_SGD_95.pth.tar]\n",
      "--------------------------------------------------\n",
      "[Epoch 2135/5000] :\n"
     ]
    },
    {
     "name": "stderr",
     "output_type": "stream",
     "text": [
      "100%|██████████| 186/186 [00:12<00:00, 15.04it/s]\n"
     ]
    },
    {
     "name": "stdout",
     "output_type": "stream",
     "text": [
      "Train Loss: 0.0000 | Train Acc: 100.00%\n",
      "Valid Loss: 0.1950 | Valid Acc: 93.92%\n",
      "Test  Loss: 0.5700 | Test Acc: 85.38%\n",
      "Saved PyTorch Model State to [logs/CIFAR10/MyResNet32_256_SGD_95.pth.tar]\n",
      "--------------------------------------------------\n",
      "[Epoch 2136/5000] :\n"
     ]
    },
    {
     "name": "stderr",
     "output_type": "stream",
     "text": [
      "100%|██████████| 186/186 [00:12<00:00, 14.96it/s]\n"
     ]
    },
    {
     "name": "stdout",
     "output_type": "stream",
     "text": [
      "Train Loss: 0.0000 | Train Acc: 100.00%\n",
      "Valid Loss: 0.1957 | Valid Acc: 93.84%\n",
      "Test  Loss: 0.5732 | Test Acc: 85.71%\n",
      "Saved PyTorch Model State to [logs/CIFAR10/MyResNet32_256_SGD_95.pth.tar]\n",
      "--------------------------------------------------\n",
      "[Epoch 2137/5000] :\n"
     ]
    },
    {
     "name": "stderr",
     "output_type": "stream",
     "text": [
      "100%|██████████| 186/186 [00:12<00:00, 15.24it/s]\n"
     ]
    },
    {
     "name": "stdout",
     "output_type": "stream",
     "text": [
      "Train Loss: 0.0000 | Train Acc: 100.00%\n",
      "Valid Loss: 0.1899 | Valid Acc: 93.64%\n",
      "Test  Loss: 0.5829 | Test Acc: 85.45%\n",
      "Saved PyTorch Model State to [logs/CIFAR10/MyResNet32_256_SGD_95.pth.tar]\n",
      "--------------------------------------------------\n",
      "[Epoch 2138/5000] :\n"
     ]
    },
    {
     "name": "stderr",
     "output_type": "stream",
     "text": [
      "100%|██████████| 186/186 [00:12<00:00, 15.07it/s]\n"
     ]
    },
    {
     "name": "stdout",
     "output_type": "stream",
     "text": [
      "Train Loss: 0.0000 | Train Acc: 100.00%\n",
      "Valid Loss: 0.1977 | Valid Acc: 93.44%\n",
      "Test  Loss: 0.5891 | Test Acc: 85.40%\n",
      "Saved PyTorch Model State to [logs/CIFAR10/MyResNet32_256_SGD_95.pth.tar]\n",
      "--------------------------------------------------\n",
      "[Epoch 2139/5000] :\n"
     ]
    },
    {
     "name": "stderr",
     "output_type": "stream",
     "text": [
      "100%|██████████| 186/186 [00:12<00:00, 15.02it/s]\n"
     ]
    },
    {
     "name": "stdout",
     "output_type": "stream",
     "text": [
      "Train Loss: 0.0000 | Train Acc: 100.00%\n",
      "Valid Loss: 0.1953 | Valid Acc: 93.44%\n",
      "Test  Loss: 0.6038 | Test Acc: 85.29%\n",
      "Saved PyTorch Model State to [logs/CIFAR10/MyResNet32_256_SGD_95.pth.tar]\n",
      "--------------------------------------------------\n",
      "[Epoch 2140/5000] :\n"
     ]
    },
    {
     "name": "stderr",
     "output_type": "stream",
     "text": [
      "100%|██████████| 186/186 [00:12<00:00, 15.32it/s]\n"
     ]
    },
    {
     "name": "stdout",
     "output_type": "stream",
     "text": [
      "Train Loss: 0.0000 | Train Acc: 100.00%\n",
      "Valid Loss: 0.1958 | Valid Acc: 93.60%\n",
      "Test  Loss: 0.5924 | Test Acc: 85.33%\n",
      "Saved PyTorch Model State to [logs/CIFAR10/MyResNet32_256_SGD_95.pth.tar]\n",
      "--------------------------------------------------\n",
      "[Epoch 2141/5000] :\n"
     ]
    },
    {
     "name": "stderr",
     "output_type": "stream",
     "text": [
      "100%|██████████| 186/186 [00:12<00:00, 15.43it/s]\n"
     ]
    },
    {
     "name": "stdout",
     "output_type": "stream",
     "text": [
      "Train Loss: 0.0000 | Train Acc: 100.00%\n",
      "Valid Loss: 0.2050 | Valid Acc: 93.52%\n",
      "Test  Loss: 0.6029 | Test Acc: 85.34%\n",
      "Saved PyTorch Model State to [logs/CIFAR10/MyResNet32_256_SGD_95.pth.tar]\n",
      "--------------------------------------------------\n",
      "[Epoch 2142/5000] :\n"
     ]
    },
    {
     "name": "stderr",
     "output_type": "stream",
     "text": [
      "100%|██████████| 186/186 [00:11<00:00, 15.69it/s]\n"
     ]
    },
    {
     "name": "stdout",
     "output_type": "stream",
     "text": [
      "Train Loss: 0.0044 | Train Acc: 72.86%\n",
      "Valid Loss: 1.3214 | Valid Acc: 58.48%\n",
      "Test  Loss: 1.3149 | Test Acc: 58.54%\n",
      "Saved PyTorch Model State to [logs/CIFAR10/MyResNet32_256_SGD_95.pth.tar]\n",
      "--------------------------------------------------\n",
      "[Epoch 2143/5000] :\n"
     ]
    },
    {
     "name": "stderr",
     "output_type": "stream",
     "text": [
      "100%|██████████| 186/186 [00:12<00:00, 15.23it/s]\n"
     ]
    },
    {
     "name": "stdout",
     "output_type": "stream",
     "text": [
      "Train Loss: 0.0026 | Train Acc: 82.86%\n",
      "Valid Loss: 0.8515 | Valid Acc: 72.20%\n",
      "Test  Loss: 0.8724 | Test Acc: 72.68%\n",
      "Saved PyTorch Model State to [logs/CIFAR10/MyResNet32_256_SGD_95.pth.tar]\n",
      "--------------------------------------------------\n",
      "[Epoch 2144/5000] :\n"
     ]
    },
    {
     "name": "stderr",
     "output_type": "stream",
     "text": [
      "100%|██████████| 186/186 [00:12<00:00, 15.34it/s]\n"
     ]
    },
    {
     "name": "stdout",
     "output_type": "stream",
     "text": [
      "Train Loss: 0.0019 | Train Acc: 89.29%\n",
      "Valid Loss: 0.6666 | Valid Acc: 77.72%\n",
      "Test  Loss: 0.7581 | Test Acc: 76.10%\n",
      "Saved PyTorch Model State to [logs/CIFAR10/MyResNet32_256_SGD_95.pth.tar]\n",
      "--------------------------------------------------\n",
      "[Epoch 2145/5000] :\n"
     ]
    },
    {
     "name": "stderr",
     "output_type": "stream",
     "text": [
      "100%|██████████| 186/186 [00:12<00:00, 14.97it/s]\n"
     ]
    },
    {
     "name": "stdout",
     "output_type": "stream",
     "text": [
      "Train Loss: 0.0019 | Train Acc: 87.14%\n",
      "Valid Loss: 0.5791 | Valid Acc: 81.96%\n",
      "Test  Loss: 0.6425 | Test Acc: 80.08%\n",
      "Saved PyTorch Model State to [logs/CIFAR10/MyResNet32_256_SGD_95.pth.tar]\n",
      "--------------------------------------------------\n",
      "[Epoch 2146/5000] :\n"
     ]
    },
    {
     "name": "stderr",
     "output_type": "stream",
     "text": [
      "100%|██████████| 186/186 [00:12<00:00, 14.82it/s]\n"
     ]
    },
    {
     "name": "stdout",
     "output_type": "stream",
     "text": [
      "Train Loss: 0.0007 | Train Acc: 95.71%\n",
      "Valid Loss: 0.6901 | Valid Acc: 79.52%\n",
      "Test  Loss: 0.8077 | Test Acc: 77.33%\n",
      "Saved PyTorch Model State to [logs/CIFAR10/MyResNet32_256_SGD_95.pth.tar]\n",
      "--------------------------------------------------\n",
      "[Epoch 2147/5000] :\n"
     ]
    },
    {
     "name": "stderr",
     "output_type": "stream",
     "text": [
      "100%|██████████| 186/186 [00:12<00:00, 14.79it/s]\n"
     ]
    },
    {
     "name": "stdout",
     "output_type": "stream",
     "text": [
      "Train Loss: 0.0010 | Train Acc: 92.86%\n",
      "Valid Loss: 0.5949 | Valid Acc: 81.48%\n",
      "Test  Loss: 0.7002 | Test Acc: 79.46%\n",
      "Saved PyTorch Model State to [logs/CIFAR10/MyResNet32_256_SGD_95.pth.tar]\n",
      "--------------------------------------------------\n",
      "[Epoch 2148/5000] :\n"
     ]
    },
    {
     "name": "stderr",
     "output_type": "stream",
     "text": [
      "100%|██████████| 186/186 [00:12<00:00, 14.88it/s]\n"
     ]
    },
    {
     "name": "stdout",
     "output_type": "stream",
     "text": [
      "Train Loss: 0.0005 | Train Acc: 96.43%\n",
      "Valid Loss: 0.6543 | Valid Acc: 82.20%\n",
      "Test  Loss: 0.8092 | Test Acc: 79.30%\n",
      "Saved PyTorch Model State to [logs/CIFAR10/MyResNet32_256_SGD_95.pth.tar]\n",
      "--------------------------------------------------\n",
      "[Epoch 2149/5000] :\n"
     ]
    },
    {
     "name": "stderr",
     "output_type": "stream",
     "text": [
      "100%|██████████| 186/186 [00:12<00:00, 14.94it/s]\n"
     ]
    },
    {
     "name": "stdout",
     "output_type": "stream",
     "text": [
      "Train Loss: 0.0008 | Train Acc: 95.00%\n",
      "Valid Loss: 0.5970 | Valid Acc: 83.80%\n",
      "Test  Loss: 0.7926 | Test Acc: 80.64%\n",
      "Saved PyTorch Model State to [logs/CIFAR10/MyResNet32_256_SGD_95.pth.tar]\n",
      "--------------------------------------------------\n",
      "[Epoch 2150/5000] :\n"
     ]
    },
    {
     "name": "stderr",
     "output_type": "stream",
     "text": [
      "100%|██████████| 186/186 [00:12<00:00, 15.20it/s]\n"
     ]
    },
    {
     "name": "stdout",
     "output_type": "stream",
     "text": [
      "Train Loss: 0.0007 | Train Acc: 94.29%\n",
      "Valid Loss: 0.6066 | Valid Acc: 83.36%\n",
      "Test  Loss: 0.7904 | Test Acc: 80.55%\n",
      "Saved PyTorch Model State to [logs/CIFAR10/MyResNet32_256_SGD_95.pth.tar]\n",
      "--------------------------------------------------\n",
      "[Epoch 2151/5000] :\n"
     ]
    },
    {
     "name": "stderr",
     "output_type": "stream",
     "text": [
      "100%|██████████| 186/186 [00:12<00:00, 14.90it/s]\n"
     ]
    },
    {
     "name": "stdout",
     "output_type": "stream",
     "text": [
      "Train Loss: 0.0005 | Train Acc: 97.86%\n",
      "Valid Loss: 0.6993 | Valid Acc: 82.16%\n",
      "Test  Loss: 0.8718 | Test Acc: 79.41%\n",
      "Saved PyTorch Model State to [logs/CIFAR10/MyResNet32_256_SGD_95.pth.tar]\n",
      "--------------------------------------------------\n",
      "[Epoch 2152/5000] :\n"
     ]
    },
    {
     "name": "stderr",
     "output_type": "stream",
     "text": [
      "100%|██████████| 186/186 [00:12<00:00, 15.14it/s]\n"
     ]
    },
    {
     "name": "stdout",
     "output_type": "stream",
     "text": [
      "Train Loss: 0.0007 | Train Acc: 95.00%\n",
      "Valid Loss: 0.6619 | Valid Acc: 83.08%\n",
      "Test  Loss: 0.8522 | Test Acc: 79.73%\n",
      "Saved PyTorch Model State to [logs/CIFAR10/MyResNet32_256_SGD_95.pth.tar]\n",
      "--------------------------------------------------\n",
      "[Epoch 2153/5000] :\n"
     ]
    },
    {
     "name": "stderr",
     "output_type": "stream",
     "text": [
      "100%|██████████| 186/186 [00:12<00:00, 15.22it/s]\n"
     ]
    },
    {
     "name": "stdout",
     "output_type": "stream",
     "text": [
      "Train Loss: 0.0009 | Train Acc: 95.71%\n",
      "Valid Loss: 0.7492 | Valid Acc: 81.72%\n",
      "Test  Loss: 0.9840 | Test Acc: 79.00%\n",
      "Saved PyTorch Model State to [logs/CIFAR10/MyResNet32_256_SGD_95.pth.tar]\n",
      "--------------------------------------------------\n",
      "[Epoch 2154/5000] :\n"
     ]
    },
    {
     "name": "stderr",
     "output_type": "stream",
     "text": [
      "100%|██████████| 186/186 [00:12<00:00, 15.17it/s]\n"
     ]
    },
    {
     "name": "stdout",
     "output_type": "stream",
     "text": [
      "Train Loss: 0.0002 | Train Acc: 99.29%\n",
      "Valid Loss: 0.6549 | Valid Acc: 83.72%\n",
      "Test  Loss: 0.8922 | Test Acc: 80.92%\n",
      "Saved PyTorch Model State to [logs/CIFAR10/MyResNet32_256_SGD_95.pth.tar]\n",
      "--------------------------------------------------\n",
      "[Epoch 2155/5000] :\n"
     ]
    },
    {
     "name": "stderr",
     "output_type": "stream",
     "text": [
      "100%|██████████| 186/186 [00:12<00:00, 15.21it/s]\n"
     ]
    },
    {
     "name": "stdout",
     "output_type": "stream",
     "text": [
      "Train Loss: 0.0005 | Train Acc: 97.14%\n",
      "Valid Loss: 0.5723 | Valid Acc: 84.28%\n",
      "Test  Loss: 0.7810 | Test Acc: 81.52%\n",
      "Saved PyTorch Model State to [logs/CIFAR10/MyResNet32_256_SGD_95.pth.tar]\n",
      "--------------------------------------------------\n",
      "[Epoch 2156/5000] :\n"
     ]
    },
    {
     "name": "stderr",
     "output_type": "stream",
     "text": [
      "100%|██████████| 186/186 [00:12<00:00, 14.86it/s]\n"
     ]
    },
    {
     "name": "stdout",
     "output_type": "stream",
     "text": [
      "Train Loss: 0.0002 | Train Acc: 100.00%\n",
      "Valid Loss: 0.5142 | Valid Acc: 86.72%\n",
      "Test  Loss: 0.7233 | Test Acc: 82.93%\n",
      "Saved PyTorch Model State to [logs/CIFAR10/MyResNet32_256_SGD_95.pth.tar]\n",
      "--------------------------------------------------\n",
      "[Epoch 2157/5000] :\n"
     ]
    },
    {
     "name": "stderr",
     "output_type": "stream",
     "text": [
      "100%|██████████| 186/186 [00:12<00:00, 15.09it/s]\n"
     ]
    },
    {
     "name": "stdout",
     "output_type": "stream",
     "text": [
      "Train Loss: 0.0006 | Train Acc: 95.71%\n",
      "Valid Loss: 0.6880 | Valid Acc: 84.20%\n",
      "Test  Loss: 0.9502 | Test Acc: 80.94%\n",
      "Saved PyTorch Model State to [logs/CIFAR10/MyResNet32_256_SGD_95.pth.tar]\n",
      "--------------------------------------------------\n",
      "[Epoch 2158/5000] :\n"
     ]
    },
    {
     "name": "stderr",
     "output_type": "stream",
     "text": [
      "100%|██████████| 186/186 [00:12<00:00, 14.68it/s]\n"
     ]
    },
    {
     "name": "stdout",
     "output_type": "stream",
     "text": [
      "Train Loss: 0.0002 | Train Acc: 99.29%\n",
      "Valid Loss: 0.7664 | Valid Acc: 82.56%\n",
      "Test  Loss: 0.9603 | Test Acc: 79.16%\n",
      "Saved PyTorch Model State to [logs/CIFAR10/MyResNet32_256_SGD_95.pth.tar]\n",
      "--------------------------------------------------\n",
      "[Epoch 2159/5000] :\n"
     ]
    },
    {
     "name": "stderr",
     "output_type": "stream",
     "text": [
      "100%|██████████| 186/186 [00:12<00:00, 14.93it/s]\n"
     ]
    },
    {
     "name": "stdout",
     "output_type": "stream",
     "text": [
      "Train Loss: 0.0004 | Train Acc: 97.86%\n",
      "Valid Loss: 0.6711 | Valid Acc: 84.80%\n",
      "Test  Loss: 0.8568 | Test Acc: 81.69%\n",
      "Saved PyTorch Model State to [logs/CIFAR10/MyResNet32_256_SGD_95.pth.tar]\n",
      "--------------------------------------------------\n",
      "[Epoch 2160/5000] :\n"
     ]
    },
    {
     "name": "stderr",
     "output_type": "stream",
     "text": [
      "100%|██████████| 186/186 [00:12<00:00, 15.13it/s]\n"
     ]
    },
    {
     "name": "stdout",
     "output_type": "stream",
     "text": [
      "Train Loss: 0.0004 | Train Acc: 95.71%\n",
      "Valid Loss: 0.6416 | Valid Acc: 84.08%\n",
      "Test  Loss: 0.8811 | Test Acc: 81.54%\n",
      "Saved PyTorch Model State to [logs/CIFAR10/MyResNet32_256_SGD_95.pth.tar]\n",
      "--------------------------------------------------\n",
      "[Epoch 2161/5000] :\n"
     ]
    },
    {
     "name": "stderr",
     "output_type": "stream",
     "text": [
      "100%|██████████| 186/186 [00:12<00:00, 14.95it/s]\n"
     ]
    },
    {
     "name": "stdout",
     "output_type": "stream",
     "text": [
      "Train Loss: 0.0003 | Train Acc: 97.14%\n",
      "Valid Loss: 0.5218 | Valid Acc: 86.84%\n",
      "Test  Loss: 0.7570 | Test Acc: 83.40%\n",
      "Saved PyTorch Model State to [logs/CIFAR10/MyResNet32_256_SGD_95.pth.tar]\n",
      "--------------------------------------------------\n",
      "[Epoch 2162/5000] :\n"
     ]
    },
    {
     "name": "stderr",
     "output_type": "stream",
     "text": [
      "100%|██████████| 186/186 [00:12<00:00, 14.85it/s]\n"
     ]
    },
    {
     "name": "stdout",
     "output_type": "stream",
     "text": [
      "Train Loss: 0.0003 | Train Acc: 97.86%\n",
      "Valid Loss: 0.6102 | Valid Acc: 85.64%\n",
      "Test  Loss: 0.8272 | Test Acc: 82.37%\n",
      "Saved PyTorch Model State to [logs/CIFAR10/MyResNet32_256_SGD_95.pth.tar]\n",
      "--------------------------------------------------\n",
      "[Epoch 2163/5000] :\n"
     ]
    },
    {
     "name": "stderr",
     "output_type": "stream",
     "text": [
      "100%|██████████| 186/186 [00:12<00:00, 14.73it/s]\n"
     ]
    },
    {
     "name": "stdout",
     "output_type": "stream",
     "text": [
      "Train Loss: 0.0002 | Train Acc: 99.29%\n",
      "Valid Loss: 0.5633 | Valid Acc: 85.80%\n",
      "Test  Loss: 0.7716 | Test Acc: 82.69%\n",
      "Saved PyTorch Model State to [logs/CIFAR10/MyResNet32_256_SGD_95.pth.tar]\n",
      "--------------------------------------------------\n",
      "[Epoch 2164/5000] :\n"
     ]
    },
    {
     "name": "stderr",
     "output_type": "stream",
     "text": [
      "100%|██████████| 186/186 [00:12<00:00, 15.25it/s]\n"
     ]
    },
    {
     "name": "stdout",
     "output_type": "stream",
     "text": [
      "Train Loss: 0.0001 | Train Acc: 100.00%\n",
      "Valid Loss: 0.6004 | Valid Acc: 85.32%\n",
      "Test  Loss: 0.8541 | Test Acc: 81.92%\n",
      "Saved PyTorch Model State to [logs/CIFAR10/MyResNet32_256_SGD_95.pth.tar]\n",
      "--------------------------------------------------\n",
      "[Epoch 2165/5000] :\n"
     ]
    },
    {
     "name": "stderr",
     "output_type": "stream",
     "text": [
      "100%|██████████| 186/186 [00:12<00:00, 15.38it/s]\n"
     ]
    },
    {
     "name": "stdout",
     "output_type": "stream",
     "text": [
      "Train Loss: 0.0004 | Train Acc: 97.14%\n",
      "Valid Loss: 0.6515 | Valid Acc: 84.56%\n",
      "Test  Loss: 0.9112 | Test Acc: 81.29%\n",
      "Saved PyTorch Model State to [logs/CIFAR10/MyResNet32_256_SGD_95.pth.tar]\n",
      "--------------------------------------------------\n",
      "[Epoch 2166/5000] :\n"
     ]
    },
    {
     "name": "stderr",
     "output_type": "stream",
     "text": [
      "100%|██████████| 186/186 [00:11<00:00, 15.50it/s]\n"
     ]
    },
    {
     "name": "stdout",
     "output_type": "stream",
     "text": [
      "Train Loss: 0.0002 | Train Acc: 98.57%\n",
      "Valid Loss: 0.6142 | Valid Acc: 86.00%\n",
      "Test  Loss: 0.8690 | Test Acc: 82.16%\n",
      "Saved PyTorch Model State to [logs/CIFAR10/MyResNet32_256_SGD_95.pth.tar]\n",
      "--------------------------------------------------\n",
      "[Epoch 2167/5000] :\n"
     ]
    },
    {
     "name": "stderr",
     "output_type": "stream",
     "text": [
      "100%|██████████| 186/186 [00:12<00:00, 15.05it/s]\n"
     ]
    },
    {
     "name": "stdout",
     "output_type": "stream",
     "text": [
      "Train Loss: 0.0003 | Train Acc: 98.57%\n",
      "Valid Loss: 0.5960 | Valid Acc: 85.36%\n",
      "Test  Loss: 0.7915 | Test Acc: 82.43%\n",
      "Saved PyTorch Model State to [logs/CIFAR10/MyResNet32_256_SGD_95.pth.tar]\n",
      "--------------------------------------------------\n",
      "[Epoch 2168/5000] :\n"
     ]
    },
    {
     "name": "stderr",
     "output_type": "stream",
     "text": [
      "100%|██████████| 186/186 [00:12<00:00, 15.32it/s]\n"
     ]
    },
    {
     "name": "stdout",
     "output_type": "stream",
     "text": [
      "Train Loss: 0.0003 | Train Acc: 97.14%\n",
      "Valid Loss: 0.5204 | Valid Acc: 87.64%\n",
      "Test  Loss: 0.7307 | Test Acc: 84.06%\n",
      "Saved PyTorch Model State to [logs/CIFAR10/MyResNet32_256_SGD_95.pth.tar]\n",
      "--------------------------------------------------\n",
      "[Epoch 2169/5000] :\n"
     ]
    },
    {
     "name": "stderr",
     "output_type": "stream",
     "text": [
      "100%|██████████| 186/186 [00:12<00:00, 14.96it/s]\n"
     ]
    },
    {
     "name": "stdout",
     "output_type": "stream",
     "text": [
      "Train Loss: 0.0001 | Train Acc: 98.57%\n",
      "Valid Loss: 0.6041 | Valid Acc: 86.04%\n",
      "Test  Loss: 0.7961 | Test Acc: 83.66%\n",
      "Saved PyTorch Model State to [logs/CIFAR10/MyResNet32_256_SGD_95.pth.tar]\n",
      "--------------------------------------------------\n",
      "[Epoch 2170/5000] :\n"
     ]
    },
    {
     "name": "stderr",
     "output_type": "stream",
     "text": [
      "100%|██████████| 186/186 [00:12<00:00, 15.06it/s]\n"
     ]
    },
    {
     "name": "stdout",
     "output_type": "stream",
     "text": [
      "Train Loss: 0.0000 | Train Acc: 100.00%\n",
      "Valid Loss: 0.5786 | Valid Acc: 86.80%\n",
      "Test  Loss: 0.8192 | Test Acc: 83.49%\n",
      "Saved PyTorch Model State to [logs/CIFAR10/MyResNet32_256_SGD_95.pth.tar]\n",
      "--------------------------------------------------\n",
      "[Epoch 2171/5000] :\n"
     ]
    },
    {
     "name": "stderr",
     "output_type": "stream",
     "text": [
      "100%|██████████| 186/186 [00:12<00:00, 14.82it/s]\n"
     ]
    },
    {
     "name": "stdout",
     "output_type": "stream",
     "text": [
      "Train Loss: 0.0004 | Train Acc: 95.71%\n",
      "Valid Loss: 0.5287 | Valid Acc: 87.44%\n",
      "Test  Loss: 0.7526 | Test Acc: 83.88%\n",
      "Saved PyTorch Model State to [logs/CIFAR10/MyResNet32_256_SGD_95.pth.tar]\n",
      "--------------------------------------------------\n",
      "[Epoch 2172/5000] :\n"
     ]
    },
    {
     "name": "stderr",
     "output_type": "stream",
     "text": [
      "100%|██████████| 186/186 [00:12<00:00, 14.82it/s]\n"
     ]
    },
    {
     "name": "stdout",
     "output_type": "stream",
     "text": [
      "Train Loss: 0.0001 | Train Acc: 99.29%\n",
      "Valid Loss: 0.6431 | Valid Acc: 85.28%\n",
      "Test  Loss: 0.8625 | Test Acc: 82.39%\n",
      "Saved PyTorch Model State to [logs/CIFAR10/MyResNet32_256_SGD_95.pth.tar]\n",
      "--------------------------------------------------\n",
      "[Epoch 2173/5000] :\n"
     ]
    },
    {
     "name": "stderr",
     "output_type": "stream",
     "text": [
      "100%|██████████| 186/186 [00:12<00:00, 15.11it/s]\n"
     ]
    },
    {
     "name": "stdout",
     "output_type": "stream",
     "text": [
      "Train Loss: 0.0006 | Train Acc: 97.14%\n",
      "Valid Loss: 0.8906 | Valid Acc: 80.40%\n",
      "Test  Loss: 1.1280 | Test Acc: 78.71%\n",
      "Saved PyTorch Model State to [logs/CIFAR10/MyResNet32_256_SGD_95.pth.tar]\n",
      "--------------------------------------------------\n",
      "[Epoch 2174/5000] :\n"
     ]
    },
    {
     "name": "stderr",
     "output_type": "stream",
     "text": [
      "100%|██████████| 186/186 [00:12<00:00, 15.09it/s]\n"
     ]
    },
    {
     "name": "stdout",
     "output_type": "stream",
     "text": [
      "Train Loss: 0.0002 | Train Acc: 97.86%\n",
      "Valid Loss: 0.6544 | Valid Acc: 84.16%\n",
      "Test  Loss: 0.8545 | Test Acc: 81.30%\n",
      "Saved PyTorch Model State to [logs/CIFAR10/MyResNet32_256_SGD_95.pth.tar]\n",
      "--------------------------------------------------\n",
      "[Epoch 2175/5000] :\n"
     ]
    },
    {
     "name": "stderr",
     "output_type": "stream",
     "text": [
      "100%|██████████| 186/186 [00:12<00:00, 14.66it/s]\n"
     ]
    },
    {
     "name": "stdout",
     "output_type": "stream",
     "text": [
      "Train Loss: 0.0003 | Train Acc: 97.86%\n",
      "Valid Loss: 0.5577 | Valid Acc: 86.24%\n",
      "Test  Loss: 0.7655 | Test Acc: 83.27%\n",
      "Saved PyTorch Model State to [logs/CIFAR10/MyResNet32_256_SGD_95.pth.tar]\n",
      "--------------------------------------------------\n",
      "[Epoch 2176/5000] :\n"
     ]
    },
    {
     "name": "stderr",
     "output_type": "stream",
     "text": [
      "100%|██████████| 186/186 [00:12<00:00, 14.81it/s]\n"
     ]
    },
    {
     "name": "stdout",
     "output_type": "stream",
     "text": [
      "Train Loss: 0.0002 | Train Acc: 99.29%\n",
      "Valid Loss: 0.6916 | Valid Acc: 83.80%\n",
      "Test  Loss: 0.9379 | Test Acc: 81.50%\n",
      "Saved PyTorch Model State to [logs/CIFAR10/MyResNet32_256_SGD_95.pth.tar]\n",
      "--------------------------------------------------\n",
      "[Epoch 2177/5000] :\n"
     ]
    },
    {
     "name": "stderr",
     "output_type": "stream",
     "text": [
      "100%|██████████| 186/186 [00:12<00:00, 15.42it/s]\n"
     ]
    },
    {
     "name": "stdout",
     "output_type": "stream",
     "text": [
      "Train Loss: 0.0001 | Train Acc: 100.00%\n",
      "Valid Loss: 0.6790 | Valid Acc: 84.80%\n",
      "Test  Loss: 0.9213 | Test Acc: 81.69%\n",
      "Saved PyTorch Model State to [logs/CIFAR10/MyResNet32_256_SGD_95.pth.tar]\n",
      "--------------------------------------------------\n",
      "[Epoch 2178/5000] :\n"
     ]
    },
    {
     "name": "stderr",
     "output_type": "stream",
     "text": [
      "100%|██████████| 186/186 [00:12<00:00, 15.24it/s]\n"
     ]
    },
    {
     "name": "stdout",
     "output_type": "stream",
     "text": [
      "Train Loss: 0.0002 | Train Acc: 97.86%\n",
      "Valid Loss: 0.5995 | Valid Acc: 85.84%\n",
      "Test  Loss: 0.8141 | Test Acc: 82.80%\n",
      "Saved PyTorch Model State to [logs/CIFAR10/MyResNet32_256_SGD_95.pth.tar]\n",
      "--------------------------------------------------\n",
      "[Epoch 2179/5000] :\n"
     ]
    },
    {
     "name": "stderr",
     "output_type": "stream",
     "text": [
      "100%|██████████| 186/186 [00:12<00:00, 15.37it/s]\n"
     ]
    },
    {
     "name": "stdout",
     "output_type": "stream",
     "text": [
      "Train Loss: 0.0001 | Train Acc: 98.57%\n",
      "Valid Loss: 0.6083 | Valid Acc: 86.44%\n",
      "Test  Loss: 0.8556 | Test Acc: 83.06%\n",
      "Saved PyTorch Model State to [logs/CIFAR10/MyResNet32_256_SGD_95.pth.tar]\n",
      "--------------------------------------------------\n",
      "[Epoch 2180/5000] :\n"
     ]
    },
    {
     "name": "stderr",
     "output_type": "stream",
     "text": [
      "100%|██████████| 186/186 [00:12<00:00, 15.33it/s]\n"
     ]
    },
    {
     "name": "stdout",
     "output_type": "stream",
     "text": [
      "Train Loss: 0.0004 | Train Acc: 97.86%\n",
      "Valid Loss: 0.6367 | Valid Acc: 84.96%\n",
      "Test  Loss: 0.8375 | Test Acc: 82.45%\n",
      "Saved PyTorch Model State to [logs/CIFAR10/MyResNet32_256_SGD_95.pth.tar]\n",
      "--------------------------------------------------\n",
      "[Epoch 2181/5000] :\n"
     ]
    },
    {
     "name": "stderr",
     "output_type": "stream",
     "text": [
      "100%|██████████| 186/186 [00:12<00:00, 15.19it/s]\n"
     ]
    },
    {
     "name": "stdout",
     "output_type": "stream",
     "text": [
      "Train Loss: 0.0004 | Train Acc: 98.57%\n",
      "Valid Loss: 0.6051 | Valid Acc: 86.12%\n",
      "Test  Loss: 0.8582 | Test Acc: 82.54%\n",
      "Saved PyTorch Model State to [logs/CIFAR10/MyResNet32_256_SGD_95.pth.tar]\n",
      "--------------------------------------------------\n",
      "[Epoch 2182/5000] :\n"
     ]
    },
    {
     "name": "stderr",
     "output_type": "stream",
     "text": [
      "100%|██████████| 186/186 [00:12<00:00, 14.95it/s]\n"
     ]
    },
    {
     "name": "stdout",
     "output_type": "stream",
     "text": [
      "Train Loss: 0.0004 | Train Acc: 97.14%\n",
      "Valid Loss: 0.7113 | Valid Acc: 83.72%\n",
      "Test  Loss: 0.9172 | Test Acc: 81.05%\n",
      "Saved PyTorch Model State to [logs/CIFAR10/MyResNet32_256_SGD_95.pth.tar]\n",
      "--------------------------------------------------\n",
      "[Epoch 2183/5000] :\n"
     ]
    },
    {
     "name": "stderr",
     "output_type": "stream",
     "text": [
      "100%|██████████| 186/186 [00:12<00:00, 14.97it/s]\n"
     ]
    },
    {
     "name": "stdout",
     "output_type": "stream",
     "text": [
      "Train Loss: 0.0004 | Train Acc: 97.14%\n",
      "Valid Loss: 0.6317 | Valid Acc: 84.88%\n",
      "Test  Loss: 0.7935 | Test Acc: 82.31%\n",
      "Saved PyTorch Model State to [logs/CIFAR10/MyResNet32_256_SGD_95.pth.tar]\n",
      "--------------------------------------------------\n",
      "[Epoch 2184/5000] :\n"
     ]
    },
    {
     "name": "stderr",
     "output_type": "stream",
     "text": [
      "100%|██████████| 186/186 [00:12<00:00, 14.95it/s]\n"
     ]
    },
    {
     "name": "stdout",
     "output_type": "stream",
     "text": [
      "Train Loss: 0.0005 | Train Acc: 97.14%\n",
      "Valid Loss: 0.5607 | Valid Acc: 86.40%\n",
      "Test  Loss: 0.8580 | Test Acc: 82.25%\n",
      "Saved PyTorch Model State to [logs/CIFAR10/MyResNet32_256_SGD_95.pth.tar]\n",
      "--------------------------------------------------\n",
      "[Epoch 2185/5000] :\n"
     ]
    },
    {
     "name": "stderr",
     "output_type": "stream",
     "text": [
      "100%|██████████| 186/186 [00:12<00:00, 15.12it/s]\n"
     ]
    },
    {
     "name": "stdout",
     "output_type": "stream",
     "text": [
      "Train Loss: 0.0003 | Train Acc: 97.86%\n",
      "Valid Loss: 0.5751 | Valid Acc: 85.96%\n",
      "Test  Loss: 0.7615 | Test Acc: 83.88%\n",
      "Saved PyTorch Model State to [logs/CIFAR10/MyResNet32_256_SGD_95.pth.tar]\n",
      "--------------------------------------------------\n",
      "[Epoch 2186/5000] :\n"
     ]
    },
    {
     "name": "stderr",
     "output_type": "stream",
     "text": [
      "100%|██████████| 186/186 [00:12<00:00, 14.75it/s]\n"
     ]
    },
    {
     "name": "stdout",
     "output_type": "stream",
     "text": [
      "Train Loss: 0.0001 | Train Acc: 100.00%\n",
      "Valid Loss: 0.6314 | Valid Acc: 85.24%\n",
      "Test  Loss: 0.8778 | Test Acc: 82.33%\n",
      "Saved PyTorch Model State to [logs/CIFAR10/MyResNet32_256_SGD_95.pth.tar]\n",
      "--------------------------------------------------\n",
      "[Epoch 2187/5000] :\n"
     ]
    },
    {
     "name": "stderr",
     "output_type": "stream",
     "text": [
      "100%|██████████| 186/186 [00:12<00:00, 14.88it/s]\n"
     ]
    },
    {
     "name": "stdout",
     "output_type": "stream",
     "text": [
      "Train Loss: 0.0002 | Train Acc: 98.57%\n",
      "Valid Loss: 0.5374 | Valid Acc: 86.76%\n",
      "Test  Loss: 0.7964 | Test Acc: 82.98%\n",
      "Saved PyTorch Model State to [logs/CIFAR10/MyResNet32_256_SGD_95.pth.tar]\n",
      "--------------------------------------------------\n",
      "[Epoch 2188/5000] :\n"
     ]
    },
    {
     "name": "stderr",
     "output_type": "stream",
     "text": [
      "100%|██████████| 186/186 [00:12<00:00, 15.16it/s]\n"
     ]
    },
    {
     "name": "stdout",
     "output_type": "stream",
     "text": [
      "Train Loss: 0.0001 | Train Acc: 99.29%\n",
      "Valid Loss: 0.5650 | Valid Acc: 86.40%\n",
      "Test  Loss: 0.7698 | Test Acc: 83.81%\n",
      "Saved PyTorch Model State to [logs/CIFAR10/MyResNet32_256_SGD_95.pth.tar]\n",
      "--------------------------------------------------\n",
      "[Epoch 2189/5000] :\n"
     ]
    },
    {
     "name": "stderr",
     "output_type": "stream",
     "text": [
      "100%|██████████| 186/186 [00:12<00:00, 15.14it/s]\n"
     ]
    },
    {
     "name": "stdout",
     "output_type": "stream",
     "text": [
      "Train Loss: 0.0001 | Train Acc: 100.00%\n",
      "Valid Loss: 0.4964 | Valid Acc: 88.00%\n",
      "Test  Loss: 0.7485 | Test Acc: 84.61%\n",
      "Saved PyTorch Model State to [logs/CIFAR10/MyResNet32_256_SGD_95.pth.tar]\n",
      "--------------------------------------------------\n",
      "[Epoch 2190/5000] :\n"
     ]
    },
    {
     "name": "stderr",
     "output_type": "stream",
     "text": [
      "100%|██████████| 186/186 [00:12<00:00, 14.97it/s]\n"
     ]
    },
    {
     "name": "stdout",
     "output_type": "stream",
     "text": [
      "Train Loss: 0.0000 | Train Acc: 100.00%\n",
      "Valid Loss: 0.4750 | Valid Acc: 88.28%\n",
      "Test  Loss: 0.7060 | Test Acc: 85.46%\n",
      "Saved PyTorch Model State to [logs/CIFAR10/MyResNet32_256_SGD_95.pth.tar]\n",
      "--------------------------------------------------\n",
      "[Epoch 2191/5000] :\n"
     ]
    },
    {
     "name": "stderr",
     "output_type": "stream",
     "text": [
      "100%|██████████| 186/186 [00:12<00:00, 14.98it/s]\n"
     ]
    },
    {
     "name": "stdout",
     "output_type": "stream",
     "text": [
      "Train Loss: 0.0000 | Train Acc: 100.00%\n",
      "Valid Loss: 0.4434 | Valid Acc: 89.28%\n",
      "Test  Loss: 0.6788 | Test Acc: 85.96%\n",
      "Saved PyTorch Model State to [logs/CIFAR10/MyResNet32_256_SGD_95.pth.tar]\n",
      "--------------------------------------------------\n",
      "[Epoch 2192/5000] :\n"
     ]
    },
    {
     "name": "stderr",
     "output_type": "stream",
     "text": [
      "100%|██████████| 186/186 [00:12<00:00, 15.05it/s]\n"
     ]
    },
    {
     "name": "stdout",
     "output_type": "stream",
     "text": [
      "Train Loss: 0.0000 | Train Acc: 100.00%\n",
      "Valid Loss: 0.4199 | Valid Acc: 89.52%\n",
      "Test  Loss: 0.6796 | Test Acc: 86.25%\n",
      "Saved PyTorch Model State to [logs/CIFAR10/MyResNet32_256_SGD_95.pth.tar]\n",
      "--------------------------------------------------\n",
      "[Epoch 2193/5000] :\n"
     ]
    },
    {
     "name": "stderr",
     "output_type": "stream",
     "text": [
      "100%|██████████| 186/186 [00:12<00:00, 14.95it/s]\n"
     ]
    },
    {
     "name": "stdout",
     "output_type": "stream",
     "text": [
      "Train Loss: 0.0000 | Train Acc: 100.00%\n",
      "Valid Loss: 0.4077 | Valid Acc: 89.84%\n",
      "Test  Loss: 0.6338 | Test Acc: 86.21%\n",
      "Saved PyTorch Model State to [logs/CIFAR10/MyResNet32_256_SGD_95.pth.tar]\n",
      "--------------------------------------------------\n",
      "[Epoch 2194/5000] :\n"
     ]
    },
    {
     "name": "stderr",
     "output_type": "stream",
     "text": [
      "100%|██████████| 186/186 [00:12<00:00, 14.91it/s]\n"
     ]
    },
    {
     "name": "stdout",
     "output_type": "stream",
     "text": [
      "Train Loss: 0.0000 | Train Acc: 100.00%\n",
      "Valid Loss: 0.3905 | Valid Acc: 89.88%\n",
      "Test  Loss: 0.6357 | Test Acc: 86.41%\n",
      "Saved PyTorch Model State to [logs/CIFAR10/MyResNet32_256_SGD_95.pth.tar]\n",
      "--------------------------------------------------\n",
      "[Epoch 2195/5000] :\n"
     ]
    },
    {
     "name": "stderr",
     "output_type": "stream",
     "text": [
      "100%|██████████| 186/186 [00:12<00:00, 15.05it/s]\n"
     ]
    },
    {
     "name": "stdout",
     "output_type": "stream",
     "text": [
      "Train Loss: 0.0000 | Train Acc: 100.00%\n",
      "Valid Loss: 0.3903 | Valid Acc: 89.88%\n",
      "Test  Loss: 0.6188 | Test Acc: 86.34%\n",
      "Saved PyTorch Model State to [logs/CIFAR10/MyResNet32_256_SGD_95.pth.tar]\n",
      "--------------------------------------------------\n",
      "[Epoch 2196/5000] :\n"
     ]
    },
    {
     "name": "stderr",
     "output_type": "stream",
     "text": [
      "100%|██████████| 186/186 [00:12<00:00, 15.03it/s]\n"
     ]
    },
    {
     "name": "stdout",
     "output_type": "stream",
     "text": [
      "Train Loss: 0.0000 | Train Acc: 100.00%\n",
      "Valid Loss: 0.3882 | Valid Acc: 89.76%\n",
      "Test  Loss: 0.6048 | Test Acc: 86.23%\n",
      "Saved PyTorch Model State to [logs/CIFAR10/MyResNet32_256_SGD_95.pth.tar]\n",
      "--------------------------------------------------\n",
      "[Epoch 2197/5000] :\n"
     ]
    },
    {
     "name": "stderr",
     "output_type": "stream",
     "text": [
      "100%|██████████| 186/186 [00:12<00:00, 15.08it/s]\n"
     ]
    },
    {
     "name": "stdout",
     "output_type": "stream",
     "text": [
      "Train Loss: 0.0000 | Train Acc: 100.00%\n",
      "Valid Loss: 0.3825 | Valid Acc: 89.80%\n",
      "Test  Loss: 0.6083 | Test Acc: 86.26%\n",
      "Saved PyTorch Model State to [logs/CIFAR10/MyResNet32_256_SGD_95.pth.tar]\n",
      "--------------------------------------------------\n",
      "[Epoch 2198/5000] :\n"
     ]
    },
    {
     "name": "stderr",
     "output_type": "stream",
     "text": [
      "100%|██████████| 186/186 [00:12<00:00, 15.04it/s]\n"
     ]
    },
    {
     "name": "stdout",
     "output_type": "stream",
     "text": [
      "Train Loss: 0.0000 | Train Acc: 100.00%\n",
      "Valid Loss: 0.3760 | Valid Acc: 90.00%\n",
      "Test  Loss: 0.5978 | Test Acc: 86.32%\n",
      "Saved PyTorch Model State to [logs/CIFAR10/MyResNet32_256_SGD_95.pth.tar]\n",
      "--------------------------------------------------\n",
      "[Epoch 2199/5000] :\n"
     ]
    },
    {
     "name": "stderr",
     "output_type": "stream",
     "text": [
      "100%|██████████| 186/186 [00:12<00:00, 15.38it/s]\n"
     ]
    },
    {
     "name": "stdout",
     "output_type": "stream",
     "text": [
      "Train Loss: 0.0000 | Train Acc: 100.00%\n",
      "Valid Loss: 0.3689 | Valid Acc: 90.16%\n",
      "Test  Loss: 0.5881 | Test Acc: 86.27%\n",
      "Saved PyTorch Model State to [logs/CIFAR10/MyResNet32_256_SGD_95.pth.tar]\n",
      "--------------------------------------------------\n",
      "[Epoch 2200/5000] :\n"
     ]
    },
    {
     "name": "stderr",
     "output_type": "stream",
     "text": [
      "100%|██████████| 186/186 [00:12<00:00, 15.16it/s]\n"
     ]
    },
    {
     "name": "stdout",
     "output_type": "stream",
     "text": [
      "Train Loss: 0.0000 | Train Acc: 100.00%\n",
      "Valid Loss: 0.3675 | Valid Acc: 89.80%\n",
      "Test  Loss: 0.5869 | Test Acc: 86.36%\n",
      "Saved PyTorch Model State to [logs/CIFAR10/MyResNet32_256_SGD_95.pth.tar]\n",
      "--------------------------------------------------\n",
      "[Epoch 2201/5000] :\n"
     ]
    },
    {
     "name": "stderr",
     "output_type": "stream",
     "text": [
      "100%|██████████| 186/186 [00:12<00:00, 15.23it/s]\n"
     ]
    },
    {
     "name": "stdout",
     "output_type": "stream",
     "text": [
      "Train Loss: 0.0000 | Train Acc: 100.00%\n",
      "Valid Loss: 0.3641 | Valid Acc: 89.84%\n",
      "Test  Loss: 0.5770 | Test Acc: 86.46%\n",
      "Saved PyTorch Model State to [logs/CIFAR10/MyResNet32_256_SGD_95.pth.tar]\n",
      "--------------------------------------------------\n",
      "[Epoch 2202/5000] :\n"
     ]
    },
    {
     "name": "stderr",
     "output_type": "stream",
     "text": [
      "100%|██████████| 186/186 [00:12<00:00, 14.84it/s]\n"
     ]
    },
    {
     "name": "stdout",
     "output_type": "stream",
     "text": [
      "Train Loss: 0.0000 | Train Acc: 100.00%\n",
      "Valid Loss: 0.3643 | Valid Acc: 90.12%\n",
      "Test  Loss: 0.5714 | Test Acc: 86.39%\n",
      "Saved PyTorch Model State to [logs/CIFAR10/MyResNet32_256_SGD_95.pth.tar]\n",
      "--------------------------------------------------\n",
      "[Epoch 2203/5000] :\n"
     ]
    },
    {
     "name": "stderr",
     "output_type": "stream",
     "text": [
      "100%|██████████| 186/186 [00:12<00:00, 14.62it/s]\n"
     ]
    },
    {
     "name": "stdout",
     "output_type": "stream",
     "text": [
      "Train Loss: 0.0000 | Train Acc: 100.00%\n",
      "Valid Loss: 0.3576 | Valid Acc: 90.16%\n",
      "Test  Loss: 0.5838 | Test Acc: 86.38%\n",
      "Saved PyTorch Model State to [logs/CIFAR10/MyResNet32_256_SGD_95.pth.tar]\n",
      "--------------------------------------------------\n",
      "[Epoch 2204/5000] :\n"
     ]
    },
    {
     "name": "stderr",
     "output_type": "stream",
     "text": [
      "100%|██████████| 186/186 [00:12<00:00, 14.99it/s]\n"
     ]
    },
    {
     "name": "stdout",
     "output_type": "stream",
     "text": [
      "Train Loss: 0.0000 | Train Acc: 100.00%\n",
      "Valid Loss: 0.3567 | Valid Acc: 89.84%\n",
      "Test  Loss: 0.5706 | Test Acc: 86.33%\n",
      "Saved PyTorch Model State to [logs/CIFAR10/MyResNet32_256_SGD_95.pth.tar]\n",
      "--------------------------------------------------\n",
      "[Epoch 2205/5000] :\n"
     ]
    },
    {
     "name": "stderr",
     "output_type": "stream",
     "text": [
      "100%|██████████| 186/186 [00:12<00:00, 14.78it/s]\n"
     ]
    },
    {
     "name": "stdout",
     "output_type": "stream",
     "text": [
      "Train Loss: 0.0000 | Train Acc: 100.00%\n",
      "Valid Loss: 0.3581 | Valid Acc: 89.84%\n",
      "Test  Loss: 0.5521 | Test Acc: 86.40%\n",
      "Saved PyTorch Model State to [logs/CIFAR10/MyResNet32_256_SGD_95.pth.tar]\n",
      "--------------------------------------------------\n",
      "[Epoch 2206/5000] :\n"
     ]
    },
    {
     "name": "stderr",
     "output_type": "stream",
     "text": [
      "100%|██████████| 186/186 [00:12<00:00, 15.04it/s]\n"
     ]
    },
    {
     "name": "stdout",
     "output_type": "stream",
     "text": [
      "Train Loss: 0.0000 | Train Acc: 100.00%\n",
      "Valid Loss: 0.3557 | Valid Acc: 89.92%\n",
      "Test  Loss: 0.5454 | Test Acc: 86.36%\n",
      "Saved PyTorch Model State to [logs/CIFAR10/MyResNet32_256_SGD_95.pth.tar]\n",
      "--------------------------------------------------\n",
      "[Epoch 2207/5000] :\n"
     ]
    },
    {
     "name": "stderr",
     "output_type": "stream",
     "text": [
      "100%|██████████| 186/186 [00:12<00:00, 14.88it/s]\n"
     ]
    },
    {
     "name": "stdout",
     "output_type": "stream",
     "text": [
      "Train Loss: 0.0000 | Train Acc: 100.00%\n",
      "Valid Loss: 0.3482 | Valid Acc: 90.08%\n",
      "Test  Loss: 0.5632 | Test Acc: 86.50%\n",
      "Saved PyTorch Model State to [logs/CIFAR10/MyResNet32_256_SGD_95.pth.tar]\n",
      "--------------------------------------------------\n",
      "[Epoch 2208/5000] :\n"
     ]
    },
    {
     "name": "stderr",
     "output_type": "stream",
     "text": [
      "100%|██████████| 186/186 [00:11<00:00, 15.83it/s]\n"
     ]
    },
    {
     "name": "stdout",
     "output_type": "stream",
     "text": [
      "Train Loss: 0.0000 | Train Acc: 100.00%\n",
      "Valid Loss: 0.3487 | Valid Acc: 90.00%\n",
      "Test  Loss: 0.5691 | Test Acc: 86.47%\n",
      "Saved PyTorch Model State to [logs/CIFAR10/MyResNet32_256_SGD_95.pth.tar]\n",
      "--------------------------------------------------\n",
      "[Epoch 2209/5000] :\n"
     ]
    },
    {
     "name": "stderr",
     "output_type": "stream",
     "text": [
      "100%|██████████| 186/186 [00:11<00:00, 15.59it/s]\n"
     ]
    },
    {
     "name": "stdout",
     "output_type": "stream",
     "text": [
      "Train Loss: 0.0000 | Train Acc: 100.00%\n",
      "Valid Loss: 0.3528 | Valid Acc: 89.92%\n",
      "Test  Loss: 0.5572 | Test Acc: 86.50%\n",
      "Saved PyTorch Model State to [logs/CIFAR10/MyResNet32_256_SGD_95.pth.tar]\n",
      "--------------------------------------------------\n",
      "[Epoch 2210/5000] :\n"
     ]
    },
    {
     "name": "stderr",
     "output_type": "stream",
     "text": [
      "100%|██████████| 186/186 [00:12<00:00, 15.07it/s]\n"
     ]
    },
    {
     "name": "stdout",
     "output_type": "stream",
     "text": [
      "Train Loss: 0.0000 | Train Acc: 100.00%\n",
      "Valid Loss: 0.3483 | Valid Acc: 90.00%\n",
      "Test  Loss: 0.5394 | Test Acc: 86.44%\n",
      "Saved PyTorch Model State to [logs/CIFAR10/MyResNet32_256_SGD_95.pth.tar]\n",
      "--------------------------------------------------\n",
      "[Epoch 2211/5000] :\n"
     ]
    },
    {
     "name": "stderr",
     "output_type": "stream",
     "text": [
      "100%|██████████| 186/186 [00:12<00:00, 14.84it/s]\n"
     ]
    },
    {
     "name": "stdout",
     "output_type": "stream",
     "text": [
      "Train Loss: 0.0000 | Train Acc: 100.00%\n",
      "Valid Loss: 0.3480 | Valid Acc: 89.92%\n",
      "Test  Loss: 0.5435 | Test Acc: 86.31%\n",
      "Saved PyTorch Model State to [logs/CIFAR10/MyResNet32_256_SGD_95.pth.tar]\n",
      "--------------------------------------------------\n",
      "[Epoch 2212/5000] :\n"
     ]
    },
    {
     "name": "stderr",
     "output_type": "stream",
     "text": [
      "100%|██████████| 186/186 [00:12<00:00, 15.01it/s]\n"
     ]
    },
    {
     "name": "stdout",
     "output_type": "stream",
     "text": [
      "Train Loss: 0.0000 | Train Acc: 100.00%\n",
      "Valid Loss: 0.3521 | Valid Acc: 89.92%\n",
      "Test  Loss: 0.5368 | Test Acc: 86.38%\n",
      "Saved PyTorch Model State to [logs/CIFAR10/MyResNet32_256_SGD_95.pth.tar]\n",
      "--------------------------------------------------\n",
      "[Epoch 2213/5000] :\n"
     ]
    },
    {
     "name": "stderr",
     "output_type": "stream",
     "text": [
      "100%|██████████| 186/186 [00:12<00:00, 15.04it/s]\n"
     ]
    },
    {
     "name": "stdout",
     "output_type": "stream",
     "text": [
      "Train Loss: 0.0000 | Train Acc: 100.00%\n",
      "Valid Loss: 0.3527 | Valid Acc: 89.88%\n",
      "Test  Loss: 0.5393 | Test Acc: 86.39%\n",
      "Saved PyTorch Model State to [logs/CIFAR10/MyResNet32_256_SGD_95.pth.tar]\n",
      "--------------------------------------------------\n",
      "[Epoch 2214/5000] :\n"
     ]
    },
    {
     "name": "stderr",
     "output_type": "stream",
     "text": [
      "100%|██████████| 186/186 [00:12<00:00, 15.10it/s]\n"
     ]
    },
    {
     "name": "stdout",
     "output_type": "stream",
     "text": [
      "Train Loss: 0.0000 | Train Acc: 100.00%\n",
      "Valid Loss: 0.3467 | Valid Acc: 90.04%\n",
      "Test  Loss: 0.5541 | Test Acc: 86.43%\n",
      "Saved PyTorch Model State to [logs/CIFAR10/MyResNet32_256_SGD_95.pth.tar]\n",
      "--------------------------------------------------\n",
      "[Epoch 2215/5000] :\n"
     ]
    },
    {
     "name": "stderr",
     "output_type": "stream",
     "text": [
      "100%|██████████| 186/186 [00:12<00:00, 15.04it/s]\n"
     ]
    },
    {
     "name": "stdout",
     "output_type": "stream",
     "text": [
      "Train Loss: 0.0000 | Train Acc: 100.00%\n",
      "Valid Loss: 0.3485 | Valid Acc: 89.92%\n",
      "Test  Loss: 0.5388 | Test Acc: 86.29%\n",
      "Saved PyTorch Model State to [logs/CIFAR10/MyResNet32_256_SGD_95.pth.tar]\n",
      "--------------------------------------------------\n",
      "[Epoch 2216/5000] :\n"
     ]
    },
    {
     "name": "stderr",
     "output_type": "stream",
     "text": [
      "100%|██████████| 186/186 [00:12<00:00, 14.93it/s]\n"
     ]
    },
    {
     "name": "stdout",
     "output_type": "stream",
     "text": [
      "Train Loss: 0.0000 | Train Acc: 100.00%\n",
      "Valid Loss: 0.3477 | Valid Acc: 89.72%\n",
      "Test  Loss: 0.5437 | Test Acc: 86.30%\n",
      "Saved PyTorch Model State to [logs/CIFAR10/MyResNet32_256_SGD_95.pth.tar]\n",
      "--------------------------------------------------\n",
      "[Epoch 2217/5000] :\n"
     ]
    },
    {
     "name": "stderr",
     "output_type": "stream",
     "text": [
      "100%|██████████| 186/186 [00:12<00:00, 15.13it/s]\n"
     ]
    },
    {
     "name": "stdout",
     "output_type": "stream",
     "text": [
      "Train Loss: 0.0000 | Train Acc: 100.00%\n",
      "Valid Loss: 0.3493 | Valid Acc: 89.88%\n",
      "Test  Loss: 0.5594 | Test Acc: 86.30%\n",
      "Saved PyTorch Model State to [logs/CIFAR10/MyResNet32_256_SGD_95.pth.tar]\n",
      "--------------------------------------------------\n",
      "[Epoch 2218/5000] :\n"
     ]
    },
    {
     "name": "stderr",
     "output_type": "stream",
     "text": [
      "100%|██████████| 186/186 [00:11<00:00, 15.55it/s]\n"
     ]
    },
    {
     "name": "stdout",
     "output_type": "stream",
     "text": [
      "Train Loss: 0.0000 | Train Acc: 100.00%\n",
      "Valid Loss: 0.3488 | Valid Acc: 90.08%\n",
      "Test  Loss: 0.5412 | Test Acc: 86.20%\n",
      "Saved PyTorch Model State to [logs/CIFAR10/MyResNet32_256_SGD_95.pth.tar]\n",
      "--------------------------------------------------\n",
      "[Epoch 2219/5000] :\n"
     ]
    },
    {
     "name": "stderr",
     "output_type": "stream",
     "text": [
      "100%|██████████| 186/186 [00:12<00:00, 15.22it/s]\n"
     ]
    },
    {
     "name": "stdout",
     "output_type": "stream",
     "text": [
      "Train Loss: 0.0000 | Train Acc: 100.00%\n",
      "Valid Loss: 0.3554 | Valid Acc: 89.80%\n",
      "Test  Loss: 0.5462 | Test Acc: 86.16%\n",
      "Saved PyTorch Model State to [logs/CIFAR10/MyResNet32_256_SGD_95.pth.tar]\n",
      "--------------------------------------------------\n",
      "[Epoch 2220/5000] :\n"
     ]
    },
    {
     "name": "stderr",
     "output_type": "stream",
     "text": [
      "100%|██████████| 186/186 [00:12<00:00, 15.18it/s]\n"
     ]
    },
    {
     "name": "stdout",
     "output_type": "stream",
     "text": [
      "Train Loss: 0.0000 | Train Acc: 100.00%\n",
      "Valid Loss: 0.3525 | Valid Acc: 89.68%\n",
      "Test  Loss: 0.5376 | Test Acc: 86.15%\n",
      "Saved PyTorch Model State to [logs/CIFAR10/MyResNet32_256_SGD_95.pth.tar]\n",
      "--------------------------------------------------\n",
      "[Epoch 2221/5000] :\n"
     ]
    },
    {
     "name": "stderr",
     "output_type": "stream",
     "text": [
      "100%|██████████| 186/186 [00:12<00:00, 15.07it/s]\n"
     ]
    },
    {
     "name": "stdout",
     "output_type": "stream",
     "text": [
      "Train Loss: 0.0000 | Train Acc: 100.00%\n",
      "Valid Loss: 0.3525 | Valid Acc: 89.72%\n",
      "Test  Loss: 0.5467 | Test Acc: 86.14%\n",
      "Saved PyTorch Model State to [logs/CIFAR10/MyResNet32_256_SGD_95.pth.tar]\n",
      "--------------------------------------------------\n",
      "[Epoch 2222/5000] :\n"
     ]
    },
    {
     "name": "stderr",
     "output_type": "stream",
     "text": [
      "100%|██████████| 186/186 [00:12<00:00, 15.03it/s]\n"
     ]
    },
    {
     "name": "stdout",
     "output_type": "stream",
     "text": [
      "Train Loss: 0.0000 | Train Acc: 100.00%\n",
      "Valid Loss: 0.3540 | Valid Acc: 89.68%\n",
      "Test  Loss: 0.5350 | Test Acc: 86.21%\n",
      "Saved PyTorch Model State to [logs/CIFAR10/MyResNet32_256_SGD_95.pth.tar]\n",
      "--------------------------------------------------\n",
      "[Epoch 2223/5000] :\n"
     ]
    },
    {
     "name": "stderr",
     "output_type": "stream",
     "text": [
      "100%|██████████| 186/186 [00:12<00:00, 14.78it/s]\n"
     ]
    },
    {
     "name": "stdout",
     "output_type": "stream",
     "text": [
      "Train Loss: 0.0000 | Train Acc: 100.00%\n",
      "Valid Loss: 0.3581 | Valid Acc: 89.80%\n",
      "Test  Loss: 0.5459 | Test Acc: 86.03%\n",
      "Saved PyTorch Model State to [logs/CIFAR10/MyResNet32_256_SGD_95.pth.tar]\n",
      "--------------------------------------------------\n",
      "[Epoch 2224/5000] :\n"
     ]
    },
    {
     "name": "stderr",
     "output_type": "stream",
     "text": [
      "100%|██████████| 186/186 [00:12<00:00, 15.23it/s]\n"
     ]
    },
    {
     "name": "stdout",
     "output_type": "stream",
     "text": [
      "Train Loss: 0.0000 | Train Acc: 100.00%\n",
      "Valid Loss: 0.3601 | Valid Acc: 89.72%\n",
      "Test  Loss: 0.5333 | Test Acc: 86.22%\n",
      "Saved PyTorch Model State to [logs/CIFAR10/MyResNet32_256_SGD_95.pth.tar]\n",
      "--------------------------------------------------\n",
      "[Epoch 2225/5000] :\n"
     ]
    },
    {
     "name": "stderr",
     "output_type": "stream",
     "text": [
      "100%|██████████| 186/186 [00:12<00:00, 14.69it/s]\n"
     ]
    },
    {
     "name": "stdout",
     "output_type": "stream",
     "text": [
      "Train Loss: 0.0000 | Train Acc: 100.00%\n",
      "Valid Loss: 0.3561 | Valid Acc: 89.76%\n",
      "Test  Loss: 0.5636 | Test Acc: 86.11%\n",
      "Saved PyTorch Model State to [logs/CIFAR10/MyResNet32_256_SGD_95.pth.tar]\n",
      "--------------------------------------------------\n",
      "[Epoch 2226/5000] :\n"
     ]
    },
    {
     "name": "stderr",
     "output_type": "stream",
     "text": [
      "100%|██████████| 186/186 [00:12<00:00, 14.78it/s]\n"
     ]
    },
    {
     "name": "stdout",
     "output_type": "stream",
     "text": [
      "Train Loss: 0.0000 | Train Acc: 100.00%\n",
      "Valid Loss: 0.3542 | Valid Acc: 89.80%\n",
      "Test  Loss: 0.5507 | Test Acc: 86.05%\n",
      "Saved PyTorch Model State to [logs/CIFAR10/MyResNet32_256_SGD_95.pth.tar]\n",
      "--------------------------------------------------\n",
      "[Epoch 2227/5000] :\n"
     ]
    },
    {
     "name": "stderr",
     "output_type": "stream",
     "text": [
      "100%|██████████| 186/186 [00:12<00:00, 15.19it/s]\n"
     ]
    },
    {
     "name": "stdout",
     "output_type": "stream",
     "text": [
      "Train Loss: 0.0000 | Train Acc: 100.00%\n",
      "Valid Loss: 0.3606 | Valid Acc: 89.64%\n",
      "Test  Loss: 0.5521 | Test Acc: 86.19%\n",
      "Saved PyTorch Model State to [logs/CIFAR10/MyResNet32_256_SGD_95.pth.tar]\n",
      "--------------------------------------------------\n",
      "[Epoch 2228/5000] :\n"
     ]
    },
    {
     "name": "stderr",
     "output_type": "stream",
     "text": [
      "100%|██████████| 186/186 [00:12<00:00, 15.09it/s]\n"
     ]
    },
    {
     "name": "stdout",
     "output_type": "stream",
     "text": [
      "Train Loss: 0.0000 | Train Acc: 100.00%\n",
      "Valid Loss: 0.3602 | Valid Acc: 89.44%\n",
      "Test  Loss: 0.5706 | Test Acc: 85.88%\n",
      "Saved PyTorch Model State to [logs/CIFAR10/MyResNet32_256_SGD_95.pth.tar]\n",
      "--------------------------------------------------\n",
      "[Epoch 2229/5000] :\n"
     ]
    },
    {
     "name": "stderr",
     "output_type": "stream",
     "text": [
      "100%|██████████| 186/186 [00:12<00:00, 15.32it/s]\n"
     ]
    },
    {
     "name": "stdout",
     "output_type": "stream",
     "text": [
      "Train Loss: 0.0000 | Train Acc: 100.00%\n",
      "Valid Loss: 0.3618 | Valid Acc: 89.44%\n",
      "Test  Loss: 0.5501 | Test Acc: 85.83%\n",
      "Saved PyTorch Model State to [logs/CIFAR10/MyResNet32_256_SGD_95.pth.tar]\n",
      "--------------------------------------------------\n",
      "[Epoch 2230/5000] :\n"
     ]
    },
    {
     "name": "stderr",
     "output_type": "stream",
     "text": [
      "100%|██████████| 186/186 [00:11<00:00, 15.53it/s]\n"
     ]
    },
    {
     "name": "stdout",
     "output_type": "stream",
     "text": [
      "Train Loss: 0.0000 | Train Acc: 100.00%\n",
      "Valid Loss: 0.3622 | Valid Acc: 89.40%\n",
      "Test  Loss: 0.5683 | Test Acc: 85.87%\n",
      "Saved PyTorch Model State to [logs/CIFAR10/MyResNet32_256_SGD_95.pth.tar]\n",
      "--------------------------------------------------\n",
      "[Epoch 2231/5000] :\n"
     ]
    },
    {
     "name": "stderr",
     "output_type": "stream",
     "text": [
      "100%|██████████| 186/186 [00:12<00:00, 15.31it/s]\n"
     ]
    },
    {
     "name": "stdout",
     "output_type": "stream",
     "text": [
      "Train Loss: 0.0000 | Train Acc: 100.00%\n",
      "Valid Loss: 0.3693 | Valid Acc: 88.96%\n",
      "Test  Loss: 0.5507 | Test Acc: 85.97%\n",
      "Saved PyTorch Model State to [logs/CIFAR10/MyResNet32_256_SGD_95.pth.tar]\n",
      "--------------------------------------------------\n",
      "[Epoch 2232/5000] :\n"
     ]
    },
    {
     "name": "stderr",
     "output_type": "stream",
     "text": [
      "100%|██████████| 186/186 [00:12<00:00, 15.27it/s]\n"
     ]
    },
    {
     "name": "stdout",
     "output_type": "stream",
     "text": [
      "Train Loss: 0.0000 | Train Acc: 100.00%\n",
      "Valid Loss: 0.3889 | Valid Acc: 89.28%\n",
      "Test  Loss: 0.5762 | Test Acc: 85.53%\n",
      "Saved PyTorch Model State to [logs/CIFAR10/MyResNet32_256_SGD_95.pth.tar]\n",
      "--------------------------------------------------\n",
      "[Epoch 2233/5000] :\n"
     ]
    },
    {
     "name": "stderr",
     "output_type": "stream",
     "text": [
      "100%|██████████| 186/186 [00:12<00:00, 15.28it/s]\n"
     ]
    },
    {
     "name": "stdout",
     "output_type": "stream",
     "text": [
      "Train Loss: 0.0000 | Train Acc: 100.00%\n",
      "Valid Loss: 0.3755 | Valid Acc: 89.52%\n",
      "Test  Loss: 0.5650 | Test Acc: 85.51%\n",
      "Saved PyTorch Model State to [logs/CIFAR10/MyResNet32_256_SGD_95.pth.tar]\n",
      "--------------------------------------------------\n",
      "[Epoch 2234/5000] :\n"
     ]
    },
    {
     "name": "stderr",
     "output_type": "stream",
     "text": [
      "100%|██████████| 186/186 [00:12<00:00, 14.59it/s]\n"
     ]
    },
    {
     "name": "stdout",
     "output_type": "stream",
     "text": [
      "Train Loss: 0.0000 | Train Acc: 100.00%\n",
      "Valid Loss: 0.3784 | Valid Acc: 89.52%\n",
      "Test  Loss: 0.5619 | Test Acc: 85.70%\n",
      "Saved PyTorch Model State to [logs/CIFAR10/MyResNet32_256_SGD_95.pth.tar]\n",
      "--------------------------------------------------\n",
      "[Epoch 2235/5000] :\n"
     ]
    },
    {
     "name": "stderr",
     "output_type": "stream",
     "text": [
      "100%|██████████| 186/186 [00:12<00:00, 14.84it/s]\n"
     ]
    },
    {
     "name": "stdout",
     "output_type": "stream",
     "text": [
      "Train Loss: 0.0000 | Train Acc: 100.00%\n",
      "Valid Loss: 0.3823 | Valid Acc: 89.44%\n",
      "Test  Loss: 0.5676 | Test Acc: 85.48%\n",
      "Saved PyTorch Model State to [logs/CIFAR10/MyResNet32_256_SGD_95.pth.tar]\n",
      "--------------------------------------------------\n",
      "[Epoch 2236/5000] :\n"
     ]
    },
    {
     "name": "stderr",
     "output_type": "stream",
     "text": [
      "100%|██████████| 186/186 [00:12<00:00, 14.90it/s]\n"
     ]
    },
    {
     "name": "stdout",
     "output_type": "stream",
     "text": [
      "Train Loss: 0.0000 | Train Acc: 100.00%\n",
      "Valid Loss: 0.3817 | Valid Acc: 89.48%\n",
      "Test  Loss: 0.5765 | Test Acc: 85.67%\n",
      "Saved PyTorch Model State to [logs/CIFAR10/MyResNet32_256_SGD_95.pth.tar]\n",
      "--------------------------------------------------\n",
      "[Epoch 2237/5000] :\n"
     ]
    },
    {
     "name": "stderr",
     "output_type": "stream",
     "text": [
      "100%|██████████| 186/186 [00:12<00:00, 14.98it/s]\n"
     ]
    },
    {
     "name": "stdout",
     "output_type": "stream",
     "text": [
      "Train Loss: 0.0000 | Train Acc: 100.00%\n",
      "Valid Loss: 0.3919 | Valid Acc: 88.92%\n",
      "Test  Loss: 0.5987 | Test Acc: 85.35%\n",
      "Saved PyTorch Model State to [logs/CIFAR10/MyResNet32_256_SGD_95.pth.tar]\n",
      "--------------------------------------------------\n",
      "[Epoch 2238/5000] :\n"
     ]
    },
    {
     "name": "stderr",
     "output_type": "stream",
     "text": [
      "100%|██████████| 186/186 [00:12<00:00, 15.16it/s]\n"
     ]
    },
    {
     "name": "stdout",
     "output_type": "stream",
     "text": [
      "Train Loss: 0.0000 | Train Acc: 100.00%\n",
      "Valid Loss: 0.3895 | Valid Acc: 89.36%\n",
      "Test  Loss: 0.5827 | Test Acc: 85.43%\n",
      "Saved PyTorch Model State to [logs/CIFAR10/MyResNet32_256_SGD_95.pth.tar]\n",
      "--------------------------------------------------\n",
      "[Epoch 2239/5000] :\n"
     ]
    },
    {
     "name": "stderr",
     "output_type": "stream",
     "text": [
      "100%|██████████| 186/186 [00:12<00:00, 15.09it/s]\n"
     ]
    },
    {
     "name": "stdout",
     "output_type": "stream",
     "text": [
      "Train Loss: 0.0000 | Train Acc: 100.00%\n",
      "Valid Loss: 0.3884 | Valid Acc: 89.04%\n",
      "Test  Loss: 0.5935 | Test Acc: 85.32%\n",
      "Saved PyTorch Model State to [logs/CIFAR10/MyResNet32_256_SGD_95.pth.tar]\n",
      "--------------------------------------------------\n",
      "[Epoch 2240/5000] :\n"
     ]
    },
    {
     "name": "stderr",
     "output_type": "stream",
     "text": [
      "100%|██████████| 186/186 [00:12<00:00, 15.28it/s]\n"
     ]
    },
    {
     "name": "stdout",
     "output_type": "stream",
     "text": [
      "Train Loss: 0.0000 | Train Acc: 100.00%\n",
      "Valid Loss: 0.3950 | Valid Acc: 89.28%\n",
      "Test  Loss: 0.6081 | Test Acc: 85.24%\n",
      "Saved PyTorch Model State to [logs/CIFAR10/MyResNet32_256_SGD_95.pth.tar]\n",
      "--------------------------------------------------\n",
      "[Epoch 2241/5000] :\n"
     ]
    },
    {
     "name": "stderr",
     "output_type": "stream",
     "text": [
      "100%|██████████| 186/186 [00:11<00:00, 15.67it/s]\n"
     ]
    },
    {
     "name": "stdout",
     "output_type": "stream",
     "text": [
      "Train Loss: 0.0000 | Train Acc: 100.00%\n",
      "Valid Loss: 0.4112 | Valid Acc: 88.96%\n",
      "Test  Loss: 0.6193 | Test Acc: 85.14%\n",
      "Saved PyTorch Model State to [logs/CIFAR10/MyResNet32_256_SGD_95.pth.tar]\n",
      "--------------------------------------------------\n",
      "[Epoch 2242/5000] :\n"
     ]
    },
    {
     "name": "stderr",
     "output_type": "stream",
     "text": [
      "100%|██████████| 186/186 [00:12<00:00, 15.47it/s]\n"
     ]
    },
    {
     "name": "stdout",
     "output_type": "stream",
     "text": [
      "Train Loss: 0.0000 | Train Acc: 100.00%\n",
      "Valid Loss: 0.4064 | Valid Acc: 89.08%\n",
      "Test  Loss: 0.5943 | Test Acc: 85.14%\n",
      "Saved PyTorch Model State to [logs/CIFAR10/MyResNet32_256_SGD_95.pth.tar]\n",
      "--------------------------------------------------\n",
      "[Epoch 2243/5000] :\n"
     ]
    },
    {
     "name": "stderr",
     "output_type": "stream",
     "text": [
      "100%|██████████| 186/186 [00:12<00:00, 15.04it/s]\n"
     ]
    },
    {
     "name": "stdout",
     "output_type": "stream",
     "text": [
      "Train Loss: 0.0000 | Train Acc: 100.00%\n",
      "Valid Loss: 0.4082 | Valid Acc: 88.84%\n",
      "Test  Loss: 0.6243 | Test Acc: 85.12%\n",
      "Saved PyTorch Model State to [logs/CIFAR10/MyResNet32_256_SGD_95.pth.tar]\n",
      "--------------------------------------------------\n",
      "[Epoch 2244/5000] :\n"
     ]
    },
    {
     "name": "stderr",
     "output_type": "stream",
     "text": [
      "100%|██████████| 186/186 [00:12<00:00, 15.26it/s]\n"
     ]
    },
    {
     "name": "stdout",
     "output_type": "stream",
     "text": [
      "Train Loss: 0.0031 | Train Acc: 80.00%\n",
      "Valid Loss: 1.3187 | Valid Acc: 54.44%\n",
      "Test  Loss: 1.3225 | Test Acc: 55.20%\n",
      "Saved PyTorch Model State to [logs/CIFAR10/MyResNet32_256_SGD_95.pth.tar]\n",
      "--------------------------------------------------\n",
      "[Epoch 2245/5000] :\n"
     ]
    },
    {
     "name": "stderr",
     "output_type": "stream",
     "text": [
      "100%|██████████| 186/186 [00:09<00:00, 20.24it/s]\n"
     ]
    },
    {
     "name": "stdout",
     "output_type": "stream",
     "text": [
      "Train Loss: 0.0027 | Train Acc: 81.43%\n",
      "Valid Loss: 0.8179 | Valid Acc: 75.12%\n",
      "Test  Loss: 0.8712 | Test Acc: 73.94%\n",
      "Saved PyTorch Model State to [logs/CIFAR10/MyResNet32_256_SGD_95.pth.tar]\n",
      "--------------------------------------------------\n",
      "[Epoch 2246/5000] :\n"
     ]
    },
    {
     "name": "stderr",
     "output_type": "stream",
     "text": [
      "100%|██████████| 186/186 [00:08<00:00, 21.25it/s]\n"
     ]
    },
    {
     "name": "stdout",
     "output_type": "stream",
     "text": [
      "Train Loss: 0.0020 | Train Acc: 87.86%\n",
      "Valid Loss: 0.8900 | Valid Acc: 73.48%\n",
      "Test  Loss: 0.9272 | Test Acc: 73.11%\n",
      "Saved PyTorch Model State to [logs/CIFAR10/MyResNet32_256_SGD_95.pth.tar]\n",
      "--------------------------------------------------\n",
      "[Epoch 2247/5000] :\n"
     ]
    },
    {
     "name": "stderr",
     "output_type": "stream",
     "text": [
      "100%|██████████| 186/186 [00:10<00:00, 18.10it/s]\n"
     ]
    },
    {
     "name": "stdout",
     "output_type": "stream",
     "text": [
      "Train Loss: 0.0018 | Train Acc: 90.00%\n",
      "Valid Loss: 0.6138 | Valid Acc: 81.80%\n",
      "Test  Loss: 0.6779 | Test Acc: 79.64%\n",
      "Saved PyTorch Model State to [logs/CIFAR10/MyResNet32_256_SGD_95.pth.tar]\n",
      "--------------------------------------------------\n",
      "[Epoch 2248/5000] :\n"
     ]
    },
    {
     "name": "stderr",
     "output_type": "stream",
     "text": [
      "100%|██████████| 186/186 [00:12<00:00, 14.49it/s]\n"
     ]
    },
    {
     "name": "stdout",
     "output_type": "stream",
     "text": [
      "Train Loss: 0.0012 | Train Acc: 92.14%\n",
      "Valid Loss: 0.6950 | Valid Acc: 79.64%\n",
      "Test  Loss: 0.7571 | Test Acc: 78.96%\n",
      "Saved PyTorch Model State to [logs/CIFAR10/MyResNet32_256_SGD_95.pth.tar]\n",
      "--------------------------------------------------\n",
      "[Epoch 2249/5000] :\n"
     ]
    },
    {
     "name": "stderr",
     "output_type": "stream",
     "text": [
      "100%|██████████| 186/186 [00:13<00:00, 13.50it/s]\n"
     ]
    },
    {
     "name": "stdout",
     "output_type": "stream",
     "text": [
      "Train Loss: 0.0009 | Train Acc: 95.00%\n",
      "Valid Loss: 0.7283 | Valid Acc: 79.28%\n",
      "Test  Loss: 0.7916 | Test Acc: 78.03%\n",
      "Saved PyTorch Model State to [logs/CIFAR10/MyResNet32_256_SGD_95.pth.tar]\n",
      "--------------------------------------------------\n",
      "[Epoch 2250/5000] :\n"
     ]
    },
    {
     "name": "stderr",
     "output_type": "stream",
     "text": [
      "100%|██████████| 186/186 [00:12<00:00, 14.95it/s]\n"
     ]
    },
    {
     "name": "stdout",
     "output_type": "stream",
     "text": [
      "Train Loss: 0.0006 | Train Acc: 97.86%\n",
      "Valid Loss: 0.6974 | Valid Acc: 80.20%\n",
      "Test  Loss: 0.7707 | Test Acc: 78.37%\n",
      "Saved PyTorch Model State to [logs/CIFAR10/MyResNet32_256_SGD_95.pth.tar]\n",
      "--------------------------------------------------\n",
      "[Epoch 2251/5000] :\n"
     ]
    },
    {
     "name": "stderr",
     "output_type": "stream",
     "text": [
      "100%|██████████| 186/186 [00:12<00:00, 15.29it/s]\n"
     ]
    },
    {
     "name": "stdout",
     "output_type": "stream",
     "text": [
      "Train Loss: 0.0013 | Train Acc: 92.14%\n",
      "Valid Loss: 0.6260 | Valid Acc: 82.08%\n",
      "Test  Loss: 0.7254 | Test Acc: 80.17%\n",
      "Saved PyTorch Model State to [logs/CIFAR10/MyResNet32_256_SGD_95.pth.tar]\n",
      "--------------------------------------------------\n",
      "[Epoch 2252/5000] :\n"
     ]
    },
    {
     "name": "stderr",
     "output_type": "stream",
     "text": [
      "100%|██████████| 186/186 [00:11<00:00, 15.55it/s]\n"
     ]
    },
    {
     "name": "stdout",
     "output_type": "stream",
     "text": [
      "Train Loss: 0.0010 | Train Acc: 93.57%\n",
      "Valid Loss: 0.6646 | Valid Acc: 82.64%\n",
      "Test  Loss: 0.7568 | Test Acc: 80.70%\n",
      "Saved PyTorch Model State to [logs/CIFAR10/MyResNet32_256_SGD_95.pth.tar]\n",
      "--------------------------------------------------\n",
      "[Epoch 2253/5000] :\n"
     ]
    },
    {
     "name": "stderr",
     "output_type": "stream",
     "text": [
      "100%|██████████| 186/186 [00:11<00:00, 15.57it/s]\n"
     ]
    },
    {
     "name": "stdout",
     "output_type": "stream",
     "text": [
      "Train Loss: 0.0003 | Train Acc: 97.14%\n",
      "Valid Loss: 0.7382 | Valid Acc: 82.08%\n",
      "Test  Loss: 0.8686 | Test Acc: 79.95%\n",
      "Saved PyTorch Model State to [logs/CIFAR10/MyResNet32_256_SGD_95.pth.tar]\n",
      "--------------------------------------------------\n",
      "[Epoch 2254/5000] :\n"
     ]
    },
    {
     "name": "stderr",
     "output_type": "stream",
     "text": [
      "100%|██████████| 186/186 [00:12<00:00, 14.85it/s]\n"
     ]
    },
    {
     "name": "stdout",
     "output_type": "stream",
     "text": [
      "Train Loss: 0.0004 | Train Acc: 96.43%\n",
      "Valid Loss: 0.6021 | Valid Acc: 84.52%\n",
      "Test  Loss: 0.7052 | Test Acc: 82.34%\n",
      "Saved PyTorch Model State to [logs/CIFAR10/MyResNet32_256_SGD_95.pth.tar]\n",
      "--------------------------------------------------\n",
      "[Epoch 2255/5000] :\n"
     ]
    },
    {
     "name": "stderr",
     "output_type": "stream",
     "text": [
      "100%|██████████| 186/186 [00:12<00:00, 14.56it/s]\n"
     ]
    },
    {
     "name": "stdout",
     "output_type": "stream",
     "text": [
      "Train Loss: 0.0004 | Train Acc: 97.14%\n",
      "Valid Loss: 0.6542 | Valid Acc: 82.72%\n",
      "Test  Loss: 0.7740 | Test Acc: 80.66%\n",
      "Saved PyTorch Model State to [logs/CIFAR10/MyResNet32_256_SGD_95.pth.tar]\n",
      "--------------------------------------------------\n",
      "[Epoch 2256/5000] :\n"
     ]
    },
    {
     "name": "stderr",
     "output_type": "stream",
     "text": [
      "100%|██████████| 186/186 [00:12<00:00, 15.15it/s]\n"
     ]
    },
    {
     "name": "stdout",
     "output_type": "stream",
     "text": [
      "Train Loss: 0.0004 | Train Acc: 97.14%\n",
      "Valid Loss: 0.6253 | Valid Acc: 84.12%\n",
      "Test  Loss: 0.7302 | Test Acc: 82.75%\n",
      "Saved PyTorch Model State to [logs/CIFAR10/MyResNet32_256_SGD_95.pth.tar]\n",
      "--------------------------------------------------\n",
      "[Epoch 2257/5000] :\n"
     ]
    },
    {
     "name": "stderr",
     "output_type": "stream",
     "text": [
      "100%|██████████| 186/186 [00:12<00:00, 14.77it/s]\n"
     ]
    },
    {
     "name": "stdout",
     "output_type": "stream",
     "text": [
      "Train Loss: 0.0005 | Train Acc: 95.71%\n",
      "Valid Loss: 0.6485 | Valid Acc: 84.08%\n",
      "Test  Loss: 0.7302 | Test Acc: 83.19%\n",
      "Saved PyTorch Model State to [logs/CIFAR10/MyResNet32_256_SGD_95.pth.tar]\n",
      "--------------------------------------------------\n",
      "[Epoch 2258/5000] :\n"
     ]
    },
    {
     "name": "stderr",
     "output_type": "stream",
     "text": [
      "100%|██████████| 186/186 [00:12<00:00, 14.81it/s]\n"
     ]
    },
    {
     "name": "stdout",
     "output_type": "stream",
     "text": [
      "Train Loss: 0.0005 | Train Acc: 95.00%\n",
      "Valid Loss: 0.6701 | Valid Acc: 84.80%\n",
      "Test  Loss: 0.8043 | Test Acc: 81.84%\n",
      "Saved PyTorch Model State to [logs/CIFAR10/MyResNet32_256_SGD_95.pth.tar]\n",
      "--------------------------------------------------\n",
      "[Epoch 2259/5000] :\n"
     ]
    },
    {
     "name": "stderr",
     "output_type": "stream",
     "text": [
      "100%|██████████| 186/186 [00:12<00:00, 14.97it/s]\n"
     ]
    },
    {
     "name": "stdout",
     "output_type": "stream",
     "text": [
      "Train Loss: 0.0003 | Train Acc: 97.14%\n",
      "Valid Loss: 0.6729 | Valid Acc: 84.44%\n",
      "Test  Loss: 0.8188 | Test Acc: 82.80%\n",
      "Saved PyTorch Model State to [logs/CIFAR10/MyResNet32_256_SGD_95.pth.tar]\n",
      "--------------------------------------------------\n",
      "[Epoch 2260/5000] :\n"
     ]
    },
    {
     "name": "stderr",
     "output_type": "stream",
     "text": [
      "100%|██████████| 186/186 [00:08<00:00, 20.80it/s]\n"
     ]
    },
    {
     "name": "stdout",
     "output_type": "stream",
     "text": [
      "Train Loss: 0.0002 | Train Acc: 99.29%\n",
      "Valid Loss: 0.7140 | Valid Acc: 83.52%\n",
      "Test  Loss: 0.8823 | Test Acc: 81.67%\n",
      "Saved PyTorch Model State to [logs/CIFAR10/MyResNet32_256_SGD_95.pth.tar]\n",
      "--------------------------------------------------\n",
      "[Epoch 2261/5000] :\n"
     ]
    },
    {
     "name": "stderr",
     "output_type": "stream",
     "text": [
      "100%|██████████| 186/186 [00:08<00:00, 21.16it/s]\n"
     ]
    },
    {
     "name": "stdout",
     "output_type": "stream",
     "text": [
      "Train Loss: 0.0003 | Train Acc: 97.86%\n",
      "Valid Loss: 0.7346 | Valid Acc: 83.08%\n",
      "Test  Loss: 0.8684 | Test Acc: 82.39%\n",
      "Saved PyTorch Model State to [logs/CIFAR10/MyResNet32_256_SGD_95.pth.tar]\n",
      "--------------------------------------------------\n",
      "[Epoch 2262/5000] :\n"
     ]
    },
    {
     "name": "stderr",
     "output_type": "stream",
     "text": [
      "100%|██████████| 186/186 [00:11<00:00, 16.09it/s]\n"
     ]
    },
    {
     "name": "stdout",
     "output_type": "stream",
     "text": [
      "Train Loss: 0.0003 | Train Acc: 98.57%\n",
      "Valid Loss: 0.7614 | Valid Acc: 83.16%\n",
      "Test  Loss: 0.9177 | Test Acc: 80.91%\n",
      "Saved PyTorch Model State to [logs/CIFAR10/MyResNet32_256_SGD_95.pth.tar]\n",
      "--------------------------------------------------\n",
      "[Epoch 2263/5000] :\n"
     ]
    },
    {
     "name": "stderr",
     "output_type": "stream",
     "text": [
      "100%|██████████| 186/186 [00:08<00:00, 20.76it/s]\n"
     ]
    },
    {
     "name": "stdout",
     "output_type": "stream",
     "text": [
      "Train Loss: 0.0001 | Train Acc: 100.00%\n",
      "Valid Loss: 0.7775 | Valid Acc: 82.96%\n",
      "Test  Loss: 0.8943 | Test Acc: 80.81%\n",
      "Saved PyTorch Model State to [logs/CIFAR10/MyResNet32_256_SGD_95.pth.tar]\n",
      "--------------------------------------------------\n",
      "[Epoch 2264/5000] :\n"
     ]
    },
    {
     "name": "stderr",
     "output_type": "stream",
     "text": [
      "100%|██████████| 186/186 [00:08<00:00, 21.17it/s]\n"
     ]
    },
    {
     "name": "stdout",
     "output_type": "stream",
     "text": [
      "Train Loss: 0.0008 | Train Acc: 95.00%\n",
      "Valid Loss: 0.7451 | Valid Acc: 83.40%\n",
      "Test  Loss: 0.8392 | Test Acc: 81.93%\n",
      "Saved PyTorch Model State to [logs/CIFAR10/MyResNet32_256_SGD_95.pth.tar]\n",
      "--------------------------------------------------\n",
      "[Epoch 2265/5000] :\n"
     ]
    },
    {
     "name": "stderr",
     "output_type": "stream",
     "text": [
      "100%|██████████| 186/186 [00:09<00:00, 20.54it/s]\n"
     ]
    },
    {
     "name": "stdout",
     "output_type": "stream",
     "text": [
      "Train Loss: 0.0007 | Train Acc: 97.14%\n",
      "Valid Loss: 0.6721 | Valid Acc: 83.80%\n",
      "Test  Loss: 0.8192 | Test Acc: 82.06%\n",
      "Saved PyTorch Model State to [logs/CIFAR10/MyResNet32_256_SGD_95.pth.tar]\n",
      "--------------------------------------------------\n",
      "[Epoch 2266/5000] :\n"
     ]
    },
    {
     "name": "stderr",
     "output_type": "stream",
     "text": [
      "100%|██████████| 186/186 [00:08<00:00, 22.88it/s]\n"
     ]
    },
    {
     "name": "stdout",
     "output_type": "stream",
     "text": [
      "Train Loss: 0.0003 | Train Acc: 97.86%\n",
      "Valid Loss: 0.5972 | Valid Acc: 85.84%\n",
      "Test  Loss: 0.7993 | Test Acc: 82.93%\n",
      "Saved PyTorch Model State to [logs/CIFAR10/MyResNet32_256_SGD_95.pth.tar]\n",
      "--------------------------------------------------\n",
      "[Epoch 2267/5000] :\n"
     ]
    },
    {
     "name": "stderr",
     "output_type": "stream",
     "text": [
      "100%|██████████| 186/186 [00:09<00:00, 20.02it/s]\n"
     ]
    },
    {
     "name": "stdout",
     "output_type": "stream",
     "text": [
      "Train Loss: 0.0004 | Train Acc: 97.14%\n",
      "Valid Loss: 0.8206 | Valid Acc: 82.08%\n",
      "Test  Loss: 0.9749 | Test Acc: 79.81%\n",
      "Saved PyTorch Model State to [logs/CIFAR10/MyResNet32_256_SGD_95.pth.tar]\n",
      "--------------------------------------------------\n",
      "[Epoch 2268/5000] :\n"
     ]
    },
    {
     "name": "stderr",
     "output_type": "stream",
     "text": [
      "100%|██████████| 186/186 [00:09<00:00, 20.37it/s]\n"
     ]
    },
    {
     "name": "stdout",
     "output_type": "stream",
     "text": [
      "Train Loss: 0.0005 | Train Acc: 97.86%\n",
      "Valid Loss: 0.6163 | Valid Acc: 86.12%\n",
      "Test  Loss: 0.7585 | Test Acc: 83.92%\n",
      "Saved PyTorch Model State to [logs/CIFAR10/MyResNet32_256_SGD_95.pth.tar]\n",
      "--------------------------------------------------\n",
      "[Epoch 2269/5000] :\n"
     ]
    },
    {
     "name": "stderr",
     "output_type": "stream",
     "text": [
      "100%|██████████| 186/186 [00:08<00:00, 21.04it/s]\n"
     ]
    },
    {
     "name": "stdout",
     "output_type": "stream",
     "text": [
      "Train Loss: 0.0001 | Train Acc: 100.00%\n",
      "Valid Loss: 0.7217 | Valid Acc: 84.96%\n",
      "Test  Loss: 0.8472 | Test Acc: 82.57%\n",
      "Saved PyTorch Model State to [logs/CIFAR10/MyResNet32_256_SGD_95.pth.tar]\n",
      "--------------------------------------------------\n",
      "[Epoch 2270/5000] :\n"
     ]
    },
    {
     "name": "stderr",
     "output_type": "stream",
     "text": [
      "100%|██████████| 186/186 [00:11<00:00, 16.55it/s]\n"
     ]
    },
    {
     "name": "stdout",
     "output_type": "stream",
     "text": [
      "Train Loss: 0.0002 | Train Acc: 99.29%\n",
      "Valid Loss: 0.6178 | Valid Acc: 85.96%\n",
      "Test  Loss: 0.7841 | Test Acc: 83.85%\n",
      "Saved PyTorch Model State to [logs/CIFAR10/MyResNet32_256_SGD_95.pth.tar]\n",
      "--------------------------------------------------\n",
      "[Epoch 2271/5000] :\n"
     ]
    },
    {
     "name": "stderr",
     "output_type": "stream",
     "text": [
      "100%|██████████| 186/186 [00:12<00:00, 14.97it/s]\n"
     ]
    },
    {
     "name": "stdout",
     "output_type": "stream",
     "text": [
      "Train Loss: 0.0004 | Train Acc: 97.14%\n",
      "Valid Loss: 0.8091 | Valid Acc: 82.96%\n",
      "Test  Loss: 0.8897 | Test Acc: 82.03%\n",
      "Saved PyTorch Model State to [logs/CIFAR10/MyResNet32_256_SGD_95.pth.tar]\n",
      "--------------------------------------------------\n",
      "[Epoch 2272/5000] :\n"
     ]
    },
    {
     "name": "stderr",
     "output_type": "stream",
     "text": [
      "100%|██████████| 186/186 [00:12<00:00, 15.02it/s]\n"
     ]
    },
    {
     "name": "stdout",
     "output_type": "stream",
     "text": [
      "Train Loss: 0.0002 | Train Acc: 98.57%\n",
      "Valid Loss: 0.6524 | Valid Acc: 85.64%\n",
      "Test  Loss: 0.7536 | Test Acc: 83.70%\n",
      "Saved PyTorch Model State to [logs/CIFAR10/MyResNet32_256_SGD_95.pth.tar]\n",
      "--------------------------------------------------\n",
      "[Epoch 2273/5000] :\n"
     ]
    },
    {
     "name": "stderr",
     "output_type": "stream",
     "text": [
      "100%|██████████| 186/186 [00:12<00:00, 15.32it/s]\n"
     ]
    },
    {
     "name": "stdout",
     "output_type": "stream",
     "text": [
      "Train Loss: 0.0002 | Train Acc: 98.57%\n",
      "Valid Loss: 0.6700 | Valid Acc: 84.84%\n",
      "Test  Loss: 0.8272 | Test Acc: 82.57%\n",
      "Saved PyTorch Model State to [logs/CIFAR10/MyResNet32_256_SGD_95.pth.tar]\n",
      "--------------------------------------------------\n",
      "[Epoch 2274/5000] :\n"
     ]
    },
    {
     "name": "stderr",
     "output_type": "stream",
     "text": [
      "100%|██████████| 186/186 [00:12<00:00, 15.18it/s]\n"
     ]
    },
    {
     "name": "stdout",
     "output_type": "stream",
     "text": [
      "Train Loss: 0.0001 | Train Acc: 99.29%\n",
      "Valid Loss: 0.8442 | Valid Acc: 82.16%\n",
      "Test  Loss: 1.0254 | Test Acc: 79.48%\n",
      "Saved PyTorch Model State to [logs/CIFAR10/MyResNet32_256_SGD_95.pth.tar]\n",
      "--------------------------------------------------\n",
      "[Epoch 2275/5000] :\n"
     ]
    },
    {
     "name": "stderr",
     "output_type": "stream",
     "text": [
      "100%|██████████| 186/186 [00:12<00:00, 15.28it/s]\n"
     ]
    },
    {
     "name": "stdout",
     "output_type": "stream",
     "text": [
      "Train Loss: 0.0001 | Train Acc: 98.57%\n",
      "Valid Loss: 0.6518 | Valid Acc: 85.64%\n",
      "Test  Loss: 0.7738 | Test Acc: 83.57%\n",
      "Saved PyTorch Model State to [logs/CIFAR10/MyResNet32_256_SGD_95.pth.tar]\n",
      "--------------------------------------------------\n",
      "[Epoch 2276/5000] :\n"
     ]
    },
    {
     "name": "stderr",
     "output_type": "stream",
     "text": [
      "100%|██████████| 186/186 [00:12<00:00, 15.19it/s]\n"
     ]
    },
    {
     "name": "stdout",
     "output_type": "stream",
     "text": [
      "Train Loss: 0.0003 | Train Acc: 98.57%\n",
      "Valid Loss: 0.6895 | Valid Acc: 84.48%\n",
      "Test  Loss: 0.8105 | Test Acc: 82.89%\n",
      "Saved PyTorch Model State to [logs/CIFAR10/MyResNet32_256_SGD_95.pth.tar]\n",
      "--------------------------------------------------\n",
      "[Epoch 2277/5000] :\n"
     ]
    },
    {
     "name": "stderr",
     "output_type": "stream",
     "text": [
      "100%|██████████| 186/186 [00:12<00:00, 15.26it/s]\n"
     ]
    },
    {
     "name": "stdout",
     "output_type": "stream",
     "text": [
      "Train Loss: 0.0003 | Train Acc: 97.86%\n",
      "Valid Loss: 0.8414 | Valid Acc: 81.76%\n",
      "Test  Loss: 1.0092 | Test Acc: 80.75%\n",
      "Saved PyTorch Model State to [logs/CIFAR10/MyResNet32_256_SGD_95.pth.tar]\n",
      "--------------------------------------------------\n",
      "[Epoch 2278/5000] :\n"
     ]
    },
    {
     "name": "stderr",
     "output_type": "stream",
     "text": [
      "100%|██████████| 186/186 [00:12<00:00, 15.30it/s]\n"
     ]
    },
    {
     "name": "stdout",
     "output_type": "stream",
     "text": [
      "Train Loss: 0.0002 | Train Acc: 99.29%\n",
      "Valid Loss: 0.6484 | Valid Acc: 85.60%\n",
      "Test  Loss: 0.8049 | Test Acc: 82.73%\n",
      "Saved PyTorch Model State to [logs/CIFAR10/MyResNet32_256_SGD_95.pth.tar]\n",
      "--------------------------------------------------\n",
      "[Epoch 2279/5000] :\n"
     ]
    },
    {
     "name": "stderr",
     "output_type": "stream",
     "text": [
      "100%|██████████| 186/186 [00:11<00:00, 15.62it/s]\n"
     ]
    },
    {
     "name": "stdout",
     "output_type": "stream",
     "text": [
      "Train Loss: 0.0002 | Train Acc: 97.86%\n",
      "Valid Loss: 0.7183 | Valid Acc: 84.56%\n",
      "Test  Loss: 0.8517 | Test Acc: 82.07%\n",
      "Saved PyTorch Model State to [logs/CIFAR10/MyResNet32_256_SGD_95.pth.tar]\n",
      "--------------------------------------------------\n",
      "[Epoch 2280/5000] :\n"
     ]
    },
    {
     "name": "stderr",
     "output_type": "stream",
     "text": [
      "100%|██████████| 186/186 [00:08<00:00, 22.35it/s]\n"
     ]
    },
    {
     "name": "stdout",
     "output_type": "stream",
     "text": [
      "Train Loss: 0.0003 | Train Acc: 98.57%\n",
      "Valid Loss: 0.6957 | Valid Acc: 84.24%\n",
      "Test  Loss: 0.8488 | Test Acc: 82.85%\n",
      "Saved PyTorch Model State to [logs/CIFAR10/MyResNet32_256_SGD_95.pth.tar]\n",
      "--------------------------------------------------\n",
      "[Epoch 2281/5000] :\n"
     ]
    },
    {
     "name": "stderr",
     "output_type": "stream",
     "text": [
      "100%|██████████| 186/186 [00:12<00:00, 15.19it/s]\n"
     ]
    },
    {
     "name": "stdout",
     "output_type": "stream",
     "text": [
      "Train Loss: 0.0001 | Train Acc: 100.00%\n",
      "Valid Loss: 0.5990 | Valid Acc: 86.36%\n",
      "Test  Loss: 0.7718 | Test Acc: 84.44%\n",
      "Saved PyTorch Model State to [logs/CIFAR10/MyResNet32_256_SGD_95.pth.tar]\n",
      "--------------------------------------------------\n",
      "[Epoch 2282/5000] :\n"
     ]
    },
    {
     "name": "stderr",
     "output_type": "stream",
     "text": [
      "100%|██████████| 186/186 [00:09<00:00, 20.41it/s]\n"
     ]
    },
    {
     "name": "stdout",
     "output_type": "stream",
     "text": [
      "Train Loss: 0.0001 | Train Acc: 99.29%\n",
      "Valid Loss: 0.6456 | Valid Acc: 85.56%\n",
      "Test  Loss: 0.7990 | Test Acc: 83.71%\n",
      "Saved PyTorch Model State to [logs/CIFAR10/MyResNet32_256_SGD_95.pth.tar]\n",
      "--------------------------------------------------\n",
      "[Epoch 2283/5000] :\n"
     ]
    },
    {
     "name": "stderr",
     "output_type": "stream",
     "text": [
      "100%|██████████| 186/186 [00:09<00:00, 20.60it/s]\n"
     ]
    },
    {
     "name": "stdout",
     "output_type": "stream",
     "text": [
      "Train Loss: 0.0000 | Train Acc: 100.00%\n",
      "Valid Loss: 0.6009 | Valid Acc: 86.00%\n",
      "Test  Loss: 0.7430 | Test Acc: 84.56%\n",
      "Saved PyTorch Model State to [logs/CIFAR10/MyResNet32_256_SGD_95.pth.tar]\n",
      "--------------------------------------------------\n",
      "[Epoch 2284/5000] :\n"
     ]
    },
    {
     "name": "stderr",
     "output_type": "stream",
     "text": [
      "100%|██████████| 186/186 [00:08<00:00, 22.60it/s]\n"
     ]
    },
    {
     "name": "stdout",
     "output_type": "stream",
     "text": [
      "Train Loss: 0.0000 | Train Acc: 99.29%\n",
      "Valid Loss: 0.6341 | Valid Acc: 85.80%\n",
      "Test  Loss: 0.7748 | Test Acc: 84.86%\n",
      "Saved PyTorch Model State to [logs/CIFAR10/MyResNet32_256_SGD_95.pth.tar]\n",
      "--------------------------------------------------\n",
      "[Epoch 2285/5000] :\n"
     ]
    },
    {
     "name": "stderr",
     "output_type": "stream",
     "text": [
      "100%|██████████| 186/186 [00:08<00:00, 21.18it/s]\n"
     ]
    },
    {
     "name": "stdout",
     "output_type": "stream",
     "text": [
      "Train Loss: 0.0000 | Train Acc: 100.00%\n",
      "Valid Loss: 0.6104 | Valid Acc: 86.44%\n",
      "Test  Loss: 0.7587 | Test Acc: 84.57%\n",
      "Saved PyTorch Model State to [logs/CIFAR10/MyResNet32_256_SGD_95.pth.tar]\n",
      "--------------------------------------------------\n",
      "[Epoch 2286/5000] :\n"
     ]
    },
    {
     "name": "stderr",
     "output_type": "stream",
     "text": [
      "100%|██████████| 186/186 [00:08<00:00, 21.85it/s]\n"
     ]
    },
    {
     "name": "stdout",
     "output_type": "stream",
     "text": [
      "Train Loss: 0.0000 | Train Acc: 100.00%\n",
      "Valid Loss: 0.5781 | Valid Acc: 87.24%\n",
      "Test  Loss: 0.7462 | Test Acc: 84.87%\n",
      "Saved PyTorch Model State to [logs/CIFAR10/MyResNet32_256_SGD_95.pth.tar]\n",
      "--------------------------------------------------\n",
      "[Epoch 2287/5000] :\n"
     ]
    },
    {
     "name": "stderr",
     "output_type": "stream",
     "text": [
      " 19%|█▉        | 35/186 [00:01<00:07, 19.67it/s]\n"
     ]
    }
   ],
   "source": [
    "Training = DoTraining(\n",
    "    model=model,\n",
    "    criterion=criterion,\n",
    "    optimizer=optimizer,\n",
    "    scaler=scaler,\n",
    "    scheduler=scheduler,\n",
    "    device=device,\n",
    "    logs=logs,\n",
    "    file_path=file_path,\n",
    ")\n",
    "pre_epochs = len(Training.logs[\"train_loss\"])\n",
    "\n",
    "for epoch in range(NUM_EPOCHS):\n",
    "    print(f\"[Epoch {epoch+1+pre_epochs}/{NUM_EPOCHS}] :\")\n",
    "\n",
    "    if DATASET == \"ImageNet2012\":\n",
    "        eval_loss = Training.SingleEpoch(train_dataloader, valid_dataloader)\n",
    "    else:\n",
    "        eval_loss = Training.SingleEpoch(\n",
    "            train_dataloader, valid_dataloader, test_dataloader\n",
    "        )\n",
    "\n",
    "    # Early stopping check\n",
    "    if eval_loss < best_val_loss:\n",
    "        best_val_loss = eval_loss\n",
    "        early_stop_counter = 0\n",
    "        torch.save(model.state_dict(), \"models/\" + file_path + \".pth\")\n",
    "\n",
    "    else:\n",
    "        early_stop_counter += 1\n",
    "        if early_stop_counter >= EARLYSTOPPINGPATIENCE:\n",
    "            print(f\"Early stopping after {epoch} epochs without improvement.\")\n",
    "            break\n",
    "\n",
    "    print(\"-\" * 50)"
   ]
  },
  {
   "cell_type": "markdown",
   "metadata": {},
   "source": [
    "## Training Results"
   ]
  },
  {
   "cell_type": "code",
   "execution_count": null,
   "metadata": {},
   "outputs": [],
   "source": [
    "fig, axs = plt.subplots(ncols=2, figsize=(10, 5))\n",
    "\n",
    "# 첫 번째 그래프: Training and Test Loss\n",
    "axs[0].plot(logs[\"train_loss\"], label=\"Training Loss\")\n",
    "axs[0].plot(logs[\"valid_loss\"], label=\"Validation Loss\")\n",
    "axs[0].plot(logs[\"test_loss\"], label=\"Test Loss\")\n",
    "axs[0].set_xlabel(\"Epoch\")\n",
    "axs[0].set_ylabel(\"Loss\")\n",
    "axs[0].set_title(\"Training, Validation and Test Loss\")\n",
    "axs[0].legend()\n",
    "\n",
    "# 두 번째 그래프: Training and Test Accuracy\n",
    "axs[1].plot(logs[\"train_acc\"], label=\"Training Accuracy\")\n",
    "axs[1].plot(logs[\"valid_acc\"], label=\"Validation Accuracy\")\n",
    "axs[1].plot(logs[\"test_acc\"], label=\"Test Accuracy\")\n",
    "axs[1].set_xlabel(\"Epoch\")\n",
    "axs[1].set_ylabel(\"Accuracy\")\n",
    "axs[1].set_title(\"Training, Validation and Test Accuracy\")\n",
    "axs[1].legend()\n",
    "\n",
    "# 그래프를 보여줍니다.\n",
    "plt.tight_layout()\n",
    "plt.show()"
   ]
  },
  {
   "cell_type": "code",
   "execution_count": null,
   "metadata": {},
   "outputs": [],
   "source": [
    "print(len(logs[\"train_loss\"]))\n",
    "print(len(logs[\"train_acc\"]))\n",
    "print(len(logs[\"valid_loss\"]))\n",
    "print(len(logs[\"valid_acc\"]))\n",
    "print(len(logs[\"test_loss\"]))\n",
    "print(len(logs[\"test_acc\"]))"
   ]
  },
  {
   "cell_type": "markdown",
   "metadata": {},
   "source": [
    "- 주피터노트북 output set\n",
    "- @tag:notebookOutputLayout"
   ]
  },
  {
   "cell_type": "markdown",
   "metadata": {},
   "source": []
  },
  {
   "cell_type": "code",
   "execution_count": null,
   "metadata": {},
   "outputs": [],
   "source": [
    "for i in range(len(logs[\"train_loss\"])):\n",
    "    print(\n",
    "        f\"{i+1} epoch: train_loss={logs['train_loss'][i]:.4f}, train_acc={logs['train_acc'][i]:.4f}, test_loss={logs['test_loss'][i]:.4f}, test_acc={logs['test_acc'][i]:.4f}\"\n",
    "    )"
   ]
  },
  {
   "cell_type": "code",
   "execution_count": null,
   "metadata": {},
   "outputs": [],
   "source": []
  },
  {
   "cell_type": "code",
   "execution_count": null,
   "metadata": {},
   "outputs": [],
   "source": []
  },
  {
   "cell_type": "code",
   "execution_count": null,
   "metadata": {},
   "outputs": [],
   "source": []
  }
 ],
 "metadata": {
  "kernelspec": {
   "display_name": "base",
   "language": "python",
   "name": "python3"
  },
  "language_info": {
   "codemirror_mode": {
    "name": "ipython",
    "version": 3
   },
   "file_extension": ".py",
   "mimetype": "text/x-python",
   "name": "python",
   "nbconvert_exporter": "python",
   "pygments_lexer": "ipython3",
   "version": "3.11.5"
  }
 },
 "nbformat": 4,
 "nbformat_minor": 2
}
