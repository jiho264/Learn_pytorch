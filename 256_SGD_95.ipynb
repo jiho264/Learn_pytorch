{
 "cells": [
  {
   "cell_type": "markdown",
   "metadata": {},
   "source": [
    "# Import"
   ]
  },
  {
   "cell_type": "code",
   "execution_count": 1,
   "metadata": {},
   "outputs": [],
   "source": [
    "import torch\n",
    "from torch import nn\n",
    "from torch.optim.lr_scheduler import ReduceLROnPlateau\n",
    "from torch.utils.data import DataLoader\n",
    "from fvcore.nn import FlopCountAnalysis, flop_count_table\n",
    "import numpy as np\n",
    "import matplotlib.pyplot as plt\n",
    "import os\n",
    "####################################################\n",
    "from src.Mydataloader import LoadDataset\n",
    "from src.Mymodel import Block\n",
    "from src.Mymodel import MyResNet34\n",
    "from src.Mymodel import MyResNet_CIFAR\n",
    "from src.Mytraining import DoTraining"
   ]
  },
  {
   "cell_type": "markdown",
   "metadata": {},
   "source": [
    "# Setup"
   ]
  },
  {
   "cell_type": "code",
   "execution_count": 2,
   "metadata": {},
   "outputs": [],
   "source": [
    "\"\"\"Dataset selection\"\"\"\n",
    "DATASET = \"CIFAR10\"\n",
    "# DATASET = \"CIFAR100\"\n",
    "# DATASET = \"ImageNet2012\"\n",
    "\n",
    "\"\"\"Model selection for CIFAR\"\"\"\n",
    "NUM_LAYERS_LEVEL = 5\n",
    "\n",
    "\"\"\"Dataset parameters\"\"\"\n",
    "BATCH = 256\n",
    "SHUFFLE = True\n",
    "NUMOFWORKERS = 8\n",
    "PIN_MEMORY = True\n",
    "SPLIT_RATIO = 0.95\n",
    "\"\"\"optimizer parameters\"\"\"\n",
    "OPTIMIZER = \"SGD\"\n",
    "# OPTIMIZER = \"Adam\"\n",
    "# OPTIMIZER = \"Adam_decay\"\n",
    "\n",
    "\"\"\"Learning rate scheduler parameters\"\"\"\n",
    "LOAD_BEFORE_TRAINING = False\n",
    "LOAD_BEFORE_TRAINING = True\n",
    "NUM_EPOCHS = 5000\n",
    "\n",
    "\"\"\"Early stopping parameters\"\"\"\n",
    "EARLYSTOPPINGPATIENCE = 1200\n",
    "file_path = \"\"\n",
    "if DATASET == \"ImageNet2012\":\n",
    "    file_path = f\"{DATASET}/MyResNet34_{BATCH}_{OPTIMIZER}\"\n",
    "else:\n",
    "    file_path = f\"{DATASET}/MyResNet{NUM_LAYERS_LEVEL*6+2}_{BATCH}_{OPTIMIZER}\"\n",
    "    \n",
    "if SPLIT_RATIO != 0:\n",
    "    file_path += f\"_{int(SPLIT_RATIO*100)}\""
   ]
  },
  {
   "cell_type": "code",
   "execution_count": 3,
   "metadata": {},
   "outputs": [
    {
     "data": {
      "text/plain": [
       "'CIFAR10/MyResNet32_256_SGD_95'"
      ]
     },
     "execution_count": 3,
     "metadata": {},
     "output_type": "execute_result"
    }
   ],
   "source": [
    "file_path"
   ]
  },
  {
   "cell_type": "markdown",
   "metadata": {},
   "source": [
    "# Loading the dataset"
   ]
  },
  {
   "cell_type": "markdown",
   "metadata": {},
   "source": [
    "## Define Dateloader"
   ]
  },
  {
   "cell_type": "code",
   "execution_count": 4,
   "metadata": {},
   "outputs": [],
   "source": [
    "from src.Mydataloader import LoadDataset"
   ]
  },
  {
   "cell_type": "code",
   "execution_count": 5,
   "metadata": {},
   "outputs": [
    {
     "name": "stderr",
     "output_type": "stream",
     "text": [
      "/home/lee/anaconda3/lib/python3.11/site-packages/torchvision/transforms/v2/_deprecated.py:43: UserWarning: The transform `ToTensor()` is deprecated and will be removed in a future release. Instead, please use `v2.Compose([v2.ToImage(), v2.ToDtype(torch.float32, scale=True)])`.\n",
      "  warnings.warn(\n"
     ]
    },
    {
     "name": "stdout",
     "output_type": "stream",
     "text": [
      "-----------------------------------------------------------------------\n",
      "Dataset :  CIFAR10\n",
      "- Length of Train Set :  47500\n",
      "- Length of Valid Set :  2500\n",
      "- Length of Test Set :  10000\n",
      "- Count of Classes :  10\n",
      "-----------------------------------------------------------------------\n"
     ]
    }
   ],
   "source": [
    "tmp = LoadDataset(root=\"data\", seceted_dataset=DATASET, split_ratio=SPLIT_RATIO)\n",
    "train_data, valid_data, test_data, COUNT_OF_CLASSES = tmp.Unpack()"
   ]
  },
  {
   "cell_type": "code",
   "execution_count": 6,
   "metadata": {},
   "outputs": [
    {
     "name": "stdout",
     "output_type": "stream",
     "text": [
      "train.transforms = Compose(\n",
      "      ToTensor()\n",
      "      Submean()\n",
      "      AutoAugment(interpolation=InterpolationMode.NEAREST, policy=AutoAugmentPolicy.CIFAR10)\n",
      "      RandomHorizontalFlip(p=0.5)\n",
      ") 256\n",
      "valid.transforms = Compose(\n",
      "      ToTensor()\n",
      "      Submean()\n",
      ") 256\n",
      "test.transforms = Compose(\n",
      "      ToTensor()\n",
      "      Submean()\n",
      ") 256\n"
     ]
    }
   ],
   "source": [
    "train_dataloader = DataLoader(\n",
    "    train_data,\n",
    "    batch_size=BATCH,\n",
    "    shuffle=SHUFFLE,\n",
    "    num_workers=NUMOFWORKERS,\n",
    "    pin_memory=PIN_MEMORY,\n",
    "    # pin_memory_device=\"cuda\",\n",
    "    persistent_workers=True,\n",
    ")\n",
    "print(\"train.transforms =\", train_data.transform, train_dataloader.batch_size)\n",
    "\n",
    "if SPLIT_RATIO != 0:\n",
    "    valid_dataloader = DataLoader(\n",
    "        valid_data,\n",
    "        batch_size=BATCH,\n",
    "        shuffle=SHUFFLE,\n",
    "        num_workers=NUMOFWORKERS,\n",
    "        pin_memory=PIN_MEMORY,\n",
    "        # pin_memory_device=\"cuda\",\n",
    "        persistent_workers=True,\n",
    "    )\n",
    "    print(\"valid.transforms =\", valid_data.transform, valid_dataloader.batch_size)\n",
    "elif SPLIT_RATIO == 0:\n",
    "    valid_dataloader = None\n",
    "    \n",
    "test_dataloader = DataLoader(\n",
    "    test_data,\n",
    "    batch_size=BATCH,\n",
    "    shuffle=SHUFFLE,\n",
    "    num_workers=NUMOFWORKERS,\n",
    "    pin_memory=PIN_MEMORY,\n",
    "    # pin_memory_device=\"cuda\",\n",
    "    persistent_workers=True,\n",
    ")\n",
    "print(\"test.transforms =\", test_data.transform, test_dataloader.batch_size)"
   ]
  },
  {
   "cell_type": "markdown",
   "metadata": {},
   "source": [
    "## Confirm that the dataset is loaded properly"
   ]
  },
  {
   "cell_type": "code",
   "execution_count": 7,
   "metadata": {},
   "outputs": [
    {
     "name": "stdout",
     "output_type": "stream",
     "text": [
      "Shape of X [N, C, H, W]: torch.Size([256, 3, 32, 32])\n",
      "mean of X tensor([-4.5884e-09, -2.7975e-09, -4.6145e-10])\n",
      "Shape of y: torch.Size([256]) torch.int64\n"
     ]
    }
   ],
   "source": [
    "if DATASET != \"ImageNet2012\":\n",
    "    for X, y in test_dataloader:\n",
    "        print(f\"Shape of X [N, C, H, W]: {X.shape}\")\n",
    "        print(\"mean of X\", X.mean(dim=(0, 2, 3)))\n",
    "        print(f\"Shape of y: {y.shape} {y.dtype}\")\n",
    "        break"
   ]
  },
  {
   "cell_type": "code",
   "execution_count": 8,
   "metadata": {},
   "outputs": [
    {
     "data": {
      "image/png": "[encoded data removed]",
      "text/plain": [
       "<Figure size 800x400 with 10 Axes>"
      ]
     },
     "metadata": {},
     "output_type": "display_data"
    }
   ],
   "source": [
    "if DATASET != \"ImageNet2012\":\n",
    "    class_names = test_dataloader.dataset.classes\n",
    "    count = 0\n",
    "    fig, axs = plt.subplots(2, 5, figsize=(8, 4))\n",
    "\n",
    "    for images, labels in test_dataloader:\n",
    "        images = images.numpy()\n",
    "\n",
    "        for i in range(len(images)):\n",
    "            image = images[i]\n",
    "            label = labels[i]\n",
    "            image = np.transpose(image, (1, 2, 0))\n",
    "            image = np.clip(image, 0, 1)\n",
    "            ax = axs[count // 5, count % 5]\n",
    "            ax.imshow(image)\n",
    "            ax.set_title(f\"{class_names[label], label}\")\n",
    "            ax.axis('off')\n",
    "            count += 1\n",
    "            \n",
    "            if count == 10:\n",
    "                break\n",
    "        if count == 10:\n",
    "            break\n",
    "    plt.tight_layout()\n",
    "    plt.show()"
   ]
  },
  {
   "cell_type": "markdown",
   "metadata": {},
   "source": [
    "# Define ResNet"
   ]
  },
  {
   "cell_type": "code",
   "execution_count": 9,
   "metadata": {},
   "outputs": [],
   "source": [
    "from src.Mymodel import MyResNet34\n",
    "from src.Mymodel import MyResNet_CIFAR"
   ]
  },
  {
   "cell_type": "markdown",
   "metadata": {},
   "source": [
    "## Model Confirm"
   ]
  },
  {
   "cell_type": "code",
   "execution_count": 10,
   "metadata": {},
   "outputs": [
    {
     "data": {
      "text/plain": [
       "device(type='cuda')"
      ]
     },
     "execution_count": 10,
     "metadata": {},
     "output_type": "execute_result"
    }
   ],
   "source": [
    "device = torch.device(\"cuda\" if torch.cuda.is_available() else \"cpu\")\n",
    "device"
   ]
  },
  {
   "cell_type": "code",
   "execution_count": 11,
   "metadata": {},
   "outputs": [
    {
     "name": "stdout",
     "output_type": "stream",
     "text": [
      "ResNet-32 for CIFAR10 is loaded.\n"
     ]
    }
   ],
   "source": [
    "if DATASET == \"CIFAR10\" or DATASET == \"CIFAR100\":\n",
    "    \"\"\"ResNet{20, 32, 44, 56, 110, 1202} for CIFAR\"\"\"\n",
    "    model = MyResNet_CIFAR(\n",
    "        num_classes=COUNT_OF_CLASSES, num_layer_factor=NUM_LAYERS_LEVEL\n",
    "    ).to(device)\n",
    "    print(f\"ResNet-{5*6+2} for {DATASET} is loaded.\")\n",
    "\n",
    "elif DATASET == \"ImageNet2012\":\n",
    "    \"\"\"ResNet34 for ImageNet 2012\"\"\"\n",
    "    model = MyResNet34(num_classes=COUNT_OF_CLASSES).to(device)\n",
    "    # model = models.resnet34(pretrained=True).to(device)\n",
    "    # model = models.resnet34(pretrained=False).to(device)\n",
    "    print(f\"ResNet-34 for {DATASET} is loaded.\")\n",
    "\n",
    "# model.named_modules"
   ]
  },
  {
   "cell_type": "code",
   "execution_count": 12,
   "metadata": {},
   "outputs": [
    {
     "name": "stdout",
     "output_type": "stream",
     "text": [
      "| module                   | #parameters or shape   | #flops     |\n",
      "|:-------------------------|:-----------------------|:-----------|\n",
      "| model                    | 0.464M                 | 17.997G    |\n",
      "|  conv32blocks            |  23.792K               |  6.363G    |\n",
      "|   conv32blocks.0         |   0.432K               |   0.113G   |\n",
      "|    conv32blocks.0.weight |    (16, 3, 3, 3)       |            |\n",
      "|   conv32blocks.1         |   4.672K               |   1.25G    |\n",
      "|    conv32blocks.1.conv1  |    2.304K              |    0.604G  |\n",
      "|    conv32blocks.1.bn1    |    32                  |    20.972M |\n",
      "|    conv32blocks.1.conv2  |    2.304K              |    0.604G  |\n",
      "|    conv32blocks.1.bn2    |    32                  |    20.972M |\n",
      "|   conv32blocks.2         |   4.672K               |   1.25G    |\n",
      "|    conv32blocks.2.conv1  |    2.304K              |    0.604G  |\n",
      "|    conv32blocks.2.bn1    |    32                  |    20.972M |\n",
      "|    conv32blocks.2.conv2  |    2.304K              |    0.604G  |\n",
      "|    conv32blocks.2.bn2    |    32                  |    20.972M |\n",
      "|   conv32blocks.3         |   4.672K               |   1.25G    |\n",
      "|    conv32blocks.3.conv1  |    2.304K              |    0.604G  |\n",
      "|    conv32blocks.3.bn1    |    32                  |    20.972M |\n",
      "|    conv32blocks.3.conv2  |    2.304K              |    0.604G  |\n",
      "|    conv32blocks.3.bn2    |    32                  |    20.972M |\n",
      "|   conv32blocks.4         |   4.672K               |   1.25G    |\n",
      "|    conv32blocks.4.conv1  |    2.304K              |    0.604G  |\n",
      "|    conv32blocks.4.bn1    |    32                  |    20.972M |\n",
      "|    conv32blocks.4.conv2  |    2.304K              |    0.604G  |\n",
      "|    conv32blocks.4.bn2    |    32                  |    20.972M |\n",
      "|   conv32blocks.5         |   4.672K               |   1.25G    |\n",
      "|    conv32blocks.5.conv1  |    2.304K              |    0.604G  |\n",
      "|    conv32blocks.5.bn1    |    32                  |    20.972M |\n",
      "|    conv32blocks.5.conv2  |    2.304K              |    0.604G  |\n",
      "|    conv32blocks.5.bn2    |    32                  |    20.972M |\n",
      "|  conv16blocks            |  88.192K               |  5.843G    |\n",
      "|   conv16blocks.0         |   13.952K              |   0.927G   |\n",
      "|    conv16blocks.0.conv1  |    4.608K              |    0.302G  |\n",
      "|    conv16blocks.0.bn1    |    64                  |    10.486M |\n",
      "|    conv16blocks.0.conv2  |    9.216K              |    0.604G  |\n",
      "|    conv16blocks.0.bn2    |    64                  |    10.486M |\n",
      "|   conv16blocks.1         |   18.56K               |   1.229G   |\n",
      "|    conv16blocks.1.conv1  |    9.216K              |    0.604G  |\n",
      "|    conv16blocks.1.bn1    |    64                  |    10.486M |\n",
      "|    conv16blocks.1.conv2  |    9.216K              |    0.604G  |\n",
      "|    conv16blocks.1.bn2    |    64                  |    10.486M |\n",
      "|   conv16blocks.2         |   18.56K               |   1.229G   |\n",
      "|    conv16blocks.2.conv1  |    9.216K              |    0.604G  |\n",
      "|    conv16blocks.2.bn1    |    64                  |    10.486M |\n",
      "|    conv16blocks.2.conv2  |    9.216K              |    0.604G  |\n",
      "|    conv16blocks.2.bn2    |    64                  |    10.486M |\n",
      "|   conv16blocks.3         |   18.56K               |   1.229G   |\n",
      "|    conv16blocks.3.conv1  |    9.216K              |    0.604G  |\n",
      "|    conv16blocks.3.bn1    |    64                  |    10.486M |\n",
      "|    conv16blocks.3.conv2  |    9.216K              |    0.604G  |\n",
      "|    conv16blocks.3.bn2    |    64                  |    10.486M |\n",
      "|   conv16blocks.4         |   18.56K               |   1.229G   |\n",
      "|    conv16blocks.4.conv1  |    9.216K              |    0.604G  |\n",
      "|    conv16blocks.4.bn1    |    64                  |    10.486M |\n",
      "|    conv16blocks.4.conv2  |    9.216K              |    0.604G  |\n",
      "|    conv16blocks.4.bn2    |    64                  |    10.486M |\n",
      "|  conv8blocks             |  0.351M                |  5.79G     |\n",
      "|   conv8blocks.0          |   55.552K              |   0.916G   |\n",
      "|    conv8blocks.0.conv1   |    18.432K             |    0.302G  |\n",
      "|    conv8blocks.0.bn1     |    0.128K              |    5.243M  |\n",
      "|    conv8blocks.0.conv2   |    36.864K             |    0.604G  |\n",
      "|    conv8blocks.0.bn2     |    0.128K              |    5.243M  |\n",
      "|   conv8blocks.1          |   73.984K              |   1.218G   |\n",
      "|    conv8blocks.1.conv1   |    36.864K             |    0.604G  |\n",
      "|    conv8blocks.1.bn1     |    0.128K              |    5.243M  |\n",
      "|    conv8blocks.1.conv2   |    36.864K             |    0.604G  |\n",
      "|    conv8blocks.1.bn2     |    0.128K              |    5.243M  |\n",
      "|   conv8blocks.2          |   73.984K              |   1.218G   |\n",
      "|    conv8blocks.2.conv1   |    36.864K             |    0.604G  |\n",
      "|    conv8blocks.2.bn1     |    0.128K              |    5.243M  |\n",
      "|    conv8blocks.2.conv2   |    36.864K             |    0.604G  |\n",
      "|    conv8blocks.2.bn2     |    0.128K              |    5.243M  |\n",
      "|   conv8blocks.3          |   73.984K              |   1.218G   |\n",
      "|    conv8blocks.3.conv1   |    36.864K             |    0.604G  |\n",
      "|    conv8blocks.3.bn1     |    0.128K              |    5.243M  |\n",
      "|    conv8blocks.3.conv2   |    36.864K             |    0.604G  |\n",
      "|    conv8blocks.3.bn2     |    0.128K              |    5.243M  |\n",
      "|   conv8blocks.4          |   73.984K              |   1.218G   |\n",
      "|    conv8blocks.4.conv1   |    36.864K             |    0.604G  |\n",
      "|    conv8blocks.4.bn1     |    0.128K              |    5.243M  |\n",
      "|    conv8blocks.4.conv2   |    36.864K             |    0.604G  |\n",
      "|    conv8blocks.4.bn2     |    0.128K              |    5.243M  |\n",
      "|  fc1                     |  0.65K                 |  0.164M    |\n",
      "|   fc1.weight             |   (10, 64)             |            |\n",
      "|   fc1.bias               |   (10,)                |            |\n",
      "|  avgpool                 |                        |  1.049M    |\n"
     ]
    }
   ],
   "source": [
    "tmp_input = torch.rand(BATCH, 3, 32, 32).to(device)\n",
    "flops = FlopCountAnalysis(model, tmp_input)\n",
    "print(flop_count_table(flops))"
   ]
  },
  {
   "cell_type": "markdown",
   "metadata": {},
   "source": [
    "# Define Training"
   ]
  },
  {
   "cell_type": "markdown",
   "metadata": {},
   "source": [
    "## Define Optimazer\n",
    "#### ResNet32 for CIFAR10\n",
    "- SGD\n",
    "- Batch size = 128 * 2 GPU\n",
    "- lr : 0.1 -> 0.01 -> 0.001 (at 32k, 48k and terminate on 64k iter)\n",
    "  - divided by 10 when the error plateaus\n",
    "- Weight Decay = 0.0001\n",
    "- Momentum = 0.9\n",
    "#### ResNet34 for ImageNet2012\n",
    "- SGD\n",
    "- Batch size = 256\n",
    "- lr = 0.1\n",
    "  - divided by 10 when the error plateaus\n",
    "  - amount 60k iter\n",
    "- Weight Decay = 0.0001\n",
    "- Momentum = 0.9"
   ]
  },
  {
   "cell_type": "code",
   "execution_count": 13,
   "metadata": {},
   "outputs": [],
   "source": [
    "criterion = nn.CrossEntropyLoss()\n",
    "\n",
    "if OPTIMIZER == \"Adam\":\n",
    "    optimizer = torch.optim.Adam(model.parameters())\n",
    "    # optimizer = torch.optim.Adam(model.parameters(), lr=0.1, weight_decay=1e-4)\n",
    "elif OPTIMIZER == \"Adam_decay\":\n",
    "    optimizer = torch.optim.Adam(model.parameters(), weight_decay=1e-4)\n",
    "elif OPTIMIZER == \"SGD\":\n",
    "    optimizer = torch.optim.SGD(\n",
    "        model.parameters(), lr=0.1, momentum=0.9, weight_decay=0.0001\n",
    "    )"
   ]
  },
  {
   "cell_type": "markdown",
   "metadata": {},
   "source": [
    "## Define Early Stopping"
   ]
  },
  {
   "cell_type": "code",
   "execution_count": 14,
   "metadata": {},
   "outputs": [],
   "source": [
    "# Early stopping 관련 변수 초기화\n",
    "best_val_loss = float(\"inf\")\n",
    "early_stop_counter = 0"
   ]
  },
  {
   "cell_type": "markdown",
   "metadata": {},
   "source": [
    "## Define Learning Rate schedualer"
   ]
  },
  {
   "cell_type": "code",
   "execution_count": 15,
   "metadata": {},
   "outputs": [],
   "source": [
    "scheduler_mapping = {\"CIFAR100\": 100, \"CIFAR10\": 1000, \"ImageNet2012\": 30}\n",
    "MIN_LR = 0.0001\n",
    "scheduler = ReduceLROnPlateau(\n",
    "    optimizer,\n",
    "    mode=\"min\",\n",
    "    patience=scheduler_mapping[DATASET],\n",
    "    factor=0.1,\n",
    "    verbose=True,\n",
    "    threshold=1e-4,\n",
    "    min_lr=MIN_LR,\n",
    ")"
   ]
  },
  {
   "cell_type": "code",
   "execution_count": 16,
   "metadata": {},
   "outputs": [],
   "source": [
    "scaler = torch.cuda.amp.GradScaler(enabled=True)"
   ]
  },
  {
   "cell_type": "markdown",
   "metadata": {},
   "source": [
    "## Load before process"
   ]
  },
  {
   "cell_type": "code",
   "execution_count": 17,
   "metadata": {},
   "outputs": [
    {
     "name": "stdout",
     "output_type": "stream",
     "text": [
      "Suceessfully loaded the All setting and Log file.\n",
      "CIFAR10/MyResNet32_256_SGD_95\n",
      "Current epoch is 2286\n",
      "Current learning rate: 0.1\n"
     ]
    }
   ],
   "source": [
    "scaler = torch.cuda.amp.GradScaler(enabled=True)\n",
    "\n",
    "if LOAD_BEFORE_TRAINING == True and os.path.exists(\"logs/\" + file_path + \".pth.tar\"):\n",
    "    # Read checkpoint as desired, e.g.,\n",
    "    checkpoint = torch.load(\n",
    "        \"logs/\" + file_path + \".pth.tar\",\n",
    "        map_location=lambda storage, loc: storage.cuda(device),\n",
    "    )\n",
    "    model.load_state_dict(checkpoint[\"model\"])\n",
    "    optimizer.load_state_dict(checkpoint[\"optimizer\"])\n",
    "    scaler.load_state_dict(checkpoint[\"scaler\"])\n",
    "    logs = checkpoint[\"logs\"]\n",
    "\n",
    "    print(\"Suceessfully loaded the All setting and Log file.\")\n",
    "    print(file_path)\n",
    "    print(f\"Current epoch is {len(logs['train_loss'])}\")\n",
    "    print(f\"Current learning rate: {optimizer.param_groups[0]['lr']}\")\n",
    "else:\n",
    "    # Create a dictionary to store the variables\n",
    "    train_loss = []\n",
    "    train_acc = []\n",
    "    eval_loss = []\n",
    "    valid_acc = []\n",
    "    test_loss = []\n",
    "    test_acc = []\n",
    "\n",
    "    logs = {\n",
    "        \"train_loss\": train_loss,\n",
    "        \"train_acc\": train_acc,\n",
    "        \"valid_loss\": eval_loss,\n",
    "        \"valid_acc\": valid_acc,\n",
    "        \"test_loss\": test_loss,\n",
    "        \"test_acc\": test_acc,\n",
    "    }\n",
    "    print(\"File does not exist. Created a new log.\")"
   ]
  },
  {
   "cell_type": "code",
   "execution_count": 18,
   "metadata": {},
   "outputs": [],
   "source": [
    "# CHECK = 1999\n",
    "# logs[\"train_loss\"] = logs[\"train_loss\"][:CHECK]\n",
    "# logs[\"train_acc\"] = logs[\"train_acc\"][:CHECK]\n",
    "# logs[\"valid_loss\"] = logs[\"valid_loss\"][:CHECK]\n",
    "# logs[\"valid_acc\"] = logs[\"valid_acc\"][:CHECK]\n",
    "# logs[\"test_loss\"] = logs[\"test_loss\"][:CHECK]\n",
    "# logs[\"test_acc\"] = logs[\"test_acc\"][:CHECK]\n",
    "# model.load_state_dict(torch.load(f\"models/{file_path}.pth\"))"
   ]
  },
  {
   "cell_type": "markdown",
   "metadata": {},
   "source": [
    "# [Training Loop]"
   ]
  },
  {
   "cell_type": "code",
   "execution_count": 19,
   "metadata": {},
   "outputs": [],
   "source": [
    "from src.Mytraining import DoTraining"
   ]
  },
  {
   "cell_type": "code",
   "execution_count": 20,
   "metadata": {},
   "outputs": [
    {
     "name": "stdout",
     "output_type": "stream",
     "text": [
      "[Epoch 2287/5000] :\n"
     ]
    },
    {
     "name": "stderr",
     "output_type": "stream",
     "text": [
      "100%|██████████| 186/186 [00:09<00:00, 20.55it/s]"
     ]
    },
    {
     "name": "stdout",
     "output_type": "stream",
     "text": [
      "Train Loss: 0.0005 | Train Acc: 95.71%\n"
     ]
    },
    {
     "name": "stderr",
     "output_type": "stream",
     "text": [
      "\n"
     ]
    },
    {
     "name": "stdout",
     "output_type": "stream",
     "text": [
      "Valid Loss: 0.1700 | Valid Acc: 94.04%\n",
      "Test  Loss: 0.7938 | Test Acc: 81.36%\n",
      "Saved PyTorch Model State to [logs/CIFAR10/MyResNet32_256_SGD_95.pth.tar]\n",
      "--------------------------------------------------\n",
      "[Epoch 2288/5000] :\n"
     ]
    },
    {
     "name": "stderr",
     "output_type": "stream",
     "text": [
      "100%|██████████| 186/186 [00:08<00:00, 21.90it/s]\n"
     ]
    },
    {
     "name": "stdout",
     "output_type": "stream",
     "text": [
      "Train Loss: 0.0002 | Train Acc: 100.00%\n",
      "Valid Loss: 0.2041 | Valid Acc: 93.80%\n",
      "Test  Loss: 0.8590 | Test Acc: 81.88%\n",
      "Saved PyTorch Model State to [logs/CIFAR10/MyResNet32_256_SGD_95.pth.tar]\n",
      "--------------------------------------------------\n",
      "[Epoch 2289/5000] :\n"
     ]
    },
    {
     "name": "stderr",
     "output_type": "stream",
     "text": [
      "100%|██████████| 186/186 [00:08<00:00, 21.20it/s]\n"
     ]
    },
    {
     "name": "stdout",
     "output_type": "stream",
     "text": [
      "Train Loss: 0.0002 | Train Acc: 99.29%\n",
      "Valid Loss: 0.1249 | Valid Acc: 95.84%\n",
      "Test  Loss: 0.7496 | Test Acc: 82.55%\n",
      "Saved PyTorch Model State to [logs/CIFAR10/MyResNet32_256_SGD_95.pth.tar]\n",
      "--------------------------------------------------\n",
      "[Epoch 2290/5000] :\n"
     ]
    },
    {
     "name": "stderr",
     "output_type": "stream",
     "text": [
      "100%|██████████| 186/186 [00:08<00:00, 22.98it/s]\n"
     ]
    },
    {
     "name": "stdout",
     "output_type": "stream",
     "text": [
      "Train Loss: 0.0002 | Train Acc: 97.86%\n",
      "Valid Loss: 0.1394 | Valid Acc: 95.00%\n",
      "Test  Loss: 0.8314 | Test Acc: 81.77%\n",
      "Saved PyTorch Model State to [logs/CIFAR10/MyResNet32_256_SGD_95.pth.tar]\n",
      "--------------------------------------------------\n",
      "[Epoch 2291/5000] :\n"
     ]
    },
    {
     "name": "stderr",
     "output_type": "stream",
     "text": [
      "100%|██████████| 186/186 [00:08<00:00, 21.50it/s]\n"
     ]
    },
    {
     "name": "stdout",
     "output_type": "stream",
     "text": [
      "Train Loss: 0.0002 | Train Acc: 99.29%\n",
      "Valid Loss: 0.1245 | Valid Acc: 96.00%\n",
      "Test  Loss: 0.8326 | Test Acc: 82.72%\n",
      "Saved PyTorch Model State to [logs/CIFAR10/MyResNet32_256_SGD_95.pth.tar]\n",
      "--------------------------------------------------\n",
      "[Epoch 2292/5000] :\n"
     ]
    },
    {
     "name": "stderr",
     "output_type": "stream",
     "text": [
      "100%|██████████| 186/186 [00:08<00:00, 21.53it/s]\n"
     ]
    },
    {
     "name": "stdout",
     "output_type": "stream",
     "text": [
      "Train Loss: 0.0005 | Train Acc: 97.14%\n",
      "Valid Loss: 0.2188 | Valid Acc: 92.68%\n",
      "Test  Loss: 0.9094 | Test Acc: 80.93%\n",
      "Saved PyTorch Model State to [logs/CIFAR10/MyResNet32_256_SGD_95.pth.tar]\n",
      "--------------------------------------------------\n",
      "[Epoch 2293/5000] :\n"
     ]
    },
    {
     "name": "stderr",
     "output_type": "stream",
     "text": [
      "100%|██████████| 186/186 [00:08<00:00, 21.00it/s]\n"
     ]
    },
    {
     "name": "stdout",
     "output_type": "stream",
     "text": [
      "Train Loss: 0.0001 | Train Acc: 99.29%\n",
      "Valid Loss: 0.1958 | Valid Acc: 94.16%\n",
      "Test  Loss: 0.8736 | Test Acc: 81.49%\n",
      "Saved PyTorch Model State to [logs/CIFAR10/MyResNet32_256_SGD_95.pth.tar]\n",
      "--------------------------------------------------\n",
      "[Epoch 2294/5000] :\n"
     ]
    },
    {
     "name": "stderr",
     "output_type": "stream",
     "text": [
      "100%|██████████| 186/186 [00:09<00:00, 19.53it/s]\n"
     ]
    },
    {
     "name": "stdout",
     "output_type": "stream",
     "text": [
      "Train Loss: 0.0002 | Train Acc: 98.57%\n",
      "Valid Loss: 0.2732 | Valid Acc: 91.36%\n",
      "Test  Loss: 0.9192 | Test Acc: 80.58%\n",
      "Saved PyTorch Model State to [logs/CIFAR10/MyResNet32_256_SGD_95.pth.tar]\n",
      "--------------------------------------------------\n",
      "[Epoch 2295/5000] :\n"
     ]
    },
    {
     "name": "stderr",
     "output_type": "stream",
     "text": [
      "100%|██████████| 186/186 [00:12<00:00, 15.00it/s]\n"
     ]
    },
    {
     "name": "stdout",
     "output_type": "stream",
     "text": [
      "Train Loss: 0.0001 | Train Acc: 99.29%\n",
      "Valid Loss: 0.2735 | Valid Acc: 91.88%\n",
      "Test  Loss: 0.9589 | Test Acc: 81.42%\n",
      "Saved PyTorch Model State to [logs/CIFAR10/MyResNet32_256_SGD_95.pth.tar]\n",
      "--------------------------------------------------\n",
      "[Epoch 2296/5000] :\n"
     ]
    },
    {
     "name": "stderr",
     "output_type": "stream",
     "text": [
      "100%|██████████| 186/186 [00:11<00:00, 16.52it/s]\n"
     ]
    },
    {
     "name": "stdout",
     "output_type": "stream",
     "text": [
      "Train Loss: 0.0002 | Train Acc: 98.57%\n",
      "Valid Loss: 0.3125 | Valid Acc: 91.48%\n",
      "Test  Loss: 1.0213 | Test Acc: 80.80%\n",
      "Saved PyTorch Model State to [logs/CIFAR10/MyResNet32_256_SGD_95.pth.tar]\n",
      "--------------------------------------------------\n",
      "[Epoch 2297/5000] :\n"
     ]
    },
    {
     "name": "stderr",
     "output_type": "stream",
     "text": [
      "100%|██████████| 186/186 [00:08<00:00, 21.93it/s]\n"
     ]
    },
    {
     "name": "stdout",
     "output_type": "stream",
     "text": [
      "Train Loss: 0.0004 | Train Acc: 97.86%\n",
      "Valid Loss: 0.3025 | Valid Acc: 90.12%\n",
      "Test  Loss: 0.9584 | Test Acc: 80.46%\n",
      "Saved PyTorch Model State to [logs/CIFAR10/MyResNet32_256_SGD_95.pth.tar]\n",
      "--------------------------------------------------\n",
      "[Epoch 2298/5000] :\n"
     ]
    },
    {
     "name": "stderr",
     "output_type": "stream",
     "text": [
      "100%|██████████| 186/186 [00:08<00:00, 21.20it/s]\n"
     ]
    },
    {
     "name": "stdout",
     "output_type": "stream",
     "text": [
      "Train Loss: 0.0003 | Train Acc: 97.86%\n",
      "Valid Loss: 0.2637 | Valid Acc: 92.20%\n",
      "Test  Loss: 0.9723 | Test Acc: 80.99%\n",
      "Saved PyTorch Model State to [logs/CIFAR10/MyResNet32_256_SGD_95.pth.tar]\n",
      "--------------------------------------------------\n",
      "[Epoch 2299/5000] :\n"
     ]
    },
    {
     "name": "stderr",
     "output_type": "stream",
     "text": [
      "100%|██████████| 186/186 [00:11<00:00, 16.02it/s]\n"
     ]
    },
    {
     "name": "stdout",
     "output_type": "stream",
     "text": [
      "Train Loss: 0.0004 | Train Acc: 97.14%\n",
      "Valid Loss: 0.1752 | Valid Acc: 94.04%\n",
      "Test  Loss: 0.7754 | Test Acc: 82.88%\n",
      "Saved PyTorch Model State to [logs/CIFAR10/MyResNet32_256_SGD_95.pth.tar]\n",
      "--------------------------------------------------\n",
      "[Epoch 2300/5000] :\n"
     ]
    },
    {
     "name": "stderr",
     "output_type": "stream",
     "text": [
      "100%|██████████| 186/186 [00:12<00:00, 14.74it/s]\n"
     ]
    },
    {
     "name": "stdout",
     "output_type": "stream",
     "text": [
      "Train Loss: 0.0002 | Train Acc: 97.86%\n",
      "Valid Loss: 0.2671 | Valid Acc: 92.08%\n",
      "Test  Loss: 0.8678 | Test Acc: 82.03%\n",
      "Saved PyTorch Model State to [logs/CIFAR10/MyResNet32_256_SGD_95.pth.tar]\n",
      "--------------------------------------------------\n",
      "[Epoch 2301/5000] :\n"
     ]
    },
    {
     "name": "stderr",
     "output_type": "stream",
     "text": [
      "100%|██████████| 186/186 [00:13<00:00, 13.72it/s]\n"
     ]
    },
    {
     "name": "stdout",
     "output_type": "stream",
     "text": [
      "Train Loss: 0.0003 | Train Acc: 97.86%\n",
      "Valid Loss: 0.2261 | Valid Acc: 92.52%\n",
      "Test  Loss: 0.9083 | Test Acc: 82.39%\n",
      "Saved PyTorch Model State to [logs/CIFAR10/MyResNet32_256_SGD_95.pth.tar]\n",
      "--------------------------------------------------\n",
      "[Epoch 2302/5000] :\n"
     ]
    },
    {
     "name": "stderr",
     "output_type": "stream",
     "text": [
      "100%|██████████| 186/186 [00:12<00:00, 14.62it/s]\n"
     ]
    },
    {
     "name": "stdout",
     "output_type": "stream",
     "text": [
      "Train Loss: 0.0000 | Train Acc: 100.00%\n",
      "Valid Loss: 0.2378 | Valid Acc: 92.56%\n",
      "Test  Loss: 0.8281 | Test Acc: 82.74%\n",
      "Saved PyTorch Model State to [logs/CIFAR10/MyResNet32_256_SGD_95.pth.tar]\n",
      "--------------------------------------------------\n",
      "[Epoch 2303/5000] :\n"
     ]
    },
    {
     "name": "stderr",
     "output_type": "stream",
     "text": [
      "100%|██████████| 186/186 [00:09<00:00, 19.86it/s]\n"
     ]
    },
    {
     "name": "stdout",
     "output_type": "stream",
     "text": [
      "Train Loss: 0.0001 | Train Acc: 100.00%\n",
      "Valid Loss: 0.2654 | Valid Acc: 91.76%\n",
      "Test  Loss: 0.9339 | Test Acc: 80.79%\n",
      "Saved PyTorch Model State to [logs/CIFAR10/MyResNet32_256_SGD_95.pth.tar]\n",
      "--------------------------------------------------\n",
      "[Epoch 2304/5000] :\n"
     ]
    },
    {
     "name": "stderr",
     "output_type": "stream",
     "text": [
      "100%|██████████| 186/186 [00:08<00:00, 22.44it/s]\n"
     ]
    },
    {
     "name": "stdout",
     "output_type": "stream",
     "text": [
      "Train Loss: 0.0002 | Train Acc: 99.29%\n",
      "Valid Loss: 0.2009 | Valid Acc: 94.00%\n",
      "Test  Loss: 0.8365 | Test Acc: 83.12%\n",
      "Saved PyTorch Model State to [logs/CIFAR10/MyResNet32_256_SGD_95.pth.tar]\n",
      "--------------------------------------------------\n",
      "[Epoch 2305/5000] :\n"
     ]
    },
    {
     "name": "stderr",
     "output_type": "stream",
     "text": [
      "100%|██████████| 186/186 [00:08<00:00, 21.63it/s]\n"
     ]
    },
    {
     "name": "stdout",
     "output_type": "stream",
     "text": [
      "Train Loss: 0.0008 | Train Acc: 95.71%\n",
      "Valid Loss: 0.2462 | Valid Acc: 91.92%\n",
      "Test  Loss: 0.8518 | Test Acc: 81.91%\n",
      "Saved PyTorch Model State to [logs/CIFAR10/MyResNet32_256_SGD_95.pth.tar]\n",
      "--------------------------------------------------\n",
      "[Epoch 2306/5000] :\n"
     ]
    },
    {
     "name": "stderr",
     "output_type": "stream",
     "text": [
      "100%|██████████| 186/186 [00:08<00:00, 22.08it/s]\n"
     ]
    },
    {
     "name": "stdout",
     "output_type": "stream",
     "text": [
      "Train Loss: 0.0003 | Train Acc: 97.86%\n",
      "Valid Loss: 0.2776 | Valid Acc: 92.40%\n",
      "Test  Loss: 0.8669 | Test Acc: 82.21%\n",
      "Saved PyTorch Model State to [logs/CIFAR10/MyResNet32_256_SGD_95.pth.tar]\n",
      "--------------------------------------------------\n",
      "[Epoch 2307/5000] :\n"
     ]
    },
    {
     "name": "stderr",
     "output_type": "stream",
     "text": [
      "100%|██████████| 186/186 [00:08<00:00, 20.70it/s]\n"
     ]
    },
    {
     "name": "stdout",
     "output_type": "stream",
     "text": [
      "Train Loss: 0.0001 | Train Acc: 99.29%\n",
      "Valid Loss: 0.2021 | Valid Acc: 93.52%\n",
      "Test  Loss: 0.7580 | Test Acc: 83.20%\n",
      "Saved PyTorch Model State to [logs/CIFAR10/MyResNet32_256_SGD_95.pth.tar]\n",
      "--------------------------------------------------\n",
      "[Epoch 2308/5000] :\n"
     ]
    },
    {
     "name": "stderr",
     "output_type": "stream",
     "text": [
      "100%|██████████| 186/186 [00:08<00:00, 23.14it/s]\n"
     ]
    },
    {
     "name": "stdout",
     "output_type": "stream",
     "text": [
      "Train Loss: 0.0001 | Train Acc: 99.29%\n",
      "Valid Loss: 0.2230 | Valid Acc: 93.28%\n",
      "Test  Loss: 0.8265 | Test Acc: 83.14%\n",
      "Saved PyTorch Model State to [logs/CIFAR10/MyResNet32_256_SGD_95.pth.tar]\n",
      "--------------------------------------------------\n",
      "[Epoch 2309/5000] :\n"
     ]
    },
    {
     "name": "stderr",
     "output_type": "stream",
     "text": [
      "100%|██████████| 186/186 [00:08<00:00, 20.93it/s]\n"
     ]
    },
    {
     "name": "stdout",
     "output_type": "stream",
     "text": [
      "Train Loss: 0.0001 | Train Acc: 99.29%\n",
      "Valid Loss: 0.3384 | Valid Acc: 90.64%\n",
      "Test  Loss: 1.0062 | Test Acc: 79.73%\n",
      "Saved PyTorch Model State to [logs/CIFAR10/MyResNet32_256_SGD_95.pth.tar]\n",
      "--------------------------------------------------\n",
      "[Epoch 2310/5000] :\n"
     ]
    },
    {
     "name": "stderr",
     "output_type": "stream",
     "text": [
      "100%|██████████| 186/186 [00:09<00:00, 19.71it/s]\n"
     ]
    },
    {
     "name": "stdout",
     "output_type": "stream",
     "text": [
      "Train Loss: 0.0002 | Train Acc: 97.86%\n",
      "Valid Loss: 0.2685 | Valid Acc: 91.96%\n",
      "Test  Loss: 0.9038 | Test Acc: 82.47%\n",
      "Saved PyTorch Model State to [logs/CIFAR10/MyResNet32_256_SGD_95.pth.tar]\n",
      "--------------------------------------------------\n",
      "[Epoch 2311/5000] :\n"
     ]
    },
    {
     "name": "stderr",
     "output_type": "stream",
     "text": [
      "100%|██████████| 186/186 [00:08<00:00, 22.75it/s]\n"
     ]
    },
    {
     "name": "stdout",
     "output_type": "stream",
     "text": [
      "Train Loss: 0.0003 | Train Acc: 99.29%\n",
      "Valid Loss: 0.3432 | Valid Acc: 90.48%\n",
      "Test  Loss: 0.9652 | Test Acc: 81.16%\n",
      "Saved PyTorch Model State to [logs/CIFAR10/MyResNet32_256_SGD_95.pth.tar]\n",
      "--------------------------------------------------\n",
      "[Epoch 2312/5000] :\n"
     ]
    },
    {
     "name": "stderr",
     "output_type": "stream",
     "text": [
      "100%|██████████| 186/186 [00:08<00:00, 20.80it/s]\n"
     ]
    },
    {
     "name": "stdout",
     "output_type": "stream",
     "text": [
      "Train Loss: 0.0002 | Train Acc: 99.29%\n",
      "Valid Loss: 0.5166 | Valid Acc: 87.28%\n",
      "Test  Loss: 1.0956 | Test Acc: 78.77%\n",
      "Saved PyTorch Model State to [logs/CIFAR10/MyResNet32_256_SGD_95.pth.tar]\n",
      "--------------------------------------------------\n",
      "[Epoch 2313/5000] :\n"
     ]
    },
    {
     "name": "stderr",
     "output_type": "stream",
     "text": [
      "100%|██████████| 186/186 [00:08<00:00, 21.86it/s]\n"
     ]
    },
    {
     "name": "stdout",
     "output_type": "stream",
     "text": [
      "Train Loss: 0.0004 | Train Acc: 97.86%\n",
      "Valid Loss: 0.2656 | Valid Acc: 92.96%\n",
      "Test  Loss: 0.8497 | Test Acc: 83.25%\n",
      "Saved PyTorch Model State to [logs/CIFAR10/MyResNet32_256_SGD_95.pth.tar]\n",
      "--------------------------------------------------\n",
      "[Epoch 2314/5000] :\n"
     ]
    },
    {
     "name": "stderr",
     "output_type": "stream",
     "text": [
      "100%|██████████| 186/186 [00:08<00:00, 21.30it/s]\n"
     ]
    },
    {
     "name": "stdout",
     "output_type": "stream",
     "text": [
      "Train Loss: 0.0003 | Train Acc: 97.86%\n",
      "Valid Loss: 0.4026 | Valid Acc: 89.12%\n",
      "Test  Loss: 0.9912 | Test Acc: 80.56%\n",
      "Saved PyTorch Model State to [logs/CIFAR10/MyResNet32_256_SGD_95.pth.tar]\n",
      "--------------------------------------------------\n",
      "[Epoch 2315/5000] :\n"
     ]
    },
    {
     "name": "stderr",
     "output_type": "stream",
     "text": [
      "100%|██████████| 186/186 [00:08<00:00, 21.74it/s]\n"
     ]
    },
    {
     "name": "stdout",
     "output_type": "stream",
     "text": [
      "Train Loss: 0.0004 | Train Acc: 97.14%\n",
      "Valid Loss: 0.4432 | Valid Acc: 88.36%\n",
      "Test  Loss: 0.9926 | Test Acc: 80.31%\n",
      "Saved PyTorch Model State to [logs/CIFAR10/MyResNet32_256_SGD_95.pth.tar]\n",
      "--------------------------------------------------\n",
      "[Epoch 2316/5000] :\n"
     ]
    },
    {
     "name": "stderr",
     "output_type": "stream",
     "text": [
      "100%|██████████| 186/186 [00:08<00:00, 20.96it/s]\n"
     ]
    },
    {
     "name": "stdout",
     "output_type": "stream",
     "text": [
      "Train Loss: 0.0005 | Train Acc: 97.14%\n",
      "Valid Loss: 0.2633 | Valid Acc: 91.80%\n",
      "Test  Loss: 0.7663 | Test Acc: 83.63%\n",
      "Saved PyTorch Model State to [logs/CIFAR10/MyResNet32_256_SGD_95.pth.tar]\n",
      "--------------------------------------------------\n",
      "[Epoch 2317/5000] :\n"
     ]
    },
    {
     "name": "stderr",
     "output_type": "stream",
     "text": [
      "100%|██████████| 186/186 [00:08<00:00, 21.31it/s]\n"
     ]
    },
    {
     "name": "stdout",
     "output_type": "stream",
     "text": [
      "Train Loss: 0.0005 | Train Acc: 97.14%\n",
      "Valid Loss: 0.2497 | Valid Acc: 91.68%\n",
      "Test  Loss: 0.7889 | Test Acc: 83.07%\n",
      "Saved PyTorch Model State to [logs/CIFAR10/MyResNet32_256_SGD_95.pth.tar]\n",
      "--------------------------------------------------\n",
      "[Epoch 2318/5000] :\n"
     ]
    },
    {
     "name": "stderr",
     "output_type": "stream",
     "text": [
      "100%|██████████| 186/186 [00:08<00:00, 22.05it/s]\n"
     ]
    },
    {
     "name": "stdout",
     "output_type": "stream",
     "text": [
      "Train Loss: 0.0000 | Train Acc: 100.00%\n",
      "Valid Loss: 0.3948 | Valid Acc: 89.12%\n",
      "Test  Loss: 1.0005 | Test Acc: 80.55%\n",
      "Saved PyTorch Model State to [logs/CIFAR10/MyResNet32_256_SGD_95.pth.tar]\n",
      "--------------------------------------------------\n",
      "[Epoch 2319/5000] :\n"
     ]
    },
    {
     "name": "stderr",
     "output_type": "stream",
     "text": [
      "100%|██████████| 186/186 [00:08<00:00, 22.50it/s]\n"
     ]
    },
    {
     "name": "stdout",
     "output_type": "stream",
     "text": [
      "Train Loss: 0.0001 | Train Acc: 98.57%\n",
      "Valid Loss: 0.3213 | Valid Acc: 91.12%\n",
      "Test  Loss: 0.9083 | Test Acc: 81.79%\n",
      "Saved PyTorch Model State to [logs/CIFAR10/MyResNet32_256_SGD_95.pth.tar]\n",
      "--------------------------------------------------\n",
      "[Epoch 2320/5000] :\n"
     ]
    },
    {
     "name": "stderr",
     "output_type": "stream",
     "text": [
      "100%|██████████| 186/186 [00:08<00:00, 22.07it/s]\n"
     ]
    },
    {
     "name": "stdout",
     "output_type": "stream",
     "text": [
      "Train Loss: 0.0001 | Train Acc: 100.00%\n",
      "Valid Loss: 0.2139 | Valid Acc: 93.44%\n",
      "Test  Loss: 0.7728 | Test Acc: 83.86%\n",
      "Saved PyTorch Model State to [logs/CIFAR10/MyResNet32_256_SGD_95.pth.tar]\n",
      "--------------------------------------------------\n",
      "[Epoch 2321/5000] :\n"
     ]
    },
    {
     "name": "stderr",
     "output_type": "stream",
     "text": [
      "100%|██████████| 186/186 [00:08<00:00, 21.54it/s]\n"
     ]
    },
    {
     "name": "stdout",
     "output_type": "stream",
     "text": [
      "Train Loss: 0.0001 | Train Acc: 100.00%\n",
      "Valid Loss: 0.3178 | Valid Acc: 91.08%\n",
      "Test  Loss: 0.8518 | Test Acc: 82.60%\n",
      "Saved PyTorch Model State to [logs/CIFAR10/MyResNet32_256_SGD_95.pth.tar]\n",
      "--------------------------------------------------\n",
      "[Epoch 2322/5000] :\n"
     ]
    },
    {
     "name": "stderr",
     "output_type": "stream",
     "text": [
      "100%|██████████| 186/186 [00:09<00:00, 20.38it/s]\n"
     ]
    },
    {
     "name": "stdout",
     "output_type": "stream",
     "text": [
      "Train Loss: 0.0000 | Train Acc: 100.00%\n",
      "Valid Loss: 0.2813 | Valid Acc: 91.52%\n",
      "Test  Loss: 0.8440 | Test Acc: 82.43%\n",
      "Saved PyTorch Model State to [logs/CIFAR10/MyResNet32_256_SGD_95.pth.tar]\n",
      "--------------------------------------------------\n",
      "[Epoch 2323/5000] :\n"
     ]
    },
    {
     "name": "stderr",
     "output_type": "stream",
     "text": [
      "100%|██████████| 186/186 [00:08<00:00, 21.01it/s]\n"
     ]
    },
    {
     "name": "stdout",
     "output_type": "stream",
     "text": [
      "Train Loss: 0.0001 | Train Acc: 99.29%\n",
      "Valid Loss: 0.2649 | Valid Acc: 91.88%\n",
      "Test  Loss: 0.8260 | Test Acc: 83.06%\n",
      "Saved PyTorch Model State to [logs/CIFAR10/MyResNet32_256_SGD_95.pth.tar]\n",
      "--------------------------------------------------\n",
      "[Epoch 2324/5000] :\n"
     ]
    },
    {
     "name": "stderr",
     "output_type": "stream",
     "text": [
      "100%|██████████| 186/186 [00:08<00:00, 21.85it/s]\n"
     ]
    },
    {
     "name": "stdout",
     "output_type": "stream",
     "text": [
      "Train Loss: 0.0000 | Train Acc: 100.00%\n",
      "Valid Loss: 0.2472 | Valid Acc: 92.96%\n",
      "Test  Loss: 0.8089 | Test Acc: 83.25%\n",
      "Saved PyTorch Model State to [logs/CIFAR10/MyResNet32_256_SGD_95.pth.tar]\n",
      "--------------------------------------------------\n",
      "[Epoch 2325/5000] :\n"
     ]
    },
    {
     "name": "stderr",
     "output_type": "stream",
     "text": [
      "100%|██████████| 186/186 [00:09<00:00, 20.37it/s]\n"
     ]
    },
    {
     "name": "stdout",
     "output_type": "stream",
     "text": [
      "Train Loss: 0.0008 | Train Acc: 94.29%\n",
      "Valid Loss: 0.4813 | Valid Acc: 87.72%\n",
      "Test  Loss: 0.9975 | Test Acc: 79.82%\n",
      "Saved PyTorch Model State to [logs/CIFAR10/MyResNet32_256_SGD_95.pth.tar]\n",
      "--------------------------------------------------\n",
      "[Epoch 2326/5000] :\n"
     ]
    },
    {
     "name": "stderr",
     "output_type": "stream",
     "text": [
      "100%|██████████| 186/186 [00:08<00:00, 20.93it/s]\n"
     ]
    },
    {
     "name": "stdout",
     "output_type": "stream",
     "text": [
      "Train Loss: 0.0007 | Train Acc: 93.57%\n",
      "Valid Loss: 0.5585 | Valid Acc: 85.92%\n",
      "Test  Loss: 0.9584 | Test Acc: 79.27%\n",
      "Saved PyTorch Model State to [logs/CIFAR10/MyResNet32_256_SGD_95.pth.tar]\n",
      "--------------------------------------------------\n",
      "[Epoch 2327/5000] :\n"
     ]
    },
    {
     "name": "stderr",
     "output_type": "stream",
     "text": [
      " 25%|██▌       | 47/186 [00:02<00:06, 21.78it/s]"
     ]
    }
   ],
   "source": [
    "Training = DoTraining(\n",
    "    model=model,\n",
    "    criterion=criterion,\n",
    "    optimizer=optimizer,\n",
    "    scaler=scaler,\n",
    "    scheduler=scheduler,\n",
    "    device=device,\n",
    "    logs=logs,\n",
    "    file_path=file_path,\n",
    ")\n",
    "pre_epochs = len(Training.logs[\"train_loss\"])\n",
    "\n",
    "for epoch in range(NUM_EPOCHS):\n",
    "    print(f\"[Epoch {epoch+1+pre_epochs}/{NUM_EPOCHS}] :\")\n",
    "\n",
    "    if DATASET == \"ImageNet2012\":\n",
    "        eval_loss = Training.SingleEpoch(train_dataloader, valid_dataloader)\n",
    "    else:\n",
    "        eval_loss = Training.SingleEpoch(\n",
    "            train_dataloader, valid_dataloader, test_dataloader\n",
    "        )\n",
    "\n",
    "    # Early stopping check\n",
    "    if eval_loss < best_val_loss:\n",
    "        best_val_loss = eval_loss\n",
    "        early_stop_counter = 0\n",
    "        torch.save(model.state_dict(), \"models/\" + file_path + \".pth\")\n",
    "\n",
    "    else:\n",
    "        early_stop_counter += 1\n",
    "        if early_stop_counter >= EARLYSTOPPINGPATIENCE:\n",
    "            print(f\"Early stopping after {epoch} epochs without improvement.\")\n",
    "            break\n",
    "\n",
    "    print(\"-\" * 50)"
   ]
  },
  {
   "cell_type": "markdown",
   "metadata": {},
   "source": [
    "## Training Results"
   ]
  },
  {
   "cell_type": "code",
   "execution_count": null,
   "metadata": {},
   "outputs": [],
   "source": [
    "fig, axs = plt.subplots(ncols=2, figsize=(10, 5))\n",
    "\n",
    "# 첫 번째 그래프: Training and Test Loss\n",
    "axs[0].plot(logs[\"train_loss\"], label=\"Training Loss\")\n",
    "axs[0].plot(logs[\"valid_loss\"], label=\"Validation Loss\")\n",
    "axs[0].plot(logs[\"test_loss\"], label=\"Test Loss\")\n",
    "axs[0].set_xlabel(\"Epoch\")\n",
    "axs[0].set_ylabel(\"Loss\")\n",
    "axs[0].set_title(\"Training, Validation and Test Loss\")\n",
    "axs[0].legend()\n",
    "\n",
    "# 두 번째 그래프: Training and Test Accuracy\n",
    "axs[1].plot(logs[\"train_acc\"], label=\"Training Accuracy\")\n",
    "axs[1].plot(logs[\"valid_acc\"], label=\"Validation Accuracy\")\n",
    "axs[1].plot(logs[\"test_acc\"], label=\"Test Accuracy\")\n",
    "axs[1].set_xlabel(\"Epoch\")\n",
    "axs[1].set_ylabel(\"Accuracy\")\n",
    "axs[1].set_title(\"Training, Validation and Test Accuracy\")\n",
    "axs[1].legend()\n",
    "\n",
    "# 그래프를 보여줍니다.\n",
    "plt.tight_layout()\n",
    "plt.show()"
   ]
  },
  {
   "cell_type": "code",
   "execution_count": null,
   "metadata": {},
   "outputs": [],
   "source": [
    "print(len(logs[\"train_loss\"]))\n",
    "print(len(logs[\"train_acc\"]))\n",
    "print(len(logs[\"valid_loss\"]))\n",
    "print(len(logs[\"valid_acc\"]))\n",
    "print(len(logs[\"test_loss\"]))\n",
    "print(len(logs[\"test_acc\"]))"
   ]
  },
  {
   "cell_type": "markdown",
   "metadata": {},
   "source": [
    "- 주피터노트북 output set\n",
    "- @tag:notebookOutputLayout"
   ]
  },
  {
   "cell_type": "markdown",
   "metadata": {},
   "source": []
  },
  {
   "cell_type": "code",
   "execution_count": null,
   "metadata": {},
   "outputs": [],
   "source": [
    "for i in range(len(logs[\"train_loss\"])):\n",
    "    print(\n",
    "        f\"{i+1} epoch: train_loss={logs['train_loss'][i]:.4f}, train_acc={logs['train_acc'][i]:.4f}, test_loss={logs['test_loss'][i]:.4f}, test_acc={logs['test_acc'][i]:.4f}\"\n",
    "    )"
   ]
  },
  {
   "cell_type": "code",
   "execution_count": null,
   "metadata": {},
   "outputs": [],
   "source": []
  },
  {
   "cell_type": "code",
   "execution_count": null,
   "metadata": {},
   "outputs": [],
   "source": []
  },
  {
   "cell_type": "code",
   "execution_count": null,
   "metadata": {},
   "outputs": [],
   "source": []
  }
 ],
 "metadata": {
  "kernelspec": {
   "display_name": "base",
   "language": "python",
   "name": "python3"
  },
  "language_info": {
   "codemirror_mode": {
    "name": "ipython",
    "version": 3
   },
   "file_extension": ".py",
   "mimetype": "text/x-python",
   "name": "python",
   "nbconvert_exporter": "python",
   "pygments_lexer": "ipython3",
   "version": "3.11.5"
  }
 },
 "nbformat": 4,
 "nbformat_minor": 2
}
