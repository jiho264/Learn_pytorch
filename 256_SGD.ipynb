{
 "cells": [
  {
   "cell_type": "markdown",
   "metadata": {},
   "source": [
    "# Import"
   ]
  },
  {
   "cell_type": "code",
   "execution_count": 1,
   "metadata": {},
   "outputs": [],
   "source": [
    "import torch\n",
    "from torch import nn\n",
    "from torch.optim.lr_scheduler import ReduceLROnPlateau\n",
    "from torch.utils.data import DataLoader\n",
    "from fvcore.nn import FlopCountAnalysis, flop_count_table\n",
    "import numpy as np\n",
    "import matplotlib.pyplot as plt\n",
    "import os\n",
    "####################################################\n",
    "from src.Mydataloader import LoadDataset\n",
    "from src.Mymodel import Block\n",
    "from src.Mymodel import MyResNet34\n",
    "from src.Mymodel import MyResNet_CIFAR\n",
    "from src.Mytraining import DoTraining"
   ]
  },
  {
   "cell_type": "markdown",
   "metadata": {},
   "source": [
    "# Setup"
   ]
  },
  {
   "cell_type": "code",
   "execution_count": 2,
   "metadata": {},
   "outputs": [],
   "source": [
    "\"\"\"Dataset selection\"\"\"\n",
    "DATASET = \"CIFAR10\"\n",
    "# DATASET = \"CIFAR100\"\n",
    "# DATASET = \"ImageNet2012\"\n",
    "\n",
    "\"\"\"Model selection for CIFAR\"\"\"\n",
    "NUM_LAYERS_LEVEL = 5\n",
    "\n",
    "\"\"\"Dataset parameters\"\"\"\n",
    "BATCH = 256\n",
    "SHUFFLE = True\n",
    "NUMOFWORKERS = 8\n",
    "PIN_MEMORY = True\n",
    "SPLIT_RATIO = 0\n",
    "\"\"\"optimizer parameters\"\"\"\n",
    "OPTIMIZER = \"SGD\"\n",
    "# OPTIMIZER = \"Adam\"\n",
    "# OPTIMIZER = \"Adam_decay\"\n",
    "\n",
    "\"\"\"Learning rate scheduler parameters\"\"\"\n",
    "LOAD_BEFORE_TRAINING = False\n",
    "LOAD_BEFORE_TRAINING = True\n",
    "NUM_EPOCHS = 5000\n",
    "\n",
    "\"\"\"Early stopping parameters\"\"\"\n",
    "EARLYSTOPPINGPATIENCE = 1200\n",
    "file_path = \"\"\n",
    "if DATASET == \"ImageNet2012\":\n",
    "    file_path = f\"{DATASET}/MyResNet34_{BATCH}_{OPTIMIZER}\"\n",
    "else:\n",
    "    file_path = f\"{DATASET}/MyResNet{NUM_LAYERS_LEVEL*6+2}_{BATCH}_{OPTIMIZER}\"\n",
    "    \n",
    "if SPLIT_RATIO != 0:\n",
    "    file_path += f\"_{int(SPLIT_RATIO*100)}\""
   ]
  },
  {
   "cell_type": "markdown",
   "metadata": {},
   "source": [
    "# Loading the dataset"
   ]
  },
  {
   "cell_type": "markdown",
   "metadata": {},
   "source": [
    "## Define Dateloader"
   ]
  },
  {
   "cell_type": "code",
   "execution_count": 3,
   "metadata": {},
   "outputs": [],
   "source": [
    "from src.Mydataloader import LoadDataset"
   ]
  },
  {
   "cell_type": "code",
   "execution_count": 4,
   "metadata": {},
   "outputs": [
    {
     "name": "stderr",
     "output_type": "stream",
     "text": [
      "/home/lee/anaconda3/lib/python3.11/site-packages/torchvision/transforms/v2/_deprecated.py:43: UserWarning: The transform `ToTensor()` is deprecated and will be removed in a future release. Instead, please use `v2.Compose([v2.ToImage(), v2.ToDtype(torch.float32, scale=True)])`.\n",
      "  warnings.warn(\n"
     ]
    },
    {
     "name": "stdout",
     "output_type": "stream",
     "text": [
      "-----------------------------------------------------------------------\n",
      "Dataset :  CIFAR10\n",
      "- Length of Train Set :  50000\n",
      "- Length of Test Set :  10000\n",
      "- Count of Classes :  10\n",
      "-----------------------------------------------------------------------\n"
     ]
    }
   ],
   "source": [
    "tmp = LoadDataset(root=\"data\", seceted_dataset=DATASET, split_ratio=SPLIT_RATIO)\n",
    "train_data, valid_data, test_data, COUNT_OF_CLASSES = tmp.Unpack()"
   ]
  },
  {
   "cell_type": "code",
   "execution_count": 5,
   "metadata": {},
   "outputs": [
    {
     "name": "stdout",
     "output_type": "stream",
     "text": [
      "train.transforms = Compose(\n",
      "      ToTensor()\n",
      "      Submean()\n",
      "      RandomHorizontalFlip(p=0.5)\n",
      ") 256\n",
      "test.transforms = Compose(\n",
      "      ToTensor()\n",
      "      Submean()\n",
      "      RandomHorizontalFlip(p=0.5)\n",
      ") 256\n"
     ]
    }
   ],
   "source": [
    "train_dataloader = DataLoader(\n",
    "    train_data,\n",
    "    batch_size=BATCH,\n",
    "    shuffle=SHUFFLE,\n",
    "    num_workers=NUMOFWORKERS,\n",
    "    pin_memory=PIN_MEMORY,\n",
    "    # pin_memory_device=\"cuda\",\n",
    "    persistent_workers=True,\n",
    ")\n",
    "print(\"train.transforms =\", train_data.transform, train_dataloader.batch_size)\n",
    "\n",
    "if SPLIT_RATIO != 0:\n",
    "    valid_dataloader = DataLoader(\n",
    "        valid_data,\n",
    "        batch_size=BATCH,\n",
    "        shuffle=SHUFFLE,\n",
    "        num_workers=NUMOFWORKERS,\n",
    "        pin_memory=PIN_MEMORY,\n",
    "        # pin_memory_device=\"cuda\",\n",
    "        persistent_workers=True,\n",
    "    )\n",
    "    print(\"valid.transforms =\", valid_data.transform, valid_dataloader.batch_size)\n",
    "elif SPLIT_RATIO == 0:\n",
    "    valid_dataloader = None\n",
    "    \n",
    "test_dataloader = DataLoader(\n",
    "    test_data,\n",
    "    batch_size=BATCH,\n",
    "    shuffle=SHUFFLE,\n",
    "    num_workers=NUMOFWORKERS,\n",
    "    pin_memory=PIN_MEMORY,\n",
    "    # pin_memory_device=\"cuda\",\n",
    "    persistent_workers=True,\n",
    ")\n",
    "print(\"test.transforms =\", test_data.transform, test_dataloader.batch_size)"
   ]
  },
  {
   "cell_type": "markdown",
   "metadata": {},
   "source": [
    "## Confirm that the dataset is loaded properly"
   ]
  },
  {
   "cell_type": "code",
   "execution_count": 6,
   "metadata": {},
   "outputs": [
    {
     "name": "stdout",
     "output_type": "stream",
     "text": [
      "Shape of X [N, C, H, W]: torch.Size([256, 3, 32, 32])\n",
      "mean of X tensor([-8.6092e-09, -2.7687e-09, -5.3657e-09])\n",
      "Shape of y: torch.Size([256]) torch.int64\n"
     ]
    }
   ],
   "source": [
    "if DATASET != \"ImageNet2012\":\n",
    "    for X, y in test_dataloader:\n",
    "        print(f\"Shape of X [N, C, H, W]: {X.shape}\")\n",
    "        print(\"mean of X\", X.mean(dim=(0, 2, 3)))\n",
    "        print(f\"Shape of y: {y.shape} {y.dtype}\")\n",
    "        break"
   ]
  },
  {
   "cell_type": "code",
   "execution_count": 7,
   "metadata": {},
   "outputs": [
    {
     "data": {
      "image/png": "[encoded data removed]",
      "text/plain": [
       "<Figure size 800x400 with 10 Axes>"
      ]
     },
     "metadata": {},
     "output_type": "display_data"
    }
   ],
   "source": [
    "if DATASET != \"ImageNet2012\":\n",
    "    class_names = test_dataloader.dataset.classes\n",
    "    count = 0\n",
    "    fig, axs = plt.subplots(2, 5, figsize=(8, 4))\n",
    "\n",
    "    for images, labels in test_dataloader:\n",
    "        images = images.numpy()\n",
    "\n",
    "        for i in range(len(images)):\n",
    "            image = images[i]\n",
    "            label = labels[i]\n",
    "            image = np.transpose(image, (1, 2, 0))\n",
    "            image = np.clip(image, 0, 1)\n",
    "            ax = axs[count // 5, count % 5]\n",
    "            ax.imshow(image)\n",
    "            ax.set_title(f\"{class_names[label], label}\")\n",
    "            ax.axis('off')\n",
    "            count += 1\n",
    "            \n",
    "            if count == 10:\n",
    "                break\n",
    "        if count == 10:\n",
    "            break\n",
    "    plt.tight_layout()\n",
    "    plt.show()"
   ]
  },
  {
   "cell_type": "markdown",
   "metadata": {},
   "source": [
    "# Define ResNet"
   ]
  },
  {
   "cell_type": "code",
   "execution_count": 8,
   "metadata": {},
   "outputs": [],
   "source": [
    "from src.Mymodel import MyResNet34\n",
    "from src.Mymodel import MyResNet_CIFAR"
   ]
  },
  {
   "cell_type": "markdown",
   "metadata": {},
   "source": [
    "## Model Confirm"
   ]
  },
  {
   "cell_type": "code",
   "execution_count": 9,
   "metadata": {},
   "outputs": [
    {
     "data": {
      "text/plain": [
       "device(type='cuda')"
      ]
     },
     "execution_count": 9,
     "metadata": {},
     "output_type": "execute_result"
    }
   ],
   "source": [
    "device = torch.device(\"cuda\" if torch.cuda.is_available() else \"cpu\")\n",
    "device"
   ]
  },
  {
   "cell_type": "code",
   "execution_count": 10,
   "metadata": {},
   "outputs": [
    {
     "name": "stdout",
     "output_type": "stream",
     "text": [
      "ResNet-32 for CIFAR10 is loaded.\n"
     ]
    }
   ],
   "source": [
    "if DATASET == \"CIFAR10\" or DATASET == \"CIFAR100\":\n",
    "    \"\"\"ResNet{20, 32, 44, 56, 110, 1202} for CIFAR\"\"\"\n",
    "    model = MyResNet_CIFAR(\n",
    "        num_classes=COUNT_OF_CLASSES, num_layer_factor=NUM_LAYERS_LEVEL\n",
    "    ).to(device)\n",
    "    print(f\"ResNet-{5*6+2} for {DATASET} is loaded.\")\n",
    "\n",
    "elif DATASET == \"ImageNet2012\":\n",
    "    \"\"\"ResNet34 for ImageNet 2012\"\"\"\n",
    "    model = MyResNet34(num_classes=COUNT_OF_CLASSES).to(device)\n",
    "    # model = models.resnet34(pretrained=True).to(device)\n",
    "    # model = models.resnet34(pretrained=False).to(device)\n",
    "    print(f\"ResNet-34 for {DATASET} is loaded.\")\n",
    "\n",
    "# model.named_modules"
   ]
  },
  {
   "cell_type": "code",
   "execution_count": 11,
   "metadata": {},
   "outputs": [
    {
     "name": "stdout",
     "output_type": "stream",
     "text": [
      "| module                   | #parameters or shape   | #flops     |\n",
      "|:-------------------------|:-----------------------|:-----------|\n",
      "| model                    | 0.464M                 | 17.997G    |\n",
      "|  conv32blocks            |  23.792K               |  6.363G    |\n",
      "|   conv32blocks.0         |   0.432K               |   0.113G   |\n",
      "|    conv32blocks.0.weight |    (16, 3, 3, 3)       |            |\n",
      "|   conv32blocks.1         |   4.672K               |   1.25G    |\n",
      "|    conv32blocks.1.conv1  |    2.304K              |    0.604G  |\n",
      "|    conv32blocks.1.bn1    |    32                  |    20.972M |\n",
      "|    conv32blocks.1.conv2  |    2.304K              |    0.604G  |\n",
      "|    conv32blocks.1.bn2    |    32                  |    20.972M |\n",
      "|   conv32blocks.2         |   4.672K               |   1.25G    |\n",
      "|    conv32blocks.2.conv1  |    2.304K              |    0.604G  |\n",
      "|    conv32blocks.2.bn1    |    32                  |    20.972M |\n",
      "|    conv32blocks.2.conv2  |    2.304K              |    0.604G  |\n",
      "|    conv32blocks.2.bn2    |    32                  |    20.972M |\n",
      "|   conv32blocks.3         |   4.672K               |   1.25G    |\n",
      "|    conv32blocks.3.conv1  |    2.304K              |    0.604G  |\n",
      "|    conv32blocks.3.bn1    |    32                  |    20.972M |\n",
      "|    conv32blocks.3.conv2  |    2.304K              |    0.604G  |\n",
      "|    conv32blocks.3.bn2    |    32                  |    20.972M |\n",
      "|   conv32blocks.4         |   4.672K               |   1.25G    |\n",
      "|    conv32blocks.4.conv1  |    2.304K              |    0.604G  |\n",
      "|    conv32blocks.4.bn1    |    32                  |    20.972M |\n",
      "|    conv32blocks.4.conv2  |    2.304K              |    0.604G  |\n",
      "|    conv32blocks.4.bn2    |    32                  |    20.972M |\n",
      "|   conv32blocks.5         |   4.672K               |   1.25G    |\n",
      "|    conv32blocks.5.conv1  |    2.304K              |    0.604G  |\n",
      "|    conv32blocks.5.bn1    |    32                  |    20.972M |\n",
      "|    conv32blocks.5.conv2  |    2.304K              |    0.604G  |\n",
      "|    conv32blocks.5.bn2    |    32                  |    20.972M |\n",
      "|  conv16blocks            |  88.192K               |  5.843G    |\n",
      "|   conv16blocks.0         |   13.952K              |   0.927G   |\n",
      "|    conv16blocks.0.conv1  |    4.608K              |    0.302G  |\n",
      "|    conv16blocks.0.bn1    |    64                  |    10.486M |\n",
      "|    conv16blocks.0.conv2  |    9.216K              |    0.604G  |\n",
      "|    conv16blocks.0.bn2    |    64                  |    10.486M |\n",
      "|   conv16blocks.1         |   18.56K               |   1.229G   |\n",
      "|    conv16blocks.1.conv1  |    9.216K              |    0.604G  |\n",
      "|    conv16blocks.1.bn1    |    64                  |    10.486M |\n",
      "|    conv16blocks.1.conv2  |    9.216K              |    0.604G  |\n",
      "|    conv16blocks.1.bn2    |    64                  |    10.486M |\n",
      "|   conv16blocks.2         |   18.56K               |   1.229G   |\n",
      "|    conv16blocks.2.conv1  |    9.216K              |    0.604G  |\n",
      "|    conv16blocks.2.bn1    |    64                  |    10.486M |\n",
      "|    conv16blocks.2.conv2  |    9.216K              |    0.604G  |\n",
      "|    conv16blocks.2.bn2    |    64                  |    10.486M |\n",
      "|   conv16blocks.3         |   18.56K               |   1.229G   |\n",
      "|    conv16blocks.3.conv1  |    9.216K              |    0.604G  |\n",
      "|    conv16blocks.3.bn1    |    64                  |    10.486M |\n",
      "|    conv16blocks.3.conv2  |    9.216K              |    0.604G  |\n",
      "|    conv16blocks.3.bn2    |    64                  |    10.486M |\n",
      "|   conv16blocks.4         |   18.56K               |   1.229G   |\n",
      "|    conv16blocks.4.conv1  |    9.216K              |    0.604G  |\n",
      "|    conv16blocks.4.bn1    |    64                  |    10.486M |\n",
      "|    conv16blocks.4.conv2  |    9.216K              |    0.604G  |\n",
      "|    conv16blocks.4.bn2    |    64                  |    10.486M |\n",
      "|  conv8blocks             |  0.351M                |  5.79G     |\n",
      "|   conv8blocks.0          |   55.552K              |   0.916G   |\n",
      "|    conv8blocks.0.conv1   |    18.432K             |    0.302G  |\n",
      "|    conv8blocks.0.bn1     |    0.128K              |    5.243M  |\n",
      "|    conv8blocks.0.conv2   |    36.864K             |    0.604G  |\n",
      "|    conv8blocks.0.bn2     |    0.128K              |    5.243M  |\n",
      "|   conv8blocks.1          |   73.984K              |   1.218G   |\n",
      "|    conv8blocks.1.conv1   |    36.864K             |    0.604G  |\n",
      "|    conv8blocks.1.bn1     |    0.128K              |    5.243M  |\n",
      "|    conv8blocks.1.conv2   |    36.864K             |    0.604G  |\n",
      "|    conv8blocks.1.bn2     |    0.128K              |    5.243M  |\n",
      "|   conv8blocks.2          |   73.984K              |   1.218G   |\n",
      "|    conv8blocks.2.conv1   |    36.864K             |    0.604G  |\n",
      "|    conv8blocks.2.bn1     |    0.128K              |    5.243M  |\n",
      "|    conv8blocks.2.conv2   |    36.864K             |    0.604G  |\n",
      "|    conv8blocks.2.bn2     |    0.128K              |    5.243M  |\n",
      "|   conv8blocks.3          |   73.984K              |   1.218G   |\n",
      "|    conv8blocks.3.conv1   |    36.864K             |    0.604G  |\n",
      "|    conv8blocks.3.bn1     |    0.128K              |    5.243M  |\n",
      "|    conv8blocks.3.conv2   |    36.864K             |    0.604G  |\n",
      "|    conv8blocks.3.bn2     |    0.128K              |    5.243M  |\n",
      "|   conv8blocks.4          |   73.984K              |   1.218G   |\n",
      "|    conv8blocks.4.conv1   |    36.864K             |    0.604G  |\n",
      "|    conv8blocks.4.bn1     |    0.128K              |    5.243M  |\n",
      "|    conv8blocks.4.conv2   |    36.864K             |    0.604G  |\n",
      "|    conv8blocks.4.bn2     |    0.128K              |    5.243M  |\n",
      "|  fc1                     |  0.65K                 |  0.164M    |\n",
      "|   fc1.weight             |   (10, 64)             |            |\n",
      "|   fc1.bias               |   (10,)                |            |\n",
      "|  avgpool                 |                        |  1.049M    |\n"
     ]
    }
   ],
   "source": [
    "tmp_input = torch.rand(BATCH, 3, 32, 32).to(device)\n",
    "flops = FlopCountAnalysis(model, tmp_input)\n",
    "print(flop_count_table(flops))"
   ]
  },
  {
   "cell_type": "markdown",
   "metadata": {},
   "source": [
    "# Define Training"
   ]
  },
  {
   "cell_type": "markdown",
   "metadata": {},
   "source": [
    "## Define Optimazer\n",
    "#### ResNet32 for CIFAR10\n",
    "- SGD\n",
    "- Batch size = 128 * 2 GPU\n",
    "- lr : 0.1 -> 0.01 -> 0.001 (at 32k, 48k and terminate on 64k iter)\n",
    "  - divided by 10 when the error plateaus\n",
    "- Weight Decay = 0.0001\n",
    "- Momentum = 0.9\n",
    "#### ResNet34 for ImageNet2012\n",
    "- SGD\n",
    "- Batch size = 256\n",
    "- lr = 0.1\n",
    "  - divided by 10 when the error plateaus\n",
    "  - amount 60k iter\n",
    "- Weight Decay = 0.0001\n",
    "- Momentum = 0.9"
   ]
  },
  {
   "cell_type": "code",
   "execution_count": 12,
   "metadata": {},
   "outputs": [],
   "source": [
    "criterion = nn.CrossEntropyLoss()\n",
    "\n",
    "if OPTIMIZER == \"Adam\":\n",
    "    optimizer = torch.optim.Adam(model.parameters())\n",
    "    # optimizer = torch.optim.Adam(model.parameters(), lr=0.1, weight_decay=1e-4)\n",
    "elif OPTIMIZER == \"Adam_decay\":\n",
    "    optimizer = torch.optim.Adam(model.parameters(), weight_decay=1e-4)\n",
    "elif OPTIMIZER == \"SGD\":\n",
    "    optimizer = torch.optim.SGD(\n",
    "        model.parameters(), lr=0.1, momentum=0.9, weight_decay=0.0001\n",
    "    )"
   ]
  },
  {
   "cell_type": "markdown",
   "metadata": {},
   "source": [
    "## Define Early Stopping"
   ]
  },
  {
   "cell_type": "code",
   "execution_count": 13,
   "metadata": {},
   "outputs": [],
   "source": [
    "# Early stopping 관련 변수 초기화\n",
    "best_val_loss = float(\"inf\")\n",
    "early_stop_counter = 0"
   ]
  },
  {
   "cell_type": "markdown",
   "metadata": {},
   "source": [
    "## Define Learning Rate schedualer"
   ]
  },
  {
   "cell_type": "code",
   "execution_count": 14,
   "metadata": {},
   "outputs": [],
   "source": [
    "scheduler_mapping = {\"CIFAR100\": 100, \"CIFAR10\": 1000, \"ImageNet2012\": 30}\n",
    "MIN_LR = 0.0001\n",
    "scheduler = ReduceLROnPlateau(\n",
    "    optimizer,\n",
    "    mode=\"min\",\n",
    "    patience=scheduler_mapping[DATASET],\n",
    "    factor=0.1,\n",
    "    verbose=True,\n",
    "    threshold=1e-4,\n",
    "    min_lr=MIN_LR,\n",
    ")"
   ]
  },
  {
   "cell_type": "markdown",
   "metadata": {},
   "source": [
    "## Load before process"
   ]
  },
  {
   "cell_type": "code",
   "execution_count": 15,
   "metadata": {},
   "outputs": [
    {
     "name": "stdout",
     "output_type": "stream",
     "text": [
      "Suceessfully loaded the All setting and Log file.\n",
      "CIFAR10/MyResNet32_256_SGD\n",
      "Current epoch is 0\n",
      "Current learning rate: 0.1\n",
      "Current best validation loss: inf\n",
      "Current early stopping counter: 0\n"
     ]
    }
   ],
   "source": [
    "scaler = torch.cuda.amp.GradScaler(enabled=True)\n",
    "\n",
    "if LOAD_BEFORE_TRAINING == True:\n",
    "    if os.path.exists(\"logs/\" + file_path + \".pth.tar\"):\n",
    "        # Read checkpoint as desired, e.g.,\n",
    "        checkpoint = torch.load(\n",
    "            \"logs/\" + file_path + \".pth.tar\",\n",
    "            map_location=lambda storage, loc: storage.cuda(device),\n",
    "        )\n",
    "        model.load_state_dict(checkpoint[\"model\"])\n",
    "        optimizer.load_state_dict(checkpoint[\"optimizer\"])\n",
    "        scaler.load_state_dict(checkpoint[\"scaler\"])\n",
    "        logs = checkpoint[\"logs\"]\n",
    "\n",
    "        print(\"Suceessfully loaded the All setting and Log file.\")\n",
    "        print(file_path)\n",
    "        print(f\"Current epoch is {len(logs['valid_loss'])}\")\n",
    "        print(f\"Current learning rate: {optimizer.param_groups[0]['lr']}\")\n",
    "        print(f\"Current best validation loss: {best_val_loss:.4f}\")\n",
    "        print(f\"Current early stopping counter: {early_stop_counter}\")\n",
    "        \n",
    "    else:\n",
    "        # Create a dictionary to store the variables\n",
    "        train_loss = []\n",
    "        train_acc = []\n",
    "        eval_loss = []\n",
    "        valid_acc = []\n",
    "        test_loss = []\n",
    "        test_acc = []\n",
    "\n",
    "        logs = {\n",
    "            \"train_loss\": train_loss,\n",
    "            \"train_acc\": train_acc,\n",
    "            \"valid_loss\": eval_loss,\n",
    "            \"valid_acc\": valid_acc,\n",
    "            \"test_loss\": test_loss,\n",
    "            \"test_acc\": test_acc,\n",
    "        }\n",
    "        print(\"File does not exist. Created a new log.\")\n",
    "        \n",
    "else:\n",
    "    # Create a dictionary to store the variables\n",
    "    train_loss = []\n",
    "    train_acc = []\n",
    "    eval_loss = []\n",
    "    valid_acc = []\n",
    "    test_loss = []\n",
    "    test_acc = []\n",
    "\n",
    "    logs = {\n",
    "        \"train_loss\": train_loss,\n",
    "        \"train_acc\": train_acc,\n",
    "        \"valid_loss\": eval_loss,\n",
    "        \"valid_acc\": valid_acc,\n",
    "        \"test_loss\": test_loss,\n",
    "        \"test_acc\": test_acc,\n",
    "    }\n",
    "    print(\"File does not exist. Created a new log.\")\n",
    "    "
   ]
  },
  {
   "cell_type": "code",
   "execution_count": 16,
   "metadata": {},
   "outputs": [],
   "source": [
    "# CHECK = 498\n",
    "# logs[\"train_loss\"] = logs[\"train_loss\"][:CHECK]\n",
    "# logs[\"train_acc\"] = logs[\"train_acc\"][:CHECK]\n",
    "# logs[\"valid_loss\"] = logs[\"valid_loss\"][:CHECK]\n",
    "# logs[\"valid_acc\"] = logs[\"valid_acc\"][:CHECK]\n",
    "# logs[\"test_loss\"] = logs[\"test_loss\"][:CHECK]\n",
    "# logs[\"test_acc\"] = logs[\"test_acc\"][:CHECK]"
   ]
  },
  {
   "cell_type": "markdown",
   "metadata": {},
   "source": [
    "# [Training Loop]"
   ]
  },
  {
   "cell_type": "code",
   "execution_count": 17,
   "metadata": {},
   "outputs": [],
   "source": [
    "from src.Mytraining import DoTraining"
   ]
  },
  {
   "cell_type": "code",
   "execution_count": 18,
   "metadata": {},
   "outputs": [
    {
     "name": "stdout",
     "output_type": "stream",
     "text": [
      "[Epoch 3/5000] :\n"
     ]
    },
    {
     "name": "stderr",
     "output_type": "stream",
     "text": [
      "100%|██████████| 196/196 [00:04<00:00, 44.84it/s]\n"
     ]
    },
    {
     "name": "stdout",
     "output_type": "stream",
     "text": [
      "Train Loss: 0.0089 | Train Acc: 37.50%\n",
      "Test  Loss: 1.7736 | Test Acc: 36.04%\n",
      "Saved PyTorch Model State to [logs/CIFAR10/MyResNet32_256_SGD.pth.tar]\n",
      "--------------------------------------------------\n",
      "[Epoch 4/5000] :\n"
     ]
    },
    {
     "name": "stderr",
     "output_type": "stream",
     "text": [
      "100%|██████████| 196/196 [00:04<00:00, 48.97it/s]\n"
     ]
    },
    {
     "name": "stdout",
     "output_type": "stream",
     "text": [
      "Train Loss: 0.0062 | Train Acc: 55.00%\n",
      "Test  Loss: 1.6408 | Test Acc: 42.67%\n",
      "Saved PyTorch Model State to [logs/CIFAR10/MyResNet32_256_SGD.pth.tar]\n",
      "--------------------------------------------------\n",
      "[Epoch 5/5000] :\n"
     ]
    },
    {
     "name": "stderr",
     "output_type": "stream",
     "text": [
      "100%|██████████| 196/196 [00:04<00:00, 41.92it/s]\n"
     ]
    },
    {
     "name": "stdout",
     "output_type": "stream",
     "text": [
      "Train Loss: 0.0053 | Train Acc: 58.75%\n",
      "Test  Loss: 1.3253 | Test Acc: 51.86%\n",
      "Saved PyTorch Model State to [logs/CIFAR10/MyResNet32_256_SGD.pth.tar]\n",
      "--------------------------------------------------\n",
      "[Epoch 6/5000] :\n"
     ]
    },
    {
     "name": "stderr",
     "output_type": "stream",
     "text": [
      "100%|██████████| 196/196 [00:06<00:00, 31.86it/s]\n"
     ]
    },
    {
     "name": "stdout",
     "output_type": "stream",
     "text": [
      "Train Loss: 0.0048 | Train Acc: 71.25%\n",
      "Test  Loss: 1.2669 | Test Acc: 56.48%\n",
      "Saved PyTorch Model State to [logs/CIFAR10/MyResNet32_256_SGD.pth.tar]\n",
      "--------------------------------------------------\n",
      "[Epoch 7/5000] :\n"
     ]
    },
    {
     "name": "stderr",
     "output_type": "stream",
     "text": [
      "100%|██████████| 196/196 [00:09<00:00, 21.04it/s]\n"
     ]
    },
    {
     "name": "stdout",
     "output_type": "stream",
     "text": [
      "Train Loss: 0.0047 | Train Acc: 67.50%\n",
      "Test  Loss: 1.1324 | Test Acc: 62.24%\n",
      "Saved PyTorch Model State to [logs/CIFAR10/MyResNet32_256_SGD.pth.tar]\n",
      "--------------------------------------------------\n",
      "[Epoch 8/5000] :\n"
     ]
    },
    {
     "name": "stderr",
     "output_type": "stream",
     "text": [
      "100%|██████████| 196/196 [00:09<00:00, 20.26it/s]\n"
     ]
    },
    {
     "name": "stdout",
     "output_type": "stream",
     "text": [
      "Train Loss: 0.0032 | Train Acc: 80.00%\n",
      "Test  Loss: 1.0242 | Test Acc: 64.89%\n",
      "Saved PyTorch Model State to [logs/CIFAR10/MyResNet32_256_SGD.pth.tar]\n",
      "--------------------------------------------------\n",
      "[Epoch 9/5000] :\n"
     ]
    },
    {
     "name": "stderr",
     "output_type": "stream",
     "text": [
      "100%|██████████| 196/196 [00:12<00:00, 16.15it/s]\n"
     ]
    },
    {
     "name": "stdout",
     "output_type": "stream",
     "text": [
      "Train Loss: 0.0034 | Train Acc: 78.75%\n",
      "Test  Loss: 0.8742 | Test Acc: 70.36%\n",
      "Saved PyTorch Model State to [logs/CIFAR10/MyResNet32_256_SGD.pth.tar]\n",
      "--------------------------------------------------\n",
      "[Epoch 10/5000] :\n"
     ]
    },
    {
     "name": "stderr",
     "output_type": "stream",
     "text": [
      "100%|██████████| 196/196 [00:11<00:00, 16.83it/s]\n"
     ]
    },
    {
     "name": "stdout",
     "output_type": "stream",
     "text": [
      "Train Loss: 0.0026 | Train Acc: 80.00%\n",
      "Test  Loss: 0.9760 | Test Acc: 68.11%\n",
      "Saved PyTorch Model State to [logs/CIFAR10/MyResNet32_256_SGD.pth.tar]\n",
      "--------------------------------------------------\n",
      "[Epoch 11/5000] :\n"
     ]
    },
    {
     "name": "stderr",
     "output_type": "stream",
     "text": [
      "100%|██████████| 196/196 [00:10<00:00, 17.95it/s]\n"
     ]
    },
    {
     "name": "stdout",
     "output_type": "stream",
     "text": [
      "Train Loss: 0.0029 | Train Acc: 78.75%\n",
      "Test  Loss: 0.7942 | Test Acc: 73.65%\n",
      "Saved PyTorch Model State to [logs/CIFAR10/MyResNet32_256_SGD.pth.tar]\n",
      "--------------------------------------------------\n",
      "[Epoch 12/5000] :\n"
     ]
    },
    {
     "name": "stderr",
     "output_type": "stream",
     "text": [
      "100%|██████████| 196/196 [00:11<00:00, 16.52it/s]\n"
     ]
    },
    {
     "name": "stdout",
     "output_type": "stream",
     "text": [
      "Train Loss: 0.0030 | Train Acc: 72.50%\n",
      "Test  Loss: 0.7726 | Test Acc: 74.81%\n",
      "Saved PyTorch Model State to [logs/CIFAR10/MyResNet32_256_SGD.pth.tar]\n",
      "--------------------------------------------------\n",
      "[Epoch 13/5000] :\n"
     ]
    },
    {
     "name": "stderr",
     "output_type": "stream",
     "text": [
      "100%|██████████| 196/196 [00:11<00:00, 16.35it/s]\n"
     ]
    },
    {
     "name": "stdout",
     "output_type": "stream",
     "text": [
      "Train Loss: 0.0034 | Train Acc: 75.00%\n",
      "Test  Loss: 0.7154 | Test Acc: 76.10%\n",
      "Saved PyTorch Model State to [logs/CIFAR10/MyResNet32_256_SGD.pth.tar]\n",
      "--------------------------------------------------\n",
      "[Epoch 14/5000] :\n"
     ]
    },
    {
     "name": "stderr",
     "output_type": "stream",
     "text": [
      "100%|██████████| 196/196 [00:12<00:00, 15.76it/s]\n"
     ]
    },
    {
     "name": "stdout",
     "output_type": "stream",
     "text": [
      "Train Loss: 0.0013 | Train Acc: 92.50%\n",
      "Test  Loss: 0.6397 | Test Acc: 78.68%\n",
      "Saved PyTorch Model State to [logs/CIFAR10/MyResNet32_256_SGD.pth.tar]\n",
      "--------------------------------------------------\n",
      "[Epoch 15/5000] :\n"
     ]
    },
    {
     "name": "stderr",
     "output_type": "stream",
     "text": [
      "100%|██████████| 196/196 [00:11<00:00, 16.47it/s]\n"
     ]
    },
    {
     "name": "stdout",
     "output_type": "stream",
     "text": [
      "Train Loss: 0.0027 | Train Acc: 81.25%\n",
      "Test  Loss: 0.7073 | Test Acc: 76.25%\n",
      "Saved PyTorch Model State to [logs/CIFAR10/MyResNet32_256_SGD.pth.tar]\n",
      "--------------------------------------------------\n",
      "[Epoch 16/5000] :\n"
     ]
    },
    {
     "name": "stderr",
     "output_type": "stream",
     "text": [
      "100%|██████████| 196/196 [00:11<00:00, 16.40it/s]\n"
     ]
    },
    {
     "name": "stdout",
     "output_type": "stream",
     "text": [
      "Train Loss: 0.0021 | Train Acc: 86.25%\n",
      "Test  Loss: 0.7486 | Test Acc: 75.75%\n",
      "Saved PyTorch Model State to [logs/CIFAR10/MyResNet32_256_SGD.pth.tar]\n",
      "--------------------------------------------------\n",
      "[Epoch 17/5000] :\n"
     ]
    },
    {
     "name": "stderr",
     "output_type": "stream",
     "text": [
      "100%|██████████| 196/196 [00:11<00:00, 17.44it/s]\n"
     ]
    },
    {
     "name": "stdout",
     "output_type": "stream",
     "text": [
      "Train Loss: 0.0023 | Train Acc: 82.50%\n",
      "Test  Loss: 0.6977 | Test Acc: 77.72%\n",
      "Saved PyTorch Model State to [logs/CIFAR10/MyResNet32_256_SGD.pth.tar]\n",
      "--------------------------------------------------\n",
      "[Epoch 18/5000] :\n"
     ]
    },
    {
     "name": "stderr",
     "output_type": "stream",
     "text": [
      "100%|██████████| 196/196 [00:11<00:00, 16.53it/s]\n"
     ]
    },
    {
     "name": "stdout",
     "output_type": "stream",
     "text": [
      "Train Loss: 0.0023 | Train Acc: 82.50%\n",
      "Test  Loss: 0.6905 | Test Acc: 77.85%\n",
      "Saved PyTorch Model State to [logs/CIFAR10/MyResNet32_256_SGD.pth.tar]\n",
      "--------------------------------------------------\n",
      "[Epoch 19/5000] :\n"
     ]
    },
    {
     "name": "stderr",
     "output_type": "stream",
     "text": [
      "100%|██████████| 196/196 [00:12<00:00, 16.27it/s]\n"
     ]
    },
    {
     "name": "stdout",
     "output_type": "stream",
     "text": [
      "Train Loss: 0.0018 | Train Acc: 87.50%\n",
      "Test  Loss: 0.6521 | Test Acc: 78.28%\n",
      "Saved PyTorch Model State to [logs/CIFAR10/MyResNet32_256_SGD.pth.tar]\n",
      "--------------------------------------------------\n",
      "[Epoch 20/5000] :\n"
     ]
    },
    {
     "name": "stderr",
     "output_type": "stream",
     "text": [
      "100%|██████████| 196/196 [00:12<00:00, 16.05it/s]\n"
     ]
    },
    {
     "name": "stdout",
     "output_type": "stream",
     "text": [
      "Train Loss: 0.0018 | Train Acc: 88.75%\n",
      "Test  Loss: 0.8502 | Test Acc: 73.71%\n",
      "Saved PyTorch Model State to [logs/CIFAR10/MyResNet32_256_SGD.pth.tar]\n",
      "--------------------------------------------------\n",
      "[Epoch 21/5000] :\n"
     ]
    },
    {
     "name": "stderr",
     "output_type": "stream",
     "text": [
      "100%|██████████| 196/196 [00:11<00:00, 16.58it/s]\n"
     ]
    },
    {
     "name": "stdout",
     "output_type": "stream",
     "text": [
      "Train Loss: 0.0015 | Train Acc: 90.00%\n",
      "Test  Loss: 0.7288 | Test Acc: 76.87%\n",
      "Saved PyTorch Model State to [logs/CIFAR10/MyResNet32_256_SGD.pth.tar]\n",
      "--------------------------------------------------\n",
      "[Epoch 22/5000] :\n"
     ]
    },
    {
     "name": "stderr",
     "output_type": "stream",
     "text": [
      "100%|██████████| 196/196 [00:11<00:00, 16.35it/s]\n"
     ]
    },
    {
     "name": "stdout",
     "output_type": "stream",
     "text": [
      "Train Loss: 0.0021 | Train Acc: 81.25%\n",
      "Test  Loss: 0.6813 | Test Acc: 78.18%\n",
      "Saved PyTorch Model State to [logs/CIFAR10/MyResNet32_256_SGD.pth.tar]\n",
      "--------------------------------------------------\n",
      "[Epoch 23/5000] :\n"
     ]
    },
    {
     "name": "stderr",
     "output_type": "stream",
     "text": [
      "100%|██████████| 196/196 [00:11<00:00, 16.52it/s]\n"
     ]
    },
    {
     "name": "stdout",
     "output_type": "stream",
     "text": [
      "Train Loss: 0.0016 | Train Acc: 92.50%\n",
      "Test  Loss: 0.7420 | Test Acc: 76.89%\n",
      "Saved PyTorch Model State to [logs/CIFAR10/MyResNet32_256_SGD.pth.tar]\n",
      "--------------------------------------------------\n",
      "[Epoch 24/5000] :\n"
     ]
    },
    {
     "name": "stderr",
     "output_type": "stream",
     "text": [
      "100%|██████████| 196/196 [00:11<00:00, 16.47it/s]\n"
     ]
    },
    {
     "name": "stdout",
     "output_type": "stream",
     "text": [
      "Train Loss: 0.0017 | Train Acc: 86.25%\n",
      "Test  Loss: 0.8624 | Test Acc: 76.36%\n",
      "Saved PyTorch Model State to [logs/CIFAR10/MyResNet32_256_SGD.pth.tar]\n",
      "--------------------------------------------------\n",
      "[Epoch 25/5000] :\n"
     ]
    },
    {
     "name": "stderr",
     "output_type": "stream",
     "text": [
      "100%|██████████| 196/196 [00:11<00:00, 16.65it/s]\n"
     ]
    },
    {
     "name": "stdout",
     "output_type": "stream",
     "text": [
      "Train Loss: 0.0013 | Train Acc: 93.75%\n",
      "Test  Loss: 0.6462 | Test Acc: 80.57%\n",
      "Saved PyTorch Model State to [logs/CIFAR10/MyResNet32_256_SGD.pth.tar]\n",
      "--------------------------------------------------\n",
      "[Epoch 26/5000] :\n"
     ]
    },
    {
     "name": "stderr",
     "output_type": "stream",
     "text": [
      " 97%|█████████▋| 190/196 [00:11<00:00, 19.57it/s]"
     ]
    }
   ],
   "source": [
    "if \"Adam\" in OPTIMIZER:\n",
    "    Training = DoTraining(\n",
    "        model=model,\n",
    "        criterion=criterion,\n",
    "        optimizer=optimizer,\n",
    "        scaler=scaler,\n",
    "        scheduler=None,\n",
    "        device=device,\n",
    "        logs=logs,\n",
    "        file_path=file_path,\n",
    "    )\n",
    "else:\n",
    "    Training = DoTraining(\n",
    "        model=model,\n",
    "        criterion=criterion,\n",
    "        optimizer=optimizer,\n",
    "        scaler=scaler,\n",
    "        scheduler=scheduler,\n",
    "        device=device,\n",
    "        logs=logs,\n",
    "        file_path=file_path,\n",
    "    )\n",
    "pre_epochs = len(Training.logs[\"train_loss\"])\n",
    "\n",
    "for epoch in range(NUM_EPOCHS):\n",
    "    print(f\"[Epoch {epoch+1+pre_epochs}/{NUM_EPOCHS}] :\")\n",
    "\n",
    "    if DATASET == \"ImageNet2012\":\n",
    "        eval_loss = Training.SingleEpoch(train_dataloader, valid_dataloader)\n",
    "    else:\n",
    "        eval_loss = Training.SingleEpoch(\n",
    "            train_dataloader, valid_dataloader, test_dataloader\n",
    "        )\n",
    "\n",
    "    # Early stopping check\n",
    "    if eval_loss < best_val_loss:\n",
    "        best_val_loss = eval_loss\n",
    "        early_stop_counter = 0\n",
    "        torch.save(model.state_dict(), \"models/\" + file_path + \".pth\")\n",
    "\n",
    "    else:\n",
    "        early_stop_counter += 1\n",
    "        if early_stop_counter >= EARLYSTOPPINGPATIENCE:\n",
    "            print(f\"Early stopping after {epoch} epochs without improvement.\")\n",
    "            break\n",
    "\n",
    "    print(\"-\" * 50)"
   ]
  },
  {
   "cell_type": "markdown",
   "metadata": {},
   "source": [
    "## Training Results"
   ]
  },
  {
   "cell_type": "code",
   "execution_count": null,
   "metadata": {},
   "outputs": [
    {
     "data": {
      "image/png": "[encoded data removed]",
      "text/plain": [
       "<Figure size 1000x500 with 2 Axes>"
      ]
     },
     "metadata": {},
     "output_type": "display_data"
    }
   ],
   "source": [
    "fig, axs = plt.subplots(ncols=2, figsize=(10, 5))\n",
    "\n",
    "# 첫 번째 그래프: Training and Test Loss\n",
    "axs[0].plot(logs[\"train_loss\"], label=\"Training Loss\")\n",
    "axs[0].plot(logs[\"valid_loss\"], label=\"Validation Loss\")\n",
    "axs[0].plot(logs[\"test_loss\"], label=\"Test Loss\")\n",
    "axs[0].set_xlabel(\"Epoch\")\n",
    "axs[0].set_ylabel(\"Loss\")\n",
    "axs[0].set_title(\"Training, Validation and Test Loss\")\n",
    "axs[0].legend()\n",
    "\n",
    "# 두 번째 그래프: Training and Test Accuracy\n",
    "axs[1].plot(logs[\"train_acc\"], label=\"Training Accuracy\")\n",
    "axs[1].plot(logs[\"valid_acc\"], label=\"Validation Accuracy\")\n",
    "axs[1].plot(logs[\"test_acc\"], label=\"Test Accuracy\")\n",
    "axs[1].set_xlabel(\"Epoch\")\n",
    "axs[1].set_ylabel(\"Accuracy\")\n",
    "axs[1].set_title(\"Training, Validation and Test Accuracy\")\n",
    "axs[1].legend()\n",
    "\n",
    "# 그래프를 보여줍니다.\n",
    "plt.tight_layout()\n",
    "plt.show()"
   ]
  },
  {
   "cell_type": "code",
   "execution_count": null,
   "metadata": {},
   "outputs": [
    {
     "name": "stdout",
     "output_type": "stream",
     "text": [
      "8\n",
      "8\n",
      "0\n",
      "0\n",
      "8\n",
      "8\n"
     ]
    }
   ],
   "source": [
    "print(len(logs[\"train_loss\"]))\n",
    "print(len(logs[\"train_acc\"]))\n",
    "print(len(logs[\"valid_loss\"]))\n",
    "print(len(logs[\"valid_acc\"]))\n",
    "print(len(logs[\"test_loss\"]))\n",
    "print(len(logs[\"test_acc\"]))"
   ]
  },
  {
   "cell_type": "markdown",
   "metadata": {},
   "source": [
    "- 주피터노트북 output set\n",
    "- @tag:notebookOutputLayout"
   ]
  },
  {
   "cell_type": "markdown",
   "metadata": {},
   "source": []
  }
 ],
 "metadata": {
  "kernelspec": {
   "display_name": "base",
   "language": "python",
   "name": "python3"
  },
  "language_info": {
   "codemirror_mode": {
    "name": "ipython",
    "version": 3
   },
   "file_extension": ".py",
   "mimetype": "text/x-python",
   "name": "python",
   "nbconvert_exporter": "python",
   "pygments_lexer": "ipython3",
   "version": "3.11.5"
  }
 },
 "nbformat": 4,
 "nbformat_minor": 2
}
