{
 "cells": [
  {
   "cell_type": "markdown",
   "metadata": {},
   "source": [
    "# Import"
   ]
  },
  {
   "cell_type": "code",
   "execution_count": 1,
   "metadata": {},
   "outputs": [],
   "source": [
    "import torch\n",
    "from torch import nn\n",
    "from torch.optim.lr_scheduler import ReduceLROnPlateau\n",
    "from torch.utils.data import DataLoader\n",
    "from fvcore.nn import FlopCountAnalysis, flop_count_table\n",
    "import numpy as np\n",
    "import matplotlib.pyplot as plt\n",
    "import os\n",
    "\n",
    "####################################################\n",
    "from src.Mydataloader import LoadDataset\n",
    "from src.Mymodel import MyResNet34\n",
    "from src.Mymodel import MyResNet_CIFAR\n",
    "from src.Mytraining import DoTraining\n",
    "from src.LogViewer import LogViewer"
   ]
  },
  {
   "cell_type": "markdown",
   "metadata": {},
   "source": [
    "# Setup"
   ]
  },
  {
   "cell_type": "code",
   "execution_count": 2,
   "metadata": {},
   "outputs": [],
   "source": [
    "\"\"\"Dataset selection\"\"\"\n",
    "DATASET = \"CIFAR10\"\n",
    "# DATASET = \"CIFAR100\"\n",
    "# DATASET = \"ImageNet2012\"\n",
    "\n",
    "\"\"\"Model selection for CIFAR\"\"\"\n",
    "NUM_LAYERS_LEVEL = 5\n",
    "\n",
    "\"\"\"Dataset parameters\"\"\"\n",
    "BATCH = 256\n",
    "SHUFFLE = True\n",
    "NUMOFWORKERS = 8\n",
    "PIN_MEMORY = True\n",
    "SPLIT_RATIO = 0\n",
    "\"\"\"optimizer parameters\"\"\"\n",
    "OPTIMIZER = \"SGD\"\n",
    "# OPTIMIZER = \"Adam\"\n",
    "# OPTIMIZER = \"Adam_decay\"\n",
    "\n",
    "\"\"\"Learning rate scheduler parameters\"\"\"\n",
    "# LOAD_BEFORE_TRAINING = False\n",
    "LOAD_BEFORE_TRAINING = True\n",
    "NUM_EPOCHS = 100000\n",
    "\n",
    "\"\"\"Early stopping parameters\"\"\"\n",
    "EARLYSTOPPINGPATIENCE = 3000\n",
    "file_path = \"\"\n",
    "if DATASET == \"ImageNet2012\":\n",
    "    file_path = f\"{DATASET}/MyResNet34_{BATCH}_{OPTIMIZER}\"\n",
    "else:\n",
    "    file_path = f\"{DATASET}/MyResNet{NUM_LAYERS_LEVEL*6+2}_{BATCH}_{OPTIMIZER}\"\n",
    "    \n",
    "if SPLIT_RATIO != 0:\n",
    "    file_path += f\"_{int(SPLIT_RATIO*100)}\""
   ]
  },
  {
   "cell_type": "code",
   "execution_count": 3,
   "metadata": {},
   "outputs": [
    {
     "data": {
      "text/plain": [
       "'CIFAR10/MyResNet32_256_SGD'"
      ]
     },
     "execution_count": 3,
     "metadata": {},
     "output_type": "execute_result"
    }
   ],
   "source": [
    "file_path"
   ]
  },
  {
   "cell_type": "markdown",
   "metadata": {},
   "source": [
    "# Loading the dataset"
   ]
  },
  {
   "cell_type": "markdown",
   "metadata": {},
   "source": [
    "## Define Dateloader"
   ]
  },
  {
   "cell_type": "code",
   "execution_count": 4,
   "metadata": {},
   "outputs": [
    {
     "name": "stderr",
     "output_type": "stream",
     "text": [
      "/home/lee/anaconda3/lib/python3.11/site-packages/torchvision/transforms/v2/_deprecated.py:43: UserWarning: The transform `ToTensor()` is deprecated and will be removed in a future release. Instead, please use `v2.Compose([v2.ToImage(), v2.ToDtype(torch.float32, scale=True)])`.\n",
      "  warnings.warn(\n"
     ]
    },
    {
     "name": "stdout",
     "output_type": "stream",
     "text": [
      "-----------------------------------------------------------------------\n",
      "Dataset :  CIFAR10\n",
      "- Length of Train Set :  50000\n",
      "- Length of Test Set :  10000\n",
      "- Count of Classes :  10\n",
      "-----------------------------------------------------------------------\n"
     ]
    }
   ],
   "source": [
    "tmp = LoadDataset(root=\"data\", seceted_dataset=DATASET, split_ratio=SPLIT_RATIO)\n",
    "train_data, valid_data, test_data, COUNT_OF_CLASSES = tmp.Unpack()"
   ]
  },
  {
   "cell_type": "code",
   "execution_count": 5,
   "metadata": {},
   "outputs": [
    {
     "name": "stdout",
     "output_type": "stream",
     "text": [
      "train.transforms = Compose(\n",
      "      ToTensor()\n",
      "      Normalize(mean=[0.49139968, 0.48215827, 0.44653124], std=[1, 1, 1], inplace=True)\n",
      "      AutoAugment(interpolation=InterpolationMode.NEAREST, policy=AutoAugmentPolicy.CIFAR10)\n",
      "      RandomCrop(size=(32, 32), padding=[4, 4, 4, 4], pad_if_needed=False, fill=0, padding_mode=constant)\n",
      "      RandomHorizontalFlip(p=0.5)\n",
      ") 256\n",
      "test.transforms = ToTensor() 256\n"
     ]
    }
   ],
   "source": [
    "train_dataloader = DataLoader(\n",
    "    train_data,\n",
    "    batch_size=BATCH,\n",
    "    shuffle=SHUFFLE,\n",
    "    num_workers=NUMOFWORKERS,\n",
    "    pin_memory=PIN_MEMORY,\n",
    "    # pin_memory_device=\"cuda\",\n",
    "    persistent_workers=True,\n",
    ")\n",
    "print(\"train.transforms =\", train_data.transform, train_dataloader.batch_size)\n",
    "\n",
    "if SPLIT_RATIO != 0:\n",
    "    valid_dataloader = DataLoader(\n",
    "        valid_data,\n",
    "        batch_size=BATCH,\n",
    "        shuffle=SHUFFLE,\n",
    "        num_workers=NUMOFWORKERS,\n",
    "        pin_memory=PIN_MEMORY,\n",
    "        # pin_memory_device=\"cuda\",\n",
    "        persistent_workers=True,\n",
    "    )\n",
    "    print(\"valid.transforms =\", valid_data.transform, valid_dataloader.batch_size)\n",
    "elif SPLIT_RATIO == 0:\n",
    "    valid_dataloader = None\n",
    "\n",
    "test_dataloader = DataLoader(\n",
    "    test_data,\n",
    "    batch_size=BATCH,\n",
    "    shuffle=SHUFFLE,\n",
    "    num_workers=NUMOFWORKERS,\n",
    "    pin_memory=PIN_MEMORY,\n",
    "    # pin_memory_device=\"cuda\",\n",
    "    persistent_workers=True,\n",
    ")\n",
    "print(\"test.transforms =\", test_data.transform, test_dataloader.batch_size)"
   ]
  },
  {
   "cell_type": "markdown",
   "metadata": {},
   "source": [
    "## Confirm that the dataset is loaded properly"
   ]
  },
  {
   "cell_type": "code",
   "execution_count": 6,
   "metadata": {},
   "outputs": [
    {
     "name": "stdout",
     "output_type": "stream",
     "text": [
      "Shape of X [N, C, H, W]: torch.Size([256, 3, 32, 32])\n",
      "mean of X tensor([0.4882, 0.4763, 0.4405])\n",
      "Shape of y: torch.Size([256]) torch.int64\n"
     ]
    }
   ],
   "source": [
    "if DATASET != \"ImageNet2012\":\n",
    "    for X, y in test_dataloader:\n",
    "        print(f\"Shape of X [N, C, H, W]: {X.shape}\")\n",
    "        print(\"mean of X\", X.mean(dim=(0, 2, 3)))\n",
    "        print(f\"Shape of y: {y.shape} {y.dtype}\")\n",
    "        break"
   ]
  },
  {
   "cell_type": "code",
   "execution_count": 7,
   "metadata": {},
   "outputs": [
    {
     "data": {
      "image/png": "[encoded data removed]",
      "text/plain": [
       "<Figure size 800x400 with 10 Axes>"
      ]
     },
     "metadata": {},
     "output_type": "display_data"
    }
   ],
   "source": [
    "if DATASET != \"ImageNet2012\":\n",
    "    class_names = test_dataloader.dataset.classes\n",
    "    count = 0\n",
    "    fig, axs = plt.subplots(2, 5, figsize=(8, 4))\n",
    "\n",
    "    for images, labels in test_dataloader:\n",
    "        images = images.numpy()\n",
    "\n",
    "        for i in range(len(images)):\n",
    "            image = images[i]\n",
    "            label = labels[i]\n",
    "            image = np.transpose(image, (1, 2, 0))\n",
    "            image = np.clip(image, 0, 1)\n",
    "            ax = axs[count // 5, count % 5]\n",
    "            ax.imshow(image)\n",
    "            ax.set_title(f\"{class_names[label], label}\")\n",
    "            ax.axis('off')\n",
    "            count += 1\n",
    "            \n",
    "            if count == 10:\n",
    "                break\n",
    "        if count == 10:\n",
    "            break\n",
    "    plt.tight_layout()\n",
    "    plt.show()"
   ]
  },
  {
   "cell_type": "markdown",
   "metadata": {},
   "source": [
    "# Define ResNet"
   ]
  },
  {
   "cell_type": "markdown",
   "metadata": {},
   "source": [
    "## Model Confirm"
   ]
  },
  {
   "cell_type": "code",
   "execution_count": 8,
   "metadata": {},
   "outputs": [
    {
     "data": {
      "text/plain": [
       "device(type='cuda')"
      ]
     },
     "execution_count": 8,
     "metadata": {},
     "output_type": "execute_result"
    }
   ],
   "source": [
    "device = torch.device(\"cuda\" if torch.cuda.is_available() else \"cpu\")\n",
    "device"
   ]
  },
  {
   "cell_type": "code",
   "execution_count": 9,
   "metadata": {},
   "outputs": [
    {
     "name": "stdout",
     "output_type": "stream",
     "text": [
      "ResNet-32 for CIFAR10 is loaded.\n"
     ]
    }
   ],
   "source": [
    "if DATASET == \"CIFAR10\" or DATASET == \"CIFAR100\":\n",
    "    \"\"\"ResNet{20, 32, 44, 56, 110, 1202} for CIFAR\"\"\"\n",
    "    model = MyResNet_CIFAR(\n",
    "        num_classes=COUNT_OF_CLASSES,\n",
    "        num_layer_factor=NUM_LAYERS_LEVEL,\n",
    "        Downsample_option=\"A\",\n",
    "    ).to(device)\n",
    "    print(f\"ResNet-{5*6+2} for {DATASET} is loaded.\")\n",
    "\n",
    "elif DATASET == \"ImageNet2012\":\n",
    "    \"\"\"ResNet34 for ImageNet 2012\"\"\"\n",
    "    model = MyResNet34(\n",
    "        num_classes=COUNT_OF_CLASSES, \n",
    "        Downsample_option=\"A\"\n",
    "    ).to(device)\n",
    "    # model = models.resnet34(pretrained=True).to(device)\n",
    "    # model = models.resnet34(pretrained=False).to(device)\n",
    "    print(f\"ResNet-34 for {DATASET} is loaded.\")\n"
   ]
  },
  {
   "cell_type": "code",
   "execution_count": 10,
   "metadata": {},
   "outputs": [
    {
     "data": {
      "text/plain": [
       "<bound method Module.named_modules of MyResNet_CIFAR(\n",
       "  (single_conv32block): Sequential(\n",
       "    (0): Conv2d(3, 16, kernel_size=(3, 3), stride=(1, 1), padding=(1, 1), bias=False)\n",
       "    (1): BatchNorm2d(16, eps=1e-05, momentum=0.1, affine=True, track_running_stats=True)\n",
       "    (2): ReLU(inplace=True)\n",
       "  )\n",
       "  (conv32blocks): Sequential(\n",
       "    (0): Block(\n",
       "      (conv1): Conv2d(16, 16, kernel_size=(3, 3), stride=(1, 1), padding=(1, 1), bias=False)\n",
       "      (bn1): BatchNorm2d(16, eps=1e-05, momentum=0.1, affine=True, track_running_stats=True)\n",
       "      (relu): ReLU(inplace=True)\n",
       "      (conv2): Conv2d(16, 16, kernel_size=(3, 3), stride=(1, 1), padding=(1, 1), bias=False)\n",
       "      (bn2): BatchNorm2d(16, eps=1e-05, momentum=0.1, affine=True, track_running_stats=True)\n",
       "    )\n",
       "    (1): Block(\n",
       "      (conv1): Conv2d(16, 16, kernel_size=(3, 3), stride=(1, 1), padding=(1, 1), bias=False)\n",
       "      (bn1): BatchNorm2d(16, eps=1e-05, momentum=0.1, affine=True, track_running_stats=True)\n",
       "      (relu): ReLU(inplace=True)\n",
       "      (conv2): Conv2d(16, 16, kernel_size=(3, 3), stride=(1, 1), padding=(1, 1), bias=False)\n",
       "      (bn2): BatchNorm2d(16, eps=1e-05, momentum=0.1, affine=True, track_running_stats=True)\n",
       "    )\n",
       "    (2): Block(\n",
       "      (conv1): Conv2d(16, 16, kernel_size=(3, 3), stride=(1, 1), padding=(1, 1), bias=False)\n",
       "      (bn1): BatchNorm2d(16, eps=1e-05, momentum=0.1, affine=True, track_running_stats=True)\n",
       "      (relu): ReLU(inplace=True)\n",
       "      (conv2): Conv2d(16, 16, kernel_size=(3, 3), stride=(1, 1), padding=(1, 1), bias=False)\n",
       "      (bn2): BatchNorm2d(16, eps=1e-05, momentum=0.1, affine=True, track_running_stats=True)\n",
       "    )\n",
       "    (3): Block(\n",
       "      (conv1): Conv2d(16, 16, kernel_size=(3, 3), stride=(1, 1), padding=(1, 1), bias=False)\n",
       "      (bn1): BatchNorm2d(16, eps=1e-05, momentum=0.1, affine=True, track_running_stats=True)\n",
       "      (relu): ReLU(inplace=True)\n",
       "      (conv2): Conv2d(16, 16, kernel_size=(3, 3), stride=(1, 1), padding=(1, 1), bias=False)\n",
       "      (bn2): BatchNorm2d(16, eps=1e-05, momentum=0.1, affine=True, track_running_stats=True)\n",
       "    )\n",
       "    (4): Block(\n",
       "      (conv1): Conv2d(16, 16, kernel_size=(3, 3), stride=(1, 1), padding=(1, 1), bias=False)\n",
       "      (bn1): BatchNorm2d(16, eps=1e-05, momentum=0.1, affine=True, track_running_stats=True)\n",
       "      (relu): ReLU(inplace=True)\n",
       "      (conv2): Conv2d(16, 16, kernel_size=(3, 3), stride=(1, 1), padding=(1, 1), bias=False)\n",
       "      (bn2): BatchNorm2d(16, eps=1e-05, momentum=0.1, affine=True, track_running_stats=True)\n",
       "    )\n",
       "  )\n",
       "  (conv16blocks): Sequential(\n",
       "    (0): Block(\n",
       "      (conv1): Conv2d(16, 32, kernel_size=(3, 3), stride=2, padding=(1, 1), bias=False)\n",
       "      (bn1): BatchNorm2d(32, eps=1e-05, momentum=0.1, affine=True, track_running_stats=True)\n",
       "      (relu): ReLU(inplace=True)\n",
       "      (conv2): Conv2d(32, 32, kernel_size=(3, 3), stride=(1, 1), padding=(1, 1), bias=False)\n",
       "      (bn2): BatchNorm2d(32, eps=1e-05, momentum=0.1, affine=True, track_running_stats=True)\n",
       "    )\n",
       "    (1): Block(\n",
       "      (conv1): Conv2d(32, 32, kernel_size=(3, 3), stride=(1, 1), padding=(1, 1), bias=False)\n",
       "      (bn1): BatchNorm2d(32, eps=1e-05, momentum=0.1, affine=True, track_running_stats=True)\n",
       "      (relu): ReLU(inplace=True)\n",
       "      (conv2): Conv2d(32, 32, kernel_size=(3, 3), stride=(1, 1), padding=(1, 1), bias=False)\n",
       "      (bn2): BatchNorm2d(32, eps=1e-05, momentum=0.1, affine=True, track_running_stats=True)\n",
       "    )\n",
       "    (2): Block(\n",
       "      (conv1): Conv2d(32, 32, kernel_size=(3, 3), stride=(1, 1), padding=(1, 1), bias=False)\n",
       "      (bn1): BatchNorm2d(32, eps=1e-05, momentum=0.1, affine=True, track_running_stats=True)\n",
       "      (relu): ReLU(inplace=True)\n",
       "      (conv2): Conv2d(32, 32, kernel_size=(3, 3), stride=(1, 1), padding=(1, 1), bias=False)\n",
       "      (bn2): BatchNorm2d(32, eps=1e-05, momentum=0.1, affine=True, track_running_stats=True)\n",
       "    )\n",
       "    (3): Block(\n",
       "      (conv1): Conv2d(32, 32, kernel_size=(3, 3), stride=(1, 1), padding=(1, 1), bias=False)\n",
       "      (bn1): BatchNorm2d(32, eps=1e-05, momentum=0.1, affine=True, track_running_stats=True)\n",
       "      (relu): ReLU(inplace=True)\n",
       "      (conv2): Conv2d(32, 32, kernel_size=(3, 3), stride=(1, 1), padding=(1, 1), bias=False)\n",
       "      (bn2): BatchNorm2d(32, eps=1e-05, momentum=0.1, affine=True, track_running_stats=True)\n",
       "    )\n",
       "    (4): Block(\n",
       "      (conv1): Conv2d(32, 32, kernel_size=(3, 3), stride=(1, 1), padding=(1, 1), bias=False)\n",
       "      (bn1): BatchNorm2d(32, eps=1e-05, momentum=0.1, affine=True, track_running_stats=True)\n",
       "      (relu): ReLU(inplace=True)\n",
       "      (conv2): Conv2d(32, 32, kernel_size=(3, 3), stride=(1, 1), padding=(1, 1), bias=False)\n",
       "      (bn2): BatchNorm2d(32, eps=1e-05, momentum=0.1, affine=True, track_running_stats=True)\n",
       "    )\n",
       "  )\n",
       "  (conv8blocks): Sequential(\n",
       "    (0): Block(\n",
       "      (conv1): Conv2d(32, 64, kernel_size=(3, 3), stride=2, padding=(1, 1), bias=False)\n",
       "      (bn1): BatchNorm2d(64, eps=1e-05, momentum=0.1, affine=True, track_running_stats=True)\n",
       "      (relu): ReLU(inplace=True)\n",
       "      (conv2): Conv2d(64, 64, kernel_size=(3, 3), stride=(1, 1), padding=(1, 1), bias=False)\n",
       "      (bn2): BatchNorm2d(64, eps=1e-05, momentum=0.1, affine=True, track_running_stats=True)\n",
       "    )\n",
       "    (1): Block(\n",
       "      (conv1): Conv2d(64, 64, kernel_size=(3, 3), stride=(1, 1), padding=(1, 1), bias=False)\n",
       "      (bn1): BatchNorm2d(64, eps=1e-05, momentum=0.1, affine=True, track_running_stats=True)\n",
       "      (relu): ReLU(inplace=True)\n",
       "      (conv2): Conv2d(64, 64, kernel_size=(3, 3), stride=(1, 1), padding=(1, 1), bias=False)\n",
       "      (bn2): BatchNorm2d(64, eps=1e-05, momentum=0.1, affine=True, track_running_stats=True)\n",
       "    )\n",
       "    (2): Block(\n",
       "      (conv1): Conv2d(64, 64, kernel_size=(3, 3), stride=(1, 1), padding=(1, 1), bias=False)\n",
       "      (bn1): BatchNorm2d(64, eps=1e-05, momentum=0.1, affine=True, track_running_stats=True)\n",
       "      (relu): ReLU(inplace=True)\n",
       "      (conv2): Conv2d(64, 64, kernel_size=(3, 3), stride=(1, 1), padding=(1, 1), bias=False)\n",
       "      (bn2): BatchNorm2d(64, eps=1e-05, momentum=0.1, affine=True, track_running_stats=True)\n",
       "    )\n",
       "    (3): Block(\n",
       "      (conv1): Conv2d(64, 64, kernel_size=(3, 3), stride=(1, 1), padding=(1, 1), bias=False)\n",
       "      (bn1): BatchNorm2d(64, eps=1e-05, momentum=0.1, affine=True, track_running_stats=True)\n",
       "      (relu): ReLU(inplace=True)\n",
       "      (conv2): Conv2d(64, 64, kernel_size=(3, 3), stride=(1, 1), padding=(1, 1), bias=False)\n",
       "      (bn2): BatchNorm2d(64, eps=1e-05, momentum=0.1, affine=True, track_running_stats=True)\n",
       "    )\n",
       "    (4): Block(\n",
       "      (conv1): Conv2d(64, 64, kernel_size=(3, 3), stride=(1, 1), padding=(1, 1), bias=False)\n",
       "      (bn1): BatchNorm2d(64, eps=1e-05, momentum=0.1, affine=True, track_running_stats=True)\n",
       "      (relu): ReLU(inplace=True)\n",
       "      (conv2): Conv2d(64, 64, kernel_size=(3, 3), stride=(1, 1), padding=(1, 1), bias=False)\n",
       "      (bn2): BatchNorm2d(64, eps=1e-05, momentum=0.1, affine=True, track_running_stats=True)\n",
       "    )\n",
       "  )\n",
       "  (avgpool): AdaptiveAvgPool2d(output_size=(1, 1))\n",
       "  (fc1): Linear(in_features=64, out_features=10, bias=True)\n",
       ")>"
      ]
     },
     "execution_count": 10,
     "metadata": {},
     "output_type": "execute_result"
    }
   ],
   "source": [
    "model.named_modules"
   ]
  },
  {
   "cell_type": "code",
   "execution_count": 11,
   "metadata": {},
   "outputs": [
    {
     "name": "stdout",
     "output_type": "stream",
     "text": [
      "| module                         | #parameters or shape   | #flops     |\n",
      "|:-------------------------------|:-----------------------|:-----------|\n",
      "| model                          | 0.464M                 | 18.018G    |\n",
      "|  single_conv32block            |  0.464K                |  0.134G    |\n",
      "|   single_conv32block.0         |   0.432K               |   0.113G   |\n",
      "|    single_conv32block.0.weight |    (16, 3, 3, 3)       |            |\n",
      "|   single_conv32block.1         |   32                   |   20.972M  |\n",
      "|    single_conv32block.1.weight |    (16,)               |            |\n",
      "|    single_conv32block.1.bias   |    (16,)               |            |\n",
      "|  conv32blocks                  |  23.36K                |  6.25G     |\n",
      "|   conv32blocks.0               |   4.672K               |   1.25G    |\n",
      "|    conv32blocks.0.conv1        |    2.304K              |    0.604G  |\n",
      "|    conv32blocks.0.bn1          |    32                  |    20.972M |\n",
      "|    conv32blocks.0.conv2        |    2.304K              |    0.604G  |\n",
      "|    conv32blocks.0.bn2          |    32                  |    20.972M |\n",
      "|   conv32blocks.1               |   4.672K               |   1.25G    |\n",
      "|    conv32blocks.1.conv1        |    2.304K              |    0.604G  |\n",
      "|    conv32blocks.1.bn1          |    32                  |    20.972M |\n",
      "|    conv32blocks.1.conv2        |    2.304K              |    0.604G  |\n",
      "|    conv32blocks.1.bn2          |    32                  |    20.972M |\n",
      "|   conv32blocks.2               |   4.672K               |   1.25G    |\n",
      "|    conv32blocks.2.conv1        |    2.304K              |    0.604G  |\n",
      "|    conv32blocks.2.bn1          |    32                  |    20.972M |\n",
      "|    conv32blocks.2.conv2        |    2.304K              |    0.604G  |\n",
      "|    conv32blocks.2.bn2          |    32                  |    20.972M |\n",
      "|   conv32blocks.3               |   4.672K               |   1.25G    |\n",
      "|    conv32blocks.3.conv1        |    2.304K              |    0.604G  |\n",
      "|    conv32blocks.3.bn1          |    32                  |    20.972M |\n",
      "|    conv32blocks.3.conv2        |    2.304K              |    0.604G  |\n",
      "|    conv32blocks.3.bn2          |    32                  |    20.972M |\n",
      "|   conv32blocks.4               |   4.672K               |   1.25G    |\n",
      "|    conv32blocks.4.conv1        |    2.304K              |    0.604G  |\n",
      "|    conv32blocks.4.bn1          |    32                  |    20.972M |\n",
      "|    conv32blocks.4.conv2        |    2.304K              |    0.604G  |\n",
      "|    conv32blocks.4.bn2          |    32                  |    20.972M |\n",
      "|  conv16blocks                  |  88.192K               |  5.843G    |\n",
      "|   conv16blocks.0               |   13.952K              |   0.927G   |\n",
      "|    conv16blocks.0.conv1        |    4.608K              |    0.302G  |\n",
      "|    conv16blocks.0.bn1          |    64                  |    10.486M |\n",
      "|    conv16blocks.0.conv2        |    9.216K              |    0.604G  |\n",
      "|    conv16blocks.0.bn2          |    64                  |    10.486M |\n",
      "|   conv16blocks.1               |   18.56K               |   1.229G   |\n",
      "|    conv16blocks.1.conv1        |    9.216K              |    0.604G  |\n",
      "|    conv16blocks.1.bn1          |    64                  |    10.486M |\n",
      "|    conv16blocks.1.conv2        |    9.216K              |    0.604G  |\n",
      "|    conv16blocks.1.bn2          |    64                  |    10.486M |\n",
      "|   conv16blocks.2               |   18.56K               |   1.229G   |\n",
      "|    conv16blocks.2.conv1        |    9.216K              |    0.604G  |\n",
      "|    conv16blocks.2.bn1          |    64                  |    10.486M |\n",
      "|    conv16blocks.2.conv2        |    9.216K              |    0.604G  |\n",
      "|    conv16blocks.2.bn2          |    64                  |    10.486M |\n",
      "|   conv16blocks.3               |   18.56K               |   1.229G   |\n",
      "|    conv16blocks.3.conv1        |    9.216K              |    0.604G  |\n",
      "|    conv16blocks.3.bn1          |    64                  |    10.486M |\n",
      "|    conv16blocks.3.conv2        |    9.216K              |    0.604G  |\n",
      "|    conv16blocks.3.bn2          |    64                  |    10.486M |\n",
      "|   conv16blocks.4               |   18.56K               |   1.229G   |\n",
      "|    conv16blocks.4.conv1        |    9.216K              |    0.604G  |\n",
      "|    conv16blocks.4.bn1          |    64                  |    10.486M |\n",
      "|    conv16blocks.4.conv2        |    9.216K              |    0.604G  |\n",
      "|    conv16blocks.4.bn2          |    64                  |    10.486M |\n",
      "|  conv8blocks                   |  0.351M                |  5.79G     |\n",
      "|   conv8blocks.0                |   55.552K              |   0.916G   |\n",
      "|    conv8blocks.0.conv1         |    18.432K             |    0.302G  |\n",
      "|    conv8blocks.0.bn1           |    0.128K              |    5.243M  |\n",
      "|    conv8blocks.0.conv2         |    36.864K             |    0.604G  |\n",
      "|    conv8blocks.0.bn2           |    0.128K              |    5.243M  |\n",
      "|   conv8blocks.1                |   73.984K              |   1.218G   |\n",
      "|    conv8blocks.1.conv1         |    36.864K             |    0.604G  |\n",
      "|    conv8blocks.1.bn1           |    0.128K              |    5.243M  |\n",
      "|    conv8blocks.1.conv2         |    36.864K             |    0.604G  |\n",
      "|    conv8blocks.1.bn2           |    0.128K              |    5.243M  |\n",
      "|   conv8blocks.2                |   73.984K              |   1.218G   |\n",
      "|    conv8blocks.2.conv1         |    36.864K             |    0.604G  |\n",
      "|    conv8blocks.2.bn1           |    0.128K              |    5.243M  |\n",
      "|    conv8blocks.2.conv2         |    36.864K             |    0.604G  |\n",
      "|    conv8blocks.2.bn2           |    0.128K              |    5.243M  |\n",
      "|   conv8blocks.3                |   73.984K              |   1.218G   |\n",
      "|    conv8blocks.3.conv1         |    36.864K             |    0.604G  |\n",
      "|    conv8blocks.3.bn1           |    0.128K              |    5.243M  |\n",
      "|    conv8blocks.3.conv2         |    36.864K             |    0.604G  |\n",
      "|    conv8blocks.3.bn2           |    0.128K              |    5.243M  |\n",
      "|   conv8blocks.4                |   73.984K              |   1.218G   |\n",
      "|    conv8blocks.4.conv1         |    36.864K             |    0.604G  |\n",
      "|    conv8blocks.4.bn1           |    0.128K              |    5.243M  |\n",
      "|    conv8blocks.4.conv2         |    36.864K             |    0.604G  |\n",
      "|    conv8blocks.4.bn2           |    0.128K              |    5.243M  |\n",
      "|  fc1                           |  0.65K                 |  0.164M    |\n",
      "|   fc1.weight                   |   (10, 64)             |            |\n",
      "|   fc1.bias                     |   (10,)                |            |\n",
      "|  avgpool                       |                        |  1.049M    |\n"
     ]
    }
   ],
   "source": [
    "tmp_input = torch.rand(BATCH, 3, 32, 32).to(device)\n",
    "flops = FlopCountAnalysis(model, tmp_input)\n",
    "print(flop_count_table(flops))"
   ]
  },
  {
   "cell_type": "markdown",
   "metadata": {},
   "source": [
    "# Define Training"
   ]
  },
  {
   "cell_type": "markdown",
   "metadata": {},
   "source": [
    "## (1) Define Criterion"
   ]
  },
  {
   "cell_type": "code",
   "execution_count": 12,
   "metadata": {},
   "outputs": [],
   "source": [
    "criterion = nn.CrossEntropyLoss()"
   ]
  },
  {
   "cell_type": "markdown",
   "metadata": {},
   "source": [
    "## (2) Define Optimazer"
   ]
  },
  {
   "cell_type": "code",
   "execution_count": 13,
   "metadata": {},
   "outputs": [],
   "source": [
    "if OPTIMIZER == \"Adam\":\n",
    "    optimizer = torch.optim.Adam(model.parameters())\n",
    "elif OPTIMIZER == \"Adam_decay\":\n",
    "    optimizer = torch.optim.Adam(model.parameters(), weight_decay=1e-4)\n",
    "elif OPTIMIZER == \"SGD\":\n",
    "    optimizer = torch.optim.SGD(\n",
    "        model.parameters(), lr=0.1, momentum=0.9, weight_decay=0.0001\n",
    "    )"
   ]
  },
  {
   "cell_type": "markdown",
   "metadata": {},
   "source": [
    "## (3) Define Early Stopping"
   ]
  },
  {
   "cell_type": "code",
   "execution_count": 14,
   "metadata": {},
   "outputs": [],
   "source": [
    "class EarlyStopper:\n",
    "    def __init__(self, patience, model, file_path):\n",
    "        self.best_eval_loss = float(\"inf\")\n",
    "        self.early_stop_counter = 0\n",
    "        self.PATIENCE = patience\n",
    "        self.file_path = file_path\n",
    "        self.model = model\n",
    "        pass\n",
    "\n",
    "    def check(self, eval_loss):\n",
    "        if eval_loss < self.best_eval_loss:\n",
    "            self.best_eval_loss = eval_loss\n",
    "            self.early_stop_counter = 0\n",
    "            print(\"updated best eval loss :\", self.best_eval_loss)\n",
    "            torch.save(self.model.state_dict(), \"models/\" + self.file_path + \".pth\")\n",
    "            return False\n",
    "        else:\n",
    "            self.early_stop_counter += 1\n",
    "            if self.early_stop_counter >= self.PATIENCE:\n",
    "                print(f\"Early stop!! best_eval_loss = {self.best_eval_loss}\")\n",
    "                return True\n",
    "                \n",
    "    def state_dict(self):\n",
    "        return {\"best_eval_loss\": self.best_eval_loss, \"early_stop_counter\": self.early_stop_counter}\n",
    "    \n",
    "    def load_state_dict(self, state_dict):\n",
    "        self.best_eval_loss = state_dict[\"best_eval_loss\"]\n",
    "        self.early_stop_counter = state_dict[\"early_stop_counter\"]\n",
    "        \n",
    "        return\n",
    "    \n",
    "earlystopper = EarlyStopper(EARLYSTOPPINGPATIENCE, model, file_path)"
   ]
  },
  {
   "cell_type": "markdown",
   "metadata": {},
   "source": [
    "## (4) Define Learning Rate schedualer"
   ]
  },
  {
   "cell_type": "code",
   "execution_count": 15,
   "metadata": {},
   "outputs": [],
   "source": [
    "scheduler_mapping = {\"CIFAR10\": 1000, \"CIFAR100\": 1000, \"ImageNet2012\": 30}\n",
    "\n",
    "scheduler = ReduceLROnPlateau(\n",
    "    optimizer,\n",
    "    mode=\"min\",\n",
    "    patience=scheduler_mapping[DATASET],\n",
    "    factor=0.1,\n",
    "    verbose=True,\n",
    "    threshold=1e-4,\n",
    "    cooldown=100\n",
    ")"
   ]
  },
  {
   "cell_type": "markdown",
   "metadata": {},
   "source": [
    "## (5) Define AMP scaler"
   ]
  },
  {
   "cell_type": "code",
   "execution_count": 16,
   "metadata": {},
   "outputs": [],
   "source": [
    "scaler = torch.cuda.amp.GradScaler(enabled=True)"
   ]
  },
  {
   "cell_type": "markdown",
   "metadata": {},
   "source": [
    "## Load before process"
   ]
  },
  {
   "cell_type": "code",
   "execution_count": 17,
   "metadata": {},
   "outputs": [
    {
     "name": "stdout",
     "output_type": "stream",
     "text": [
      "File does not exist. Created a new log.\n"
     ]
    }
   ],
   "source": [
    "scaler = torch.cuda.amp.GradScaler(enabled=True)\n",
    "\n",
    "if LOAD_BEFORE_TRAINING == True and os.path.exists(\"logs/\" + file_path + \".pth.tar\"):\n",
    "    # Read checkpoint as desired, e.g.,\n",
    "    checkpoint = torch.load(\n",
    "        \"logs/\" + file_path + \".pth.tar\",\n",
    "        map_location=lambda storage, loc: storage.cuda(device),\n",
    "    )\n",
    "    model.load_state_dict(checkpoint[\"model\"])\n",
    "    optimizer.load_state_dict(checkpoint[\"optimizer\"])\n",
    "    scaler.load_state_dict(checkpoint[\"scaler\"])\n",
    "    scheduler.load_state_dict(checkpoint[\"scheduler\"])\n",
    "    earlystopper.load_state_dict(checkpoint[\"earlystopper\"])\n",
    "    logs = checkpoint[\"logs\"]\n",
    "\n",
    "    print(\"Suceessfully loaded the All setting and Log file.\")\n",
    "    print(file_path)\n",
    "    print(f\"Current epoch is {len(logs['train_loss'])}\")\n",
    "    print(f\"Current learning rate: {optimizer.param_groups[0]['lr']}\")\n",
    "else:\n",
    "    # Create a dictionary to store the variables\n",
    "    train_loss = []\n",
    "    train_acc = []\n",
    "    eval_loss = []\n",
    "    valid_acc = []\n",
    "    test_loss = []\n",
    "    test_acc = []\n",
    "    lr_log = []\n",
    "    logs = {\n",
    "        \"train_loss\": train_loss,\n",
    "        \"train_acc\": train_acc,\n",
    "        \"valid_loss\": eval_loss,\n",
    "        \"valid_acc\": valid_acc,\n",
    "        \"test_loss\": test_loss,\n",
    "        \"test_acc\": test_acc,\n",
    "        \"lr_log\": lr_log,\n",
    "    }\n",
    "    print(\"File does not exist. Created a new log.\")"
   ]
  },
  {
   "cell_type": "code",
   "execution_count": 18,
   "metadata": {},
   "outputs": [
    {
     "data": {
      "text/plain": [
       "0.1"
      ]
     },
     "execution_count": 18,
     "metadata": {},
     "output_type": "execute_result"
    }
   ],
   "source": [
    "optimizer.param_groups[0][\"lr\"]"
   ]
  },
  {
   "cell_type": "markdown",
   "metadata": {},
   "source": [
    "# [Training Loop]"
   ]
  },
  {
   "cell_type": "code",
   "execution_count": 19,
   "metadata": {},
   "outputs": [
    {
     "name": "stdout",
     "output_type": "stream",
     "text": [
      "[Epoch 1/100000] :\n"
     ]
    },
    {
     "name": "stderr",
     "output_type": "stream",
     "text": [
      "100%|██████████| 196/196 [00:05<00:00, 38.09it/s]\n"
     ]
    },
    {
     "name": "stdout",
     "output_type": "stream",
     "text": [
      "Train Loss: 0.0111 | Train Acc: 18.75%\n",
      "Test  Loss: 2.1625 | Test Acc: 18.33%\n",
      "updated best eval loss : 2.162518972158432\n",
      "--------------------------------------------------\n",
      "[Epoch 2/100000] :\n"
     ]
    },
    {
     "name": "stderr",
     "output_type": "stream",
     "text": [
      "100%|██████████| 196/196 [00:07<00:00, 27.47it/s]\n"
     ]
    },
    {
     "name": "stdout",
     "output_type": "stream",
     "text": [
      "Train Loss: 0.0096 | Train Acc: 28.75%\n",
      "Test  Loss: 1.9983 | Test Acc: 27.47%\n",
      "updated best eval loss : 1.9982523679733277\n",
      "--------------------------------------------------\n",
      "[Epoch 3/100000] :\n"
     ]
    },
    {
     "name": "stderr",
     "output_type": "stream",
     "text": [
      "100%|██████████| 196/196 [00:07<00:00, 26.23it/s]\n"
     ]
    },
    {
     "name": "stdout",
     "output_type": "stream",
     "text": [
      "Train Loss: 0.0095 | Train Acc: 33.75%\n",
      "Test  Loss: 2.2136 | Test Acc: 25.40%\n",
      "--------------------------------------------------\n",
      "[Epoch 4/100000] :\n"
     ]
    },
    {
     "name": "stderr",
     "output_type": "stream",
     "text": [
      "100%|██████████| 196/196 [00:06<00:00, 28.45it/s]\n"
     ]
    },
    {
     "name": "stdout",
     "output_type": "stream",
     "text": [
      "Train Loss: 0.0082 | Train Acc: 42.50%\n",
      "Test  Loss: 1.7073 | Test Acc: 40.02%\n",
      "updated best eval loss : 1.7072778820991517\n",
      "--------------------------------------------------\n",
      "[Epoch 5/100000] :\n"
     ]
    },
    {
     "name": "stderr",
     "output_type": "stream",
     "text": [
      "100%|██████████| 196/196 [00:07<00:00, 25.01it/s]\n"
     ]
    },
    {
     "name": "stdout",
     "output_type": "stream",
     "text": [
      "Train Loss: 0.0080 | Train Acc: 42.50%\n",
      "Test  Loss: 1.3336 | Test Acc: 52.64%\n",
      "updated best eval loss : 1.3335732519626617\n",
      "--------------------------------------------------\n",
      "[Epoch 6/100000] :\n"
     ]
    },
    {
     "name": "stderr",
     "output_type": "stream",
     "text": [
      "100%|██████████| 196/196 [00:07<00:00, 28.00it/s]\n"
     ]
    },
    {
     "name": "stdout",
     "output_type": "stream",
     "text": [
      "Train Loss: 0.0068 | Train Acc: 48.75%\n",
      "Test  Loss: 1.2601 | Test Acc: 56.34%\n",
      "updated best eval loss : 1.260052067041397\n",
      "--------------------------------------------------\n",
      "[Epoch 7/100000] :\n"
     ]
    },
    {
     "name": "stderr",
     "output_type": "stream",
     "text": [
      "100%|██████████| 196/196 [00:07<00:00, 24.93it/s]\n"
     ]
    },
    {
     "name": "stdout",
     "output_type": "stream",
     "text": [
      "Train Loss: 0.0059 | Train Acc: 57.50%\n",
      "Test  Loss: 1.0625 | Test Acc: 63.04%\n",
      "updated best eval loss : 1.062529706954956\n",
      "--------------------------------------------------\n",
      "[Epoch 8/100000] :\n"
     ]
    },
    {
     "name": "stderr",
     "output_type": "stream",
     "text": [
      "100%|██████████| 196/196 [00:07<00:00, 27.07it/s]\n"
     ]
    },
    {
     "name": "stdout",
     "output_type": "stream",
     "text": [
      "Train Loss: 0.0053 | Train Acc: 60.00%\n",
      "Test  Loss: 0.8402 | Test Acc: 70.60%\n",
      "updated best eval loss : 0.8401910796761513\n",
      "--------------------------------------------------\n",
      "[Epoch 9/100000] :\n"
     ]
    },
    {
     "name": "stderr",
     "output_type": "stream",
     "text": [
      "100%|██████████| 196/196 [00:07<00:00, 26.48it/s]\n"
     ]
    },
    {
     "name": "stdout",
     "output_type": "stream",
     "text": [
      "Train Loss: 0.0044 | Train Acc: 65.00%\n",
      "Test  Loss: 0.9675 | Test Acc: 66.98%\n",
      "--------------------------------------------------\n",
      "[Epoch 10/100000] :\n"
     ]
    },
    {
     "name": "stderr",
     "output_type": "stream",
     "text": [
      "100%|██████████| 196/196 [00:07<00:00, 25.62it/s]\n"
     ]
    },
    {
     "name": "stdout",
     "output_type": "stream",
     "text": [
      "Train Loss: 0.0045 | Train Acc: 68.75%\n",
      "Test  Loss: 0.7901 | Test Acc: 72.32%\n",
      "updated best eval loss : 0.7901070177555084\n",
      "--------------------------------------------------\n",
      "[Epoch 11/100000] :\n"
     ]
    },
    {
     "name": "stderr",
     "output_type": "stream",
     "text": [
      "100%|██████████| 196/196 [00:06<00:00, 28.04it/s]\n"
     ]
    },
    {
     "name": "stdout",
     "output_type": "stream",
     "text": [
      "Train Loss: 0.0063 | Train Acc: 61.25%\n",
      "Test  Loss: 0.8964 | Test Acc: 69.87%\n",
      "--------------------------------------------------\n",
      "[Epoch 12/100000] :\n"
     ]
    },
    {
     "name": "stderr",
     "output_type": "stream",
     "text": [
      "100%|██████████| 196/196 [00:07<00:00, 26.46it/s]\n"
     ]
    },
    {
     "name": "stdout",
     "output_type": "stream",
     "text": [
      "Train Loss: 0.0044 | Train Acc: 80.00%\n",
      "Test  Loss: 0.7577 | Test Acc: 74.65%\n",
      "updated best eval loss : 0.7577084854245186\n",
      "--------------------------------------------------\n",
      "[Epoch 13/100000] :\n"
     ]
    },
    {
     "name": "stderr",
     "output_type": "stream",
     "text": [
      "100%|██████████| 196/196 [00:07<00:00, 27.63it/s]\n"
     ]
    },
    {
     "name": "stdout",
     "output_type": "stream",
     "text": [
      "Train Loss: 0.0034 | Train Acc: 77.50%\n",
      "Test  Loss: 0.7741 | Test Acc: 74.35%\n",
      "--------------------------------------------------\n",
      "[Epoch 14/100000] :\n"
     ]
    },
    {
     "name": "stderr",
     "output_type": "stream",
     "text": [
      "100%|██████████| 196/196 [00:07<00:00, 25.07it/s]\n"
     ]
    },
    {
     "name": "stdout",
     "output_type": "stream",
     "text": [
      "Train Loss: 0.0036 | Train Acc: 75.00%\n",
      "Test  Loss: 0.6640 | Test Acc: 76.91%\n",
      "updated best eval loss : 0.6640306249260902\n",
      "--------------------------------------------------\n",
      "[Epoch 15/100000] :\n"
     ]
    },
    {
     "name": "stderr",
     "output_type": "stream",
     "text": [
      "100%|██████████| 196/196 [00:07<00:00, 26.24it/s]\n"
     ]
    },
    {
     "name": "stdout",
     "output_type": "stream",
     "text": [
      "Train Loss: 0.0058 | Train Acc: 58.75%\n",
      "Test  Loss: 0.6884 | Test Acc: 76.85%\n",
      "--------------------------------------------------\n",
      "[Epoch 16/100000] :\n"
     ]
    },
    {
     "name": "stderr",
     "output_type": "stream",
     "text": [
      "100%|██████████| 196/196 [00:07<00:00, 26.01it/s]\n"
     ]
    },
    {
     "name": "stdout",
     "output_type": "stream",
     "text": [
      "Train Loss: 0.0049 | Train Acc: 65.00%\n",
      "Test  Loss: 0.7129 | Test Acc: 75.36%\n",
      "--------------------------------------------------\n",
      "[Epoch 17/100000] :\n"
     ]
    },
    {
     "name": "stderr",
     "output_type": "stream",
     "text": [
      "100%|██████████| 196/196 [00:07<00:00, 26.13it/s]\n"
     ]
    },
    {
     "name": "stdout",
     "output_type": "stream",
     "text": [
      "Train Loss: 0.0045 | Train Acc: 67.50%\n",
      "Test  Loss: 0.6292 | Test Acc: 78.54%\n",
      "updated best eval loss : 0.6291769005358219\n",
      "--------------------------------------------------\n",
      "[Epoch 18/100000] :\n"
     ]
    },
    {
     "name": "stderr",
     "output_type": "stream",
     "text": [
      "100%|██████████| 196/196 [00:06<00:00, 28.03it/s]\n"
     ]
    },
    {
     "name": "stdout",
     "output_type": "stream",
     "text": [
      "Train Loss: 0.0034 | Train Acc: 81.25%\n",
      "Test  Loss: 0.6409 | Test Acc: 77.60%\n",
      "--------------------------------------------------\n",
      "[Epoch 19/100000] :\n"
     ]
    },
    {
     "name": "stderr",
     "output_type": "stream",
     "text": [
      "100%|██████████| 196/196 [00:07<00:00, 26.23it/s]\n"
     ]
    },
    {
     "name": "stdout",
     "output_type": "stream",
     "text": [
      "Train Loss: 0.0032 | Train Acc: 76.25%\n",
      "Test  Loss: 0.9851 | Test Acc: 69.83%\n",
      "--------------------------------------------------\n",
      "[Epoch 20/100000] :\n"
     ]
    },
    {
     "name": "stderr",
     "output_type": "stream",
     "text": [
      "100%|██████████| 196/196 [00:07<00:00, 27.10it/s]\n"
     ]
    },
    {
     "name": "stdout",
     "output_type": "stream",
     "text": [
      "Train Loss: 0.0036 | Train Acc: 77.50%\n",
      "Test  Loss: 0.5876 | Test Acc: 80.20%\n",
      "updated best eval loss : 0.587640642374754\n",
      "--------------------------------------------------\n",
      "[Epoch 21/100000] :\n"
     ]
    },
    {
     "name": "stderr",
     "output_type": "stream",
     "text": [
      "100%|██████████| 196/196 [00:07<00:00, 25.89it/s]\n"
     ]
    },
    {
     "name": "stdout",
     "output_type": "stream",
     "text": [
      "Train Loss: 0.0039 | Train Acc: 75.00%\n",
      "Test  Loss: 0.7235 | Test Acc: 75.87%\n",
      "--------------------------------------------------\n",
      "[Epoch 22/100000] :\n"
     ]
    },
    {
     "name": "stderr",
     "output_type": "stream",
     "text": [
      "100%|██████████| 196/196 [00:07<00:00, 26.86it/s]\n"
     ]
    },
    {
     "name": "stdout",
     "output_type": "stream",
     "text": [
      "Train Loss: 0.0036 | Train Acc: 75.00%\n",
      "Test  Loss: 0.6029 | Test Acc: 79.32%\n",
      "--------------------------------------------------\n",
      "[Epoch 23/100000] :\n"
     ]
    },
    {
     "name": "stderr",
     "output_type": "stream",
     "text": [
      "100%|██████████| 196/196 [00:07<00:00, 26.75it/s]\n"
     ]
    },
    {
     "name": "stdout",
     "output_type": "stream",
     "text": [
      "Train Loss: 0.0035 | Train Acc: 76.25%\n",
      "Test  Loss: 0.8262 | Test Acc: 74.27%\n",
      "--------------------------------------------------\n",
      "[Epoch 24/100000] :\n"
     ]
    },
    {
     "name": "stderr",
     "output_type": "stream",
     "text": [
      "100%|██████████| 196/196 [00:06<00:00, 28.16it/s]\n"
     ]
    },
    {
     "name": "stdout",
     "output_type": "stream",
     "text": [
      "Train Loss: 0.0040 | Train Acc: 73.75%\n",
      "Test  Loss: 0.5958 | Test Acc: 79.93%\n",
      "--------------------------------------------------\n",
      "[Epoch 25/100000] :\n"
     ]
    },
    {
     "name": "stderr",
     "output_type": "stream",
     "text": [
      "100%|██████████| 196/196 [00:06<00:00, 29.74it/s]\n"
     ]
    },
    {
     "name": "stdout",
     "output_type": "stream",
     "text": [
      "Train Loss: 0.0037 | Train Acc: 72.50%\n",
      "Test  Loss: 0.6319 | Test Acc: 78.79%\n",
      "--------------------------------------------------\n",
      "[Epoch 26/100000] :\n"
     ]
    },
    {
     "name": "stderr",
     "output_type": "stream",
     "text": [
      "100%|██████████| 196/196 [00:07<00:00, 25.50it/s]\n"
     ]
    },
    {
     "name": "stdout",
     "output_type": "stream",
     "text": [
      "Train Loss: 0.0041 | Train Acc: 76.25%\n",
      "Test  Loss: 0.5252 | Test Acc: 82.15%\n",
      "updated best eval loss : 0.525245013833046\n",
      "--------------------------------------------------\n",
      "[Epoch 27/100000] :\n"
     ]
    },
    {
     "name": "stderr",
     "output_type": "stream",
     "text": [
      "100%|██████████| 196/196 [00:07<00:00, 26.29it/s]\n"
     ]
    },
    {
     "name": "stdout",
     "output_type": "stream",
     "text": [
      "Train Loss: 0.0037 | Train Acc: 75.00%\n",
      "Test  Loss: 0.5271 | Test Acc: 81.81%\n",
      "--------------------------------------------------\n",
      "[Epoch 28/100000] :\n"
     ]
    },
    {
     "name": "stderr",
     "output_type": "stream",
     "text": [
      "100%|██████████| 196/196 [00:07<00:00, 26.23it/s]\n"
     ]
    },
    {
     "name": "stdout",
     "output_type": "stream",
     "text": [
      "Train Loss: 0.0033 | Train Acc: 77.50%\n",
      "Test  Loss: 0.5121 | Test Acc: 82.46%\n",
      "updated best eval loss : 0.5120787359774113\n",
      "--------------------------------------------------\n",
      "[Epoch 29/100000] :\n"
     ]
    },
    {
     "name": "stderr",
     "output_type": "stream",
     "text": [
      "100%|██████████| 196/196 [00:07<00:00, 26.54it/s]\n"
     ]
    },
    {
     "name": "stdout",
     "output_type": "stream",
     "text": [
      "Train Loss: 0.0046 | Train Acc: 65.00%\n",
      "Test  Loss: 0.5569 | Test Acc: 81.44%\n",
      "--------------------------------------------------\n",
      "[Epoch 30/100000] :\n"
     ]
    },
    {
     "name": "stderr",
     "output_type": "stream",
     "text": [
      "100%|██████████| 196/196 [00:06<00:00, 28.11it/s]\n"
     ]
    },
    {
     "name": "stdout",
     "output_type": "stream",
     "text": [
      "Train Loss: 0.0043 | Train Acc: 63.75%\n",
      "Test  Loss: 0.4946 | Test Acc: 83.19%\n",
      "updated best eval loss : 0.49464104920625684\n",
      "--------------------------------------------------\n",
      "[Epoch 31/100000] :\n"
     ]
    },
    {
     "name": "stderr",
     "output_type": "stream",
     "text": [
      "100%|██████████| 196/196 [00:07<00:00, 25.68it/s]\n"
     ]
    },
    {
     "name": "stdout",
     "output_type": "stream",
     "text": [
      "Train Loss: 0.0033 | Train Acc: 78.75%\n",
      "Test  Loss: 0.5307 | Test Acc: 81.92%\n",
      "--------------------------------------------------\n",
      "[Epoch 32/100000] :\n"
     ]
    },
    {
     "name": "stderr",
     "output_type": "stream",
     "text": [
      "100%|██████████| 196/196 [00:06<00:00, 28.25it/s]\n"
     ]
    },
    {
     "name": "stdout",
     "output_type": "stream",
     "text": [
      "Train Loss: 0.0034 | Train Acc: 77.50%\n",
      "Test  Loss: 0.5796 | Test Acc: 80.29%\n",
      "--------------------------------------------------\n",
      "[Epoch 33/100000] :\n"
     ]
    },
    {
     "name": "stderr",
     "output_type": "stream",
     "text": [
      "100%|██████████| 196/196 [00:07<00:00, 27.15it/s]\n"
     ]
    },
    {
     "name": "stdout",
     "output_type": "stream",
     "text": [
      "Train Loss: 0.0030 | Train Acc: 78.75%\n",
      "Test  Loss: 0.5570 | Test Acc: 81.01%\n",
      "--------------------------------------------------\n",
      "[Epoch 34/100000] :\n"
     ]
    },
    {
     "name": "stderr",
     "output_type": "stream",
     "text": [
      "100%|██████████| 196/196 [00:07<00:00, 27.68it/s]\n"
     ]
    },
    {
     "name": "stdout",
     "output_type": "stream",
     "text": [
      "Train Loss: 0.0031 | Train Acc: 82.50%\n",
      "Test  Loss: 0.4902 | Test Acc: 83.13%\n",
      "updated best eval loss : 0.49022269546985625\n",
      "--------------------------------------------------\n",
      "[Epoch 35/100000] :\n"
     ]
    },
    {
     "name": "stderr",
     "output_type": "stream",
     "text": [
      "100%|██████████| 196/196 [00:06<00:00, 28.11it/s]\n"
     ]
    },
    {
     "name": "stdout",
     "output_type": "stream",
     "text": [
      "Train Loss: 0.0024 | Train Acc: 78.75%\n",
      "Test  Loss: 0.6148 | Test Acc: 79.84%\n",
      "--------------------------------------------------\n",
      "[Epoch 36/100000] :\n"
     ]
    },
    {
     "name": "stderr",
     "output_type": "stream",
     "text": [
      "100%|██████████| 196/196 [00:07<00:00, 26.11it/s]\n"
     ]
    },
    {
     "name": "stdout",
     "output_type": "stream",
     "text": [
      "Train Loss: 0.0040 | Train Acc: 72.50%\n",
      "Test  Loss: 0.5353 | Test Acc: 81.80%\n",
      "--------------------------------------------------\n",
      "[Epoch 37/100000] :\n"
     ]
    },
    {
     "name": "stderr",
     "output_type": "stream",
     "text": [
      "100%|██████████| 196/196 [00:07<00:00, 26.80it/s]\n"
     ]
    },
    {
     "name": "stdout",
     "output_type": "stream",
     "text": [
      "Train Loss: 0.0024 | Train Acc: 88.75%\n",
      "Test  Loss: 0.4929 | Test Acc: 82.90%\n",
      "--------------------------------------------------\n",
      "[Epoch 38/100000] :\n"
     ]
    },
    {
     "name": "stderr",
     "output_type": "stream",
     "text": [
      "100%|██████████| 196/196 [00:07<00:00, 26.38it/s]\n"
     ]
    },
    {
     "name": "stdout",
     "output_type": "stream",
     "text": [
      "Train Loss: 0.0033 | Train Acc: 83.75%\n",
      "Test  Loss: 0.5318 | Test Acc: 82.73%\n",
      "--------------------------------------------------\n",
      "[Epoch 39/100000] :\n"
     ]
    },
    {
     "name": "stderr",
     "output_type": "stream",
     "text": [
      "100%|██████████| 196/196 [00:07<00:00, 26.49it/s]\n"
     ]
    },
    {
     "name": "stdout",
     "output_type": "stream",
     "text": [
      "Train Loss: 0.0037 | Train Acc: 75.00%\n",
      "Test  Loss: 0.5287 | Test Acc: 82.52%\n",
      "--------------------------------------------------\n",
      "[Epoch 40/100000] :\n"
     ]
    },
    {
     "name": "stderr",
     "output_type": "stream",
     "text": [
      "100%|██████████| 196/196 [00:07<00:00, 25.83it/s]\n"
     ]
    },
    {
     "name": "stdout",
     "output_type": "stream",
     "text": [
      "Train Loss: 0.0032 | Train Acc: 81.25%\n",
      "Test  Loss: 0.6427 | Test Acc: 79.46%\n",
      "--------------------------------------------------\n",
      "[Epoch 41/100000] :\n"
     ]
    },
    {
     "name": "stderr",
     "output_type": "stream",
     "text": [
      "100%|██████████| 196/196 [00:07<00:00, 26.93it/s]\n"
     ]
    },
    {
     "name": "stdout",
     "output_type": "stream",
     "text": [
      "Train Loss: 0.0025 | Train Acc: 80.00%\n",
      "Test  Loss: 0.4513 | Test Acc: 84.59%\n",
      "updated best eval loss : 0.4512861169874668\n",
      "--------------------------------------------------\n",
      "[Epoch 42/100000] :\n"
     ]
    },
    {
     "name": "stderr",
     "output_type": "stream",
     "text": [
      "100%|██████████| 196/196 [00:07<00:00, 26.82it/s]\n"
     ]
    },
    {
     "name": "stdout",
     "output_type": "stream",
     "text": [
      "Train Loss: 0.0034 | Train Acc: 76.25%\n",
      "Test  Loss: 0.4501 | Test Acc: 84.70%\n",
      "updated best eval loss : 0.4500766254961491\n",
      "--------------------------------------------------\n",
      "[Epoch 43/100000] :\n"
     ]
    },
    {
     "name": "stderr",
     "output_type": "stream",
     "text": [
      "100%|██████████| 196/196 [00:07<00:00, 26.58it/s]\n"
     ]
    },
    {
     "name": "stdout",
     "output_type": "stream",
     "text": [
      "Train Loss: 0.0046 | Train Acc: 68.75%\n",
      "Test  Loss: 0.5045 | Test Acc: 82.85%\n",
      "--------------------------------------------------\n",
      "[Epoch 44/100000] :\n"
     ]
    },
    {
     "name": "stderr",
     "output_type": "stream",
     "text": [
      "100%|██████████| 196/196 [00:07<00:00, 27.77it/s]\n"
     ]
    },
    {
     "name": "stdout",
     "output_type": "stream",
     "text": [
      "Train Loss: 0.0021 | Train Acc: 85.00%\n",
      "Test  Loss: 0.4536 | Test Acc: 84.35%\n",
      "--------------------------------------------------\n",
      "[Epoch 45/100000] :\n"
     ]
    },
    {
     "name": "stderr",
     "output_type": "stream",
     "text": [
      "100%|██████████| 196/196 [00:07<00:00, 24.77it/s]\n"
     ]
    },
    {
     "name": "stdout",
     "output_type": "stream",
     "text": [
      "Train Loss: 0.0026 | Train Acc: 86.25%\n",
      "Test  Loss: 0.4543 | Test Acc: 84.68%\n",
      "--------------------------------------------------\n",
      "[Epoch 46/100000] :\n"
     ]
    },
    {
     "name": "stderr",
     "output_type": "stream",
     "text": [
      "100%|██████████| 196/196 [00:07<00:00, 26.69it/s]\n"
     ]
    },
    {
     "name": "stdout",
     "output_type": "stream",
     "text": [
      "Train Loss: 0.0030 | Train Acc: 86.25%\n",
      "Test  Loss: 0.5827 | Test Acc: 81.21%\n",
      "--------------------------------------------------\n",
      "[Epoch 47/100000] :\n"
     ]
    },
    {
     "name": "stderr",
     "output_type": "stream",
     "text": [
      "100%|██████████| 196/196 [00:07<00:00, 25.97it/s]\n"
     ]
    },
    {
     "name": "stdout",
     "output_type": "stream",
     "text": [
      "Train Loss: 0.0032 | Train Acc: 78.75%\n",
      "Test  Loss: 0.5009 | Test Acc: 83.75%\n",
      "--------------------------------------------------\n",
      "[Epoch 48/100000] :\n"
     ]
    },
    {
     "name": "stderr",
     "output_type": "stream",
     "text": [
      "100%|██████████| 196/196 [00:07<00:00, 26.10it/s]\n"
     ]
    },
    {
     "name": "stdout",
     "output_type": "stream",
     "text": [
      "Train Loss: 0.0026 | Train Acc: 82.50%\n",
      "Test  Loss: 0.4594 | Test Acc: 83.96%\n",
      "--------------------------------------------------\n",
      "[Epoch 49/100000] :\n"
     ]
    },
    {
     "name": "stderr",
     "output_type": "stream",
     "text": [
      "100%|██████████| 196/196 [00:07<00:00, 27.37it/s]\n"
     ]
    },
    {
     "name": "stdout",
     "output_type": "stream",
     "text": [
      "Train Loss: 0.0035 | Train Acc: 77.50%\n",
      "Test  Loss: 0.4471 | Test Acc: 84.87%\n",
      "updated best eval loss : 0.44710563868284225\n",
      "--------------------------------------------------\n",
      "[Epoch 50/100000] :\n"
     ]
    },
    {
     "name": "stderr",
     "output_type": "stream",
     "text": [
      "100%|██████████| 196/196 [00:07<00:00, 26.18it/s]\n"
     ]
    },
    {
     "name": "stdout",
     "output_type": "stream",
     "text": [
      "Train Loss: 0.0028 | Train Acc: 78.75%\n",
      "Test  Loss: 0.4307 | Test Acc: 85.29%\n",
      "updated best eval loss : 0.4307476969435811\n",
      "--------------------------------------------------\n",
      "[Epoch 51/100000] :\n"
     ]
    },
    {
     "name": "stderr",
     "output_type": "stream",
     "text": [
      "100%|██████████| 196/196 [00:07<00:00, 27.75it/s]\n"
     ]
    },
    {
     "name": "stdout",
     "output_type": "stream",
     "text": [
      "Train Loss: 0.0044 | Train Acc: 66.25%\n",
      "Test  Loss: 0.4871 | Test Acc: 83.93%\n",
      "--------------------------------------------------\n",
      "[Epoch 52/100000] :\n"
     ]
    },
    {
     "name": "stderr",
     "output_type": "stream",
     "text": [
      "100%|██████████| 196/196 [00:07<00:00, 24.68it/s]\n"
     ]
    },
    {
     "name": "stdout",
     "output_type": "stream",
     "text": [
      "Train Loss: 0.0026 | Train Acc: 85.00%\n",
      "Test  Loss: 0.4561 | Test Acc: 85.28%\n",
      "--------------------------------------------------\n",
      "[Epoch 53/100000] :\n"
     ]
    },
    {
     "name": "stderr",
     "output_type": "stream",
     "text": [
      "100%|██████████| 196/196 [00:07<00:00, 27.80it/s]\n"
     ]
    },
    {
     "name": "stdout",
     "output_type": "stream",
     "text": [
      "Train Loss: 0.0038 | Train Acc: 72.50%\n",
      "Test  Loss: 0.4140 | Test Acc: 86.49%\n",
      "updated best eval loss : 0.41404549553990366\n",
      "--------------------------------------------------\n",
      "[Epoch 54/100000] :\n"
     ]
    },
    {
     "name": "stderr",
     "output_type": "stream",
     "text": [
      "100%|██████████| 196/196 [00:07<00:00, 27.00it/s]\n"
     ]
    },
    {
     "name": "stdout",
     "output_type": "stream",
     "text": [
      "Train Loss: 0.0031 | Train Acc: 80.00%\n",
      "Test  Loss: 0.4615 | Test Acc: 84.36%\n",
      "--------------------------------------------------\n",
      "[Epoch 55/100000] :\n"
     ]
    },
    {
     "name": "stderr",
     "output_type": "stream",
     "text": [
      "100%|██████████| 196/196 [00:07<00:00, 25.89it/s]\n"
     ]
    },
    {
     "name": "stdout",
     "output_type": "stream",
     "text": [
      "Train Loss: 0.0030 | Train Acc: 81.25%\n",
      "Test  Loss: 0.4854 | Test Acc: 83.52%\n",
      "--------------------------------------------------\n",
      "[Epoch 56/100000] :\n"
     ]
    },
    {
     "name": "stderr",
     "output_type": "stream",
     "text": [
      "100%|██████████| 196/196 [00:06<00:00, 29.24it/s]\n"
     ]
    },
    {
     "name": "stdout",
     "output_type": "stream",
     "text": [
      "Train Loss: 0.0043 | Train Acc: 71.25%\n",
      "Test  Loss: 0.4433 | Test Acc: 84.70%\n",
      "--------------------------------------------------\n",
      "[Epoch 57/100000] :\n"
     ]
    },
    {
     "name": "stderr",
     "output_type": "stream",
     "text": [
      "100%|██████████| 196/196 [00:07<00:00, 25.74it/s]\n"
     ]
    },
    {
     "name": "stdout",
     "output_type": "stream",
     "text": [
      "Train Loss: 0.0029 | Train Acc: 80.00%\n",
      "Test  Loss: 0.4173 | Test Acc: 85.66%\n",
      "--------------------------------------------------\n",
      "[Epoch 58/100000] :\n"
     ]
    },
    {
     "name": "stderr",
     "output_type": "stream",
     "text": [
      "100%|██████████| 196/196 [00:07<00:00, 27.60it/s]\n"
     ]
    },
    {
     "name": "stdout",
     "output_type": "stream",
     "text": [
      "Train Loss: 0.0021 | Train Acc: 91.25%\n",
      "Test  Loss: 0.4311 | Test Acc: 85.74%\n",
      "--------------------------------------------------\n",
      "[Epoch 59/100000] :\n"
     ]
    },
    {
     "name": "stderr",
     "output_type": "stream",
     "text": [
      "100%|██████████| 196/196 [00:07<00:00, 25.42it/s]\n"
     ]
    },
    {
     "name": "stdout",
     "output_type": "stream",
     "text": [
      "Train Loss: 0.0025 | Train Acc: 85.00%\n",
      "Test  Loss: 0.4149 | Test Acc: 85.98%\n",
      "--------------------------------------------------\n",
      "[Epoch 60/100000] :\n"
     ]
    },
    {
     "name": "stderr",
     "output_type": "stream",
     "text": [
      "100%|██████████| 196/196 [00:07<00:00, 26.65it/s]\n"
     ]
    },
    {
     "name": "stdout",
     "output_type": "stream",
     "text": [
      "Train Loss: 0.0024 | Train Acc: 87.50%\n",
      "Test  Loss: 0.5034 | Test Acc: 82.86%\n",
      "--------------------------------------------------\n",
      "[Epoch 61/100000] :\n"
     ]
    },
    {
     "name": "stderr",
     "output_type": "stream",
     "text": [
      "100%|██████████| 196/196 [00:07<00:00, 26.06it/s]\n"
     ]
    },
    {
     "name": "stdout",
     "output_type": "stream",
     "text": [
      "Train Loss: 0.0030 | Train Acc: 76.25%\n",
      "Test  Loss: 0.4197 | Test Acc: 85.65%\n",
      "--------------------------------------------------\n",
      "[Epoch 62/100000] :\n"
     ]
    },
    {
     "name": "stderr",
     "output_type": "stream",
     "text": [
      "100%|██████████| 196/196 [00:07<00:00, 26.59it/s]\n"
     ]
    },
    {
     "name": "stdout",
     "output_type": "stream",
     "text": [
      "Train Loss: 0.0030 | Train Acc: 78.75%\n",
      "Test  Loss: 0.5189 | Test Acc: 82.28%\n",
      "--------------------------------------------------\n",
      "[Epoch 63/100000] :\n"
     ]
    },
    {
     "name": "stderr",
     "output_type": "stream",
     "text": [
      "100%|██████████| 196/196 [00:06<00:00, 28.41it/s]\n"
     ]
    },
    {
     "name": "stdout",
     "output_type": "stream",
     "text": [
      "Train Loss: 0.0040 | Train Acc: 76.25%\n",
      "Test  Loss: 0.4238 | Test Acc: 85.44%\n",
      "--------------------------------------------------\n",
      "[Epoch 64/100000] :\n"
     ]
    },
    {
     "name": "stderr",
     "output_type": "stream",
     "text": [
      "100%|██████████| 196/196 [00:07<00:00, 24.82it/s]\n"
     ]
    },
    {
     "name": "stdout",
     "output_type": "stream",
     "text": [
      "Train Loss: 0.0026 | Train Acc: 81.25%\n",
      "Test  Loss: 0.4120 | Test Acc: 85.99%\n",
      "updated best eval loss : 0.411991561204195\n",
      "--------------------------------------------------\n",
      "[Epoch 65/100000] :\n"
     ]
    },
    {
     "name": "stderr",
     "output_type": "stream",
     "text": [
      "100%|██████████| 196/196 [00:06<00:00, 28.21it/s]\n"
     ]
    },
    {
     "name": "stdout",
     "output_type": "stream",
     "text": [
      "Train Loss: 0.0022 | Train Acc: 87.50%\n",
      "Test  Loss: 0.5038 | Test Acc: 83.29%\n",
      "--------------------------------------------------\n",
      "[Epoch 66/100000] :\n"
     ]
    },
    {
     "name": "stderr",
     "output_type": "stream",
     "text": [
      "100%|██████████| 196/196 [00:07<00:00, 25.52it/s]\n"
     ]
    },
    {
     "name": "stdout",
     "output_type": "stream",
     "text": [
      "Train Loss: 0.0027 | Train Acc: 82.50%\n",
      "Test  Loss: 0.4152 | Test Acc: 85.98%\n",
      "--------------------------------------------------\n",
      "[Epoch 67/100000] :\n"
     ]
    },
    {
     "name": "stderr",
     "output_type": "stream",
     "text": [
      "100%|██████████| 196/196 [00:06<00:00, 28.55it/s]\n"
     ]
    },
    {
     "name": "stdout",
     "output_type": "stream",
     "text": [
      "Train Loss: 0.0031 | Train Acc: 81.25%\n",
      "Test  Loss: 0.5068 | Test Acc: 83.09%\n",
      "--------------------------------------------------\n",
      "[Epoch 68/100000] :\n"
     ]
    },
    {
     "name": "stderr",
     "output_type": "stream",
     "text": [
      "100%|██████████| 196/196 [00:07<00:00, 26.22it/s]\n"
     ]
    },
    {
     "name": "stdout",
     "output_type": "stream",
     "text": [
      "Train Loss: 0.0030 | Train Acc: 83.75%\n",
      "Test  Loss: 0.5082 | Test Acc: 83.38%\n",
      "--------------------------------------------------\n",
      "[Epoch 69/100000] :\n"
     ]
    },
    {
     "name": "stderr",
     "output_type": "stream",
     "text": [
      "100%|██████████| 196/196 [00:07<00:00, 24.69it/s]\n"
     ]
    },
    {
     "name": "stdout",
     "output_type": "stream",
     "text": [
      "Train Loss: 0.0028 | Train Acc: 78.75%\n",
      "Test  Loss: 0.4402 | Test Acc: 85.52%\n",
      "--------------------------------------------------\n",
      "[Epoch 70/100000] :\n"
     ]
    },
    {
     "name": "stderr",
     "output_type": "stream",
     "text": [
      "100%|██████████| 196/196 [00:07<00:00, 27.21it/s]\n"
     ]
    },
    {
     "name": "stdout",
     "output_type": "stream",
     "text": [
      "Train Loss: 0.0026 | Train Acc: 85.00%\n",
      "Test  Loss: 0.4519 | Test Acc: 85.35%\n",
      "--------------------------------------------------\n",
      "[Epoch 71/100000] :\n"
     ]
    },
    {
     "name": "stderr",
     "output_type": "stream",
     "text": [
      "100%|██████████| 196/196 [00:07<00:00, 25.86it/s]\n"
     ]
    },
    {
     "name": "stdout",
     "output_type": "stream",
     "text": [
      "Train Loss: 0.0029 | Train Acc: 81.25%\n",
      "Test  Loss: 0.4276 | Test Acc: 86.03%\n",
      "--------------------------------------------------\n",
      "[Epoch 72/100000] :\n"
     ]
    },
    {
     "name": "stderr",
     "output_type": "stream",
     "text": [
      "100%|██████████| 196/196 [00:07<00:00, 27.28it/s]\n"
     ]
    },
    {
     "name": "stdout",
     "output_type": "stream",
     "text": [
      "Train Loss: 0.0031 | Train Acc: 76.25%\n",
      "Test  Loss: 0.3946 | Test Acc: 86.30%\n",
      "updated best eval loss : 0.3946429803967476\n",
      "--------------------------------------------------\n",
      "[Epoch 73/100000] :\n"
     ]
    },
    {
     "name": "stderr",
     "output_type": "stream",
     "text": [
      "100%|██████████| 196/196 [00:07<00:00, 26.37it/s]\n"
     ]
    },
    {
     "name": "stdout",
     "output_type": "stream",
     "text": [
      "Train Loss: 0.0023 | Train Acc: 82.50%\n",
      "Test  Loss: 0.4114 | Test Acc: 86.25%\n",
      "--------------------------------------------------\n",
      "[Epoch 74/100000] :\n"
     ]
    },
    {
     "name": "stderr",
     "output_type": "stream",
     "text": [
      "100%|██████████| 196/196 [00:07<00:00, 26.69it/s]\n"
     ]
    },
    {
     "name": "stdout",
     "output_type": "stream",
     "text": [
      "Train Loss: 0.0022 | Train Acc: 83.75%\n",
      "Test  Loss: 0.4250 | Test Acc: 85.78%\n",
      "--------------------------------------------------\n",
      "[Epoch 75/100000] :\n"
     ]
    },
    {
     "name": "stderr",
     "output_type": "stream",
     "text": [
      "100%|██████████| 196/196 [00:07<00:00, 26.38it/s]\n"
     ]
    },
    {
     "name": "stdout",
     "output_type": "stream",
     "text": [
      "Train Loss: 0.0028 | Train Acc: 83.75%\n",
      "Test  Loss: 0.4227 | Test Acc: 86.04%\n",
      "--------------------------------------------------\n",
      "[Epoch 76/100000] :\n"
     ]
    },
    {
     "name": "stderr",
     "output_type": "stream",
     "text": [
      "100%|██████████| 196/196 [00:07<00:00, 25.63it/s]\n"
     ]
    },
    {
     "name": "stdout",
     "output_type": "stream",
     "text": [
      "Train Loss: 0.0038 | Train Acc: 70.00%\n",
      "Test  Loss: 0.5094 | Test Acc: 83.95%\n",
      "--------------------------------------------------\n",
      "[Epoch 77/100000] :\n"
     ]
    },
    {
     "name": "stderr",
     "output_type": "stream",
     "text": [
      "100%|██████████| 196/196 [00:06<00:00, 28.74it/s]\n"
     ]
    },
    {
     "name": "stdout",
     "output_type": "stream",
     "text": [
      "Train Loss: 0.0021 | Train Acc: 86.25%\n",
      "Test  Loss: 0.4004 | Test Acc: 86.18%\n",
      "--------------------------------------------------\n",
      "[Epoch 78/100000] :\n"
     ]
    },
    {
     "name": "stderr",
     "output_type": "stream",
     "text": [
      "100%|██████████| 196/196 [00:07<00:00, 25.72it/s]\n"
     ]
    },
    {
     "name": "stdout",
     "output_type": "stream",
     "text": [
      "Train Loss: 0.0030 | Train Acc: 76.25%\n",
      "Test  Loss: 0.4204 | Test Acc: 86.10%\n",
      "--------------------------------------------------\n",
      "[Epoch 79/100000] :\n"
     ]
    },
    {
     "name": "stderr",
     "output_type": "stream",
     "text": [
      "100%|██████████| 196/196 [00:07<00:00, 27.06it/s]\n"
     ]
    },
    {
     "name": "stdout",
     "output_type": "stream",
     "text": [
      "Train Loss: 0.0037 | Train Acc: 72.50%\n",
      "Test  Loss: 0.4284 | Test Acc: 86.24%\n",
      "--------------------------------------------------\n",
      "[Epoch 80/100000] :\n"
     ]
    },
    {
     "name": "stderr",
     "output_type": "stream",
     "text": [
      "100%|██████████| 196/196 [00:07<00:00, 25.51it/s]\n"
     ]
    },
    {
     "name": "stdout",
     "output_type": "stream",
     "text": [
      "Train Loss: 0.0028 | Train Acc: 83.75%\n",
      "Test  Loss: 0.4044 | Test Acc: 86.63%\n",
      "--------------------------------------------------\n",
      "[Epoch 81/100000] :\n"
     ]
    },
    {
     "name": "stderr",
     "output_type": "stream",
     "text": [
      "100%|██████████| 196/196 [00:07<00:00, 26.03it/s]\n"
     ]
    },
    {
     "name": "stdout",
     "output_type": "stream",
     "text": [
      "Train Loss: 0.0024 | Train Acc: 83.75%\n",
      "Test  Loss: 0.4216 | Test Acc: 85.97%\n",
      "--------------------------------------------------\n",
      "[Epoch 82/100000] :\n"
     ]
    },
    {
     "name": "stderr",
     "output_type": "stream",
     "text": [
      "100%|██████████| 196/196 [00:07<00:00, 26.08it/s]\n"
     ]
    },
    {
     "name": "stdout",
     "output_type": "stream",
     "text": [
      "Train Loss: 0.0045 | Train Acc: 71.25%\n",
      "Test  Loss: 0.3943 | Test Acc: 86.55%\n",
      "updated best eval loss : 0.3943069614470005\n",
      "--------------------------------------------------\n",
      "[Epoch 83/100000] :\n"
     ]
    },
    {
     "name": "stderr",
     "output_type": "stream",
     "text": [
      "100%|██████████| 196/196 [00:07<00:00, 26.13it/s]\n"
     ]
    },
    {
     "name": "stdout",
     "output_type": "stream",
     "text": [
      "Train Loss: 0.0031 | Train Acc: 82.50%\n",
      "Test  Loss: 0.6696 | Test Acc: 80.22%\n",
      "--------------------------------------------------\n",
      "[Epoch 84/100000] :\n"
     ]
    },
    {
     "name": "stderr",
     "output_type": "stream",
     "text": [
      "100%|██████████| 196/196 [00:07<00:00, 26.69it/s]\n"
     ]
    },
    {
     "name": "stdout",
     "output_type": "stream",
     "text": [
      "Train Loss: 0.0025 | Train Acc: 81.25%\n",
      "Test  Loss: 0.4176 | Test Acc: 86.38%\n",
      "--------------------------------------------------\n",
      "[Epoch 85/100000] :\n"
     ]
    },
    {
     "name": "stderr",
     "output_type": "stream",
     "text": [
      "100%|██████████| 196/196 [00:07<00:00, 26.35it/s]\n"
     ]
    },
    {
     "name": "stdout",
     "output_type": "stream",
     "text": [
      "Train Loss: 0.0028 | Train Acc: 83.75%\n",
      "Test  Loss: 0.5415 | Test Acc: 82.55%\n",
      "--------------------------------------------------\n",
      "[Epoch 86/100000] :\n"
     ]
    },
    {
     "name": "stderr",
     "output_type": "stream",
     "text": [
      "100%|██████████| 196/196 [00:07<00:00, 27.74it/s]\n"
     ]
    },
    {
     "name": "stdout",
     "output_type": "stream",
     "text": [
      "Train Loss: 0.0016 | Train Acc: 88.75%\n",
      "Test  Loss: 0.4578 | Test Acc: 84.65%\n",
      "--------------------------------------------------\n",
      "[Epoch 87/100000] :\n"
     ]
    },
    {
     "name": "stderr",
     "output_type": "stream",
     "text": [
      "100%|██████████| 196/196 [00:07<00:00, 26.98it/s]\n"
     ]
    },
    {
     "name": "stdout",
     "output_type": "stream",
     "text": [
      "Train Loss: 0.0026 | Train Acc: 81.25%\n",
      "Test  Loss: 0.3527 | Test Acc: 87.81%\n",
      "updated best eval loss : 0.3526645299047232\n",
      "--------------------------------------------------\n",
      "[Epoch 88/100000] :\n"
     ]
    },
    {
     "name": "stderr",
     "output_type": "stream",
     "text": [
      "100%|██████████| 196/196 [00:07<00:00, 26.49it/s]\n"
     ]
    },
    {
     "name": "stdout",
     "output_type": "stream",
     "text": [
      "Train Loss: 0.0025 | Train Acc: 80.00%\n",
      "Test  Loss: 0.4214 | Test Acc: 85.66%\n",
      "--------------------------------------------------\n",
      "[Epoch 89/100000] :\n"
     ]
    },
    {
     "name": "stderr",
     "output_type": "stream",
     "text": [
      "100%|██████████| 196/196 [00:07<00:00, 27.29it/s]\n"
     ]
    },
    {
     "name": "stdout",
     "output_type": "stream",
     "text": [
      "Train Loss: 0.0029 | Train Acc: 80.00%\n",
      "Test  Loss: 0.4690 | Test Acc: 85.11%\n",
      "--------------------------------------------------\n",
      "[Epoch 90/100000] :\n"
     ]
    },
    {
     "name": "stderr",
     "output_type": "stream",
     "text": [
      "100%|██████████| 196/196 [00:07<00:00, 26.56it/s]\n"
     ]
    },
    {
     "name": "stdout",
     "output_type": "stream",
     "text": [
      "Train Loss: 0.0031 | Train Acc: 80.00%\n",
      "Test  Loss: 0.4025 | Test Acc: 86.01%\n",
      "--------------------------------------------------\n",
      "[Epoch 91/100000] :\n"
     ]
    },
    {
     "name": "stderr",
     "output_type": "stream",
     "text": [
      "100%|██████████| 196/196 [00:07<00:00, 27.41it/s]\n"
     ]
    },
    {
     "name": "stdout",
     "output_type": "stream",
     "text": [
      "Train Loss: 0.0022 | Train Acc: 88.75%\n",
      "Test  Loss: 0.4979 | Test Acc: 83.65%\n",
      "--------------------------------------------------\n",
      "[Epoch 92/100000] :\n"
     ]
    },
    {
     "name": "stderr",
     "output_type": "stream",
     "text": [
      "100%|██████████| 196/196 [00:07<00:00, 25.31it/s]\n"
     ]
    },
    {
     "name": "stdout",
     "output_type": "stream",
     "text": [
      "Train Loss: 0.0024 | Train Acc: 80.00%\n",
      "Test  Loss: 0.4277 | Test Acc: 85.81%\n",
      "--------------------------------------------------\n",
      "[Epoch 93/100000] :\n"
     ]
    },
    {
     "name": "stderr",
     "output_type": "stream",
     "text": [
      "100%|██████████| 196/196 [00:07<00:00, 27.24it/s]\n"
     ]
    },
    {
     "name": "stdout",
     "output_type": "stream",
     "text": [
      "Train Loss: 0.0026 | Train Acc: 87.50%\n",
      "Test  Loss: 0.4025 | Test Acc: 86.93%\n",
      "--------------------------------------------------\n",
      "[Epoch 94/100000] :\n"
     ]
    },
    {
     "name": "stderr",
     "output_type": "stream",
     "text": [
      "100%|██████████| 196/196 [00:07<00:00, 25.80it/s]\n"
     ]
    },
    {
     "name": "stdout",
     "output_type": "stream",
     "text": [
      "Train Loss: 0.0026 | Train Acc: 86.25%\n",
      "Test  Loss: 0.3739 | Test Acc: 87.43%\n",
      "--------------------------------------------------\n",
      "[Epoch 95/100000] :\n"
     ]
    },
    {
     "name": "stderr",
     "output_type": "stream",
     "text": [
      "100%|██████████| 196/196 [00:07<00:00, 25.88it/s]\n"
     ]
    },
    {
     "name": "stdout",
     "output_type": "stream",
     "text": [
      "Train Loss: 0.0025 | Train Acc: 81.25%\n",
      "Test  Loss: 0.4549 | Test Acc: 84.94%\n",
      "--------------------------------------------------\n",
      "[Epoch 96/100000] :\n"
     ]
    },
    {
     "name": "stderr",
     "output_type": "stream",
     "text": [
      "100%|██████████| 196/196 [00:07<00:00, 25.59it/s]\n"
     ]
    },
    {
     "name": "stdout",
     "output_type": "stream",
     "text": [
      "Train Loss: 0.0022 | Train Acc: 86.25%\n",
      "Test  Loss: 0.3689 | Test Acc: 87.90%\n",
      "--------------------------------------------------\n",
      "[Epoch 97/100000] :\n"
     ]
    },
    {
     "name": "stderr",
     "output_type": "stream",
     "text": [
      "100%|██████████| 196/196 [00:07<00:00, 27.50it/s]\n"
     ]
    },
    {
     "name": "stdout",
     "output_type": "stream",
     "text": [
      "Train Loss: 0.0024 | Train Acc: 82.50%\n",
      "Test  Loss: 0.4549 | Test Acc: 84.43%\n",
      "--------------------------------------------------\n",
      "[Epoch 98/100000] :\n"
     ]
    },
    {
     "name": "stderr",
     "output_type": "stream",
     "text": [
      "100%|██████████| 196/196 [00:07<00:00, 28.00it/s]\n"
     ]
    },
    {
     "name": "stdout",
     "output_type": "stream",
     "text": [
      "Train Loss: 0.0029 | Train Acc: 77.50%\n",
      "Test  Loss: 0.4018 | Test Acc: 86.65%\n",
      "--------------------------------------------------\n",
      "[Epoch 99/100000] :\n"
     ]
    },
    {
     "name": "stderr",
     "output_type": "stream",
     "text": [
      "100%|██████████| 196/196 [00:07<00:00, 25.79it/s]\n"
     ]
    },
    {
     "name": "stdout",
     "output_type": "stream",
     "text": [
      "Train Loss: 0.0020 | Train Acc: 86.25%\n",
      "Test  Loss: 0.4125 | Test Acc: 86.33%\n",
      "--------------------------------------------------\n",
      "[Epoch 100/100000] :\n"
     ]
    },
    {
     "name": "stderr",
     "output_type": "stream",
     "text": [
      "100%|██████████| 196/196 [00:07<00:00, 27.59it/s]\n"
     ]
    },
    {
     "name": "stdout",
     "output_type": "stream",
     "text": [
      "Train Loss: 0.0024 | Train Acc: 82.50%\n",
      "Test  Loss: 0.4385 | Test Acc: 85.62%\n",
      "--------------------------------------------------\n",
      "[Epoch 101/100000] :\n"
     ]
    },
    {
     "name": "stderr",
     "output_type": "stream",
     "text": [
      "100%|██████████| 196/196 [00:07<00:00, 26.52it/s]\n"
     ]
    },
    {
     "name": "stdout",
     "output_type": "stream",
     "text": [
      "Train Loss: 0.0019 | Train Acc: 87.50%\n",
      "Test  Loss: 0.3530 | Test Acc: 88.11%\n",
      "--------------------------------------------------\n",
      "[Epoch 102/100000] :\n"
     ]
    },
    {
     "name": "stderr",
     "output_type": "stream",
     "text": [
      "100%|██████████| 196/196 [00:07<00:00, 26.24it/s]\n"
     ]
    },
    {
     "name": "stdout",
     "output_type": "stream",
     "text": [
      "Train Loss: 0.0024 | Train Acc: 82.50%\n",
      "Test  Loss: 0.3764 | Test Acc: 87.58%\n",
      "--------------------------------------------------\n",
      "[Epoch 103/100000] :\n"
     ]
    },
    {
     "name": "stderr",
     "output_type": "stream",
     "text": [
      "100%|██████████| 196/196 [00:07<00:00, 27.00it/s]\n"
     ]
    },
    {
     "name": "stdout",
     "output_type": "stream",
     "text": [
      "Train Loss: 0.0017 | Train Acc: 85.00%\n",
      "Test  Loss: 0.3730 | Test Acc: 87.59%\n",
      "--------------------------------------------------\n",
      "[Epoch 104/100000] :\n"
     ]
    },
    {
     "name": "stderr",
     "output_type": "stream",
     "text": [
      "100%|██████████| 196/196 [00:07<00:00, 25.92it/s]\n"
     ]
    },
    {
     "name": "stdout",
     "output_type": "stream",
     "text": [
      "Train Loss: 0.0024 | Train Acc: 85.00%\n",
      "Test  Loss: 0.4341 | Test Acc: 85.63%\n",
      "--------------------------------------------------\n",
      "[Epoch 105/100000] :\n"
     ]
    },
    {
     "name": "stderr",
     "output_type": "stream",
     "text": [
      "100%|██████████| 196/196 [00:06<00:00, 28.46it/s]\n"
     ]
    },
    {
     "name": "stdout",
     "output_type": "stream",
     "text": [
      "Train Loss: 0.0028 | Train Acc: 78.75%\n",
      "Test  Loss: 0.4548 | Test Acc: 85.69%\n",
      "--------------------------------------------------\n",
      "[Epoch 106/100000] :\n"
     ]
    },
    {
     "name": "stderr",
     "output_type": "stream",
     "text": [
      "100%|██████████| 196/196 [00:07<00:00, 25.41it/s]\n"
     ]
    },
    {
     "name": "stdout",
     "output_type": "stream",
     "text": [
      "Train Loss: 0.0032 | Train Acc: 76.25%\n",
      "Test  Loss: 0.3875 | Test Acc: 87.24%\n",
      "--------------------------------------------------\n",
      "[Epoch 107/100000] :\n"
     ]
    },
    {
     "name": "stderr",
     "output_type": "stream",
     "text": [
      "100%|██████████| 196/196 [00:06<00:00, 28.04it/s]\n"
     ]
    },
    {
     "name": "stdout",
     "output_type": "stream",
     "text": [
      "Train Loss: 0.0024 | Train Acc: 81.25%\n",
      "Test  Loss: 0.3711 | Test Acc: 87.57%\n",
      "--------------------------------------------------\n",
      "[Epoch 108/100000] :\n"
     ]
    },
    {
     "name": "stderr",
     "output_type": "stream",
     "text": [
      "100%|██████████| 196/196 [00:07<00:00, 26.35it/s]\n"
     ]
    },
    {
     "name": "stdout",
     "output_type": "stream",
     "text": [
      "Train Loss: 0.0032 | Train Acc: 85.00%\n",
      "Test  Loss: 0.5120 | Test Acc: 83.47%\n",
      "--------------------------------------------------\n",
      "[Epoch 109/100000] :\n"
     ]
    },
    {
     "name": "stderr",
     "output_type": "stream",
     "text": [
      "100%|██████████| 196/196 [00:07<00:00, 25.41it/s]\n"
     ]
    },
    {
     "name": "stdout",
     "output_type": "stream",
     "text": [
      "Train Loss: 0.0021 | Train Acc: 86.25%\n",
      "Test  Loss: 0.4215 | Test Acc: 86.56%\n",
      "--------------------------------------------------\n",
      "[Epoch 110/100000] :\n"
     ]
    },
    {
     "name": "stderr",
     "output_type": "stream",
     "text": [
      "100%|██████████| 196/196 [00:07<00:00, 27.13it/s]\n"
     ]
    },
    {
     "name": "stdout",
     "output_type": "stream",
     "text": [
      "Train Loss: 0.0017 | Train Acc: 85.00%\n",
      "Test  Loss: 0.4953 | Test Acc: 84.29%\n",
      "--------------------------------------------------\n",
      "[Epoch 111/100000] :\n"
     ]
    },
    {
     "name": "stderr",
     "output_type": "stream",
     "text": [
      "100%|██████████| 196/196 [00:07<00:00, 26.53it/s]\n"
     ]
    },
    {
     "name": "stdout",
     "output_type": "stream",
     "text": [
      "Train Loss: 0.0028 | Train Acc: 78.75%\n",
      "Test  Loss: 0.3851 | Test Acc: 87.42%\n",
      "--------------------------------------------------\n",
      "[Epoch 112/100000] :\n"
     ]
    },
    {
     "name": "stderr",
     "output_type": "stream",
     "text": [
      "100%|██████████| 196/196 [00:06<00:00, 28.22it/s]\n"
     ]
    },
    {
     "name": "stdout",
     "output_type": "stream",
     "text": [
      "Train Loss: 0.0022 | Train Acc: 83.75%\n",
      "Test  Loss: 0.4091 | Test Acc: 86.21%\n",
      "--------------------------------------------------\n",
      "[Epoch 113/100000] :\n"
     ]
    },
    {
     "name": "stderr",
     "output_type": "stream",
     "text": [
      "100%|██████████| 196/196 [00:07<00:00, 26.01it/s]\n"
     ]
    },
    {
     "name": "stdout",
     "output_type": "stream",
     "text": [
      "Train Loss: 0.0018 | Train Acc: 83.75%\n",
      "Test  Loss: 0.4221 | Test Acc: 86.36%\n",
      "--------------------------------------------------\n",
      "[Epoch 114/100000] :\n"
     ]
    },
    {
     "name": "stderr",
     "output_type": "stream",
     "text": [
      "100%|██████████| 196/196 [00:07<00:00, 26.99it/s]\n"
     ]
    },
    {
     "name": "stdout",
     "output_type": "stream",
     "text": [
      "Train Loss: 0.0025 | Train Acc: 82.50%\n",
      "Test  Loss: 0.3520 | Test Acc: 87.84%\n",
      "updated best eval loss : 0.351992853730917\n",
      "--------------------------------------------------\n",
      "[Epoch 115/100000] :\n"
     ]
    },
    {
     "name": "stderr",
     "output_type": "stream",
     "text": [
      "100%|██████████| 196/196 [00:07<00:00, 25.94it/s]\n"
     ]
    },
    {
     "name": "stdout",
     "output_type": "stream",
     "text": [
      "Train Loss: 0.0029 | Train Acc: 78.75%\n",
      "Test  Loss: 0.3950 | Test Acc: 87.06%\n",
      "--------------------------------------------------\n",
      "[Epoch 116/100000] :\n"
     ]
    },
    {
     "name": "stderr",
     "output_type": "stream",
     "text": [
      "100%|██████████| 196/196 [00:07<00:00, 26.32it/s]\n"
     ]
    },
    {
     "name": "stdout",
     "output_type": "stream",
     "text": [
      "Train Loss: 0.0028 | Train Acc: 80.00%\n",
      "Test  Loss: 0.4809 | Test Acc: 84.63%\n",
      "--------------------------------------------------\n",
      "[Epoch 117/100000] :\n"
     ]
    },
    {
     "name": "stderr",
     "output_type": "stream",
     "text": [
      "100%|██████████| 196/196 [00:07<00:00, 26.13it/s]\n"
     ]
    },
    {
     "name": "stdout",
     "output_type": "stream",
     "text": [
      "Train Loss: 0.0020 | Train Acc: 86.25%\n",
      "Test  Loss: 0.4223 | Test Acc: 86.91%\n",
      "--------------------------------------------------\n",
      "[Epoch 118/100000] :\n"
     ]
    },
    {
     "name": "stderr",
     "output_type": "stream",
     "text": [
      "100%|██████████| 196/196 [00:07<00:00, 26.77it/s]\n"
     ]
    },
    {
     "name": "stdout",
     "output_type": "stream",
     "text": [
      "Train Loss: 0.0018 | Train Acc: 92.50%\n",
      "Test  Loss: 0.3984 | Test Acc: 87.53%\n",
      "--------------------------------------------------\n",
      "[Epoch 119/100000] :\n"
     ]
    },
    {
     "name": "stderr",
     "output_type": "stream",
     "text": [
      "100%|██████████| 196/196 [00:06<00:00, 28.12it/s]\n"
     ]
    },
    {
     "name": "stdout",
     "output_type": "stream",
     "text": [
      "Train Loss: 0.0020 | Train Acc: 81.25%\n",
      "Test  Loss: 0.3153 | Test Acc: 89.24%\n",
      "updated best eval loss : 0.31533361971378326\n",
      "--------------------------------------------------\n",
      "[Epoch 120/100000] :\n"
     ]
    },
    {
     "name": "stderr",
     "output_type": "stream",
     "text": [
      "100%|██████████| 196/196 [00:07<00:00, 27.48it/s]\n"
     ]
    },
    {
     "name": "stdout",
     "output_type": "stream",
     "text": [
      "Train Loss: 0.0017 | Train Acc: 85.00%\n",
      "Test  Loss: 0.4023 | Test Acc: 86.37%\n",
      "--------------------------------------------------\n",
      "[Epoch 121/100000] :\n"
     ]
    },
    {
     "name": "stderr",
     "output_type": "stream",
     "text": [
      "100%|██████████| 196/196 [00:07<00:00, 26.15it/s]\n"
     ]
    },
    {
     "name": "stdout",
     "output_type": "stream",
     "text": [
      "Train Loss: 0.0036 | Train Acc: 80.00%\n",
      "Test  Loss: 0.4616 | Test Acc: 85.11%\n",
      "--------------------------------------------------\n",
      "[Epoch 122/100000] :\n"
     ]
    },
    {
     "name": "stderr",
     "output_type": "stream",
     "text": [
      "100%|██████████| 196/196 [00:07<00:00, 27.15it/s]\n"
     ]
    },
    {
     "name": "stdout",
     "output_type": "stream",
     "text": [
      "Train Loss: 0.0028 | Train Acc: 77.50%\n",
      "Test  Loss: 0.3377 | Test Acc: 87.97%\n",
      "--------------------------------------------------\n",
      "[Epoch 123/100000] :\n"
     ]
    },
    {
     "name": "stderr",
     "output_type": "stream",
     "text": [
      "100%|██████████| 196/196 [00:07<00:00, 25.56it/s]\n"
     ]
    },
    {
     "name": "stdout",
     "output_type": "stream",
     "text": [
      "Train Loss: 0.0028 | Train Acc: 77.50%\n",
      "Test  Loss: 0.3724 | Test Acc: 87.59%\n",
      "--------------------------------------------------\n",
      "[Epoch 124/100000] :\n"
     ]
    },
    {
     "name": "stderr",
     "output_type": "stream",
     "text": [
      "100%|██████████| 196/196 [00:07<00:00, 26.46it/s]\n"
     ]
    },
    {
     "name": "stdout",
     "output_type": "stream",
     "text": [
      "Train Loss: 0.0027 | Train Acc: 76.25%\n",
      "Test  Loss: 0.3723 | Test Acc: 87.31%\n",
      "--------------------------------------------------\n",
      "[Epoch 125/100000] :\n"
     ]
    },
    {
     "name": "stderr",
     "output_type": "stream",
     "text": [
      "100%|██████████| 196/196 [00:07<00:00, 25.72it/s]\n"
     ]
    },
    {
     "name": "stdout",
     "output_type": "stream",
     "text": [
      "Train Loss: 0.0020 | Train Acc: 87.50%\n",
      "Test  Loss: 0.3541 | Test Acc: 87.93%\n",
      "--------------------------------------------------\n",
      "[Epoch 126/100000] :\n"
     ]
    },
    {
     "name": "stderr",
     "output_type": "stream",
     "text": [
      "100%|██████████| 196/196 [00:07<00:00, 27.33it/s]\n"
     ]
    },
    {
     "name": "stdout",
     "output_type": "stream",
     "text": [
      "Train Loss: 0.0028 | Train Acc: 76.25%\n",
      "Test  Loss: 0.3527 | Test Acc: 88.41%\n",
      "--------------------------------------------------\n",
      "[Epoch 127/100000] :\n"
     ]
    },
    {
     "name": "stderr",
     "output_type": "stream",
     "text": [
      "100%|██████████| 196/196 [00:07<00:00, 26.59it/s]\n"
     ]
    },
    {
     "name": "stdout",
     "output_type": "stream",
     "text": [
      "Train Loss: 0.0021 | Train Acc: 83.75%\n",
      "Test  Loss: 0.4093 | Test Acc: 86.18%\n",
      "--------------------------------------------------\n",
      "[Epoch 128/100000] :\n"
     ]
    },
    {
     "name": "stderr",
     "output_type": "stream",
     "text": [
      "100%|██████████| 196/196 [00:07<00:00, 25.21it/s]\n"
     ]
    },
    {
     "name": "stdout",
     "output_type": "stream",
     "text": [
      "Train Loss: 0.0023 | Train Acc: 83.75%\n",
      "Test  Loss: 0.3659 | Test Acc: 87.62%\n",
      "--------------------------------------------------\n",
      "[Epoch 129/100000] :\n"
     ]
    },
    {
     "name": "stderr",
     "output_type": "stream",
     "text": [
      "100%|██████████| 196/196 [00:07<00:00, 25.71it/s]\n"
     ]
    },
    {
     "name": "stdout",
     "output_type": "stream",
     "text": [
      "Train Loss: 0.0027 | Train Acc: 80.00%\n",
      "Test  Loss: 0.4427 | Test Acc: 85.93%\n",
      "--------------------------------------------------\n",
      "[Epoch 130/100000] :\n"
     ]
    },
    {
     "name": "stderr",
     "output_type": "stream",
     "text": [
      "100%|██████████| 196/196 [00:07<00:00, 25.65it/s]\n"
     ]
    },
    {
     "name": "stdout",
     "output_type": "stream",
     "text": [
      "Train Loss: 0.0044 | Train Acc: 66.25%\n",
      "Test  Loss: 0.4015 | Test Acc: 86.94%\n",
      "--------------------------------------------------\n",
      "[Epoch 131/100000] :\n"
     ]
    },
    {
     "name": "stderr",
     "output_type": "stream",
     "text": [
      "100%|██████████| 196/196 [00:07<00:00, 26.50it/s]\n"
     ]
    },
    {
     "name": "stdout",
     "output_type": "stream",
     "text": [
      "Train Loss: 0.0030 | Train Acc: 72.50%\n",
      "Test  Loss: 0.4129 | Test Acc: 86.40%\n",
      "--------------------------------------------------\n",
      "[Epoch 132/100000] :\n"
     ]
    },
    {
     "name": "stderr",
     "output_type": "stream",
     "text": [
      "100%|██████████| 196/196 [00:07<00:00, 25.62it/s]\n"
     ]
    },
    {
     "name": "stdout",
     "output_type": "stream",
     "text": [
      "Train Loss: 0.0024 | Train Acc: 82.50%\n",
      "Test  Loss: 0.4172 | Test Acc: 86.36%\n",
      "--------------------------------------------------\n",
      "[Epoch 133/100000] :\n"
     ]
    },
    {
     "name": "stderr",
     "output_type": "stream",
     "text": [
      "100%|██████████| 196/196 [00:07<00:00, 26.67it/s]\n"
     ]
    },
    {
     "name": "stdout",
     "output_type": "stream",
     "text": [
      "Train Loss: 0.0025 | Train Acc: 85.00%\n",
      "Test  Loss: 0.3479 | Test Acc: 88.34%\n",
      "--------------------------------------------------\n",
      "[Epoch 134/100000] :\n"
     ]
    },
    {
     "name": "stderr",
     "output_type": "stream",
     "text": [
      "100%|██████████| 196/196 [00:07<00:00, 27.49it/s]\n"
     ]
    },
    {
     "name": "stdout",
     "output_type": "stream",
     "text": [
      "Train Loss: 0.0019 | Train Acc: 86.25%\n",
      "Test  Loss: 0.3307 | Test Acc: 88.26%\n",
      "--------------------------------------------------\n",
      "[Epoch 135/100000] :\n"
     ]
    },
    {
     "name": "stderr",
     "output_type": "stream",
     "text": [
      "100%|██████████| 196/196 [00:07<00:00, 26.72it/s]\n"
     ]
    },
    {
     "name": "stdout",
     "output_type": "stream",
     "text": [
      "Train Loss: 0.0030 | Train Acc: 80.00%\n",
      "Test  Loss: 0.3535 | Test Acc: 88.53%\n",
      "--------------------------------------------------\n",
      "[Epoch 136/100000] :\n"
     ]
    },
    {
     "name": "stderr",
     "output_type": "stream",
     "text": [
      "100%|██████████| 196/196 [00:07<00:00, 27.61it/s]\n"
     ]
    },
    {
     "name": "stdout",
     "output_type": "stream",
     "text": [
      "Train Loss: 0.0027 | Train Acc: 77.50%\n",
      "Test  Loss: 0.3644 | Test Acc: 87.88%\n",
      "--------------------------------------------------\n",
      "[Epoch 137/100000] :\n"
     ]
    },
    {
     "name": "stderr",
     "output_type": "stream",
     "text": [
      "100%|██████████| 196/196 [00:07<00:00, 26.66it/s]\n"
     ]
    },
    {
     "name": "stdout",
     "output_type": "stream",
     "text": [
      "Train Loss: 0.0019 | Train Acc: 85.00%\n",
      "Test  Loss: 0.3343 | Test Acc: 88.45%\n",
      "--------------------------------------------------\n",
      "[Epoch 138/100000] :\n"
     ]
    },
    {
     "name": "stderr",
     "output_type": "stream",
     "text": [
      "100%|██████████| 196/196 [00:06<00:00, 28.43it/s]\n"
     ]
    },
    {
     "name": "stdout",
     "output_type": "stream",
     "text": [
      "Train Loss: 0.0019 | Train Acc: 86.25%\n",
      "Test  Loss: 0.3736 | Test Acc: 87.21%\n",
      "--------------------------------------------------\n",
      "[Epoch 139/100000] :\n"
     ]
    },
    {
     "name": "stderr",
     "output_type": "stream",
     "text": [
      "100%|██████████| 196/196 [00:07<00:00, 27.67it/s]\n"
     ]
    },
    {
     "name": "stdout",
     "output_type": "stream",
     "text": [
      "Train Loss: 0.0030 | Train Acc: 77.50%\n",
      "Test  Loss: 0.4079 | Test Acc: 86.11%\n",
      "--------------------------------------------------\n",
      "[Epoch 140/100000] :\n"
     ]
    },
    {
     "name": "stderr",
     "output_type": "stream",
     "text": [
      "100%|██████████| 196/196 [00:07<00:00, 27.14it/s]\n"
     ]
    },
    {
     "name": "stdout",
     "output_type": "stream",
     "text": [
      "Train Loss: 0.0021 | Train Acc: 85.00%\n",
      "Test  Loss: 0.3900 | Test Acc: 87.65%\n",
      "--------------------------------------------------\n",
      "[Epoch 141/100000] :\n"
     ]
    },
    {
     "name": "stderr",
     "output_type": "stream",
     "text": [
      "100%|██████████| 196/196 [00:07<00:00, 25.80it/s]\n"
     ]
    },
    {
     "name": "stdout",
     "output_type": "stream",
     "text": [
      "Train Loss: 0.0024 | Train Acc: 82.50%\n",
      "Test  Loss: 0.3690 | Test Acc: 87.89%\n",
      "--------------------------------------------------\n",
      "[Epoch 142/100000] :\n"
     ]
    },
    {
     "name": "stderr",
     "output_type": "stream",
     "text": [
      "100%|██████████| 196/196 [00:07<00:00, 27.66it/s]\n"
     ]
    },
    {
     "name": "stdout",
     "output_type": "stream",
     "text": [
      "Train Loss: 0.0030 | Train Acc: 78.75%\n",
      "Test  Loss: 0.3912 | Test Acc: 87.09%\n",
      "--------------------------------------------------\n",
      "[Epoch 143/100000] :\n"
     ]
    },
    {
     "name": "stderr",
     "output_type": "stream",
     "text": [
      "100%|██████████| 196/196 [00:07<00:00, 26.51it/s]\n"
     ]
    },
    {
     "name": "stdout",
     "output_type": "stream",
     "text": [
      "Train Loss: 0.0027 | Train Acc: 81.25%\n",
      "Test  Loss: 0.3231 | Test Acc: 88.98%\n",
      "--------------------------------------------------\n",
      "[Epoch 144/100000] :\n"
     ]
    },
    {
     "name": "stderr",
     "output_type": "stream",
     "text": [
      "100%|██████████| 196/196 [00:07<00:00, 25.51it/s]\n"
     ]
    },
    {
     "name": "stdout",
     "output_type": "stream",
     "text": [
      "Train Loss: 0.0024 | Train Acc: 85.00%\n",
      "Test  Loss: 0.4162 | Test Acc: 86.10%\n",
      "--------------------------------------------------\n",
      "[Epoch 145/100000] :\n"
     ]
    },
    {
     "name": "stderr",
     "output_type": "stream",
     "text": [
      "100%|██████████| 196/196 [00:07<00:00, 27.35it/s]\n"
     ]
    },
    {
     "name": "stdout",
     "output_type": "stream",
     "text": [
      "Train Loss: 0.0027 | Train Acc: 81.25%\n",
      "Test  Loss: 0.3518 | Test Acc: 87.54%\n",
      "--------------------------------------------------\n",
      "[Epoch 146/100000] :\n"
     ]
    },
    {
     "name": "stderr",
     "output_type": "stream",
     "text": [
      "100%|██████████| 196/196 [00:07<00:00, 25.43it/s]\n"
     ]
    },
    {
     "name": "stdout",
     "output_type": "stream",
     "text": [
      "Train Loss: 0.0023 | Train Acc: 86.25%\n",
      "Test  Loss: 0.3491 | Test Acc: 88.16%\n",
      "--------------------------------------------------\n",
      "[Epoch 147/100000] :\n"
     ]
    },
    {
     "name": "stderr",
     "output_type": "stream",
     "text": [
      "100%|██████████| 196/196 [00:07<00:00, 27.44it/s]\n"
     ]
    },
    {
     "name": "stdout",
     "output_type": "stream",
     "text": [
      "Train Loss: 0.0027 | Train Acc: 78.75%\n",
      "Test  Loss: 0.3903 | Test Acc: 87.67%\n",
      "--------------------------------------------------\n",
      "[Epoch 148/100000] :\n"
     ]
    },
    {
     "name": "stderr",
     "output_type": "stream",
     "text": [
      "100%|██████████| 196/196 [00:07<00:00, 25.55it/s]\n"
     ]
    },
    {
     "name": "stdout",
     "output_type": "stream",
     "text": [
      "Train Loss: 0.0022 | Train Acc: 86.25%\n",
      "Test  Loss: 0.3451 | Test Acc: 88.90%\n",
      "--------------------------------------------------\n",
      "[Epoch 149/100000] :\n"
     ]
    },
    {
     "name": "stderr",
     "output_type": "stream",
     "text": [
      "100%|██████████| 196/196 [00:07<00:00, 27.00it/s]\n"
     ]
    },
    {
     "name": "stdout",
     "output_type": "stream",
     "text": [
      "Train Loss: 0.0017 | Train Acc: 86.25%\n",
      "Test  Loss: 0.4070 | Test Acc: 86.62%\n",
      "--------------------------------------------------\n",
      "[Epoch 150/100000] :\n"
     ]
    },
    {
     "name": "stderr",
     "output_type": "stream",
     "text": [
      "100%|██████████| 196/196 [00:07<00:00, 26.60it/s]\n"
     ]
    },
    {
     "name": "stdout",
     "output_type": "stream",
     "text": [
      "Train Loss: 0.0019 | Train Acc: 90.00%\n",
      "Test  Loss: 0.3623 | Test Acc: 87.74%\n",
      "--------------------------------------------------\n",
      "[Epoch 151/100000] :\n"
     ]
    },
    {
     "name": "stderr",
     "output_type": "stream",
     "text": [
      "100%|██████████| 196/196 [00:07<00:00, 24.65it/s]\n"
     ]
    },
    {
     "name": "stdout",
     "output_type": "stream",
     "text": [
      "Train Loss: 0.0029 | Train Acc: 78.75%\n",
      "Test  Loss: 0.3742 | Test Acc: 87.51%\n",
      "--------------------------------------------------\n",
      "[Epoch 152/100000] :\n"
     ]
    },
    {
     "name": "stderr",
     "output_type": "stream",
     "text": [
      "100%|██████████| 196/196 [00:06<00:00, 28.51it/s]\n"
     ]
    },
    {
     "name": "stdout",
     "output_type": "stream",
     "text": [
      "Train Loss: 0.0026 | Train Acc: 82.50%\n",
      "Test  Loss: 0.3657 | Test Acc: 87.89%\n",
      "--------------------------------------------------\n",
      "[Epoch 153/100000] :\n"
     ]
    },
    {
     "name": "stderr",
     "output_type": "stream",
     "text": [
      "100%|██████████| 196/196 [00:07<00:00, 25.23it/s]\n"
     ]
    },
    {
     "name": "stdout",
     "output_type": "stream",
     "text": [
      "Train Loss: 0.0019 | Train Acc: 86.25%\n",
      "Test  Loss: 0.3779 | Test Acc: 87.39%\n",
      "--------------------------------------------------\n",
      "[Epoch 154/100000] :\n"
     ]
    },
    {
     "name": "stderr",
     "output_type": "stream",
     "text": [
      "100%|██████████| 196/196 [00:07<00:00, 27.11it/s]\n"
     ]
    },
    {
     "name": "stdout",
     "output_type": "stream",
     "text": [
      "Train Loss: 0.0032 | Train Acc: 77.50%\n",
      "Test  Loss: 0.4594 | Test Acc: 85.34%\n",
      "--------------------------------------------------\n",
      "[Epoch 155/100000] :\n"
     ]
    },
    {
     "name": "stderr",
     "output_type": "stream",
     "text": [
      "100%|██████████| 196/196 [00:07<00:00, 26.14it/s]\n"
     ]
    },
    {
     "name": "stdout",
     "output_type": "stream",
     "text": [
      "Train Loss: 0.0022 | Train Acc: 83.75%\n",
      "Test  Loss: 0.3890 | Test Acc: 87.25%\n",
      "--------------------------------------------------\n",
      "[Epoch 156/100000] :\n"
     ]
    },
    {
     "name": "stderr",
     "output_type": "stream",
     "text": [
      "100%|██████████| 196/196 [00:07<00:00, 27.43it/s]\n"
     ]
    },
    {
     "name": "stdout",
     "output_type": "stream",
     "text": [
      "Train Loss: 0.0022 | Train Acc: 87.50%\n",
      "Test  Loss: 0.4382 | Test Acc: 85.86%\n",
      "--------------------------------------------------\n",
      "[Epoch 157/100000] :\n"
     ]
    },
    {
     "name": "stderr",
     "output_type": "stream",
     "text": [
      "100%|██████████| 196/196 [00:07<00:00, 26.78it/s]\n"
     ]
    },
    {
     "name": "stdout",
     "output_type": "stream",
     "text": [
      "Train Loss: 0.0028 | Train Acc: 83.75%\n",
      "Test  Loss: 0.3677 | Test Acc: 87.41%\n",
      "--------------------------------------------------\n",
      "[Epoch 158/100000] :\n"
     ]
    },
    {
     "name": "stderr",
     "output_type": "stream",
     "text": [
      "100%|██████████| 196/196 [00:07<00:00, 26.07it/s]\n"
     ]
    },
    {
     "name": "stdout",
     "output_type": "stream",
     "text": [
      "Train Loss: 0.0024 | Train Acc: 85.00%\n",
      "Test  Loss: 0.3726 | Test Acc: 87.54%\n",
      "--------------------------------------------------\n",
      "[Epoch 159/100000] :\n"
     ]
    },
    {
     "name": "stderr",
     "output_type": "stream",
     "text": [
      "100%|██████████| 196/196 [00:07<00:00, 27.75it/s]\n"
     ]
    },
    {
     "name": "stdout",
     "output_type": "stream",
     "text": [
      "Train Loss: 0.0024 | Train Acc: 85.00%\n",
      "Test  Loss: 0.4566 | Test Acc: 86.11%\n",
      "--------------------------------------------------\n",
      "[Epoch 160/100000] :\n"
     ]
    },
    {
     "name": "stderr",
     "output_type": "stream",
     "text": [
      "100%|██████████| 196/196 [00:07<00:00, 26.60it/s]\n"
     ]
    },
    {
     "name": "stdout",
     "output_type": "stream",
     "text": [
      "Train Loss: 0.0022 | Train Acc: 85.00%\n",
      "Test  Loss: 0.3882 | Test Acc: 87.68%\n",
      "--------------------------------------------------\n",
      "[Epoch 161/100000] :\n"
     ]
    },
    {
     "name": "stderr",
     "output_type": "stream",
     "text": [
      "100%|██████████| 196/196 [00:06<00:00, 28.80it/s]\n"
     ]
    },
    {
     "name": "stdout",
     "output_type": "stream",
     "text": [
      "Train Loss: 0.0021 | Train Acc: 87.50%\n",
      "Test  Loss: 0.3681 | Test Acc: 87.56%\n",
      "--------------------------------------------------\n",
      "[Epoch 162/100000] :\n"
     ]
    },
    {
     "name": "stderr",
     "output_type": "stream",
     "text": [
      "100%|██████████| 196/196 [00:07<00:00, 25.93it/s]\n"
     ]
    },
    {
     "name": "stdout",
     "output_type": "stream",
     "text": [
      "Train Loss: 0.0025 | Train Acc: 85.00%\n",
      "Test  Loss: 0.3691 | Test Acc: 87.57%\n",
      "--------------------------------------------------\n",
      "[Epoch 163/100000] :\n"
     ]
    },
    {
     "name": "stderr",
     "output_type": "stream",
     "text": [
      "100%|██████████| 196/196 [00:07<00:00, 25.24it/s]\n"
     ]
    },
    {
     "name": "stdout",
     "output_type": "stream",
     "text": [
      "Train Loss: 0.0025 | Train Acc: 82.50%\n",
      "Test  Loss: 0.3729 | Test Acc: 87.97%\n",
      "--------------------------------------------------\n",
      "[Epoch 164/100000] :\n"
     ]
    },
    {
     "name": "stderr",
     "output_type": "stream",
     "text": [
      "100%|██████████| 196/196 [00:07<00:00, 26.67it/s]\n"
     ]
    },
    {
     "name": "stdout",
     "output_type": "stream",
     "text": [
      "Train Loss: 0.0022 | Train Acc: 81.25%\n",
      "Test  Loss: 0.3691 | Test Acc: 87.79%\n",
      "--------------------------------------------------\n",
      "[Epoch 165/100000] :\n"
     ]
    },
    {
     "name": "stderr",
     "output_type": "stream",
     "text": [
      "100%|██████████| 196/196 [00:07<00:00, 26.77it/s]\n"
     ]
    },
    {
     "name": "stdout",
     "output_type": "stream",
     "text": [
      "Train Loss: 0.0022 | Train Acc: 83.75%\n",
      "Test  Loss: 0.4420 | Test Acc: 86.40%\n",
      "--------------------------------------------------\n",
      "[Epoch 166/100000] :\n"
     ]
    },
    {
     "name": "stderr",
     "output_type": "stream",
     "text": [
      "100%|██████████| 196/196 [00:07<00:00, 27.20it/s]\n"
     ]
    },
    {
     "name": "stdout",
     "output_type": "stream",
     "text": [
      "Train Loss: 0.0019 | Train Acc: 87.50%\n",
      "Test  Loss: 0.4226 | Test Acc: 86.35%\n",
      "--------------------------------------------------\n",
      "[Epoch 167/100000] :\n"
     ]
    },
    {
     "name": "stderr",
     "output_type": "stream",
     "text": [
      "100%|██████████| 196/196 [00:07<00:00, 25.60it/s]\n"
     ]
    },
    {
     "name": "stdout",
     "output_type": "stream",
     "text": [
      "Train Loss: 0.0026 | Train Acc: 80.00%\n",
      "Test  Loss: 0.3749 | Test Acc: 87.86%\n",
      "--------------------------------------------------\n",
      "[Epoch 168/100000] :\n"
     ]
    },
    {
     "name": "stderr",
     "output_type": "stream",
     "text": [
      "100%|██████████| 196/196 [00:06<00:00, 28.11it/s]\n"
     ]
    },
    {
     "name": "stdout",
     "output_type": "stream",
     "text": [
      "Train Loss: 0.0019 | Train Acc: 88.75%\n",
      "Test  Loss: 0.4615 | Test Acc: 85.20%\n",
      "--------------------------------------------------\n",
      "[Epoch 169/100000] :\n"
     ]
    },
    {
     "name": "stderr",
     "output_type": "stream",
     "text": [
      "100%|██████████| 196/196 [00:07<00:00, 27.32it/s]\n"
     ]
    },
    {
     "name": "stdout",
     "output_type": "stream",
     "text": [
      "Train Loss: 0.0035 | Train Acc: 77.50%\n",
      "Test  Loss: 0.4483 | Test Acc: 85.92%\n",
      "--------------------------------------------------\n",
      "[Epoch 170/100000] :\n"
     ]
    },
    {
     "name": "stderr",
     "output_type": "stream",
     "text": [
      "100%|██████████| 196/196 [00:07<00:00, 25.33it/s]\n"
     ]
    },
    {
     "name": "stdout",
     "output_type": "stream",
     "text": [
      "Train Loss: 0.0027 | Train Acc: 80.00%\n",
      "Test  Loss: 0.3243 | Test Acc: 89.46%\n",
      "--------------------------------------------------\n",
      "[Epoch 171/100000] :\n"
     ]
    },
    {
     "name": "stderr",
     "output_type": "stream",
     "text": [
      "100%|██████████| 196/196 [00:07<00:00, 26.54it/s]\n"
     ]
    },
    {
     "name": "stdout",
     "output_type": "stream",
     "text": [
      "Train Loss: 0.0021 | Train Acc: 83.75%\n",
      "Test  Loss: 0.3844 | Test Acc: 87.06%\n",
      "--------------------------------------------------\n",
      "[Epoch 172/100000] :\n"
     ]
    },
    {
     "name": "stderr",
     "output_type": "stream",
     "text": [
      "100%|██████████| 196/196 [00:07<00:00, 26.11it/s]\n"
     ]
    },
    {
     "name": "stdout",
     "output_type": "stream",
     "text": [
      "Train Loss: 0.0038 | Train Acc: 71.25%\n",
      "Test  Loss: 0.4143 | Test Acc: 86.91%\n",
      "--------------------------------------------------\n",
      "[Epoch 173/100000] :\n"
     ]
    },
    {
     "name": "stderr",
     "output_type": "stream",
     "text": [
      "100%|██████████| 196/196 [00:07<00:00, 27.38it/s]\n"
     ]
    },
    {
     "name": "stdout",
     "output_type": "stream",
     "text": [
      "Train Loss: 0.0026 | Train Acc: 80.00%\n",
      "Test  Loss: 0.3703 | Test Acc: 87.84%\n",
      "--------------------------------------------------\n",
      "[Epoch 174/100000] :\n"
     ]
    },
    {
     "name": "stderr",
     "output_type": "stream",
     "text": [
      "100%|██████████| 196/196 [00:07<00:00, 26.01it/s]\n"
     ]
    },
    {
     "name": "stdout",
     "output_type": "stream",
     "text": [
      "Train Loss: 0.0020 | Train Acc: 87.50%\n",
      "Test  Loss: 0.4685 | Test Acc: 85.03%\n",
      "--------------------------------------------------\n",
      "[Epoch 175/100000] :\n"
     ]
    },
    {
     "name": "stderr",
     "output_type": "stream",
     "text": [
      "100%|██████████| 196/196 [00:07<00:00, 26.28it/s]\n"
     ]
    },
    {
     "name": "stdout",
     "output_type": "stream",
     "text": [
      "Train Loss: 0.0018 | Train Acc: 85.00%\n",
      "Test  Loss: 0.3762 | Test Acc: 87.99%\n",
      "--------------------------------------------------\n",
      "[Epoch 176/100000] :\n"
     ]
    },
    {
     "name": "stderr",
     "output_type": "stream",
     "text": [
      "100%|██████████| 196/196 [00:07<00:00, 26.11it/s]\n"
     ]
    },
    {
     "name": "stdout",
     "output_type": "stream",
     "text": [
      "Train Loss: 0.0019 | Train Acc: 87.50%\n",
      "Test  Loss: 0.3926 | Test Acc: 87.32%\n",
      "--------------------------------------------------\n",
      "[Epoch 177/100000] :\n"
     ]
    },
    {
     "name": "stderr",
     "output_type": "stream",
     "text": [
      "100%|██████████| 196/196 [00:07<00:00, 25.81it/s]\n"
     ]
    },
    {
     "name": "stdout",
     "output_type": "stream",
     "text": [
      "Train Loss: 0.0023 | Train Acc: 87.50%\n",
      "Test  Loss: 0.3566 | Test Acc: 88.26%\n",
      "--------------------------------------------------\n",
      "[Epoch 178/100000] :\n"
     ]
    },
    {
     "name": "stderr",
     "output_type": "stream",
     "text": [
      "100%|██████████| 196/196 [00:07<00:00, 27.72it/s]\n"
     ]
    },
    {
     "name": "stdout",
     "output_type": "stream",
     "text": [
      "Train Loss: 0.0022 | Train Acc: 87.50%\n",
      "Test  Loss: 0.4597 | Test Acc: 84.81%\n",
      "--------------------------------------------------\n",
      "[Epoch 179/100000] :\n"
     ]
    },
    {
     "name": "stderr",
     "output_type": "stream",
     "text": [
      "100%|██████████| 196/196 [00:07<00:00, 24.82it/s]\n"
     ]
    },
    {
     "name": "stdout",
     "output_type": "stream",
     "text": [
      "Train Loss: 0.0020 | Train Acc: 87.50%\n",
      "Test  Loss: 0.4781 | Test Acc: 85.27%\n",
      "--------------------------------------------------\n",
      "[Epoch 180/100000] :\n"
     ]
    },
    {
     "name": "stderr",
     "output_type": "stream",
     "text": [
      "100%|██████████| 196/196 [00:07<00:00, 27.72it/s]\n"
     ]
    },
    {
     "name": "stdout",
     "output_type": "stream",
     "text": [
      "Train Loss: 0.0025 | Train Acc: 80.00%\n",
      "Test  Loss: 0.4666 | Test Acc: 84.99%\n",
      "--------------------------------------------------\n",
      "[Epoch 181/100000] :\n"
     ]
    },
    {
     "name": "stderr",
     "output_type": "stream",
     "text": [
      "100%|██████████| 196/196 [00:07<00:00, 26.23it/s]\n"
     ]
    },
    {
     "name": "stdout",
     "output_type": "stream",
     "text": [
      "Train Loss: 0.0022 | Train Acc: 83.75%\n",
      "Test  Loss: 0.3299 | Test Acc: 88.69%\n",
      "--------------------------------------------------\n",
      "[Epoch 182/100000] :\n"
     ]
    },
    {
     "name": "stderr",
     "output_type": "stream",
     "text": [
      "100%|██████████| 196/196 [00:07<00:00, 27.79it/s]\n"
     ]
    },
    {
     "name": "stdout",
     "output_type": "stream",
     "text": [
      "Train Loss: 0.0032 | Train Acc: 77.50%\n",
      "Test  Loss: 0.3670 | Test Acc: 87.85%\n",
      "--------------------------------------------------\n",
      "[Epoch 183/100000] :\n"
     ]
    },
    {
     "name": "stderr",
     "output_type": "stream",
     "text": [
      "100%|██████████| 196/196 [00:07<00:00, 25.90it/s]\n"
     ]
    },
    {
     "name": "stdout",
     "output_type": "stream",
     "text": [
      "Train Loss: 0.0023 | Train Acc: 83.75%\n",
      "Test  Loss: 0.3415 | Test Acc: 88.93%\n",
      "--------------------------------------------------\n",
      "[Epoch 184/100000] :\n"
     ]
    },
    {
     "name": "stderr",
     "output_type": "stream",
     "text": [
      "100%|██████████| 196/196 [00:07<00:00, 26.26it/s]\n"
     ]
    },
    {
     "name": "stdout",
     "output_type": "stream",
     "text": [
      "Train Loss: 0.0037 | Train Acc: 75.00%\n",
      "Test  Loss: 0.4023 | Test Acc: 87.11%\n",
      "--------------------------------------------------\n",
      "[Epoch 185/100000] :\n"
     ]
    },
    {
     "name": "stderr",
     "output_type": "stream",
     "text": [
      "100%|██████████| 196/196 [00:07<00:00, 26.87it/s]\n"
     ]
    },
    {
     "name": "stdout",
     "output_type": "stream",
     "text": [
      "Train Loss: 0.0023 | Train Acc: 86.25%\n",
      "Test  Loss: 0.3743 | Test Acc: 87.34%\n",
      "--------------------------------------------------\n",
      "[Epoch 186/100000] :\n"
     ]
    },
    {
     "name": "stderr",
     "output_type": "stream",
     "text": [
      "100%|██████████| 196/196 [00:07<00:00, 26.66it/s]\n"
     ]
    },
    {
     "name": "stdout",
     "output_type": "stream",
     "text": [
      "Train Loss: 0.0023 | Train Acc: 87.50%\n",
      "Test  Loss: 0.3417 | Test Acc: 88.82%\n",
      "--------------------------------------------------\n",
      "[Epoch 187/100000] :\n"
     ]
    },
    {
     "name": "stderr",
     "output_type": "stream",
     "text": [
      "100%|██████████| 196/196 [00:06<00:00, 29.60it/s]\n"
     ]
    },
    {
     "name": "stdout",
     "output_type": "stream",
     "text": [
      "Train Loss: 0.0030 | Train Acc: 82.50%\n",
      "Test  Loss: 0.3826 | Test Acc: 87.49%\n",
      "--------------------------------------------------\n",
      "[Epoch 188/100000] :\n"
     ]
    },
    {
     "name": "stderr",
     "output_type": "stream",
     "text": [
      "100%|██████████| 196/196 [00:07<00:00, 25.78it/s]\n"
     ]
    },
    {
     "name": "stdout",
     "output_type": "stream",
     "text": [
      "Train Loss: 0.0018 | Train Acc: 85.00%\n",
      "Test  Loss: 0.3572 | Test Acc: 88.30%\n",
      "--------------------------------------------------\n",
      "[Epoch 189/100000] :\n"
     ]
    },
    {
     "name": "stderr",
     "output_type": "stream",
     "text": [
      "100%|██████████| 196/196 [00:07<00:00, 27.06it/s]\n"
     ]
    },
    {
     "name": "stdout",
     "output_type": "stream",
     "text": [
      "Train Loss: 0.0021 | Train Acc: 85.00%\n",
      "Test  Loss: 0.3426 | Test Acc: 88.54%\n",
      "--------------------------------------------------\n",
      "[Epoch 190/100000] :\n"
     ]
    },
    {
     "name": "stderr",
     "output_type": "stream",
     "text": [
      "100%|██████████| 196/196 [00:07<00:00, 27.62it/s]\n"
     ]
    },
    {
     "name": "stdout",
     "output_type": "stream",
     "text": [
      "Train Loss: 0.0034 | Train Acc: 75.00%\n",
      "Test  Loss: 0.3129 | Test Acc: 89.85%\n",
      "updated best eval loss : 0.3129184111952782\n",
      "--------------------------------------------------\n",
      "[Epoch 191/100000] :\n"
     ]
    },
    {
     "name": "stderr",
     "output_type": "stream",
     "text": [
      "100%|██████████| 196/196 [00:07<00:00, 26.41it/s]\n"
     ]
    },
    {
     "name": "stdout",
     "output_type": "stream",
     "text": [
      "Train Loss: 0.0023 | Train Acc: 86.25%\n",
      "Test  Loss: 0.3251 | Test Acc: 89.09%\n",
      "--------------------------------------------------\n",
      "[Epoch 192/100000] :\n"
     ]
    },
    {
     "name": "stderr",
     "output_type": "stream",
     "text": [
      "100%|██████████| 196/196 [00:06<00:00, 29.10it/s]\n"
     ]
    },
    {
     "name": "stdout",
     "output_type": "stream",
     "text": [
      "Train Loss: 0.0030 | Train Acc: 78.75%\n",
      "Test  Loss: 0.3666 | Test Acc: 87.96%\n",
      "--------------------------------------------------\n",
      "[Epoch 193/100000] :\n"
     ]
    },
    {
     "name": "stderr",
     "output_type": "stream",
     "text": [
      "100%|██████████| 196/196 [00:07<00:00, 25.25it/s]\n"
     ]
    },
    {
     "name": "stdout",
     "output_type": "stream",
     "text": [
      "Train Loss: 0.0022 | Train Acc: 82.50%\n",
      "Test  Loss: 0.3277 | Test Acc: 89.13%\n",
      "--------------------------------------------------\n",
      "[Epoch 194/100000] :\n"
     ]
    },
    {
     "name": "stderr",
     "output_type": "stream",
     "text": [
      "100%|██████████| 196/196 [00:07<00:00, 25.41it/s]\n"
     ]
    },
    {
     "name": "stdout",
     "output_type": "stream",
     "text": [
      "Train Loss: 0.0028 | Train Acc: 85.00%\n",
      "Test  Loss: 0.3876 | Test Acc: 88.04%\n",
      "--------------------------------------------------\n",
      "[Epoch 195/100000] :\n"
     ]
    },
    {
     "name": "stderr",
     "output_type": "stream",
     "text": [
      "100%|██████████| 196/196 [00:07<00:00, 26.24it/s]\n"
     ]
    },
    {
     "name": "stdout",
     "output_type": "stream",
     "text": [
      "Train Loss: 0.0019 | Train Acc: 87.50%\n",
      "Test  Loss: 0.3228 | Test Acc: 89.49%\n",
      "--------------------------------------------------\n",
      "[Epoch 196/100000] :\n"
     ]
    },
    {
     "name": "stderr",
     "output_type": "stream",
     "text": [
      "100%|██████████| 196/196 [00:07<00:00, 26.28it/s]\n"
     ]
    },
    {
     "name": "stdout",
     "output_type": "stream",
     "text": [
      "Train Loss: 0.0021 | Train Acc: 85.00%\n",
      "Test  Loss: 0.3231 | Test Acc: 88.91%\n",
      "--------------------------------------------------\n",
      "[Epoch 197/100000] :\n"
     ]
    },
    {
     "name": "stderr",
     "output_type": "stream",
     "text": [
      "100%|██████████| 196/196 [00:07<00:00, 25.99it/s]\n"
     ]
    },
    {
     "name": "stdout",
     "output_type": "stream",
     "text": [
      "Train Loss: 0.0038 | Train Acc: 76.25%\n",
      "Test  Loss: 0.3892 | Test Acc: 87.30%\n",
      "--------------------------------------------------\n",
      "[Epoch 198/100000] :\n"
     ]
    },
    {
     "name": "stderr",
     "output_type": "stream",
     "text": [
      "100%|██████████| 196/196 [00:07<00:00, 25.30it/s]\n"
     ]
    },
    {
     "name": "stdout",
     "output_type": "stream",
     "text": [
      "Train Loss: 0.0021 | Train Acc: 83.75%\n",
      "Test  Loss: 0.3990 | Test Acc: 87.36%\n",
      "--------------------------------------------------\n",
      "[Epoch 199/100000] :\n"
     ]
    },
    {
     "name": "stderr",
     "output_type": "stream",
     "text": [
      "100%|██████████| 196/196 [00:07<00:00, 26.81it/s]\n"
     ]
    },
    {
     "name": "stdout",
     "output_type": "stream",
     "text": [
      "Train Loss: 0.0024 | Train Acc: 82.50%\n",
      "Test  Loss: 0.4551 | Test Acc: 86.06%\n",
      "--------------------------------------------------\n",
      "[Epoch 200/100000] :\n"
     ]
    },
    {
     "name": "stderr",
     "output_type": "stream",
     "text": [
      "100%|██████████| 196/196 [00:07<00:00, 25.36it/s]\n"
     ]
    },
    {
     "name": "stdout",
     "output_type": "stream",
     "text": [
      "Train Loss: 0.0024 | Train Acc: 85.00%\n",
      "Test  Loss: 0.3105 | Test Acc: 89.50%\n",
      "updated best eval loss : 0.31045137271285056\n",
      "--------------------------------------------------\n",
      "[Epoch 201/100000] :\n"
     ]
    },
    {
     "name": "stderr",
     "output_type": "stream",
     "text": [
      "100%|██████████| 196/196 [00:07<00:00, 26.56it/s]\n"
     ]
    },
    {
     "name": "stdout",
     "output_type": "stream",
     "text": [
      "Train Loss: 0.0026 | Train Acc: 81.25%\n",
      "Test  Loss: 0.3866 | Test Acc: 87.09%\n",
      "--------------------------------------------------\n",
      "[Epoch 202/100000] :\n"
     ]
    },
    {
     "name": "stderr",
     "output_type": "stream",
     "text": [
      "100%|██████████| 196/196 [00:07<00:00, 25.78it/s]\n"
     ]
    },
    {
     "name": "stdout",
     "output_type": "stream",
     "text": [
      "Train Loss: 0.0030 | Train Acc: 78.75%\n",
      "Test  Loss: 0.4236 | Test Acc: 86.63%\n",
      "--------------------------------------------------\n",
      "[Epoch 203/100000] :\n"
     ]
    },
    {
     "name": "stderr",
     "output_type": "stream",
     "text": [
      "100%|██████████| 196/196 [00:07<00:00, 27.13it/s]\n"
     ]
    },
    {
     "name": "stdout",
     "output_type": "stream",
     "text": [
      "Train Loss: 0.0026 | Train Acc: 85.00%\n",
      "Test  Loss: 0.4065 | Test Acc: 87.09%\n",
      "--------------------------------------------------\n",
      "[Epoch 204/100000] :\n"
     ]
    },
    {
     "name": "stderr",
     "output_type": "stream",
     "text": [
      "100%|██████████| 196/196 [00:07<00:00, 25.87it/s]\n"
     ]
    },
    {
     "name": "stdout",
     "output_type": "stream",
     "text": [
      "Train Loss: 0.0028 | Train Acc: 78.75%\n",
      "Test  Loss: 0.3298 | Test Acc: 88.60%\n",
      "--------------------------------------------------\n",
      "[Epoch 205/100000] :\n"
     ]
    },
    {
     "name": "stderr",
     "output_type": "stream",
     "text": [
      "100%|██████████| 196/196 [00:07<00:00, 25.26it/s]\n"
     ]
    },
    {
     "name": "stdout",
     "output_type": "stream",
     "text": [
      "Train Loss: 0.0031 | Train Acc: 83.75%\n",
      "Test  Loss: 0.3361 | Test Acc: 88.54%\n",
      "--------------------------------------------------\n",
      "[Epoch 206/100000] :\n"
     ]
    },
    {
     "name": "stderr",
     "output_type": "stream",
     "text": [
      "100%|██████████| 196/196 [00:06<00:00, 28.00it/s]\n"
     ]
    },
    {
     "name": "stdout",
     "output_type": "stream",
     "text": [
      "Train Loss: 0.0027 | Train Acc: 78.75%\n",
      "Test  Loss: 0.4079 | Test Acc: 87.21%\n",
      "--------------------------------------------------\n",
      "[Epoch 207/100000] :\n"
     ]
    },
    {
     "name": "stderr",
     "output_type": "stream",
     "text": [
      "100%|██████████| 196/196 [00:07<00:00, 25.00it/s]\n"
     ]
    },
    {
     "name": "stdout",
     "output_type": "stream",
     "text": [
      "Train Loss: 0.0025 | Train Acc: 80.00%\n",
      "Test  Loss: 0.4196 | Test Acc: 86.43%\n",
      "--------------------------------------------------\n",
      "[Epoch 208/100000] :\n"
     ]
    },
    {
     "name": "stderr",
     "output_type": "stream",
     "text": [
      "100%|██████████| 196/196 [00:07<00:00, 27.65it/s]\n"
     ]
    },
    {
     "name": "stdout",
     "output_type": "stream",
     "text": [
      "Train Loss: 0.0028 | Train Acc: 75.00%\n",
      "Test  Loss: 0.3763 | Test Acc: 88.41%\n",
      "--------------------------------------------------\n",
      "[Epoch 209/100000] :\n"
     ]
    },
    {
     "name": "stderr",
     "output_type": "stream",
     "text": [
      "100%|██████████| 196/196 [00:07<00:00, 24.83it/s]\n"
     ]
    },
    {
     "name": "stdout",
     "output_type": "stream",
     "text": [
      "Train Loss: 0.0029 | Train Acc: 77.50%\n",
      "Test  Loss: 0.3309 | Test Acc: 88.88%\n",
      "--------------------------------------------------\n",
      "[Epoch 210/100000] :\n"
     ]
    },
    {
     "name": "stderr",
     "output_type": "stream",
     "text": [
      "100%|██████████| 196/196 [00:07<00:00, 26.67it/s]\n"
     ]
    },
    {
     "name": "stdout",
     "output_type": "stream",
     "text": [
      "Train Loss: 0.0028 | Train Acc: 80.00%\n",
      "Test  Loss: 0.4195 | Test Acc: 86.89%\n",
      "--------------------------------------------------\n",
      "[Epoch 211/100000] :\n"
     ]
    },
    {
     "name": "stderr",
     "output_type": "stream",
     "text": [
      "100%|██████████| 196/196 [00:07<00:00, 25.56it/s]\n"
     ]
    },
    {
     "name": "stdout",
     "output_type": "stream",
     "text": [
      "Train Loss: 0.0028 | Train Acc: 78.75%\n",
      "Test  Loss: 0.4031 | Test Acc: 86.70%\n",
      "--------------------------------------------------\n",
      "[Epoch 212/100000] :\n"
     ]
    },
    {
     "name": "stderr",
     "output_type": "stream",
     "text": [
      "100%|██████████| 196/196 [00:07<00:00, 26.60it/s]\n"
     ]
    },
    {
     "name": "stdout",
     "output_type": "stream",
     "text": [
      "Train Loss: 0.0014 | Train Acc: 90.00%\n",
      "Test  Loss: 0.2976 | Test Acc: 89.74%\n",
      "updated best eval loss : 0.29755823574960233\n",
      "--------------------------------------------------\n",
      "[Epoch 213/100000] :\n"
     ]
    },
    {
     "name": "stderr",
     "output_type": "stream",
     "text": [
      "100%|██████████| 196/196 [00:07<00:00, 27.89it/s]\n"
     ]
    },
    {
     "name": "stdout",
     "output_type": "stream",
     "text": [
      "Train Loss: 0.0037 | Train Acc: 77.50%\n",
      "Test  Loss: 0.4644 | Test Acc: 85.18%\n",
      "--------------------------------------------------\n",
      "[Epoch 214/100000] :\n"
     ]
    },
    {
     "name": "stderr",
     "output_type": "stream",
     "text": [
      "100%|██████████| 196/196 [00:07<00:00, 26.13it/s]\n"
     ]
    },
    {
     "name": "stdout",
     "output_type": "stream",
     "text": [
      "Train Loss: 0.0021 | Train Acc: 86.25%\n",
      "Test  Loss: 0.3901 | Test Acc: 87.53%\n",
      "--------------------------------------------------\n",
      "[Epoch 215/100000] :\n"
     ]
    },
    {
     "name": "stderr",
     "output_type": "stream",
     "text": [
      "100%|██████████| 196/196 [00:06<00:00, 29.19it/s]\n"
     ]
    },
    {
     "name": "stdout",
     "output_type": "stream",
     "text": [
      "Train Loss: 0.0025 | Train Acc: 85.00%\n",
      "Test  Loss: 0.3294 | Test Acc: 88.69%\n",
      "--------------------------------------------------\n",
      "[Epoch 216/100000] :\n"
     ]
    },
    {
     "name": "stderr",
     "output_type": "stream",
     "text": [
      "100%|██████████| 196/196 [00:07<00:00, 26.14it/s]\n"
     ]
    },
    {
     "name": "stdout",
     "output_type": "stream",
     "text": [
      "Train Loss: 0.0024 | Train Acc: 83.75%\n",
      "Test  Loss: 0.3781 | Test Acc: 86.98%\n",
      "--------------------------------------------------\n",
      "[Epoch 217/100000] :\n"
     ]
    },
    {
     "name": "stderr",
     "output_type": "stream",
     "text": [
      "100%|██████████| 196/196 [00:07<00:00, 27.08it/s]\n"
     ]
    },
    {
     "name": "stdout",
     "output_type": "stream",
     "text": [
      "Train Loss: 0.0019 | Train Acc: 85.00%\n",
      "Test  Loss: 0.3747 | Test Acc: 88.04%\n",
      "--------------------------------------------------\n",
      "[Epoch 218/100000] :\n"
     ]
    },
    {
     "name": "stderr",
     "output_type": "stream",
     "text": [
      "100%|██████████| 196/196 [00:07<00:00, 27.60it/s]\n"
     ]
    },
    {
     "name": "stdout",
     "output_type": "stream",
     "text": [
      "Train Loss: 0.0017 | Train Acc: 85.00%\n",
      "Test  Loss: 0.3331 | Test Acc: 88.79%\n",
      "--------------------------------------------------\n",
      "[Epoch 219/100000] :\n"
     ]
    },
    {
     "name": "stderr",
     "output_type": "stream",
     "text": [
      "100%|██████████| 196/196 [00:07<00:00, 26.12it/s]\n"
     ]
    },
    {
     "name": "stdout",
     "output_type": "stream",
     "text": [
      "Train Loss: 0.0025 | Train Acc: 81.25%\n",
      "Test  Loss: 0.4177 | Test Acc: 86.14%\n",
      "--------------------------------------------------\n",
      "[Epoch 220/100000] :\n"
     ]
    },
    {
     "name": "stderr",
     "output_type": "stream",
     "text": [
      "100%|██████████| 196/196 [00:07<00:00, 27.90it/s]\n"
     ]
    },
    {
     "name": "stdout",
     "output_type": "stream",
     "text": [
      "Train Loss: 0.0017 | Train Acc: 93.75%\n",
      "Test  Loss: 0.3360 | Test Acc: 88.66%\n",
      "--------------------------------------------------\n",
      "[Epoch 221/100000] :\n"
     ]
    },
    {
     "name": "stderr",
     "output_type": "stream",
     "text": [
      "100%|██████████| 196/196 [00:07<00:00, 24.96it/s]\n"
     ]
    },
    {
     "name": "stdout",
     "output_type": "stream",
     "text": [
      "Train Loss: 0.0030 | Train Acc: 81.25%\n",
      "Test  Loss: 0.3307 | Test Acc: 88.63%\n",
      "--------------------------------------------------\n",
      "[Epoch 222/100000] :\n"
     ]
    },
    {
     "name": "stderr",
     "output_type": "stream",
     "text": [
      "100%|██████████| 196/196 [00:07<00:00, 27.32it/s]\n"
     ]
    },
    {
     "name": "stdout",
     "output_type": "stream",
     "text": [
      "Train Loss: 0.0015 | Train Acc: 90.00%\n",
      "Test  Loss: 0.3851 | Test Acc: 87.64%\n",
      "--------------------------------------------------\n",
      "[Epoch 223/100000] :\n"
     ]
    },
    {
     "name": "stderr",
     "output_type": "stream",
     "text": [
      "100%|██████████| 196/196 [00:07<00:00, 25.82it/s]\n"
     ]
    },
    {
     "name": "stdout",
     "output_type": "stream",
     "text": [
      "Train Loss: 0.0019 | Train Acc: 87.50%\n",
      "Test  Loss: 0.3495 | Test Acc: 88.43%\n",
      "--------------------------------------------------\n",
      "[Epoch 224/100000] :\n"
     ]
    },
    {
     "name": "stderr",
     "output_type": "stream",
     "text": [
      "100%|██████████| 196/196 [00:07<00:00, 27.49it/s]\n"
     ]
    },
    {
     "name": "stdout",
     "output_type": "stream",
     "text": [
      "Train Loss: 0.0026 | Train Acc: 85.00%\n",
      "Test  Loss: 0.3352 | Test Acc: 89.01%\n",
      "--------------------------------------------------\n",
      "[Epoch 225/100000] :\n"
     ]
    },
    {
     "name": "stderr",
     "output_type": "stream",
     "text": [
      "100%|██████████| 196/196 [00:07<00:00, 27.37it/s]\n"
     ]
    },
    {
     "name": "stdout",
     "output_type": "stream",
     "text": [
      "Train Loss: 0.0023 | Train Acc: 82.50%\n",
      "Test  Loss: 0.4260 | Test Acc: 87.20%\n",
      "--------------------------------------------------\n",
      "[Epoch 226/100000] :\n"
     ]
    },
    {
     "name": "stderr",
     "output_type": "stream",
     "text": [
      "100%|██████████| 196/196 [00:07<00:00, 26.26it/s]\n"
     ]
    },
    {
     "name": "stdout",
     "output_type": "stream",
     "text": [
      "Train Loss: 0.0029 | Train Acc: 80.00%\n",
      "Test  Loss: 0.3474 | Test Acc: 88.82%\n",
      "--------------------------------------------------\n",
      "[Epoch 227/100000] :\n"
     ]
    },
    {
     "name": "stderr",
     "output_type": "stream",
     "text": [
      "100%|██████████| 196/196 [00:06<00:00, 29.86it/s]\n"
     ]
    },
    {
     "name": "stdout",
     "output_type": "stream",
     "text": [
      "Train Loss: 0.0027 | Train Acc: 80.00%\n",
      "Test  Loss: 0.3938 | Test Acc: 86.95%\n",
      "--------------------------------------------------\n",
      "[Epoch 228/100000] :\n"
     ]
    },
    {
     "name": "stderr",
     "output_type": "stream",
     "text": [
      "100%|██████████| 196/196 [00:08<00:00, 24.44it/s]\n"
     ]
    },
    {
     "name": "stdout",
     "output_type": "stream",
     "text": [
      "Train Loss: 0.0025 | Train Acc: 88.75%\n",
      "Test  Loss: 0.3356 | Test Acc: 89.03%\n",
      "--------------------------------------------------\n",
      "[Epoch 229/100000] :\n"
     ]
    },
    {
     "name": "stderr",
     "output_type": "stream",
     "text": [
      "100%|██████████| 196/196 [00:07<00:00, 27.91it/s]\n"
     ]
    },
    {
     "name": "stdout",
     "output_type": "stream",
     "text": [
      "Train Loss: 0.0013 | Train Acc: 91.25%\n",
      "Test  Loss: 0.4193 | Test Acc: 86.58%\n",
      "--------------------------------------------------\n",
      "[Epoch 230/100000] :\n"
     ]
    },
    {
     "name": "stderr",
     "output_type": "stream",
     "text": [
      "100%|██████████| 196/196 [00:07<00:00, 25.89it/s]\n"
     ]
    },
    {
     "name": "stdout",
     "output_type": "stream",
     "text": [
      "Train Loss: 0.0030 | Train Acc: 82.50%\n",
      "Test  Loss: 0.3763 | Test Acc: 87.64%\n",
      "--------------------------------------------------\n",
      "[Epoch 231/100000] :\n"
     ]
    },
    {
     "name": "stderr",
     "output_type": "stream",
     "text": [
      "100%|██████████| 196/196 [00:07<00:00, 25.47it/s]\n"
     ]
    },
    {
     "name": "stdout",
     "output_type": "stream",
     "text": [
      "Train Loss: 0.0021 | Train Acc: 86.25%\n",
      "Test  Loss: 0.4067 | Test Acc: 87.15%\n",
      "--------------------------------------------------\n",
      "[Epoch 232/100000] :\n"
     ]
    },
    {
     "name": "stderr",
     "output_type": "stream",
     "text": [
      "100%|██████████| 196/196 [00:06<00:00, 28.87it/s]\n"
     ]
    },
    {
     "name": "stdout",
     "output_type": "stream",
     "text": [
      "Train Loss: 0.0030 | Train Acc: 73.75%\n",
      "Test  Loss: 0.4139 | Test Acc: 86.97%\n",
      "--------------------------------------------------\n",
      "[Epoch 233/100000] :\n"
     ]
    },
    {
     "name": "stderr",
     "output_type": "stream",
     "text": [
      "100%|██████████| 196/196 [00:07<00:00, 25.79it/s]\n"
     ]
    },
    {
     "name": "stdout",
     "output_type": "stream",
     "text": [
      "Train Loss: 0.0019 | Train Acc: 86.25%\n",
      "Test  Loss: 0.3769 | Test Acc: 87.94%\n",
      "--------------------------------------------------\n",
      "[Epoch 234/100000] :\n"
     ]
    },
    {
     "name": "stderr",
     "output_type": "stream",
     "text": [
      "100%|██████████| 196/196 [00:06<00:00, 28.45it/s]\n"
     ]
    },
    {
     "name": "stdout",
     "output_type": "stream",
     "text": [
      "Train Loss: 0.0025 | Train Acc: 81.25%\n",
      "Test  Loss: 0.3364 | Test Acc: 89.16%\n",
      "--------------------------------------------------\n",
      "[Epoch 235/100000] :\n"
     ]
    },
    {
     "name": "stderr",
     "output_type": "stream",
     "text": [
      "100%|██████████| 196/196 [00:07<00:00, 25.02it/s]\n"
     ]
    },
    {
     "name": "stdout",
     "output_type": "stream",
     "text": [
      "Train Loss: 0.0023 | Train Acc: 81.25%\n",
      "Test  Loss: 0.3658 | Test Acc: 88.31%\n",
      "--------------------------------------------------\n",
      "[Epoch 236/100000] :\n"
     ]
    },
    {
     "name": "stderr",
     "output_type": "stream",
     "text": [
      "100%|██████████| 196/196 [00:07<00:00, 25.55it/s]\n"
     ]
    },
    {
     "name": "stdout",
     "output_type": "stream",
     "text": [
      "Train Loss: 0.0026 | Train Acc: 80.00%\n",
      "Test  Loss: 0.4646 | Test Acc: 85.56%\n",
      "--------------------------------------------------\n",
      "[Epoch 237/100000] :\n"
     ]
    },
    {
     "name": "stderr",
     "output_type": "stream",
     "text": [
      "100%|██████████| 196/196 [00:07<00:00, 25.10it/s]\n"
     ]
    },
    {
     "name": "stdout",
     "output_type": "stream",
     "text": [
      "Train Loss: 0.0020 | Train Acc: 86.25%\n",
      "Test  Loss: 0.3413 | Test Acc: 88.59%\n",
      "--------------------------------------------------\n",
      "[Epoch 238/100000] :\n"
     ]
    },
    {
     "name": "stderr",
     "output_type": "stream",
     "text": [
      "100%|██████████| 196/196 [00:07<00:00, 25.03it/s]\n"
     ]
    },
    {
     "name": "stdout",
     "output_type": "stream",
     "text": [
      "Train Loss: 0.0015 | Train Acc: 92.50%\n",
      "Test  Loss: 0.4186 | Test Acc: 86.57%\n",
      "--------------------------------------------------\n",
      "[Epoch 239/100000] :\n"
     ]
    },
    {
     "name": "stderr",
     "output_type": "stream",
     "text": [
      "100%|██████████| 196/196 [00:07<00:00, 26.39it/s]\n"
     ]
    },
    {
     "name": "stdout",
     "output_type": "stream",
     "text": [
      "Train Loss: 0.0021 | Train Acc: 83.75%\n",
      "Test  Loss: 0.3351 | Test Acc: 88.96%\n",
      "--------------------------------------------------\n",
      "[Epoch 240/100000] :\n"
     ]
    },
    {
     "name": "stderr",
     "output_type": "stream",
     "text": [
      "100%|██████████| 196/196 [00:07<00:00, 27.04it/s]\n"
     ]
    },
    {
     "name": "stdout",
     "output_type": "stream",
     "text": [
      "Train Loss: 0.0021 | Train Acc: 81.25%\n",
      "Test  Loss: 0.4662 | Test Acc: 85.93%\n",
      "--------------------------------------------------\n",
      "[Epoch 241/100000] :\n"
     ]
    },
    {
     "name": "stderr",
     "output_type": "stream",
     "text": [
      "100%|██████████| 196/196 [00:07<00:00, 26.87it/s]\n"
     ]
    },
    {
     "name": "stdout",
     "output_type": "stream",
     "text": [
      "Train Loss: 0.0031 | Train Acc: 80.00%\n",
      "Test  Loss: 0.3299 | Test Acc: 89.03%\n",
      "--------------------------------------------------\n",
      "[Epoch 242/100000] :\n"
     ]
    },
    {
     "name": "stderr",
     "output_type": "stream",
     "text": [
      "100%|██████████| 196/196 [00:07<00:00, 26.21it/s]\n"
     ]
    },
    {
     "name": "stdout",
     "output_type": "stream",
     "text": [
      "Train Loss: 0.0026 | Train Acc: 81.25%\n",
      "Test  Loss: 0.3695 | Test Acc: 88.03%\n",
      "--------------------------------------------------\n",
      "[Epoch 243/100000] :\n"
     ]
    },
    {
     "name": "stderr",
     "output_type": "stream",
     "text": [
      "100%|██████████| 196/196 [00:07<00:00, 27.12it/s]\n"
     ]
    },
    {
     "name": "stdout",
     "output_type": "stream",
     "text": [
      "Train Loss: 0.0024 | Train Acc: 78.75%\n",
      "Test  Loss: 0.3656 | Test Acc: 88.35%\n",
      "--------------------------------------------------\n",
      "[Epoch 244/100000] :\n"
     ]
    },
    {
     "name": "stderr",
     "output_type": "stream",
     "text": [
      "100%|██████████| 196/196 [00:07<00:00, 26.24it/s]\n"
     ]
    },
    {
     "name": "stdout",
     "output_type": "stream",
     "text": [
      "Train Loss: 0.0018 | Train Acc: 88.75%\n",
      "Test  Loss: 0.3739 | Test Acc: 87.97%\n",
      "--------------------------------------------------\n",
      "[Epoch 245/100000] :\n"
     ]
    },
    {
     "name": "stderr",
     "output_type": "stream",
     "text": [
      "100%|██████████| 196/196 [00:07<00:00, 25.73it/s]\n"
     ]
    },
    {
     "name": "stdout",
     "output_type": "stream",
     "text": [
      "Train Loss: 0.0030 | Train Acc: 77.50%\n",
      "Test  Loss: 0.3637 | Test Acc: 87.99%\n",
      "--------------------------------------------------\n",
      "[Epoch 246/100000] :\n"
     ]
    },
    {
     "name": "stderr",
     "output_type": "stream",
     "text": [
      "100%|██████████| 196/196 [00:06<00:00, 28.26it/s]\n"
     ]
    },
    {
     "name": "stdout",
     "output_type": "stream",
     "text": [
      "Train Loss: 0.0018 | Train Acc: 88.75%\n",
      "Test  Loss: 0.3937 | Test Acc: 87.91%\n",
      "--------------------------------------------------\n",
      "[Epoch 247/100000] :\n"
     ]
    },
    {
     "name": "stderr",
     "output_type": "stream",
     "text": [
      "100%|██████████| 196/196 [00:07<00:00, 25.62it/s]\n"
     ]
    },
    {
     "name": "stdout",
     "output_type": "stream",
     "text": [
      "Train Loss: 0.0022 | Train Acc: 86.25%\n",
      "Test  Loss: 0.4109 | Test Acc: 87.07%\n",
      "--------------------------------------------------\n",
      "[Epoch 248/100000] :\n"
     ]
    },
    {
     "name": "stderr",
     "output_type": "stream",
     "text": [
      "100%|██████████| 196/196 [00:07<00:00, 27.60it/s]\n"
     ]
    },
    {
     "name": "stdout",
     "output_type": "stream",
     "text": [
      "Train Loss: 0.0026 | Train Acc: 85.00%\n",
      "Test  Loss: 0.3657 | Test Acc: 88.36%\n",
      "--------------------------------------------------\n",
      "[Epoch 249/100000] :\n"
     ]
    },
    {
     "name": "stderr",
     "output_type": "stream",
     "text": [
      "100%|██████████| 196/196 [00:07<00:00, 26.22it/s]\n"
     ]
    },
    {
     "name": "stdout",
     "output_type": "stream",
     "text": [
      "Train Loss: 0.0024 | Train Acc: 83.75%\n",
      "Test  Loss: 0.3560 | Test Acc: 87.86%\n",
      "--------------------------------------------------\n",
      "[Epoch 250/100000] :\n"
     ]
    },
    {
     "name": "stderr",
     "output_type": "stream",
     "text": [
      "100%|██████████| 196/196 [00:07<00:00, 26.40it/s]\n"
     ]
    },
    {
     "name": "stdout",
     "output_type": "stream",
     "text": [
      "Train Loss: 0.0024 | Train Acc: 83.75%\n",
      "Test  Loss: 0.3817 | Test Acc: 87.12%\n",
      "--------------------------------------------------\n",
      "[Epoch 251/100000] :\n"
     ]
    },
    {
     "name": "stderr",
     "output_type": "stream",
     "text": [
      "100%|██████████| 196/196 [00:07<00:00, 26.86it/s]\n"
     ]
    },
    {
     "name": "stdout",
     "output_type": "stream",
     "text": [
      "Train Loss: 0.0026 | Train Acc: 80.00%\n",
      "Test  Loss: 0.3233 | Test Acc: 89.06%\n",
      "--------------------------------------------------\n",
      "[Epoch 252/100000] :\n"
     ]
    },
    {
     "name": "stderr",
     "output_type": "stream",
     "text": [
      "100%|██████████| 196/196 [00:07<00:00, 26.10it/s]\n"
     ]
    },
    {
     "name": "stdout",
     "output_type": "stream",
     "text": [
      "Train Loss: 0.0023 | Train Acc: 82.50%\n",
      "Test  Loss: 0.4100 | Test Acc: 87.05%\n",
      "--------------------------------------------------\n",
      "[Epoch 253/100000] :\n"
     ]
    },
    {
     "name": "stderr",
     "output_type": "stream",
     "text": [
      "100%|██████████| 196/196 [00:07<00:00, 26.52it/s]\n"
     ]
    },
    {
     "name": "stdout",
     "output_type": "stream",
     "text": [
      "Train Loss: 0.0030 | Train Acc: 83.75%\n",
      "Test  Loss: 0.3100 | Test Acc: 89.45%\n",
      "--------------------------------------------------\n",
      "[Epoch 254/100000] :\n"
     ]
    },
    {
     "name": "stderr",
     "output_type": "stream",
     "text": [
      "100%|██████████| 196/196 [00:07<00:00, 26.17it/s]\n"
     ]
    },
    {
     "name": "stdout",
     "output_type": "stream",
     "text": [
      "Train Loss: 0.0021 | Train Acc: 86.25%\n",
      "Test  Loss: 0.3170 | Test Acc: 89.99%\n",
      "--------------------------------------------------\n",
      "[Epoch 255/100000] :\n"
     ]
    },
    {
     "name": "stderr",
     "output_type": "stream",
     "text": [
      "100%|██████████| 196/196 [00:07<00:00, 27.57it/s]\n"
     ]
    },
    {
     "name": "stdout",
     "output_type": "stream",
     "text": [
      "Train Loss: 0.0028 | Train Acc: 83.75%\n",
      "Test  Loss: 0.4208 | Test Acc: 86.32%\n",
      "--------------------------------------------------\n",
      "[Epoch 256/100000] :\n"
     ]
    },
    {
     "name": "stderr",
     "output_type": "stream",
     "text": [
      "100%|██████████| 196/196 [00:07<00:00, 26.34it/s]\n"
     ]
    },
    {
     "name": "stdout",
     "output_type": "stream",
     "text": [
      "Train Loss: 0.0017 | Train Acc: 88.75%\n",
      "Test  Loss: 0.3979 | Test Acc: 87.34%\n",
      "--------------------------------------------------\n",
      "[Epoch 257/100000] :\n"
     ]
    },
    {
     "name": "stderr",
     "output_type": "stream",
     "text": [
      "100%|██████████| 196/196 [00:07<00:00, 27.86it/s]\n"
     ]
    },
    {
     "name": "stdout",
     "output_type": "stream",
     "text": [
      "Train Loss: 0.0028 | Train Acc: 83.75%\n",
      "Test  Loss: 0.3333 | Test Acc: 89.23%\n",
      "--------------------------------------------------\n",
      "[Epoch 258/100000] :\n"
     ]
    },
    {
     "name": "stderr",
     "output_type": "stream",
     "text": [
      "100%|██████████| 196/196 [00:07<00:00, 26.39it/s]\n"
     ]
    },
    {
     "name": "stdout",
     "output_type": "stream",
     "text": [
      "Train Loss: 0.0026 | Train Acc: 83.75%\n",
      "Test  Loss: 0.5335 | Test Acc: 83.20%\n",
      "--------------------------------------------------\n",
      "[Epoch 259/100000] :\n"
     ]
    },
    {
     "name": "stderr",
     "output_type": "stream",
     "text": [
      "100%|██████████| 196/196 [00:07<00:00, 27.88it/s]\n"
     ]
    },
    {
     "name": "stdout",
     "output_type": "stream",
     "text": [
      "Train Loss: 0.0025 | Train Acc: 85.00%\n",
      "Test  Loss: 0.3512 | Test Acc: 88.81%\n",
      "--------------------------------------------------\n",
      "[Epoch 260/100000] :\n"
     ]
    },
    {
     "name": "stderr",
     "output_type": "stream",
     "text": [
      "100%|██████████| 196/196 [00:07<00:00, 27.77it/s]\n"
     ]
    },
    {
     "name": "stdout",
     "output_type": "stream",
     "text": [
      "Train Loss: 0.0014 | Train Acc: 90.00%\n",
      "Test  Loss: 0.3055 | Test Acc: 90.31%\n",
      "--------------------------------------------------\n",
      "[Epoch 261/100000] :\n"
     ]
    },
    {
     "name": "stderr",
     "output_type": "stream",
     "text": [
      "100%|██████████| 196/196 [00:07<00:00, 27.13it/s]\n"
     ]
    },
    {
     "name": "stdout",
     "output_type": "stream",
     "text": [
      "Train Loss: 0.0022 | Train Acc: 82.50%\n",
      "Test  Loss: 0.3574 | Test Acc: 87.81%\n",
      "--------------------------------------------------\n",
      "[Epoch 262/100000] :\n"
     ]
    },
    {
     "name": "stderr",
     "output_type": "stream",
     "text": [
      "100%|██████████| 196/196 [00:07<00:00, 26.09it/s]\n"
     ]
    },
    {
     "name": "stdout",
     "output_type": "stream",
     "text": [
      "Train Loss: 0.0020 | Train Acc: 81.25%\n",
      "Test  Loss: 0.3683 | Test Acc: 87.79%\n",
      "--------------------------------------------------\n",
      "[Epoch 263/100000] :\n"
     ]
    },
    {
     "name": "stderr",
     "output_type": "stream",
     "text": [
      "100%|██████████| 196/196 [00:07<00:00, 27.21it/s]\n"
     ]
    },
    {
     "name": "stdout",
     "output_type": "stream",
     "text": [
      "Train Loss: 0.0023 | Train Acc: 86.25%\n",
      "Test  Loss: 0.4432 | Test Acc: 85.53%\n",
      "--------------------------------------------------\n",
      "[Epoch 264/100000] :\n"
     ]
    },
    {
     "name": "stderr",
     "output_type": "stream",
     "text": [
      "100%|██████████| 196/196 [00:07<00:00, 25.54it/s]\n"
     ]
    },
    {
     "name": "stdout",
     "output_type": "stream",
     "text": [
      "Train Loss: 0.0021 | Train Acc: 82.50%\n",
      "Test  Loss: 0.3918 | Test Acc: 87.87%\n",
      "--------------------------------------------------\n",
      "[Epoch 265/100000] :\n"
     ]
    },
    {
     "name": "stderr",
     "output_type": "stream",
     "text": [
      "100%|██████████| 196/196 [00:07<00:00, 26.87it/s]\n"
     ]
    },
    {
     "name": "stdout",
     "output_type": "stream",
     "text": [
      "Train Loss: 0.0021 | Train Acc: 85.00%\n",
      "Test  Loss: 0.3492 | Test Acc: 88.41%\n",
      "--------------------------------------------------\n",
      "[Epoch 266/100000] :\n"
     ]
    },
    {
     "name": "stderr",
     "output_type": "stream",
     "text": [
      "100%|██████████| 196/196 [00:07<00:00, 26.19it/s]\n"
     ]
    },
    {
     "name": "stdout",
     "output_type": "stream",
     "text": [
      "Train Loss: 0.0035 | Train Acc: 72.50%\n",
      "Test  Loss: 0.3228 | Test Acc: 89.42%\n",
      "--------------------------------------------------\n",
      "[Epoch 267/100000] :\n"
     ]
    },
    {
     "name": "stderr",
     "output_type": "stream",
     "text": [
      "100%|██████████| 196/196 [00:07<00:00, 27.34it/s]\n"
     ]
    },
    {
     "name": "stdout",
     "output_type": "stream",
     "text": [
      "Train Loss: 0.0023 | Train Acc: 83.75%\n",
      "Test  Loss: 0.3853 | Test Acc: 87.23%\n",
      "--------------------------------------------------\n",
      "[Epoch 268/100000] :\n"
     ]
    },
    {
     "name": "stderr",
     "output_type": "stream",
     "text": [
      "100%|██████████| 196/196 [00:07<00:00, 25.81it/s]\n"
     ]
    },
    {
     "name": "stdout",
     "output_type": "stream",
     "text": [
      "Train Loss: 0.0025 | Train Acc: 82.50%\n",
      "Test  Loss: 0.3425 | Test Acc: 88.98%\n",
      "--------------------------------------------------\n",
      "[Epoch 269/100000] :\n"
     ]
    },
    {
     "name": "stderr",
     "output_type": "stream",
     "text": [
      "100%|██████████| 196/196 [00:07<00:00, 26.54it/s]\n"
     ]
    },
    {
     "name": "stdout",
     "output_type": "stream",
     "text": [
      "Train Loss: 0.0017 | Train Acc: 88.75%\n",
      "Test  Loss: 0.3057 | Test Acc: 89.48%\n",
      "--------------------------------------------------\n",
      "[Epoch 270/100000] :\n"
     ]
    },
    {
     "name": "stderr",
     "output_type": "stream",
     "text": [
      "100%|██████████| 196/196 [00:07<00:00, 27.39it/s]\n"
     ]
    },
    {
     "name": "stdout",
     "output_type": "stream",
     "text": [
      "Train Loss: 0.0017 | Train Acc: 87.50%\n",
      "Test  Loss: 0.3192 | Test Acc: 89.26%\n",
      "--------------------------------------------------\n",
      "[Epoch 271/100000] :\n"
     ]
    },
    {
     "name": "stderr",
     "output_type": "stream",
     "text": [
      "100%|██████████| 196/196 [00:07<00:00, 27.03it/s]\n"
     ]
    },
    {
     "name": "stdout",
     "output_type": "stream",
     "text": [
      "Train Loss: 0.0020 | Train Acc: 85.00%\n",
      "Test  Loss: 0.4006 | Test Acc: 87.49%\n",
      "--------------------------------------------------\n",
      "[Epoch 272/100000] :\n"
     ]
    },
    {
     "name": "stderr",
     "output_type": "stream",
     "text": [
      "100%|██████████| 196/196 [00:06<00:00, 28.28it/s]\n"
     ]
    },
    {
     "name": "stdout",
     "output_type": "stream",
     "text": [
      "Train Loss: 0.0026 | Train Acc: 78.75%\n",
      "Test  Loss: 0.3777 | Test Acc: 87.67%\n",
      "--------------------------------------------------\n",
      "[Epoch 273/100000] :\n"
     ]
    },
    {
     "name": "stderr",
     "output_type": "stream",
     "text": [
      "100%|██████████| 196/196 [00:07<00:00, 25.78it/s]\n"
     ]
    },
    {
     "name": "stdout",
     "output_type": "stream",
     "text": [
      "Train Loss: 0.0015 | Train Acc: 88.75%\n",
      "Test  Loss: 0.3164 | Test Acc: 89.45%\n",
      "--------------------------------------------------\n",
      "[Epoch 274/100000] :\n"
     ]
    },
    {
     "name": "stderr",
     "output_type": "stream",
     "text": [
      "100%|██████████| 196/196 [00:07<00:00, 26.47it/s]\n"
     ]
    },
    {
     "name": "stdout",
     "output_type": "stream",
     "text": [
      "Train Loss: 0.0023 | Train Acc: 82.50%\n",
      "Test  Loss: 0.3603 | Test Acc: 88.51%\n",
      "--------------------------------------------------\n",
      "[Epoch 275/100000] :\n"
     ]
    },
    {
     "name": "stderr",
     "output_type": "stream",
     "text": [
      "100%|██████████| 196/196 [00:07<00:00, 25.79it/s]\n"
     ]
    },
    {
     "name": "stdout",
     "output_type": "stream",
     "text": [
      "Train Loss: 0.0012 | Train Acc: 91.25%\n",
      "Test  Loss: 0.3754 | Test Acc: 88.35%\n",
      "--------------------------------------------------\n",
      "[Epoch 276/100000] :\n"
     ]
    },
    {
     "name": "stderr",
     "output_type": "stream",
     "text": [
      "100%|██████████| 196/196 [00:07<00:00, 25.30it/s]\n"
     ]
    },
    {
     "name": "stdout",
     "output_type": "stream",
     "text": [
      "Train Loss: 0.0019 | Train Acc: 88.75%\n",
      "Test  Loss: 0.3782 | Test Acc: 87.89%\n",
      "--------------------------------------------------\n",
      "[Epoch 277/100000] :\n"
     ]
    },
    {
     "name": "stderr",
     "output_type": "stream",
     "text": [
      "100%|██████████| 196/196 [00:07<00:00, 26.82it/s]\n"
     ]
    },
    {
     "name": "stdout",
     "output_type": "stream",
     "text": [
      "Train Loss: 0.0025 | Train Acc: 80.00%\n",
      "Test  Loss: 0.3623 | Test Acc: 88.33%\n",
      "--------------------------------------------------\n",
      "[Epoch 278/100000] :\n"
     ]
    },
    {
     "name": "stderr",
     "output_type": "stream",
     "text": [
      "100%|██████████| 196/196 [00:07<00:00, 25.33it/s]\n"
     ]
    },
    {
     "name": "stdout",
     "output_type": "stream",
     "text": [
      "Train Loss: 0.0040 | Train Acc: 72.50%\n",
      "Test  Loss: 0.3407 | Test Acc: 89.32%\n",
      "--------------------------------------------------\n",
      "[Epoch 279/100000] :\n"
     ]
    },
    {
     "name": "stderr",
     "output_type": "stream",
     "text": [
      "100%|██████████| 196/196 [00:07<00:00, 26.64it/s]\n"
     ]
    },
    {
     "name": "stdout",
     "output_type": "stream",
     "text": [
      "Train Loss: 0.0021 | Train Acc: 87.50%\n",
      "Test  Loss: 0.3674 | Test Acc: 87.87%\n",
      "--------------------------------------------------\n",
      "[Epoch 280/100000] :\n"
     ]
    },
    {
     "name": "stderr",
     "output_type": "stream",
     "text": [
      "100%|██████████| 196/196 [00:07<00:00, 25.43it/s]\n"
     ]
    },
    {
     "name": "stdout",
     "output_type": "stream",
     "text": [
      "Train Loss: 0.0011 | Train Acc: 91.25%\n",
      "Test  Loss: 0.3635 | Test Acc: 88.23%\n",
      "--------------------------------------------------\n",
      "[Epoch 281/100000] :\n"
     ]
    },
    {
     "name": "stderr",
     "output_type": "stream",
     "text": [
      "100%|██████████| 196/196 [00:07<00:00, 27.72it/s]\n"
     ]
    },
    {
     "name": "stdout",
     "output_type": "stream",
     "text": [
      "Train Loss: 0.0018 | Train Acc: 86.25%\n",
      "Test  Loss: 0.4061 | Test Acc: 87.42%\n",
      "--------------------------------------------------\n",
      "[Epoch 282/100000] :\n"
     ]
    },
    {
     "name": "stderr",
     "output_type": "stream",
     "text": [
      "100%|██████████| 196/196 [00:07<00:00, 25.23it/s]\n"
     ]
    },
    {
     "name": "stdout",
     "output_type": "stream",
     "text": [
      "Train Loss: 0.0026 | Train Acc: 78.75%\n",
      "Test  Loss: 0.3127 | Test Acc: 89.28%\n",
      "--------------------------------------------------\n",
      "[Epoch 283/100000] :\n"
     ]
    },
    {
     "name": "stderr",
     "output_type": "stream",
     "text": [
      "100%|██████████| 196/196 [00:07<00:00, 26.11it/s]\n"
     ]
    },
    {
     "name": "stdout",
     "output_type": "stream",
     "text": [
      "Train Loss: 0.0019 | Train Acc: 87.50%\n",
      "Test  Loss: 0.4170 | Test Acc: 86.97%\n",
      "--------------------------------------------------\n",
      "[Epoch 284/100000] :\n"
     ]
    },
    {
     "name": "stderr",
     "output_type": "stream",
     "text": [
      "100%|██████████| 196/196 [00:07<00:00, 27.89it/s]\n"
     ]
    },
    {
     "name": "stdout",
     "output_type": "stream",
     "text": [
      "Train Loss: 0.0030 | Train Acc: 77.50%\n",
      "Test  Loss: 0.3357 | Test Acc: 88.58%\n",
      "--------------------------------------------------\n",
      "[Epoch 285/100000] :\n"
     ]
    },
    {
     "name": "stderr",
     "output_type": "stream",
     "text": [
      "100%|██████████| 196/196 [00:07<00:00, 26.47it/s]\n"
     ]
    },
    {
     "name": "stdout",
     "output_type": "stream",
     "text": [
      "Train Loss: 0.0017 | Train Acc: 88.75%\n",
      "Test  Loss: 0.3349 | Test Acc: 89.66%\n",
      "--------------------------------------------------\n",
      "[Epoch 286/100000] :\n"
     ]
    },
    {
     "name": "stderr",
     "output_type": "stream",
     "text": [
      "100%|██████████| 196/196 [00:07<00:00, 27.00it/s]\n"
     ]
    },
    {
     "name": "stdout",
     "output_type": "stream",
     "text": [
      "Train Loss: 0.0022 | Train Acc: 81.25%\n",
      "Test  Loss: 0.3578 | Test Acc: 88.28%\n",
      "--------------------------------------------------\n",
      "[Epoch 287/100000] :\n"
     ]
    },
    {
     "name": "stderr",
     "output_type": "stream",
     "text": [
      "100%|██████████| 196/196 [00:07<00:00, 26.63it/s]\n"
     ]
    },
    {
     "name": "stdout",
     "output_type": "stream",
     "text": [
      "Train Loss: 0.0024 | Train Acc: 82.50%\n",
      "Test  Loss: 0.3308 | Test Acc: 89.12%\n",
      "--------------------------------------------------\n",
      "[Epoch 288/100000] :\n"
     ]
    },
    {
     "name": "stderr",
     "output_type": "stream",
     "text": [
      "100%|██████████| 196/196 [00:07<00:00, 27.83it/s]\n"
     ]
    },
    {
     "name": "stdout",
     "output_type": "stream",
     "text": [
      "Train Loss: 0.0026 | Train Acc: 82.50%\n",
      "Test  Loss: 0.3608 | Test Acc: 88.55%\n",
      "--------------------------------------------------\n",
      "[Epoch 289/100000] :\n"
     ]
    },
    {
     "name": "stderr",
     "output_type": "stream",
     "text": [
      "100%|██████████| 196/196 [00:07<00:00, 26.32it/s]\n"
     ]
    },
    {
     "name": "stdout",
     "output_type": "stream",
     "text": [
      "Train Loss: 0.0025 | Train Acc: 81.25%\n",
      "Test  Loss: 0.3543 | Test Acc: 88.70%\n",
      "--------------------------------------------------\n",
      "[Epoch 290/100000] :\n"
     ]
    },
    {
     "name": "stderr",
     "output_type": "stream",
     "text": [
      "100%|██████████| 196/196 [00:07<00:00, 26.32it/s]\n"
     ]
    },
    {
     "name": "stdout",
     "output_type": "stream",
     "text": [
      "Train Loss: 0.0033 | Train Acc: 76.25%\n",
      "Test  Loss: 0.3828 | Test Acc: 87.75%\n",
      "--------------------------------------------------\n",
      "[Epoch 291/100000] :\n"
     ]
    },
    {
     "name": "stderr",
     "output_type": "stream",
     "text": [
      "100%|██████████| 196/196 [00:07<00:00, 27.16it/s]\n"
     ]
    },
    {
     "name": "stdout",
     "output_type": "stream",
     "text": [
      "Train Loss: 0.0024 | Train Acc: 81.25%\n",
      "Test  Loss: 0.3293 | Test Acc: 89.13%\n",
      "--------------------------------------------------\n",
      "[Epoch 292/100000] :\n"
     ]
    },
    {
     "name": "stderr",
     "output_type": "stream",
     "text": [
      "100%|██████████| 196/196 [00:07<00:00, 25.74it/s]\n"
     ]
    },
    {
     "name": "stdout",
     "output_type": "stream",
     "text": [
      "Train Loss: 0.0027 | Train Acc: 81.25%\n",
      "Test  Loss: 0.3893 | Test Acc: 87.45%\n",
      "--------------------------------------------------\n",
      "[Epoch 293/100000] :\n"
     ]
    },
    {
     "name": "stderr",
     "output_type": "stream",
     "text": [
      "100%|██████████| 196/196 [00:07<00:00, 26.21it/s]\n"
     ]
    },
    {
     "name": "stdout",
     "output_type": "stream",
     "text": [
      "Train Loss: 0.0027 | Train Acc: 85.00%\n",
      "Test  Loss: 0.5197 | Test Acc: 83.81%\n",
      "--------------------------------------------------\n",
      "[Epoch 294/100000] :\n"
     ]
    },
    {
     "name": "stderr",
     "output_type": "stream",
     "text": [
      "100%|██████████| 196/196 [00:08<00:00, 24.10it/s]\n"
     ]
    },
    {
     "name": "stdout",
     "output_type": "stream",
     "text": [
      "Train Loss: 0.0030 | Train Acc: 80.00%\n",
      "Test  Loss: 0.3356 | Test Acc: 88.80%\n",
      "--------------------------------------------------\n",
      "[Epoch 295/100000] :\n"
     ]
    },
    {
     "name": "stderr",
     "output_type": "stream",
     "text": [
      "100%|██████████| 196/196 [00:07<00:00, 27.94it/s]\n"
     ]
    },
    {
     "name": "stdout",
     "output_type": "stream",
     "text": [
      "Train Loss: 0.0015 | Train Acc: 92.50%\n",
      "Test  Loss: 0.3674 | Test Acc: 88.09%\n",
      "--------------------------------------------------\n",
      "[Epoch 296/100000] :\n"
     ]
    },
    {
     "name": "stderr",
     "output_type": "stream",
     "text": [
      "100%|██████████| 196/196 [00:07<00:00, 26.70it/s]\n"
     ]
    },
    {
     "name": "stdout",
     "output_type": "stream",
     "text": [
      "Train Loss: 0.0023 | Train Acc: 86.25%\n",
      "Test  Loss: 0.3570 | Test Acc: 88.54%\n",
      "--------------------------------------------------\n",
      "[Epoch 297/100000] :\n"
     ]
    },
    {
     "name": "stderr",
     "output_type": "stream",
     "text": [
      "100%|██████████| 196/196 [00:07<00:00, 27.14it/s]\n"
     ]
    },
    {
     "name": "stdout",
     "output_type": "stream",
     "text": [
      "Train Loss: 0.0029 | Train Acc: 81.25%\n",
      "Test  Loss: 0.3517 | Test Acc: 88.58%\n",
      "--------------------------------------------------\n",
      "[Epoch 298/100000] :\n"
     ]
    },
    {
     "name": "stderr",
     "output_type": "stream",
     "text": [
      "100%|██████████| 196/196 [00:07<00:00, 27.58it/s]\n"
     ]
    },
    {
     "name": "stdout",
     "output_type": "stream",
     "text": [
      "Train Loss: 0.0028 | Train Acc: 80.00%\n",
      "Test  Loss: 0.3979 | Test Acc: 87.30%\n",
      "--------------------------------------------------\n",
      "[Epoch 299/100000] :\n"
     ]
    },
    {
     "name": "stderr",
     "output_type": "stream",
     "text": [
      "100%|██████████| 196/196 [00:07<00:00, 25.51it/s]\n"
     ]
    },
    {
     "name": "stdout",
     "output_type": "stream",
     "text": [
      "Train Loss: 0.0014 | Train Acc: 91.25%\n",
      "Test  Loss: 0.3838 | Test Acc: 87.19%\n",
      "--------------------------------------------------\n",
      "[Epoch 300/100000] :\n"
     ]
    },
    {
     "name": "stderr",
     "output_type": "stream",
     "text": [
      "100%|██████████| 196/196 [00:07<00:00, 27.94it/s]\n"
     ]
    },
    {
     "name": "stdout",
     "output_type": "stream",
     "text": [
      "Train Loss: 0.0027 | Train Acc: 85.00%\n",
      "Test  Loss: 0.3469 | Test Acc: 88.45%\n",
      "--------------------------------------------------\n",
      "[Epoch 301/100000] :\n"
     ]
    },
    {
     "name": "stderr",
     "output_type": "stream",
     "text": [
      "100%|██████████| 196/196 [00:07<00:00, 25.45it/s]\n"
     ]
    },
    {
     "name": "stdout",
     "output_type": "stream",
     "text": [
      "Train Loss: 0.0038 | Train Acc: 78.75%\n",
      "Test  Loss: 0.3316 | Test Acc: 89.06%\n",
      "--------------------------------------------------\n",
      "[Epoch 302/100000] :\n"
     ]
    },
    {
     "name": "stderr",
     "output_type": "stream",
     "text": [
      "100%|██████████| 196/196 [00:07<00:00, 26.04it/s]\n"
     ]
    },
    {
     "name": "stdout",
     "output_type": "stream",
     "text": [
      "Train Loss: 0.0027 | Train Acc: 81.25%\n",
      "Test  Loss: 0.3813 | Test Acc: 88.14%\n",
      "--------------------------------------------------\n",
      "[Epoch 303/100000] :\n"
     ]
    },
    {
     "name": "stderr",
     "output_type": "stream",
     "text": [
      "100%|██████████| 196/196 [00:07<00:00, 25.90it/s]\n"
     ]
    },
    {
     "name": "stdout",
     "output_type": "stream",
     "text": [
      "Train Loss: 0.0032 | Train Acc: 82.50%\n",
      "Test  Loss: 0.3775 | Test Acc: 87.48%\n",
      "--------------------------------------------------\n",
      "[Epoch 304/100000] :\n"
     ]
    },
    {
     "name": "stderr",
     "output_type": "stream",
     "text": [
      "100%|██████████| 196/196 [00:07<00:00, 26.09it/s]\n"
     ]
    },
    {
     "name": "stdout",
     "output_type": "stream",
     "text": [
      "Train Loss: 0.0018 | Train Acc: 87.50%\n",
      "Test  Loss: 0.3300 | Test Acc: 89.55%\n",
      "--------------------------------------------------\n",
      "[Epoch 305/100000] :\n"
     ]
    },
    {
     "name": "stderr",
     "output_type": "stream",
     "text": [
      "100%|██████████| 196/196 [00:07<00:00, 25.96it/s]\n"
     ]
    },
    {
     "name": "stdout",
     "output_type": "stream",
     "text": [
      "Train Loss: 0.0023 | Train Acc: 81.25%\n",
      "Test  Loss: 0.3505 | Test Acc: 88.22%\n",
      "--------------------------------------------------\n",
      "[Epoch 306/100000] :\n"
     ]
    },
    {
     "name": "stderr",
     "output_type": "stream",
     "text": [
      "100%|██████████| 196/196 [00:07<00:00, 26.68it/s]\n"
     ]
    },
    {
     "name": "stdout",
     "output_type": "stream",
     "text": [
      "Train Loss: 0.0033 | Train Acc: 77.50%\n",
      "Test  Loss: 0.3797 | Test Acc: 87.50%\n",
      "--------------------------------------------------\n",
      "[Epoch 307/100000] :\n"
     ]
    },
    {
     "name": "stderr",
     "output_type": "stream",
     "text": [
      "100%|██████████| 196/196 [00:07<00:00, 26.76it/s]\n"
     ]
    },
    {
     "name": "stdout",
     "output_type": "stream",
     "text": [
      "Train Loss: 0.0021 | Train Acc: 83.75%\n",
      "Test  Loss: 0.3345 | Test Acc: 89.41%\n",
      "--------------------------------------------------\n",
      "[Epoch 308/100000] :\n"
     ]
    },
    {
     "name": "stderr",
     "output_type": "stream",
     "text": [
      "100%|██████████| 196/196 [00:07<00:00, 25.23it/s]\n"
     ]
    },
    {
     "name": "stdout",
     "output_type": "stream",
     "text": [
      "Train Loss: 0.0031 | Train Acc: 82.50%\n",
      "Test  Loss: 0.4326 | Test Acc: 85.83%\n",
      "--------------------------------------------------\n",
      "[Epoch 309/100000] :\n"
     ]
    },
    {
     "name": "stderr",
     "output_type": "stream",
     "text": [
      "100%|██████████| 196/196 [00:07<00:00, 26.51it/s]\n"
     ]
    },
    {
     "name": "stdout",
     "output_type": "stream",
     "text": [
      "Train Loss: 0.0021 | Train Acc: 86.25%\n",
      "Test  Loss: 0.3379 | Test Acc: 89.15%\n",
      "--------------------------------------------------\n",
      "[Epoch 310/100000] :\n"
     ]
    },
    {
     "name": "stderr",
     "output_type": "stream",
     "text": [
      "100%|██████████| 196/196 [00:07<00:00, 25.13it/s]\n"
     ]
    },
    {
     "name": "stdout",
     "output_type": "stream",
     "text": [
      "Train Loss: 0.0023 | Train Acc: 82.50%\n",
      "Test  Loss: 0.3271 | Test Acc: 89.63%\n",
      "--------------------------------------------------\n",
      "[Epoch 311/100000] :\n"
     ]
    },
    {
     "name": "stderr",
     "output_type": "stream",
     "text": [
      "100%|██████████| 196/196 [00:07<00:00, 26.30it/s]\n"
     ]
    },
    {
     "name": "stdout",
     "output_type": "stream",
     "text": [
      "Train Loss: 0.0031 | Train Acc: 82.50%\n",
      "Test  Loss: 0.3257 | Test Acc: 89.61%\n",
      "--------------------------------------------------\n",
      "[Epoch 312/100000] :\n"
     ]
    },
    {
     "name": "stderr",
     "output_type": "stream",
     "text": [
      "100%|██████████| 196/196 [00:07<00:00, 25.46it/s]\n"
     ]
    },
    {
     "name": "stdout",
     "output_type": "stream",
     "text": [
      "Train Loss: 0.0013 | Train Acc: 91.25%\n",
      "Test  Loss: 0.3841 | Test Acc: 87.19%\n",
      "--------------------------------------------------\n",
      "[Epoch 313/100000] :\n"
     ]
    },
    {
     "name": "stderr",
     "output_type": "stream",
     "text": [
      "100%|██████████| 196/196 [00:07<00:00, 25.25it/s]\n"
     ]
    },
    {
     "name": "stdout",
     "output_type": "stream",
     "text": [
      "Train Loss: 0.0022 | Train Acc: 85.00%\n",
      "Test  Loss: 0.3347 | Test Acc: 88.55%\n",
      "--------------------------------------------------\n",
      "[Epoch 314/100000] :\n"
     ]
    },
    {
     "name": "stderr",
     "output_type": "stream",
     "text": [
      "100%|██████████| 196/196 [00:07<00:00, 26.21it/s]\n"
     ]
    },
    {
     "name": "stdout",
     "output_type": "stream",
     "text": [
      "Train Loss: 0.0021 | Train Acc: 83.75%\n",
      "Test  Loss: 0.3285 | Test Acc: 89.21%\n",
      "--------------------------------------------------\n",
      "[Epoch 315/100000] :\n"
     ]
    },
    {
     "name": "stderr",
     "output_type": "stream",
     "text": [
      "100%|██████████| 196/196 [00:07<00:00, 26.57it/s]\n"
     ]
    },
    {
     "name": "stdout",
     "output_type": "stream",
     "text": [
      "Train Loss: 0.0022 | Train Acc: 85.00%\n",
      "Test  Loss: 0.3318 | Test Acc: 88.72%\n",
      "--------------------------------------------------\n",
      "[Epoch 316/100000] :\n"
     ]
    },
    {
     "name": "stderr",
     "output_type": "stream",
     "text": [
      "100%|██████████| 196/196 [00:06<00:00, 28.78it/s]\n"
     ]
    },
    {
     "name": "stdout",
     "output_type": "stream",
     "text": [
      "Train Loss: 0.0022 | Train Acc: 83.75%\n",
      "Test  Loss: 0.3832 | Test Acc: 87.55%\n",
      "--------------------------------------------------\n",
      "[Epoch 317/100000] :\n"
     ]
    },
    {
     "name": "stderr",
     "output_type": "stream",
     "text": [
      "100%|██████████| 196/196 [00:07<00:00, 26.81it/s]\n"
     ]
    },
    {
     "name": "stdout",
     "output_type": "stream",
     "text": [
      "Train Loss: 0.0017 | Train Acc: 90.00%\n",
      "Test  Loss: 0.3295 | Test Acc: 89.00%\n",
      "--------------------------------------------------\n",
      "[Epoch 318/100000] :\n"
     ]
    },
    {
     "name": "stderr",
     "output_type": "stream",
     "text": [
      "100%|██████████| 196/196 [00:07<00:00, 27.09it/s]\n"
     ]
    },
    {
     "name": "stdout",
     "output_type": "stream",
     "text": [
      "Train Loss: 0.0041 | Train Acc: 75.00%\n",
      "Test  Loss: 0.3837 | Test Acc: 87.85%\n",
      "--------------------------------------------------\n",
      "[Epoch 319/100000] :\n"
     ]
    },
    {
     "name": "stderr",
     "output_type": "stream",
     "text": [
      "100%|██████████| 196/196 [00:07<00:00, 26.18it/s]\n"
     ]
    },
    {
     "name": "stdout",
     "output_type": "stream",
     "text": [
      "Train Loss: 0.0020 | Train Acc: 87.50%\n",
      "Test  Loss: 0.3359 | Test Acc: 89.34%\n",
      "--------------------------------------------------\n",
      "[Epoch 320/100000] :\n"
     ]
    },
    {
     "name": "stderr",
     "output_type": "stream",
     "text": [
      "100%|██████████| 196/196 [00:07<00:00, 24.70it/s]\n"
     ]
    },
    {
     "name": "stdout",
     "output_type": "stream",
     "text": [
      "Train Loss: 0.0015 | Train Acc: 87.50%\n",
      "Test  Loss: 0.4245 | Test Acc: 86.46%\n",
      "--------------------------------------------------\n",
      "[Epoch 321/100000] :\n"
     ]
    },
    {
     "name": "stderr",
     "output_type": "stream",
     "text": [
      "100%|██████████| 196/196 [00:07<00:00, 25.79it/s]\n"
     ]
    },
    {
     "name": "stdout",
     "output_type": "stream",
     "text": [
      "Train Loss: 0.0021 | Train Acc: 86.25%\n",
      "Test  Loss: 0.3671 | Test Acc: 88.06%\n",
      "--------------------------------------------------\n",
      "[Epoch 322/100000] :\n"
     ]
    },
    {
     "name": "stderr",
     "output_type": "stream",
     "text": [
      "100%|██████████| 196/196 [00:07<00:00, 25.61it/s]\n"
     ]
    },
    {
     "name": "stdout",
     "output_type": "stream",
     "text": [
      "Train Loss: 0.0018 | Train Acc: 86.25%\n",
      "Test  Loss: 0.3804 | Test Acc: 87.73%\n",
      "--------------------------------------------------\n",
      "[Epoch 323/100000] :\n"
     ]
    },
    {
     "name": "stderr",
     "output_type": "stream",
     "text": [
      "100%|██████████| 196/196 [00:06<00:00, 29.00it/s]\n"
     ]
    },
    {
     "name": "stdout",
     "output_type": "stream",
     "text": [
      "Train Loss: 0.0023 | Train Acc: 82.50%\n",
      "Test  Loss: 0.4631 | Test Acc: 86.20%\n",
      "--------------------------------------------------\n",
      "[Epoch 324/100000] :\n"
     ]
    },
    {
     "name": "stderr",
     "output_type": "stream",
     "text": [
      "100%|██████████| 196/196 [00:07<00:00, 26.95it/s]\n"
     ]
    },
    {
     "name": "stdout",
     "output_type": "stream",
     "text": [
      "Train Loss: 0.0032 | Train Acc: 80.00%\n",
      "Test  Loss: 0.3106 | Test Acc: 89.74%\n",
      "--------------------------------------------------\n",
      "[Epoch 325/100000] :\n"
     ]
    },
    {
     "name": "stderr",
     "output_type": "stream",
     "text": [
      "100%|██████████| 196/196 [00:07<00:00, 25.58it/s]\n"
     ]
    },
    {
     "name": "stdout",
     "output_type": "stream",
     "text": [
      "Train Loss: 0.0019 | Train Acc: 85.00%\n",
      "Test  Loss: 0.3380 | Test Acc: 89.30%\n",
      "--------------------------------------------------\n",
      "[Epoch 326/100000] :\n"
     ]
    },
    {
     "name": "stderr",
     "output_type": "stream",
     "text": [
      "100%|██████████| 196/196 [00:07<00:00, 27.41it/s]\n"
     ]
    },
    {
     "name": "stdout",
     "output_type": "stream",
     "text": [
      "Train Loss: 0.0023 | Train Acc: 85.00%\n",
      "Test  Loss: 0.3093 | Test Acc: 89.65%\n",
      "--------------------------------------------------\n",
      "[Epoch 327/100000] :\n"
     ]
    },
    {
     "name": "stderr",
     "output_type": "stream",
     "text": [
      "100%|██████████| 196/196 [00:07<00:00, 25.06it/s]\n"
     ]
    },
    {
     "name": "stdout",
     "output_type": "stream",
     "text": [
      "Train Loss: 0.0025 | Train Acc: 82.50%\n",
      "Test  Loss: 0.3536 | Test Acc: 88.62%\n",
      "--------------------------------------------------\n",
      "[Epoch 328/100000] :\n"
     ]
    },
    {
     "name": "stderr",
     "output_type": "stream",
     "text": [
      "100%|██████████| 196/196 [00:07<00:00, 27.88it/s]\n"
     ]
    },
    {
     "name": "stdout",
     "output_type": "stream",
     "text": [
      "Train Loss: 0.0019 | Train Acc: 88.75%\n",
      "Test  Loss: 0.3178 | Test Acc: 90.34%\n",
      "--------------------------------------------------\n",
      "[Epoch 329/100000] :\n"
     ]
    },
    {
     "name": "stderr",
     "output_type": "stream",
     "text": [
      "100%|██████████| 196/196 [00:07<00:00, 26.15it/s]\n"
     ]
    },
    {
     "name": "stdout",
     "output_type": "stream",
     "text": [
      "Train Loss: 0.0023 | Train Acc: 85.00%\n",
      "Test  Loss: 0.3131 | Test Acc: 89.85%\n",
      "--------------------------------------------------\n",
      "[Epoch 330/100000] :\n"
     ]
    },
    {
     "name": "stderr",
     "output_type": "stream",
     "text": [
      "100%|██████████| 196/196 [00:07<00:00, 27.68it/s]\n"
     ]
    },
    {
     "name": "stdout",
     "output_type": "stream",
     "text": [
      "Train Loss: 0.0024 | Train Acc: 82.50%\n",
      "Test  Loss: 0.3415 | Test Acc: 88.83%\n",
      "--------------------------------------------------\n",
      "[Epoch 331/100000] :\n"
     ]
    },
    {
     "name": "stderr",
     "output_type": "stream",
     "text": [
      "100%|██████████| 196/196 [00:07<00:00, 26.82it/s]\n"
     ]
    },
    {
     "name": "stdout",
     "output_type": "stream",
     "text": [
      "Train Loss: 0.0022 | Train Acc: 81.25%\n",
      "Test  Loss: 0.3200 | Test Acc: 89.47%\n",
      "--------------------------------------------------\n",
      "[Epoch 332/100000] :\n"
     ]
    },
    {
     "name": "stderr",
     "output_type": "stream",
     "text": [
      "100%|██████████| 196/196 [00:07<00:00, 26.26it/s]\n"
     ]
    },
    {
     "name": "stdout",
     "output_type": "stream",
     "text": [
      "Train Loss: 0.0023 | Train Acc: 82.50%\n",
      "Test  Loss: 0.2884 | Test Acc: 90.23%\n",
      "updated best eval loss : 0.2884472694247961\n",
      "--------------------------------------------------\n",
      "[Epoch 333/100000] :\n"
     ]
    },
    {
     "name": "stderr",
     "output_type": "stream",
     "text": [
      "100%|██████████| 196/196 [00:07<00:00, 25.61it/s]\n"
     ]
    },
    {
     "name": "stdout",
     "output_type": "stream",
     "text": [
      "Train Loss: 0.0024 | Train Acc: 82.50%\n",
      "Test  Loss: 0.3453 | Test Acc: 88.78%\n",
      "--------------------------------------------------\n",
      "[Epoch 334/100000] :\n"
     ]
    },
    {
     "name": "stderr",
     "output_type": "stream",
     "text": [
      "100%|██████████| 196/196 [00:07<00:00, 26.15it/s]\n"
     ]
    },
    {
     "name": "stdout",
     "output_type": "stream",
     "text": [
      "Train Loss: 0.0027 | Train Acc: 77.50%\n",
      "Test  Loss: 0.3646 | Test Acc: 88.47%\n",
      "--------------------------------------------------\n",
      "[Epoch 335/100000] :\n"
     ]
    },
    {
     "name": "stderr",
     "output_type": "stream",
     "text": [
      "100%|██████████| 196/196 [00:06<00:00, 28.39it/s]\n"
     ]
    },
    {
     "name": "stdout",
     "output_type": "stream",
     "text": [
      "Train Loss: 0.0022 | Train Acc: 88.75%\n",
      "Test  Loss: 0.3437 | Test Acc: 88.65%\n",
      "--------------------------------------------------\n",
      "[Epoch 336/100000] :\n"
     ]
    },
    {
     "name": "stderr",
     "output_type": "stream",
     "text": [
      "100%|██████████| 196/196 [00:07<00:00, 25.36it/s]\n"
     ]
    },
    {
     "name": "stdout",
     "output_type": "stream",
     "text": [
      "Train Loss: 0.0041 | Train Acc: 66.25%\n",
      "Test  Loss: 0.3716 | Test Acc: 88.13%\n",
      "--------------------------------------------------\n",
      "[Epoch 337/100000] :\n"
     ]
    },
    {
     "name": "stderr",
     "output_type": "stream",
     "text": [
      "100%|██████████| 196/196 [00:07<00:00, 26.36it/s]\n"
     ]
    },
    {
     "name": "stdout",
     "output_type": "stream",
     "text": [
      "Train Loss: 0.0023 | Train Acc: 81.25%\n",
      "Test  Loss: 0.3153 | Test Acc: 89.96%\n",
      "--------------------------------------------------\n",
      "[Epoch 338/100000] :\n"
     ]
    },
    {
     "name": "stderr",
     "output_type": "stream",
     "text": [
      "100%|██████████| 196/196 [00:07<00:00, 25.76it/s]\n"
     ]
    },
    {
     "name": "stdout",
     "output_type": "stream",
     "text": [
      "Train Loss: 0.0019 | Train Acc: 86.25%\n",
      "Test  Loss: 0.3609 | Test Acc: 89.20%\n",
      "--------------------------------------------------\n",
      "[Epoch 339/100000] :\n"
     ]
    },
    {
     "name": "stderr",
     "output_type": "stream",
     "text": [
      "100%|██████████| 196/196 [00:07<00:00, 25.96it/s]\n"
     ]
    },
    {
     "name": "stdout",
     "output_type": "stream",
     "text": [
      "Train Loss: 0.0023 | Train Acc: 85.00%\n",
      "Test  Loss: 0.3210 | Test Acc: 89.10%\n",
      "--------------------------------------------------\n",
      "[Epoch 340/100000] :\n"
     ]
    },
    {
     "name": "stderr",
     "output_type": "stream",
     "text": [
      "100%|██████████| 196/196 [00:07<00:00, 26.50it/s]\n"
     ]
    },
    {
     "name": "stdout",
     "output_type": "stream",
     "text": [
      "Train Loss: 0.0020 | Train Acc: 86.25%\n",
      "Test  Loss: 0.3395 | Test Acc: 89.08%\n",
      "--------------------------------------------------\n",
      "[Epoch 341/100000] :\n"
     ]
    },
    {
     "name": "stderr",
     "output_type": "stream",
     "text": [
      "100%|██████████| 196/196 [00:07<00:00, 26.10it/s]\n"
     ]
    },
    {
     "name": "stdout",
     "output_type": "stream",
     "text": [
      "Train Loss: 0.0023 | Train Acc: 81.25%\n",
      "Test  Loss: 0.4633 | Test Acc: 85.47%\n",
      "--------------------------------------------------\n",
      "[Epoch 342/100000] :\n"
     ]
    },
    {
     "name": "stderr",
     "output_type": "stream",
     "text": [
      "100%|██████████| 196/196 [00:07<00:00, 27.00it/s]\n"
     ]
    },
    {
     "name": "stdout",
     "output_type": "stream",
     "text": [
      "Train Loss: 0.0024 | Train Acc: 82.50%\n",
      "Test  Loss: 0.3132 | Test Acc: 89.53%\n",
      "--------------------------------------------------\n",
      "[Epoch 343/100000] :\n"
     ]
    },
    {
     "name": "stderr",
     "output_type": "stream",
     "text": [
      "100%|██████████| 196/196 [00:07<00:00, 25.79it/s]\n"
     ]
    },
    {
     "name": "stdout",
     "output_type": "stream",
     "text": [
      "Train Loss: 0.0026 | Train Acc: 80.00%\n",
      "Test  Loss: 0.3173 | Test Acc: 89.59%\n",
      "--------------------------------------------------\n",
      "[Epoch 344/100000] :\n"
     ]
    },
    {
     "name": "stderr",
     "output_type": "stream",
     "text": [
      "100%|██████████| 196/196 [00:06<00:00, 28.66it/s]\n"
     ]
    },
    {
     "name": "stdout",
     "output_type": "stream",
     "text": [
      "Train Loss: 0.0015 | Train Acc: 90.00%\n",
      "Test  Loss: 0.4296 | Test Acc: 86.18%\n",
      "--------------------------------------------------\n",
      "[Epoch 345/100000] :\n"
     ]
    },
    {
     "name": "stderr",
     "output_type": "stream",
     "text": [
      "100%|██████████| 196/196 [00:08<00:00, 24.45it/s]\n"
     ]
    },
    {
     "name": "stdout",
     "output_type": "stream",
     "text": [
      "Train Loss: 0.0018 | Train Acc: 85.00%\n",
      "Test  Loss: 0.3417 | Test Acc: 88.96%\n",
      "--------------------------------------------------\n",
      "[Epoch 346/100000] :\n"
     ]
    },
    {
     "name": "stderr",
     "output_type": "stream",
     "text": [
      "100%|██████████| 196/196 [00:07<00:00, 27.03it/s]\n"
     ]
    },
    {
     "name": "stdout",
     "output_type": "stream",
     "text": [
      "Train Loss: 0.0030 | Train Acc: 73.75%\n",
      "Test  Loss: 0.4017 | Test Acc: 86.53%\n",
      "--------------------------------------------------\n",
      "[Epoch 347/100000] :\n"
     ]
    },
    {
     "name": "stderr",
     "output_type": "stream",
     "text": [
      "100%|██████████| 196/196 [00:06<00:00, 28.33it/s]\n"
     ]
    },
    {
     "name": "stdout",
     "output_type": "stream",
     "text": [
      "Train Loss: 0.0016 | Train Acc: 88.75%\n",
      "Test  Loss: 0.2908 | Test Acc: 90.30%\n",
      "--------------------------------------------------\n",
      "[Epoch 348/100000] :\n"
     ]
    },
    {
     "name": "stderr",
     "output_type": "stream",
     "text": [
      "100%|██████████| 196/196 [00:07<00:00, 25.46it/s]\n"
     ]
    },
    {
     "name": "stdout",
     "output_type": "stream",
     "text": [
      "Train Loss: 0.0033 | Train Acc: 75.00%\n",
      "Test  Loss: 0.3625 | Test Acc: 88.55%\n",
      "--------------------------------------------------\n",
      "[Epoch 349/100000] :\n"
     ]
    },
    {
     "name": "stderr",
     "output_type": "stream",
     "text": [
      "100%|██████████| 196/196 [00:07<00:00, 26.20it/s]\n"
     ]
    },
    {
     "name": "stdout",
     "output_type": "stream",
     "text": [
      "Train Loss: 0.0023 | Train Acc: 83.75%\n",
      "Test  Loss: 0.3806 | Test Acc: 87.94%\n",
      "--------------------------------------------------\n",
      "[Epoch 350/100000] :\n"
     ]
    },
    {
     "name": "stderr",
     "output_type": "stream",
     "text": [
      "100%|██████████| 196/196 [00:07<00:00, 26.47it/s]\n"
     ]
    },
    {
     "name": "stdout",
     "output_type": "stream",
     "text": [
      "Train Loss: 0.0017 | Train Acc: 91.25%\n",
      "Test  Loss: 0.3107 | Test Acc: 89.92%\n",
      "--------------------------------------------------\n",
      "[Epoch 351/100000] :\n"
     ]
    },
    {
     "name": "stderr",
     "output_type": "stream",
     "text": [
      "100%|██████████| 196/196 [00:07<00:00, 27.22it/s]\n"
     ]
    },
    {
     "name": "stdout",
     "output_type": "stream",
     "text": [
      "Train Loss: 0.0025 | Train Acc: 80.00%\n",
      "Test  Loss: 0.3864 | Test Acc: 87.71%\n",
      "--------------------------------------------------\n",
      "[Epoch 352/100000] :\n"
     ]
    },
    {
     "name": "stderr",
     "output_type": "stream",
     "text": [
      "100%|██████████| 196/196 [00:07<00:00, 24.81it/s]\n"
     ]
    },
    {
     "name": "stdout",
     "output_type": "stream",
     "text": [
      "Train Loss: 0.0033 | Train Acc: 81.25%\n",
      "Test  Loss: 0.3580 | Test Acc: 88.74%\n",
      "--------------------------------------------------\n",
      "[Epoch 353/100000] :\n"
     ]
    },
    {
     "name": "stderr",
     "output_type": "stream",
     "text": [
      "100%|██████████| 196/196 [00:07<00:00, 26.34it/s]\n"
     ]
    },
    {
     "name": "stdout",
     "output_type": "stream",
     "text": [
      "Train Loss: 0.0018 | Train Acc: 86.25%\n",
      "Test  Loss: 0.4587 | Test Acc: 86.07%\n",
      "--------------------------------------------------\n",
      "[Epoch 354/100000] :\n"
     ]
    },
    {
     "name": "stderr",
     "output_type": "stream",
     "text": [
      "100%|██████████| 196/196 [00:07<00:00, 26.00it/s]\n"
     ]
    },
    {
     "name": "stdout",
     "output_type": "stream",
     "text": [
      "Train Loss: 0.0025 | Train Acc: 82.50%\n",
      "Test  Loss: 0.3134 | Test Acc: 89.73%\n",
      "--------------------------------------------------\n",
      "[Epoch 355/100000] :\n"
     ]
    },
    {
     "name": "stderr",
     "output_type": "stream",
     "text": [
      "100%|██████████| 196/196 [00:07<00:00, 26.99it/s]\n"
     ]
    },
    {
     "name": "stdout",
     "output_type": "stream",
     "text": [
      "Train Loss: 0.0023 | Train Acc: 86.25%\n",
      "Test  Loss: 0.3576 | Test Acc: 88.55%\n",
      "--------------------------------------------------\n",
      "[Epoch 356/100000] :\n"
     ]
    },
    {
     "name": "stderr",
     "output_type": "stream",
     "text": [
      "100%|██████████| 196/196 [00:07<00:00, 27.73it/s]\n"
     ]
    },
    {
     "name": "stdout",
     "output_type": "stream",
     "text": [
      "Train Loss: 0.0018 | Train Acc: 91.25%\n",
      "Test  Loss: 0.3995 | Test Acc: 87.72%\n",
      "--------------------------------------------------\n",
      "[Epoch 357/100000] :\n"
     ]
    },
    {
     "name": "stderr",
     "output_type": "stream",
     "text": [
      "100%|██████████| 196/196 [00:07<00:00, 25.63it/s]\n"
     ]
    },
    {
     "name": "stdout",
     "output_type": "stream",
     "text": [
      "Train Loss: 0.0032 | Train Acc: 80.00%\n",
      "Test  Loss: 0.3546 | Test Acc: 88.64%\n",
      "--------------------------------------------------\n",
      "[Epoch 358/100000] :\n"
     ]
    },
    {
     "name": "stderr",
     "output_type": "stream",
     "text": [
      "100%|██████████| 196/196 [00:07<00:00, 26.25it/s]\n"
     ]
    },
    {
     "name": "stdout",
     "output_type": "stream",
     "text": [
      "Train Loss: 0.0032 | Train Acc: 81.25%\n",
      "Test  Loss: 0.3027 | Test Acc: 89.64%\n",
      "--------------------------------------------------\n",
      "[Epoch 359/100000] :\n"
     ]
    },
    {
     "name": "stderr",
     "output_type": "stream",
     "text": [
      "100%|██████████| 196/196 [00:07<00:00, 25.84it/s]\n"
     ]
    },
    {
     "name": "stdout",
     "output_type": "stream",
     "text": [
      "Train Loss: 0.0014 | Train Acc: 90.00%\n",
      "Test  Loss: 0.3540 | Test Acc: 88.70%\n",
      "--------------------------------------------------\n",
      "[Epoch 360/100000] :\n"
     ]
    },
    {
     "name": "stderr",
     "output_type": "stream",
     "text": [
      "100%|██████████| 196/196 [00:07<00:00, 26.43it/s]\n"
     ]
    },
    {
     "name": "stdout",
     "output_type": "stream",
     "text": [
      "Train Loss: 0.0019 | Train Acc: 87.50%\n",
      "Test  Loss: 0.3210 | Test Acc: 89.61%\n",
      "--------------------------------------------------\n",
      "[Epoch 361/100000] :\n"
     ]
    },
    {
     "name": "stderr",
     "output_type": "stream",
     "text": [
      "100%|██████████| 196/196 [00:07<00:00, 26.65it/s]\n"
     ]
    },
    {
     "name": "stdout",
     "output_type": "stream",
     "text": [
      "Train Loss: 0.0020 | Train Acc: 87.50%\n",
      "Test  Loss: 0.3006 | Test Acc: 89.85%\n",
      "--------------------------------------------------\n",
      "[Epoch 362/100000] :\n"
     ]
    },
    {
     "name": "stderr",
     "output_type": "stream",
     "text": [
      "100%|██████████| 196/196 [00:07<00:00, 26.02it/s]\n"
     ]
    },
    {
     "name": "stdout",
     "output_type": "stream",
     "text": [
      "Train Loss: 0.0015 | Train Acc: 87.50%\n",
      "Test  Loss: 0.3265 | Test Acc: 89.31%\n",
      "--------------------------------------------------\n",
      "[Epoch 363/100000] :\n"
     ]
    },
    {
     "name": "stderr",
     "output_type": "stream",
     "text": [
      "100%|██████████| 196/196 [00:07<00:00, 26.38it/s]\n"
     ]
    },
    {
     "name": "stdout",
     "output_type": "stream",
     "text": [
      "Train Loss: 0.0027 | Train Acc: 82.50%\n",
      "Test  Loss: 0.3077 | Test Acc: 89.71%\n",
      "--------------------------------------------------\n",
      "[Epoch 364/100000] :\n"
     ]
    },
    {
     "name": "stderr",
     "output_type": "stream",
     "text": [
      "100%|██████████| 196/196 [00:07<00:00, 25.89it/s]\n"
     ]
    },
    {
     "name": "stdout",
     "output_type": "stream",
     "text": [
      "Train Loss: 0.0015 | Train Acc: 88.75%\n",
      "Test  Loss: 0.3375 | Test Acc: 88.67%\n",
      "--------------------------------------------------\n",
      "[Epoch 365/100000] :\n"
     ]
    },
    {
     "name": "stderr",
     "output_type": "stream",
     "text": [
      "100%|██████████| 196/196 [00:06<00:00, 29.84it/s]\n"
     ]
    },
    {
     "name": "stdout",
     "output_type": "stream",
     "text": [
      "Train Loss: 0.0019 | Train Acc: 87.50%\n",
      "Test  Loss: 0.3323 | Test Acc: 88.87%\n",
      "--------------------------------------------------\n",
      "[Epoch 366/100000] :\n"
     ]
    },
    {
     "name": "stderr",
     "output_type": "stream",
     "text": [
      "100%|██████████| 196/196 [00:07<00:00, 26.41it/s]\n"
     ]
    },
    {
     "name": "stdout",
     "output_type": "stream",
     "text": [
      "Train Loss: 0.0022 | Train Acc: 86.25%\n",
      "Test  Loss: 0.4048 | Test Acc: 87.61%\n",
      "--------------------------------------------------\n",
      "[Epoch 367/100000] :\n"
     ]
    },
    {
     "name": "stderr",
     "output_type": "stream",
     "text": [
      "100%|██████████| 196/196 [00:07<00:00, 25.65it/s]\n"
     ]
    },
    {
     "name": "stdout",
     "output_type": "stream",
     "text": [
      "Train Loss: 0.0026 | Train Acc: 83.75%\n",
      "Test  Loss: 0.3735 | Test Acc: 87.85%\n",
      "--------------------------------------------------\n",
      "[Epoch 368/100000] :\n"
     ]
    },
    {
     "name": "stderr",
     "output_type": "stream",
     "text": [
      "100%|██████████| 196/196 [00:07<00:00, 27.08it/s]\n"
     ]
    },
    {
     "name": "stdout",
     "output_type": "stream",
     "text": [
      "Train Loss: 0.0018 | Train Acc: 86.25%\n",
      "Test  Loss: 0.3245 | Test Acc: 89.54%\n",
      "--------------------------------------------------\n",
      "[Epoch 369/100000] :\n"
     ]
    },
    {
     "name": "stderr",
     "output_type": "stream",
     "text": [
      "100%|██████████| 196/196 [00:07<00:00, 25.21it/s]\n"
     ]
    },
    {
     "name": "stdout",
     "output_type": "stream",
     "text": [
      "Train Loss: 0.0021 | Train Acc: 85.00%\n",
      "Test  Loss: 0.3557 | Test Acc: 88.50%\n",
      "--------------------------------------------------\n",
      "[Epoch 370/100000] :\n"
     ]
    },
    {
     "name": "stderr",
     "output_type": "stream",
     "text": [
      "100%|██████████| 196/196 [00:07<00:00, 27.60it/s]\n"
     ]
    },
    {
     "name": "stdout",
     "output_type": "stream",
     "text": [
      "Train Loss: 0.0033 | Train Acc: 77.50%\n",
      "Test  Loss: 0.3237 | Test Acc: 89.64%\n",
      "--------------------------------------------------\n",
      "[Epoch 371/100000] :\n"
     ]
    },
    {
     "name": "stderr",
     "output_type": "stream",
     "text": [
      "100%|██████████| 196/196 [00:07<00:00, 27.06it/s]\n"
     ]
    },
    {
     "name": "stdout",
     "output_type": "stream",
     "text": [
      "Train Loss: 0.0025 | Train Acc: 81.25%\n",
      "Test  Loss: 0.2861 | Test Acc: 90.43%\n",
      "updated best eval loss : 0.2860847502015531\n",
      "--------------------------------------------------\n",
      "[Epoch 372/100000] :\n"
     ]
    },
    {
     "name": "stderr",
     "output_type": "stream",
     "text": [
      "100%|██████████| 196/196 [00:06<00:00, 28.86it/s]\n"
     ]
    },
    {
     "name": "stdout",
     "output_type": "stream",
     "text": [
      "Train Loss: 0.0019 | Train Acc: 90.00%\n",
      "Test  Loss: 0.3026 | Test Acc: 90.06%\n",
      "--------------------------------------------------\n",
      "[Epoch 373/100000] :\n"
     ]
    },
    {
     "name": "stderr",
     "output_type": "stream",
     "text": [
      "100%|██████████| 196/196 [00:07<00:00, 26.81it/s]\n"
     ]
    },
    {
     "name": "stdout",
     "output_type": "stream",
     "text": [
      "Train Loss: 0.0023 | Train Acc: 87.50%\n",
      "Test  Loss: 0.3116 | Test Acc: 89.54%\n",
      "--------------------------------------------------\n",
      "[Epoch 374/100000] :\n"
     ]
    },
    {
     "name": "stderr",
     "output_type": "stream",
     "text": [
      "100%|██████████| 196/196 [00:07<00:00, 25.16it/s]\n"
     ]
    },
    {
     "name": "stdout",
     "output_type": "stream",
     "text": [
      "Train Loss: 0.0020 | Train Acc: 88.75%\n",
      "Test  Loss: 0.4022 | Test Acc: 87.16%\n",
      "--------------------------------------------------\n",
      "[Epoch 375/100000] :\n"
     ]
    },
    {
     "name": "stderr",
     "output_type": "stream",
     "text": [
      "100%|██████████| 196/196 [00:06<00:00, 28.10it/s]\n"
     ]
    },
    {
     "name": "stdout",
     "output_type": "stream",
     "text": [
      "Train Loss: 0.0020 | Train Acc: 87.50%\n",
      "Test  Loss: 0.3373 | Test Acc: 89.01%\n",
      "--------------------------------------------------\n",
      "[Epoch 376/100000] :\n"
     ]
    },
    {
     "name": "stderr",
     "output_type": "stream",
     "text": [
      "100%|██████████| 196/196 [00:07<00:00, 24.92it/s]\n"
     ]
    },
    {
     "name": "stdout",
     "output_type": "stream",
     "text": [
      "Train Loss: 0.0028 | Train Acc: 83.75%\n",
      "Test  Loss: 0.4106 | Test Acc: 87.21%\n",
      "--------------------------------------------------\n",
      "[Epoch 377/100000] :\n"
     ]
    },
    {
     "name": "stderr",
     "output_type": "stream",
     "text": [
      "100%|██████████| 196/196 [00:07<00:00, 26.26it/s]\n"
     ]
    },
    {
     "name": "stdout",
     "output_type": "stream",
     "text": [
      "Train Loss: 0.0020 | Train Acc: 83.75%\n",
      "Test  Loss: 0.3216 | Test Acc: 89.68%\n",
      "--------------------------------------------------\n",
      "[Epoch 378/100000] :\n"
     ]
    },
    {
     "name": "stderr",
     "output_type": "stream",
     "text": [
      "100%|██████████| 196/196 [00:07<00:00, 24.97it/s]\n"
     ]
    },
    {
     "name": "stdout",
     "output_type": "stream",
     "text": [
      "Train Loss: 0.0029 | Train Acc: 81.25%\n",
      "Test  Loss: 0.3615 | Test Acc: 88.45%\n",
      "--------------------------------------------------\n",
      "[Epoch 379/100000] :\n"
     ]
    },
    {
     "name": "stderr",
     "output_type": "stream",
     "text": [
      "100%|██████████| 196/196 [00:07<00:00, 27.05it/s]\n"
     ]
    },
    {
     "name": "stdout",
     "output_type": "stream",
     "text": [
      "Train Loss: 0.0022 | Train Acc: 85.00%\n",
      "Test  Loss: 0.3335 | Test Acc: 89.25%\n",
      "--------------------------------------------------\n",
      "[Epoch 380/100000] :\n"
     ]
    },
    {
     "name": "stderr",
     "output_type": "stream",
     "text": [
      "100%|██████████| 196/196 [00:07<00:00, 26.92it/s]\n"
     ]
    },
    {
     "name": "stdout",
     "output_type": "stream",
     "text": [
      "Train Loss: 0.0029 | Train Acc: 82.50%\n",
      "Test  Loss: 0.3170 | Test Acc: 89.62%\n",
      "--------------------------------------------------\n",
      "[Epoch 381/100000] :\n"
     ]
    },
    {
     "name": "stderr",
     "output_type": "stream",
     "text": [
      "100%|██████████| 196/196 [00:07<00:00, 27.47it/s]\n"
     ]
    },
    {
     "name": "stdout",
     "output_type": "stream",
     "text": [
      "Train Loss: 0.0028 | Train Acc: 88.75%\n",
      "Test  Loss: 0.4054 | Test Acc: 88.48%\n",
      "--------------------------------------------------\n",
      "[Epoch 382/100000] :\n"
     ]
    },
    {
     "name": "stderr",
     "output_type": "stream",
     "text": [
      "100%|██████████| 196/196 [00:07<00:00, 26.87it/s]\n"
     ]
    },
    {
     "name": "stdout",
     "output_type": "stream",
     "text": [
      "Train Loss: 0.0022 | Train Acc: 86.25%\n",
      "Test  Loss: 0.3636 | Test Acc: 87.98%\n",
      "--------------------------------------------------\n",
      "[Epoch 383/100000] :\n"
     ]
    },
    {
     "name": "stderr",
     "output_type": "stream",
     "text": [
      "100%|██████████| 196/196 [00:07<00:00, 26.01it/s]\n"
     ]
    },
    {
     "name": "stdout",
     "output_type": "stream",
     "text": [
      "Train Loss: 0.0021 | Train Acc: 86.25%\n",
      "Test  Loss: 0.3478 | Test Acc: 89.00%\n",
      "--------------------------------------------------\n",
      "[Epoch 384/100000] :\n"
     ]
    },
    {
     "name": "stderr",
     "output_type": "stream",
     "text": [
      "100%|██████████| 196/196 [00:06<00:00, 28.41it/s]\n"
     ]
    },
    {
     "name": "stdout",
     "output_type": "stream",
     "text": [
      "Train Loss: 0.0017 | Train Acc: 92.50%\n",
      "Test  Loss: 0.3471 | Test Acc: 88.51%\n",
      "--------------------------------------------------\n",
      "[Epoch 385/100000] :\n"
     ]
    },
    {
     "name": "stderr",
     "output_type": "stream",
     "text": [
      "100%|██████████| 196/196 [00:07<00:00, 25.51it/s]\n"
     ]
    },
    {
     "name": "stdout",
     "output_type": "stream",
     "text": [
      "Train Loss: 0.0025 | Train Acc: 83.75%\n",
      "Test  Loss: 0.3096 | Test Acc: 89.56%\n",
      "--------------------------------------------------\n",
      "[Epoch 386/100000] :\n"
     ]
    },
    {
     "name": "stderr",
     "output_type": "stream",
     "text": [
      "100%|██████████| 196/196 [00:07<00:00, 27.79it/s]\n"
     ]
    },
    {
     "name": "stdout",
     "output_type": "stream",
     "text": [
      "Train Loss: 0.0011 | Train Acc: 95.00%\n",
      "Test  Loss: 0.3632 | Test Acc: 89.03%\n",
      "--------------------------------------------------\n",
      "[Epoch 387/100000] :\n"
     ]
    },
    {
     "name": "stderr",
     "output_type": "stream",
     "text": [
      "100%|██████████| 196/196 [00:07<00:00, 24.98it/s]\n"
     ]
    },
    {
     "name": "stdout",
     "output_type": "stream",
     "text": [
      "Train Loss: 0.0027 | Train Acc: 80.00%\n",
      "Test  Loss: 0.3224 | Test Acc: 89.56%\n",
      "--------------------------------------------------\n",
      "[Epoch 388/100000] :\n"
     ]
    },
    {
     "name": "stderr",
     "output_type": "stream",
     "text": [
      "100%|██████████| 196/196 [00:07<00:00, 26.69it/s]\n"
     ]
    },
    {
     "name": "stdout",
     "output_type": "stream",
     "text": [
      "Train Loss: 0.0021 | Train Acc: 86.25%\n",
      "Test  Loss: 0.3340 | Test Acc: 88.97%\n",
      "--------------------------------------------------\n",
      "[Epoch 389/100000] :\n"
     ]
    },
    {
     "name": "stderr",
     "output_type": "stream",
     "text": [
      "100%|██████████| 196/196 [00:07<00:00, 26.79it/s]\n"
     ]
    },
    {
     "name": "stdout",
     "output_type": "stream",
     "text": [
      "Train Loss: 0.0022 | Train Acc: 83.75%\n",
      "Test  Loss: 0.3830 | Test Acc: 88.08%\n",
      "--------------------------------------------------\n",
      "[Epoch 390/100000] :\n"
     ]
    },
    {
     "name": "stderr",
     "output_type": "stream",
     "text": [
      "100%|██████████| 196/196 [00:07<00:00, 26.11it/s]\n"
     ]
    },
    {
     "name": "stdout",
     "output_type": "stream",
     "text": [
      "Train Loss: 0.0022 | Train Acc: 86.25%\n",
      "Test  Loss: 0.3813 | Test Acc: 87.53%\n",
      "--------------------------------------------------\n",
      "[Epoch 391/100000] :\n"
     ]
    },
    {
     "name": "stderr",
     "output_type": "stream",
     "text": [
      "100%|██████████| 196/196 [00:06<00:00, 28.19it/s]\n"
     ]
    },
    {
     "name": "stdout",
     "output_type": "stream",
     "text": [
      "Train Loss: 0.0017 | Train Acc: 85.00%\n",
      "Test  Loss: 0.3338 | Test Acc: 89.00%\n",
      "--------------------------------------------------\n",
      "[Epoch 392/100000] :\n"
     ]
    },
    {
     "name": "stderr",
     "output_type": "stream",
     "text": [
      "100%|██████████| 196/196 [00:07<00:00, 25.26it/s]\n"
     ]
    },
    {
     "name": "stdout",
     "output_type": "stream",
     "text": [
      "Train Loss: 0.0029 | Train Acc: 80.00%\n",
      "Test  Loss: 0.4243 | Test Acc: 86.42%\n",
      "--------------------------------------------------\n",
      "[Epoch 393/100000] :\n"
     ]
    },
    {
     "name": "stderr",
     "output_type": "stream",
     "text": [
      "100%|██████████| 196/196 [00:07<00:00, 27.50it/s]\n"
     ]
    },
    {
     "name": "stdout",
     "output_type": "stream",
     "text": [
      "Train Loss: 0.0025 | Train Acc: 83.75%\n",
      "Test  Loss: 0.3786 | Test Acc: 88.38%\n",
      "--------------------------------------------------\n",
      "[Epoch 394/100000] :\n"
     ]
    },
    {
     "name": "stderr",
     "output_type": "stream",
     "text": [
      "100%|██████████| 196/196 [00:07<00:00, 24.56it/s]\n"
     ]
    },
    {
     "name": "stdout",
     "output_type": "stream",
     "text": [
      "Train Loss: 0.0026 | Train Acc: 88.75%\n",
      "Test  Loss: 0.3078 | Test Acc: 89.62%\n",
      "--------------------------------------------------\n",
      "[Epoch 395/100000] :\n"
     ]
    },
    {
     "name": "stderr",
     "output_type": "stream",
     "text": [
      "100%|██████████| 196/196 [00:07<00:00, 25.74it/s]\n"
     ]
    },
    {
     "name": "stdout",
     "output_type": "stream",
     "text": [
      "Train Loss: 0.0025 | Train Acc: 81.25%\n",
      "Test  Loss: 0.3077 | Test Acc: 89.67%\n",
      "--------------------------------------------------\n",
      "[Epoch 396/100000] :\n"
     ]
    },
    {
     "name": "stderr",
     "output_type": "stream",
     "text": [
      "100%|██████████| 196/196 [00:07<00:00, 26.09it/s]\n"
     ]
    },
    {
     "name": "stdout",
     "output_type": "stream",
     "text": [
      "Train Loss: 0.0020 | Train Acc: 83.75%\n",
      "Test  Loss: 0.2860 | Test Acc: 90.25%\n",
      "updated best eval loss : 0.28597468212246896\n",
      "--------------------------------------------------\n",
      "[Epoch 397/100000] :\n"
     ]
    },
    {
     "name": "stderr",
     "output_type": "stream",
     "text": [
      "100%|██████████| 196/196 [00:07<00:00, 26.62it/s]\n"
     ]
    },
    {
     "name": "stdout",
     "output_type": "stream",
     "text": [
      "Train Loss: 0.0032 | Train Acc: 80.00%\n",
      "Test  Loss: 0.3475 | Test Acc: 89.43%\n",
      "--------------------------------------------------\n",
      "[Epoch 398/100000] :\n"
     ]
    },
    {
     "name": "stderr",
     "output_type": "stream",
     "text": [
      "100%|██████████| 196/196 [00:07<00:00, 27.48it/s]\n"
     ]
    },
    {
     "name": "stdout",
     "output_type": "stream",
     "text": [
      "Train Loss: 0.0021 | Train Acc: 83.75%\n",
      "Test  Loss: 0.3804 | Test Acc: 88.07%\n",
      "--------------------------------------------------\n",
      "[Epoch 399/100000] :\n"
     ]
    },
    {
     "name": "stderr",
     "output_type": "stream",
     "text": [
      "100%|██████████| 196/196 [00:07<00:00, 25.01it/s]\n"
     ]
    },
    {
     "name": "stdout",
     "output_type": "stream",
     "text": [
      "Train Loss: 0.0018 | Train Acc: 87.50%\n",
      "Test  Loss: 0.3945 | Test Acc: 88.06%\n",
      "--------------------------------------------------\n",
      "[Epoch 400/100000] :\n"
     ]
    },
    {
     "name": "stderr",
     "output_type": "stream",
     "text": [
      "100%|██████████| 196/196 [00:06<00:00, 28.44it/s]\n"
     ]
    },
    {
     "name": "stdout",
     "output_type": "stream",
     "text": [
      "Train Loss: 0.0023 | Train Acc: 83.75%\n",
      "Test  Loss: 0.3437 | Test Acc: 88.49%\n",
      "--------------------------------------------------\n",
      "[Epoch 401/100000] :\n"
     ]
    },
    {
     "name": "stderr",
     "output_type": "stream",
     "text": [
      "100%|██████████| 196/196 [00:07<00:00, 25.93it/s]\n"
     ]
    },
    {
     "name": "stdout",
     "output_type": "stream",
     "text": [
      "Train Loss: 0.0015 | Train Acc: 91.25%\n",
      "Test  Loss: 0.3767 | Test Acc: 88.04%\n",
      "--------------------------------------------------\n",
      "[Epoch 402/100000] :\n"
     ]
    },
    {
     "name": "stderr",
     "output_type": "stream",
     "text": [
      "100%|██████████| 196/196 [00:07<00:00, 26.06it/s]\n"
     ]
    },
    {
     "name": "stdout",
     "output_type": "stream",
     "text": [
      "Train Loss: 0.0013 | Train Acc: 86.25%\n",
      "Test  Loss: 0.3540 | Test Acc: 88.25%\n",
      "--------------------------------------------------\n",
      "[Epoch 403/100000] :\n"
     ]
    },
    {
     "name": "stderr",
     "output_type": "stream",
     "text": [
      "100%|██████████| 196/196 [00:07<00:00, 26.97it/s]\n"
     ]
    },
    {
     "name": "stdout",
     "output_type": "stream",
     "text": [
      "Train Loss: 0.0027 | Train Acc: 85.00%\n",
      "Test  Loss: 0.4298 | Test Acc: 86.89%\n",
      "--------------------------------------------------\n",
      "[Epoch 404/100000] :\n"
     ]
    },
    {
     "name": "stderr",
     "output_type": "stream",
     "text": [
      "100%|██████████| 196/196 [00:07<00:00, 26.99it/s]\n"
     ]
    },
    {
     "name": "stdout",
     "output_type": "stream",
     "text": [
      "Train Loss: 0.0019 | Train Acc: 90.00%\n",
      "Test  Loss: 0.3325 | Test Acc: 88.96%\n",
      "--------------------------------------------------\n",
      "[Epoch 405/100000] :\n"
     ]
    },
    {
     "name": "stderr",
     "output_type": "stream",
     "text": [
      "100%|██████████| 196/196 [00:07<00:00, 25.89it/s]\n"
     ]
    },
    {
     "name": "stdout",
     "output_type": "stream",
     "text": [
      "Train Loss: 0.0019 | Train Acc: 85.00%\n",
      "Test  Loss: 0.4071 | Test Acc: 87.32%\n",
      "--------------------------------------------------\n",
      "[Epoch 406/100000] :\n"
     ]
    },
    {
     "name": "stderr",
     "output_type": "stream",
     "text": [
      "100%|██████████| 196/196 [00:07<00:00, 26.63it/s]\n"
     ]
    },
    {
     "name": "stdout",
     "output_type": "stream",
     "text": [
      "Train Loss: 0.0023 | Train Acc: 86.25%\n",
      "Test  Loss: 0.3427 | Test Acc: 88.93%\n",
      "--------------------------------------------------\n",
      "[Epoch 407/100000] :\n"
     ]
    },
    {
     "name": "stderr",
     "output_type": "stream",
     "text": [
      "100%|██████████| 196/196 [00:06<00:00, 28.61it/s]\n"
     ]
    },
    {
     "name": "stdout",
     "output_type": "stream",
     "text": [
      "Train Loss: 0.0023 | Train Acc: 87.50%\n",
      "Test  Loss: 0.3322 | Test Acc: 89.10%\n",
      "--------------------------------------------------\n",
      "[Epoch 408/100000] :\n"
     ]
    },
    {
     "name": "stderr",
     "output_type": "stream",
     "text": [
      "100%|██████████| 196/196 [00:07<00:00, 25.06it/s]\n"
     ]
    },
    {
     "name": "stdout",
     "output_type": "stream",
     "text": [
      "Train Loss: 0.0015 | Train Acc: 88.75%\n",
      "Test  Loss: 0.3348 | Test Acc: 89.53%\n",
      "--------------------------------------------------\n",
      "[Epoch 409/100000] :\n"
     ]
    },
    {
     "name": "stderr",
     "output_type": "stream",
     "text": [
      "100%|██████████| 196/196 [00:07<00:00, 26.53it/s]\n"
     ]
    },
    {
     "name": "stdout",
     "output_type": "stream",
     "text": [
      "Train Loss: 0.0016 | Train Acc: 93.75%\n",
      "Test  Loss: 0.3520 | Test Acc: 88.92%\n",
      "--------------------------------------------------\n",
      "[Epoch 410/100000] :\n"
     ]
    },
    {
     "name": "stderr",
     "output_type": "stream",
     "text": [
      "100%|██████████| 196/196 [00:07<00:00, 27.37it/s]\n"
     ]
    },
    {
     "name": "stdout",
     "output_type": "stream",
     "text": [
      "Train Loss: 0.0016 | Train Acc: 90.00%\n",
      "Test  Loss: 0.3292 | Test Acc: 89.04%\n",
      "--------------------------------------------------\n",
      "[Epoch 411/100000] :\n"
     ]
    },
    {
     "name": "stderr",
     "output_type": "stream",
     "text": [
      "100%|██████████| 196/196 [00:07<00:00, 25.97it/s]\n"
     ]
    },
    {
     "name": "stdout",
     "output_type": "stream",
     "text": [
      "Train Loss: 0.0019 | Train Acc: 87.50%\n",
      "Test  Loss: 0.3396 | Test Acc: 89.40%\n",
      "--------------------------------------------------\n",
      "[Epoch 412/100000] :\n"
     ]
    },
    {
     "name": "stderr",
     "output_type": "stream",
     "text": [
      "100%|██████████| 196/196 [00:07<00:00, 26.92it/s]\n"
     ]
    },
    {
     "name": "stdout",
     "output_type": "stream",
     "text": [
      "Train Loss: 0.0022 | Train Acc: 80.00%\n",
      "Test  Loss: 0.3454 | Test Acc: 88.51%\n",
      "--------------------------------------------------\n",
      "[Epoch 413/100000] :\n"
     ]
    },
    {
     "name": "stderr",
     "output_type": "stream",
     "text": [
      "100%|██████████| 196/196 [00:07<00:00, 25.20it/s]\n"
     ]
    },
    {
     "name": "stdout",
     "output_type": "stream",
     "text": [
      "Train Loss: 0.0020 | Train Acc: 86.25%\n",
      "Test  Loss: 0.3502 | Test Acc: 88.41%\n",
      "--------------------------------------------------\n",
      "[Epoch 414/100000] :\n"
     ]
    },
    {
     "name": "stderr",
     "output_type": "stream",
     "text": [
      "100%|██████████| 196/196 [00:07<00:00, 27.44it/s]\n"
     ]
    },
    {
     "name": "stdout",
     "output_type": "stream",
     "text": [
      "Train Loss: 0.0014 | Train Acc: 88.75%\n",
      "Test  Loss: 0.3279 | Test Acc: 89.10%\n",
      "--------------------------------------------------\n",
      "[Epoch 415/100000] :\n"
     ]
    },
    {
     "name": "stderr",
     "output_type": "stream",
     "text": [
      "100%|██████████| 196/196 [00:07<00:00, 24.86it/s]\n"
     ]
    },
    {
     "name": "stdout",
     "output_type": "stream",
     "text": [
      "Train Loss: 0.0021 | Train Acc: 86.25%\n",
      "Test  Loss: 0.3390 | Test Acc: 88.70%\n",
      "--------------------------------------------------\n",
      "[Epoch 416/100000] :\n"
     ]
    },
    {
     "name": "stderr",
     "output_type": "stream",
     "text": [
      "100%|██████████| 196/196 [00:07<00:00, 26.21it/s]\n"
     ]
    },
    {
     "name": "stdout",
     "output_type": "stream",
     "text": [
      "Train Loss: 0.0033 | Train Acc: 82.50%\n",
      "Test  Loss: 0.3601 | Test Acc: 88.51%\n",
      "--------------------------------------------------\n",
      "[Epoch 417/100000] :\n"
     ]
    },
    {
     "name": "stderr",
     "output_type": "stream",
     "text": [
      "100%|██████████| 196/196 [00:07<00:00, 27.16it/s]\n"
     ]
    },
    {
     "name": "stdout",
     "output_type": "stream",
     "text": [
      "Train Loss: 0.0015 | Train Acc: 88.75%\n",
      "Test  Loss: 0.3271 | Test Acc: 89.37%\n",
      "--------------------------------------------------\n",
      "[Epoch 418/100000] :\n"
     ]
    },
    {
     "name": "stderr",
     "output_type": "stream",
     "text": [
      "100%|██████████| 196/196 [00:07<00:00, 26.35it/s]\n"
     ]
    },
    {
     "name": "stdout",
     "output_type": "stream",
     "text": [
      "Train Loss: 0.0017 | Train Acc: 85.00%\n",
      "Test  Loss: 0.3121 | Test Acc: 89.59%\n",
      "--------------------------------------------------\n",
      "[Epoch 419/100000] :\n"
     ]
    },
    {
     "name": "stderr",
     "output_type": "stream",
     "text": [
      "100%|██████████| 196/196 [00:07<00:00, 27.62it/s]\n"
     ]
    },
    {
     "name": "stdout",
     "output_type": "stream",
     "text": [
      "Train Loss: 0.0009 | Train Acc: 91.25%\n",
      "Test  Loss: 0.4382 | Test Acc: 86.09%\n",
      "--------------------------------------------------\n",
      "[Epoch 420/100000] :\n"
     ]
    },
    {
     "name": "stderr",
     "output_type": "stream",
     "text": [
      "100%|██████████| 196/196 [00:07<00:00, 25.37it/s]\n"
     ]
    },
    {
     "name": "stdout",
     "output_type": "stream",
     "text": [
      "Train Loss: 0.0025 | Train Acc: 83.75%\n",
      "Test  Loss: 0.3767 | Test Acc: 87.51%\n",
      "--------------------------------------------------\n",
      "[Epoch 421/100000] :\n"
     ]
    },
    {
     "name": "stderr",
     "output_type": "stream",
     "text": [
      " 93%|█████████▎| 182/196 [00:06<00:00, 27.69it/s]"
     ]
    }
   ],
   "source": [
    "Training = DoTraining(\n",
    "    model=model,\n",
    "    criterion=criterion,\n",
    "    optimizer=optimizer,\n",
    "    scaler=scaler,\n",
    "    scheduler=scheduler,\n",
    "    earlystopper=earlystopper,\n",
    "    device=device,\n",
    "    logs=logs,\n",
    "    file_path=file_path,\n",
    ")\n",
    "pre_epochs = len(Training.logs[\"train_loss\"])\n",
    "\n",
    "for epoch in range(NUM_EPOCHS):\n",
    "    now = epoch + 1 + pre_epochs\n",
    "    print(f\"[Epoch {epoch+1+pre_epochs}/{NUM_EPOCHS}] :\")\n",
    "\n",
    "    if DATASET == \"ImageNet2012\":\n",
    "        eval_loss = Training.SingleEpoch(train_dataloader, valid_dataloader)\n",
    "    else:\n",
    "        eval_loss = Training.SingleEpoch(\n",
    "            train_dataloader, valid_dataloader, test_dataloader\n",
    "        )\n",
    "\n",
    "    Training.Save()\n",
    "\n",
    "    if earlystopper.check(eval_loss) == True:\n",
    "        break\n",
    "\n",
    "    print(\"-\" * 50)"
   ]
  },
  {
   "cell_type": "code",
   "execution_count": null,
   "metadata": {},
   "outputs": [],
   "source": [
    "view = LogViewer(logs)\n",
    "view.draw()"
   ]
  },
  {
   "cell_type": "code",
   "execution_count": null,
   "metadata": {},
   "outputs": [],
   "source": [
    "view.print_all()"
   ]
  },
  {
   "cell_type": "code",
   "execution_count": null,
   "metadata": {},
   "outputs": [],
   "source": [
    "# CHECK = 5410\n",
    "# logs[\"train_loss\"] = logs[\"train_loss\"][:CHECK]\n",
    "# logs[\"train_acc\"] = logs[\"train_acc\"][:CHECK]\n",
    "# logs[\"valid_loss\"] = logs[\"valid_loss\"][:CHECK]\n",
    "# logs[\"valid_acc\"] = logs[\"valid_acc\"][:CHECK]\n",
    "# logs[\"test_loss\"] = logs[\"test_loss\"][:CHECK]\n",
    "# logs[\"test_acc\"] = logs[\"test_acc\"][:CHECK]\n",
    "# model.load_state_dict(torch.load(f\"models/{file_path}.pth\"))"
   ]
  }
 ],
 "metadata": {
  "kernelspec": {
   "display_name": "base",
   "language": "python",
   "name": "python3"
  },
  "language_info": {
   "codemirror_mode": {
    "name": "ipython",
    "version": 3
   },
   "file_extension": ".py",
   "mimetype": "text/x-python",
   "name": "python",
   "nbconvert_exporter": "python",
   "pygments_lexer": "ipython3",
   "version": "3.11.5"
  }
 },
 "nbformat": 4,
 "nbformat_minor": 2
}
