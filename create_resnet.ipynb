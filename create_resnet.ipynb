{
 "cells": [
  {
   "cell_type": "markdown",
   "metadata": {},
   "source": [
    "# Import"
   ]
  },
  {
   "cell_type": "code",
   "execution_count": 1,
   "metadata": {},
   "outputs": [],
   "source": [
    "import copy\n",
    "import torch\n",
    "from torch import nn\n",
    "import torch.nn.functional as F\n",
    "from torch.optim.lr_scheduler import ReduceLROnPlateau\n",
    "from torch.utils.data import DataLoader, random_split\n",
    "from torchvision import datasets\n",
    "from torchvision.transforms.v2 import (\n",
    "    ToTensor,\n",
    "    RandomHorizontalFlip,\n",
    "    Compose,\n",
    "    RandomResizedCrop,\n",
    "    RandomShortestSize,\n",
    "    AutoAugment,\n",
    ")\n",
    "\n",
    "from torchvision.transforms.autoaugment import AutoAugmentPolicy\n",
    "from fvcore.nn import FlopCountAnalysis, flop_count_table\n",
    "import numpy as np\n",
    "import matplotlib.pyplot as plt\n",
    "import tqdm\n",
    "import os\n",
    "\n",
    "####################################################\n",
    "from src.Mymodel import Block\n",
    "from src.Mymodel import MyResNet34\n",
    "from src.Mymodel import MyResNet_CIFAR\n",
    "from src.Mydataloader import LoadDataset"
   ]
  },
  {
   "cell_type": "markdown",
   "metadata": {},
   "source": [
    "# Setup"
   ]
  },
  {
   "cell_type": "code",
   "execution_count": 2,
   "metadata": {},
   "outputs": [],
   "source": [
    "\"\"\"Dataset selection\"\"\"\n",
    "DATASET = \"CIFAR10\"\n",
    "# DATASET = \"CIFAR100\"\n",
    "# DATASET = \"ImageNet2012\"\n",
    "\n",
    "\"\"\"Model selection\" for CIFAR\"\"\"\n",
    "num_layer_factor = 5\n",
    "\n",
    "\n",
    "\"\"\"Dataset parameters\"\"\"\n",
    "BATCH = 128\n",
    "SHUFFLE = True\n",
    "NUMOFWORKERS = 8\n",
    "PIN_MEMORY = True\n",
    "\n",
    "\"\"\"optimizer parameters\"\"\"\n",
    "# OPTIMIZER = \"SGD\"\n",
    "OPTIMIZER = \"Adam\"\n",
    "\n",
    "\n",
    "USE_AMP = True\n",
    "LOAD_BEFORE_TRAINING = False\n",
    "# LOAD_BEFORE_TRAINING = True\n",
    "NUM_EPOCHS = 5000"
   ]
  },
  {
   "cell_type": "markdown",
   "metadata": {},
   "source": [
    "# Loading the dataset"
   ]
  },
  {
   "cell_type": "markdown",
   "metadata": {},
   "source": [
    "## Define Dateloader"
   ]
  },
  {
   "cell_type": "code",
   "execution_count": 3,
   "metadata": {},
   "outputs": [],
   "source": [
    "from src.Mydataloader import LoadDataset"
   ]
  },
  {
   "cell_type": "markdown",
   "metadata": {},
   "source": [
    "## Confirm that the dataset is loaded properly"
   ]
  },
  {
   "cell_type": "code",
   "execution_count": 4,
   "metadata": {},
   "outputs": [
    {
     "name": "stderr",
     "output_type": "stream",
     "text": [
      "/home/lee/anaconda3/lib/python3.11/site-packages/torchvision/transforms/v2/_deprecated.py:43: UserWarning: The transform `ToTensor()` is deprecated and will be removed in a future release. Instead, please use `v2.Compose([v2.ToImage(), v2.ToDtype(torch.float32, scale=True)])`.\n",
      "  warnings.warn(\n"
     ]
    },
    {
     "name": "stdout",
     "output_type": "stream",
     "text": [
      "-----------------------------------------------------------------------\n",
      "Dataset :  CIFAR10\n",
      "- Length of Train Set :  45000\n",
      "- Length of Valid Set :  5000\n",
      "- Length of Test Set :  10000\n",
      "- Count of Classes :  10\n",
      "-----------------------------------------------------------------------\n",
      "train.transforms = Compose(\n",
      "      ToTensor()\n",
      "      Submean()\n",
      "      AutoAugment(interpolation=InterpolationMode.NEAREST, policy=AutoAugmentPolicy.CIFAR10)\n",
      "      RandomHorizontalFlip(p=0.5)\n",
      ")\n",
      "valid.transforms = Compose(\n",
      "      ToTensor()\n",
      "      Submean()\n",
      ")\n",
      "test.transforms = Compose(\n",
      "      ToTensor()\n",
      "      Submean()\n",
      ")\n"
     ]
    }
   ],
   "source": [
    "_dataset = LoadDataset(root=\"data\", seceted_dataset=DATASET)\n",
    "train_data, valid_data, test_data, COUNT_OF_CLASSES = _dataset.Unpack()\n",
    "\n",
    "train_dataloader = DataLoader(\n",
    "    train_data,\n",
    "    batch_size=BATCH,\n",
    "    shuffle=SHUFFLE,\n",
    "    num_workers=NUMOFWORKERS,\n",
    "    pin_memory=PIN_MEMORY,\n",
    "    # pin_memory_device=\"cuda\",\n",
    "    persistent_workers=True,\n",
    ")\n",
    "valid_dataloader = DataLoader(\n",
    "    valid_data,\n",
    "    batch_size=BATCH,\n",
    "    shuffle=SHUFFLE,\n",
    "    num_workers=NUMOFWORKERS,\n",
    "    pin_memory=PIN_MEMORY,\n",
    "    # pin_memory_device=\"cuda\",\n",
    "    persistent_workers=True,\n",
    ")\n",
    "test_dataloader = DataLoader(\n",
    "    test_data,\n",
    "    batch_size=BATCH,\n",
    "    shuffle=SHUFFLE,\n",
    "    num_workers=NUMOFWORKERS,\n",
    "    pin_memory=PIN_MEMORY,\n",
    "    # pin_memory_device=\"cuda\",\n",
    "    persistent_workers=True,\n",
    ")\n",
    "\n",
    "print(\"train.transforms =\", train_data.transform)\n",
    "print(\"valid.transforms =\", valid_data.transform)\n",
    "print(\"test.transforms =\", test_data.transform)"
   ]
  },
  {
   "cell_type": "code",
   "execution_count": 5,
   "metadata": {},
   "outputs": [
    {
     "name": "stdout",
     "output_type": "stream",
     "text": [
      "128\n",
      "128\n",
      "128\n"
     ]
    }
   ],
   "source": [
    "print(train_dataloader.batch_size)\n",
    "print(valid_dataloader.batch_size)\n",
    "print(test_dataloader.batch_size)"
   ]
  },
  {
   "cell_type": "code",
   "execution_count": 6,
   "metadata": {},
   "outputs": [
    {
     "name": "stdout",
     "output_type": "stream",
     "text": [
      "Shape of X [N, C, H, W]: torch.Size([128, 3, 32, 32])\n",
      "mean of X tensor([-7.0327e-10, -1.3647e-09, -5.9595e-09])\n",
      "Shape of y: torch.Size([128]) torch.int64\n"
     ]
    }
   ],
   "source": [
    "if DATASET != \"ImageNet2012\":\n",
    "    for X, y in test_dataloader:\n",
    "        print(f\"Shape of X [N, C, H, W]: {X.shape}\")\n",
    "        print(\"mean of X\", X.mean(dim=(0, 2, 3)))\n",
    "        print(f\"Shape of y: {y.shape} {y.dtype}\")\n",
    "        break"
   ]
  },
  {
   "cell_type": "code",
   "execution_count": 7,
   "metadata": {},
   "outputs": [
    {
     "data": {
      "image/png": "[encoded data removed]",
      "text/plain": [
       "<Figure size 800x400 with 10 Axes>"
      ]
     },
     "metadata": {},
     "output_type": "display_data"
    }
   ],
   "source": [
    "if DATASET != \"ImageNet2012\":\n",
    "    class_names = test_dataloader.dataset.classes\n",
    "    count = 0\n",
    "    fig, axs = plt.subplots(2, 5, figsize=(8, 4))\n",
    "\n",
    "    for images, labels in test_dataloader:\n",
    "        images = images.numpy()\n",
    "\n",
    "        for i in range(len(images)):\n",
    "            image = images[i]\n",
    "            label = labels[i]\n",
    "            image = np.transpose(image, (1, 2, 0))\n",
    "            image = np.clip(image, 0, 1)\n",
    "            ax = axs[count // 5, count % 5]\n",
    "            ax.imshow(image)\n",
    "            ax.set_title(f\"{class_names[label], label}\")\n",
    "            ax.axis('off')\n",
    "            count += 1\n",
    "            \n",
    "            if count == 10:\n",
    "                break\n",
    "        if count == 10:\n",
    "            break\n",
    "    plt.tight_layout()\n",
    "    plt.show()"
   ]
  },
  {
   "cell_type": "markdown",
   "metadata": {},
   "source": [
    "# Define ResNet"
   ]
  },
  {
   "cell_type": "code",
   "execution_count": 8,
   "metadata": {},
   "outputs": [],
   "source": [
    "from src.Mymodel import MyResNet34\n",
    "from src.Mymodel import MyResNet_CIFAR"
   ]
  },
  {
   "cell_type": "markdown",
   "metadata": {},
   "source": [
    "## Model Confirm"
   ]
  },
  {
   "cell_type": "code",
   "execution_count": 9,
   "metadata": {},
   "outputs": [
    {
     "name": "stdout",
     "output_type": "stream",
     "text": [
      "Using cuda device\n"
     ]
    }
   ],
   "source": [
    "# 학습에 사용할 CPU나 GPU, MPS 장치를 얻습니다.\n",
    "device = (\n",
    "    \"cuda\"\n",
    "    if torch.cuda.is_available()\n",
    "    else \"mps\"\n",
    "    if torch.backends.mps.is_available()\n",
    "    else \"cpu\"\n",
    ")\n",
    "print(f\"Using {device} device\")\n"
   ]
  },
  {
   "cell_type": "code",
   "execution_count": 10,
   "metadata": {},
   "outputs": [
    {
     "name": "stdout",
     "output_type": "stream",
     "text": [
      "ResNet-32 for CIFAR10 is loaded.\n"
     ]
    }
   ],
   "source": [
    "if DATASET == \"CIFAR10\" or DATASET == \"CIFAR100\":\n",
    "    \"\"\"ResNet{20, 32, 44, 56, 110, 1202} for CIFAR\"\"\"\n",
    "    model = MyResNet_CIFAR(num_classes=COUNT_OF_CLASSES, num_layer_factor=5).to(device)\n",
    "    print(f\"ResNet-{5*6+2} for {DATASET} is loaded.\")\n",
    "    \n",
    "elif DATASET == \"ImageNet2012\":\n",
    "    \"\"\"ResNet34 for ImageNet 2012\"\"\"\n",
    "    model = MyResNet34(num_classes=COUNT_OF_CLASSES).to(device)\n",
    "    # model = models.resnet34(pretrained=True).to(device)\n",
    "    # model = models.resnet34(pretrained=False).to(device)\n",
    "    print(f\"ResNet-34 for {DATASET} is loaded.\")\n",
    "    \n",
    "# model.named_modules"
   ]
  },
  {
   "cell_type": "code",
   "execution_count": 11,
   "metadata": {},
   "outputs": [
    {
     "name": "stdout",
     "output_type": "stream",
     "text": [
      "| module                   | #parameters or shape   | #flops     |\n",
      "|:-------------------------|:-----------------------|:-----------|\n",
      "| model                    | 0.464M                 | 8.998G     |\n",
      "|  conv32blocks            |  23.792K               |  3.181G    |\n",
      "|   conv32blocks.0         |   0.432K               |   56.623M  |\n",
      "|    conv32blocks.0.weight |    (16, 3, 3, 3)       |            |\n",
      "|   conv32blocks.1         |   4.672K               |   0.625G   |\n",
      "|    conv32blocks.1.conv1  |    2.304K              |    0.302G  |\n",
      "|    conv32blocks.1.bn1    |    32                  |    10.486M |\n",
      "|    conv32blocks.1.conv2  |    2.304K              |    0.302G  |\n",
      "|    conv32blocks.1.bn2    |    32                  |    10.486M |\n",
      "|   conv32blocks.2         |   4.672K               |   0.625G   |\n",
      "|    conv32blocks.2.conv1  |    2.304K              |    0.302G  |\n",
      "|    conv32blocks.2.bn1    |    32                  |    10.486M |\n",
      "|    conv32blocks.2.conv2  |    2.304K              |    0.302G  |\n",
      "|    conv32blocks.2.bn2    |    32                  |    10.486M |\n",
      "|   conv32blocks.3         |   4.672K               |   0.625G   |\n",
      "|    conv32blocks.3.conv1  |    2.304K              |    0.302G  |\n",
      "|    conv32blocks.3.bn1    |    32                  |    10.486M |\n",
      "|    conv32blocks.3.conv2  |    2.304K              |    0.302G  |\n",
      "|    conv32blocks.3.bn2    |    32                  |    10.486M |\n",
      "|   conv32blocks.4         |   4.672K               |   0.625G   |\n",
      "|    conv32blocks.4.conv1  |    2.304K              |    0.302G  |\n",
      "|    conv32blocks.4.bn1    |    32                  |    10.486M |\n",
      "|    conv32blocks.4.conv2  |    2.304K              |    0.302G  |\n",
      "|    conv32blocks.4.bn2    |    32                  |    10.486M |\n",
      "|   conv32blocks.5         |   4.672K               |   0.625G   |\n",
      "|    conv32blocks.5.conv1  |    2.304K              |    0.302G  |\n",
      "|    conv32blocks.5.bn1    |    32                  |    10.486M |\n",
      "|    conv32blocks.5.conv2  |    2.304K              |    0.302G  |\n",
      "|    conv32blocks.5.bn2    |    32                  |    10.486M |\n",
      "|  conv16blocks            |  88.192K               |  2.921G    |\n",
      "|   conv16blocks.0         |   13.952K              |   0.463G   |\n",
      "|    conv16blocks.0.conv1  |    4.608K              |    0.151G  |\n",
      "|    conv16blocks.0.bn1    |    64                  |    5.243M  |\n",
      "|    conv16blocks.0.conv2  |    9.216K              |    0.302G  |\n",
      "|    conv16blocks.0.bn2    |    64                  |    5.243M  |\n",
      "|   conv16blocks.1         |   18.56K               |   0.614G   |\n",
      "|    conv16blocks.1.conv1  |    9.216K              |    0.302G  |\n",
      "|    conv16blocks.1.bn1    |    64                  |    5.243M  |\n",
      "|    conv16blocks.1.conv2  |    9.216K              |    0.302G  |\n",
      "|    conv16blocks.1.bn2    |    64                  |    5.243M  |\n",
      "|   conv16blocks.2         |   18.56K               |   0.614G   |\n",
      "|    conv16blocks.2.conv1  |    9.216K              |    0.302G  |\n",
      "|    conv16blocks.2.bn1    |    64                  |    5.243M  |\n",
      "|    conv16blocks.2.conv2  |    9.216K              |    0.302G  |\n",
      "|    conv16blocks.2.bn2    |    64                  |    5.243M  |\n",
      "|   conv16blocks.3         |   18.56K               |   0.614G   |\n",
      "|    conv16blocks.3.conv1  |    9.216K              |    0.302G  |\n",
      "|    conv16blocks.3.bn1    |    64                  |    5.243M  |\n",
      "|    conv16blocks.3.conv2  |    9.216K              |    0.302G  |\n",
      "|    conv16blocks.3.bn2    |    64                  |    5.243M  |\n",
      "|   conv16blocks.4         |   18.56K               |   0.614G   |\n",
      "|    conv16blocks.4.conv1  |    9.216K              |    0.302G  |\n",
      "|    conv16blocks.4.bn1    |    64                  |    5.243M  |\n",
      "|    conv16blocks.4.conv2  |    9.216K              |    0.302G  |\n",
      "|    conv16blocks.4.bn2    |    64                  |    5.243M  |\n",
      "|  conv8blocks             |  0.351M                |  2.895G    |\n",
      "|   conv8blocks.0          |   55.552K              |   0.458G   |\n",
      "|    conv8blocks.0.conv1   |    18.432K             |    0.151G  |\n",
      "|    conv8blocks.0.bn1     |    0.128K              |    2.621M  |\n",
      "|    conv8blocks.0.conv2   |    36.864K             |    0.302G  |\n",
      "|    conv8blocks.0.bn2     |    0.128K              |    2.621M  |\n",
      "|   conv8blocks.1          |   73.984K              |   0.609G   |\n",
      "|    conv8blocks.1.conv1   |    36.864K             |    0.302G  |\n",
      "|    conv8blocks.1.bn1     |    0.128K              |    2.621M  |\n",
      "|    conv8blocks.1.conv2   |    36.864K             |    0.302G  |\n",
      "|    conv8blocks.1.bn2     |    0.128K              |    2.621M  |\n",
      "|   conv8blocks.2          |   73.984K              |   0.609G   |\n",
      "|    conv8blocks.2.conv1   |    36.864K             |    0.302G  |\n",
      "|    conv8blocks.2.bn1     |    0.128K              |    2.621M  |\n",
      "|    conv8blocks.2.conv2   |    36.864K             |    0.302G  |\n",
      "|    conv8blocks.2.bn2     |    0.128K              |    2.621M  |\n",
      "|   conv8blocks.3          |   73.984K              |   0.609G   |\n",
      "|    conv8blocks.3.conv1   |    36.864K             |    0.302G  |\n",
      "|    conv8blocks.3.bn1     |    0.128K              |    2.621M  |\n",
      "|    conv8blocks.3.conv2   |    36.864K             |    0.302G  |\n",
      "|    conv8blocks.3.bn2     |    0.128K              |    2.621M  |\n",
      "|   conv8blocks.4          |   73.984K              |   0.609G   |\n",
      "|    conv8blocks.4.conv1   |    36.864K             |    0.302G  |\n",
      "|    conv8blocks.4.bn1     |    0.128K              |    2.621M  |\n",
      "|    conv8blocks.4.conv2   |    36.864K             |    0.302G  |\n",
      "|    conv8blocks.4.bn2     |    0.128K              |    2.621M  |\n",
      "|  fc1                     |  0.65K                 |  81.92K    |\n",
      "|   fc1.weight             |   (10, 64)             |            |\n",
      "|   fc1.bias               |   (10,)                |            |\n",
      "|  avgpool                 |                        |  0.524M    |\n"
     ]
    }
   ],
   "source": [
    "tmp_input = torch.rand(BATCH, 3, 32, 32).to(device)\n",
    "flops = FlopCountAnalysis(model, tmp_input)\n",
    "print(flop_count_table(flops))"
   ]
  },
  {
   "cell_type": "markdown",
   "metadata": {},
   "source": [
    "# Define Training"
   ]
  },
  {
   "cell_type": "markdown",
   "metadata": {},
   "source": [
    "## Define Optimazer\n",
    "#### ResNet32 for CIFAR10\n",
    "- SGD\n",
    "- Batch size = 128 * 2 GPU\n",
    "- lr : 0.1 -> 0.01 -> 0.001 (at 32k, 48k and terminate on 64k iter)\n",
    "  - divided by 10 when the error plateaus\n",
    "- Weight Decay = 0.0001\n",
    "- Momentum = 0.9\n",
    "#### ResNet34 for ImageNet2012\n",
    "- SGD\n",
    "- Batch size = 256\n",
    "- lr = 0.1\n",
    "  - divided by 10 when the error plateaus\n",
    "  - amount 60k iter\n",
    "- Weight Decay = 0.0001\n",
    "- Momentum = 0.9"
   ]
  },
  {
   "cell_type": "code",
   "execution_count": 12,
   "metadata": {},
   "outputs": [],
   "source": [
    "criterion = nn.CrossEntropyLoss()\n",
    "\n",
    "if OPTIMIZER == \"Adam\":\n",
    "    optimizer = torch.optim.Adam(model.parameters())\n",
    "    # optimizer = torch.optim.Adam(model.parameters(), weight_decay=1e-4)    \n",
    "    # optimizer = torch.optim.Adam(model.parameters(), lr=0.1, weight_decay=1e-4)\n",
    "elif OPTIMIZER == \"SGD\":\n",
    "    optimizer = torch.optim.SGD(model.parameters(), lr=0.1, momentum=0.9, weight_decay=0.0001)"
   ]
  },
  {
   "cell_type": "markdown",
   "metadata": {},
   "source": [
    "## Define Early Stopping"
   ]
  },
  {
   "cell_type": "code",
   "execution_count": 13,
   "metadata": {},
   "outputs": [],
   "source": [
    "# Early stopping 관련 변수 초기화\n",
    "best_val_loss = float(\"inf\")\n",
    "patience = 1200  # 몇 번까지 기다릴 것인지\n",
    "early_stop_counter = 0"
   ]
  },
  {
   "cell_type": "markdown",
   "metadata": {},
   "source": [
    "## Define Learning Rate schedualer"
   ]
  },
  {
   "cell_type": "code",
   "execution_count": 14,
   "metadata": {},
   "outputs": [],
   "source": [
    "scheduler_mapping = {\"CIFAR100\": 1000, \"CIFAR10\": 1000, \"ImageNet2012\": 30}\n",
    "MIN_LR = 0.0001\n",
    "scheduler = ReduceLROnPlateau(\n",
    "    optimizer,\n",
    "    mode=\"min\",\n",
    "    patience=scheduler_mapping[DATASET],\n",
    "    factor=0.1,\n",
    "    verbose=True,\n",
    "    threshold=1e-4,\n",
    "    min_lr=MIN_LR,\n",
    ")"
   ]
  },
  {
   "cell_type": "markdown",
   "metadata": {},
   "source": [
    "## Load before process"
   ]
  },
  {
   "cell_type": "code",
   "execution_count": 15,
   "metadata": {},
   "outputs": [
    {
     "name": "stdout",
     "output_type": "stream",
     "text": [
      "File does not exist. Created a new log.\n"
     ]
    }
   ],
   "source": [
    "scaler = torch.cuda.amp.GradScaler(enabled=True)\n",
    "file_path = \"\"\n",
    "if DATASET == \"ImageNet2012\":\n",
    "    file_path = f\"{DATASET}/MyResNet34_{BATCH}_{OPTIMIZER}\"\n",
    "else:\n",
    "    file_path = f\"{DATASET}/MyResNet{num_layer_factor*6+2}_{BATCH}_{OPTIMIZER}\"\n",
    "\n",
    "if LOAD_BEFORE_TRAINING == True:\n",
    "    if os.path.exists(\"logs/\" + file_path + \".pth.tar\"):\n",
    "        # Read checkpoint as desired, e.g.,\n",
    "        checkpoint = torch.load(\n",
    "            \"logs/\" + file_path + \".pth.tar\",\n",
    "            map_location=lambda storage, loc: storage.cuda(device),\n",
    "        )\n",
    "        model.load_state_dict(checkpoint[\"model\"])\n",
    "        optimizer.load_state_dict(checkpoint[\"optimizer\"])\n",
    "        scaler.load_state_dict(checkpoint[\"scaler\"])\n",
    "        logs = checkpoint[\"logs\"]\n",
    "\n",
    "        print(\"Suceessfully loaded the All setting and Log file.\")\n",
    "        print(file_path)\n",
    "    else:\n",
    "        raise ValueError(\"File does not exist. Check the file path.\")\n",
    "        \n",
    "\n",
    "else:\n",
    "    # Create a dictionary to store the variables\n",
    "    train_loss = []\n",
    "    train_acc = []\n",
    "    valid_loss = []\n",
    "    valid_acc = []\n",
    "    test_loss = []\n",
    "    test_acc = []\n",
    "\n",
    "    logs = {\n",
    "        \"train_loss\": train_loss,\n",
    "        \"train_acc\": train_acc,\n",
    "        \"valid_loss\": valid_loss,\n",
    "        \"valid_acc\": valid_acc,\n",
    "        \"test_loss\": test_loss,\n",
    "        \"test_acc\": test_acc,\n",
    "    }\n",
    "    print(\"File does not exist. Created a new log.\")"
   ]
  },
  {
   "cell_type": "markdown",
   "metadata": {},
   "source": [
    "# [Training Loop]"
   ]
  },
  {
   "cell_type": "code",
   "execution_count": 16,
   "metadata": {},
   "outputs": [],
   "source": [
    "class DoTraining:\n",
    "    def __init__(\n",
    "        self,\n",
    "        model,\n",
    "        criterion,\n",
    "        optimizer,\n",
    "        scaler=None,\n",
    "        device=\"cuda\",\n",
    "        logs=logs,\n",
    "        file_path=file_path,\n",
    "    ):\n",
    "        self.model = model\n",
    "        self.criterion = criterion\n",
    "        self.optimizer = optimizer\n",
    "        self.scaler = scaler\n",
    "        self.device = device\n",
    "        self.logs = logs\n",
    "        self.file_path = file_path\n",
    "        self.valid_loss = 0.0\n",
    "\n",
    "    def Forward_train(self, dataset):\n",
    "        # Training loop @@@@@@@@@@@@@@@@@@@@@@@@@@@@@@@@@@@@@@@@@@@@@@@@@\n",
    "        self.model.train()\n",
    "        running_loss = 0.0\n",
    "        correct = 0\n",
    "        total = 0\n",
    "        for images, labels in tqdm.tqdm(dataset):\n",
    "            with torch.autocast(\n",
    "                device_type=\"cuda\", dtype=torch.float16, enabled=USE_AMP\n",
    "            ):\n",
    "                images, labels = images.to(self.device), labels.to(self.device)\n",
    "                self.optimizer.zero_grad()\n",
    "                outputs = model(images)\n",
    "                loss = criterion(outputs, labels)\n",
    "\n",
    "            self.scaler.scale(loss).backward()\n",
    "            self.scaler.step(optimizer)\n",
    "            self.scaler.update()\n",
    "\n",
    "        running_loss += loss.item()\n",
    "        _, predicted = outputs.max(1)\n",
    "        total += labels.size(0)\n",
    "        correct += predicted.eq(labels).sum().item()\n",
    "\n",
    "        train_loss = running_loss / len(dataset)\n",
    "        train_acc = correct / total\n",
    "\n",
    "        logs[\"train_loss\"].append(train_loss)\n",
    "        logs[\"train_acc\"].append(train_acc)\n",
    "        print(f\"Train Loss: {train_loss:.4f} | Train Acc: {train_acc*100:.2f}%\")\n",
    "        return\n",
    "\n",
    "    def Forward_eval(self, dataset, test=False):\n",
    "        model.eval()\n",
    "        self.valid_loss = 0.0\n",
    "        correct = 0\n",
    "        total = 0\n",
    "\n",
    "        with torch.no_grad():\n",
    "            for images, labels in dataset:\n",
    "                images, labels = images.to(self.device), labels.to(self.device)\n",
    "\n",
    "                outputs = model(images)\n",
    "                loss = criterion(outputs, labels)\n",
    "\n",
    "                self.valid_loss += loss.item()\n",
    "                _, predicted = outputs.max(1)\n",
    "                total += labels.size(0)\n",
    "                correct += predicted.eq(labels).sum().item()\n",
    "\n",
    "        self.valid_loss /= len(valid_dataloader)\n",
    "        valid_acc = correct / total\n",
    "\n",
    "        if test == True:\n",
    "            logs[\"test_loss\"].append(test_loss)\n",
    "            logs[\"test_acc\"].append(test_acc)\n",
    "            print(f\"Test  Loss: {test_loss:.4f} | Test Acc: {test_acc*100:.2f}%\")\n",
    "        else:\n",
    "            logs[\"valid_loss\"].append(self.valid_loss)\n",
    "            logs[\"valid_acc\"].append(valid_acc)\n",
    "            print(f\"Valid Loss: {self.valid_loss:.4f} | Valid Acc: {valid_acc*100:.2f}%\")\n",
    "\n",
    "        return\n",
    "\n",
    "    def Save(self, file_path):\n",
    "        checkpoint = {\n",
    "            \"model\": model.state_dict(),\n",
    "            \"optimizer\": optimizer.state_dict(),\n",
    "            \"scaler\": scaler.state_dict(),\n",
    "            \"logs\": logs,\n",
    "        }\n",
    "\n",
    "        torch.save(checkpoint, \"logs/\" + file_path + \".pth.tar\")\n",
    "        print(f\"Saved PyTorch Model State to [logs/{file_path}.pth.tar]\")\n",
    "\n",
    "    def SingleEpoch(self, train_dataloader, valid_dataloader, test_dataloader=None):\n",
    "        self.Forward_train(train_dataloader)\n",
    "        self.Forward_eval(valid_dataloader)\n",
    "        if test_dataloader != None:\n",
    "            self.Forward_eval(test_dataloader, test=True)\n",
    "\n",
    "        # Save the model (checkpoint) and logs\n",
    "        self.Save(file_path)\n",
    "        # Learning rate scheduler\n",
    "        self.scheduler.step(self.valid_loss)\n",
    "\n",
    "        return"
   ]
  },
  {
   "cell_type": "code",
   "execution_count": 17,
   "metadata": {},
   "outputs": [
    {
     "name": "stdout",
     "output_type": "stream",
     "text": [
      "[Epoch 1/5000] :\n"
     ]
    },
    {
     "name": "stderr",
     "output_type": "stream",
     "text": [
      "100%|██████████| 352/352 [00:11<00:00, 29.63it/s]"
     ]
    },
    {
     "name": "stdout",
     "output_type": "stream",
     "text": [
      "Train Loss: 0.0039 | Train Acc: 52.78%\n"
     ]
    },
    {
     "name": "stderr",
     "output_type": "stream",
     "text": [
      "\n"
     ]
    },
    {
     "ename": "TypeError",
     "evalue": "unsupported format string passed to list.__format__",
     "output_type": "error",
     "traceback": [
      "\u001b[0;31m---------------------------------------------------------------------------\u001b[0m",
      "\u001b[0;31mTypeError\u001b[0m                                 Traceback (most recent call last)",
      "Cell \u001b[0;32mIn[17], line 17\u001b[0m\n\u001b[1;32m     15\u001b[0m     Training\u001b[38;5;241m.\u001b[39mSingleEpoch(train_dataloader, valid_dataloader)\n\u001b[1;32m     16\u001b[0m \u001b[38;5;28;01melse\u001b[39;00m:\n\u001b[0;32m---> 17\u001b[0m     Training\u001b[38;5;241m.\u001b[39mSingleEpoch(train_dataloader, valid_dataloader, test_dataloader)\n\u001b[1;32m     19\u001b[0m \u001b[38;5;66;03m# Early stopping check\u001b[39;00m\n\u001b[1;32m     20\u001b[0m \u001b[38;5;28;01mif\u001b[39;00m Training\u001b[38;5;241m.\u001b[39mvalid_loss \u001b[38;5;241m<\u001b[39m best_val_loss:\n",
      "Cell \u001b[0;32mIn[16], line 98\u001b[0m, in \u001b[0;36mDoTraining.SingleEpoch\u001b[0;34m(self, train_dataloader, valid_dataloader, test_dataloader)\u001b[0m\n\u001b[1;32m     96\u001b[0m \u001b[38;5;28;01mdef\u001b[39;00m \u001b[38;5;21mSingleEpoch\u001b[39m(\u001b[38;5;28mself\u001b[39m, train_dataloader, valid_dataloader, test_dataloader\u001b[38;5;241m=\u001b[39m\u001b[38;5;28;01mNone\u001b[39;00m):\n\u001b[1;32m     97\u001b[0m     \u001b[38;5;28mself\u001b[39m\u001b[38;5;241m.\u001b[39mForward_train(train_dataloader)\n\u001b[0;32m---> 98\u001b[0m     \u001b[38;5;28mself\u001b[39m\u001b[38;5;241m.\u001b[39mForward_eval(valid_dataloader)\n\u001b[1;32m     99\u001b[0m     \u001b[38;5;28;01mif\u001b[39;00m test_dataloader \u001b[38;5;241m!=\u001b[39m \u001b[38;5;28;01mNone\u001b[39;00m:\n\u001b[1;32m    100\u001b[0m         \u001b[38;5;28mself\u001b[39m\u001b[38;5;241m.\u001b[39mForward_eval(test_dataloader, test\u001b[38;5;241m=\u001b[39m\u001b[38;5;28;01mTrue\u001b[39;00m)\n",
      "Cell \u001b[0;32mIn[16], line 81\u001b[0m, in \u001b[0;36mDoTraining.Forward_eval\u001b[0;34m(self, dataset, test)\u001b[0m\n\u001b[1;32m     79\u001b[0m     logs[\u001b[38;5;124m\"\u001b[39m\u001b[38;5;124mvalid_loss\u001b[39m\u001b[38;5;124m\"\u001b[39m]\u001b[38;5;241m.\u001b[39mappend(valid_loss)\n\u001b[1;32m     80\u001b[0m     logs[\u001b[38;5;124m\"\u001b[39m\u001b[38;5;124mvalid_acc\u001b[39m\u001b[38;5;124m\"\u001b[39m]\u001b[38;5;241m.\u001b[39mappend(valid_acc)\n\u001b[0;32m---> 81\u001b[0m     \u001b[38;5;28mprint\u001b[39m(\u001b[38;5;124mf\u001b[39m\u001b[38;5;124m\"\u001b[39m\u001b[38;5;124mValid Loss: \u001b[39m\u001b[38;5;132;01m{\u001b[39;00mvalid_loss\u001b[38;5;132;01m:\u001b[39;00m\u001b[38;5;124m.4f\u001b[39m\u001b[38;5;132;01m}\u001b[39;00m\u001b[38;5;124m | Valid Acc: \u001b[39m\u001b[38;5;132;01m{\u001b[39;00mvalid_acc\u001b[38;5;241m*\u001b[39m\u001b[38;5;241m100\u001b[39m\u001b[38;5;132;01m:\u001b[39;00m\u001b[38;5;124m.2f\u001b[39m\u001b[38;5;132;01m}\u001b[39;00m\u001b[38;5;124m%\u001b[39m\u001b[38;5;124m\"\u001b[39m)\n\u001b[1;32m     83\u001b[0m \u001b[38;5;28;01mreturn\u001b[39;00m\n",
      "\u001b[0;31mTypeError\u001b[0m: unsupported format string passed to list.__format__"
     ]
    }
   ],
   "source": [
    "Training = DoTraining(\n",
    "    model=model,\n",
    "    criterion=criterion,\n",
    "    optimizer=optimizer,\n",
    "    scaler=scaler,\n",
    "    device=device,\n",
    "    logs=logs,\n",
    "    file_path=file_path,\n",
    ")\n",
    "\n",
    "for epoch in range(NUM_EPOCHS):\n",
    "    print(f\"[Epoch {epoch+1}/{NUM_EPOCHS}] :\")\n",
    "\n",
    "    if DATASET == \"ImageNet2012\":\n",
    "        Training.SingleEpoch(train_dataloader, valid_dataloader)\n",
    "    else:\n",
    "        Training.SingleEpoch(train_dataloader, valid_dataloader, test_dataloader)\n",
    "\n",
    "    # Early stopping check\n",
    "    if Training.valid_loss < best_val_loss:\n",
    "        best_val_loss = Training.valid_loss\n",
    "        early_stop_counter = 0\n",
    "        torch.save(model.state_dict(), \"models/\" + file_path + \".pth\")\n",
    "\n",
    "    else:\n",
    "        early_stop_counter += 1\n",
    "        if early_stop_counter >= patience:\n",
    "            print(f\"Early stopping after {epoch} epochs without improvement.\")\n",
    "            break\n",
    "\n",
    "    print(\"-\" * 50)"
   ]
  },
  {
   "cell_type": "markdown",
   "metadata": {},
   "source": [
    "## Training Results"
   ]
  },
  {
   "cell_type": "code",
   "execution_count": null,
   "metadata": {},
   "outputs": [],
   "source": [
    "fig, axs = plt.subplots(ncols=2, figsize=(10, 5))\n",
    "\n",
    "# 첫 번째 그래프: Training and Test Loss\n",
    "axs[0].plot(logs[\"train_loss\"], label=\"Training Loss\")\n",
    "axs[0].plot(logs[\"valid_loss\"], label=\"Validation Loss\")\n",
    "axs[0].plot(logs[\"test_loss\"], label=\"Test Loss\")\n",
    "axs[0].set_xlabel(\"Epoch\")\n",
    "axs[0].set_ylabel(\"Loss\")\n",
    "axs[0].set_title(\"Training, Validation and Test Loss\")\n",
    "axs[0].legend()\n",
    "\n",
    "# 두 번째 그래프: Training and Test Accuracy\n",
    "axs[1].plot(logs[\"train_acc\"], label=\"Training Accuracy\")\n",
    "axs[1].plot(logs[\"valid_acc\"], label=\"Validation Accuracy\")\n",
    "axs[1].plot(logs[\"test_acc\"], label=\"Test Accuracy\")\n",
    "axs[1].set_xlabel(\"Epoch\")\n",
    "axs[1].set_ylabel(\"Accuracy\")\n",
    "axs[1].set_title(\"Training, Validation and Test Accuracy\")\n",
    "axs[1].legend()\n",
    "\n",
    "# 그래프를 보여줍니다.\n",
    "plt.tight_layout()\n",
    "plt.show()"
   ]
  },
  {
   "cell_type": "markdown",
   "metadata": {},
   "source": [
    "- 주피터노트북 output set\n",
    "- @tag:notebookOutputLayout"
   ]
  }
 ],
 "metadata": {
  "kernelspec": {
   "display_name": "base",
   "language": "python",
   "name": "python3"
  },
  "language_info": {
   "codemirror_mode": {
    "name": "ipython",
    "version": 3
   },
   "file_extension": ".py",
   "mimetype": "text/x-python",
   "name": "python",
   "nbconvert_exporter": "python",
   "pygments_lexer": "ipython3",
   "version": "3.11.5"
  }
 },
 "nbformat": 4,
 "nbformat_minor": 2
}
