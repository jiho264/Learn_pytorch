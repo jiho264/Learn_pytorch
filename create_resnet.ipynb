{
 "cells": [
  {
   "cell_type": "code",
   "execution_count": 1,
   "metadata": {},
   "outputs": [],
   "source": [
    "import torch\n",
    "from torch import nn\n",
    "from torch.utils.data import DataLoader\n",
    "from torchvision import datasets\n",
    "from torchvision.transforms import (\n",
    "    ToTensor,\n",
    "    RandomHorizontalFlip,\n",
    "    Compose,\n",
    "    RandomResizedCrop,\n",
    ")\n",
    "import torch.nn.functional as F\n",
    "from torch.optim.lr_scheduler import ReduceLROnPlateau\n",
    "import time\n",
    "import torch\n",
    "from torch.utils.data import random_split\n",
    "import copy"
   ]
  },
  {
   "cell_type": "markdown",
   "metadata": {},
   "source": [
    "# Loading the dataset\n",
    "- CIFAR10, 100전용 padding 4 pixel 및 random 32*32 crop하는 데이터 전처리\n",
    "- Randomhorizontal filp : p = 0.5\n",
    "- Subtract mean per each pixel"
   ]
  },
  {
   "cell_type": "code",
   "execution_count": 2,
   "metadata": {},
   "outputs": [],
   "source": [
    "class Submean(torch.nn.Module):\n",
    "    def __init__(self):\n",
    "        super().__init__()\n",
    "        return None\n",
    "\n",
    "    def __call__(self, tensor):\n",
    "        # Subtract the mean from each pixel along each channel\n",
    "        _mean = tensor.mean(axis=(1, 2))\n",
    "        tensor = tensor - _mean[:, None, None]\n",
    "\n",
    "        return tensor\n",
    "\n",
    "class CustomRandomResizedCrop(RandomResizedCrop):\n",
    "    def __call__(self, img):\n",
    "        # Add padding to the image\n",
    "        img = F.pad(img, (4, 4, 4, 4), mode=\"constant\", value=0)\n",
    "        return super().__call__(img)\n",
    "\n",
    "class LoadDataset:\n",
    "    def __init__(self, root, seceted_dataset=\"CIFAR100\"):\n",
    "        \n",
    "        self.dataset_name = seceted_dataset\n",
    "        dataset_mapping = {\n",
    "            \"CIFAR100\": datasets.CIFAR100,\n",
    "            \"CIFAR10\": datasets.CIFAR10,\n",
    "            # Add more datasets if needed\n",
    "        }\n",
    "        \n",
    "        default_transforms = Compose([ToTensor(), Submean()])\n",
    "\n",
    "        if self.dataset_name in dataset_mapping:\n",
    "            ref_train = dataset_mapping[self.dataset_name](\n",
    "                root=root,\n",
    "                train=True,\n",
    "                download=True,\n",
    "                transform=default_transforms,\n",
    "            )\n",
    "            self.testing_data = dataset_mapping[self.dataset_name](\n",
    "                root=root,\n",
    "                train=False,\n",
    "                download=True,\n",
    "                transform=default_transforms,\n",
    "            )\n",
    "        else:\n",
    "            raise ValueError(f\"Unsupported dataset: {self.dataset_name}\")\n",
    "\n",
    "        # Split to train and valid set\n",
    "        total_length = len(ref_train)\n",
    "        train_length = int(total_length * 0.9)\n",
    "        valid_length = total_length - train_length\n",
    "        splited_train, self.valid_data = random_split(\n",
    "            ref_train, [train_length, valid_length]\n",
    "        )\n",
    "\n",
    "        # Apply transform at each dataset\n",
    "        self.train_data = splited_train\n",
    "        self.train_data.transform = copy.deepcopy(default_transforms)\n",
    "        ### 여기 transforms도 주소 레퍼런스따는거라 deep copy한 다음에 append해야함.\n",
    "        self.train_data.transform.transforms.append(RandomHorizontalFlip(p=0.5))\n",
    "        self.train_data.transform.transforms.append(CustomRandomResizedCrop([32, 32]))\n",
    "        self.valid_data.transform = default_transforms\n",
    "        \"\"\"\n",
    "        random crop : https://arxiv.org/pdf/1409.5185.pdf\n",
    "        we also augmented the dataset by zero padding 4 pixels on each side, then do corner cropping and random flipping on\n",
    "        the fly during training. No model averaging is done at the test phase and we only crop the center of a test sample\n",
    "\n",
    "        \"\"\"\n",
    "\n",
    "        # Copy classes data\n",
    "        self.train_data.classes = ref_train.classes\n",
    "        self.valid_data.classes = ref_train.classes\n",
    "\n",
    "        self.train_data.class_to_idx = ref_train.class_to_idx\n",
    "        self.valid_data.class_to_idx = ref_train.class_to_idx\n",
    "\n",
    "        return\n",
    "\n",
    "    def unpack(self):\n",
    "        print(\"-----------------------------------------------------------------------\")\n",
    "        print(\"Dataset : \", self.dataset_name)\n",
    "        print(\"- Length of Train Set : \", len(self.train_data))\n",
    "        print(\"- Length of Valid Set : \", len(self.valid_data))\n",
    "        print(\"- Length of Test Set : \", len(self.testing_data))\n",
    "        print(\"- Count of Classes : \", len(self.train_data.classes))\n",
    "\n",
    "        return (\n",
    "            self.train_data,\n",
    "            self.valid_data,\n",
    "            self.testing_data,\n",
    "            len(self.train_data.classes),\n",
    "        )"
   ]
  },
  {
   "cell_type": "markdown",
   "metadata": {},
   "source": [
    "## Confirm that the dataset is loaded properly"
   ]
  },
  {
   "cell_type": "code",
   "execution_count": 3,
   "metadata": {},
   "outputs": [],
   "source": [
    "BATCH = 256\n",
    "DATASET = \"CIFAR10\""
   ]
  },
  {
   "cell_type": "code",
   "execution_count": 4,
   "metadata": {},
   "outputs": [
    {
     "name": "stdout",
     "output_type": "stream",
     "text": [
      "Files already downloaded and verified\n",
      "Files already downloaded and verified\n",
      "-----------------------------------------------------------------------\n",
      "Dataset :  CIFAR10\n",
      "- Length of Train Set :  45000\n",
      "- Length of Valid Set :  5000\n",
      "- Length of Test Set :  10000\n",
      "- Count of Classes :  10\n"
     ]
    }
   ],
   "source": [
    "_dataset = LoadDataset(root=\"data\", seceted_dataset=DATASET)\n",
    "train_data, valid_data, test_data, COUNT_OF_CLASSES = _dataset.unpack()\n",
    "\n",
    "train_dataloader = DataLoader(train_data, batch_size=BATCH, shuffle=True)\n",
    "valid_dataloader = DataLoader(valid_data, batch_size=BATCH, shuffle=True)\n",
    "test_dataloader = DataLoader(test_data, batch_size=BATCH, shuffle=True)"
   ]
  },
  {
   "cell_type": "code",
   "execution_count": 5,
   "metadata": {},
   "outputs": [
    {
     "name": "stdout",
     "output_type": "stream",
     "text": [
      "Compose(\n",
      "    ToTensor()\n",
      "    Submean()\n",
      "    RandomHorizontalFlip(p=0.5)\n",
      "    CustomRandomResizedCrop(size=[32, 32], scale=(0.08, 1.0), ratio=(0.75, 1.3333), interpolation=bilinear, antialias=warn)\n",
      ")\n",
      "Compose(\n",
      "    ToTensor()\n",
      "    Submean()\n",
      ")\n",
      "Compose(\n",
      "    ToTensor()\n",
      "    Submean()\n",
      ")\n"
     ]
    }
   ],
   "source": [
    "print(train_data.transform)\n",
    "print(valid_data.transform)\n",
    "print(test_data.transform)"
   ]
  },
  {
   "cell_type": "markdown",
   "metadata": {},
   "source": [
    "### Testset info"
   ]
  },
  {
   "cell_type": "code",
   "execution_count": 6,
   "metadata": {},
   "outputs": [
    {
     "name": "stdout",
     "output_type": "stream",
     "text": [
      "Shape of X [N, C, H, W]: torch.Size([256, 3, 32, 32])\n",
      "mean of X tensor([-3.2313e-09, -2.8812e-09, -5.0086e-09])\n",
      "Shape of y: torch.Size([256]) torch.int64\n"
     ]
    }
   ],
   "source": [
    "for X, y in test_dataloader:\n",
    "    print(f\"Shape of X [N, C, H, W]: {X.shape}\")\n",
    "    print(\"mean of X\", X.mean(dim=(0, 2, 3)))\n",
    "    print(f\"Shape of y: {y.shape} {y.dtype}\")\n",
    "    break"
   ]
  },
  {
   "cell_type": "code",
   "execution_count": 7,
   "metadata": {},
   "outputs": [
    {
     "name": "stderr",
     "output_type": "stream",
     "text": [
      "Clipping input data to the valid range for imshow with RGB data ([0..1] for floats or [0..255] for integers).\n",
      "Clipping input data to the valid range for imshow with RGB data ([0..1] for floats or [0..255] for integers).\n",
      "Clipping input data to the valid range for imshow with RGB data ([0..1] for floats or [0..255] for integers).\n",
      "Clipping input data to the valid range for imshow with RGB data ([0..1] for floats or [0..255] for integers).\n",
      "Clipping input data to the valid range for imshow with RGB data ([0..1] for floats or [0..255] for integers).\n",
      "Clipping input data to the valid range for imshow with RGB data ([0..1] for floats or [0..255] for integers).\n",
      "Clipping input data to the valid range for imshow with RGB data ([0..1] for floats or [0..255] for integers).\n",
      "Clipping input data to the valid range for imshow with RGB data ([0..1] for floats or [0..255] for integers).\n",
      "Clipping input data to the valid range for imshow with RGB data ([0..1] for floats or [0..255] for integers).\n",
      "Clipping input data to the valid range for imshow with RGB data ([0..1] for floats or [0..255] for integers).\n"
     ]
    },
    {
     "data": {
      "image/png": "[encoded data removed]",
      "text/plain": [
       "<Figure size 800x400 with 10 Axes>"
      ]
     },
     "metadata": {},
     "output_type": "display_data"
    }
   ],
   "source": [
    "import numpy as np\n",
    "import matplotlib.pyplot as plt\n",
    "\n",
    "# Get the class names\n",
    "class_names = test_dataloader.dataset.classes\n",
    "count = 0\n",
    "\n",
    "# Create a subplot with 2 rows and 5 columns\n",
    "fig, axs = plt.subplots(2, 5, figsize=(8, 4))\n",
    "\n",
    "# Iterate over the first batch of images and labels\n",
    "for images, labels in test_dataloader:\n",
    "    # Convert the images to numpy arrays\n",
    "    images = images.numpy()\n",
    "    \n",
    "    # Iterate over the images and labels\n",
    "    for i in range(len(images)):\n",
    "        # Get the image and label\n",
    "        image = images[i]\n",
    "        label = labels[i]\n",
    "        \n",
    "        # Convert the image from tensor to numpy array\n",
    "        image = np.transpose(image, (1, 2, 0))\n",
    "        \n",
    "        # Plot the image in the appropriate subplot\n",
    "        ax = axs[count // 5, count % 5]\n",
    "        ax.imshow(image)\n",
    "        ax.set_title(f\"{class_names[label], label}\")\n",
    "        ax.axis('off')\n",
    "        \n",
    "        # Increment the count\n",
    "        count += 1\n",
    "        \n",
    "        # Break the loop if we have displayed 10 images\n",
    "        if count == 10:\n",
    "            break\n",
    "            \n",
    "    # Break the loop if we have displayed 10 images\n",
    "    if count == 10:\n",
    "        break\n",
    "\n",
    "# Adjust the spacing between subplots\n",
    "plt.tight_layout()\n",
    "\n",
    "# Show the plot\n",
    "plt.show()\n"
   ]
  },
  {
   "cell_type": "markdown",
   "metadata": {},
   "source": [
    "# Imaplemant The Model"
   ]
  },
  {
   "cell_type": "code",
   "execution_count": 8,
   "metadata": {},
   "outputs": [],
   "source": [
    "class Block(nn.Module):\n",
    "    def __init__(self, inputs, outputs, _Downsample=False):\n",
    "        super().__init__()\n",
    "        self._Downsample = _Downsample\n",
    "\n",
    "        self.relu = nn.ReLU(inplace=False)\n",
    "\n",
    "        self.conv1 = nn.Conv2d(inputs, outputs, kernel_size=3, padding=1, bias=False)\n",
    "        self.bn1 = nn.BatchNorm2d(outputs, eps=1e-05, momentum=0.1)\n",
    "\n",
    "        self.conv2 = nn.Conv2d(outputs, outputs, kernel_size=3, padding=1, bias=False)\n",
    "        self.bn2 = nn.BatchNorm2d(outputs, eps=1e-05, momentum=0.1)\n",
    "\n",
    "        if self._Downsample == True:\n",
    "            self.conv1.stride = 2\n",
    "\n",
    "            self.conv_down = nn.Conv2d(\n",
    "                inputs, outputs, kernel_size=1, stride=2, bias=False\n",
    "            )\n",
    "            # In paper, downsampling is performed by conv3_1, conv4_1, and conv5_1 with a stride of 2\n",
    "            # 이거 토치 공식 resnet에서도 배치까지 있는 4차원이라 conv2d로 함.\n",
    "            # 여기 BN빼니까 완전히 망가져버림. acc 10% 찍힘.\n",
    "            nn.init.kaiming_normal_(\n",
    "                self.conv_down.weight, mode=\"fan_out\", nonlinearity=\"relu\"\n",
    "            )\n",
    "            self.bn_down = nn.BatchNorm2d(\n",
    "                outputs, eps=1e-05, momentum=0.1, affine=True, track_running_stats=True\n",
    "            )\n",
    "\n",
    "        \"\"\"\n",
    "        https://pytorch.org/docs/stable/_modules/torch/nn/init.html#kaiming_normal_\n",
    "        \"\"\"\n",
    "        nn.init.kaiming_normal_(self.conv1.weight, mode=\"fan_out\", nonlinearity=\"relu\")\n",
    "        nn.init.kaiming_normal_(self.conv2.weight, mode=\"fan_out\", nonlinearity=\"relu\")\n",
    "\n",
    "    def forward(self, x):\n",
    "        # print(\"x1(identity) :\", x.shape, \"Downsample :\", self._Downsample)\n",
    "        identity = x\n",
    "\n",
    "        x = self.conv1(x)\n",
    "        x = self.bn1(x)\n",
    "        x = self.relu(x)\n",
    "        # print(\"x2 :\", x.shape)\n",
    "        x = self.conv2(x)\n",
    "        x = self.bn2(x)\n",
    "\n",
    "        if self._Downsample == True:\n",
    "            identity = self.conv_down(identity)\n",
    "            identity = self.bn_down(identity)\n",
    "            # print(\"x3(downsampled) :\", identity.shape)\n",
    "        # print(\"x4 :\", identity.shape)\n",
    "        x = x + identity  # 여기 x+=identity로 하면 안 됨. inplace operation이라서.\n",
    "        x = self.relu(x)\n",
    "        return x\n",
    "\n",
    "\n",
    "class MyResNet34(nn.Module):\n",
    "    def __init__(self, _BlockClass=Block, _num_classes=1000):\n",
    "        super().__init__()\n",
    "        self._num_classes = _num_classes\n",
    "\n",
    "        # 1. input layer\n",
    "        # input : 224x224x3        # output : 112x112x64\n",
    "        self.conv1 = nn.Conv2d(\n",
    "            in_channels=3,\n",
    "            out_channels=64,\n",
    "            kernel_size=7,\n",
    "            stride=2,\n",
    "            padding=3,\n",
    "            bias=False,\n",
    "        )\n",
    "\n",
    "        self.bn1 = nn.BatchNorm2d(64, eps=1e-05, momentum=0.1)\n",
    "        self.relu = nn.ReLU(inplace=False)\n",
    "        self.maxpool = nn.MaxPool2d(kernel_size=3, stride=2, padding=1)\n",
    "\n",
    "        # 2. 64ch 3x3 conv x 3\n",
    "        # input : 112x112x64        # output : 56x56x64\n",
    "        self.conv64blocks = nn.Sequential(\n",
    "            _BlockClass(64, 64), _BlockClass(64, 64), _BlockClass(64, 64)\n",
    "        )\n",
    "\n",
    "        # 3. 128ch 3x3 conv x 4\n",
    "        # input : 56x56x64        # output : 28x28x128\n",
    "        self.conv128blocks = nn.Sequential(\n",
    "            _BlockClass(64, 128, _Downsample=True),\n",
    "            _BlockClass(128, 128),\n",
    "            _BlockClass(128, 128),\n",
    "            _BlockClass(128, 128),\n",
    "        )\n",
    "\n",
    "        # 4. 256ch 3x3 conv x 6\n",
    "        # input : 28x28x128        # output : 14x14x256\n",
    "        self.conv256blocks = nn.Sequential(\n",
    "            _BlockClass(128, 256, _Downsample=True),\n",
    "            _BlockClass(256, 256),\n",
    "            _BlockClass(256, 256),\n",
    "            _BlockClass(256, 256),\n",
    "            _BlockClass(256, 256),\n",
    "            _BlockClass(256, 256),\n",
    "        )\n",
    "\n",
    "        # 5. 512ch 3x3 conv x 3\n",
    "        # input : 14x14x256        # output : 7x7x512\n",
    "        self.conv512blocks = nn.Sequential(\n",
    "            _BlockClass(256, 512, _Downsample=True),\n",
    "            _BlockClass(512, 512),\n",
    "            _BlockClass(512, 512),\n",
    "        )\n",
    "\n",
    "        self.avgpool = nn.AdaptiveAvgPool2d((1, 1))  # 7x7x512 -> 1x1x512 ?????\n",
    "        self.fc1 = nn.Linear(in_features=512, out_features=self._num_classes, bias=True)\n",
    "\n",
    "        nn.init.kaiming_normal_(self.conv1.weight, mode=\"fan_out\", nonlinearity=\"relu\")\n",
    "        nn.init.kaiming_normal_(self.fc1.weight, mode=\"fan_out\", nonlinearity=\"relu\")\n",
    "\n",
    "    def forward(self, x):\n",
    "        x = self.conv1(x)\n",
    "        x = self.bn1(x)\n",
    "        x = self.relu(x)\n",
    "        x = self.maxpool(x)\n",
    "\n",
    "        x = self.conv64blocks(x)\n",
    "\n",
    "        x = self.conv128blocks(x)\n",
    "\n",
    "        x = self.conv256blocks(x)\n",
    "\n",
    "        x = self.conv512blocks(x)\n",
    "        x = self.avgpool(x)\n",
    "        x = torch.flatten(x, 1)\n",
    "        x = self.fc1(x)\n",
    "\n",
    "        return x"
   ]
  },
  {
   "cell_type": "markdown",
   "metadata": {},
   "source": [
    "# Define the model"
   ]
  },
  {
   "cell_type": "code",
   "execution_count": 9,
   "metadata": {},
   "outputs": [
    {
     "name": "stdout",
     "output_type": "stream",
     "text": [
      "Using cuda device\n"
     ]
    }
   ],
   "source": [
    "# 학습에 사용할 CPU나 GPU, MPS 장치를 얻습니다.\n",
    "device = (\n",
    "    \"cuda\"\n",
    "    if torch.cuda.is_available()\n",
    "    else \"mps\"\n",
    "    if torch.backends.mps.is_available()\n",
    "    else \"cpu\"\n",
    ")\n",
    "print(f\"Using {device} device\")\n"
   ]
  },
  {
   "cell_type": "code",
   "execution_count": 10,
   "metadata": {},
   "outputs": [],
   "source": [
    "model = MyResNet34(Block, COUNT_OF_CLASSES).to(device)\n",
    "# model.named_modules"
   ]
  },
  {
   "cell_type": "code",
   "execution_count": 11,
   "metadata": {},
   "outputs": [],
   "source": [
    "# from fvcore.nn import FlopCountAnalysis\n",
    "# from fvcore.nn import flop_count_table\n",
    "\n",
    "# tmp_input = torch.rand(2, 3, 32, 32).to(device)\n",
    "# flops = FlopCountAnalysis(model, tmp_input)\n",
    "# print(flop_count_table(flops))"
   ]
  },
  {
   "cell_type": "code",
   "execution_count": 12,
   "metadata": {},
   "outputs": [
    {
     "name": "stdout",
     "output_type": "stream",
     "text": [
      "Number of total parameters: 21.29M\n"
     ]
    }
   ],
   "source": [
    "# How many have params?\n",
    "total_params = sum(p.numel() for p in model.parameters())\n",
    "print(f\"Number of total parameters: {total_params/1e6:2.2f}M\")"
   ]
  },
  {
   "cell_type": "code",
   "execution_count": 13,
   "metadata": {},
   "outputs": [],
   "source": [
    "# 모델 생성 및 손실 함수, 최적화기 정의\n",
    "criterion = nn.CrossEntropyLoss()\n",
    "\n",
    "optimizer = torch.optim.SGD(\n",
    "    model.parameters(), lr=0.1, momentum=0.9, weight_decay=0.0001\n",
    ")"
   ]
  },
  {
   "cell_type": "code",
   "execution_count": 14,
   "metadata": {},
   "outputs": [
    {
     "data": {
      "text/plain": [
       "\"\\nReduceLROnPlateau 스케줄러는 mode='min'으로 설정되어 손실이 감소해야 학습률을 조절합니다. \\npatience는 얼마나 기다렸다가 학습률을 조절할지를 결정하며, \\nfactor는 학습률을 조절할 때 사용할 인수입니다. \\n>> now learning의 0.1로 조정 >> divide by 10\\nverbose=True로 설정하면 언제 학습률이 조절되었는지 출력됩니다.\\n\\nhttps://pytorch.org/docs/stable/generated/torch.optim.lr_scheduler.ReduceLROnPlateau.html\\n\""
      ]
     },
     "execution_count": 14,
     "metadata": {},
     "output_type": "execute_result"
    }
   ],
   "source": [
    "scheduler = ReduceLROnPlateau(\n",
    "    optimizer, mode=\"min\", patience=200, factor=0.1, verbose=True, threshold=1e-4\n",
    ")\n",
    "\"\"\"\n",
    "ReduceLROnPlateau 스케줄러는 mode='min'으로 설정되어 손실이 감소해야 학습률을 조절합니다. \n",
    "patience는 얼마나 기다렸다가 학습률을 조절할지를 결정하며, \n",
    "factor는 학습률을 조절할 때 사용할 인수입니다. \n",
    ">> now learning의 0.1로 조정 >> divide by 10\n",
    "verbose=True로 설정하면 언제 학습률이 조절되었는지 출력됩니다.\n",
    "\n",
    "https://pytorch.org/docs/stable/generated/torch.optim.lr_scheduler.ReduceLROnPlateau.html\n",
    "\"\"\"\n",
    "# optimizer = torch.optim.Adam(model.parameters(), lr=0.01, weight_decay=1e-4)"
   ]
  },
  {
   "cell_type": "markdown",
   "metadata": {},
   "source": [
    "# Training loop"
   ]
  },
  {
   "cell_type": "code",
   "execution_count": 23,
   "metadata": {},
   "outputs": [
    {
     "name": "stdout",
     "output_type": "stream",
     "text": [
      "almost 16.81 hours\n"
     ]
    }
   ],
   "source": [
    "NUM_EPOCHS = 5000\n",
    "single_iter_time = 11\n",
    "\n",
    "print(f\"almost {single_iter_time * NUM_EPOCHS * 1.1 / 3600:.2f} hours\")"
   ]
  },
  {
   "cell_type": "code",
   "execution_count": 16,
   "metadata": {},
   "outputs": [
    {
     "name": "stdout",
     "output_type": "stream",
     "text": [
      "Epoch 1/5000:\n",
      "Training time: 10.97 seconds\n",
      "Train Loss: 4.5241 | Train Acc: 14.34%\n",
      "Valid Loss: 2.2282 | Valid Acc: 18.74%\n",
      "Test Loss: 2.3216 | Test Acc: 20.26%\n",
      "--------------------------------------------------\n",
      "Epoch 2/5000:\n",
      "Training time: 10.06 seconds\n",
      "Train Loss: 2.2300 | Train Acc: 22.39%\n",
      "Valid Loss: 2.0107 | Valid Acc: 24.96%\n",
      "Test Loss: 2.0454 | Test Acc: 24.80%\n",
      "--------------------------------------------------\n",
      "Epoch 3/5000:\n"
     ]
    },
    {
     "ename": "KeyboardInterrupt",
     "evalue": "",
     "output_type": "error",
     "traceback": [
      "\u001b[0;31m---------------------------------------------------------------------------\u001b[0m",
      "\u001b[0;31mKeyboardInterrupt\u001b[0m                         Traceback (most recent call last)",
      "Cell \u001b[0;32mIn[16], line 24\u001b[0m\n\u001b[1;32m     22\u001b[0m outputs \u001b[38;5;241m=\u001b[39m model(images)\n\u001b[1;32m     23\u001b[0m loss \u001b[38;5;241m=\u001b[39m criterion(outputs, labels)\n\u001b[0;32m---> 24\u001b[0m loss\u001b[38;5;241m.\u001b[39mbackward()\n\u001b[1;32m     25\u001b[0m optimizer\u001b[38;5;241m.\u001b[39mstep()\n\u001b[1;32m     27\u001b[0m running_loss \u001b[38;5;241m+\u001b[39m\u001b[38;5;241m=\u001b[39m loss\u001b[38;5;241m.\u001b[39mitem()\n",
      "File \u001b[0;32m~/anaconda3/lib/python3.11/site-packages/torch/_tensor.py:492\u001b[0m, in \u001b[0;36mTensor.backward\u001b[0;34m(self, gradient, retain_graph, create_graph, inputs)\u001b[0m\n\u001b[1;32m    482\u001b[0m \u001b[38;5;28;01mif\u001b[39;00m has_torch_function_unary(\u001b[38;5;28mself\u001b[39m):\n\u001b[1;32m    483\u001b[0m     \u001b[38;5;28;01mreturn\u001b[39;00m handle_torch_function(\n\u001b[1;32m    484\u001b[0m         Tensor\u001b[38;5;241m.\u001b[39mbackward,\n\u001b[1;32m    485\u001b[0m         (\u001b[38;5;28mself\u001b[39m,),\n\u001b[0;32m   (...)\u001b[0m\n\u001b[1;32m    490\u001b[0m         inputs\u001b[38;5;241m=\u001b[39minputs,\n\u001b[1;32m    491\u001b[0m     )\n\u001b[0;32m--> 492\u001b[0m torch\u001b[38;5;241m.\u001b[39mautograd\u001b[38;5;241m.\u001b[39mbackward(\n\u001b[1;32m    493\u001b[0m     \u001b[38;5;28mself\u001b[39m, gradient, retain_graph, create_graph, inputs\u001b[38;5;241m=\u001b[39minputs\n\u001b[1;32m    494\u001b[0m )\n",
      "File \u001b[0;32m~/anaconda3/lib/python3.11/site-packages/torch/autograd/__init__.py:251\u001b[0m, in \u001b[0;36mbackward\u001b[0;34m(tensors, grad_tensors, retain_graph, create_graph, grad_variables, inputs)\u001b[0m\n\u001b[1;32m    246\u001b[0m     retain_graph \u001b[38;5;241m=\u001b[39m create_graph\n\u001b[1;32m    248\u001b[0m \u001b[38;5;66;03m# The reason we repeat the same comment below is that\u001b[39;00m\n\u001b[1;32m    249\u001b[0m \u001b[38;5;66;03m# some Python versions print out the first line of a multi-line function\u001b[39;00m\n\u001b[1;32m    250\u001b[0m \u001b[38;5;66;03m# calls in the traceback and some print out the last line\u001b[39;00m\n\u001b[0;32m--> 251\u001b[0m Variable\u001b[38;5;241m.\u001b[39m_execution_engine\u001b[38;5;241m.\u001b[39mrun_backward(  \u001b[38;5;66;03m# Calls into the C++ engine to run the backward pass\u001b[39;00m\n\u001b[1;32m    252\u001b[0m     tensors,\n\u001b[1;32m    253\u001b[0m     grad_tensors_,\n\u001b[1;32m    254\u001b[0m     retain_graph,\n\u001b[1;32m    255\u001b[0m     create_graph,\n\u001b[1;32m    256\u001b[0m     inputs,\n\u001b[1;32m    257\u001b[0m     allow_unreachable\u001b[38;5;241m=\u001b[39m\u001b[38;5;28;01mTrue\u001b[39;00m,\n\u001b[1;32m    258\u001b[0m     accumulate_grad\u001b[38;5;241m=\u001b[39m\u001b[38;5;28;01mTrue\u001b[39;00m,\n\u001b[1;32m    259\u001b[0m )\n",
      "\u001b[0;31mKeyboardInterrupt\u001b[0m: "
     ]
    }
   ],
   "source": [
    "_log_train_loss = []\n",
    "_log_train_acc = []\n",
    "_log_valid_loss = []\n",
    "_log_valid_acc = []\n",
    "_log_test_loss = []\n",
    "_log_test_acc = []\n",
    "\n",
    "for epoch in range(NUM_EPOCHS):\n",
    "    print(f\"Epoch {epoch+1}/{NUM_EPOCHS}:\")\n",
    "    start_time = time.time()\n",
    "\n",
    "    # Training loop @@@@@@@@@@@@@@@@@@@@@@@@@@@@@@@@@@@@@@@@@@@@@@@@@\n",
    "    model.train()\n",
    "    running_loss = 0.0\n",
    "    correct = 0\n",
    "    total = 0\n",
    "\n",
    "    for images, labels in train_dataloader:\n",
    "        images, labels = images.to(device), labels.to(device)\n",
    "\n",
    "        optimizer.zero_grad()\n",
    "        outputs = model(images)\n",
    "        loss = criterion(outputs, labels)\n",
    "        loss.backward()\n",
    "        optimizer.step()\n",
    "\n",
    "        running_loss += loss.item()\n",
    "        _, predicted = outputs.max(1)\n",
    "        total += labels.size(0)\n",
    "        correct += predicted.eq(labels).sum().item()\n",
    "\n",
    "    train_loss = running_loss / len(train_dataloader)\n",
    "    train_acc = correct / total\n",
    "\n",
    "    end_time = time.time()\n",
    "    execution_time = end_time - start_time\n",
    "    print(f\"Training time: {execution_time:.2f} seconds\")\n",
    "\n",
    "    # Evaluation loop @@@@@@@@@@@@@@@@@@@@@@@@@@@@@@@@@@@@@@@@@@@@@@@@@\n",
    "    model.eval()\n",
    "    valid_loss = 0.0\n",
    "    correct = 0\n",
    "    total = 0\n",
    "\n",
    "    with torch.no_grad():\n",
    "        for images, labels in valid_dataloader:\n",
    "            images, labels = images.to(device), labels.to(device)\n",
    "\n",
    "            outputs = model(images)\n",
    "            loss = criterion(outputs, labels)\n",
    "\n",
    "            valid_loss += loss.item()\n",
    "            _, predicted = outputs.max(1)\n",
    "            total += labels.size(0)\n",
    "            correct += predicted.eq(labels).sum().item()\n",
    "\n",
    "    valid_loss /= len(valid_dataloader)\n",
    "    valid_acc = correct / total\n",
    "\n",
    "    scheduler.step(valid_loss)\n",
    "\n",
    "    # Testing loop @@@@@@@@@@@@@@@@@@@@@@@@@@@@@@@@@@@@@@@@@@@@@@@@@\n",
    "    model.eval()\n",
    "    test_loss = 0.0\n",
    "    correct = 0\n",
    "    total = 0\n",
    "\n",
    "    with torch.no_grad():\n",
    "        for images, labels in test_dataloader:\n",
    "            images, labels = images.to(device), labels.to(device)\n",
    "\n",
    "            outputs = model(images)\n",
    "            loss = criterion(outputs, labels)\n",
    "\n",
    "            test_loss += loss.item()\n",
    "            _, predicted = outputs.max(1)\n",
    "            total += labels.size(0)\n",
    "            correct += predicted.eq(labels).sum().item()\n",
    "\n",
    "    test_loss /= len(test_dataloader)\n",
    "    test_acc = correct / total\n",
    "\n",
    "    # Print epoch statistics\n",
    "    print(f\"Train Loss: {train_loss:.4f} | Train Acc: {train_acc*100:.2f}%\")\n",
    "    print(f\"Valid Loss: {valid_loss:.4f} | Valid Acc: {valid_acc*100:.2f}%\")\n",
    "    print(f\"Test  Loss: {test_loss:.4f} | Test Acc: {test_acc*100:.2f}%\")\n",
    "    print(\"-\" * 50)\n",
    "    _log_train_loss.append(train_loss)\n",
    "    _log_train_acc.append(train_acc)\n",
    "    _log_valid_loss.append(valid_loss)\n",
    "    _log_valid_acc.append(valid_acc)\n",
    "    _log_test_loss.append(test_loss)\n",
    "    _log_test_acc.append(test_acc)"
   ]
  },
  {
   "cell_type": "markdown",
   "metadata": {},
   "source": [
    "# Results"
   ]
  },
  {
   "cell_type": "code",
   "execution_count": null,
   "metadata": {},
   "outputs": [],
   "source": [
    "fig, axs = plt.subplots(ncols=2, figsize=(10, 5))\n",
    "\n",
    "# 첫 번째 그래프: Training and Test Loss\n",
    "axs[0].plot(_log_train_loss, label=\"Training Loss\")\n",
    "axs[0].plot(_log_valid_loss, label=\"Validation Loss\")\n",
    "axs[0].plot(_log_test_loss, label=\"Test Loss\")\n",
    "axs[0].set_xlabel(\"Epoch\")\n",
    "axs[0].set_ylabel(\"Loss\")\n",
    "axs[0].set_title(\"Training, Validation and Test Loss\")\n",
    "axs[0].legend()\n",
    "\n",
    "# 두 번째 그래프: Training and Test Accuracy\n",
    "axs[1].plot(_log_train_acc * 100, label=\"Training Accuracy\")\n",
    "axs[1].plot(_log_valid_acc * 100, label=\"Validation Accuracy\")\n",
    "axs[1].plot(_log_test_acc * 100, label=\"Test Accuracy\")\n",
    "axs[1].set_xlabel(\"Epoch\")\n",
    "axs[1].set_ylabel(\"Accuracy\")\n",
    "axs[1].set_title(\"Training, Validation and Test Accuracy\")\n",
    "axs[1].legend()\n",
    "\n",
    "# 그래프를 보여줍니다.\n",
    "plt.tight_layout()\n",
    "plt.show()\n",
    "_log_test_acc[-1] * 100"
   ]
  },
  {
   "cell_type": "code",
   "execution_count": null,
   "metadata": {},
   "outputs": [],
   "source": [
    "# torch.save(model.state_dict(), \"models/Myresnet34.pth\")\n",
    "print(\"Saved PyTorch Model State to model.pth\")"
   ]
  },
  {
   "cell_type": "code",
   "execution_count": null,
   "metadata": {},
   "outputs": [],
   "source": [
    "model = MyResNet34(Block, COUNT_OF_CLASSES).to(device)\n",
    "model.load_state_dict(torch.load(\"models/Myresnet34.pth\"))"
   ]
  },
  {
   "cell_type": "code",
   "execution_count": null,
   "metadata": {},
   "outputs": [],
   "source": [
    "model.named_modules"
   ]
  },
  {
   "cell_type": "code",
   "execution_count": null,
   "metadata": {},
   "outputs": [],
   "source": [
    "# Testing loop\n",
    "model.eval()\n",
    "test_loss = 0.0\n",
    "correct = 0\n",
    "total = 0\n",
    "start_time = time.time()\n",
    "\n",
    "with torch.no_grad():\n",
    "    for images, labels in test_dataloader:\n",
    "        images, labels = images.to(device), labels.to(device)\n",
    "\n",
    "        outputs = model(images)\n",
    "        loss = criterion(outputs, labels)\n",
    "\n",
    "        test_loss += loss.item()\n",
    "        _, predicted = outputs.max(1)\n",
    "        total += labels.size(0)\n",
    "        correct += predicted.eq(labels).sum().item()\n",
    "        \n",
    "        break\n",
    "\n",
    "test_loss /= len(test_dataloader)\n",
    "test_acc = correct / total\n",
    "end_time = time.time()\n",
    "execution_time = end_time - start_time\n",
    "print(f\"Training time: {execution_time:.2f} seconds\")\n",
    "print(total)"
   ]
  }
 ],
 "metadata": {
  "kernelspec": {
   "display_name": "base",
   "language": "python",
   "name": "python3"
  },
  "language_info": {
   "codemirror_mode": {
    "name": "ipython",
    "version": 3
   },
   "file_extension": ".py",
   "mimetype": "text/x-python",
   "name": "python",
   "nbconvert_exporter": "python",
   "pygments_lexer": "ipython3",
   "version": "3.11.5"
  }
 },
 "nbformat": 4,
 "nbformat_minor": 2
}
