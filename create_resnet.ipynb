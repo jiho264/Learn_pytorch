{
 "cells": [
  {
   "cell_type": "code",
   "execution_count": 1,
   "metadata": {},
   "outputs": [],
   "source": [
    "import torch\n",
    "from torch import nn\n",
    "from torch.utils.data import DataLoader\n",
    "from torchvision import datasets\n",
    "from torchvision.transforms import ToTensor\n",
    "import tqdm\n",
    "import matplotlib.pyplot as plt"
   ]
  },
  {
   "cell_type": "code",
   "execution_count": 2,
   "metadata": {},
   "outputs": [
    {
     "name": "stdout",
     "output_type": "stream",
     "text": [
      "Files already downloaded and verified\n",
      "Files already downloaded and verified\n"
     ]
    }
   ],
   "source": [
    "# 공개 데이터셋에서 학습 데이터를 내려받습니다.\n",
    "training_data = datasets.CIFAR100(\n",
    "    root=\"data\",\n",
    "    train=True,\n",
    "    download=True,\n",
    "    transform=ToTensor(),\n",
    ")\n",
    "\n",
    "# 공개 데이터셋에서 테스트 데이터를 내려받습니다.\n",
    "test_data = datasets.CIFAR100(\n",
    "    root=\"data\",\n",
    "    train=False,\n",
    "    download=True,\n",
    "    transform=ToTensor(),\n",
    ")"
   ]
  },
  {
   "cell_type": "code",
   "execution_count": 3,
   "metadata": {},
   "outputs": [
    {
     "data": {
      "text/plain": [
       "'\\nResNet paper :\\nOur implementation for ImageNet follows the practice in [21, 41]. \\nThe image is resized with its shorter side ran- domly sampled in [256, 480] for scale augmentation [41]. \\nA 224×224 crop is randomly sampled from an image or its horizontal flip, with the per-pixel mean subtracted [21]. \\nThe standard color augmentation in [21] is used\\n\\n[21] : AlexNet - Dataset section\\nWe did not pre-process the images in any other way, except for subtracting the mean activity over the training set from each pixel. \\nSo we trained our network on the (centered) raw RGB values of the pixels.\\n\\n'"
      ]
     },
     "execution_count": 3,
     "metadata": {},
     "output_type": "execute_result"
    }
   ],
   "source": [
    "\"\"\"\n",
    "ResNet paper :\n",
    "Our implementation for ImageNet follows the practice in [21, 41]. \n",
    "The image is resized with its shorter side ran- domly sampled in [256, 480] for scale augmentation [41]. \n",
    "A 224×224 crop is randomly sampled from an image or its horizontal flip, with the per-pixel mean subtracted [21]. \n",
    "The standard color augmentation in [21] is used\n",
    "\n",
    "[21] : AlexNet - Dataset section\n",
    "We did not pre-process the images in any other way, except for subtracting the mean activity over the training set from each pixel. \n",
    "So we trained our network on the (centered) raw RGB values of the pixels.\n",
    "\n",
    "\"\"\""
   ]
  },
  {
   "cell_type": "code",
   "execution_count": 4,
   "metadata": {},
   "outputs": [
    {
     "name": "stdout",
     "output_type": "stream",
     "text": [
      "(50000, 32, 32, 3)\n"
     ]
    }
   ],
   "source": [
    "batch_size = 256\n",
    "\n",
    "\n",
    "print(training_data.data.shape)\n"
   ]
  },
  {
   "cell_type": "code",
   "execution_count": 5,
   "metadata": {},
   "outputs": [
    {
     "name": "stdout",
     "output_type": "stream",
     "text": [
      "Shape of X [N, C, H, W]: torch.Size([256, 3, 32, 32])\n",
      "Shape of y: torch.Size([256]) torch.int64\n",
      "['apple', 'aquarium_fish', 'baby', 'bear', 'beaver', 'bed', 'bee', 'beetle', 'bicycle', 'bottle', 'bowl', 'boy', 'bridge', 'bus', 'butterfly', 'camel', 'can', 'castle', 'caterpillar', 'cattle', 'chair', 'chimpanzee', 'clock', 'cloud', 'cockroach', 'couch', 'crab', 'crocodile', 'cup', 'dinosaur', 'dolphin', 'elephant', 'flatfish', 'forest', 'fox', 'girl', 'hamster', 'house', 'kangaroo', 'keyboard', 'lamp', 'lawn_mower', 'leopard', 'lion', 'lizard', 'lobster', 'man', 'maple_tree', 'motorcycle', 'mountain', 'mouse', 'mushroom', 'oak_tree', 'orange', 'orchid', 'otter', 'palm_tree', 'pear', 'pickup_truck', 'pine_tree', 'plain', 'plate', 'poppy', 'porcupine', 'possum', 'rabbit', 'raccoon', 'ray', 'road', 'rocket', 'rose', 'sea', 'seal', 'shark', 'shrew', 'skunk', 'skyscraper', 'snail', 'snake', 'spider', 'squirrel', 'streetcar', 'sunflower', 'sweet_pepper', 'table', 'tank', 'telephone', 'television', 'tiger', 'tractor', 'train', 'trout', 'tulip', 'turtle', 'wardrobe', 'whale', 'willow_tree', 'wolf', 'woman', 'worm']\n"
     ]
    }
   ],
   "source": [
    "\n",
    "train_dataloader = DataLoader(training_data, batch_size=batch_size)\n",
    "test_dataloader = DataLoader(test_data, batch_size=batch_size)\n",
    "\n",
    "for X, y in test_dataloader:\n",
    "    print(f\"Shape of X [N, C, H, W]: {X.shape}\")\n",
    "    print(f\"Shape of y: {y.shape} {y.dtype}\")\n",
    "    break\n",
    "print(test_dataloader.dataset.classes)\n"
   ]
  },
  {
   "cell_type": "code",
   "execution_count": 6,
   "metadata": {},
   "outputs": [
    {
     "name": "stdout",
     "output_type": "stream",
     "text": [
      "Using cuda device\n"
     ]
    }
   ],
   "source": [
    "# 학습에 사용할 CPU나 GPU, MPS 장치를 얻습니다.\n",
    "device = (\n",
    "    \"cuda\"\n",
    "    if torch.cuda.is_available()\n",
    "    else \"mps\"\n",
    "    if torch.backends.mps.is_available()\n",
    "    else \"cpu\"\n",
    ")\n",
    "print(f\"Using {device} device\")\n"
   ]
  },
  {
   "cell_type": "code",
   "execution_count": 7,
   "metadata": {},
   "outputs": [],
   "source": [
    "\n",
    "torch.cuda.empty_cache()\n"
   ]
  },
  {
   "cell_type": "code",
   "execution_count": 8,
   "metadata": {},
   "outputs": [],
   "source": [
    "class Block(nn.Module):\n",
    "    def __init__(self, inputs, outputs, _Downsample = False):\n",
    "        super().__init__()\n",
    "        self._Downsample = _Downsample\n",
    "        self.downsampling = nn.Sequential(\n",
    "            # In paper, \n",
    "            # downsampling is performed by conv3_1, conv4_1, and conv5_1 with a stride of 2\n",
    "            nn.Conv2d(inputs, outputs, kernel_size=1, stride=1, bias=False),\n",
    "            nn.BatchNorm2d(outputs)\n",
    "            # 이거 토치 공식 resnet에서도 배치까지 있는 4차원이라 conv2d로 함.\n",
    "        )\n",
    "        self.conv1 = nn.Conv2d(inputs, outputs, kernel_size=3, padding=1, bias=False)\n",
    "        self.bn1 = nn.BatchNorm2d(outputs, eps=1e-05, momentum=0.1, affine=True, track_running_stats=True)\n",
    "        self.relu1 = nn.ReLU(inplace=False)\n",
    "        \n",
    "        self.conv2 = nn.Conv2d(outputs, outputs, kernel_size=3, padding=1, bias=False)\n",
    "        self.bn2 = nn.BatchNorm2d(outputs, eps=1e-05, momentum=0.1, affine=True, track_running_stats=True)\n",
    "        self.relu2 = nn.ReLU(inplace=False)\n",
    "    \n",
    "        for m in self.modules():\n",
    "            if isinstance(m, nn.Conv2d):\n",
    "                nn.init.kaiming_normal_(m.weight, mode=\"fan_out\", nonlinearity=\"relu\")\n",
    "            elif isinstance(m, (nn.BatchNorm2d, nn.GroupNorm)):\n",
    "                nn.init.constant_(m.weight, 1)\n",
    "                nn.init.constant_(m.bias, 0)\n",
    "    \n",
    "    def forward(self, x):\n",
    "        # print('x1(identity) :', x.shape, 'Downsample :', self._Downsample)\n",
    "        identity = x\n",
    "        if self._Downsample == True:\n",
    "            identity = self.downsampling(identity)\n",
    "            # print('x1(downsampled) :', identity.shape)~\n",
    "        x = self.conv1(x)\n",
    "        x = self.bn1(x)\n",
    "        x = self.relu1(x)\n",
    "        # print('x2 :', x.shape)\n",
    "        x = self.conv2(x)\n",
    "        x = self.bn2(x)\n",
    "        \n",
    "        x = x + identity # 여기 x+=identity로 하면 안됨. inplace operation이라서.\n",
    "        \n",
    "        x = self.relu2(x)\n",
    "        # print('x3 :', x.shape)\n",
    "        # print('x4 :', x.shape)\n",
    "        return x\n",
    "    \n",
    "class MyResNet34(nn.Module):\n",
    "    def __init__(self, _BlockClass = Block, _num_classes = 1000, _print = False):\n",
    "        super().__init__()\n",
    "        self._num_classes = _num_classes\n",
    "        self._print = _print\n",
    "        \n",
    "        # 1. input layer\n",
    "        # input : 224x224x3\n",
    "        # output : 112x112x64\n",
    "        self.conv1 = nn.Conv2d(in_channels = 3, out_channels= 64, kernel_size=7, stride=2, padding=3, bias=False)\n",
    "        self.bn1 = nn.BatchNorm2d(64, eps=1e-05, momentum=0.1, affine=True, track_running_stats=True)\n",
    "        self.relu1 = nn.ReLU(inplace=False)\n",
    "        self.maxpool = nn.MaxPool2d(kernel_size=3, stride=2, padding=1)\n",
    "        \n",
    "        # 2. 64ch 3x3 conv x 3\n",
    "        # input : 112x112x64\n",
    "        # output : 56x56x64\n",
    "        self.conv64blocks = nn.Sequential(\n",
    "            _BlockClass(64, 64),\n",
    "            _BlockClass(64, 64),\n",
    "            _BlockClass(64, 64)\n",
    "        )\n",
    "        # 3. 128ch 3x3 conv x 4\n",
    "        # input : 56x56x64\n",
    "        # output : 28x28x128\n",
    "        self.conv128blocks = nn.Sequential(\n",
    "            _BlockClass(64, 128, _Downsample = True),\n",
    "            _BlockClass(128, 128),\n",
    "            _BlockClass(128, 128),\n",
    "            _BlockClass(128, 128)\n",
    "        )\n",
    "        # 4. 256ch 3x3 conv x 6\n",
    "        # input : 28x28x128\n",
    "        # output : 14x14x256\n",
    "        self.conv256blocks = nn.Sequential(\n",
    "            _BlockClass(128, 256, _Downsample = True),\n",
    "            _BlockClass(256, 256),\n",
    "            _BlockClass(256, 256),\n",
    "            _BlockClass(256, 256),\n",
    "            _BlockClass(256, 256),\n",
    "            _BlockClass(256, 256)\n",
    "        )\n",
    "        # 5. 512ch 3x3 conv x 3\n",
    "        # input : 14x14x256\n",
    "        # output : 7x7x512\n",
    "        self.conv512blocks = nn.Sequential(\n",
    "            _BlockClass(256, 512, _Downsample = True),\n",
    "            _BlockClass(512, 512),\n",
    "            _BlockClass(512, 512)\n",
    "        )\n",
    "        \n",
    "        self.avgpool = nn.AdaptiveAvgPool2d((1, 1))\n",
    "        self.fc1 = nn.Linear(in_features = 512, out_features= self._num_classes)\n",
    "        self.relu2 = nn.ReLU(inplace=False)\n",
    "        \n",
    "        for m in self.modules():\n",
    "            if isinstance(m, nn.Conv2d):\n",
    "                nn.init.kaiming_normal_(m.weight, mode=\"fan_out\", nonlinearity=\"relu\")\n",
    "            elif isinstance(m, (nn.BatchNorm2d, nn.GroupNorm)):\n",
    "                nn.init.constant_(m.weight, 1)\n",
    "                nn.init.constant_(m.bias, 0)\n",
    "                \n",
    "    def forward(self, x):\n",
    "        if(self._print): print('input 64ch :', x.shape)\n",
    "        x = self.conv1(x)\n",
    "        x = self.bn1(x)\n",
    "        x = self.relu1(x)\n",
    "        if(self._print): print('conv7x7 64ch :', x.shape)\n",
    "        x = self.maxpool(x)\n",
    "        if(self._print): print('maxpool 64ch :', x.shape)\n",
    "        \n",
    "        x = self.conv64blocks(x)\n",
    "        if(self._print): print('1st conv 64 :', x.shape)\n",
    "        \n",
    "        x = self.conv128blocks(x)\n",
    "        if(self._print): print('2nd conv 128 :', x.shape)\n",
    "        \n",
    "        x = self.conv256blocks(x)\n",
    "        if(self._print): print('3rd conv 256 :', x.shape)\n",
    "        \n",
    "        x = self.conv512blocks(x)\n",
    "        if(self._print): print('4th conv 512:', x.shape)\n",
    "        \n",
    "        x = self.avgpool(x)\n",
    "        if(self._print): print('avgpool :', x.shape)\n",
    "        x = torch.flatten(x, 1)\n",
    "        x = self.fc1(x)\n",
    "        x = self.relu2(x)\n",
    "        if(self._print): print('fc :', x.shape)\n",
    "        \n",
    "        return x\n",
    "        \n",
    "\n",
    "    "
   ]
  },
  {
   "cell_type": "code",
   "execution_count": 9,
   "metadata": {},
   "outputs": [
    {
     "name": "stdout",
     "output_type": "stream",
     "text": [
      "True\n"
     ]
    }
   ],
   "source": [
    "print(torch.cuda.is_available())"
   ]
  },
  {
   "cell_type": "code",
   "execution_count": 10,
   "metadata": {},
   "outputs": [],
   "source": [
    "\n",
    "# # tensor = torch.randn(64, 3, 224, 224)\n",
    "# tensor = torch.randn(64, 3, 32, 32)\n",
    "# print(tensor.shape)\n",
    "# out = model(tensor.to(device))\n",
    "# print(out.shape)"
   ]
  },
  {
   "cell_type": "code",
   "execution_count": 11,
   "metadata": {},
   "outputs": [],
   "source": [
    "# print(out.shape)\n",
    "# print(torch.argmax(out, dim=1))\n"
   ]
  },
  {
   "cell_type": "code",
   "execution_count": 12,
   "metadata": {},
   "outputs": [],
   "source": [
    "\n",
    "# for imagenet\n",
    "# model = MyResNet34(Block).to(device)\n",
    "\n",
    "# for cifar100\n",
    "model = MyResNet34(Block, 100, _print=False).to(device)"
   ]
  },
  {
   "cell_type": "code",
   "execution_count": 13,
   "metadata": {},
   "outputs": [
    {
     "data": {
      "text/plain": [
       "'\\n    we initialize the weights as on He initialization\\n    we adopt batch normalization after each convolutional and before activation\\n    we use SGD with a mini-batch size of 256\\n    the learning rate starts from 0.1 and is divided by 10 when the error plateaus\\n    we use a weight decay of 0.0001 and a momentum of 0.9\\n    we do not use dropout\\n    \\n'"
      ]
     },
     "execution_count": 13,
     "metadata": {},
     "output_type": "execute_result"
    }
   ],
   "source": [
    "\"\"\"\n",
    "    we initialize the weights as on He initialization\n",
    "    we adopt batch normalization after each convolutional and before activation\n",
    "    we use SGD with a mini-batch size of 256\n",
    "    the learning rate starts from 0.1 and is divided by 10 when the error plateaus\n",
    "    we use a weight decay of 0.0001 and a momentum of 0.9\n",
    "    we do not use dropout\n",
    "    \n",
    "\"\"\""
   ]
  },
  {
   "cell_type": "code",
   "execution_count": 14,
   "metadata": {},
   "outputs": [],
   "source": [
    "# 모델 생성 및 손실 함수, 최적화기 정의\n",
    "criterion = nn.CrossEntropyLoss()\n",
    "\"\"\"\n",
    "    It is useful when training a classification problem with C classes. \n",
    "    If provided, the optional argument weight should be a 1D Tensor assigning weight to each of the classes. \n",
    "    This is particularly useful when you have an unbalanced training set.\n",
    "    \n",
    "    The input is expected to contain the unnormalized logits for each class (which do not need to be positive or sum to 1, in general).\n",
    "\"\"\"\n",
    "#optimizer = torch.optim.SGD(model.parameters(), lr=0.1, weight_decay=0.0001, momentum=0.9)\n",
    "optimizer = torch.optim.SGD(model.parameters(), lr=0.01, momentum=0.9, weight_decay=1e-4)\n"
   ]
  },
  {
   "cell_type": "code",
   "execution_count": 15,
   "metadata": {},
   "outputs": [
    {
     "name": "stdout",
     "output_type": "stream",
     "text": [
      "Epoch 1/10:\n",
      "Train Loss: 4.4434 | Train Acc: 5.79%\n",
      "Test Loss: 4.3229 | Test Acc: 8.93%\n",
      "--------------------------------------------------\n",
      "Epoch 2/10:\n",
      "Train Loss: 4.2034 | Train Acc: 11.84%\n",
      "Test Loss: 4.1501 | Test Acc: 12.62%\n",
      "--------------------------------------------------\n",
      "Epoch 3/10:\n",
      "Train Loss: 4.0439 | Train Acc: 15.27%\n",
      "Test Loss: 4.1023 | Test Acc: 13.76%\n",
      "--------------------------------------------------\n",
      "Epoch 4/10:\n",
      "Train Loss: 3.9072 | Train Acc: 18.15%\n",
      "Test Loss: 4.0143 | Test Acc: 15.67%\n",
      "--------------------------------------------------\n",
      "Epoch 5/10:\n",
      "Train Loss: 3.7736 | Train Acc: 20.99%\n",
      "Test Loss: 3.9989 | Test Acc: 15.98%\n",
      "--------------------------------------------------\n",
      "Epoch 6/10:\n",
      "Train Loss: 3.6571 | Train Acc: 23.71%\n",
      "Test Loss: 3.9519 | Test Acc: 17.12%\n",
      "--------------------------------------------------\n",
      "Epoch 7/10:\n",
      "Train Loss: 3.5243 | Train Acc: 26.79%\n",
      "Test Loss: 4.1152 | Test Acc: 15.04%\n",
      "--------------------------------------------------\n",
      "Epoch 8/10:\n",
      "Train Loss: 3.4256 | Train Acc: 28.62%\n",
      "Test Loss: 4.2378 | Test Acc: 14.09%\n",
      "--------------------------------------------------\n",
      "Epoch 9/10:\n",
      "Train Loss: 3.3164 | Train Acc: 30.62%\n",
      "Test Loss: 4.2653 | Test Acc: 16.32%\n",
      "--------------------------------------------------\n",
      "Epoch 10/10:\n",
      "Train Loss: 3.1487 | Train Acc: 33.79%\n",
      "Test Loss: 3.9090 | Test Acc: 19.63%\n",
      "--------------------------------------------------\n"
     ]
    }
   ],
   "source": [
    "\n",
    "# Training loop\n",
    "num_epochs = 10\n",
    "\n",
    "_log_train_loss = []\n",
    "_log_train_acc = []\n",
    "_log_test_loss = []\n",
    "_log_test_acc = []\n",
    "\n",
    "for epoch in range(num_epochs):\n",
    "    model.train()\n",
    "    running_loss = 0.0\n",
    "    correct = 0\n",
    "    total = 0\n",
    "    \n",
    "    #for inputs, labels in tqdm.tqdm(train_dataloader):\n",
    "    for images, labels in train_dataloader:\n",
    "        images, labels = images.to(device), labels.to(device)\n",
    "\n",
    "        optimizer.zero_grad()\n",
    "        outputs = model(images)\n",
    "        loss = criterion(outputs, labels)\n",
    "        loss.backward()\n",
    "        optimizer.step()\n",
    "\n",
    "        running_loss += loss.item()\n",
    "        _, predicted = outputs.max(1)\n",
    "        total += labels.size(0)\n",
    "        correct += predicted.eq(labels).sum().item()\n",
    "\n",
    "    train_loss = running_loss / len(train_dataloader)\n",
    "    train_acc = correct / total\n",
    "\n",
    "    # Evaluation loop\n",
    "    model.eval()\n",
    "    test_loss = 0.0\n",
    "    correct = 0\n",
    "    total = 0\n",
    "\n",
    "    with torch.no_grad():\n",
    "        for images, labels in test_dataloader:\n",
    "            images, labels = images.to(device), labels.to(device)\n",
    "\n",
    "            outputs = model(images)\n",
    "            loss = criterion(outputs, labels)\n",
    "\n",
    "            test_loss += loss.item()\n",
    "            _, predicted = outputs.max(1)\n",
    "            total += labels.size(0)\n",
    "            correct += predicted.eq(labels).sum().item()\n",
    "\n",
    "    test_loss /= len(test_dataloader)\n",
    "    test_acc = correct / total\n",
    "\n",
    "    # Print epoch statistics\n",
    "    print(f\"Epoch {epoch+1}/{num_epochs}:\")\n",
    "    print(f\"Train Loss: {train_loss:.4f} | Train Acc: {train_acc*100:.2f}%\")\n",
    "    print(f\"Test Loss: {test_loss:.4f} | Test Acc: {test_acc*100:.2f}%\")\n",
    "    print(\"-\" * 50)\n",
    "    _log_train_loss.append(train_loss)\n",
    "    _log_train_acc.append(train_acc)\n",
    "    _log_test_loss.append(test_loss)\n",
    "    _log_test_acc.append(test_acc)\n"
   ]
  },
  {
   "cell_type": "code",
   "execution_count": 16,
   "metadata": {},
   "outputs": [
    {
     "data": {
      "image/png": "[encoded data removed]",
      "text/plain": [
       "<Figure size 640x480 with 1 Axes>"
      ]
     },
     "metadata": {},
     "output_type": "display_data"
    }
   ],
   "source": [
    "# Plotting training loss and accuracy\n",
    "plt.plot(_log_train_loss, label='Training Loss')\n",
    "plt.plot(_log_train_acc, label='Training Accuracy')\n",
    "plt.plot(_log_test_loss, label='Test Loss')\n",
    "plt.plot(_log_test_acc, label='Test Accuracy')\n",
    "plt.xlabel('Epoch')\n",
    "plt.ylabel('Value')\n",
    "plt.title('Training Loss and Accuracy')\n",
    "plt.legend()\n",
    "plt.show()\n"
   ]
  },
  {
   "cell_type": "code",
   "execution_count": 17,
   "metadata": {},
   "outputs": [
    {
     "name": "stdout",
     "output_type": "stream",
     "text": [
      "Saved PyTorch Model State to model.pth\n"
     ]
    }
   ],
   "source": [
    "torch.save(model.state_dict(), \"Myresnet34.pth\")\n",
    "print(\"Saved PyTorch Model State to model.pth\")"
   ]
  },
  {
   "cell_type": "code",
   "execution_count": 18,
   "metadata": {},
   "outputs": [
    {
     "ename": "FileNotFoundError",
     "evalue": "[Errno 2] No such file or directory: 'model.pth'",
     "output_type": "error",
     "traceback": [
      "\u001b[0;31m---------------------------------------------------------------------------\u001b[0m",
      "\u001b[0;31mFileNotFoundError\u001b[0m                         Traceback (most recent call last)",
      "\u001b[1;32m/home/lee/Desktop/Learn_pytorch/create_resnet.ipynb 셀 18\u001b[0m line \u001b[0;36m2\n\u001b[1;32m      <a href='vscode-notebook-cell://ssh-remote%2B117.16.243.133/home/lee/Desktop/Learn_pytorch/create_resnet.ipynb#X22sdnNjb2RlLXJlbW90ZQ%3D%3D?line=0'>1</a>\u001b[0m model \u001b[39m=\u001b[39m MyResNet34(Block, \u001b[39m100\u001b[39m)\u001b[39m.\u001b[39mto(device)\n\u001b[0;32m----> <a href='vscode-notebook-cell://ssh-remote%2B117.16.243.133/home/lee/Desktop/Learn_pytorch/create_resnet.ipynb#X22sdnNjb2RlLXJlbW90ZQ%3D%3D?line=1'>2</a>\u001b[0m model\u001b[39m.\u001b[39mload_state_dict(torch\u001b[39m.\u001b[39mload(\u001b[39m\"\u001b[39m\u001b[39mmodel.pth\u001b[39m\u001b[39m\"\u001b[39m))\n",
      "File \u001b[0;32m~/anaconda3/lib/python3.11/site-packages/torch/serialization.py:986\u001b[0m, in \u001b[0;36mload\u001b[0;34m(f, map_location, pickle_module, weights_only, mmap, **pickle_load_args)\u001b[0m\n\u001b[1;32m    983\u001b[0m \u001b[39mif\u001b[39;00m \u001b[39m'\u001b[39m\u001b[39mencoding\u001b[39m\u001b[39m'\u001b[39m \u001b[39mnot\u001b[39;00m \u001b[39min\u001b[39;00m pickle_load_args\u001b[39m.\u001b[39mkeys():\n\u001b[1;32m    984\u001b[0m     pickle_load_args[\u001b[39m'\u001b[39m\u001b[39mencoding\u001b[39m\u001b[39m'\u001b[39m] \u001b[39m=\u001b[39m \u001b[39m'\u001b[39m\u001b[39mutf-8\u001b[39m\u001b[39m'\u001b[39m\n\u001b[0;32m--> 986\u001b[0m \u001b[39mwith\u001b[39;00m _open_file_like(f, \u001b[39m'\u001b[39m\u001b[39mrb\u001b[39m\u001b[39m'\u001b[39m) \u001b[39mas\u001b[39;00m opened_file:\n\u001b[1;32m    987\u001b[0m     \u001b[39mif\u001b[39;00m _is_zipfile(opened_file):\n\u001b[1;32m    988\u001b[0m         \u001b[39m# The zipfile reader is going to advance the current file position.\u001b[39;00m\n\u001b[1;32m    989\u001b[0m         \u001b[39m# If we want to actually tail call to torch.jit.load, we need to\u001b[39;00m\n\u001b[1;32m    990\u001b[0m         \u001b[39m# reset back to the original position.\u001b[39;00m\n\u001b[1;32m    991\u001b[0m         orig_position \u001b[39m=\u001b[39m opened_file\u001b[39m.\u001b[39mtell()\n",
      "File \u001b[0;32m~/anaconda3/lib/python3.11/site-packages/torch/serialization.py:435\u001b[0m, in \u001b[0;36m_open_file_like\u001b[0;34m(name_or_buffer, mode)\u001b[0m\n\u001b[1;32m    433\u001b[0m \u001b[39mdef\u001b[39;00m \u001b[39m_open_file_like\u001b[39m(name_or_buffer, mode):\n\u001b[1;32m    434\u001b[0m     \u001b[39mif\u001b[39;00m _is_path(name_or_buffer):\n\u001b[0;32m--> 435\u001b[0m         \u001b[39mreturn\u001b[39;00m _open_file(name_or_buffer, mode)\n\u001b[1;32m    436\u001b[0m     \u001b[39melse\u001b[39;00m:\n\u001b[1;32m    437\u001b[0m         \u001b[39mif\u001b[39;00m \u001b[39m'\u001b[39m\u001b[39mw\u001b[39m\u001b[39m'\u001b[39m \u001b[39min\u001b[39;00m mode:\n",
      "File \u001b[0;32m~/anaconda3/lib/python3.11/site-packages/torch/serialization.py:416\u001b[0m, in \u001b[0;36m_open_file.__init__\u001b[0;34m(self, name, mode)\u001b[0m\n\u001b[1;32m    415\u001b[0m \u001b[39mdef\u001b[39;00m \u001b[39m__init__\u001b[39m(\u001b[39mself\u001b[39m, name, mode):\n\u001b[0;32m--> 416\u001b[0m     \u001b[39msuper\u001b[39m()\u001b[39m.\u001b[39m\u001b[39m__init__\u001b[39m(\u001b[39mopen\u001b[39m(name, mode))\n",
      "\u001b[0;31mFileNotFoundError\u001b[0m: [Errno 2] No such file or directory: 'model.pth'"
     ]
    }
   ],
   "source": [
    "model = MyResNet34(Block, 100).to(device)\n",
    "model.load_state_dict(torch.load(\"Myresnet34.pth\"))"
   ]
  },
  {
   "cell_type": "code",
   "execution_count": null,
   "metadata": {},
   "outputs": [],
   "source": []
  }
 ],
 "metadata": {
  "kernelspec": {
   "display_name": "base",
   "language": "python",
   "name": "python3"
  },
  "language_info": {
   "codemirror_mode": {
    "name": "ipython",
    "version": 3
   },
   "file_extension": ".py",
   "mimetype": "text/x-python",
   "name": "python",
   "nbconvert_exporter": "python",
   "pygments_lexer": "ipython3",
   "version": "3.11.5"
  }
 },
 "nbformat": 4,
 "nbformat_minor": 2
}
