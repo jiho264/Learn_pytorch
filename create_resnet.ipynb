{
 "cells": [
  {
   "cell_type": "code",
   "execution_count": 2,
   "metadata": {},
   "outputs": [],
   "source": [
    "import torch\n",
    "import torch.nn as nn\n",
    "import torch.optim as optim"
   ]
  },
  {
   "cell_type": "code",
   "execution_count": 3,
   "metadata": {},
   "outputs": [
    {
     "name": "stdout",
     "output_type": "stream",
     "text": [
      "모델 아키텍처:\n",
      " MyResNet(\n",
      "  (linear): Linear(in_features=10, out_features=5, bias=True)\n",
      ")\n",
      "모델 출력:\n",
      " tensor([[ 0.2323, -0.1574, -0.5751, -0.1335,  0.6668],\n",
      "        [-0.2477, -0.3730, -0.6910, -0.1203,  0.4183],\n",
      "        [-0.0042, -0.4317, -0.3015, -0.9999,  0.9447]],\n",
      "       grad_fn=<AddmmBackward0>)\n"
     ]
    }
   ],
   "source": [
    "# 모델 정의\n",
    "class MyResNet(nn.Module):\n",
    "    def __init__(self, input_size, output_size):\n",
    "        super(MyResNet, self).__init__()\n",
    "        self.linear = nn.Linear(input_size, output_size)\n",
    "\n",
    "    def forward(self, x):\n",
    "        x = self.linear(x)\n",
    "        return x\n",
    "\n",
    "# 모델 인스턴스화\n",
    "input_size = 10\n",
    "output_size = 5\n",
    "model = MyResNet(input_size, output_size)\n",
    "\n",
    "# 예제 입력 데이터 생성\n",
    "input_data = torch.randn((3, input_size))\n",
    "\n",
    "# 모델에 입력 전달하여 출력 얻기\n",
    "output_data = model(input_data)\n",
    "\n",
    "print(\"모델 아키텍처:\\n\", model)\n",
    "print(\"모델 출력:\\n\", output_data)\n"
   ]
  }
 ],
 "metadata": {
  "kernelspec": {
   "display_name": "base",
   "language": "python",
   "name": "python3"
  },
  "language_info": {
   "codemirror_mode": {
    "name": "ipython",
    "version": 3
   },
   "file_extension": ".py",
   "mimetype": "text/x-python",
   "name": "python",
   "nbconvert_exporter": "python",
   "pygments_lexer": "ipython3",
   "version": "3.11.5"
  }
 },
 "nbformat": 4,
 "nbformat_minor": 2
}
