{
 "cells": [
  {
   "cell_type": "markdown",
   "metadata": {},
   "source": [
    "# Import"
   ]
  },
  {
   "cell_type": "code",
   "execution_count": 1,
   "metadata": {},
   "outputs": [],
   "source": [
    "import torch\n",
    "from torch import nn\n",
    "from torch.optim.lr_scheduler import ReduceLROnPlateau\n",
    "from torch.utils.data import DataLoader\n",
    "from fvcore.nn import FlopCountAnalysis, flop_count_table\n",
    "import numpy as np\n",
    "import matplotlib.pyplot as plt\n",
    "import os\n",
    "\n",
    "####################################################\n",
    "from src.Mydataloader import LoadDataset\n",
    "from src.Mymodel import MyResNet34\n",
    "from src.Mymodel import MyResNet_CIFAR\n",
    "from src.Mytraining import DoTraining\n",
    "from src.LogViewer import LogViewer"
   ]
  },
  {
   "cell_type": "markdown",
   "metadata": {},
   "source": [
    "# Setup"
   ]
  },
  {
   "cell_type": "code",
   "execution_count": 2,
   "metadata": {},
   "outputs": [],
   "source": [
    "\"\"\"Dataset selection\"\"\"\n",
    "DATASET = \"CIFAR10\"\n",
    "# DATASET = \"CIFAR100\"\n",
    "# DATASET = \"ImageNet2012\"\n",
    "\n",
    "\"\"\"Model selection for CIFAR\"\"\"\n",
    "NUM_LAYERS_LEVEL = 5\n",
    "\n",
    "\"\"\"Dataset parameters\"\"\"\n",
    "BATCH = 256\n",
    "SHUFFLE = True\n",
    "NUMOFWORKERS = 8\n",
    "PIN_MEMORY = True\n",
    "SPLIT_RATIO = 0.9\n",
    "\"\"\"optimizer parameters\"\"\"\n",
    "OPTIMIZER = \"SGD\"\n",
    "# OPTIMIZER = \"Adam\"\n",
    "# OPTIMIZER = \"Adam_decay\"\n",
    "\n",
    "\"\"\"Learning rate scheduler parameters\"\"\"\n",
    "# LOAD_BEFORE_TRAINING = False\n",
    "LOAD_BEFORE_TRAINING = True\n",
    "NUM_EPOCHS = 100000\n",
    "\n",
    "\"\"\"Early stopping parameters\"\"\"\n",
    "EARLYSTOPPINGPATIENCE = 3000\n",
    "file_path = \"\"\n",
    "if DATASET == \"ImageNet2012\":\n",
    "    file_path = f\"{DATASET}/MyResNet34_{BATCH}_{OPTIMIZER}\"\n",
    "else:\n",
    "    file_path = f\"{DATASET}/MyResNet{NUM_LAYERS_LEVEL*6+2}_{BATCH}_{OPTIMIZER}\"\n",
    "    \n",
    "if SPLIT_RATIO != 0:\n",
    "    file_path += f\"_{int(SPLIT_RATIO*100)}\""
   ]
  },
  {
   "cell_type": "code",
   "execution_count": 3,
   "metadata": {},
   "outputs": [
    {
     "data": {
      "text/plain": [
       "'CIFAR10/MyResNet32_256_SGD_90'"
      ]
     },
     "execution_count": 3,
     "metadata": {},
     "output_type": "execute_result"
    }
   ],
   "source": [
    "file_path"
   ]
  },
  {
   "cell_type": "markdown",
   "metadata": {},
   "source": [
    "# Loading the dataset"
   ]
  },
  {
   "cell_type": "markdown",
   "metadata": {},
   "source": [
    "## Define Dateloader"
   ]
  },
  {
   "cell_type": "code",
   "execution_count": 4,
   "metadata": {},
   "outputs": [
    {
     "name": "stderr",
     "output_type": "stream",
     "text": [
      "/home/lee/anaconda3/lib/python3.11/site-packages/torchvision/transforms/v2/_deprecated.py:43: UserWarning: The transform `ToTensor()` is deprecated and will be removed in a future release. Instead, please use `v2.Compose([v2.ToImage(), v2.ToDtype(torch.float32, scale=True)])`.\n",
      "  warnings.warn(\n"
     ]
    },
    {
     "name": "stdout",
     "output_type": "stream",
     "text": [
      "-----------------------------------------------------------------------\n",
      "Dataset :  CIFAR10\n",
      "- Length of Train Set :  45000\n",
      "- Length of Valid Set :  5000\n",
      "- Length of Test Set :  10000\n",
      "- Count of Classes :  10\n",
      "-----------------------------------------------------------------------\n"
     ]
    }
   ],
   "source": [
    "tmp = LoadDataset(root=\"data\", seceted_dataset=DATASET, split_ratio=SPLIT_RATIO)\n",
    "train_data, valid_data, test_data, COUNT_OF_CLASSES = tmp.Unpack()"
   ]
  },
  {
   "cell_type": "code",
   "execution_count": 5,
   "metadata": {},
   "outputs": [
    {
     "name": "stdout",
     "output_type": "stream",
     "text": [
      "train.transforms = Compose(\n",
      "      ToTensor()\n",
      "      Normalize(mean=[0.49139968, 0.48215827, 0.44653124], std=[1, 1, 1], inplace=True)\n",
      "      AutoAugment(interpolation=InterpolationMode.NEAREST, policy=AutoAugmentPolicy.CIFAR10)\n",
      "      RandomCrop(size=(32, 32), padding=[4, 4, 4, 4], pad_if_needed=False, fill=0, padding_mode=constant)\n",
      "      RandomHorizontalFlip(p=0.5)\n",
      ") 256\n",
      "valid.transforms = ToTensor() 256\n",
      "test.transforms = ToTensor() 256\n"
     ]
    }
   ],
   "source": [
    "train_dataloader = DataLoader(\n",
    "    train_data,\n",
    "    batch_size=BATCH,\n",
    "    shuffle=SHUFFLE,\n",
    "    num_workers=NUMOFWORKERS,\n",
    "    pin_memory=PIN_MEMORY,\n",
    "    # pin_memory_device=\"cuda\",\n",
    "    persistent_workers=True,\n",
    ")\n",
    "print(\"train.transforms =\", train_data.transform, train_dataloader.batch_size)\n",
    "\n",
    "if SPLIT_RATIO != 0:\n",
    "    valid_dataloader = DataLoader(\n",
    "        valid_data,\n",
    "        batch_size=BATCH,\n",
    "        shuffle=SHUFFLE,\n",
    "        num_workers=NUMOFWORKERS,\n",
    "        pin_memory=PIN_MEMORY,\n",
    "        # pin_memory_device=\"cuda\",\n",
    "        persistent_workers=True,\n",
    "    )\n",
    "    print(\"valid.transforms =\", valid_data.transform, valid_dataloader.batch_size)\n",
    "elif SPLIT_RATIO == 0:\n",
    "    valid_dataloader = None\n",
    "\n",
    "test_dataloader = DataLoader(\n",
    "    test_data,\n",
    "    batch_size=BATCH,\n",
    "    shuffle=SHUFFLE,\n",
    "    num_workers=NUMOFWORKERS,\n",
    "    pin_memory=PIN_MEMORY,\n",
    "    # pin_memory_device=\"cuda\",\n",
    "    persistent_workers=True,\n",
    ")\n",
    "print(\"test.transforms =\", test_data.transform, test_dataloader.batch_size)"
   ]
  },
  {
   "cell_type": "markdown",
   "metadata": {},
   "source": [
    "## Confirm that the dataset is loaded properly"
   ]
  },
  {
   "cell_type": "code",
   "execution_count": 6,
   "metadata": {},
   "outputs": [
    {
     "name": "stdout",
     "output_type": "stream",
     "text": [
      "Shape of X [N, C, H, W]: torch.Size([256, 3, 32, 32])\n",
      "mean of X tensor([0.5086, 0.5046, 0.4621])\n",
      "Shape of y: torch.Size([256]) torch.int64\n"
     ]
    }
   ],
   "source": [
    "if DATASET != \"ImageNet2012\":\n",
    "    for X, y in test_dataloader:\n",
    "        print(f\"Shape of X [N, C, H, W]: {X.shape}\")\n",
    "        print(\"mean of X\", X.mean(dim=(0, 2, 3)))\n",
    "        print(f\"Shape of y: {y.shape} {y.dtype}\")\n",
    "        break"
   ]
  },
  {
   "cell_type": "code",
   "execution_count": 7,
   "metadata": {},
   "outputs": [
    {
     "data": {
      "image/png": "[encoded data removed]",
      "text/plain": [
       "<Figure size 800x400 with 10 Axes>"
      ]
     },
     "metadata": {},
     "output_type": "display_data"
    }
   ],
   "source": [
    "if DATASET != \"ImageNet2012\":\n",
    "    class_names = test_dataloader.dataset.classes\n",
    "    count = 0\n",
    "    fig, axs = plt.subplots(2, 5, figsize=(8, 4))\n",
    "\n",
    "    for images, labels in test_dataloader:\n",
    "        images = images.numpy()\n",
    "\n",
    "        for i in range(len(images)):\n",
    "            image = images[i]\n",
    "            label = labels[i]\n",
    "            image = np.transpose(image, (1, 2, 0))\n",
    "            image = np.clip(image, 0, 1)\n",
    "            ax = axs[count // 5, count % 5]\n",
    "            ax.imshow(image)\n",
    "            ax.set_title(f\"{class_names[label], label}\")\n",
    "            ax.axis('off')\n",
    "            count += 1\n",
    "            \n",
    "            if count == 10:\n",
    "                break\n",
    "        if count == 10:\n",
    "            break\n",
    "    plt.tight_layout()\n",
    "    plt.show()"
   ]
  },
  {
   "cell_type": "markdown",
   "metadata": {},
   "source": [
    "# Define ResNet"
   ]
  },
  {
   "cell_type": "markdown",
   "metadata": {},
   "source": [
    "## Model Confirm"
   ]
  },
  {
   "cell_type": "code",
   "execution_count": 8,
   "metadata": {},
   "outputs": [
    {
     "data": {
      "text/plain": [
       "device(type='cuda')"
      ]
     },
     "execution_count": 8,
     "metadata": {},
     "output_type": "execute_result"
    }
   ],
   "source": [
    "device = torch.device(\"cuda\" if torch.cuda.is_available() else \"cpu\")\n",
    "device"
   ]
  },
  {
   "cell_type": "code",
   "execution_count": 9,
   "metadata": {},
   "outputs": [
    {
     "name": "stdout",
     "output_type": "stream",
     "text": [
      "ResNet-32 for CIFAR10 is loaded.\n"
     ]
    }
   ],
   "source": [
    "if DATASET == \"CIFAR10\" or DATASET == \"CIFAR100\":\n",
    "    \"\"\"ResNet{20, 32, 44, 56, 110, 1202} for CIFAR\"\"\"\n",
    "    model = MyResNet_CIFAR(\n",
    "        num_classes=COUNT_OF_CLASSES,\n",
    "        num_layer_factor=NUM_LAYERS_LEVEL,\n",
    "        Downsample_option=\"A\",\n",
    "    ).to(device)\n",
    "    print(f\"ResNet-{5*6+2} for {DATASET} is loaded.\")\n",
    "\n",
    "elif DATASET == \"ImageNet2012\":\n",
    "    \"\"\"ResNet34 for ImageNet 2012\"\"\"\n",
    "    model = MyResNet34(\n",
    "        num_classes=COUNT_OF_CLASSES, \n",
    "        Downsample_option=\"A\"\n",
    "    ).to(device)\n",
    "    # model = models.resnet34(pretrained=True).to(device)\n",
    "    # model = models.resnet34(pretrained=False).to(device)\n",
    "    print(f\"ResNet-34 for {DATASET} is loaded.\")\n"
   ]
  },
  {
   "cell_type": "code",
   "execution_count": 10,
   "metadata": {},
   "outputs": [
    {
     "data": {
      "text/plain": [
       "<bound method Module.named_modules of MyResNet_CIFAR(\n",
       "  (single_conv32block): Sequential(\n",
       "    (0): Conv2d(3, 16, kernel_size=(3, 3), stride=(1, 1), padding=(1, 1), bias=False)\n",
       "    (1): BatchNorm2d(16, eps=1e-05, momentum=0.1, affine=True, track_running_stats=True)\n",
       "    (2): ReLU(inplace=True)\n",
       "  )\n",
       "  (conv32blocks): Sequential(\n",
       "    (0): Block(\n",
       "      (conv1): Conv2d(16, 16, kernel_size=(3, 3), stride=(1, 1), padding=(1, 1), bias=False)\n",
       "      (bn1): BatchNorm2d(16, eps=1e-05, momentum=0.1, affine=True, track_running_stats=True)\n",
       "      (relu): ReLU(inplace=True)\n",
       "      (conv2): Conv2d(16, 16, kernel_size=(3, 3), stride=(1, 1), padding=(1, 1), bias=False)\n",
       "      (bn2): BatchNorm2d(16, eps=1e-05, momentum=0.1, affine=True, track_running_stats=True)\n",
       "    )\n",
       "    (1): Block(\n",
       "      (conv1): Conv2d(16, 16, kernel_size=(3, 3), stride=(1, 1), padding=(1, 1), bias=False)\n",
       "      (bn1): BatchNorm2d(16, eps=1e-05, momentum=0.1, affine=True, track_running_stats=True)\n",
       "      (relu): ReLU(inplace=True)\n",
       "      (conv2): Conv2d(16, 16, kernel_size=(3, 3), stride=(1, 1), padding=(1, 1), bias=False)\n",
       "      (bn2): BatchNorm2d(16, eps=1e-05, momentum=0.1, affine=True, track_running_stats=True)\n",
       "    )\n",
       "    (2): Block(\n",
       "      (conv1): Conv2d(16, 16, kernel_size=(3, 3), stride=(1, 1), padding=(1, 1), bias=False)\n",
       "      (bn1): BatchNorm2d(16, eps=1e-05, momentum=0.1, affine=True, track_running_stats=True)\n",
       "      (relu): ReLU(inplace=True)\n",
       "      (conv2): Conv2d(16, 16, kernel_size=(3, 3), stride=(1, 1), padding=(1, 1), bias=False)\n",
       "      (bn2): BatchNorm2d(16, eps=1e-05, momentum=0.1, affine=True, track_running_stats=True)\n",
       "    )\n",
       "    (3): Block(\n",
       "      (conv1): Conv2d(16, 16, kernel_size=(3, 3), stride=(1, 1), padding=(1, 1), bias=False)\n",
       "      (bn1): BatchNorm2d(16, eps=1e-05, momentum=0.1, affine=True, track_running_stats=True)\n",
       "      (relu): ReLU(inplace=True)\n",
       "      (conv2): Conv2d(16, 16, kernel_size=(3, 3), stride=(1, 1), padding=(1, 1), bias=False)\n",
       "      (bn2): BatchNorm2d(16, eps=1e-05, momentum=0.1, affine=True, track_running_stats=True)\n",
       "    )\n",
       "    (4): Block(\n",
       "      (conv1): Conv2d(16, 16, kernel_size=(3, 3), stride=(1, 1), padding=(1, 1), bias=False)\n",
       "      (bn1): BatchNorm2d(16, eps=1e-05, momentum=0.1, affine=True, track_running_stats=True)\n",
       "      (relu): ReLU(inplace=True)\n",
       "      (conv2): Conv2d(16, 16, kernel_size=(3, 3), stride=(1, 1), padding=(1, 1), bias=False)\n",
       "      (bn2): BatchNorm2d(16, eps=1e-05, momentum=0.1, affine=True, track_running_stats=True)\n",
       "    )\n",
       "  )\n",
       "  (conv16blocks): Sequential(\n",
       "    (0): Block(\n",
       "      (conv1): Conv2d(16, 32, kernel_size=(3, 3), stride=2, padding=(1, 1), bias=False)\n",
       "      (bn1): BatchNorm2d(32, eps=1e-05, momentum=0.1, affine=True, track_running_stats=True)\n",
       "      (relu): ReLU(inplace=True)\n",
       "      (conv2): Conv2d(32, 32, kernel_size=(3, 3), stride=(1, 1), padding=(1, 1), bias=False)\n",
       "      (bn2): BatchNorm2d(32, eps=1e-05, momentum=0.1, affine=True, track_running_stats=True)\n",
       "    )\n",
       "    (1): Block(\n",
       "      (conv1): Conv2d(32, 32, kernel_size=(3, 3), stride=(1, 1), padding=(1, 1), bias=False)\n",
       "      (bn1): BatchNorm2d(32, eps=1e-05, momentum=0.1, affine=True, track_running_stats=True)\n",
       "      (relu): ReLU(inplace=True)\n",
       "      (conv2): Conv2d(32, 32, kernel_size=(3, 3), stride=(1, 1), padding=(1, 1), bias=False)\n",
       "      (bn2): BatchNorm2d(32, eps=1e-05, momentum=0.1, affine=True, track_running_stats=True)\n",
       "    )\n",
       "    (2): Block(\n",
       "      (conv1): Conv2d(32, 32, kernel_size=(3, 3), stride=(1, 1), padding=(1, 1), bias=False)\n",
       "      (bn1): BatchNorm2d(32, eps=1e-05, momentum=0.1, affine=True, track_running_stats=True)\n",
       "      (relu): ReLU(inplace=True)\n",
       "      (conv2): Conv2d(32, 32, kernel_size=(3, 3), stride=(1, 1), padding=(1, 1), bias=False)\n",
       "      (bn2): BatchNorm2d(32, eps=1e-05, momentum=0.1, affine=True, track_running_stats=True)\n",
       "    )\n",
       "    (3): Block(\n",
       "      (conv1): Conv2d(32, 32, kernel_size=(3, 3), stride=(1, 1), padding=(1, 1), bias=False)\n",
       "      (bn1): BatchNorm2d(32, eps=1e-05, momentum=0.1, affine=True, track_running_stats=True)\n",
       "      (relu): ReLU(inplace=True)\n",
       "      (conv2): Conv2d(32, 32, kernel_size=(3, 3), stride=(1, 1), padding=(1, 1), bias=False)\n",
       "      (bn2): BatchNorm2d(32, eps=1e-05, momentum=0.1, affine=True, track_running_stats=True)\n",
       "    )\n",
       "    (4): Block(\n",
       "      (conv1): Conv2d(32, 32, kernel_size=(3, 3), stride=(1, 1), padding=(1, 1), bias=False)\n",
       "      (bn1): BatchNorm2d(32, eps=1e-05, momentum=0.1, affine=True, track_running_stats=True)\n",
       "      (relu): ReLU(inplace=True)\n",
       "      (conv2): Conv2d(32, 32, kernel_size=(3, 3), stride=(1, 1), padding=(1, 1), bias=False)\n",
       "      (bn2): BatchNorm2d(32, eps=1e-05, momentum=0.1, affine=True, track_running_stats=True)\n",
       "    )\n",
       "  )\n",
       "  (conv8blocks): Sequential(\n",
       "    (0): Block(\n",
       "      (conv1): Conv2d(32, 64, kernel_size=(3, 3), stride=2, padding=(1, 1), bias=False)\n",
       "      (bn1): BatchNorm2d(64, eps=1e-05, momentum=0.1, affine=True, track_running_stats=True)\n",
       "      (relu): ReLU(inplace=True)\n",
       "      (conv2): Conv2d(64, 64, kernel_size=(3, 3), stride=(1, 1), padding=(1, 1), bias=False)\n",
       "      (bn2): BatchNorm2d(64, eps=1e-05, momentum=0.1, affine=True, track_running_stats=True)\n",
       "    )\n",
       "    (1): Block(\n",
       "      (conv1): Conv2d(64, 64, kernel_size=(3, 3), stride=(1, 1), padding=(1, 1), bias=False)\n",
       "      (bn1): BatchNorm2d(64, eps=1e-05, momentum=0.1, affine=True, track_running_stats=True)\n",
       "      (relu): ReLU(inplace=True)\n",
       "      (conv2): Conv2d(64, 64, kernel_size=(3, 3), stride=(1, 1), padding=(1, 1), bias=False)\n",
       "      (bn2): BatchNorm2d(64, eps=1e-05, momentum=0.1, affine=True, track_running_stats=True)\n",
       "    )\n",
       "    (2): Block(\n",
       "      (conv1): Conv2d(64, 64, kernel_size=(3, 3), stride=(1, 1), padding=(1, 1), bias=False)\n",
       "      (bn1): BatchNorm2d(64, eps=1e-05, momentum=0.1, affine=True, track_running_stats=True)\n",
       "      (relu): ReLU(inplace=True)\n",
       "      (conv2): Conv2d(64, 64, kernel_size=(3, 3), stride=(1, 1), padding=(1, 1), bias=False)\n",
       "      (bn2): BatchNorm2d(64, eps=1e-05, momentum=0.1, affine=True, track_running_stats=True)\n",
       "    )\n",
       "    (3): Block(\n",
       "      (conv1): Conv2d(64, 64, kernel_size=(3, 3), stride=(1, 1), padding=(1, 1), bias=False)\n",
       "      (bn1): BatchNorm2d(64, eps=1e-05, momentum=0.1, affine=True, track_running_stats=True)\n",
       "      (relu): ReLU(inplace=True)\n",
       "      (conv2): Conv2d(64, 64, kernel_size=(3, 3), stride=(1, 1), padding=(1, 1), bias=False)\n",
       "      (bn2): BatchNorm2d(64, eps=1e-05, momentum=0.1, affine=True, track_running_stats=True)\n",
       "    )\n",
       "    (4): Block(\n",
       "      (conv1): Conv2d(64, 64, kernel_size=(3, 3), stride=(1, 1), padding=(1, 1), bias=False)\n",
       "      (bn1): BatchNorm2d(64, eps=1e-05, momentum=0.1, affine=True, track_running_stats=True)\n",
       "      (relu): ReLU(inplace=True)\n",
       "      (conv2): Conv2d(64, 64, kernel_size=(3, 3), stride=(1, 1), padding=(1, 1), bias=False)\n",
       "      (bn2): BatchNorm2d(64, eps=1e-05, momentum=0.1, affine=True, track_running_stats=True)\n",
       "    )\n",
       "  )\n",
       "  (avgpool): AdaptiveAvgPool2d(output_size=(1, 1))\n",
       "  (fc1): Linear(in_features=64, out_features=10, bias=True)\n",
       ")>"
      ]
     },
     "execution_count": 10,
     "metadata": {},
     "output_type": "execute_result"
    }
   ],
   "source": [
    "model.named_modules"
   ]
  },
  {
   "cell_type": "code",
   "execution_count": 11,
   "metadata": {},
   "outputs": [
    {
     "name": "stdout",
     "output_type": "stream",
     "text": [
      "| module                         | #parameters or shape   | #flops     |\n",
      "|:-------------------------------|:-----------------------|:-----------|\n",
      "| model                          | 0.464M                 | 18.018G    |\n",
      "|  single_conv32block            |  0.464K                |  0.134G    |\n",
      "|   single_conv32block.0         |   0.432K               |   0.113G   |\n",
      "|    single_conv32block.0.weight |    (16, 3, 3, 3)       |            |\n",
      "|   single_conv32block.1         |   32                   |   20.972M  |\n",
      "|    single_conv32block.1.weight |    (16,)               |            |\n",
      "|    single_conv32block.1.bias   |    (16,)               |            |\n",
      "|  conv32blocks                  |  23.36K                |  6.25G     |\n",
      "|   conv32blocks.0               |   4.672K               |   1.25G    |\n",
      "|    conv32blocks.0.conv1        |    2.304K              |    0.604G  |\n",
      "|    conv32blocks.0.bn1          |    32                  |    20.972M |\n",
      "|    conv32blocks.0.conv2        |    2.304K              |    0.604G  |\n",
      "|    conv32blocks.0.bn2          |    32                  |    20.972M |\n",
      "|   conv32blocks.1               |   4.672K               |   1.25G    |\n",
      "|    conv32blocks.1.conv1        |    2.304K              |    0.604G  |\n",
      "|    conv32blocks.1.bn1          |    32                  |    20.972M |\n",
      "|    conv32blocks.1.conv2        |    2.304K              |    0.604G  |\n",
      "|    conv32blocks.1.bn2          |    32                  |    20.972M |\n",
      "|   conv32blocks.2               |   4.672K               |   1.25G    |\n",
      "|    conv32blocks.2.conv1        |    2.304K              |    0.604G  |\n",
      "|    conv32blocks.2.bn1          |    32                  |    20.972M |\n",
      "|    conv32blocks.2.conv2        |    2.304K              |    0.604G  |\n",
      "|    conv32blocks.2.bn2          |    32                  |    20.972M |\n",
      "|   conv32blocks.3               |   4.672K               |   1.25G    |\n",
      "|    conv32blocks.3.conv1        |    2.304K              |    0.604G  |\n",
      "|    conv32blocks.3.bn1          |    32                  |    20.972M |\n",
      "|    conv32blocks.3.conv2        |    2.304K              |    0.604G  |\n",
      "|    conv32blocks.3.bn2          |    32                  |    20.972M |\n",
      "|   conv32blocks.4               |   4.672K               |   1.25G    |\n",
      "|    conv32blocks.4.conv1        |    2.304K              |    0.604G  |\n",
      "|    conv32blocks.4.bn1          |    32                  |    20.972M |\n",
      "|    conv32blocks.4.conv2        |    2.304K              |    0.604G  |\n",
      "|    conv32blocks.4.bn2          |    32                  |    20.972M |\n",
      "|  conv16blocks                  |  88.192K               |  5.843G    |\n",
      "|   conv16blocks.0               |   13.952K              |   0.927G   |\n",
      "|    conv16blocks.0.conv1        |    4.608K              |    0.302G  |\n",
      "|    conv16blocks.0.bn1          |    64                  |    10.486M |\n",
      "|    conv16blocks.0.conv2        |    9.216K              |    0.604G  |\n",
      "|    conv16blocks.0.bn2          |    64                  |    10.486M |\n",
      "|   conv16blocks.1               |   18.56K               |   1.229G   |\n",
      "|    conv16blocks.1.conv1        |    9.216K              |    0.604G  |\n",
      "|    conv16blocks.1.bn1          |    64                  |    10.486M |\n",
      "|    conv16blocks.1.conv2        |    9.216K              |    0.604G  |\n",
      "|    conv16blocks.1.bn2          |    64                  |    10.486M |\n",
      "|   conv16blocks.2               |   18.56K               |   1.229G   |\n",
      "|    conv16blocks.2.conv1        |    9.216K              |    0.604G  |\n",
      "|    conv16blocks.2.bn1          |    64                  |    10.486M |\n",
      "|    conv16blocks.2.conv2        |    9.216K              |    0.604G  |\n",
      "|    conv16blocks.2.bn2          |    64                  |    10.486M |\n",
      "|   conv16blocks.3               |   18.56K               |   1.229G   |\n",
      "|    conv16blocks.3.conv1        |    9.216K              |    0.604G  |\n",
      "|    conv16blocks.3.bn1          |    64                  |    10.486M |\n",
      "|    conv16blocks.3.conv2        |    9.216K              |    0.604G  |\n",
      "|    conv16blocks.3.bn2          |    64                  |    10.486M |\n",
      "|   conv16blocks.4               |   18.56K               |   1.229G   |\n",
      "|    conv16blocks.4.conv1        |    9.216K              |    0.604G  |\n",
      "|    conv16blocks.4.bn1          |    64                  |    10.486M |\n",
      "|    conv16blocks.4.conv2        |    9.216K              |    0.604G  |\n",
      "|    conv16blocks.4.bn2          |    64                  |    10.486M |\n",
      "|  conv8blocks                   |  0.351M                |  5.79G     |\n",
      "|   conv8blocks.0                |   55.552K              |   0.916G   |\n",
      "|    conv8blocks.0.conv1         |    18.432K             |    0.302G  |\n",
      "|    conv8blocks.0.bn1           |    0.128K              |    5.243M  |\n",
      "|    conv8blocks.0.conv2         |    36.864K             |    0.604G  |\n",
      "|    conv8blocks.0.bn2           |    0.128K              |    5.243M  |\n",
      "|   conv8blocks.1                |   73.984K              |   1.218G   |\n",
      "|    conv8blocks.1.conv1         |    36.864K             |    0.604G  |\n",
      "|    conv8blocks.1.bn1           |    0.128K              |    5.243M  |\n",
      "|    conv8blocks.1.conv2         |    36.864K             |    0.604G  |\n",
      "|    conv8blocks.1.bn2           |    0.128K              |    5.243M  |\n",
      "|   conv8blocks.2                |   73.984K              |   1.218G   |\n",
      "|    conv8blocks.2.conv1         |    36.864K             |    0.604G  |\n",
      "|    conv8blocks.2.bn1           |    0.128K              |    5.243M  |\n",
      "|    conv8blocks.2.conv2         |    36.864K             |    0.604G  |\n",
      "|    conv8blocks.2.bn2           |    0.128K              |    5.243M  |\n",
      "|   conv8blocks.3                |   73.984K              |   1.218G   |\n",
      "|    conv8blocks.3.conv1         |    36.864K             |    0.604G  |\n",
      "|    conv8blocks.3.bn1           |    0.128K              |    5.243M  |\n",
      "|    conv8blocks.3.conv2         |    36.864K             |    0.604G  |\n",
      "|    conv8blocks.3.bn2           |    0.128K              |    5.243M  |\n",
      "|   conv8blocks.4                |   73.984K              |   1.218G   |\n",
      "|    conv8blocks.4.conv1         |    36.864K             |    0.604G  |\n",
      "|    conv8blocks.4.bn1           |    0.128K              |    5.243M  |\n",
      "|    conv8blocks.4.conv2         |    36.864K             |    0.604G  |\n",
      "|    conv8blocks.4.bn2           |    0.128K              |    5.243M  |\n",
      "|  fc1                           |  0.65K                 |  0.164M    |\n",
      "|   fc1.weight                   |   (10, 64)             |            |\n",
      "|   fc1.bias                     |   (10,)                |            |\n",
      "|  avgpool                       |                        |  1.049M    |\n"
     ]
    }
   ],
   "source": [
    "tmp_input = torch.rand(BATCH, 3, 32, 32).to(device)\n",
    "flops = FlopCountAnalysis(model, tmp_input)\n",
    "print(flop_count_table(flops))"
   ]
  },
  {
   "cell_type": "markdown",
   "metadata": {},
   "source": [
    "# Define Training"
   ]
  },
  {
   "cell_type": "markdown",
   "metadata": {},
   "source": [
    "## (1) Define Criterion"
   ]
  },
  {
   "cell_type": "code",
   "execution_count": 12,
   "metadata": {},
   "outputs": [],
   "source": [
    "criterion = nn.CrossEntropyLoss()"
   ]
  },
  {
   "cell_type": "markdown",
   "metadata": {},
   "source": [
    "## (2) Define Optimazer"
   ]
  },
  {
   "cell_type": "code",
   "execution_count": 13,
   "metadata": {},
   "outputs": [],
   "source": [
    "if OPTIMIZER == \"Adam\":\n",
    "    optimizer = torch.optim.Adam(model.parameters())\n",
    "elif OPTIMIZER == \"Adam_decay\":\n",
    "    optimizer = torch.optim.Adam(model.parameters(), weight_decay=1e-4)\n",
    "elif OPTIMIZER == \"SGD\":\n",
    "    optimizer = torch.optim.SGD(\n",
    "        model.parameters(), lr=0.1, momentum=0.9, weight_decay=0.0001\n",
    "    )"
   ]
  },
  {
   "cell_type": "markdown",
   "metadata": {},
   "source": [
    "## (3) Define Early Stopping"
   ]
  },
  {
   "cell_type": "code",
   "execution_count": 14,
   "metadata": {},
   "outputs": [],
   "source": [
    "class EarlyStopper:\n",
    "    def __init__(self, patience, model, file_path):\n",
    "        self.best_eval_loss = float(\"inf\")\n",
    "        self.early_stop_counter = 0\n",
    "        self.PATIENCE = patience\n",
    "        self.file_path = file_path\n",
    "        self.model = model\n",
    "        pass\n",
    "\n",
    "    def check(self, eval_loss):\n",
    "        if eval_loss < self.best_eval_loss:\n",
    "            self.best_eval_loss = eval_loss\n",
    "            self.early_stop_counter = 0\n",
    "            print(\"updated best eval loss :\", self.best_eval_loss)\n",
    "            torch.save(self.model.state_dict(), \"models/\" + self.file_path + \".pth\")\n",
    "            return False\n",
    "        else:\n",
    "            self.early_stop_counter += 1\n",
    "            if self.early_stop_counter >= self.PATIENCE:\n",
    "                print(f\"Early stop!! best_eval_loss = {self.best_eval_loss}\")\n",
    "                return True\n",
    "                \n",
    "    def state_dict(self):\n",
    "        return {\"best_eval_loss\": self.best_eval_loss, \"early_stop_counter\": self.early_stop_counter}\n",
    "    \n",
    "    def load_state_dict(self, state_dict):\n",
    "        self.best_eval_loss = state_dict[\"best_eval_loss\"]\n",
    "        self.early_stop_counter = state_dict[\"early_stop_counter\"]\n",
    "        \n",
    "        return\n",
    "    \n",
    "earlystopper = EarlyStopper(EARLYSTOPPINGPATIENCE, model, file_path)"
   ]
  },
  {
   "cell_type": "markdown",
   "metadata": {},
   "source": [
    "## (4) Define Learning Rate schedualer"
   ]
  },
  {
   "cell_type": "code",
   "execution_count": 15,
   "metadata": {},
   "outputs": [],
   "source": [
    "scheduler_mapping = {\"CIFAR10\": 1000, \"CIFAR100\": 1000, \"ImageNet2012\": 30}\n",
    "\n",
    "scheduler = ReduceLROnPlateau(\n",
    "    optimizer,\n",
    "    mode=\"min\",\n",
    "    patience=scheduler_mapping[DATASET],\n",
    "    factor=0.1,\n",
    "    verbose=True,\n",
    "    threshold=1e-4,\n",
    "    cooldown=100\n",
    ")"
   ]
  },
  {
   "cell_type": "markdown",
   "metadata": {},
   "source": [
    "## (5) Define AMP scaler"
   ]
  },
  {
   "cell_type": "code",
   "execution_count": 16,
   "metadata": {},
   "outputs": [],
   "source": [
    "scaler = torch.cuda.amp.GradScaler(enabled=True)"
   ]
  },
  {
   "cell_type": "markdown",
   "metadata": {},
   "source": [
    "## Load before process"
   ]
  },
  {
   "cell_type": "code",
   "execution_count": 17,
   "metadata": {},
   "outputs": [
    {
     "name": "stdout",
     "output_type": "stream",
     "text": [
      "Suceessfully loaded the All setting and Log file.\n",
      "CIFAR10/MyResNet32_256_SGD_90\n",
      "Current epoch is 343\n",
      "Current learning rate: 0.1\n"
     ]
    }
   ],
   "source": [
    "scaler = torch.cuda.amp.GradScaler(enabled=True)\n",
    "\n",
    "if LOAD_BEFORE_TRAINING == True and os.path.exists(\"logs/\" + file_path + \".pth.tar\"):\n",
    "    # Read checkpoint as desired, e.g.,\n",
    "    checkpoint = torch.load(\n",
    "        \"logs/\" + file_path + \".pth.tar\",\n",
    "        map_location=lambda storage, loc: storage.cuda(device),\n",
    "    )\n",
    "    model.load_state_dict(checkpoint[\"model\"])\n",
    "    optimizer.load_state_dict(checkpoint[\"optimizer\"])\n",
    "    scaler.load_state_dict(checkpoint[\"scaler\"])\n",
    "    scheduler.load_state_dict(checkpoint[\"scheduler\"])\n",
    "    earlystopper.load_state_dict(checkpoint[\"earlystopper\"])\n",
    "    logs = checkpoint[\"logs\"]\n",
    "\n",
    "    print(\"Suceessfully loaded the All setting and Log file.\")\n",
    "    print(file_path)\n",
    "    print(f\"Current epoch is {len(logs['train_loss'])}\")\n",
    "    print(f\"Current learning rate: {optimizer.param_groups[0]['lr']}\")\n",
    "else:\n",
    "    # Create a dictionary to store the variables\n",
    "    train_loss = []\n",
    "    train_acc = []\n",
    "    eval_loss = []\n",
    "    valid_acc = []\n",
    "    test_loss = []\n",
    "    test_acc = []\n",
    "    lr_log = []\n",
    "    logs = {\n",
    "        \"train_loss\": train_loss,\n",
    "        \"train_acc\": train_acc,\n",
    "        \"valid_loss\": eval_loss,\n",
    "        \"valid_acc\": valid_acc,\n",
    "        \"test_loss\": test_loss,\n",
    "        \"test_acc\": test_acc,\n",
    "        \"lr_log\": lr_log,\n",
    "    }\n",
    "    print(\"File does not exist. Created a new log.\")"
   ]
  },
  {
   "cell_type": "code",
   "execution_count": 18,
   "metadata": {},
   "outputs": [
    {
     "data": {
      "text/plain": [
       "0.1"
      ]
     },
     "execution_count": 18,
     "metadata": {},
     "output_type": "execute_result"
    }
   ],
   "source": [
    "optimizer.param_groups[0][\"lr\"]"
   ]
  },
  {
   "cell_type": "markdown",
   "metadata": {},
   "source": [
    "# [Training Loop]"
   ]
  },
  {
   "cell_type": "code",
   "execution_count": 19,
   "metadata": {},
   "outputs": [
    {
     "name": "stdout",
     "output_type": "stream",
     "text": [
      "[Epoch 344/100000] :\n"
     ]
    },
    {
     "name": "stderr",
     "output_type": "stream",
     "text": [
      "100%|██████████| 176/176 [00:15<00:00, 11.20it/s]"
     ]
    },
    {
     "name": "stdout",
     "output_type": "stream",
     "text": [
      "Train Loss: 0.0025 | Train Acc: 81.50%\n"
     ]
    },
    {
     "name": "stderr",
     "output_type": "stream",
     "text": [
      "\n"
     ]
    },
    {
     "name": "stdout",
     "output_type": "stream",
     "text": [
      "Valid Loss: 0.4912 | Valid Acc: 82.64%\n",
      "Test  Loss: 0.4328 | Test Acc: 86.52%\n",
      "updated best eval loss : 0.4911764428019524\n",
      "--------------------------------------------------\n",
      "[Epoch 345/100000] :\n"
     ]
    },
    {
     "name": "stderr",
     "output_type": "stream",
     "text": [
      "100%|██████████| 176/176 [00:14<00:00, 12.15it/s]\n"
     ]
    },
    {
     "name": "stdout",
     "output_type": "stream",
     "text": [
      "Train Loss: 0.0019 | Train Acc: 88.50%\n",
      "Valid Loss: 0.4790 | Valid Acc: 83.32%\n",
      "Test  Loss: 0.3631 | Test Acc: 88.33%\n",
      "updated best eval loss : 0.4789931133389473\n",
      "--------------------------------------------------\n",
      "[Epoch 346/100000] :\n"
     ]
    },
    {
     "name": "stderr",
     "output_type": "stream",
     "text": [
      "100%|██████████| 176/176 [00:14<00:00, 12.07it/s]\n"
     ]
    },
    {
     "name": "stdout",
     "output_type": "stream",
     "text": [
      "Train Loss: 0.0028 | Train Acc: 83.00%\n",
      "Valid Loss: 0.5146 | Valid Acc: 82.08%\n",
      "Test  Loss: 0.3900 | Test Acc: 87.88%\n",
      "--------------------------------------------------\n",
      "[Epoch 347/100000] :\n"
     ]
    },
    {
     "name": "stderr",
     "output_type": "stream",
     "text": [
      "100%|██████████| 176/176 [00:14<00:00, 11.78it/s]\n"
     ]
    },
    {
     "name": "stdout",
     "output_type": "stream",
     "text": [
      "Train Loss: 0.0027 | Train Acc: 81.00%\n",
      "Valid Loss: 0.5509 | Valid Acc: 80.46%\n",
      "Test  Loss: 0.4112 | Test Acc: 86.81%\n",
      "--------------------------------------------------\n",
      "[Epoch 348/100000] :\n"
     ]
    },
    {
     "name": "stderr",
     "output_type": "stream",
     "text": [
      "100%|██████████| 176/176 [00:15<00:00, 11.69it/s]\n"
     ]
    },
    {
     "name": "stdout",
     "output_type": "stream",
     "text": [
      "Train Loss: 0.0023 | Train Acc: 86.50%\n",
      "Valid Loss: 0.5737 | Valid Acc: 80.06%\n",
      "Test  Loss: 0.3305 | Test Acc: 89.37%\n",
      "--------------------------------------------------\n",
      "[Epoch 349/100000] :\n"
     ]
    },
    {
     "name": "stderr",
     "output_type": "stream",
     "text": [
      "100%|██████████| 176/176 [00:14<00:00, 11.80it/s]\n"
     ]
    },
    {
     "name": "stdout",
     "output_type": "stream",
     "text": [
      "Train Loss: 0.0024 | Train Acc: 84.50%\n",
      "Valid Loss: 0.4777 | Valid Acc: 83.30%\n",
      "Test  Loss: 0.3048 | Test Acc: 90.63%\n",
      "updated best eval loss : 0.47765008807182313\n",
      "--------------------------------------------------\n",
      "[Epoch 350/100000] :\n"
     ]
    },
    {
     "name": "stderr",
     "output_type": "stream",
     "text": [
      "100%|██████████| 176/176 [00:14<00:00, 11.80it/s]\n"
     ]
    },
    {
     "name": "stdout",
     "output_type": "stream",
     "text": [
      "Train Loss: 0.0028 | Train Acc: 81.00%\n",
      "Valid Loss: 0.5881 | Valid Acc: 79.94%\n",
      "Test  Loss: 0.3865 | Test Acc: 88.00%\n",
      "--------------------------------------------------\n",
      "[Epoch 351/100000] :\n"
     ]
    },
    {
     "name": "stderr",
     "output_type": "stream",
     "text": [
      "100%|██████████| 176/176 [00:15<00:00, 11.54it/s]\n"
     ]
    },
    {
     "name": "stdout",
     "output_type": "stream",
     "text": [
      "Train Loss: 0.0022 | Train Acc: 89.00%\n",
      "Valid Loss: 0.4776 | Valid Acc: 82.46%\n",
      "Test  Loss: 0.3256 | Test Acc: 89.54%\n",
      "updated best eval loss : 0.47764038294553757\n",
      "--------------------------------------------------\n",
      "[Epoch 352/100000] :\n"
     ]
    },
    {
     "name": "stderr",
     "output_type": "stream",
     "text": [
      "100%|██████████| 176/176 [00:15<00:00, 11.42it/s]\n"
     ]
    },
    {
     "name": "stdout",
     "output_type": "stream",
     "text": [
      "Train Loss: 0.0025 | Train Acc: 86.00%\n",
      "Valid Loss: 0.5032 | Valid Acc: 82.80%\n",
      "Test  Loss: 0.3703 | Test Acc: 88.49%\n",
      "--------------------------------------------------\n",
      "[Epoch 353/100000] :\n"
     ]
    },
    {
     "name": "stderr",
     "output_type": "stream",
     "text": [
      "100%|██████████| 176/176 [00:15<00:00, 11.55it/s]\n"
     ]
    },
    {
     "name": "stdout",
     "output_type": "stream",
     "text": [
      "Train Loss: 0.0021 | Train Acc: 88.00%\n",
      "Valid Loss: 0.5161 | Valid Acc: 82.40%\n",
      "Test  Loss: 0.3658 | Test Acc: 88.49%\n",
      "--------------------------------------------------\n",
      "[Epoch 354/100000] :\n"
     ]
    },
    {
     "name": "stderr",
     "output_type": "stream",
     "text": [
      "100%|██████████| 176/176 [00:14<00:00, 11.89it/s]\n"
     ]
    },
    {
     "name": "stdout",
     "output_type": "stream",
     "text": [
      "Train Loss: 0.0025 | Train Acc: 84.50%\n",
      "Valid Loss: 0.4984 | Valid Acc: 82.54%\n",
      "Test  Loss: 0.3264 | Test Acc: 89.24%\n",
      "--------------------------------------------------\n",
      "[Epoch 355/100000] :\n"
     ]
    },
    {
     "name": "stderr",
     "output_type": "stream",
     "text": [
      "100%|██████████| 176/176 [00:14<00:00, 12.18it/s]\n"
     ]
    },
    {
     "name": "stdout",
     "output_type": "stream",
     "text": [
      "Train Loss: 0.0018 | Train Acc: 90.50%\n",
      "Valid Loss: 0.5325 | Valid Acc: 81.64%\n",
      "Test  Loss: 0.3277 | Test Acc: 89.18%\n",
      "--------------------------------------------------\n",
      "[Epoch 356/100000] :\n"
     ]
    },
    {
     "name": "stderr",
     "output_type": "stream",
     "text": [
      "100%|██████████| 176/176 [00:14<00:00, 11.84it/s]\n"
     ]
    },
    {
     "name": "stdout",
     "output_type": "stream",
     "text": [
      "Train Loss: 0.0029 | Train Acc: 81.00%\n",
      "Valid Loss: 0.5755 | Valid Acc: 80.32%\n",
      "Test  Loss: 0.3760 | Test Acc: 87.73%\n",
      "--------------------------------------------------\n",
      "[Epoch 357/100000] :\n"
     ]
    },
    {
     "name": "stderr",
     "output_type": "stream",
     "text": [
      "100%|██████████| 176/176 [00:15<00:00, 11.51it/s]\n"
     ]
    },
    {
     "name": "stdout",
     "output_type": "stream",
     "text": [
      "Train Loss: 0.0024 | Train Acc: 83.50%\n",
      "Valid Loss: 0.5150 | Valid Acc: 82.18%\n",
      "Test  Loss: 0.3813 | Test Acc: 87.50%\n",
      "--------------------------------------------------\n",
      "[Epoch 358/100000] :\n"
     ]
    },
    {
     "name": "stderr",
     "output_type": "stream",
     "text": [
      "100%|██████████| 176/176 [00:15<00:00, 11.65it/s]\n"
     ]
    },
    {
     "name": "stdout",
     "output_type": "stream",
     "text": [
      "Train Loss: 0.0022 | Train Acc: 87.50%\n",
      "Valid Loss: 0.5016 | Valid Acc: 82.14%\n",
      "Test  Loss: 0.3249 | Test Acc: 89.92%\n",
      "--------------------------------------------------\n",
      "[Epoch 359/100000] :\n"
     ]
    },
    {
     "name": "stderr",
     "output_type": "stream",
     "text": [
      "100%|██████████| 176/176 [00:14<00:00, 11.91it/s]\n"
     ]
    },
    {
     "name": "stdout",
     "output_type": "stream",
     "text": [
      "Train Loss: 0.0026 | Train Acc: 83.50%\n",
      "Valid Loss: 0.5635 | Valid Acc: 80.78%\n",
      "Test  Loss: 0.3515 | Test Acc: 88.55%\n",
      "--------------------------------------------------\n",
      "[Epoch 360/100000] :\n"
     ]
    },
    {
     "name": "stderr",
     "output_type": "stream",
     "text": [
      "100%|██████████| 176/176 [00:15<00:00, 11.56it/s]\n"
     ]
    },
    {
     "name": "stdout",
     "output_type": "stream",
     "text": [
      "Train Loss: 0.0023 | Train Acc: 85.50%\n",
      "Valid Loss: 0.5403 | Valid Acc: 82.46%\n",
      "Test  Loss: 0.3219 | Test Acc: 89.45%\n",
      "--------------------------------------------------\n",
      "[Epoch 361/100000] :\n"
     ]
    },
    {
     "name": "stderr",
     "output_type": "stream",
     "text": [
      "100%|██████████| 176/176 [00:15<00:00, 11.55it/s]\n"
     ]
    },
    {
     "name": "stdout",
     "output_type": "stream",
     "text": [
      "Train Loss: 0.0023 | Train Acc: 85.50%\n",
      "Valid Loss: 0.4966 | Valid Acc: 82.72%\n",
      "Test  Loss: 0.3451 | Test Acc: 88.79%\n",
      "--------------------------------------------------\n",
      "[Epoch 362/100000] :\n"
     ]
    },
    {
     "name": "stderr",
     "output_type": "stream",
     "text": [
      "100%|██████████| 176/176 [00:14<00:00, 12.09it/s]\n"
     ]
    },
    {
     "name": "stdout",
     "output_type": "stream",
     "text": [
      "Train Loss: 0.0018 | Train Acc: 90.50%\n",
      "Valid Loss: 0.5733 | Valid Acc: 80.36%\n",
      "Test  Loss: 0.3365 | Test Acc: 89.06%\n",
      "--------------------------------------------------\n",
      "[Epoch 363/100000] :\n"
     ]
    },
    {
     "name": "stderr",
     "output_type": "stream",
     "text": [
      "100%|██████████| 176/176 [00:14<00:00, 11.83it/s]\n"
     ]
    },
    {
     "name": "stdout",
     "output_type": "stream",
     "text": [
      "Train Loss: 0.0026 | Train Acc: 85.50%\n",
      "Valid Loss: 0.5621 | Valid Acc: 80.30%\n",
      "Test  Loss: 0.3318 | Test Acc: 88.92%\n",
      "--------------------------------------------------\n",
      "[Epoch 364/100000] :\n"
     ]
    },
    {
     "name": "stderr",
     "output_type": "stream",
     "text": [
      "100%|██████████| 176/176 [00:14<00:00, 11.76it/s]\n"
     ]
    },
    {
     "name": "stdout",
     "output_type": "stream",
     "text": [
      "Train Loss: 0.0019 | Train Acc: 88.00%\n",
      "Valid Loss: 0.5740 | Valid Acc: 80.24%\n",
      "Test  Loss: 0.4083 | Test Acc: 87.19%\n",
      "--------------------------------------------------\n",
      "[Epoch 365/100000] :\n"
     ]
    },
    {
     "name": "stderr",
     "output_type": "stream",
     "text": [
      "100%|██████████| 176/176 [00:14<00:00, 12.03it/s]\n"
     ]
    },
    {
     "name": "stdout",
     "output_type": "stream",
     "text": [
      "Train Loss: 0.0027 | Train Acc: 82.50%\n",
      "Valid Loss: 0.5633 | Valid Acc: 80.26%\n",
      "Test  Loss: 0.3502 | Test Acc: 89.33%\n",
      "--------------------------------------------------\n",
      "[Epoch 366/100000] :\n"
     ]
    },
    {
     "name": "stderr",
     "output_type": "stream",
     "text": [
      "100%|██████████| 176/176 [00:15<00:00, 11.47it/s]\n"
     ]
    },
    {
     "name": "stdout",
     "output_type": "stream",
     "text": [
      "Train Loss: 0.0024 | Train Acc: 85.50%\n",
      "Valid Loss: 0.5423 | Valid Acc: 81.08%\n",
      "Test  Loss: 0.3667 | Test Acc: 87.69%\n",
      "--------------------------------------------------\n",
      "[Epoch 367/100000] :\n"
     ]
    },
    {
     "name": "stderr",
     "output_type": "stream",
     "text": [
      "100%|██████████| 176/176 [00:15<00:00, 11.65it/s]\n"
     ]
    },
    {
     "name": "stdout",
     "output_type": "stream",
     "text": [
      "Train Loss: 0.0022 | Train Acc: 87.50%\n",
      "Valid Loss: 0.5891 | Valid Acc: 80.00%\n",
      "Test  Loss: 0.3266 | Test Acc: 89.26%\n",
      "--------------------------------------------------\n",
      "[Epoch 368/100000] :\n"
     ]
    },
    {
     "name": "stderr",
     "output_type": "stream",
     "text": [
      "100%|██████████| 176/176 [00:14<00:00, 11.97it/s]\n"
     ]
    },
    {
     "name": "stdout",
     "output_type": "stream",
     "text": [
      "Train Loss: 0.0022 | Train Acc: 83.50%\n",
      "Valid Loss: 0.5363 | Valid Acc: 81.24%\n",
      "Test  Loss: 0.3230 | Test Acc: 89.13%\n",
      "--------------------------------------------------\n",
      "[Epoch 369/100000] :\n"
     ]
    },
    {
     "name": "stderr",
     "output_type": "stream",
     "text": [
      "100%|██████████| 176/176 [00:14<00:00, 11.85it/s]\n"
     ]
    },
    {
     "name": "stdout",
     "output_type": "stream",
     "text": [
      "Train Loss: 0.0023 | Train Acc: 84.50%\n",
      "Valid Loss: 0.5001 | Valid Acc: 82.52%\n",
      "Test  Loss: 0.3189 | Test Acc: 89.56%\n",
      "--------------------------------------------------\n",
      "[Epoch 370/100000] :\n"
     ]
    },
    {
     "name": "stderr",
     "output_type": "stream",
     "text": [
      "100%|██████████| 176/176 [00:14<00:00, 12.02it/s]\n"
     ]
    },
    {
     "name": "stdout",
     "output_type": "stream",
     "text": [
      "Train Loss: 0.0025 | Train Acc: 86.50%\n",
      "Valid Loss: 0.6129 | Valid Acc: 79.34%\n",
      "Test  Loss: 0.3601 | Test Acc: 89.03%\n",
      "--------------------------------------------------\n",
      "[Epoch 371/100000] :\n"
     ]
    },
    {
     "name": "stderr",
     "output_type": "stream",
     "text": [
      "100%|██████████| 176/176 [00:15<00:00, 11.62it/s]\n"
     ]
    },
    {
     "name": "stdout",
     "output_type": "stream",
     "text": [
      "Train Loss: 0.0018 | Train Acc: 88.00%\n",
      "Valid Loss: 0.5411 | Valid Acc: 81.24%\n",
      "Test  Loss: 0.3559 | Test Acc: 88.78%\n",
      "--------------------------------------------------\n",
      "[Epoch 372/100000] :\n"
     ]
    },
    {
     "name": "stderr",
     "output_type": "stream",
     "text": [
      "100%|██████████| 176/176 [00:14<00:00, 12.26it/s]\n"
     ]
    },
    {
     "name": "stdout",
     "output_type": "stream",
     "text": [
      "Train Loss: 0.0033 | Train Acc: 84.00%\n",
      "Valid Loss: 0.5097 | Valid Acc: 82.76%\n",
      "Test  Loss: 0.3208 | Test Acc: 89.78%\n",
      "--------------------------------------------------\n",
      "[Epoch 373/100000] :\n"
     ]
    },
    {
     "name": "stderr",
     "output_type": "stream",
     "text": [
      "100%|██████████| 176/176 [00:14<00:00, 11.74it/s]\n"
     ]
    },
    {
     "name": "stdout",
     "output_type": "stream",
     "text": [
      "Train Loss: 0.0023 | Train Acc: 85.00%\n",
      "Valid Loss: 0.5701 | Valid Acc: 80.12%\n",
      "Test  Loss: 0.3597 | Test Acc: 88.01%\n",
      "--------------------------------------------------\n",
      "[Epoch 374/100000] :\n"
     ]
    },
    {
     "name": "stderr",
     "output_type": "stream",
     "text": [
      "100%|██████████| 176/176 [00:14<00:00, 11.78it/s]\n"
     ]
    },
    {
     "name": "stdout",
     "output_type": "stream",
     "text": [
      "Train Loss: 0.0029 | Train Acc: 82.00%\n",
      "Valid Loss: 0.6273 | Valid Acc: 79.44%\n",
      "Test  Loss: 0.3920 | Test Acc: 87.64%\n",
      "--------------------------------------------------\n",
      "[Epoch 375/100000] :\n"
     ]
    },
    {
     "name": "stderr",
     "output_type": "stream",
     "text": [
      "100%|██████████| 176/176 [00:15<00:00, 11.73it/s]\n"
     ]
    },
    {
     "name": "stdout",
     "output_type": "stream",
     "text": [
      "Train Loss: 0.0019 | Train Acc: 90.50%\n",
      "Valid Loss: 0.5591 | Valid Acc: 80.76%\n",
      "Test  Loss: 0.3473 | Test Acc: 88.50%\n",
      "--------------------------------------------------\n",
      "[Epoch 376/100000] :\n"
     ]
    },
    {
     "name": "stderr",
     "output_type": "stream",
     "text": [
      "100%|██████████| 176/176 [00:14<00:00, 12.02it/s]\n"
     ]
    },
    {
     "name": "stdout",
     "output_type": "stream",
     "text": [
      "Train Loss: 0.0025 | Train Acc: 82.50%\n",
      "Valid Loss: 0.5260 | Valid Acc: 82.24%\n",
      "Test  Loss: 0.3132 | Test Acc: 89.93%\n",
      "--------------------------------------------------\n",
      "[Epoch 377/100000] :\n"
     ]
    },
    {
     "name": "stderr",
     "output_type": "stream",
     "text": [
      "100%|██████████| 176/176 [00:14<00:00, 12.09it/s]\n"
     ]
    },
    {
     "name": "stdout",
     "output_type": "stream",
     "text": [
      "Train Loss: 0.0027 | Train Acc: 83.50%\n",
      "Valid Loss: 0.6301 | Valid Acc: 79.10%\n",
      "Test  Loss: 0.3627 | Test Acc: 88.51%\n",
      "--------------------------------------------------\n",
      "[Epoch 378/100000] :\n"
     ]
    },
    {
     "name": "stderr",
     "output_type": "stream",
     "text": [
      "100%|██████████| 176/176 [00:14<00:00, 11.88it/s]\n"
     ]
    },
    {
     "name": "stdout",
     "output_type": "stream",
     "text": [
      "Train Loss: 0.0030 | Train Acc: 82.50%\n",
      "Valid Loss: 0.5545 | Valid Acc: 81.18%\n",
      "Test  Loss: 0.3652 | Test Acc: 88.38%\n",
      "--------------------------------------------------\n",
      "[Epoch 379/100000] :\n"
     ]
    },
    {
     "name": "stderr",
     "output_type": "stream",
     "text": [
      "100%|██████████| 176/176 [00:14<00:00, 11.98it/s]\n"
     ]
    },
    {
     "name": "stdout",
     "output_type": "stream",
     "text": [
      "Train Loss: 0.0022 | Train Acc: 86.50%\n",
      "Valid Loss: 0.5657 | Valid Acc: 80.82%\n",
      "Test  Loss: 0.3892 | Test Acc: 87.92%\n",
      "--------------------------------------------------\n",
      "[Epoch 380/100000] :\n"
     ]
    },
    {
     "name": "stderr",
     "output_type": "stream",
     "text": [
      "100%|██████████| 176/176 [00:15<00:00, 11.69it/s]\n"
     ]
    },
    {
     "name": "stdout",
     "output_type": "stream",
     "text": [
      "Train Loss: 0.0019 | Train Acc: 89.50%\n",
      "Valid Loss: 0.5695 | Valid Acc: 80.92%\n",
      "Test  Loss: 0.3591 | Test Acc: 88.38%\n",
      "--------------------------------------------------\n",
      "[Epoch 381/100000] :\n"
     ]
    },
    {
     "name": "stderr",
     "output_type": "stream",
     "text": [
      "100%|██████████| 176/176 [00:15<00:00, 11.54it/s]\n"
     ]
    },
    {
     "name": "stdout",
     "output_type": "stream",
     "text": [
      "Train Loss: 0.0023 | Train Acc: 86.00%\n",
      "Valid Loss: 0.5277 | Valid Acc: 81.78%\n",
      "Test  Loss: 0.3933 | Test Acc: 87.73%\n",
      "--------------------------------------------------\n",
      "[Epoch 382/100000] :\n"
     ]
    },
    {
     "name": "stderr",
     "output_type": "stream",
     "text": [
      "100%|██████████| 176/176 [00:14<00:00, 12.15it/s]\n"
     ]
    },
    {
     "name": "stdout",
     "output_type": "stream",
     "text": [
      "Train Loss: 0.0025 | Train Acc: 82.50%\n",
      "Valid Loss: 0.5219 | Valid Acc: 82.18%\n",
      "Test  Loss: 0.3640 | Test Acc: 88.45%\n",
      "--------------------------------------------------\n",
      "[Epoch 383/100000] :\n"
     ]
    },
    {
     "name": "stderr",
     "output_type": "stream",
     "text": [
      "100%|██████████| 176/176 [00:14<00:00, 12.09it/s]\n"
     ]
    },
    {
     "name": "stdout",
     "output_type": "stream",
     "text": [
      "Train Loss: 0.0026 | Train Acc: 85.00%\n",
      "Valid Loss: 0.5744 | Valid Acc: 80.60%\n",
      "Test  Loss: 0.4502 | Test Acc: 85.99%\n",
      "--------------------------------------------------\n",
      "[Epoch 384/100000] :\n"
     ]
    },
    {
     "name": "stderr",
     "output_type": "stream",
     "text": [
      "100%|██████████| 176/176 [00:14<00:00, 11.74it/s]\n"
     ]
    },
    {
     "name": "stdout",
     "output_type": "stream",
     "text": [
      "Train Loss: 0.0024 | Train Acc: 83.50%\n",
      "Valid Loss: 0.5408 | Valid Acc: 81.42%\n",
      "Test  Loss: 0.3379 | Test Acc: 89.27%\n",
      "--------------------------------------------------\n",
      "[Epoch 385/100000] :\n"
     ]
    },
    {
     "name": "stderr",
     "output_type": "stream",
     "text": [
      "100%|██████████| 176/176 [00:14<00:00, 11.91it/s]\n"
     ]
    },
    {
     "name": "stdout",
     "output_type": "stream",
     "text": [
      "Train Loss: 0.0026 | Train Acc: 85.50%\n",
      "Valid Loss: 0.5375 | Valid Acc: 81.34%\n",
      "Test  Loss: 0.3259 | Test Acc: 89.46%\n",
      "--------------------------------------------------\n",
      "[Epoch 386/100000] :\n"
     ]
    },
    {
     "name": "stderr",
     "output_type": "stream",
     "text": [
      "100%|██████████| 176/176 [00:15<00:00, 11.63it/s]\n"
     ]
    },
    {
     "name": "stdout",
     "output_type": "stream",
     "text": [
      "Train Loss: 0.0019 | Train Acc: 90.50%\n",
      "Valid Loss: 0.5134 | Valid Acc: 82.14%\n",
      "Test  Loss: 0.3215 | Test Acc: 89.28%\n",
      "--------------------------------------------------\n",
      "[Epoch 387/100000] :\n"
     ]
    },
    {
     "name": "stderr",
     "output_type": "stream",
     "text": [
      "100%|██████████| 176/176 [00:14<00:00, 11.80it/s]\n"
     ]
    },
    {
     "name": "stdout",
     "output_type": "stream",
     "text": [
      "Train Loss: 0.0017 | Train Acc: 89.50%\n",
      "Valid Loss: 0.5593 | Valid Acc: 80.98%\n",
      "Test  Loss: 0.3270 | Test Acc: 89.74%\n",
      "--------------------------------------------------\n",
      "[Epoch 388/100000] :\n"
     ]
    },
    {
     "name": "stderr",
     "output_type": "stream",
     "text": [
      "100%|██████████| 176/176 [00:14<00:00, 11.84it/s]\n"
     ]
    },
    {
     "name": "stdout",
     "output_type": "stream",
     "text": [
      "Train Loss: 0.0028 | Train Acc: 85.00%\n",
      "Valid Loss: 0.5570 | Valid Acc: 80.68%\n",
      "Test  Loss: 0.3411 | Test Acc: 89.03%\n",
      "--------------------------------------------------\n",
      "[Epoch 389/100000] :\n"
     ]
    },
    {
     "name": "stderr",
     "output_type": "stream",
     "text": [
      "100%|██████████| 176/176 [00:14<00:00, 11.80it/s]\n"
     ]
    },
    {
     "name": "stdout",
     "output_type": "stream",
     "text": [
      "Train Loss: 0.0028 | Train Acc: 83.50%\n",
      "Valid Loss: 0.5891 | Valid Acc: 80.38%\n",
      "Test  Loss: 0.3778 | Test Acc: 88.05%\n",
      "--------------------------------------------------\n",
      "[Epoch 390/100000] :\n"
     ]
    },
    {
     "name": "stderr",
     "output_type": "stream",
     "text": [
      "100%|██████████| 176/176 [00:15<00:00, 11.62it/s]\n"
     ]
    },
    {
     "name": "stdout",
     "output_type": "stream",
     "text": [
      "Train Loss: 0.0028 | Train Acc: 83.00%\n",
      "Valid Loss: 0.4776 | Valid Acc: 83.58%\n",
      "Test  Loss: 0.3059 | Test Acc: 89.76%\n",
      "updated best eval loss : 0.47757445871829984\n",
      "--------------------------------------------------\n",
      "[Epoch 391/100000] :\n"
     ]
    },
    {
     "name": "stderr",
     "output_type": "stream",
     "text": [
      "100%|██████████| 176/176 [00:14<00:00, 11.78it/s]\n"
     ]
    },
    {
     "name": "stdout",
     "output_type": "stream",
     "text": [
      "Train Loss: 0.0026 | Train Acc: 85.50%\n",
      "Valid Loss: 0.5827 | Valid Acc: 80.62%\n",
      "Test  Loss: 0.3628 | Test Acc: 88.71%\n",
      "--------------------------------------------------\n",
      "[Epoch 392/100000] :\n"
     ]
    },
    {
     "name": "stderr",
     "output_type": "stream",
     "text": [
      "100%|██████████| 176/176 [00:14<00:00, 11.87it/s]\n"
     ]
    },
    {
     "name": "stdout",
     "output_type": "stream",
     "text": [
      "Train Loss: 0.0022 | Train Acc: 86.50%\n",
      "Valid Loss: 0.6419 | Valid Acc: 78.28%\n",
      "Test  Loss: 0.3689 | Test Acc: 87.79%\n",
      "--------------------------------------------------\n",
      "[Epoch 393/100000] :\n"
     ]
    },
    {
     "name": "stderr",
     "output_type": "stream",
     "text": [
      "100%|██████████| 176/176 [00:14<00:00, 11.90it/s]\n"
     ]
    },
    {
     "name": "stdout",
     "output_type": "stream",
     "text": [
      "Train Loss: 0.0019 | Train Acc: 87.50%\n",
      "Valid Loss: 0.6392 | Valid Acc: 78.86%\n",
      "Test  Loss: 0.3556 | Test Acc: 88.89%\n",
      "--------------------------------------------------\n",
      "[Epoch 394/100000] :\n"
     ]
    },
    {
     "name": "stderr",
     "output_type": "stream",
     "text": [
      "100%|██████████| 176/176 [00:15<00:00, 11.43it/s]\n"
     ]
    },
    {
     "name": "stdout",
     "output_type": "stream",
     "text": [
      "Train Loss: 0.0022 | Train Acc: 89.00%\n",
      "Valid Loss: 0.5395 | Valid Acc: 81.70%\n",
      "Test  Loss: 0.3107 | Test Acc: 89.37%\n",
      "--------------------------------------------------\n",
      "[Epoch 395/100000] :\n"
     ]
    },
    {
     "name": "stderr",
     "output_type": "stream",
     "text": [
      "100%|██████████| 176/176 [00:14<00:00, 11.88it/s]\n"
     ]
    },
    {
     "name": "stdout",
     "output_type": "stream",
     "text": [
      "Train Loss: 0.0031 | Train Acc: 83.50%\n",
      "Valid Loss: 0.5496 | Valid Acc: 80.66%\n",
      "Test  Loss: 0.3449 | Test Acc: 88.71%\n",
      "--------------------------------------------------\n",
      "[Epoch 396/100000] :\n"
     ]
    },
    {
     "name": "stderr",
     "output_type": "stream",
     "text": [
      "100%|██████████| 176/176 [00:14<00:00, 11.89it/s]\n"
     ]
    },
    {
     "name": "stdout",
     "output_type": "stream",
     "text": [
      "Train Loss: 0.0027 | Train Acc: 83.50%\n",
      "Valid Loss: 0.5724 | Valid Acc: 80.46%\n",
      "Test  Loss: 0.3921 | Test Acc: 87.12%\n",
      "--------------------------------------------------\n",
      "[Epoch 397/100000] :\n"
     ]
    },
    {
     "name": "stderr",
     "output_type": "stream",
     "text": [
      "100%|██████████| 176/176 [00:14<00:00, 11.84it/s]\n"
     ]
    },
    {
     "name": "stdout",
     "output_type": "stream",
     "text": [
      "Train Loss: 0.0024 | Train Acc: 84.00%\n",
      "Valid Loss: 0.6320 | Valid Acc: 79.60%\n",
      "Test  Loss: 0.3899 | Test Acc: 88.07%\n",
      "--------------------------------------------------\n",
      "[Epoch 398/100000] :\n"
     ]
    },
    {
     "name": "stderr",
     "output_type": "stream",
     "text": [
      "100%|██████████| 176/176 [00:14<00:00, 12.01it/s]\n"
     ]
    },
    {
     "name": "stdout",
     "output_type": "stream",
     "text": [
      "Train Loss: 0.0024 | Train Acc: 85.50%\n",
      "Valid Loss: 0.5494 | Valid Acc: 81.18%\n",
      "Test  Loss: 0.3575 | Test Acc: 88.07%\n",
      "--------------------------------------------------\n",
      "[Epoch 399/100000] :\n"
     ]
    },
    {
     "name": "stderr",
     "output_type": "stream",
     "text": [
      "100%|██████████| 176/176 [00:14<00:00, 11.99it/s]\n"
     ]
    },
    {
     "name": "stdout",
     "output_type": "stream",
     "text": [
      "Train Loss: 0.0022 | Train Acc: 84.00%\n",
      "Valid Loss: 0.7447 | Valid Acc: 77.16%\n",
      "Test  Loss: 0.4338 | Test Acc: 86.66%\n",
      "--------------------------------------------------\n",
      "[Epoch 400/100000] :\n"
     ]
    },
    {
     "name": "stderr",
     "output_type": "stream",
     "text": [
      "100%|██████████| 176/176 [00:15<00:00, 11.40it/s]\n"
     ]
    },
    {
     "name": "stdout",
     "output_type": "stream",
     "text": [
      "Train Loss: 0.0023 | Train Acc: 86.00%\n",
      "Valid Loss: 0.5870 | Valid Acc: 80.34%\n",
      "Test  Loss: 0.3458 | Test Acc: 88.82%\n",
      "--------------------------------------------------\n",
      "[Epoch 401/100000] :\n"
     ]
    },
    {
     "name": "stderr",
     "output_type": "stream",
     "text": [
      "100%|██████████| 176/176 [00:15<00:00, 11.46it/s]\n"
     ]
    },
    {
     "name": "stdout",
     "output_type": "stream",
     "text": [
      "Train Loss: 0.0024 | Train Acc: 82.50%\n",
      "Valid Loss: 0.5618 | Valid Acc: 80.80%\n",
      "Test  Loss: 0.3480 | Test Acc: 88.79%\n",
      "--------------------------------------------------\n",
      "[Epoch 402/100000] :\n"
     ]
    },
    {
     "name": "stderr",
     "output_type": "stream",
     "text": [
      "100%|██████████| 176/176 [00:15<00:00, 11.71it/s]\n"
     ]
    },
    {
     "name": "stdout",
     "output_type": "stream",
     "text": [
      "Train Loss: 0.0020 | Train Acc: 88.00%\n",
      "Valid Loss: 0.5309 | Valid Acc: 82.08%\n",
      "Test  Loss: 0.3276 | Test Acc: 89.57%\n",
      "--------------------------------------------------\n",
      "[Epoch 403/100000] :\n"
     ]
    },
    {
     "name": "stderr",
     "output_type": "stream",
     "text": [
      "100%|██████████| 176/176 [00:15<00:00, 11.61it/s]\n"
     ]
    },
    {
     "name": "stdout",
     "output_type": "stream",
     "text": [
      "Train Loss: 0.0023 | Train Acc: 84.50%\n",
      "Valid Loss: 0.6325 | Valid Acc: 78.42%\n",
      "Test  Loss: 0.4155 | Test Acc: 87.28%\n",
      "--------------------------------------------------\n",
      "[Epoch 404/100000] :\n"
     ]
    },
    {
     "name": "stderr",
     "output_type": "stream",
     "text": [
      "100%|██████████| 176/176 [00:14<00:00, 11.96it/s]\n"
     ]
    },
    {
     "name": "stdout",
     "output_type": "stream",
     "text": [
      "Train Loss: 0.0022 | Train Acc: 83.50%\n",
      "Valid Loss: 0.5439 | Valid Acc: 81.98%\n",
      "Test  Loss: 0.3502 | Test Acc: 89.11%\n",
      "--------------------------------------------------\n",
      "[Epoch 405/100000] :\n"
     ]
    },
    {
     "name": "stderr",
     "output_type": "stream",
     "text": [
      "100%|██████████| 176/176 [00:14<00:00, 12.19it/s]\n"
     ]
    },
    {
     "name": "stdout",
     "output_type": "stream",
     "text": [
      "Train Loss: 0.0026 | Train Acc: 85.00%\n",
      "Valid Loss: 0.6653 | Valid Acc: 78.40%\n",
      "Test  Loss: 0.4518 | Test Acc: 86.45%\n",
      "--------------------------------------------------\n",
      "[Epoch 406/100000] :\n"
     ]
    },
    {
     "name": "stderr",
     "output_type": "stream",
     "text": [
      "100%|██████████| 176/176 [00:14<00:00, 11.83it/s]\n"
     ]
    },
    {
     "name": "stdout",
     "output_type": "stream",
     "text": [
      "Train Loss: 0.0031 | Train Acc: 81.00%\n",
      "Valid Loss: 0.5583 | Valid Acc: 80.96%\n",
      "Test  Loss: 0.3568 | Test Acc: 88.70%\n",
      "--------------------------------------------------\n",
      "[Epoch 407/100000] :\n"
     ]
    },
    {
     "name": "stderr",
     "output_type": "stream",
     "text": [
      "100%|██████████| 176/176 [00:14<00:00, 12.32it/s]\n"
     ]
    },
    {
     "name": "stdout",
     "output_type": "stream",
     "text": [
      "Train Loss: 0.0026 | Train Acc: 83.50%\n",
      "Valid Loss: 0.5591 | Valid Acc: 81.42%\n",
      "Test  Loss: 0.3681 | Test Acc: 88.63%\n",
      "--------------------------------------------------\n",
      "[Epoch 408/100000] :\n"
     ]
    },
    {
     "name": "stderr",
     "output_type": "stream",
     "text": [
      "100%|██████████| 176/176 [00:14<00:00, 11.99it/s]\n"
     ]
    },
    {
     "name": "stdout",
     "output_type": "stream",
     "text": [
      "Train Loss: 0.0024 | Train Acc: 84.50%\n",
      "Valid Loss: 0.6006 | Valid Acc: 80.12%\n",
      "Test  Loss: 0.4360 | Test Acc: 86.74%\n",
      "--------------------------------------------------\n",
      "[Epoch 409/100000] :\n"
     ]
    },
    {
     "name": "stderr",
     "output_type": "stream",
     "text": [
      "100%|██████████| 176/176 [00:15<00:00, 11.36it/s]\n"
     ]
    },
    {
     "name": "stdout",
     "output_type": "stream",
     "text": [
      "Train Loss: 0.0025 | Train Acc: 85.50%\n",
      "Valid Loss: 0.5592 | Valid Acc: 80.86%\n",
      "Test  Loss: 0.3288 | Test Acc: 89.30%\n",
      "--------------------------------------------------\n",
      "[Epoch 410/100000] :\n"
     ]
    },
    {
     "name": "stderr",
     "output_type": "stream",
     "text": [
      "100%|██████████| 176/176 [00:14<00:00, 11.89it/s]\n"
     ]
    },
    {
     "name": "stdout",
     "output_type": "stream",
     "text": [
      "Train Loss: 0.0021 | Train Acc: 86.00%\n",
      "Valid Loss: 0.5337 | Valid Acc: 81.02%\n",
      "Test  Loss: 0.3569 | Test Acc: 88.71%\n",
      "--------------------------------------------------\n",
      "[Epoch 411/100000] :\n"
     ]
    },
    {
     "name": "stderr",
     "output_type": "stream",
     "text": [
      "100%|██████████| 176/176 [00:15<00:00, 11.50it/s]\n"
     ]
    },
    {
     "name": "stdout",
     "output_type": "stream",
     "text": [
      "Train Loss: 0.0019 | Train Acc: 87.50%\n",
      "Valid Loss: 0.5576 | Valid Acc: 81.10%\n",
      "Test  Loss: 0.3844 | Test Acc: 87.30%\n",
      "--------------------------------------------------\n",
      "[Epoch 412/100000] :\n"
     ]
    },
    {
     "name": "stderr",
     "output_type": "stream",
     "text": [
      "100%|██████████| 176/176 [00:14<00:00, 12.01it/s]\n"
     ]
    },
    {
     "name": "stdout",
     "output_type": "stream",
     "text": [
      "Train Loss: 0.0026 | Train Acc: 83.00%\n",
      "Valid Loss: 0.5538 | Valid Acc: 81.32%\n",
      "Test  Loss: 0.3315 | Test Acc: 88.99%\n",
      "--------------------------------------------------\n",
      "[Epoch 413/100000] :\n"
     ]
    },
    {
     "name": "stderr",
     "output_type": "stream",
     "text": [
      "100%|██████████| 176/176 [00:15<00:00, 11.57it/s]\n"
     ]
    },
    {
     "name": "stdout",
     "output_type": "stream",
     "text": [
      "Train Loss: 0.0022 | Train Acc: 86.00%\n",
      "Valid Loss: 0.5228 | Valid Acc: 81.58%\n",
      "Test  Loss: 0.3092 | Test Acc: 89.75%\n",
      "--------------------------------------------------\n",
      "[Epoch 414/100000] :\n"
     ]
    },
    {
     "name": "stderr",
     "output_type": "stream",
     "text": [
      "100%|██████████| 176/176 [00:14<00:00, 11.97it/s]\n"
     ]
    },
    {
     "name": "stdout",
     "output_type": "stream",
     "text": [
      "Train Loss: 0.0024 | Train Acc: 86.00%\n",
      "Valid Loss: 0.5716 | Valid Acc: 80.50%\n",
      "Test  Loss: 0.3758 | Test Acc: 88.11%\n",
      "--------------------------------------------------\n",
      "[Epoch 415/100000] :\n"
     ]
    },
    {
     "name": "stderr",
     "output_type": "stream",
     "text": [
      "100%|██████████| 176/176 [00:15<00:00, 11.53it/s]\n"
     ]
    },
    {
     "name": "stdout",
     "output_type": "stream",
     "text": [
      "Train Loss: 0.0023 | Train Acc: 89.00%\n",
      "Valid Loss: 0.5491 | Valid Acc: 81.06%\n",
      "Test  Loss: 0.3380 | Test Acc: 88.98%\n",
      "--------------------------------------------------\n",
      "[Epoch 416/100000] :\n"
     ]
    },
    {
     "name": "stderr",
     "output_type": "stream",
     "text": [
      "100%|██████████| 176/176 [00:14<00:00, 11.90it/s]\n"
     ]
    },
    {
     "name": "stdout",
     "output_type": "stream",
     "text": [
      "Train Loss: 0.0023 | Train Acc: 85.50%\n",
      "Valid Loss: 0.5759 | Valid Acc: 80.18%\n",
      "Test  Loss: 0.3404 | Test Acc: 88.78%\n",
      "--------------------------------------------------\n",
      "[Epoch 417/100000] :\n"
     ]
    },
    {
     "name": "stderr",
     "output_type": "stream",
     "text": [
      "100%|██████████| 176/176 [00:14<00:00, 12.16it/s]\n"
     ]
    },
    {
     "name": "stdout",
     "output_type": "stream",
     "text": [
      "Train Loss: 0.0021 | Train Acc: 85.50%\n",
      "Valid Loss: 0.5018 | Valid Acc: 82.20%\n",
      "Test  Loss: 0.3070 | Test Acc: 89.75%\n",
      "--------------------------------------------------\n",
      "[Epoch 418/100000] :\n"
     ]
    },
    {
     "name": "stderr",
     "output_type": "stream",
     "text": [
      "100%|██████████| 176/176 [00:14<00:00, 11.80it/s]\n"
     ]
    },
    {
     "name": "stdout",
     "output_type": "stream",
     "text": [
      "Train Loss: 0.0021 | Train Acc: 85.00%\n",
      "Valid Loss: 0.5981 | Valid Acc: 79.80%\n",
      "Test  Loss: 0.3287 | Test Acc: 89.44%\n",
      "--------------------------------------------------\n",
      "[Epoch 419/100000] :\n"
     ]
    },
    {
     "name": "stderr",
     "output_type": "stream",
     "text": [
      "100%|██████████| 176/176 [00:14<00:00, 12.29it/s]\n"
     ]
    },
    {
     "name": "stdout",
     "output_type": "stream",
     "text": [
      "Train Loss: 0.0020 | Train Acc: 85.00%\n",
      "Valid Loss: 0.5628 | Valid Acc: 80.58%\n",
      "Test  Loss: 0.3694 | Test Acc: 88.27%\n",
      "--------------------------------------------------\n",
      "[Epoch 420/100000] :\n"
     ]
    },
    {
     "name": "stderr",
     "output_type": "stream",
     "text": [
      "100%|██████████| 176/176 [00:15<00:00, 11.65it/s]\n"
     ]
    },
    {
     "name": "stdout",
     "output_type": "stream",
     "text": [
      "Train Loss: 0.0023 | Train Acc: 86.00%\n",
      "Valid Loss: 0.5183 | Valid Acc: 82.34%\n",
      "Test  Loss: 0.2882 | Test Acc: 90.39%\n",
      "--------------------------------------------------\n",
      "[Epoch 421/100000] :\n"
     ]
    },
    {
     "name": "stderr",
     "output_type": "stream",
     "text": [
      "100%|██████████| 176/176 [00:15<00:00, 11.72it/s]\n"
     ]
    },
    {
     "name": "stdout",
     "output_type": "stream",
     "text": [
      "Train Loss: 0.0027 | Train Acc: 84.00%\n",
      "Valid Loss: 0.5656 | Valid Acc: 80.90%\n",
      "Test  Loss: 0.3135 | Test Acc: 89.71%\n",
      "--------------------------------------------------\n",
      "[Epoch 422/100000] :\n"
     ]
    },
    {
     "name": "stderr",
     "output_type": "stream",
     "text": [
      "100%|██████████| 176/176 [00:15<00:00, 11.71it/s]\n"
     ]
    },
    {
     "name": "stdout",
     "output_type": "stream",
     "text": [
      "Train Loss: 0.0027 | Train Acc: 85.00%\n",
      "Valid Loss: 0.5079 | Valid Acc: 82.38%\n",
      "Test  Loss: 0.2914 | Test Acc: 90.63%\n",
      "--------------------------------------------------\n",
      "[Epoch 423/100000] :\n"
     ]
    },
    {
     "name": "stderr",
     "output_type": "stream",
     "text": [
      "100%|██████████| 176/176 [00:15<00:00, 11.59it/s]\n"
     ]
    },
    {
     "name": "stdout",
     "output_type": "stream",
     "text": [
      "Train Loss: 0.0019 | Train Acc: 88.50%\n",
      "Valid Loss: 0.5172 | Valid Acc: 82.24%\n",
      "Test  Loss: 0.3249 | Test Acc: 89.81%\n",
      "--------------------------------------------------\n",
      "[Epoch 424/100000] :\n"
     ]
    },
    {
     "name": "stderr",
     "output_type": "stream",
     "text": [
      "100%|██████████| 176/176 [00:14<00:00, 11.77it/s]\n"
     ]
    },
    {
     "name": "stdout",
     "output_type": "stream",
     "text": [
      "Train Loss: 0.0019 | Train Acc: 87.00%\n",
      "Valid Loss: 0.5535 | Valid Acc: 81.04%\n",
      "Test  Loss: 0.3327 | Test Acc: 89.12%\n",
      "--------------------------------------------------\n",
      "[Epoch 425/100000] :\n"
     ]
    },
    {
     "name": "stderr",
     "output_type": "stream",
     "text": [
      "100%|██████████| 176/176 [00:14<00:00, 12.19it/s]\n"
     ]
    },
    {
     "name": "stdout",
     "output_type": "stream",
     "text": [
      "Train Loss: 0.0023 | Train Acc: 84.00%\n",
      "Valid Loss: 0.5280 | Valid Acc: 82.12%\n",
      "Test  Loss: 0.3262 | Test Acc: 89.58%\n",
      "--------------------------------------------------\n",
      "[Epoch 426/100000] :\n"
     ]
    },
    {
     "name": "stderr",
     "output_type": "stream",
     "text": [
      "100%|██████████| 176/176 [00:15<00:00, 11.49it/s]\n"
     ]
    },
    {
     "name": "stdout",
     "output_type": "stream",
     "text": [
      "Train Loss: 0.0016 | Train Acc: 89.00%\n",
      "Valid Loss: 0.6610 | Valid Acc: 77.96%\n",
      "Test  Loss: 0.3811 | Test Acc: 88.05%\n",
      "--------------------------------------------------\n",
      "[Epoch 427/100000] :\n"
     ]
    },
    {
     "name": "stderr",
     "output_type": "stream",
     "text": [
      "100%|██████████| 176/176 [00:14<00:00, 12.11it/s]\n"
     ]
    },
    {
     "name": "stdout",
     "output_type": "stream",
     "text": [
      "Train Loss: 0.0025 | Train Acc: 84.50%\n",
      "Valid Loss: 0.5475 | Valid Acc: 80.66%\n",
      "Test  Loss: 0.3194 | Test Acc: 89.32%\n",
      "--------------------------------------------------\n",
      "[Epoch 428/100000] :\n"
     ]
    },
    {
     "name": "stderr",
     "output_type": "stream",
     "text": [
      "100%|██████████| 176/176 [00:14<00:00, 12.00it/s]\n"
     ]
    },
    {
     "name": "stdout",
     "output_type": "stream",
     "text": [
      "Train Loss: 0.0018 | Train Acc: 88.00%\n",
      "Valid Loss: 0.5514 | Valid Acc: 81.08%\n",
      "Test  Loss: 0.3228 | Test Acc: 89.75%\n",
      "--------------------------------------------------\n",
      "[Epoch 429/100000] :\n"
     ]
    },
    {
     "name": "stderr",
     "output_type": "stream",
     "text": [
      "100%|██████████| 176/176 [00:14<00:00, 11.87it/s]\n"
     ]
    },
    {
     "name": "stdout",
     "output_type": "stream",
     "text": [
      "Train Loss: 0.0021 | Train Acc: 86.50%\n",
      "Valid Loss: 0.5482 | Valid Acc: 81.46%\n",
      "Test  Loss: 0.3404 | Test Acc: 89.15%\n",
      "--------------------------------------------------\n",
      "[Epoch 430/100000] :\n"
     ]
    },
    {
     "name": "stderr",
     "output_type": "stream",
     "text": [
      "100%|██████████| 176/176 [00:14<00:00, 11.74it/s]\n"
     ]
    },
    {
     "name": "stdout",
     "output_type": "stream",
     "text": [
      "Train Loss: 0.0028 | Train Acc: 81.00%\n",
      "Valid Loss: 0.5564 | Valid Acc: 80.94%\n",
      "Test  Loss: 0.3117 | Test Acc: 89.60%\n",
      "--------------------------------------------------\n",
      "[Epoch 431/100000] :\n"
     ]
    },
    {
     "name": "stderr",
     "output_type": "stream",
     "text": [
      "100%|██████████| 176/176 [00:14<00:00, 11.78it/s]\n"
     ]
    },
    {
     "name": "stdout",
     "output_type": "stream",
     "text": [
      "Train Loss: 0.0017 | Train Acc: 90.00%\n",
      "Valid Loss: 0.5644 | Valid Acc: 81.22%\n",
      "Test  Loss: 0.3257 | Test Acc: 89.69%\n",
      "--------------------------------------------------\n",
      "[Epoch 432/100000] :\n"
     ]
    },
    {
     "name": "stderr",
     "output_type": "stream",
     "text": [
      "100%|██████████| 176/176 [00:14<00:00, 12.23it/s]\n"
     ]
    },
    {
     "name": "stdout",
     "output_type": "stream",
     "text": [
      "Train Loss: 0.0023 | Train Acc: 86.50%\n",
      "Valid Loss: 0.5481 | Valid Acc: 81.10%\n",
      "Test  Loss: 0.3202 | Test Acc: 89.50%\n",
      "--------------------------------------------------\n",
      "[Epoch 433/100000] :\n"
     ]
    },
    {
     "name": "stderr",
     "output_type": "stream",
     "text": [
      "100%|██████████| 176/176 [00:15<00:00, 11.47it/s]\n"
     ]
    },
    {
     "name": "stdout",
     "output_type": "stream",
     "text": [
      "Train Loss: 0.0029 | Train Acc: 85.50%\n",
      "Valid Loss: 0.5321 | Valid Acc: 81.30%\n",
      "Test  Loss: 0.3134 | Test Acc: 89.43%\n",
      "--------------------------------------------------\n",
      "[Epoch 434/100000] :\n"
     ]
    },
    {
     "name": "stderr",
     "output_type": "stream",
     "text": [
      "100%|██████████| 176/176 [00:14<00:00, 11.90it/s]\n"
     ]
    },
    {
     "name": "stdout",
     "output_type": "stream",
     "text": [
      "Train Loss: 0.0020 | Train Acc: 85.50%\n",
      "Valid Loss: 0.4939 | Valid Acc: 83.26%\n",
      "Test  Loss: 0.2976 | Test Acc: 90.11%\n",
      "--------------------------------------------------\n",
      "[Epoch 435/100000] :\n"
     ]
    },
    {
     "name": "stderr",
     "output_type": "stream",
     "text": [
      "100%|██████████| 176/176 [00:14<00:00, 11.78it/s]\n"
     ]
    },
    {
     "name": "stdout",
     "output_type": "stream",
     "text": [
      "Train Loss: 0.0024 | Train Acc: 87.00%\n",
      "Valid Loss: 0.5346 | Valid Acc: 81.54%\n",
      "Test  Loss: 0.3473 | Test Acc: 88.94%\n",
      "--------------------------------------------------\n",
      "[Epoch 436/100000] :\n"
     ]
    },
    {
     "name": "stderr",
     "output_type": "stream",
     "text": [
      "100%|██████████| 176/176 [00:15<00:00, 11.62it/s]\n"
     ]
    },
    {
     "name": "stdout",
     "output_type": "stream",
     "text": [
      "Train Loss: 0.0021 | Train Acc: 85.00%\n",
      "Valid Loss: 0.5352 | Valid Acc: 81.90%\n",
      "Test  Loss: 0.3371 | Test Acc: 89.52%\n",
      "--------------------------------------------------\n",
      "[Epoch 437/100000] :\n"
     ]
    },
    {
     "name": "stderr",
     "output_type": "stream",
     "text": [
      "100%|██████████| 176/176 [00:14<00:00, 12.05it/s]\n"
     ]
    },
    {
     "name": "stdout",
     "output_type": "stream",
     "text": [
      "Train Loss: 0.0018 | Train Acc: 89.50%\n",
      "Valid Loss: 0.5721 | Valid Acc: 80.38%\n",
      "Test  Loss: 0.3156 | Test Acc: 89.54%\n",
      "--------------------------------------------------\n",
      "[Epoch 438/100000] :\n"
     ]
    },
    {
     "name": "stderr",
     "output_type": "stream",
     "text": [
      "100%|██████████| 176/176 [00:15<00:00, 11.47it/s]\n"
     ]
    },
    {
     "name": "stdout",
     "output_type": "stream",
     "text": [
      "Train Loss: 0.0024 | Train Acc: 85.00%\n",
      "Valid Loss: 0.5544 | Valid Acc: 81.02%\n",
      "Test  Loss: 0.3151 | Test Acc: 89.48%\n",
      "--------------------------------------------------\n",
      "[Epoch 439/100000] :\n"
     ]
    },
    {
     "name": "stderr",
     "output_type": "stream",
     "text": [
      "100%|██████████| 176/176 [00:15<00:00, 11.43it/s]\n"
     ]
    },
    {
     "name": "stdout",
     "output_type": "stream",
     "text": [
      "Train Loss: 0.0020 | Train Acc: 89.00%\n",
      "Valid Loss: 0.5449 | Valid Acc: 81.20%\n",
      "Test  Loss: 0.3620 | Test Acc: 88.75%\n",
      "--------------------------------------------------\n",
      "[Epoch 440/100000] :\n"
     ]
    },
    {
     "name": "stderr",
     "output_type": "stream",
     "text": [
      "100%|██████████| 176/176 [00:14<00:00, 12.00it/s]\n"
     ]
    },
    {
     "name": "stdout",
     "output_type": "stream",
     "text": [
      "Train Loss: 0.0033 | Train Acc: 78.00%\n",
      "Valid Loss: 0.5689 | Valid Acc: 80.94%\n",
      "Test  Loss: 0.3558 | Test Acc: 88.44%\n",
      "--------------------------------------------------\n",
      "[Epoch 441/100000] :\n"
     ]
    },
    {
     "name": "stderr",
     "output_type": "stream",
     "text": [
      "100%|██████████| 176/176 [00:14<00:00, 11.90it/s]\n"
     ]
    },
    {
     "name": "stdout",
     "output_type": "stream",
     "text": [
      "Train Loss: 0.0024 | Train Acc: 84.00%\n",
      "Valid Loss: 0.5367 | Valid Acc: 82.42%\n",
      "Test  Loss: 0.3270 | Test Acc: 89.71%\n",
      "--------------------------------------------------\n",
      "[Epoch 442/100000] :\n"
     ]
    },
    {
     "name": "stderr",
     "output_type": "stream",
     "text": [
      "100%|██████████| 176/176 [00:15<00:00, 11.72it/s]\n"
     ]
    },
    {
     "name": "stdout",
     "output_type": "stream",
     "text": [
      "Train Loss: 0.0021 | Train Acc: 85.50%\n",
      "Valid Loss: 0.5511 | Valid Acc: 81.02%\n",
      "Test  Loss: 0.3519 | Test Acc: 88.81%\n",
      "--------------------------------------------------\n",
      "[Epoch 443/100000] :\n"
     ]
    },
    {
     "name": "stderr",
     "output_type": "stream",
     "text": [
      "100%|██████████| 176/176 [00:14<00:00, 11.88it/s]\n"
     ]
    },
    {
     "name": "stdout",
     "output_type": "stream",
     "text": [
      "Train Loss: 0.0023 | Train Acc: 86.00%\n",
      "Valid Loss: 0.5911 | Valid Acc: 80.06%\n",
      "Test  Loss: 0.3996 | Test Acc: 87.11%\n",
      "--------------------------------------------------\n",
      "[Epoch 444/100000] :\n"
     ]
    },
    {
     "name": "stderr",
     "output_type": "stream",
     "text": [
      "100%|██████████| 176/176 [00:14<00:00, 12.05it/s]\n"
     ]
    },
    {
     "name": "stdout",
     "output_type": "stream",
     "text": [
      "Train Loss: 0.0025 | Train Acc: 85.50%\n",
      "Valid Loss: 0.5567 | Valid Acc: 81.04%\n",
      "Test  Loss: 0.3317 | Test Acc: 89.41%\n",
      "--------------------------------------------------\n",
      "[Epoch 445/100000] :\n"
     ]
    },
    {
     "name": "stderr",
     "output_type": "stream",
     "text": [
      "100%|██████████| 176/176 [00:15<00:00, 11.60it/s]\n"
     ]
    },
    {
     "name": "stdout",
     "output_type": "stream",
     "text": [
      "Train Loss: 0.0029 | Train Acc: 84.00%\n",
      "Valid Loss: 0.5257 | Valid Acc: 81.90%\n",
      "Test  Loss: 0.3451 | Test Acc: 89.39%\n",
      "--------------------------------------------------\n",
      "[Epoch 446/100000] :\n"
     ]
    },
    {
     "name": "stderr",
     "output_type": "stream",
     "text": [
      "100%|██████████| 176/176 [00:15<00:00, 11.48it/s]\n"
     ]
    },
    {
     "name": "stdout",
     "output_type": "stream",
     "text": [
      "Train Loss: 0.0022 | Train Acc: 87.50%\n",
      "Valid Loss: 0.5357 | Valid Acc: 81.32%\n",
      "Test  Loss: 0.3300 | Test Acc: 89.17%\n",
      "--------------------------------------------------\n",
      "[Epoch 447/100000] :\n"
     ]
    },
    {
     "name": "stderr",
     "output_type": "stream",
     "text": [
      "100%|██████████| 176/176 [00:15<00:00, 11.68it/s]\n"
     ]
    },
    {
     "name": "stdout",
     "output_type": "stream",
     "text": [
      "Train Loss: 0.0024 | Train Acc: 86.00%\n",
      "Valid Loss: 0.5827 | Valid Acc: 79.96%\n",
      "Test  Loss: 0.3351 | Test Acc: 89.12%\n",
      "--------------------------------------------------\n",
      "[Epoch 448/100000] :\n"
     ]
    },
    {
     "name": "stderr",
     "output_type": "stream",
     "text": [
      "100%|██████████| 176/176 [00:14<00:00, 11.87it/s]\n"
     ]
    },
    {
     "name": "stdout",
     "output_type": "stream",
     "text": [
      "Train Loss: 0.0017 | Train Acc: 89.50%\n",
      "Valid Loss: 0.5336 | Valid Acc: 82.10%\n",
      "Test  Loss: 0.2880 | Test Acc: 90.21%\n",
      "--------------------------------------------------\n",
      "[Epoch 449/100000] :\n"
     ]
    },
    {
     "name": "stderr",
     "output_type": "stream",
     "text": [
      "100%|██████████| 176/176 [00:15<00:00, 11.50it/s]\n"
     ]
    },
    {
     "name": "stdout",
     "output_type": "stream",
     "text": [
      "Train Loss: 0.0028 | Train Acc: 83.50%\n",
      "Valid Loss: 0.6045 | Valid Acc: 79.52%\n",
      "Test  Loss: 0.4069 | Test Acc: 88.01%\n",
      "--------------------------------------------------\n",
      "[Epoch 450/100000] :\n"
     ]
    },
    {
     "name": "stderr",
     "output_type": "stream",
     "text": [
      "100%|██████████| 176/176 [00:14<00:00, 11.79it/s]\n"
     ]
    },
    {
     "name": "stdout",
     "output_type": "stream",
     "text": [
      "Train Loss: 0.0024 | Train Acc: 84.00%\n",
      "Valid Loss: 0.5434 | Valid Acc: 81.32%\n",
      "Test  Loss: 0.3252 | Test Acc: 89.25%\n",
      "--------------------------------------------------\n",
      "[Epoch 451/100000] :\n"
     ]
    },
    {
     "name": "stderr",
     "output_type": "stream",
     "text": [
      "100%|██████████| 176/176 [00:14<00:00, 11.77it/s]\n"
     ]
    },
    {
     "name": "stdout",
     "output_type": "stream",
     "text": [
      "Train Loss: 0.0022 | Train Acc: 84.50%\n",
      "Valid Loss: 0.5885 | Valid Acc: 80.30%\n",
      "Test  Loss: 0.3657 | Test Acc: 88.31%\n",
      "--------------------------------------------------\n",
      "[Epoch 452/100000] :\n"
     ]
    },
    {
     "name": "stderr",
     "output_type": "stream",
     "text": [
      "100%|██████████| 176/176 [00:15<00:00, 11.36it/s]\n"
     ]
    },
    {
     "name": "stdout",
     "output_type": "stream",
     "text": [
      "Train Loss: 0.0019 | Train Acc: 87.50%\n",
      "Valid Loss: 0.5579 | Valid Acc: 81.34%\n",
      "Test  Loss: 0.3359 | Test Acc: 88.82%\n",
      "--------------------------------------------------\n",
      "[Epoch 453/100000] :\n"
     ]
    },
    {
     "name": "stderr",
     "output_type": "stream",
     "text": [
      "100%|██████████| 176/176 [00:15<00:00, 11.54it/s]\n"
     ]
    },
    {
     "name": "stdout",
     "output_type": "stream",
     "text": [
      "Train Loss: 0.0018 | Train Acc: 87.50%\n",
      "Valid Loss: 0.7177 | Valid Acc: 76.24%\n",
      "Test  Loss: 0.4221 | Test Acc: 86.48%\n",
      "--------------------------------------------------\n",
      "[Epoch 454/100000] :\n"
     ]
    },
    {
     "name": "stderr",
     "output_type": "stream",
     "text": [
      "100%|██████████| 176/176 [00:15<00:00, 11.46it/s]\n"
     ]
    },
    {
     "name": "stdout",
     "output_type": "stream",
     "text": [
      "Train Loss: 0.0024 | Train Acc: 83.00%\n",
      "Valid Loss: 0.5974 | Valid Acc: 79.64%\n",
      "Test  Loss: 0.3756 | Test Acc: 88.25%\n",
      "--------------------------------------------------\n",
      "[Epoch 455/100000] :\n"
     ]
    },
    {
     "name": "stderr",
     "output_type": "stream",
     "text": [
      "100%|██████████| 176/176 [00:14<00:00, 11.79it/s]\n"
     ]
    },
    {
     "name": "stdout",
     "output_type": "stream",
     "text": [
      "Train Loss: 0.0020 | Train Acc: 88.50%\n",
      "Valid Loss: 0.6900 | Valid Acc: 77.86%\n",
      "Test  Loss: 0.3531 | Test Acc: 88.98%\n",
      "--------------------------------------------------\n",
      "[Epoch 456/100000] :\n"
     ]
    },
    {
     "name": "stderr",
     "output_type": "stream",
     "text": [
      "100%|██████████| 176/176 [00:15<00:00, 11.56it/s]\n"
     ]
    },
    {
     "name": "stdout",
     "output_type": "stream",
     "text": [
      "Train Loss: 0.0020 | Train Acc: 90.00%\n",
      "Valid Loss: 0.6539 | Valid Acc: 78.50%\n",
      "Test  Loss: 0.3400 | Test Acc: 89.10%\n",
      "--------------------------------------------------\n",
      "[Epoch 457/100000] :\n"
     ]
    },
    {
     "name": "stderr",
     "output_type": "stream",
     "text": [
      "100%|██████████| 176/176 [00:15<00:00, 11.61it/s]\n"
     ]
    },
    {
     "name": "stdout",
     "output_type": "stream",
     "text": [
      "Train Loss: 0.0020 | Train Acc: 87.00%\n",
      "Valid Loss: 0.5587 | Valid Acc: 81.08%\n",
      "Test  Loss: 0.3489 | Test Acc: 88.61%\n",
      "--------------------------------------------------\n",
      "[Epoch 458/100000] :\n"
     ]
    },
    {
     "name": "stderr",
     "output_type": "stream",
     "text": [
      "100%|██████████| 176/176 [00:15<00:00, 11.45it/s]\n"
     ]
    },
    {
     "name": "stdout",
     "output_type": "stream",
     "text": [
      "Train Loss: 0.0020 | Train Acc: 87.50%\n",
      "Valid Loss: 0.6068 | Valid Acc: 79.52%\n",
      "Test  Loss: 0.4079 | Test Acc: 87.26%\n",
      "--------------------------------------------------\n",
      "[Epoch 459/100000] :\n"
     ]
    },
    {
     "name": "stderr",
     "output_type": "stream",
     "text": [
      "100%|██████████| 176/176 [00:14<00:00, 11.87it/s]\n"
     ]
    },
    {
     "name": "stdout",
     "output_type": "stream",
     "text": [
      "Train Loss: 0.0023 | Train Acc: 83.00%\n",
      "Valid Loss: 0.5545 | Valid Acc: 81.10%\n",
      "Test  Loss: 0.3350 | Test Acc: 89.25%\n",
      "--------------------------------------------------\n",
      "[Epoch 460/100000] :\n"
     ]
    },
    {
     "name": "stderr",
     "output_type": "stream",
     "text": [
      "100%|██████████| 176/176 [00:15<00:00, 11.68it/s]\n"
     ]
    },
    {
     "name": "stdout",
     "output_type": "stream",
     "text": [
      "Train Loss: 0.0023 | Train Acc: 86.00%\n",
      "Valid Loss: 0.5492 | Valid Acc: 81.02%\n",
      "Test  Loss: 0.3227 | Test Acc: 89.55%\n",
      "--------------------------------------------------\n",
      "[Epoch 461/100000] :\n"
     ]
    },
    {
     "name": "stderr",
     "output_type": "stream",
     "text": [
      "100%|██████████| 176/176 [00:14<00:00, 12.07it/s]\n"
     ]
    },
    {
     "name": "stdout",
     "output_type": "stream",
     "text": [
      "Train Loss: 0.0022 | Train Acc: 86.00%\n",
      "Valid Loss: 0.5381 | Valid Acc: 81.40%\n",
      "Test  Loss: 0.3172 | Test Acc: 89.61%\n",
      "--------------------------------------------------\n",
      "[Epoch 462/100000] :\n"
     ]
    },
    {
     "name": "stderr",
     "output_type": "stream",
     "text": [
      "100%|██████████| 176/176 [00:14<00:00, 12.07it/s]\n"
     ]
    },
    {
     "name": "stdout",
     "output_type": "stream",
     "text": [
      "Train Loss: 0.0019 | Train Acc: 87.50%\n",
      "Valid Loss: 0.5550 | Valid Acc: 80.86%\n",
      "Test  Loss: 0.3576 | Test Acc: 88.28%\n",
      "--------------------------------------------------\n",
      "[Epoch 463/100000] :\n"
     ]
    },
    {
     "name": "stderr",
     "output_type": "stream",
     "text": [
      "100%|██████████| 176/176 [00:14<00:00, 11.86it/s]\n"
     ]
    },
    {
     "name": "stdout",
     "output_type": "stream",
     "text": [
      "Train Loss: 0.0021 | Train Acc: 87.00%\n",
      "Valid Loss: 0.6414 | Valid Acc: 78.80%\n",
      "Test  Loss: 0.2902 | Test Acc: 90.33%\n",
      "--------------------------------------------------\n",
      "[Epoch 464/100000] :\n"
     ]
    },
    {
     "name": "stderr",
     "output_type": "stream",
     "text": [
      "100%|██████████| 176/176 [00:15<00:00, 11.61it/s]\n"
     ]
    },
    {
     "name": "stdout",
     "output_type": "stream",
     "text": [
      "Train Loss: 0.0019 | Train Acc: 91.00%\n",
      "Valid Loss: 0.7899 | Valid Acc: 76.62%\n",
      "Test  Loss: 0.4034 | Test Acc: 88.15%\n",
      "--------------------------------------------------\n",
      "[Epoch 465/100000] :\n"
     ]
    },
    {
     "name": "stderr",
     "output_type": "stream",
     "text": [
      "100%|██████████| 176/176 [00:15<00:00, 11.36it/s]\n"
     ]
    },
    {
     "name": "stdout",
     "output_type": "stream",
     "text": [
      "Train Loss: 0.0018 | Train Acc: 86.50%\n",
      "Valid Loss: 0.6005 | Valid Acc: 79.36%\n",
      "Test  Loss: 0.3465 | Test Acc: 89.19%\n",
      "--------------------------------------------------\n",
      "[Epoch 466/100000] :\n"
     ]
    },
    {
     "name": "stderr",
     "output_type": "stream",
     "text": [
      "100%|██████████| 176/176 [00:15<00:00, 11.68it/s]\n"
     ]
    },
    {
     "name": "stdout",
     "output_type": "stream",
     "text": [
      "Train Loss: 0.0022 | Train Acc: 88.00%\n",
      "Valid Loss: 0.5871 | Valid Acc: 80.80%\n",
      "Test  Loss: 0.3853 | Test Acc: 87.91%\n",
      "--------------------------------------------------\n",
      "[Epoch 467/100000] :\n"
     ]
    },
    {
     "name": "stderr",
     "output_type": "stream",
     "text": [
      "100%|██████████| 176/176 [00:14<00:00, 11.76it/s]\n"
     ]
    },
    {
     "name": "stdout",
     "output_type": "stream",
     "text": [
      "Train Loss: 0.0021 | Train Acc: 86.50%\n",
      "Valid Loss: 0.6386 | Valid Acc: 79.84%\n",
      "Test  Loss: 0.4069 | Test Acc: 87.61%\n",
      "--------------------------------------------------\n",
      "[Epoch 468/100000] :\n"
     ]
    },
    {
     "name": "stderr",
     "output_type": "stream",
     "text": [
      "100%|██████████| 176/176 [00:14<00:00, 12.15it/s]\n"
     ]
    },
    {
     "name": "stdout",
     "output_type": "stream",
     "text": [
      "Train Loss: 0.0017 | Train Acc: 89.50%\n",
      "Valid Loss: 0.5676 | Valid Acc: 80.80%\n",
      "Test  Loss: 0.3626 | Test Acc: 88.72%\n",
      "--------------------------------------------------\n",
      "[Epoch 469/100000] :\n"
     ]
    },
    {
     "name": "stderr",
     "output_type": "stream",
     "text": [
      "100%|██████████| 176/176 [00:15<00:00, 11.36it/s]\n"
     ]
    },
    {
     "name": "stdout",
     "output_type": "stream",
     "text": [
      "Train Loss: 0.0024 | Train Acc: 85.00%\n",
      "Valid Loss: 0.5498 | Valid Acc: 80.96%\n",
      "Test  Loss: 0.3106 | Test Acc: 89.75%\n",
      "--------------------------------------------------\n",
      "[Epoch 470/100000] :\n"
     ]
    },
    {
     "name": "stderr",
     "output_type": "stream",
     "text": [
      "100%|██████████| 176/176 [00:14<00:00, 11.88it/s]\n"
     ]
    },
    {
     "name": "stdout",
     "output_type": "stream",
     "text": [
      "Train Loss: 0.0026 | Train Acc: 85.50%\n",
      "Valid Loss: 0.6162 | Valid Acc: 78.76%\n",
      "Test  Loss: 0.3306 | Test Acc: 89.18%\n",
      "--------------------------------------------------\n",
      "[Epoch 471/100000] :\n"
     ]
    },
    {
     "name": "stderr",
     "output_type": "stream",
     "text": [
      "100%|██████████| 176/176 [00:14<00:00, 11.92it/s]\n"
     ]
    },
    {
     "name": "stdout",
     "output_type": "stream",
     "text": [
      "Train Loss: 0.0029 | Train Acc: 82.50%\n",
      "Valid Loss: 0.5601 | Valid Acc: 81.12%\n",
      "Test  Loss: 0.3378 | Test Acc: 89.47%\n",
      "--------------------------------------------------\n",
      "[Epoch 472/100000] :\n"
     ]
    },
    {
     "name": "stderr",
     "output_type": "stream",
     "text": [
      "100%|██████████| 176/176 [00:14<00:00, 11.84it/s]\n"
     ]
    },
    {
     "name": "stdout",
     "output_type": "stream",
     "text": [
      "Train Loss: 0.0025 | Train Acc: 85.50%\n",
      "Valid Loss: 0.5688 | Valid Acc: 80.54%\n",
      "Test  Loss: 0.3855 | Test Acc: 87.69%\n",
      "--------------------------------------------------\n",
      "[Epoch 473/100000] :\n"
     ]
    },
    {
     "name": "stderr",
     "output_type": "stream",
     "text": [
      "100%|██████████| 176/176 [00:14<00:00, 11.86it/s]\n"
     ]
    },
    {
     "name": "stdout",
     "output_type": "stream",
     "text": [
      "Train Loss: 0.0022 | Train Acc: 85.50%\n",
      "Valid Loss: 0.5612 | Valid Acc: 81.06%\n",
      "Test  Loss: 0.3594 | Test Acc: 88.61%\n",
      "--------------------------------------------------\n",
      "[Epoch 474/100000] :\n"
     ]
    },
    {
     "name": "stderr",
     "output_type": "stream",
     "text": [
      "100%|██████████| 176/176 [00:14<00:00, 12.19it/s]\n"
     ]
    },
    {
     "name": "stdout",
     "output_type": "stream",
     "text": [
      "Train Loss: 0.0020 | Train Acc: 87.00%\n",
      "Valid Loss: 0.6357 | Valid Acc: 79.02%\n",
      "Test  Loss: 0.3781 | Test Acc: 87.77%\n",
      "--------------------------------------------------\n",
      "[Epoch 475/100000] :\n"
     ]
    },
    {
     "name": "stderr",
     "output_type": "stream",
     "text": [
      "100%|██████████| 176/176 [00:15<00:00, 11.66it/s]\n"
     ]
    },
    {
     "name": "stdout",
     "output_type": "stream",
     "text": [
      "Train Loss: 0.0021 | Train Acc: 88.50%\n",
      "Valid Loss: 0.6787 | Valid Acc: 77.54%\n",
      "Test  Loss: 0.3289 | Test Acc: 88.55%\n",
      "--------------------------------------------------\n",
      "[Epoch 476/100000] :\n"
     ]
    },
    {
     "name": "stderr",
     "output_type": "stream",
     "text": [
      "100%|██████████| 176/176 [00:14<00:00, 12.31it/s]\n"
     ]
    },
    {
     "name": "stdout",
     "output_type": "stream",
     "text": [
      "Train Loss: 0.0025 | Train Acc: 86.00%\n",
      "Valid Loss: 0.6366 | Valid Acc: 78.46%\n",
      "Test  Loss: 0.3851 | Test Acc: 87.79%\n",
      "--------------------------------------------------\n",
      "[Epoch 477/100000] :\n"
     ]
    },
    {
     "name": "stderr",
     "output_type": "stream",
     "text": [
      "100%|██████████| 176/176 [00:14<00:00, 11.78it/s]\n"
     ]
    },
    {
     "name": "stdout",
     "output_type": "stream",
     "text": [
      "Train Loss: 0.0019 | Train Acc: 89.00%\n",
      "Valid Loss: 0.6249 | Valid Acc: 79.58%\n",
      "Test  Loss: 0.4519 | Test Acc: 86.14%\n",
      "--------------------------------------------------\n",
      "[Epoch 478/100000] :\n"
     ]
    },
    {
     "name": "stderr",
     "output_type": "stream",
     "text": [
      "100%|██████████| 176/176 [00:15<00:00, 11.45it/s]\n"
     ]
    },
    {
     "name": "stdout",
     "output_type": "stream",
     "text": [
      "Train Loss: 0.0019 | Train Acc: 87.50%\n",
      "Valid Loss: 0.5956 | Valid Acc: 80.08%\n",
      "Test  Loss: 0.3738 | Test Acc: 88.69%\n",
      "--------------------------------------------------\n",
      "[Epoch 479/100000] :\n"
     ]
    },
    {
     "name": "stderr",
     "output_type": "stream",
     "text": [
      "100%|██████████| 176/176 [00:14<00:00, 12.25it/s]\n"
     ]
    },
    {
     "name": "stdout",
     "output_type": "stream",
     "text": [
      "Train Loss: 0.0024 | Train Acc: 87.50%\n",
      "Valid Loss: 0.5983 | Valid Acc: 80.56%\n",
      "Test  Loss: 0.3426 | Test Acc: 89.21%\n",
      "--------------------------------------------------\n",
      "[Epoch 480/100000] :\n"
     ]
    },
    {
     "name": "stderr",
     "output_type": "stream",
     "text": [
      "100%|██████████| 176/176 [00:14<00:00, 11.86it/s]\n"
     ]
    },
    {
     "name": "stdout",
     "output_type": "stream",
     "text": [
      "Train Loss: 0.0021 | Train Acc: 88.50%\n",
      "Valid Loss: 0.5611 | Valid Acc: 81.32%\n",
      "Test  Loss: 0.3436 | Test Acc: 88.73%\n",
      "--------------------------------------------------\n",
      "[Epoch 481/100000] :\n"
     ]
    },
    {
     "name": "stderr",
     "output_type": "stream",
     "text": [
      "100%|██████████| 176/176 [00:15<00:00, 11.60it/s]\n"
     ]
    },
    {
     "name": "stdout",
     "output_type": "stream",
     "text": [
      "Train Loss: 0.0020 | Train Acc: 87.00%\n",
      "Valid Loss: 0.7408 | Valid Acc: 77.38%\n",
      "Test  Loss: 0.3806 | Test Acc: 88.42%\n",
      "--------------------------------------------------\n",
      "[Epoch 482/100000] :\n"
     ]
    },
    {
     "name": "stderr",
     "output_type": "stream",
     "text": [
      "100%|██████████| 176/176 [00:14<00:00, 12.03it/s]\n"
     ]
    },
    {
     "name": "stdout",
     "output_type": "stream",
     "text": [
      "Train Loss: 0.0016 | Train Acc: 90.00%\n",
      "Valid Loss: 0.5865 | Valid Acc: 80.02%\n",
      "Test  Loss: 0.3623 | Test Acc: 88.41%\n",
      "--------------------------------------------------\n",
      "[Epoch 483/100000] :\n"
     ]
    },
    {
     "name": "stderr",
     "output_type": "stream",
     "text": [
      "100%|██████████| 176/176 [00:15<00:00, 11.58it/s]\n"
     ]
    },
    {
     "name": "stdout",
     "output_type": "stream",
     "text": [
      "Train Loss: 0.0022 | Train Acc: 87.00%\n",
      "Valid Loss: 0.5423 | Valid Acc: 81.48%\n",
      "Test  Loss: 0.3707 | Test Acc: 88.25%\n",
      "--------------------------------------------------\n",
      "[Epoch 484/100000] :\n"
     ]
    },
    {
     "name": "stderr",
     "output_type": "stream",
     "text": [
      "100%|██████████| 176/176 [00:15<00:00, 11.38it/s]\n"
     ]
    },
    {
     "name": "stdout",
     "output_type": "stream",
     "text": [
      "Train Loss: 0.0019 | Train Acc: 87.00%\n",
      "Valid Loss: 0.5498 | Valid Acc: 81.52%\n",
      "Test  Loss: 0.3288 | Test Acc: 89.23%\n",
      "--------------------------------------------------\n",
      "[Epoch 485/100000] :\n"
     ]
    },
    {
     "name": "stderr",
     "output_type": "stream",
     "text": [
      "100%|██████████| 176/176 [00:15<00:00, 11.70it/s]\n"
     ]
    },
    {
     "name": "stdout",
     "output_type": "stream",
     "text": [
      "Train Loss: 0.0026 | Train Acc: 84.50%\n",
      "Valid Loss: 0.5060 | Valid Acc: 82.44%\n",
      "Test  Loss: 0.3119 | Test Acc: 90.06%\n",
      "--------------------------------------------------\n",
      "[Epoch 486/100000] :\n"
     ]
    },
    {
     "name": "stderr",
     "output_type": "stream",
     "text": [
      "100%|██████████| 176/176 [00:14<00:00, 11.85it/s]\n"
     ]
    },
    {
     "name": "stdout",
     "output_type": "stream",
     "text": [
      "Train Loss: 0.0017 | Train Acc: 89.00%\n",
      "Valid Loss: 0.6168 | Valid Acc: 79.30%\n",
      "Test  Loss: 0.4005 | Test Acc: 86.86%\n",
      "--------------------------------------------------\n",
      "[Epoch 487/100000] :\n"
     ]
    },
    {
     "name": "stderr",
     "output_type": "stream",
     "text": [
      "100%|██████████| 176/176 [00:15<00:00, 11.69it/s]\n"
     ]
    },
    {
     "name": "stdout",
     "output_type": "stream",
     "text": [
      "Train Loss: 0.0024 | Train Acc: 84.50%\n",
      "Valid Loss: 0.5930 | Valid Acc: 80.80%\n",
      "Test  Loss: 0.3130 | Test Acc: 89.93%\n",
      "--------------------------------------------------\n",
      "[Epoch 488/100000] :\n"
     ]
    },
    {
     "name": "stderr",
     "output_type": "stream",
     "text": [
      "100%|██████████| 176/176 [00:15<00:00, 11.73it/s]\n"
     ]
    },
    {
     "name": "stdout",
     "output_type": "stream",
     "text": [
      "Train Loss: 0.0022 | Train Acc: 85.50%\n",
      "Valid Loss: 0.5586 | Valid Acc: 80.62%\n",
      "Test  Loss: 0.3419 | Test Acc: 88.93%\n",
      "--------------------------------------------------\n",
      "[Epoch 489/100000] :\n"
     ]
    },
    {
     "name": "stderr",
     "output_type": "stream",
     "text": [
      "100%|██████████| 176/176 [00:15<00:00, 11.66it/s]\n"
     ]
    },
    {
     "name": "stdout",
     "output_type": "stream",
     "text": [
      "Train Loss: 0.0023 | Train Acc: 85.50%\n",
      "Valid Loss: 0.6036 | Valid Acc: 80.22%\n",
      "Test  Loss: 0.4201 | Test Acc: 87.11%\n",
      "--------------------------------------------------\n",
      "[Epoch 490/100000] :\n"
     ]
    },
    {
     "name": "stderr",
     "output_type": "stream",
     "text": [
      "100%|██████████| 176/176 [00:15<00:00, 11.69it/s]\n"
     ]
    },
    {
     "name": "stdout",
     "output_type": "stream",
     "text": [
      "Train Loss: 0.0017 | Train Acc: 89.50%\n",
      "Valid Loss: 0.5598 | Valid Acc: 81.06%\n",
      "Test  Loss: 0.3724 | Test Acc: 88.05%\n",
      "--------------------------------------------------\n",
      "[Epoch 491/100000] :\n"
     ]
    },
    {
     "name": "stderr",
     "output_type": "stream",
     "text": [
      "100%|██████████| 176/176 [00:14<00:00, 11.77it/s]\n"
     ]
    },
    {
     "name": "stdout",
     "output_type": "stream",
     "text": [
      "Train Loss: 0.0024 | Train Acc: 86.50%\n",
      "Valid Loss: 0.6093 | Valid Acc: 79.78%\n",
      "Test  Loss: 0.3721 | Test Acc: 88.04%\n",
      "--------------------------------------------------\n",
      "[Epoch 492/100000] :\n"
     ]
    },
    {
     "name": "stderr",
     "output_type": "stream",
     "text": [
      "100%|██████████| 176/176 [00:14<00:00, 11.77it/s]\n"
     ]
    },
    {
     "name": "stdout",
     "output_type": "stream",
     "text": [
      "Train Loss: 0.0022 | Train Acc: 84.50%\n",
      "Valid Loss: 0.5862 | Valid Acc: 80.34%\n",
      "Test  Loss: 0.3705 | Test Acc: 87.88%\n",
      "--------------------------------------------------\n",
      "[Epoch 493/100000] :\n"
     ]
    },
    {
     "name": "stderr",
     "output_type": "stream",
     "text": [
      "100%|██████████| 176/176 [00:15<00:00, 11.62it/s]\n"
     ]
    },
    {
     "name": "stdout",
     "output_type": "stream",
     "text": [
      "Train Loss: 0.0021 | Train Acc: 86.50%\n",
      "Valid Loss: 0.5075 | Valid Acc: 81.92%\n",
      "Test  Loss: 0.3241 | Test Acc: 89.32%\n",
      "--------------------------------------------------\n",
      "[Epoch 494/100000] :\n"
     ]
    },
    {
     "name": "stderr",
     "output_type": "stream",
     "text": [
      "100%|██████████| 176/176 [00:15<00:00, 11.45it/s]\n"
     ]
    },
    {
     "name": "stdout",
     "output_type": "stream",
     "text": [
      "Train Loss: 0.0020 | Train Acc: 86.00%\n",
      "Valid Loss: 0.5938 | Valid Acc: 79.92%\n",
      "Test  Loss: 0.3491 | Test Acc: 88.51%\n",
      "--------------------------------------------------\n",
      "[Epoch 495/100000] :\n"
     ]
    },
    {
     "name": "stderr",
     "output_type": "stream",
     "text": [
      "100%|██████████| 176/176 [00:14<00:00, 12.05it/s]\n"
     ]
    },
    {
     "name": "stdout",
     "output_type": "stream",
     "text": [
      "Train Loss: 0.0025 | Train Acc: 83.00%\n",
      "Valid Loss: 0.5298 | Valid Acc: 81.70%\n",
      "Test  Loss: 0.2942 | Test Acc: 90.32%\n",
      "--------------------------------------------------\n",
      "[Epoch 496/100000] :\n"
     ]
    },
    {
     "name": "stderr",
     "output_type": "stream",
     "text": [
      "100%|██████████| 176/176 [00:14<00:00, 11.81it/s]\n"
     ]
    },
    {
     "name": "stdout",
     "output_type": "stream",
     "text": [
      "Train Loss: 0.0022 | Train Acc: 86.50%\n",
      "Valid Loss: 0.5926 | Valid Acc: 79.56%\n",
      "Test  Loss: 0.3279 | Test Acc: 89.47%\n",
      "--------------------------------------------------\n",
      "[Epoch 497/100000] :\n"
     ]
    },
    {
     "name": "stderr",
     "output_type": "stream",
     "text": [
      "100%|██████████| 176/176 [00:14<00:00, 11.79it/s]\n"
     ]
    },
    {
     "name": "stdout",
     "output_type": "stream",
     "text": [
      "Train Loss: 0.0024 | Train Acc: 84.50%\n",
      "Valid Loss: 0.6361 | Valid Acc: 79.02%\n",
      "Test  Loss: 0.3622 | Test Acc: 88.38%\n",
      "--------------------------------------------------\n",
      "[Epoch 498/100000] :\n"
     ]
    },
    {
     "name": "stderr",
     "output_type": "stream",
     "text": [
      "100%|██████████| 176/176 [00:14<00:00, 11.92it/s]\n"
     ]
    },
    {
     "name": "stdout",
     "output_type": "stream",
     "text": [
      "Train Loss: 0.0020 | Train Acc: 87.00%\n",
      "Valid Loss: 0.6468 | Valid Acc: 79.10%\n",
      "Test  Loss: 0.3841 | Test Acc: 88.06%\n",
      "--------------------------------------------------\n",
      "[Epoch 499/100000] :\n"
     ]
    },
    {
     "name": "stderr",
     "output_type": "stream",
     "text": [
      "100%|██████████| 176/176 [00:14<00:00, 11.78it/s]\n"
     ]
    },
    {
     "name": "stdout",
     "output_type": "stream",
     "text": [
      "Train Loss: 0.0020 | Train Acc: 88.00%\n",
      "Valid Loss: 0.5269 | Valid Acc: 81.64%\n",
      "Test  Loss: 0.2950 | Test Acc: 90.45%\n",
      "--------------------------------------------------\n",
      "[Epoch 500/100000] :\n"
     ]
    },
    {
     "name": "stderr",
     "output_type": "stream",
     "text": [
      "100%|██████████| 176/176 [00:14<00:00, 12.02it/s]\n"
     ]
    },
    {
     "name": "stdout",
     "output_type": "stream",
     "text": [
      "Train Loss: 0.0019 | Train Acc: 89.50%\n",
      "Valid Loss: 0.5857 | Valid Acc: 80.16%\n",
      "Test  Loss: 0.3593 | Test Acc: 88.67%\n",
      "--------------------------------------------------\n",
      "[Epoch 501/100000] :\n"
     ]
    },
    {
     "name": "stderr",
     "output_type": "stream",
     "text": [
      "100%|██████████| 176/176 [00:15<00:00, 11.21it/s]\n"
     ]
    },
    {
     "name": "stdout",
     "output_type": "stream",
     "text": [
      "Train Loss: 0.0025 | Train Acc: 81.00%\n",
      "Valid Loss: 0.5617 | Valid Acc: 80.82%\n",
      "Test  Loss: 0.3719 | Test Acc: 89.04%\n",
      "--------------------------------------------------\n",
      "[Epoch 502/100000] :\n"
     ]
    },
    {
     "name": "stderr",
     "output_type": "stream",
     "text": [
      "100%|██████████| 176/176 [00:14<00:00, 11.77it/s]\n"
     ]
    },
    {
     "name": "stdout",
     "output_type": "stream",
     "text": [
      "Train Loss: 0.0022 | Train Acc: 88.50%\n",
      "Valid Loss: 0.5249 | Valid Acc: 81.92%\n",
      "Test  Loss: 0.3046 | Test Acc: 89.97%\n",
      "--------------------------------------------------\n",
      "[Epoch 503/100000] :\n"
     ]
    },
    {
     "name": "stderr",
     "output_type": "stream",
     "text": [
      "100%|██████████| 176/176 [00:14<00:00, 12.06it/s]\n"
     ]
    },
    {
     "name": "stdout",
     "output_type": "stream",
     "text": [
      "Train Loss: 0.0019 | Train Acc: 91.00%\n",
      "Valid Loss: 0.6056 | Valid Acc: 79.90%\n",
      "Test  Loss: 0.3844 | Test Acc: 87.49%\n",
      "--------------------------------------------------\n",
      "[Epoch 504/100000] :\n"
     ]
    },
    {
     "name": "stderr",
     "output_type": "stream",
     "text": [
      "100%|██████████| 176/176 [00:14<00:00, 11.87it/s]\n"
     ]
    },
    {
     "name": "stdout",
     "output_type": "stream",
     "text": [
      "Train Loss: 0.0022 | Train Acc: 84.50%\n",
      "Valid Loss: 0.6039 | Valid Acc: 80.06%\n",
      "Test  Loss: 0.3643 | Test Acc: 88.39%\n",
      "--------------------------------------------------\n",
      "[Epoch 505/100000] :\n"
     ]
    },
    {
     "name": "stderr",
     "output_type": "stream",
     "text": [
      "100%|██████████| 176/176 [00:15<00:00, 11.35it/s]\n"
     ]
    },
    {
     "name": "stdout",
     "output_type": "stream",
     "text": [
      "Train Loss: 0.0022 | Train Acc: 85.00%\n",
      "Valid Loss: 0.5225 | Valid Acc: 82.44%\n",
      "Test  Loss: 0.3023 | Test Acc: 90.16%\n",
      "--------------------------------------------------\n",
      "[Epoch 506/100000] :\n"
     ]
    },
    {
     "name": "stderr",
     "output_type": "stream",
     "text": [
      "100%|██████████| 176/176 [00:14<00:00, 11.98it/s]\n"
     ]
    },
    {
     "name": "stdout",
     "output_type": "stream",
     "text": [
      "Train Loss: 0.0023 | Train Acc: 88.00%\n",
      "Valid Loss: 0.4987 | Valid Acc: 82.94%\n",
      "Test  Loss: 0.2913 | Test Acc: 90.29%\n",
      "--------------------------------------------------\n",
      "[Epoch 507/100000] :\n"
     ]
    },
    {
     "name": "stderr",
     "output_type": "stream",
     "text": [
      "100%|██████████| 176/176 [00:15<00:00, 11.69it/s]\n"
     ]
    },
    {
     "name": "stdout",
     "output_type": "stream",
     "text": [
      "Train Loss: 0.0021 | Train Acc: 84.50%\n",
      "Valid Loss: 0.5559 | Valid Acc: 81.08%\n",
      "Test  Loss: 0.3492 | Test Acc: 88.56%\n",
      "--------------------------------------------------\n",
      "[Epoch 508/100000] :\n"
     ]
    },
    {
     "name": "stderr",
     "output_type": "stream",
     "text": [
      "100%|██████████| 176/176 [00:14<00:00, 11.92it/s]\n"
     ]
    },
    {
     "name": "stdout",
     "output_type": "stream",
     "text": [
      "Train Loss: 0.0016 | Train Acc: 90.00%\n",
      "Valid Loss: 0.5693 | Valid Acc: 80.64%\n",
      "Test  Loss: 0.3410 | Test Acc: 89.41%\n",
      "--------------------------------------------------\n",
      "[Epoch 509/100000] :\n"
     ]
    },
    {
     "name": "stderr",
     "output_type": "stream",
     "text": [
      "100%|██████████| 176/176 [00:14<00:00, 11.94it/s]\n"
     ]
    },
    {
     "name": "stdout",
     "output_type": "stream",
     "text": [
      "Train Loss: 0.0024 | Train Acc: 85.00%\n",
      "Valid Loss: 0.6387 | Valid Acc: 79.12%\n",
      "Test  Loss: 0.3669 | Test Acc: 88.49%\n",
      "--------------------------------------------------\n",
      "[Epoch 510/100000] :\n"
     ]
    },
    {
     "name": "stderr",
     "output_type": "stream",
     "text": [
      "100%|██████████| 176/176 [00:14<00:00, 12.00it/s]\n"
     ]
    },
    {
     "name": "stdout",
     "output_type": "stream",
     "text": [
      "Train Loss: 0.0023 | Train Acc: 86.00%\n",
      "Valid Loss: 0.5754 | Valid Acc: 79.46%\n",
      "Test  Loss: 0.3534 | Test Acc: 88.68%\n",
      "--------------------------------------------------\n",
      "[Epoch 511/100000] :\n"
     ]
    },
    {
     "name": "stderr",
     "output_type": "stream",
     "text": [
      "100%|██████████| 176/176 [00:14<00:00, 12.00it/s]\n"
     ]
    },
    {
     "name": "stdout",
     "output_type": "stream",
     "text": [
      "Train Loss: 0.0019 | Train Acc: 89.00%\n",
      "Valid Loss: 0.5530 | Valid Acc: 80.32%\n",
      "Test  Loss: 0.3058 | Test Acc: 89.95%\n",
      "--------------------------------------------------\n",
      "[Epoch 512/100000] :\n"
     ]
    },
    {
     "name": "stderr",
     "output_type": "stream",
     "text": [
      "100%|██████████| 176/176 [00:15<00:00, 11.65it/s]\n"
     ]
    },
    {
     "name": "stdout",
     "output_type": "stream",
     "text": [
      "Train Loss: 0.0021 | Train Acc: 86.50%\n",
      "Valid Loss: 0.5409 | Valid Acc: 81.98%\n",
      "Test  Loss: 0.3174 | Test Acc: 89.66%\n",
      "--------------------------------------------------\n",
      "[Epoch 513/100000] :\n"
     ]
    },
    {
     "name": "stderr",
     "output_type": "stream",
     "text": [
      "100%|██████████| 176/176 [00:14<00:00, 11.74it/s]\n"
     ]
    },
    {
     "name": "stdout",
     "output_type": "stream",
     "text": [
      "Train Loss: 0.0025 | Train Acc: 85.50%\n",
      "Valid Loss: 0.6608 | Valid Acc: 79.14%\n",
      "Test  Loss: 0.4305 | Test Acc: 86.81%\n",
      "--------------------------------------------------\n",
      "[Epoch 514/100000] :\n"
     ]
    },
    {
     "name": "stderr",
     "output_type": "stream",
     "text": [
      "100%|██████████| 176/176 [00:15<00:00, 11.63it/s]\n"
     ]
    },
    {
     "name": "stdout",
     "output_type": "stream",
     "text": [
      "Train Loss: 0.0025 | Train Acc: 84.50%\n",
      "Valid Loss: 0.6553 | Valid Acc: 78.16%\n",
      "Test  Loss: 0.3596 | Test Acc: 88.70%\n",
      "--------------------------------------------------\n",
      "[Epoch 515/100000] :\n"
     ]
    },
    {
     "name": "stderr",
     "output_type": "stream",
     "text": [
      "100%|██████████| 176/176 [00:15<00:00, 11.59it/s]\n"
     ]
    },
    {
     "name": "stdout",
     "output_type": "stream",
     "text": [
      "Train Loss: 0.0025 | Train Acc: 83.50%\n",
      "Valid Loss: 0.5462 | Valid Acc: 81.24%\n",
      "Test  Loss: 0.3299 | Test Acc: 89.44%\n",
      "--------------------------------------------------\n",
      "[Epoch 516/100000] :\n"
     ]
    },
    {
     "name": "stderr",
     "output_type": "stream",
     "text": [
      "100%|██████████| 176/176 [00:15<00:00, 11.58it/s]\n"
     ]
    },
    {
     "name": "stdout",
     "output_type": "stream",
     "text": [
      "Train Loss: 0.0025 | Train Acc: 85.50%\n",
      "Valid Loss: 0.5433 | Valid Acc: 81.18%\n",
      "Test  Loss: 0.3214 | Test Acc: 89.03%\n",
      "--------------------------------------------------\n",
      "[Epoch 517/100000] :\n"
     ]
    },
    {
     "name": "stderr",
     "output_type": "stream",
     "text": [
      "100%|██████████| 176/176 [00:14<00:00, 11.88it/s]\n"
     ]
    },
    {
     "name": "stdout",
     "output_type": "stream",
     "text": [
      "Train Loss: 0.0022 | Train Acc: 88.00%\n",
      "Valid Loss: 0.5837 | Valid Acc: 80.34%\n",
      "Test  Loss: 0.3287 | Test Acc: 89.20%\n",
      "--------------------------------------------------\n",
      "[Epoch 518/100000] :\n"
     ]
    },
    {
     "name": "stderr",
     "output_type": "stream",
     "text": [
      "100%|██████████| 176/176 [00:14<00:00, 11.80it/s]\n"
     ]
    },
    {
     "name": "stdout",
     "output_type": "stream",
     "text": [
      "Train Loss: 0.0023 | Train Acc: 87.00%\n",
      "Valid Loss: 0.5723 | Valid Acc: 80.50%\n",
      "Test  Loss: 0.3562 | Test Acc: 88.60%\n",
      "--------------------------------------------------\n",
      "[Epoch 519/100000] :\n"
     ]
    },
    {
     "name": "stderr",
     "output_type": "stream",
     "text": [
      "100%|██████████| 176/176 [00:14<00:00, 12.00it/s]\n"
     ]
    },
    {
     "name": "stdout",
     "output_type": "stream",
     "text": [
      "Train Loss: 0.0019 | Train Acc: 88.50%\n",
      "Valid Loss: 0.6062 | Valid Acc: 79.86%\n",
      "Test  Loss: 0.3295 | Test Acc: 88.80%\n",
      "--------------------------------------------------\n",
      "[Epoch 520/100000] :\n"
     ]
    },
    {
     "name": "stderr",
     "output_type": "stream",
     "text": [
      "100%|██████████| 176/176 [00:14<00:00, 11.83it/s]\n"
     ]
    },
    {
     "name": "stdout",
     "output_type": "stream",
     "text": [
      "Train Loss: 0.0016 | Train Acc: 90.00%\n",
      "Valid Loss: 0.5941 | Valid Acc: 79.96%\n",
      "Test  Loss: 0.3478 | Test Acc: 88.95%\n",
      "--------------------------------------------------\n",
      "[Epoch 521/100000] :\n"
     ]
    },
    {
     "name": "stderr",
     "output_type": "stream",
     "text": [
      "100%|██████████| 176/176 [00:15<00:00, 11.68it/s]\n"
     ]
    },
    {
     "name": "stdout",
     "output_type": "stream",
     "text": [
      "Train Loss: 0.0020 | Train Acc: 87.50%\n",
      "Valid Loss: 0.5897 | Valid Acc: 80.34%\n",
      "Test  Loss: 0.3832 | Test Acc: 88.11%\n",
      "--------------------------------------------------\n",
      "[Epoch 522/100000] :\n"
     ]
    },
    {
     "name": "stderr",
     "output_type": "stream",
     "text": [
      "100%|██████████| 176/176 [00:14<00:00, 11.86it/s]\n"
     ]
    },
    {
     "name": "stdout",
     "output_type": "stream",
     "text": [
      "Train Loss: 0.0023 | Train Acc: 84.50%\n",
      "Valid Loss: 0.5517 | Valid Acc: 81.48%\n"
     ]
    }
   ],
   "source": [
    "Training = DoTraining(\n",
    "    model=model,\n",
    "    criterion=criterion,\n",
    "    optimizer=optimizer,\n",
    "    scaler=scaler,\n",
    "    scheduler=scheduler,\n",
    "    earlystopper=earlystopper,\n",
    "    device=device,\n",
    "    logs=logs,\n",
    "    file_path=file_path,\n",
    ")\n",
    "pre_epochs = len(Training.logs[\"train_loss\"])\n",
    "\n",
    "for epoch in range(NUM_EPOCHS):\n",
    "    now = epoch + 1 + pre_epochs\n",
    "    print(f\"[Epoch {epoch+1+pre_epochs}/{NUM_EPOCHS}] :\")\n",
    "\n",
    "    if DATASET == \"ImageNet2012\":\n",
    "        eval_loss = Training.SingleEpoch(train_dataloader, valid_dataloader)\n",
    "    else:\n",
    "        eval_loss = Training.SingleEpoch(\n",
    "            train_dataloader, valid_dataloader, test_dataloader\n",
    "        )\n",
    "\n",
    "    Training.Save()\n",
    "\n",
    "    if earlystopper.check(eval_loss) == True:\n",
    "        break\n",
    "\n",
    "    print(\"-\" * 50)"
   ]
  },
  {
   "cell_type": "code",
   "execution_count": null,
   "metadata": {},
   "outputs": [],
   "source": [
    "view = LogViewer(logs)\n",
    "view.draw()"
   ]
  },
  {
   "cell_type": "code",
   "execution_count": null,
   "metadata": {},
   "outputs": [],
   "source": [
    "view.print_all()"
   ]
  },
  {
   "cell_type": "code",
   "execution_count": null,
   "metadata": {},
   "outputs": [],
   "source": [
    "# CHECK = 5410\n",
    "# logs[\"train_loss\"] = logs[\"train_loss\"][:CHECK]\n",
    "# logs[\"train_acc\"] = logs[\"train_acc\"][:CHECK]\n",
    "# logs[\"valid_loss\"] = logs[\"valid_loss\"][:CHECK]\n",
    "# logs[\"valid_acc\"] = logs[\"valid_acc\"][:CHECK]\n",
    "# logs[\"test_loss\"] = logs[\"test_loss\"][:CHECK]\n",
    "# logs[\"test_acc\"] = logs[\"test_acc\"][:CHECK]\n",
    "# model.load_state_dict(torch.load(f\"models/{file_path}.pth\"))"
   ]
  }
 ],
 "metadata": {
  "kernelspec": {
   "display_name": "base",
   "language": "python",
   "name": "python3"
  },
  "language_info": {
   "codemirror_mode": {
    "name": "ipython",
    "version": 3
   },
   "file_extension": ".py",
   "mimetype": "text/x-python",
   "name": "python",
   "nbconvert_exporter": "python",
   "pygments_lexer": "ipython3",
   "version": "3.11.5"
  }
 },
 "nbformat": 4,
 "nbformat_minor": 2
}
